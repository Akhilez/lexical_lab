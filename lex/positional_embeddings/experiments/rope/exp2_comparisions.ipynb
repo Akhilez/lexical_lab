{
 "cells": [
  {
   "metadata": {},
   "cell_type": "markdown",
   "source": [
    "# Comparing RoPE with Sinusoidal Embeddings\n",
    "\n",
    "We compare in these ways:\n",
    "1. How is the attention score when the absolute position changes, but relative position doesn't.\n",
    "2. How is the attention score when the positions are closer vs farther apart?\n",
    "\n",
    "We compare the following embeddings:\n",
    "1. No positional embeddings\n",
    "2. Sinusoidal embeddings\n",
    "3. RoPE embeddings"
   ],
   "id": "a59580a7a951be00"
  },
  {
   "metadata": {
    "ExecuteTime": {
     "end_time": "2025-02-04T19:00:19.215038Z",
     "start_time": "2025-02-04T19:00:19.208510Z"
    }
   },
   "cell_type": "code",
   "source": [
    "import torch\n",
    "from matplotlib import pyplot as plt\n",
    "\n",
    "from lex.positional_embeddings.experiments.rope.llama_rope import precompute_freqs_cis, apply_rotary_emb"
   ],
   "id": "3474fb521b6de89f",
   "outputs": [],
   "execution_count": 110
  },
  {
   "metadata": {
    "ExecuteTime": {
     "end_time": "2025-02-04T18:16:21.418135Z",
     "start_time": "2025-02-04T18:16:21.415652Z"
    }
   },
   "cell_type": "code",
   "source": [
    "# Let's create some embeddings first.\n",
    "\n",
    "dim = 8\n",
    "vocab_size = 5\n",
    "max_seq_len = 32\n",
    "seq_len = 5\n",
    "\n",
    "embeddings_map = {\n",
    "    \"i\": torch.rand(dim),\n",
    "    \"love\": torch.rand(dim),\n",
    "    \"dogs\": torch.rand(dim),\n",
    "    \"and\": torch.rand(dim),\n",
    "    \"cats\": torch.rand(dim),\n",
    "}"
   ],
   "id": "99a742246ad8cc9c",
   "outputs": [],
   "execution_count": 58
  },
  {
   "metadata": {
    "ExecuteTime": {
     "end_time": "2025-02-04T19:14:20.449159Z",
     "start_time": "2025-02-04T19:14:20.442479Z"
    }
   },
   "cell_type": "code",
   "source": [
    "# Let's create a function to calculate the attention score.\n",
    "def attention_score(qs, ks, mask=None):\n",
    "    # qs: (batch, seq_len, dim)\n",
    "    # ks: (batch, seq_len, dim)\n",
    "    # mask: (batch, seq_len, seq_len)\n",
    "    # Return: (batch, seq_len, seq_len)\n",
    "\n",
    "    ks_T = ks.transpose(1, 2)  # (batch, dim, seq_len)\n",
    "\n",
    "    # Compute raw attention scores using dot product\n",
    "    scores = torch.matmul(qs, ks_T)  # (batch, seq_len, seq_len)\n",
    "\n",
    "    # Scale by the square root of the dimension\n",
    "    dim_k = qs.size(-1)\n",
    "    scaled_scores = scores / torch.sqrt(torch.tensor(dim_k, dtype=torch.float32))\n",
    "\n",
    "    # Apply mask if provided (use a large negative number for masked positions)\n",
    "    if mask is not None:\n",
    "        scaled_scores = scaled_scores.masked_fill(mask == 0, float('-inf'))\n",
    "\n",
    "    # Compute softmax to get attention weights\n",
    "    # scaled_scores = torch.softmax(scaled_scores, dim=-1)\n",
    "\n",
    "    return scaled_scores\n",
    "\n",
    "\n",
    "# Create a mask for the attention score.\n",
    "mask = torch.ones(1, 5, 5)\n",
    "mask = mask.tril()  # (batch, seq_len, seq_len)\n",
    "mask"
   ],
   "id": "7413ef66837b835d",
   "outputs": [
    {
     "data": {
      "text/plain": [
       "tensor([[[1., 0., 0., 0., 0.],\n",
       "         [1., 1., 0., 0., 0.],\n",
       "         [1., 1., 1., 0., 0.],\n",
       "         [1., 1., 1., 1., 0.],\n",
       "         [1., 1., 1., 1., 1.]]])"
      ]
     },
     "execution_count": 184,
     "metadata": {},
     "output_type": "execute_result"
    }
   ],
   "execution_count": 184
  },
  {
   "metadata": {
    "ExecuteTime": {
     "end_time": "2025-02-04T19:14:20.653161Z",
     "start_time": "2025-02-04T19:14:20.649525Z"
    }
   },
   "cell_type": "code",
   "source": [
    "sentence = \"i love dogs and cats\"\n",
    "embeddings = torch.stack([embeddings_map[token] for token in sentence.split(\" \")]).unsqueeze(0)\n",
    "embeddings.shape"
   ],
   "id": "66bf440f7183a0a5",
   "outputs": [
    {
     "data": {
      "text/plain": [
       "torch.Size([1, 5, 8])"
      ]
     },
     "execution_count": 185,
     "metadata": {},
     "output_type": "execute_result"
    }
   ],
   "execution_count": 185
  },
  {
   "metadata": {
    "ExecuteTime": {
     "end_time": "2025-02-04T19:14:20.905091Z",
     "start_time": "2025-02-04T19:14:20.901977Z"
    }
   },
   "cell_type": "code",
   "source": "attention_score(embeddings, embeddings, mask=mask)",
   "id": "dbf30eea18ca897e",
   "outputs": [
    {
     "data": {
      "text/plain": [
       "tensor([[[0.5695,   -inf,   -inf,   -inf,   -inf],\n",
       "         [0.5899, 0.7930,   -inf,   -inf,   -inf],\n",
       "         [0.8894, 0.8344, 1.5451,   -inf,   -inf],\n",
       "         [0.8474, 0.8302, 1.3757, 1.4384,   -inf],\n",
       "         [0.8507, 0.8157, 1.4519, 1.4035, 1.4893]]])"
      ]
     },
     "execution_count": 186,
     "metadata": {},
     "output_type": "execute_result"
    }
   ],
   "execution_count": 186
  },
  {
   "metadata": {},
   "cell_type": "markdown",
   "source": [
    "These are the raw attention scores with no positional embeddings.\n",
    "\n",
    "If we change the positions, they are still gonna be the same.\n",
    "\n",
    "Let's change the positions to \"i love cats and dogs\".\n",
    "i.e. the 2nd and 4th tokens are swapped."
   ],
   "id": "3f0051689c9f632f"
  },
  {
   "metadata": {
    "ExecuteTime": {
     "end_time": "2025-02-04T19:14:21.060786Z",
     "start_time": "2025-02-04T19:14:21.055734Z"
    }
   },
   "cell_type": "code",
   "source": [
    "sentence = \"i love cats and dogs\"\n",
    "embeddings = torch.stack([embeddings_map[token] for token in sentence.split(\" \")]).unsqueeze(0)\n",
    "attention_score(embeddings, embeddings, mask=mask)"
   ],
   "id": "639fd9e119820719",
   "outputs": [
    {
     "data": {
      "text/plain": [
       "tensor([[[0.5695,   -inf,   -inf,   -inf,   -inf],\n",
       "         [0.5899, 0.7930,   -inf,   -inf,   -inf],\n",
       "         [0.8507, 0.8157, 1.4893,   -inf,   -inf],\n",
       "         [0.8474, 0.8302, 1.4035, 1.4384,   -inf],\n",
       "         [0.8894, 0.8344, 1.4519, 1.3757, 1.5451]]])"
      ]
     },
     "execution_count": 187,
     "metadata": {},
     "output_type": "execute_result"
    }
   ],
   "execution_count": 187
  },
  {
   "metadata": {},
   "cell_type": "markdown",
   "source": [
    "The attention value at `(4, 2)` before and after is the same.\n",
    "\n",
    "So here positions don't matter. They are a bag of tokens.\n",
    "\n",
    "**Attention vs Position**\n",
    "\n",
    "We should expect equal attention at all positions."
   ],
   "id": "bcbbbd41121309e"
  },
  {
   "metadata": {
    "ExecuteTime": {
     "end_time": "2025-02-04T19:14:21.751370Z",
     "start_time": "2025-02-04T19:14:21.128401Z"
    }
   },
   "cell_type": "code",
   "source": [
    "tokens = [\"dogs\"] * 32\n",
    "embeddings = torch.stack([embeddings_map[token] for token in tokens]).unsqueeze(0)\n",
    "scores = attention_score(embeddings, embeddings)\n",
    "plt.imshow(scores[0], cmap=\"gray\")"
   ],
   "id": "2e9d27289a850ec4",
   "outputs": [
    {
     "data": {
      "text/plain": [
       "<matplotlib.image.AxesImage at 0x12745f6a0>"
      ]
     },
     "execution_count": 188,
     "metadata": {},
     "output_type": "execute_result"
    },
    {
     "data": {
      "text/plain": [
       "<Figure size 640x480 with 1 Axes>"
      ],
      "image/png": "[encoded data removed]"
     },
     "metadata": {},
     "output_type": "display_data"
    }
   ],
   "execution_count": 188
  },
  {
   "metadata": {},
   "cell_type": "markdown",
   "source": "## Using Sinusoidal Embeddings",
   "id": "b7daca7ec1acb09"
  },
  {
   "metadata": {
    "ExecuteTime": {
     "end_time": "2025-02-04T19:14:21.814576Z",
     "start_time": "2025-02-04T19:14:21.768829Z"
    }
   },
   "cell_type": "code",
   "source": [
    "pe = torch.zeros(max_seq_len, dim)\n",
    "position = torch.arange(0, max_seq_len).unsqueeze(1)\n",
    "div_term = torch.exp((torch.arange(0, dim, 2, dtype=torch.float) * -(torch.log(torch.tensor(10000.0)) / dim)))\n",
    "pe[:, 0::2] = torch.sin(position.float() * div_term)\n",
    "pe[:, 1::2] = torch.cos(position.float() * div_term)\n",
    "\n",
    "plt.imshow(pe, cmap=\"gray\")\n",
    "\n",
    "print(pe.shape)\n",
    "pe"
   ],
   "id": "ee3f047fad31bf66",
   "outputs": [
    {
     "name": "stdout",
     "output_type": "stream",
     "text": [
      "torch.Size([32, 8])\n"
     ]
    },
    {
     "data": {
      "text/plain": [
       "tensor([[ 0.0000e+00,  1.0000e+00,  0.0000e+00,  1.0000e+00,  0.0000e+00,\n",
       "          1.0000e+00,  0.0000e+00,  1.0000e+00],\n",
       "        [ 8.4147e-01,  5.4030e-01,  9.9833e-02,  9.9500e-01,  9.9998e-03,\n",
       "          9.9995e-01,  1.0000e-03,  1.0000e+00],\n",
       "        [ 9.0930e-01, -4.1615e-01,  1.9867e-01,  9.8007e-01,  1.9999e-02,\n",
       "          9.9980e-01,  2.0000e-03,  1.0000e+00],\n",
       "        [ 1.4112e-01, -9.8999e-01,  2.9552e-01,  9.5534e-01,  2.9995e-02,\n",
       "          9.9955e-01,  3.0000e-03,  1.0000e+00],\n",
       "        [-7.5680e-01, -6.5364e-01,  3.8942e-01,  9.2106e-01,  3.9989e-02,\n",
       "          9.9920e-01,  4.0000e-03,  9.9999e-01],\n",
       "        [-9.5892e-01,  2.8366e-01,  4.7943e-01,  8.7758e-01,  4.9979e-02,\n",
       "          9.9875e-01,  5.0000e-03,  9.9999e-01],\n",
       "        [-2.7942e-01,  9.6017e-01,  5.6464e-01,  8.2534e-01,  5.9964e-02,\n",
       "          9.9820e-01,  6.0000e-03,  9.9998e-01],\n",
       "        [ 6.5699e-01,  7.5390e-01,  6.4422e-01,  7.6484e-01,  6.9943e-02,\n",
       "          9.9755e-01,  6.9999e-03,  9.9998e-01],\n",
       "        [ 9.8936e-01, -1.4550e-01,  7.1736e-01,  6.9671e-01,  7.9915e-02,\n",
       "          9.9680e-01,  7.9999e-03,  9.9997e-01],\n",
       "        [ 4.1212e-01, -9.1113e-01,  7.8333e-01,  6.2161e-01,  8.9879e-02,\n",
       "          9.9595e-01,  8.9999e-03,  9.9996e-01],\n",
       "        [-5.4402e-01, -8.3907e-01,  8.4147e-01,  5.4030e-01,  9.9833e-02,\n",
       "          9.9500e-01,  9.9998e-03,  9.9995e-01],\n",
       "        [-9.9999e-01,  4.4257e-03,  8.9121e-01,  4.5360e-01,  1.0978e-01,\n",
       "          9.9396e-01,  1.1000e-02,  9.9994e-01],\n",
       "        [-5.3657e-01,  8.4385e-01,  9.3204e-01,  3.6236e-01,  1.1971e-01,\n",
       "          9.9281e-01,  1.2000e-02,  9.9993e-01],\n",
       "        [ 4.2017e-01,  9.0745e-01,  9.6356e-01,  2.6750e-01,  1.2963e-01,\n",
       "          9.9156e-01,  1.3000e-02,  9.9992e-01],\n",
       "        [ 9.9061e-01,  1.3674e-01,  9.8545e-01,  1.6997e-01,  1.3954e-01,\n",
       "          9.9022e-01,  1.4000e-02,  9.9990e-01],\n",
       "        [ 6.5029e-01, -7.5969e-01,  9.9749e-01,  7.0737e-02,  1.4944e-01,\n",
       "          9.8877e-01,  1.4999e-02,  9.9989e-01],\n",
       "        [-2.8790e-01, -9.5766e-01,  9.9957e-01, -2.9199e-02,  1.5932e-01,\n",
       "          9.8723e-01,  1.5999e-02,  9.9987e-01],\n",
       "        [-9.6140e-01, -2.7516e-01,  9.9166e-01, -1.2884e-01,  1.6918e-01,\n",
       "          9.8558e-01,  1.6999e-02,  9.9986e-01],\n",
       "        [-7.5099e-01,  6.6032e-01,  9.7385e-01, -2.2720e-01,  1.7903e-01,\n",
       "          9.8384e-01,  1.7999e-02,  9.9984e-01],\n",
       "        [ 1.4988e-01,  9.8870e-01,  9.4630e-01, -3.2329e-01,  1.8886e-01,\n",
       "          9.8200e-01,  1.8999e-02,  9.9982e-01],\n",
       "        [ 9.1295e-01,  4.0808e-01,  9.0930e-01, -4.1615e-01,  1.9867e-01,\n",
       "          9.8007e-01,  1.9999e-02,  9.9980e-01],\n",
       "        [ 8.3666e-01, -5.4773e-01,  8.6321e-01, -5.0485e-01,  2.0846e-01,\n",
       "          9.7803e-01,  2.0998e-02,  9.9978e-01],\n",
       "        [-8.8513e-03, -9.9996e-01,  8.0850e-01, -5.8850e-01,  2.1823e-01,\n",
       "          9.7590e-01,  2.1998e-02,  9.9976e-01],\n",
       "        [-8.4622e-01, -5.3283e-01,  7.4571e-01, -6.6628e-01,  2.2798e-01,\n",
       "          9.7367e-01,  2.2998e-02,  9.9974e-01],\n",
       "        [-9.0558e-01,  4.2418e-01,  6.7546e-01, -7.3739e-01,  2.3770e-01,\n",
       "          9.7134e-01,  2.3998e-02,  9.9971e-01],\n",
       "        [-1.3235e-01,  9.9120e-01,  5.9847e-01, -8.0114e-01,  2.4740e-01,\n",
       "          9.6891e-01,  2.4997e-02,  9.9969e-01],\n",
       "        [ 7.6256e-01,  6.4692e-01,  5.1550e-01, -8.5689e-01,  2.5708e-01,\n",
       "          9.6639e-01,  2.5997e-02,  9.9966e-01],\n",
       "        [ 9.5638e-01, -2.9214e-01,  4.2738e-01, -9.0407e-01,  2.6673e-01,\n",
       "          9.6377e-01,  2.6997e-02,  9.9964e-01],\n",
       "        [ 2.7091e-01, -9.6261e-01,  3.3499e-01, -9.4222e-01,  2.7636e-01,\n",
       "          9.6106e-01,  2.7996e-02,  9.9961e-01],\n",
       "        [-6.6363e-01, -7.4806e-01,  2.3925e-01, -9.7096e-01,  2.8595e-01,\n",
       "          9.5824e-01,  2.8996e-02,  9.9958e-01],\n",
       "        [-9.8803e-01,  1.5425e-01,  1.4112e-01, -9.8999e-01,  2.9552e-01,\n",
       "          9.5534e-01,  2.9995e-02,  9.9955e-01],\n",
       "        [-4.0404e-01,  9.1474e-01,  4.1581e-02, -9.9914e-01,  3.0506e-01,\n",
       "          9.5233e-01,  3.0995e-02,  9.9952e-01]])"
      ]
     },
     "execution_count": 189,
     "metadata": {},
     "output_type": "execute_result"
    },
    {
     "data": {
      "text/plain": [
       "<Figure size 640x480 with 1 Axes>"
      ],
      "image/png": "[encoded data removed]"
     },
     "metadata": {},
     "output_type": "display_data"
    }
   ],
   "execution_count": 189
  },
  {
   "metadata": {
    "ExecuteTime": {
     "end_time": "2025-02-04T19:14:21.828886Z",
     "start_time": "2025-02-04T19:14:21.825779Z"
    }
   },
   "cell_type": "code",
   "source": [
    "sentence = \"i love dogs and cats\"\n",
    "embeddings = torch.stack([embeddings_map[token] for token in sentence.split(\" \")]).unsqueeze(0)\n",
    "embeddings.shape"
   ],
   "id": "1c2bc10aec5c5d7",
   "outputs": [
    {
     "data": {
      "text/plain": [
       "torch.Size([1, 5, 8])"
      ]
     },
     "execution_count": 190,
     "metadata": {},
     "output_type": "execute_result"
    }
   ],
   "execution_count": 190
  },
  {
   "metadata": {
    "ExecuteTime": {
     "end_time": "2025-02-04T19:14:21.862940Z",
     "start_time": "2025-02-04T19:14:21.859648Z"
    }
   },
   "cell_type": "code",
   "source": [
    "embeddings_sinusoidal = embeddings + pe[:seq_len].unsqueeze(0)\n",
    "embeddings_sinusoidal.shape"
   ],
   "id": "b1256e099b9a3d35",
   "outputs": [
    {
     "data": {
      "text/plain": [
       "torch.Size([1, 5, 8])"
      ]
     },
     "execution_count": 191,
     "metadata": {},
     "output_type": "execute_result"
    }
   ],
   "execution_count": 191
  },
  {
   "metadata": {
    "ExecuteTime": {
     "end_time": "2025-02-04T19:14:21.900707Z",
     "start_time": "2025-02-04T19:14:21.896695Z"
    }
   },
   "cell_type": "code",
   "source": "attention_score(embeddings_sinusoidal, embeddings_sinusoidal, mask=mask)",
   "id": "a53e6a8d89b23e08",
   "outputs": [
    {
     "data": {
      "text/plain": [
       "tensor([[[3.2242,   -inf,   -inf,   -inf,   -inf],\n",
       "         [3.0212, 3.2669,   -inf,   -inf,   -inf],\n",
       "         [3.4471, 3.6114, 5.0528,   -inf,   -inf],\n",
       "         [2.8961, 2.9469, 4.4883, 4.6725,   -inf],\n",
       "         [3.0036, 2.8163, 4.2608, 4.4612, 4.5511]]])"
      ]
     },
     "execution_count": 192,
     "metadata": {},
     "output_type": "execute_result"
    }
   ],
   "execution_count": 192
  },
  {
   "metadata": {},
   "cell_type": "markdown",
   "source": "\"cats\" attention to \"dogs\" is in [4, 2] position.",
   "id": "bf515ddaf19f22f7"
  },
  {
   "metadata": {
    "ExecuteTime": {
     "end_time": "2025-02-04T19:14:21.929485Z",
     "start_time": "2025-02-04T19:14:21.925705Z"
    }
   },
   "cell_type": "code",
   "source": [
    "sentence = \"dogs and cats i love\"\n",
    "embeddings = torch.stack([embeddings_map[token] for token in sentence.split(\" \")]).unsqueeze(0)\n",
    "embeddings_sinusoidal = embeddings + pe[:seq_len].unsqueeze(0)\n",
    "attention_score(embeddings_sinusoidal, embeddings_sinusoidal, mask=mask)"
   ],
   "id": "778db7b214e791f8",
   "outputs": [
    {
     "data": {
      "text/plain": [
       "tensor([[[5.3133,   -inf,   -inf,   -inf,   -inf],\n",
       "         [4.8493, 5.0376,   -inf,   -inf,   -inf],\n",
       "         [4.3698, 4.8248, 5.1359,   -inf,   -inf],\n",
       "         [3.0300, 3.2754, 3.5300, 2.6971,   -inf],\n",
       "         [2.9919, 2.9075, 2.8466, 2.3444, 2.5500]]])"
      ]
     },
     "execution_count": 193,
     "metadata": {},
     "output_type": "execute_result"
    }
   ],
   "execution_count": 193
  },
  {
   "metadata": {},
   "cell_type": "markdown",
   "source": [
    "\"cats\" attention to \"dogs\" is in [2, 0] position.\n",
    "\n",
    "Here, the absolute positions have changed, but the relative positions didn't.\n",
    "However, the attention score has changed.\n",
    "\n",
    "**Attention vs Distance**\n",
    "\n",
    "Let's check how the attention changes with distance.\n",
    "\n",
    "I'll take the sentence \"dogs dogs dogs ...\".\n",
    "Then it's easy to check the attention score at different positions."
   ],
   "id": "ae2e920a40600c7c"
  },
  {
   "metadata": {
    "ExecuteTime": {
     "end_time": "2025-02-04T19:14:22.007341Z",
     "start_time": "2025-02-04T19:14:21.953968Z"
    }
   },
   "cell_type": "code",
   "source": [
    "tokens = [\"dogs\"] * 32\n",
    "embeddings = torch.stack([embeddings_map[token] for token in tokens]).unsqueeze(0)\n",
    "embeddings_sinusoidal = embeddings + pe[:len(tokens)].unsqueeze(0)\n",
    "scores = attention_score(embeddings_sinusoidal, embeddings_sinusoidal)\n",
    "plt.imshow(scores[0], cmap=\"gray\")"
   ],
   "id": "9867cc403f571ee7",
   "outputs": [
    {
     "data": {
      "text/plain": [
       "<matplotlib.image.AxesImage at 0x12709dd30>"
      ]
     },
     "execution_count": 194,
     "metadata": {},
     "output_type": "execute_result"
    },
    {
     "data": {
      "text/plain": [
       "<Figure size 640x480 with 1 Axes>"
      ],
      "image/png": "[encoded data removed]"
     },
     "metadata": {},
     "output_type": "display_data"
    }
   ],
   "execution_count": 194
  },
  {
   "metadata": {},
   "cell_type": "markdown",
   "source": [
    "The attention has a pattern, but there's little dependency to the distance.\n",
    "\n",
    "Ideally, we want higher attention to closer tokens and lower attention to farther tokens."
   ],
   "id": "ab811cdbee808bc3"
  },
  {
   "metadata": {},
   "cell_type": "markdown",
   "source": "## Using RoPE",
   "id": "56f172b02c76851"
  },
  {
   "metadata": {
    "ExecuteTime": {
     "end_time": "2025-02-04T19:14:22.019888Z",
     "start_time": "2025-02-04T19:14:22.016865Z"
    }
   },
   "cell_type": "code",
   "source": [
    "cis = precompute_freqs_cis(dim, max_seq_len)\n",
    "cis.shape"
   ],
   "id": "15a19a01955caf7f",
   "outputs": [
    {
     "data": {
      "text/plain": [
       "torch.Size([32, 4])"
      ]
     },
     "execution_count": 195,
     "metadata": {},
     "output_type": "execute_result"
    }
   ],
   "execution_count": 195
  },
  {
   "metadata": {
    "ExecuteTime": {
     "end_time": "2025-02-04T19:14:22.066338Z",
     "start_time": "2025-02-04T19:14:22.063064Z"
    }
   },
   "cell_type": "code",
   "source": [
    "sentence = \"i love dogs and cats\"\n",
    "embeddings = torch.stack([embeddings_map[token] for token in sentence.split(\" \")]).unsqueeze(0).unsqueeze(2)\n",
    "embeddings.shape"
   ],
   "id": "e88292000f502cff",
   "outputs": [
    {
     "data": {
      "text/plain": [
       "torch.Size([1, 5, 1, 8])"
      ]
     },
     "execution_count": 196,
     "metadata": {},
     "output_type": "execute_result"
    }
   ],
   "execution_count": 196
  },
  {
   "metadata": {
    "ExecuteTime": {
     "end_time": "2025-02-04T19:14:22.091737Z",
     "start_time": "2025-02-04T19:14:22.087319Z"
    }
   },
   "cell_type": "code",
   "source": [
    "embeddings_rope, _ = apply_rotary_emb(embeddings, embeddings, cis[:seq_len])\n",
    "embeddings_rope = embeddings_rope.squeeze(2)\n",
    "\n",
    "print(embeddings_rope[0])\n",
    "\n",
    "embeddings_rope.shape"
   ],
   "id": "5e6d4691743add75",
   "outputs": [
    {
     "name": "stdout",
     "output_type": "stream",
     "text": [
      "tensor([[ 0.1506,  0.4874,  0.7031,  0.4262,  0.4590,  0.3789,  0.3272,  0.4617],\n",
      "        [-0.5493,  0.5731,  0.7705,  0.8468,  0.4390,  0.0411,  0.3261,  0.0378],\n",
      "        [-0.7513,  0.1167,  0.6008,  0.9337,  0.4943,  1.0006,  0.6976,  0.9096],\n",
      "        [-0.3925, -0.2282,  0.6162,  1.2312,  0.8126,  0.6674,  0.2123,  0.9033],\n",
      "        [-0.2224, -0.5411,  0.5281,  1.2451,  0.5131,  0.7162,  0.6609,  0.9100]])\n"
     ]
    },
    {
     "data": {
      "text/plain": [
       "torch.Size([1, 5, 8])"
      ]
     },
     "execution_count": 197,
     "metadata": {},
     "output_type": "execute_result"
    }
   ],
   "execution_count": 197
  },
  {
   "metadata": {
    "ExecuteTime": {
     "end_time": "2025-02-04T19:14:22.116114Z",
     "start_time": "2025-02-04T19:14:22.112323Z"
    }
   },
   "cell_type": "code",
   "source": "attention_score(embeddings_rope, embeddings_rope, mask=mask)",
   "id": "926aed02cfc4b348",
   "outputs": [
    {
     "data": {
      "text/plain": [
       "tensor([[[0.5695,   -inf,   -inf,   -inf,   -inf],\n",
       "         [0.5093, 0.7930,   -inf,   -inf,   -inf],\n",
       "         [0.7136, 0.7966, 1.5451,   -inf,   -inf],\n",
       "         [0.6718, 0.7388, 1.3531, 1.4384,   -inf],\n",
       "         [0.6180, 0.6285, 1.3586, 1.3882, 1.4893]]])"
      ]
     },
     "execution_count": 198,
     "metadata": {},
     "output_type": "execute_result"
    }
   ],
   "execution_count": 198
  },
  {
   "metadata": {},
   "cell_type": "markdown",
   "source": "The attention score of \"cats\" on \"dogs\" is in [4, 2] position.",
   "id": "4d726e3f92187f77"
  },
  {
   "metadata": {
    "ExecuteTime": {
     "end_time": "2025-02-04T19:14:22.144353Z",
     "start_time": "2025-02-04T19:14:22.140007Z"
    }
   },
   "cell_type": "code",
   "source": [
    "sentence = \"dogs and cats i love\"\n",
    "embeddings = torch.stack([embeddings_map[token] for token in sentence.split(\" \")]).unsqueeze(0).unsqueeze(2)\n",
    "embeddings_rope, _ = apply_rotary_emb(embeddings, embeddings, cis[:seq_len])\n",
    "embeddings_rope = embeddings_rope.squeeze(2)\n",
    "attention_score(embeddings_rope, embeddings_rope, mask=mask)"
   ],
   "id": "68ac80e3b48b6924",
   "outputs": [
    {
     "data": {
      "text/plain": [
       "tensor([[[1.5451,   -inf,   -inf,   -inf,   -inf],\n",
       "         [1.3531, 1.4384,   -inf,   -inf,   -inf],\n",
       "         [1.3586, 1.3882, 1.4893,   -inf,   -inf],\n",
       "         [0.6346, 0.7225, 0.7575, 0.5695,   -inf],\n",
       "         [0.5401, 0.6101, 0.5613, 0.5093, 0.7930]]])"
      ]
     },
     "execution_count": 199,
     "metadata": {},
     "output_type": "execute_result"
    }
   ],
   "execution_count": 199
  },
  {
   "metadata": {},
   "cell_type": "markdown",
   "source": [
    "Attention of \"cats\" on \"dogs\" is in [2, 0] position.\n",
    "\n",
    "This is exactly the same value as \"i love dogs and cats\" sentence.\n",
    "\n",
    "**Attention vs Distance**"
   ],
   "id": "806a2331f59a4ac"
  },
  {
   "metadata": {
    "ExecuteTime": {
     "end_time": "2025-02-04T19:14:22.218195Z",
     "start_time": "2025-02-04T19:14:22.164450Z"
    }
   },
   "cell_type": "code",
   "source": [
    "tokens = [\"dogs\"] * 32\n",
    "embeddings = torch.stack([embeddings_map[token] for token in tokens]).unsqueeze(0).unsqueeze(2)\n",
    "embeddings_rope, _ = apply_rotary_emb(embeddings, embeddings, cis)\n",
    "embeddings_rope = embeddings_rope.squeeze(2)\n",
    "scores = attention_score(embeddings_rope, embeddings_rope)\n",
    "plt.imshow(scores[0], cmap=\"gray\")"
   ],
   "id": "58eb564aaa556f82",
   "outputs": [
    {
     "data": {
      "text/plain": [
       "<matplotlib.image.AxesImage at 0x320f6d0d0>"
      ]
     },
     "execution_count": 200,
     "metadata": {},
     "output_type": "execute_result"
    },
    {
     "data": {
      "text/plain": [
       "<Figure size 640x480 with 1 Axes>"
      ],
      "image/png": "[encoded data removed]"
     },
     "metadata": {},
     "output_type": "display_data"
    }
   ],
   "execution_count": 200
  },
  {
   "metadata": {},
   "cell_type": "markdown",
   "source": [
    "The attention score is loosely dependent on the distance.\n",
    "\n",
    "Although it is not monotonous decay, it is better than sinusoidal embeddings."
   ],
   "id": "ace8db1ae7584e32"
  }
 ],
 "metadata": {
  "kernelspec": {
   "display_name": "Python 3",
   "language": "python",
   "name": "python3"
  },
  "language_info": {
   "codemirror_mode": {
    "name": "ipython",
    "version": 2
   },
   "file_extension": ".py",
   "mimetype": "text/x-python",
   "name": "python",
   "nbconvert_exporter": "python",
   "pygments_lexer": "ipython2",
   "version": "2.7.6"
  }
 },
 "nbformat": 4,
 "nbformat_minor": 5
}
