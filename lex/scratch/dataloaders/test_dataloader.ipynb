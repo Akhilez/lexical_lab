{
 "cells": [
  {
   "metadata": {
    "ExecuteTime": {
     "end_time": "2024-08-17T04:21:17.223041Z",
     "start_time": "2024-08-17T04:21:15.492678Z"
    }
   },
   "cell_type": "code",
   "source": [
    "%load_ext autoreload\n",
    "\n",
    "import json\n",
    "import numpy as np\n",
    "from os.path import join\n",
    "\n",
    "import torch"
   ],
   "id": "ced11c66e73299b5",
   "outputs": [
    {
     "name": "stdout",
     "output_type": "stream",
     "text": [
      "The autoreload extension is already loaded. To reload it, use:\n",
      "  %reload_ext autoreload\n"
     ]
    }
   ],
   "execution_count": 79
  },
  {
   "metadata": {
    "ExecuteTime": {
     "end_time": "2024-08-17T04:04:34.029954Z",
     "start_time": "2024-08-17T04:04:34.002879Z"
    }
   },
   "cell_type": "code",
   "source": [
    "data_root = \"/mnt/ssd/data/fineweb-edu-10BT/llama-tokenizer-debug\"\n",
    "mode = \"train\"  # train|val|test\n",
    "batch_size = 4\n",
    "sequence_length = 128\n",
    "\n",
    "# Load dataset metadata\n",
    "metadata_path = join(data_root, 'metadata.json')\n",
    "with open(metadata_path, 'r') as f:\n",
    "    metadata = json.load(f)\n",
    "\n",
    "shard_id = metadata[f\"{mode}_shards\"][1]\n",
    "shard = np.load(join(data_root, f\"tokens_shard_{shard_id:03d}.npy\"))  # (n,)\n",
    "\n",
    "if mode == \"train\":\n",
    "    # Call shuffle\n",
    "    bos_token = 1\n",
    "    bos_indices = np.where(shard == bos_token)[0]\n",
    "    shard_splits = np.split(shard, bos_indices[1:])\n",
    "    np.random.shuffle(shard_splits)\n",
    "    shard = np.concatenate(shard_splits)  # (n,)"
   ],
   "id": "2333c518f794ce79",
   "outputs": [],
   "execution_count": 63
  },
  {
   "metadata": {
    "ExecuteTime": {
     "end_time": "2024-08-17T04:04:34.927166Z",
     "start_time": "2024-08-17T04:04:34.922458Z"
    }
   },
   "cell_type": "code",
   "source": [
    "_num_sequences = len(shard) // sequence_length\n",
    "if len(shard) % sequence_length == 0:\n",
    "    _num_sequences -= 1\n",
    "_num_batches = np.ceil(_num_sequences / batch_size).astype(int)"
   ],
   "id": "b04111f33b539a6c",
   "outputs": [],
   "execution_count": 64
  },
  {
   "metadata": {
    "ExecuteTime": {
     "end_time": "2024-08-17T04:25:09.780104Z",
     "start_time": "2024-08-17T04:25:09.771699Z"
    }
   },
   "cell_type": "code",
   "source": "metadata",
   "id": "a33a5950b01b67dc",
   "outputs": [
    {
     "data": {
      "text/plain": [
       "{'dataset_name': 'fineweb-edu-10BT',\n",
       " 'tokenizer_name': 'hf-internal-testing/llama-tokenizer',\n",
       " 'max_tokens_per_shard': 10000,\n",
       " 'num_training_tokens': 36963,\n",
       " 'train_shards': [1, 0, 3, 2],\n",
       " 'validation_shards': [],\n",
       " 'test_shards': [4],\n",
       " 'num_shards': 5,\n",
       " 'num_tokens': [9928, 9082, 9630, 8323, 9655],\n",
       " 'num_documents': [8, 14, 12, 7, 10]}"
      ]
     },
     "execution_count": 88,
     "metadata": {},
     "output_type": "execute_result"
    }
   ],
   "execution_count": 88
  },
  {
   "metadata": {
    "ExecuteTime": {
     "end_time": "2024-08-17T04:49:48.590597Z",
     "start_time": "2024-08-17T04:49:48.578595Z"
    }
   },
   "cell_type": "code",
   "source": [
    "class SingleShardDataLoader:\n",
    "    \"\"\"Use this only for debugging\"\"\"\n",
    "\n",
    "    def __init__(self, data_root, mode, batch_size, sequence_length):\n",
    "        self.mode = mode  # train|validation|test\n",
    "        self.batch_size = batch_size\n",
    "        self.sequence_length = sequence_length\n",
    "\n",
    "        # Load dataset metadata\n",
    "        with open(join(data_root, 'metadata.json'), 'r') as f:\n",
    "            metadata = json.load(f)\n",
    "        self.shard = np.load(join(data_root, f\"tokens_shard_{metadata[f'{mode}_shards'][0]:03d}.npy\"))  # (n,)\n",
    "\n",
    "        if mode == \"train\":\n",
    "            self.shard = self._shuffle(self.shard)\n",
    "\n",
    "        self._num_sequences = len(self.shard) // sequence_length\n",
    "        if len(self.shard) % sequence_length == 0:\n",
    "            self._num_sequences -= 1\n",
    "        self._num_batches = np.ceil(self._num_sequences / batch_size).astype(int)\n",
    "        self._max_tokens = self._num_sequences * sequence_length + 1\n",
    "\n",
    "        self._current_batch = 0\n",
    "        self._current_epoch = 0\n",
    "\n",
    "    def next_batch(self):\n",
    "        start_index = self._current_batch * self.batch_size * self.sequence_length\n",
    "        end_index = min(start_index + self.batch_size * self.sequence_length + 1, self._max_tokens)\n",
    "        batch = self.shard[start_index: end_index]  # (bs * sl + 1,)\n",
    "        batch = torch.from_numpy(batch.astype(np.int64))\n",
    "        xs = batch[:-1].reshape(-1, self.sequence_length)  # (bs, sl)\n",
    "        ys = batch[1:].reshape(-1, self.sequence_length)  # (bs, sl)\n",
    "\n",
    "        self._current_batch += 1\n",
    "        if self._current_batch >= self._num_batches and self.mode == \"train\":\n",
    "            self._current_batch = 0\n",
    "            self._current_epoch += 1\n",
    "            self.shard = self._shuffle(self.shard)\n",
    "\n",
    "        return xs, ys\n",
    "\n",
    "    def __len__(self):\n",
    "        return self._num_batches\n",
    "\n",
    "    def reset(self):\n",
    "        self._current_batch = 0\n",
    "        self._current_epoch = 0\n",
    "        if self.mode == \"train\":\n",
    "            self.shard = self._shuffle(self.shard)\n",
    "\n",
    "    @staticmethod\n",
    "    def _shuffle(shard):\n",
    "        bos_token = 1\n",
    "        bos_indices = np.where(shard == bos_token)[0]\n",
    "        shard_splits = np.split(shard, bos_indices[1:])\n",
    "        np.random.shuffle(shard_splits)\n",
    "        shard = np.concatenate(shard_splits)  # (n,)\n",
    "        return shard"
   ],
   "id": "5cc297ca67c03cab",
   "outputs": [],
   "execution_count": 128
  },
  {
   "metadata": {
    "ExecuteTime": {
     "end_time": "2024-08-17T04:49:49.216149Z",
     "start_time": "2024-08-17T04:49:49.211998Z"
    }
   },
   "cell_type": "code",
   "source": [
    "dataloader = SingleShardDataLoader(\n",
    "    data_root=\"/mnt/ssd/data/fineweb-edu-10BT/llama-tokenizer-debug\",\n",
    "    mode=\"train\",  # train|val|test\n",
    "    batch_size=4,\n",
    "    sequence_length=128\n",
    ")"
   ],
   "id": "4effa31b4617df82",
   "outputs": [],
   "execution_count": 129
  },
  {
   "metadata": {
    "ExecuteTime": {
     "end_time": "2024-08-17T04:49:49.931833Z",
     "start_time": "2024-08-17T04:49:49.925804Z"
    }
   },
   "cell_type": "code",
   "source": [
    "dataloader.reset()\n",
    "for i in range(len(dataloader)):\n",
    "    x, y = dataloader.next_batch()\n",
    "    print(dataloader._current_batch)\n",
    "    if dataloader._current_epoch > 0:\n",
    "        break"
   ],
   "id": "3a91a74371723391",
   "outputs": [
    {
     "name": "stdout",
     "output_type": "stream",
     "text": [
      "1\n",
      "2\n",
      "3\n",
      "4\n",
      "5\n",
      "6\n",
      "7\n",
      "8\n",
      "9\n",
      "10\n",
      "11\n",
      "12\n",
      "13\n",
      "14\n",
      "15\n",
      "16\n",
      "17\n",
      "0\n"
     ]
    }
   ],
   "execution_count": 130
  },
  {
   "metadata": {
    "ExecuteTime": {
     "end_time": "2024-08-17T04:49:08.657071Z",
     "start_time": "2024-08-17T04:49:08.650240Z"
    }
   },
   "cell_type": "code",
   "source": "dataloader._max_tokens",
   "id": "377c2b863f02f061",
   "outputs": [
    {
     "data": {
      "text/plain": [
       "8961"
      ]
     },
     "execution_count": 127,
     "metadata": {},
     "output_type": "execute_result"
    }
   ],
   "execution_count": 127
  },
  {
   "metadata": {
    "ExecuteTime": {
     "end_time": "2024-08-17T04:43:31.052352Z",
     "start_time": "2024-08-17T04:43:31.043382Z"
    }
   },
   "cell_type": "code",
   "source": "() / 128",
   "id": "25d27341763bee78",
   "outputs": [
    {
     "data": {
      "text/plain": [
       "2.9453125"
      ]
     },
     "execution_count": 113,
     "metadata": {},
     "output_type": "execute_result"
    }
   ],
   "execution_count": 113
  },
  {
   "metadata": {
    "ExecuteTime": {
     "end_time": "2024-08-17T04:43:53.727116Z",
     "start_time": "2024-08-17T04:43:53.720980Z"
    }
   },
   "cell_type": "code",
   "source": "len(dataloader.shard)",
   "id": "773d59d8efb87eb2",
   "outputs": [
    {
     "data": {
      "text/plain": [
       "9082"
      ]
     },
     "execution_count": 114,
     "metadata": {},
     "output_type": "execute_result"
    }
   ],
   "execution_count": 114
  },
  {
   "metadata": {
    "ExecuteTime": {
     "end_time": "2024-08-17T04:44:43.185201Z",
     "start_time": "2024-08-17T04:44:43.176820Z"
    }
   },
   "cell_type": "code",
   "source": "len(dataloader.shard) // 128, len(dataloader.shard) % 128",
   "id": "7f2d794f24dd87a1",
   "outputs": [
    {
     "data": {
      "text/plain": [
       "(70, 122)"
      ]
     },
     "execution_count": 116,
     "metadata": {},
     "output_type": "execute_result"
    }
   ],
   "execution_count": 116
  },
  {
   "metadata": {
    "ExecuteTime": {
     "end_time": "2024-08-17T04:45:37.255107Z",
     "start_time": "2024-08-17T04:45:37.247296Z"
    }
   },
   "cell_type": "code",
   "source": "dataloader._num_sequences",
   "id": "a69a561d06617d11",
   "outputs": [
    {
     "data": {
      "text/plain": [
       "70"
      ]
     },
     "execution_count": 117,
     "metadata": {},
     "output_type": "execute_result"
    }
   ],
   "execution_count": 117
  },
  {
   "metadata": {
    "ExecuteTime": {
     "end_time": "2024-08-17T04:45:59.279152Z",
     "start_time": "2024-08-17T04:45:59.270873Z"
    }
   },
   "cell_type": "code",
   "source": "dataloader._num_batches",
   "id": "485219fe391c6ff6",
   "outputs": [
    {
     "data": {
      "text/plain": [
       "18"
      ]
     },
     "execution_count": 118,
     "metadata": {},
     "output_type": "execute_result"
    }
   ],
   "execution_count": 118
  },
  {
   "metadata": {
    "ExecuteTime": {
     "end_time": "2024-08-17T04:46:22.223375Z",
     "start_time": "2024-08-17T04:46:22.215395Z"
    }
   },
   "cell_type": "code",
   "source": "dataloader._num_sequences / 4",
   "id": "86344ec8d3dae736",
   "outputs": [
    {
     "data": {
      "text/plain": [
       "17.5"
      ]
     },
     "execution_count": 119,
     "metadata": {},
     "output_type": "execute_result"
    }
   ],
   "execution_count": 119
  },
  {
   "metadata": {},
   "cell_type": "code",
   "outputs": [],
   "execution_count": null,
   "source": "",
   "id": "67237310a657da3a"
  }
 ],
 "metadata": {
  "kernelspec": {
   "display_name": "Python 3",
   "language": "python",
   "name": "python3"
  },
  "language_info": {
   "codemirror_mode": {
    "name": "ipython",
    "version": 2
   },
   "file_extension": ".py",
   "mimetype": "text/x-python",
   "name": "python",
   "nbconvert_exporter": "python",
   "pygments_lexer": "ipython2",
   "version": "2.7.6"
  }
 },
 "nbformat": 4,
 "nbformat_minor": 5
}
