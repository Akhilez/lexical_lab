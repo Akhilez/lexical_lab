{
 "cells": [
  {
   "cell_type": "markdown",
   "source": [
    "Downloaded from https://www.kaggle.com/stefanoleone992/imdb-extensive-dataset?select=IMDb+movies.csv\n"
   ],
   "metadata": {
    "collapsed": false
   }
  },
  {
   "cell_type": "code",
   "execution_count": 1,
   "metadata": {
    "collapsed": true
   },
   "outputs": [],
   "source": [
    "import pandas as pd\n",
    "import json"
   ]
  },
  {
   "cell_type": "code",
   "execution_count": 2,
   "outputs": [],
   "source": [
    "movies = pd.read_csv('/Users/akhil/code/lexical_lab/data/movies_samplel.csv', sep=',')"
   ],
   "metadata": {
    "collapsed": false,
    "pycharm": {
     "name": "#%%\n"
    }
   }
  },
  {
   "cell_type": "code",
   "execution_count": 3,
   "outputs": [
    {
     "data": {
      "text/plain": "Index(['imdb_title_id', 'title', 'original_title', 'year', 'date_published',\n       'genre', 'duration', 'country', 'language', 'director', 'writer',\n       'production_company', 'actors', 'description', 'avg_vote', 'votes',\n       'budget', 'usa_gross_income', 'worlwide_gross_income', 'metascore',\n       'reviews_from_users', 'reviews_from_critics'],\n      dtype='object')"
     },
     "execution_count": 3,
     "metadata": {},
     "output_type": "execute_result"
    }
   ],
   "source": [
    "movies.columns"
   ],
   "metadata": {
    "collapsed": false,
    "pycharm": {
     "name": "#%%\n"
    }
   }
  },
  {
   "cell_type": "code",
   "execution_count": 4,
   "outputs": [
    {
     "data": {
      "text/plain": "0                        Romance\n1        Biography, Crime, Drama\n2                          Drama\n3                 Drama, History\n4      Adventure, Drama, Fantasy\n5               Biography, Drama\n6      Biography, Drama, Romance\n7                 Drama, History\n8                   History, War\n9                          Drama\n10                         Drama\n11                  Crime, Drama\n12                         Drama\n13                  Crime, Drama\n14                         Drama\n15                    Drama, War\n16         Crime, Drama, Mystery\n17                         Drama\n18        Drama, Fantasy, Horror\n19                  Crime, Drama\n20              Adventure, Drama\n21                         Drama\n22          Crime, Drama, Horror\n23                       Western\n24     Adventure, Drama, History\n25                Fantasy, Drama\n26                  Crime, Drama\n27                  Crime, Drama\n28                        Comedy\n29                        Horror\n30                Drama, Mystery\n31    Family, Fantasy, Adventure\n32                         Drama\n33                Drama, History\nName: genre, dtype: object"
     },
     "execution_count": 4,
     "metadata": {},
     "output_type": "execute_result"
    }
   ],
   "source": [
    "movies.genre"
   ],
   "metadata": {
    "collapsed": false,
    "pycharm": {
     "name": "#%%\n"
    }
   }
  },
  {
   "cell_type": "code",
   "execution_count": 12,
   "outputs": [
    {
     "data": {
      "text/plain": "0                                            Miss Jerry\n1                           The Story of the Kelly Gang\n2                                        Den sorte drøm\n3                                             Cleopatra\n4                                             L'Inferno\n5     From the Manger to the Cross; or, Jesus of Naz...\n6                                        Madame DuBarry\n7                                            Quo Vadis?\n8                                 Independenta Romaniei\n9                                           Richard III\n10                                             Atlantis\n11                Fantômas - À l'ombre de la guillotine\n12                             Il calvario di una madre\n13                                 Juve contre Fantômas\n14                           Ma l'amor mio non muore...\n15                               Maudite soit la guerre\n16                                      Le mort qui tue\n17                                       Amore di madre\n18                                 Lo studente di Praga\n19                                     Traffic in Souls\n20                          Gli ultimi giorni di Pompei\n21                                        Assunta Spina\n22    The Avenging Conscience: or 'Thou Shalt Not Kill'\n23                                          The Bargain\n24                                              Cabiria\n25                                           Cinderella\n26                                    L'enfant de Paris\n27                             Fantômas contre Fantômas\n28                                A Florida Enchantment\n29                                            Der Golem\n30                              Det hemmelighedsfulde X\n31                     His Majesty, the Scarecrow of Oz\n32                                           Hypocrites\n33                      In the Land of the Head Hunters\nName: title, dtype: object"
     },
     "execution_count": 12,
     "metadata": {},
     "output_type": "execute_result"
    }
   ],
   "source": [
    "movies.title"
   ],
   "metadata": {
    "collapsed": false,
    "pycharm": {
     "name": "#%%\n"
    }
   }
  },
  {
   "cell_type": "code",
   "execution_count": 13,
   "outputs": [
    {
     "data": {
      "text/plain": "0     The adventures of a female reporter in the 1890s.\n1     True story of notorious Australian outlaw Ned ...\n2     Two men of high rank are both wooing the beaut...\n3     The fabled queen of Egypt's affair with Roman ...\n4     Loosely adapted from Dante's Divine Comedy and...\n5     An account of the life of Jesus Christ, based ...\n6     The story of Madame DuBarry, the mistress of L...\n7     An epic Italian film \"Quo Vadis\" influenced ma...\n8     The movie depicts the Romanian War of Independ...\n9     Richard of Gloucester uses manipulation and mu...\n10    After Dr. Friedrich's wife becomes mentally un...\n11    Inspector Juve is tasked to investigate and ca...\n12    Single mother is separated from her children d...\n13    In Part Two of Louis Feuillade's 5 1/2-hour ep...\n14    Leslie Swayne, an adventurer, in order to obta...\n15    An army pilot is on a visit at the home of ano...\n16    After a body disappears from inside the prison...\n17    John Howard Payne at his most miserable point ...\n18    Balduin, a student of Prague, leaves his royst...\n19    A woman, with the aid of her police officer sw...\n20      Two love triangles intersect in ancient Pompei.\n21    Assunta Spina is a tragedy set in Naples at th...\n22    Prevented from dating his sweetheart by his un...\n23    After the bandit Jim Stokes robs the stage he ...\n24    Cabiria is a Roman child when her home is dest...\n25    Though mistreated by her cruel stepmother and ...\n26    The young daughter of an army captain missing ...\n27    The mystery of the drama is the appearance of ...\n28    A young woman discovers a seed that can make w...\n29    In this version of the golem legend, the golem...\n30    On the brink of war, Lt. van Hauen is summoned...\n31    A wicked king has taken over the Emerald City,...\n32    The parallel stories of a modern preacher and ...\n33    In 1911, as part of his massive undertaking, f...\nName: description, dtype: object"
     },
     "execution_count": 13,
     "metadata": {},
     "output_type": "execute_result"
    }
   ],
   "source": [
    "movies.description"
   ],
   "metadata": {
    "collapsed": false,
    "pycharm": {
     "name": "#%%\n"
    }
   }
  },
  {
   "cell_type": "code",
   "execution_count": 8,
   "outputs": [
    {
     "data": {
      "text/plain": "{'Adventure',\n 'Biography',\n 'Comedy',\n 'Crime',\n 'Drama',\n 'Family',\n 'Fantasy',\n 'History',\n 'Horror',\n 'Mystery',\n 'Romance',\n 'War',\n 'Western'}"
     },
     "execution_count": 8,
     "metadata": {},
     "output_type": "execute_result"
    }
   ],
   "source": [
    "all_genres = ', '.join(movies.genre)\n",
    "all_genres = all_genres.split(', ')\n",
    "all_genres = set(all_genres)\n",
    "all_genres"
   ],
   "metadata": {
    "collapsed": false,
    "pycharm": {
     "name": "#%%\n"
    }
   }
  },
  {
   "cell_type": "code",
   "execution_count": 9,
   "outputs": [],
   "source": [
    "all_genres_dict = {genre: index for index, genre in enumerate(all_genres)}"
   ],
   "metadata": {
    "collapsed": false,
    "pycharm": {
     "name": "#%%\n"
    }
   }
  },
  {
   "cell_type": "code",
   "execution_count": 16,
   "outputs": [
    {
     "data": {
      "text/plain": "[[7],\n [11, 1, 10],\n [10],\n [10, 9],\n [3, 10, 12],\n [11, 10],\n [11, 10, 7],\n [10, 9],\n [9, 2],\n [10],\n [10],\n [1, 10],\n [10],\n [1, 10],\n [10],\n [10, 2],\n [1, 10, 8],\n [10],\n [10, 12, 5],\n [1, 10],\n [3, 10],\n [10],\n [1, 10, 5],\n [4],\n [3, 10, 9],\n [12, 10],\n [1, 10],\n [1, 10],\n [6],\n [5],\n [10, 8],\n [0, 12, 3],\n [10],\n [10, 9]]"
     },
     "execution_count": 16,
     "metadata": {},
     "output_type": "execute_result"
    }
   ],
   "source": [
    "genres = []\n",
    "for genre in movies.genre:\n",
    "    genres_strings = genre.split(', ')\n",
    "    genres_indices = [all_genres_dict[g] for g in genres_strings]\n",
    "    genres.append(genres_indices)\n",
    "genres"
   ],
   "metadata": {
    "collapsed": false,
    "pycharm": {
     "name": "#%%\n"
    }
   }
  },
  {
   "cell_type": "code",
   "execution_count": 15,
   "outputs": [
    {
     "data": {
      "text/plain": "0     Miss Jerry. The adventures of a female reporte...\n1     The Story of the Kelly Gang. True story of not...\n2     Den sorte drøm. Two men of high rank are both ...\n3     Cleopatra. The fabled queen of Egypt's affair ...\n4     L'Inferno. Loosely adapted from Dante's Divine...\n5     From the Manger to the Cross; or, Jesus of Naz...\n6     Madame DuBarry. The story of Madame DuBarry, t...\n7     Quo Vadis?. An epic Italian film \"Quo Vadis\" i...\n8     Independenta Romaniei. The movie depicts the R...\n9     Richard III. Richard of Gloucester uses manipu...\n10    Atlantis. After Dr. Friedrich's wife becomes m...\n11    Fantômas - À l'ombre de la guillotine. Inspect...\n12    Il calvario di una madre. Single mother is sep...\n13    Juve contre Fantômas. In Part Two of Louis Feu...\n14    Ma l'amor mio non muore.... Leslie Swayne, an ...\n15    Maudite soit la guerre. An army pilot is on a ...\n16    Le mort qui tue. After a body disappears from ...\n17    Amore di madre. John Howard Payne at his most ...\n18    Lo studente di Praga. Balduin, a student of Pr...\n19    Traffic in Souls. A woman, with the aid of her...\n20    Gli ultimi giorni di Pompei. Two love triangle...\n21    Assunta Spina. Assunta Spina is a tragedy set ...\n22    The Avenging Conscience: or 'Thou Shalt Not Ki...\n23    The Bargain. After the bandit Jim Stokes robs ...\n24    Cabiria. Cabiria is a Roman child when her hom...\n25    Cinderella. Though mistreated by her cruel ste...\n26    L'enfant de Paris. The young daughter of an ar...\n27    Fantômas contre Fantômas. The mystery of the d...\n28    A Florida Enchantment. A young woman discovers...\n29    Der Golem. In this version of the golem legend...\n30    Det hemmelighedsfulde X. On the brink of war, ...\n31    His Majesty, the Scarecrow of Oz. A wicked kin...\n32    Hypocrites. The parallel stories of a modern p...\n33    In the Land of the Head Hunters. In 1911, as p...\ndtype: object"
     },
     "execution_count": 15,
     "metadata": {},
     "output_type": "execute_result"
    }
   ],
   "source": [
    "x = movies.title + '. ' + movies.description\n",
    "x"
   ],
   "metadata": {
    "collapsed": false,
    "pycharm": {
     "name": "#%%\n"
    }
   }
  },
  {
   "cell_type": "code",
   "execution_count": null,
   "outputs": [],
   "source": [],
   "metadata": {
    "collapsed": false,
    "pycharm": {
     "name": "#%%\n"
    }
   }
  }
 ],
 "metadata": {
  "kernelspec": {
   "display_name": "Python 3",
   "language": "python",
   "name": "python3"
  },
  "language_info": {
   "codemirror_mode": {
    "name": "ipython",
    "version": 2
   },
   "file_extension": ".py",
   "mimetype": "text/x-python",
   "name": "python",
   "nbconvert_exporter": "python",
   "pygments_lexer": "ipython2",
   "version": "2.7.6"
  }
 },
 "nbformat": 4,
 "nbformat_minor": 0
}