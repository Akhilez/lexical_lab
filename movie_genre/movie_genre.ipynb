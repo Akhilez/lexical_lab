{
 "cells": [
  {
   "cell_type": "markdown",
   "source": [
    "Downloaded from https://www.kaggle.com/stefanoleone992/imdb-extensive-dataset?select=IMDb+movies.csv\n"
   ],
   "metadata": {
    "collapsed": false
   }
  },
  {
   "cell_type": "code",
   "execution_count": 2,
   "metadata": {
    "collapsed": true
   },
   "outputs": [],
   "source": [
    "import pandas as pd\n",
    "import json"
   ]
  },
  {
   "cell_type": "code",
   "execution_count": 7,
   "outputs": [],
   "source": [
    "movies = pd.read_csv('/Users/akhil/code/lexical_lab/data/movies_samplel.csv', sep=',')"
   ],
   "metadata": {
    "collapsed": false,
    "pycharm": {
     "name": "#%%\n"
    }
   }
  },
  {
   "cell_type": "code",
   "execution_count": 11,
   "outputs": [
    {
     "data": {
      "text/plain": "Index(['imdb_title_id', 'title', 'original_title', 'year', 'date_published',\n       'genre', 'duration', 'country', 'language', 'director', 'writer',\n       'production_company', 'actors', 'description', 'avg_vote', 'votes',\n       'budget', 'usa_gross_income', 'worlwide_gross_income', 'metascore',\n       'reviews_from_users', 'reviews_from_critics'],\n      dtype='object')"
     },
     "execution_count": 11,
     "metadata": {},
     "output_type": "execute_result"
    }
   ],
   "source": [
    "movies.columns"
   ],
   "metadata": {
    "collapsed": false,
    "pycharm": {
     "name": "#%%\n"
    }
   }
  },
  {
   "cell_type": "code",
   "execution_count": 12,
   "outputs": [
    {
     "data": {
      "text/plain": "0                        Romance\n1        Biography, Crime, Drama\n2                          Drama\n3                 Drama, History\n4      Adventure, Drama, Fantasy\n5               Biography, Drama\n6      Biography, Drama, Romance\n7                 Drama, History\n8                   History, War\n9                          Drama\n10                         Drama\n11                  Crime, Drama\n12                         Drama\n13                  Crime, Drama\n14                         Drama\n15                    Drama, War\n16         Crime, Drama, Mystery\n17                         Drama\n18        Drama, Fantasy, Horror\n19                  Crime, Drama\n20              Adventure, Drama\n21                         Drama\n22          Crime, Drama, Horror\n23                       Western\n24     Adventure, Drama, History\n25                Fantasy, Drama\n26                  Crime, Drama\n27                  Crime, Drama\n28                        Comedy\n29                        Horror\n30                Drama, Mystery\n31    Family, Fantasy, Adventure\n32                         Drama\n33                Drama, History\nName: genre, dtype: object"
     },
     "execution_count": 12,
     "metadata": {},
     "output_type": "execute_result"
    }
   ],
   "source": [
    "movies.genre"
   ],
   "metadata": {
    "collapsed": false,
    "pycharm": {
     "name": "#%%\n"
    }
   }
  },
  {
   "cell_type": "code",
   "execution_count": null,
   "outputs": [],
   "source": [],
   "metadata": {
    "collapsed": false,
    "pycharm": {
     "name": "#%%\n"
    }
   }
  }
 ],
 "metadata": {
  "kernelspec": {
   "display_name": "Python 3",
   "language": "python",
   "name": "python3"
  },
  "language_info": {
   "codemirror_mode": {
    "name": "ipython",
    "version": 2
   },
   "file_extension": ".py",
   "mimetype": "text/x-python",
   "name": "python",
   "nbconvert_exporter": "python",
   "pygments_lexer": "ipython2",
   "version": "2.7.6"
  }
 },
 "nbformat": 4,
 "nbformat_minor": 0
}