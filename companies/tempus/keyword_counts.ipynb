{
 "cells": [
  {
   "cell_type": "code",
   "execution_count": 14,
   "outputs": [],
   "source": [
    "# imports\n",
    "from os import listdir\n",
    "from os.path import join\n",
    "from omegaconf import OmegaConf"
   ],
   "metadata": {
    "collapsed": false,
    "pycharm": {
     "name": "#%%\n"
    }
   }
  },
  {
   "cell_type": "markdown",
   "metadata": {
    "collapsed": true,
    "pycharm": {
     "name": "#%% md\n"
    }
   },
   "source": [
    "# 1. Check if these keywords exist in the data, if so, how often?"
   ]
  },
  {
   "cell_type": "code",
   "execution_count": 18,
   "outputs": [],
   "source": [
    "# 1.1 Get keywords\n",
    "\n",
    "\n",
    "def get_keywords(path):\n",
    "    with open(path, \"r\") as keywords_file:\n",
    "        keywords_data = keywords_file.readlines()\n",
    "\n",
    "    category_keywords = {}\n",
    "    for i in range(len(keywords_data)):\n",
    "        category, keywords = keywords_data[i].split(\":\")\n",
    "        keywords = keywords.split(\",\")\n",
    "        keywords = [keyword.strip() for keyword in keywords]\n",
    "        category_keywords[category] = keywords\n",
    "\n",
    "    return category_keywords\n",
    "\n",
    "\n",
    "entity_names_path = \"/Users/akhil/code/lexical_lab/companies/tempus/entity_names.txt\"\n",
    "category_keywords = get_keywords(entity_names_path)"
   ],
   "metadata": {
    "collapsed": false,
    "pycharm": {
     "name": "#%%\n"
    }
   }
  },
  {
   "cell_type": "code",
   "execution_count": 19,
   "outputs": [],
   "source": [
    "# 1.2 For each keyword, find how many times it is repeated\n",
    "\n",
    "data_path = \"/Users/akhil/code/lexical_lab/companies/tempus/Data\"\n",
    "\n",
    "def count_and_update(category_keywords, keyword_counts, text):\n",
    "  for category in category_keywords:\n",
    "    for keyword in category_keywords[category]:\n",
    "      keyword_counts[category][keyword] += text.count(keyword)\n",
    "\n",
    "def get_keyword_counts(data_path):\n",
    "  keyword_counts = {\n",
    "      category: {keyword: 0 for keyword in category_keywords[category]}\n",
    "      for category in category_keywords\n",
    "  }\n",
    "\n",
    "  file_names = listdir(data_path)\n",
    "\n",
    "  for file_name in file_names:\n",
    "      file_path = join(data_path, file_name)\n",
    "\n",
    "      with open(file_path, \"r\") as text_file:\n",
    "          text = text_file.read()\n",
    "          count_and_update(category_keywords, keyword_counts, text)\n",
    "\n",
    "  return keyword_counts\n",
    "\n",
    "\n",
    "keyword_counts = get_keyword_counts(data_path)"
   ],
   "metadata": {
    "collapsed": false,
    "pycharm": {
     "name": "#%%\n"
    }
   }
  },
  {
   "cell_type": "code",
   "execution_count": 20,
   "outputs": [],
   "source": [
    "output_path = '/Users/akhil/code/lexical_lab/companies/tempus/output'\n",
    "def save_yaml(dict_, output_path):\n",
    "  conf = OmegaConf.create(dict_)\n",
    "  with open(join(output_path, 'keywork_counts.yaml'), 'w') as fp:\n",
    "     OmegaConf.save(config=conf, f=fp.name)\n",
    "\n",
    "save_yaml(keyword_counts, output_path)"
   ],
   "metadata": {
    "collapsed": false,
    "pycharm": {
     "name": "#%%\n"
    }
   }
  },
  {
   "cell_type": "markdown",
   "source": [
    "Biomarkers er and per got unusually high numbers because \"er\" is part of many common words.\n",
    "And I am not checking for \"er\" as a token, but just getting the substring count.\n",
    "\n",
    "This is fine because I just want to get an idea of how often these keywords are used."
   ],
   "metadata": {
    "collapsed": false,
    "pycharm": {
     "name": "#%% md\n"
    }
   }
  }
 ],
 "metadata": {
  "kernelspec": {
   "display_name": "Python 3",
   "language": "python",
   "name": "python3"
  },
  "language_info": {
   "codemirror_mode": {
    "name": "ipython",
    "version": 2
   },
   "file_extension": ".py",
   "mimetype": "text/x-python",
   "name": "python",
   "nbconvert_exporter": "python",
   "pygments_lexer": "ipython2",
   "version": "2.7.6"
  }
 },
 "nbformat": 4,
 "nbformat_minor": 0
}