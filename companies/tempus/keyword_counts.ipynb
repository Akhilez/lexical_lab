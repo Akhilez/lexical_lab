{
 "cells": [
  {
   "cell_type": "code",
   "execution_count": 22,
   "outputs": [],
   "source": [
    "# imports\n",
    "from os import listdir\n",
    "from os.path import join"
   ],
   "metadata": {
    "collapsed": false,
    "pycharm": {
     "name": "#%%\n"
    }
   }
  },
  {
   "cell_type": "markdown",
   "metadata": {
    "collapsed": true,
    "pycharm": {
     "name": "#%% md\n"
    }
   },
   "source": [
    "# 1. Frequency of given keywords in the data\n",
    "## Check if these keywords exist in the data, if so, how often?"
   ]
  },
  {
   "cell_type": "code",
   "execution_count": 23,
   "outputs": [],
   "source": [
    "# 1.1 Get keywords\n",
    "from typing import List\n",
    "\n",
    "\n",
    "def get_keywords(path):\n",
    "    with open(path, \"r\") as keywords_file:\n",
    "        keywords_data = keywords_file.readlines()\n",
    "\n",
    "    category_keywords = {}\n",
    "    for i in range(len(keywords_data)):\n",
    "        category, keywords = keywords_data[i].split(\":\")\n",
    "        keywords = keywords.split(\",\")\n",
    "        keywords = [keyword.strip() for keyword in keywords]\n",
    "        category_keywords[category] = keywords\n",
    "\n",
    "    return category_keywords\n",
    "\n",
    "\n",
    "entity_names_path = \"/Users/akhil/code/lexical_lab/companies/tempus/entity_names.txt\"\n",
    "category_keywords = get_keywords(entity_names_path)"
   ],
   "metadata": {
    "collapsed": false,
    "pycharm": {
     "name": "#%%\n"
    }
   }
  },
  {
   "cell_type": "code",
   "execution_count": 24,
   "outputs": [],
   "source": [
    "def get_text_data(data_path) -> List[str]:\n",
    "  # Yeah, I'm keeping everything in memory. It is not large, so I assume it is fine.\n",
    "  list_of_text = []\n",
    "\n",
    "  file_names = listdir(data_path)\n",
    "\n",
    "  for file_name in file_names:\n",
    "      file_path = join(data_path, file_name)\n",
    "\n",
    "      with open(file_path, \"r\") as text_file:\n",
    "          text = text_file.read()\n",
    "          list_of_text.append(text)\n",
    "\n",
    "  return list_of_text\n",
    "\n",
    "\n",
    "data_path = \"/Users/akhil/code/lexical_lab/companies/tempus/Data\"\n",
    "list_of_text = get_text_data(data_path)"
   ],
   "metadata": {
    "collapsed": false,
    "pycharm": {
     "name": "#%%\n"
    }
   }
  },
  {
   "cell_type": "code",
   "execution_count": null,
   "outputs": [],
   "source": [
    "# 1.2 For each keyword, find how many times it is repeated\n",
    "\n",
    "\n",
    "def count_and_update(category_keywords, keyword_counts, text):\n",
    "  for category in category_keywords:\n",
    "    for keyword in category_keywords[category]:\n",
    "      keyword_counts[category][keyword] += text.count(keyword)\n",
    "\n",
    "def get_keyword_counts(list_of_text):\n",
    "  keyword_counts = {\n",
    "      category: {keyword: 0 for keyword in category_keywords[category]}\n",
    "      for category in category_keywords\n",
    "  }\n",
    "\n",
    "  for text in list_of_text:\n",
    "    count_and_update(category_keywords, keyword_counts, text)\n",
    "\n",
    "  return keyword_counts\n",
    "\n",
    "\n",
    "keyword_counts = get_keyword_counts(list_of_text)"
   ],
   "metadata": {
    "collapsed": false,
    "pycharm": {
     "name": "#%%\n"
    }
   }
  },
  {
   "cell_type": "code",
   "execution_count": 25,
   "outputs": [
    {
     "data": {
      "text/plain": "{'cancertype': {'nsclc': 0,\n  'sclc': 0,\n  'dcis': 0,\n  'non small cell lung cancer': 0,\n  'breast cancer': 13,\n  'lung cancer': 10,\n  'prostate cancer': 8,\n  'adenocarcinoma': 8,\n  'testicular cancer': 1,\n  \"Kaposi's sarcoma\": 1,\n  'colorectal cancer': 18,\n  'glioblastoma': 2,\n  'melanoma': 14,\n  'hodgkin lymphoma': 0,\n  'squamous cell carcinoma': 1},\n 'medication': {'pembrolizumab': 1,\n  'bicalutamide': 0,\n  'Gefitinib': 0,\n  'Pertuzumab': 0,\n  'Giotrif': 0,\n  'imfinzi': 0,\n  'tagrisso': 0,\n  'nivolumab': 1,\n  'lapatinib': 12,\n  'capecitabine': 6},\n 'biomarkers': {'metex14': 0,\n  'egfr': 0,\n  'kras': 0,\n  'braf': 0,\n  'ntrk': 0,\n  'nrg1': 0,\n  'her2': 0,\n  'her-2': 0,\n  'erbb2': 0,\n  'er-bb2': 0,\n  'brca': 0,\n  'brca1': 0,\n  'brca2': 0,\n  'brca3': 0,\n  'alk': 9,\n  'ret': 27,\n  'fgfr2': 0,\n  'her 2': 2,\n  'pr': 489,\n  'er': 1865,\n  'pgr': 1,\n  'met': 58},\n 'procedure_therapy': {'lumpectomy': 2, 'biopsy': 6}}"
     },
     "execution_count": 25,
     "metadata": {},
     "output_type": "execute_result"
    }
   ],
   "source": [
    "keyword_counts"
   ],
   "metadata": {
    "collapsed": false,
    "pycharm": {
     "name": "#%%\n"
    }
   }
  },
  {
   "cell_type": "markdown",
   "source": [
    "### Most of these keywords have low frequency.\n",
    "\n",
    "Biomarkers er and per got unusually high numbers because \"er\" is part of many common words.\n",
    "And I am not checking for \"er\" as a token, but just getting the substring count.\n",
    "\n",
    "This is fine because I just want to get an idea of how often these keywords are used."
   ],
   "metadata": {
    "collapsed": false,
    "pycharm": {
     "name": "#%% md\n"
    }
   }
  },
  {
   "cell_type": "markdown",
   "source": [
    "# 2. What are the most used words that are not stopwords (like \"the\")?\n",
    "\n",
    "2.1. tokenize the text and then find frequency.\n",
    "\n",
    "Reference: https://blog.ekbana.com/nlp-for-beninners-using-spacy-6161cf48a229"
   ],
   "metadata": {
    "collapsed": false,
    "pycharm": {
     "name": "#%% md\n"
    }
   }
  },
  {
   "cell_type": "code",
   "execution_count": 47,
   "outputs": [
    {
     "name": "stdout",
     "output_type": "stream",
     "text": [
      "Curwen Eliot Hodgkin was born on 19 June 1905 , the only son of Charles Ernest Hodgkin and his wife , Alice Jane ( née Brooke).[1 ] The Hodgkins were a Quaker family and were related to Roger Fry.[1 ] The scientist Thomas Hodgkin was his great - grandfather 's older brother and the abstract painter Howard Hodgkin ( 1932–2017 ) was his cousin.[1 ] Hodgkin was educated at Harrow School from 1919 to 1923 . His artistic life started in London at the Byam Shaw School of Art and at the Royal Academy Schools under Francis Ernest Jackson . \n",
      "-------------------------------------\n",
      "--- Curwen Eliot Hodgkin was born on 19 June 1905, the only son of Charles Ernest Hodgkin and his wife, Alice Jane (née Brooke).[1] The Hodgkins were a Quaker family and were related to Roger\n",
      "--- Fry.[1]\n",
      "--- The scientist Thomas Hodgkin was his great-grandfather's older brother and the abstract painter Howard Hodgkin (1932–2017) was his\n",
      "--- cousin.[1]\n",
      "--- Hodgkin was educated at Harrow School from 1919 to 1923.\n",
      "\n"
     ]
    }
   ],
   "source": [
    "import spacy\n",
    "nlp = spacy.load(\"en_core_web_sm\")\n",
    "\n",
    "text = '. '.join(list_of_text)\n",
    "text = text.replace('\\n', ' ')\n",
    "text = text.replace('  ', ' ')\n",
    "\n",
    "doc = nlp(text)\n",
    "del text\n",
    "\n",
    "# Raw words\n",
    "words = [token.text for token in doc[:100]]\n",
    "\n",
    "[print(word, end=' ') for word in words]\n",
    "print('\\n-------------------------------------')\n",
    "\n",
    "# Raw sentences\n",
    "[print(f'--- {sentence}') for sentence in list(doc.sents)[:5]]\n",
    "print()"
   ],
   "metadata": {
    "collapsed": false,
    "pycharm": {
     "name": "#%%\n"
    }
   }
  },
  {
   "cell_type": "code",
   "execution_count": 48,
   "outputs": [
    {
     "name": "stdout",
     "output_type": "stream",
     "text": [
      "['Curwen', 'Eliot', 'Hodgkin', 'born', '19', 'June', '1905', 'son', 'Charles', 'Ernest', 'Hodgkin', 'wife', 'Alice', 'Jane', 'née', 'Brooke).[1', 'Hodgkins', 'Quaker', 'family', 'related', 'Roger', 'Fry.[1', 'scientist', 'Thomas', 'Hodgkin', 'great', 'grandfather', 'older', 'brother', 'abstract', 'painter', 'Howard', 'Hodgkin', '1932–2017', 'cousin.[1', 'Hodgkin', 'educated', 'Harrow', 'School', '1919', '1923', 'artistic', 'life', 'started', 'London', 'Byam', 'Shaw', 'School', 'Art', 'Royal']\n"
     ]
    }
   ],
   "source": [
    "# Words without stopwords\n",
    "words = [token.text for token in doc if not token.is_stop and not token.is_punct]\n",
    "print (words[:50])"
   ],
   "metadata": {
    "collapsed": false,
    "pycharm": {
     "name": "#%%\n"
    }
   }
  },
  {
   "cell_type": "code",
   "execution_count": 49,
   "outputs": [
    {
     "name": "stdout",
     "output_type": "stream",
     "text": [
      "['Curwen', 'Eliot', 'Hodgkin', 'bear', '19', 'June', '1905', 'son', 'Charles', 'Ernest', 'Hodgkin', 'wife', 'Alice', 'Jane', 'née', 'Brooke).[1', 'Hodgkins', 'Quaker', 'family', 'relate', 'Roger', 'fry.[1', 'scientist', 'Thomas', 'Hodgkin', 'great', 'grandfather', 'old', 'brother', 'abstract', 'painter', 'Howard', 'Hodgkin', '1932–2017', 'cousin.[1', 'Hodgkin', 'educate', 'Harrow', 'School', '1919', '1923', 'artistic', 'life', 'start', 'London', 'Byam', 'Shaw', 'School', 'Art', 'Royal']\n"
     ]
    }
   ],
   "source": [
    "# Lemmantized words without stopwords\n",
    "words = [token.lemma_ for token in doc if not token.is_stop and not token.is_punct]\n",
    "print (words[:50])"
   ],
   "metadata": {
    "collapsed": false,
    "pycharm": {
     "name": "#%%\n"
    }
   }
  },
  {
   "cell_type": "code",
   "execution_count": 52,
   "outputs": [
    {
     "name": "stdout",
     "output_type": "stream",
     "text": [
      "('cancer', 251)\n",
      "('patient', 135)\n",
      "('mutation', 90)\n",
      "('cell', 74)\n",
      "('treatment', 72)\n",
      "('cause', 69)\n",
      "('include', 67)\n",
      "('gene', 66)\n",
      "('study', 63)\n",
      "('disease', 62)\n",
      "('year', 62)\n",
      "('rate', 60)\n",
      "('\\u2009', 52)\n",
      "('symptom', 50)\n",
      "('test', 49)\n",
      "\n"
     ]
    }
   ],
   "source": [
    "from collections import Counter\n",
    "\n",
    "word_freq = Counter(words)\n",
    "common_words = word_freq.most_common(15)\n",
    "[print(word_count) for word_count in common_words]\n",
    "print()"
   ],
   "metadata": {
    "collapsed": false,
    "pycharm": {
     "name": "#%%\n"
    }
   }
  },
  {
   "cell_type": "markdown",
   "source": [
    "kind of obvious, but the data (most frequent words) show that the text information is mostly related to clinical/health."
   ],
   "metadata": {
    "collapsed": false,
    "pycharm": {
     "name": "#%% md\n"
    }
   }
  },
  {
   "cell_type": "code",
   "execution_count": 57,
   "outputs": [
    {
     "name": "stdout",
     "output_type": "stream",
     "text": [
      "ORG [CRISPR, BRCA2, PE, VWF, The Centers for Disease Control and Prevention, the Global Fund, RNA, Keytruda, BRCA2, Genital herpes Influenza Measles Chickenpox, Profiler, NED, MH, VWF, RRT, KRAS G12C, CT, FD, RTK, U.N., Normal Human Neonatal Epidermal Keratinocytes, AI, LES, Portal, BRAF, BCR, ARF, CRC, BRCA2, the American Heart Association journal, RRT, LES, TKI, CDC, KATHERINE, MH, MSI-H, BRAF, MH, KRAS, ARF, AMIL, the US Centers for Disease Control and Prevention, LUMAKRAS, FDA, ER, NSCLC, PDGF, NGS, pan-Erb TKI, The Cancer Genome Atlas, Annals of Oncology, study14, UTUC, Genetic Test May Help Predict Whether Prostate Cancer, VWF, The Associated Press IRVING, PROSINT, VWF, MET, NEOD, BRCA, CDC, MRC, KRAS, HPA, BRCA1, BRCA2, Drug, Medicare, Keytruda, Hydroxychloroquine, HP, CRC, VWF, VWF, Erythrocyte, CT, ECX, DDAC, ERK, BRCA1, the Cancer Control Blueprint, ITT, Irving, CIPA, ICU, NSCLC, VWF, motorcars, AMIL, PE, LUMAKRAS, LES, VWF, Rapid, VWF, CT, WES, GERD, MEK, MS, NTRK, BCR, MS, Harrow School, AKT/mTOR, PROSINT, CRC, CIPA, PE, GEOMETRY, GERD, BRCA2, UTUC, Wen, World Health Organization, FoundationOne, ECX, VWF, SFBT, NAO, BRCA2, Peptic Ulcer Disease, DDAC, VWF, SDRT, The Cancer Genome Atlas Research Network, germline[1, RNA, WES, KIP, the Irving Police Department, VWF, Zantac®, de novo, VWF, VWF, LUMAKRAS, PUD, Hormonal, ER, ECX, PE, AKT, MEK, the American College of Gastroenterology, the Urology Care Foundation, WSI, WSI, GI, LUMAKRAS, EGF, de novo mutations, CI, McDonald, ERBB2/HER2, ITT Pvalue, BRAF, the American College of Surgeons’ Commission, KRAS, Quaker, STAT, FDA, KEYNOTE-522, KATHERINE, ECX, ERBB2/HER2, BRAF, Genotype-Tissue Expression Project, Lillian Mae, GERD, Raf-MEK-ERK, KATHERINE, MH, AMIL, IG, ER, ICU, ALK, ARF, PROSINT, PORPOISE, CNN, NGS, McDonald, FDA, the World Health Organization, National Comprehensive Cancer Network, NBCBLK, RRT, CIPA, UTUC, EnrichR, Sensitivity, the Flatiron Health Database, McKesson Corporation, RTK, azotemia, NAO, FGFR2, ICU, cBioPortal, Smith and Sheltzer, VWF, Medicare, MEK, TCHP, BRCA2, VWF, VWF, BRCA2, ER, ECX, CDC, CIPA, the Mayo Clinic, HPA, MH, DDAC, KRAS, BRCA1, LUMAKRAS, FoundationOne, ERBB2/HER2, D. Calcium, LUMAKRAS, ALK, UTUC, PROSINT, MEK, J.B.S. Haldane, ERBB2/HER2, EGFR, the Preferred Reporting Items for Systematic Reviews, LUMAKRAS, KRAS, Src, BRCA2, ICU, ERBB2/HER2, VWF, GI, Pepto-Bismol®, Hematology, Avoid, FDA, ARF, McDonald’s, A727V, silico, Scopus, Cardiovascular, NRG1, the Mayo Clinic, LUMAKRAS, DDAC, Meta, KATHERINE, KS, IHC, Wen, ARF, the European Society for Medical Oncology, PEPFAR, ICU, BRCA, BRCA, ALK, RRT, EGFR, cancer.[27, Food Guide, KRAS, ARF, NAO, WSI, KS, VWF, the Alliance/American College of Surgeons Clinical Research Program, ARF, BRCA2, McDonald, Jain and Tuteja, C-RAF, ECX, TCGA, Paracetamol, ARF, VWF, the Royal Academy Schools, Background/Aim: The identification, KS, ERK, Normal Human Epidermal Keratinocytes, RTK, the U.S., BRCA1, NAO, CDC, Losec®, DDAC, AKT/mTOR, UTUC, IHC, BRCA1, SDRT, Chemotherapy, RET, BRCA2, B-Raf, G465E]\n",
      "CARDINAL [14, 2, 2, 2, 31, 19, 2,500, tens of thousands, 256, 55, 163, 70, 24, three, 911, 1, two, 15, 0.78, 73.0, 28, two, 85, 0.02, 92, 24, 0.73-0.87, 3, two, 911, 1, 5, only 1, 61, 2, 128, 14, 6,7,8, 199, at least one, at least 1, 2, 256, five, 2, 911, 3, 19, 1, 0.73-0.87, 6, 42, 9, 322, 4, aerosolized, 163, 54, 10, 1, 30, 36, 2, 5, 0.90, 19, 20, 19, 26, 1, 23, 50, 4 2, 0.94, 139, 87.7, Two, 78, 72/73, 0.78, 30, 3, two, 0.70-0.90, 60, 929, 74.5, two, 122-177, 24, 3, about 14,000, 63, 9, Approximately 200, 139, 24, 136, 6, 1q21, 40, 2, 3, 37, 53, up to 15,000, 3, 15, 26, 2, 1, 2, 1, 615, 3, 1, 3, 14, 1, 3, 150,000, 3, two, 1, 9, 0.74, 128, 19, 5, 2, 24, 4, half, 1.44, 0, 5, 3986, 31, 10, 870, 19, three, 2, 3000, 143, 2, 14,68,69, 8, 1,200, 2, 7, 600, about 1, 2, an estimated five-year, 20, 4, two, Approximately 38 million, just 200, 24, 23, three, 2, 85, two, 9, 0.78, 1, two, 39, 0.84-0.99, 227, three, At least three, 24, 55, 6.4, 2, 6, 5, 11, 3, 15, one, 68, 16, 600, 26, nearly half, 160, 1, More than 30, two, 10, 2, around two to three, 62, 27, at least two and a half hours, 0.17, three, Only 1, 85.3, 3, 1, 5, 14, 2, 3, two, seven, 199, two, 23, three-fourths, 19, 4, 63, 19, 2030, 19, 30, 3, 4, over 15 million, 200, two, 2, 9, 0.78, More than 2,000, 446, less than 2, 2, 1, dozens or hundreds, millions, two, 3, 10, 3, 6, 7236, 21, 3, 90-90-90, nine, 24, 34,000, 2, 3, 1, older than 50, two, one quarter, One, 136, 4, 1, 1, 19, 400, 22, 2, 12, 41, 55 527, 21, 76,77, at least one, 36, at least 30, One, 3, 96, 3, two, one, 55, 5, 227, 26, 0.60, 0.70-0.90, 0.84-0.99, 0.94, 0.35, 211, 0.90, Nearly 200, one, three, 36, eight, 5, 1, 6, 92, 20, 1000, 21, 36, 10, 20, two, two, 3, 17, 1, one, 5, seven, 2, 24 366, about 200, 3, two, 1, one, 3, 6, 2, 2, about 4, Two, 1, 5, 3, two, 441, 426, less than 5, 11, tens of thousands, 29, 24, 9, Forty-six, 36, about 600, 24, 24, 40,000, 1, Seventeen, One, 190, 1, 6, 4, 24, 3,4,5, 0.61, 1:1, 20, 4, four, 122-177, 143, 103, six, 2, two, 57]\n",
      "LOC [North America, Caribbean, North America, Europe, CRISPR-Cas9, Eastern Europe, North America, Antarctica, Eastern Asia, North America, Europe, Caribbean, Africa, South-Central Asia, Atlantic, Europe, Southeast Asia]\n",
      "DATE [annually, August 1, 2017, 1 or 2 years, April 21, 2016, each day, between 51 and 70 years of age, Wednesday, 10-year, spring, 5-year, mammals 71, each year, 44, May 10, 2017, age 63, 3037, 5, February 25, 2013, years, 5-year, June 2021, 2016, December 31, 2019, 2021, 1-year-old, January 1, 2007, annually, the past century, August 2010, the school year, 23-80 years, between May 24, 2013, 8.6] years, April 30, 2020, the past 15 years, 2013, between 2001 and 2005, February 2013, may appear days, 5802, weeks later, 16, 4-year, the 1930s and, April 19, 2016, year, 10 years, 20 weeks, 72, 10 years, Monday, days, 49 years, April 2016, 1923, the past few decades, 2001, the last two weeks, the last few millennia, 2020, many years, 71 years, 6.8] years, the age of 40, day 1, 1250, years, 6 months, 3 years, April 6, 2021, 12 years, age 45, 19 June 1905, 2013, weekly, elsewhere.7, five-year, 10-year, 1250, 3 years, 2019, days 1, 8 years, 55, five-year, 2009, March 2019 to August 2020, age 50, 1940s, 68, 2012, September 2000 to December 2001, the last few years, 6 months, age 24, winter, annual, 3 years, 30, between January 1, 2009, 50 years old, 2014, Tuesday, as many as 12 months, under 65, 1 year, 2 years, August 2010, days, 5802, 2025, two weeks, 3 years, 24-79 years, 30-day, the last few years, seven to 10 days, two weeks, 2025, such things as season, 5-year, 7 years, the following year, 2019, year, recent decades, January 2015, 5-year, 2013, the baseline year, every five years, 36, between January 2009, January 2016, May 25, 2017, 1919, 5099, 8.0] years, August 6 to December 31, 2019, 1799, 2016, 75, the age of, 2021, 2010, July 15, 2021, Today, 2019, recent years, 5 years, 72–75, day 1, November 30, 2016, weeks, 1 to 3 months, each week, Monday, 6]\n",
      "MONEY [nearly $700 billion, less than 200 mL, tens of millions]\n",
      "PERSON [EGFR, Fungi, von Willebrand, Brooke).[1, Gleevec, CDx, Kaposi, Reimand, Individual Molecular Tests, Val, RAS)/MAPK, Hydroxychloroquine, woolly adelgid, Maalox, Thomas Hodgkin, Main Outcomes, Rochelle Walensky, Without Bevacizumab, White, Ridley, Black, Creative Bioarray, McDonald, Gastric, Hepatitis A. Most, CDx, oncoEnrichR, Main Outcomes, von Willebrand, Hydroxychloroquine, Dr Emmanuel, Wen, Nivolumab, Madison McDonald, Dizziness, mECX+L, Fungi, sorafenib.¹ Malignant, Jail, EGFR, Moderna, Martin, Madison McDonald, Zhou, Ridley, Lepidochelys, Nivolumab, V599K, Participants Cohort, Kidney, Kaposi, Main Outcomes, Nivolumab, Nivolumab, Alice Jane, CRISPR, Chen et al., Kitano, von Willebrand, Pancreatitis, Tagamet, H2RAs, docetaxel, Lung, Charles Ernest Hodgkin, Plaquenil, Liver, Endocrine, Behan et al., Huang et al., survival.4, Embase, Measures Loss, Main Outcomes, Enlarged liver, Archer Hammond, L596V, EGFR, Main Outcomes, Participants Cohort, Nivolumab, EGFR Signaling Pathway, CI, Biopsy Lupus, EGFR, Main Outcomes, von Willebrand, Cox, Curwen Eliot Hodgkin, PrEP, Nivolumab, diarrhea headache heartburn, Aralen®, Cancer, Main Outcomes, Nivolumab, Dexilant®, H. Patients, Sara Brown, trastuzumab, White, Plaquenil, EGFR, Participants Phase 2, Normal Human Epidermal Melanocytes, Francis Ernest Jackson, Hepatitis B., oncoEnrichR, Officer Robert Reeves, Roger, Dysplasia, Dermochelys, Cox, CRISPR, Measures Risk-, PORPOISE, Wash, Leana Wen, oncoEnrichR, Kaposi, Nivolumab, Pfizer, Arg, TABRECTA14, Antibiotics, TRKA, How Hormone Therapy, Nivolumab, Pancreatitis, Howard Hodgkin, Kemp, Measures Loss, Uhlen et al., Cerami et al., Main Outcomes]\n",
      "QUANTITY [3-kinase, six inches]\n",
      "FAC [Blood, the Byam Shaw School of Art]\n",
      "WORK_OF_ART [Cognitive]\n",
      "PRODUCT [Janus, E585K, Classic Hodgkin, BRCA1, BRCA1, HP, R0, Gastritis, Caretta, BRCA1, Chole, V600, Gastritis PUD]\n",
      "NORP [BRCA1, obese, non-mendelian, Hispanic, Jewish, NSCLC),3, Eastern European, Dutch, Eastern European, Americans, Langerhans, Ashkenazi, Mendelian, Rahat, Latin, Indian, American, Jewish, Americans, Asian, African, Lymphatic, Western, Ashkenazi]\n",
      "ORDINAL [First, second, first, first, first, third, Firstly, first, first, first, first, first, first, first, third, first, fourth, second, first, first, second, second, first, first, second]\n",
      "GPE [New Zealand, Spain, astrocytoma, the United States.1,2, TRKA, USA, Malaria, RAS, IV, Black, Krauss, Israel, US, KS, Metaplasia, Sensory, death.1, ToGA, JAK, ER, hemophilia, BRCA1, the United States, the United Kingdom, London, The United States, U.S., Australia, TRKA, Virtual, melanomas, U.S., Dallas, Lapatinib, Boston, ERBB2, India, Dysplasia, TRKA, Ireland, U.S., Canada, Florida, KS, US, U.S., Ahmedabad, New Zealand, BRCA1, U.S., the United States, TRKA, KS, Canada, Chelonia, Atlanta, US, Acid reflux, US, IV, the United States, CI, CI, KS, Texas, Texas, Irving, KS, KS, the United States, U.S., U.S., RAS, Tennessee, U.S., CI, Australia, KS, KS, ER, Radon, the United States]\n",
      "PERCENT [95%, 18.1%, 55.1%, 95%, 5%, 0.09%, 5%, less than 10%, 0.01%-0.75%, 1%-25%, 16.3%, 95%, 32%, 1–3%, 99%, between 5% and 6%, about 99 percent, 0.18%, 95%, 95%, 90%, 0.09%-0.36%, 95%, as little as 0–18%, 0%, 77%, 95%, nearly 90%, 21%, 39%-71%, 1.81%-4.12%, about 95%, 88%, 0.13%, 4%, 14%, 33%, 4.61%, less than 1%, about 0.2%, 95%, 1.30%-3.09%, 68%, 50%, as much as 40 percent, About 20%, 13.6%, 95%, 0.10%, 0.04%-0.23%, Approximately 20%, 95%, more than 80%, 30%, 0.02%, 20%, 95%, 30%, around 62 percent, 100%, 0.0%-0.15%, About 11%, only 18 percent, 95%, less than 50%, about 5%, 57.7%, about 3.6%, 81.9%, 2.00%, 2.34%-8.90%, 95%, 2%, 14%, 81.9%, only about 23%, 76%, less than 6%, around 13%, 59.6%, 88.1%, 0.22%-0.95%, less than 5%, 95%, 95%, 0.45%, up to 22%, 30%, less than 10%, 57%, 95%, 73.5%, 0.10%, 27%, 2.74%, 95%, 12.1%, more than 70%, Seventy-six percent, 9.7%, more than 90%, less than 1%, 95%, 24%, 83.7%]\n",
      "TIME [82-112) seconds, ten minutes, 74-96) seconds, 7-8 hours, 5 to 10 minutes, a few seconds, 10:24 PM PDT, 12 hours, about 10 p.m., a few minutes, 82-112) seconds, 74-96) seconds]\n"
     ]
    }
   ],
   "source": [
    "labels = set([w.label_ for w in doc.ents])\n",
    "for label in labels:\n",
    "    entities = [e for e in doc.ents if label == e.label_]\n",
    "    entities = list(set(entities))\n",
    "    print(label, entities)"
   ],
   "metadata": {
    "collapsed": false,
    "pycharm": {
     "name": "#%%\n"
    }
   }
  },
  {
   "cell_type": "markdown",
   "source": [
    "# Now let's train the model to learn new Named Entities\n",
    "\n",
    "Reference: https://www.machinelearningplus.com/nlp/training-custom-ner-model-in-spacy/"
   ],
   "metadata": {
    "collapsed": false,
    "pycharm": {
     "name": "#%% md\n"
    }
   }
  }
 ],
 "metadata": {
  "kernelspec": {
   "display_name": "Python 3",
   "language": "python",
   "name": "python3"
  },
  "language_info": {
   "codemirror_mode": {
    "name": "ipython",
    "version": 2
   },
   "file_extension": ".py",
   "mimetype": "text/x-python",
   "name": "python",
   "nbconvert_exporter": "python",
   "pygments_lexer": "ipython2",
   "version": "2.7.6"
  }
 },
 "nbformat": 4,
 "nbformat_minor": 0
}