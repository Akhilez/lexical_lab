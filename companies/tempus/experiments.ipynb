{
 "cells": [
  {
   "cell_type": "markdown",
   "metadata": {
    "collapsed": true,
    "pycharm": {
     "name": "#%% md\n"
    }
   },
   "source": [
    "# This file is *raw*.\n",
    "A few experiments if you are interested in taking a look at how I tried to get insights from the data.\n",
    "I wrote neat python files based off these experiments.\n",
    "\n",
    "# 1. Frequency of given keywords in the data\n",
    "## Check if these keywords exist in the data, if so, how often?"
   ]
  },
  {
   "cell_type": "code",
   "execution_count": 1,
   "outputs": [],
   "source": [
    "# imports\n",
    "import re\n",
    "from typing import Dict\n",
    "import spacy\n",
    "from os import listdir, makedirs\n",
    "from os.path import join\n",
    "from typing import Tuple\n",
    "from typing import List, Mapping\n",
    "from spacy.lang.en import English\n",
    "from spacy.training import Example"
   ],
   "metadata": {
    "collapsed": false,
    "pycharm": {
     "name": "#%%\n"
    }
   }
  },
  {
   "cell_type": "code",
   "execution_count": 2,
   "outputs": [],
   "source": [
    "# 1.1 Get keywords\n",
    "\n",
    "\n",
    "def get_keywords(path) -> Dict[str, List[str]]:\n",
    "    with open(path, \"r\") as keywords_file:\n",
    "        keywords_data = keywords_file.readlines()\n",
    "\n",
    "    category_keywords = {}\n",
    "    for i in range(len(keywords_data)):\n",
    "        category, keywords = keywords_data[i].split(\":\")\n",
    "        keywords = keywords.split(\",\")\n",
    "        keywords = [keyword.strip() for keyword in keywords]\n",
    "        category_keywords[category] = keywords\n",
    "\n",
    "    return category_keywords\n",
    "\n",
    "\n",
    "entity_names_path = \"/Users/akhil/code/lexical_lab/companies/tempus/Data/entity_names.txt\"\n",
    "category_keywords = get_keywords(entity_names_path)"
   ],
   "metadata": {
    "collapsed": false,
    "pycharm": {
     "name": "#%%\n"
    }
   }
  },
  {
   "cell_type": "code",
   "execution_count": 3,
   "outputs": [],
   "source": [
    "def get_text_data(data_path) -> List[str]:\n",
    "    # Yeah, I'm keeping everything in memory. It is not large, so I assume it is fine.\n",
    "    list_of_text = []\n",
    "\n",
    "    file_names = listdir(data_path)\n",
    "\n",
    "    for file_name in file_names:\n",
    "        # Validate filename\n",
    "        if not re.match(r\"j[0-9]+\\.txt\", file_name):\n",
    "            continue\n",
    "\n",
    "        with open(join(data_path, file_name), \"r\") as text_file:\n",
    "            text = text_file.read()\n",
    "            list_of_text.append(text)\n",
    "\n",
    "    return list_of_text\n",
    "\n",
    "\n",
    "data_path = \"/Users/akhil/code/lexical_lab/companies/tempus/Data\"\n",
    "list_of_text = get_text_data(data_path)"
   ],
   "metadata": {
    "collapsed": false,
    "pycharm": {
     "name": "#%%\n"
    }
   }
  },
  {
   "cell_type": "code",
   "execution_count": 4,
   "outputs": [],
   "source": [
    "# 1.2 For each keyword, find how many times it is repeated\n",
    "\n",
    "\n",
    "def count_and_update(category_keywords, keyword_counts, text):\n",
    "    for category in category_keywords:\n",
    "        for keyword in category_keywords[category]:\n",
    "            keyword_counts[category][keyword] += text.count(keyword)\n",
    "\n",
    "def get_keyword_counts(list_of_text):\n",
    "  keyword_counts = {\n",
    "      category: {keyword: 0 for keyword in category_keywords[category]}\n",
    "      for category in category_keywords\n",
    "  }\n",
    "\n",
    "  for text in list_of_text:\n",
    "      count_and_update(category_keywords, keyword_counts, text)\n",
    "\n",
    "  return keyword_counts\n",
    "\n",
    "\n",
    "keyword_counts = get_keyword_counts(list_of_text)"
   ],
   "metadata": {
    "collapsed": false,
    "pycharm": {
     "name": "#%%\n"
    }
   }
  },
  {
   "cell_type": "code",
   "execution_count": 5,
   "outputs": [
    {
     "data": {
      "text/plain": "{'cancertype': {'nsclc': 0,\n  'sclc': 0,\n  'dcis': 0,\n  'non small cell lung cancer': 0,\n  'breast cancer': 13,\n  'lung cancer': 10,\n  'prostate cancer': 8,\n  'adenocarcinoma': 8,\n  'testicular cancer': 1,\n  \"Kaposi's sarcoma\": 1,\n  'colorectal cancer': 18,\n  'glioblastoma': 2,\n  'melanoma': 14,\n  'hodgkin lymphoma': 0,\n  'squamous cell carcinoma': 1},\n 'medication': {'pembrolizumab': 1,\n  'bicalutamide': 0,\n  'Gefitinib': 0,\n  'Pertuzumab': 0,\n  'Giotrif': 0,\n  'imfinzi': 0,\n  'tagrisso': 0,\n  'nivolumab': 1,\n  'lapatinib': 12,\n  'capecitabine': 6},\n 'biomarkers': {'metex14': 0,\n  'egfr': 0,\n  'kras': 0,\n  'braf': 0,\n  'ntrk': 0,\n  'nrg1': 0,\n  'her2': 0,\n  'her-2': 0,\n  'erbb2': 0,\n  'er-bb2': 0,\n  'brca': 0,\n  'brca1': 0,\n  'brca2': 0,\n  'brca3': 0,\n  'alk': 9,\n  'ret': 27,\n  'fgfr2': 0,\n  'her 2': 2,\n  'pr': 489,\n  'er': 1865,\n  'pgr': 1,\n  'met': 58},\n 'procedure_therapy': {'lumpectomy': 2, 'biopsy': 6}}"
     },
     "execution_count": 5,
     "metadata": {},
     "output_type": "execute_result"
    }
   ],
   "source": [
    "keyword_counts"
   ],
   "metadata": {
    "collapsed": false,
    "pycharm": {
     "name": "#%%\n"
    }
   }
  },
  {
   "cell_type": "markdown",
   "source": [
    "### Most of these keywords have low frequency.\n",
    "\n",
    "Biomarkers er and per got unusually high numbers because \"er\" is part of many common words.\n",
    "And I am not checking for \"er\" as a token, but just getting the substring count.\n",
    "\n",
    "This is fine because I just want to get an idea of how often these keywords are used."
   ],
   "metadata": {
    "collapsed": false,
    "pycharm": {
     "name": "#%% md\n"
    }
   }
  },
  {
   "cell_type": "markdown",
   "source": [
    "# 2. What are the most used words that are not stopwords (like \"the\")?\n",
    "\n",
    "2.1. tokenize the text and then find frequency.\n",
    "\n",
    "Reference: https://blog.ekbana.com/nlp-for-beninners-using-spacy-6161cf48a229"
   ],
   "metadata": {
    "collapsed": false,
    "pycharm": {
     "name": "#%% md\n"
    }
   }
  },
  {
   "cell_type": "code",
   "execution_count": 6,
   "outputs": [
    {
     "data": {
      "text/plain": "'hello.'"
     },
     "execution_count": 6,
     "metadata": {},
     "output_type": "execute_result"
    }
   ],
   "source": [
    "def preprocess_text(text):\n",
    "    text = text.replace('\\n', ' ')\n",
    "    text = text.replace('  ', ' ')\n",
    "    text = re.sub(r'\\[[0-9]+]', '', text)  # Removes citations of kind [1]\n",
    "    return text\n",
    "\n",
    "preprocess_text('hello.[1]')"
   ],
   "metadata": {
    "collapsed": false,
    "pycharm": {
     "name": "#%%\n"
    }
   }
  },
  {
   "cell_type": "code",
   "execution_count": 7,
   "outputs": [],
   "source": [
    "nlp = spacy.load(\"en_core_web_sm\")\n",
    "\n",
    "text = '. '.join(list_of_text)\n",
    "text = preprocess_text(text)"
   ],
   "metadata": {
    "collapsed": false,
    "pycharm": {
     "name": "#%%\n"
    }
   }
  },
  {
   "cell_type": "code",
   "execution_count": 8,
   "outputs": [],
   "source": [
    "doc = nlp(text)\n",
    "del text"
   ],
   "metadata": {
    "collapsed": false,
    "pycharm": {
     "name": "#%%\n"
    }
   }
  },
  {
   "cell_type": "code",
   "execution_count": 9,
   "outputs": [
    {
     "name": "stdout",
     "output_type": "stream",
     "text": [
      "Curwen Eliot Hodgkin was born on 19 June 1905 , the only son of Charles Ernest Hodgkin and his wife , Alice Jane ( née Brooke ) . The Hodgkins were a Quaker family and were related to Roger Fry . The scientist Thomas Hodgkin was his great - grandfather 's older brother and the abstract painter Howard Hodgkin ( 1932–2017 ) was his cousin . Hodgkin was educated at Harrow School from 1919 to 1923 . His artistic life started in London at the Byam Shaw School of Art and at the Royal Academy Schools under Francis Ernest Jackson \n",
      "-------------------------------------\n",
      "--- Curwen Eliot Hodgkin was born on 19 June 1905, the only son of Charles Ernest Hodgkin and his wife, Alice Jane (née Brooke).\n",
      "--- The Hodgkins were a Quaker family and were related to Roger Fry.\n",
      "--- The scientist Thomas Hodgkin was his great-grandfather's older brother and the abstract painter Howard Hodgkin (1932–2017) was his cousin.\n",
      "--- Hodgkin was educated at Harrow School from 1919 to 1923.\n",
      "--- His artistic life started in London at the Byam Shaw School of Art and at the Royal Academy Schools under Francis Ernest Jackson. .\n",
      "\n"
     ]
    }
   ],
   "source": [
    "# Raw words\n",
    "words = [token.text for token in doc[:100]]\n",
    "\n",
    "[print(word, end=' ') for word in words]\n",
    "print('\\n-------------------------------------')\n",
    "\n",
    "# Raw sentences\n",
    "[print(f'--- {sentence}') for sentence in list(doc.sents)[:5]]\n",
    "print()"
   ],
   "metadata": {
    "collapsed": false,
    "pycharm": {
     "name": "#%%\n"
    }
   }
  },
  {
   "cell_type": "code",
   "execution_count": 10,
   "outputs": [
    {
     "name": "stdout",
     "output_type": "stream",
     "text": [
      "['Curwen', 'Eliot', 'Hodgkin', 'born', '19', 'June', '1905', 'son', 'Charles', 'Ernest', 'Hodgkin', 'wife', 'Alice', 'Jane', 'née', 'Brooke', 'Hodgkins', 'Quaker', 'family', 'related', 'Roger', 'Fry', 'scientist', 'Thomas', 'Hodgkin', 'great', 'grandfather', 'older', 'brother', 'abstract', 'painter', 'Howard', 'Hodgkin', '1932–2017', 'cousin', 'Hodgkin', 'educated', 'Harrow', 'School', '1919', '1923', 'artistic', 'life', 'started', 'London', 'Byam', 'Shaw', 'School', 'Art', 'Royal']\n"
     ]
    }
   ],
   "source": [
    "# Words without stopwords\n",
    "words = [token.text for token in doc if not token.is_stop and not token.is_punct]\n",
    "print (words[:50])"
   ],
   "metadata": {
    "collapsed": false,
    "pycharm": {
     "name": "#%%\n"
    }
   }
  },
  {
   "cell_type": "code",
   "execution_count": 11,
   "outputs": [
    {
     "name": "stdout",
     "output_type": "stream",
     "text": [
      "['Curwen', 'Eliot', 'Hodgkin', 'bear', '19', 'June', '1905', 'son', 'Charles', 'Ernest', 'Hodgkin', 'wife', 'Alice', 'Jane', 'née', 'Brooke', 'Hodgkins', 'Quaker', 'family', 'relate', 'Roger', 'Fry', 'scientist', 'Thomas', 'Hodgkin', 'great', 'grandfather', 'old', 'brother', 'abstract', 'painter', 'Howard', 'Hodgkin', '1932–2017', 'cousin', 'Hodgkin', 'educate', 'Harrow', 'School', '1919', '1923', 'artistic', 'life', 'start', 'London', 'Byam', 'Shaw', 'School', 'Art', 'Royal']\n"
     ]
    }
   ],
   "source": [
    "# Lemmantized words without stopwords\n",
    "words = [token.lemma_ for token in doc if not token.is_stop and not token.is_punct]\n",
    "print (words[:50])"
   ],
   "metadata": {
    "collapsed": false,
    "pycharm": {
     "name": "#%%\n"
    }
   }
  },
  {
   "cell_type": "code",
   "execution_count": 12,
   "outputs": [
    {
     "name": "stdout",
     "output_type": "stream",
     "text": [
      "('cancer', 254)\n",
      "('patient', 136)\n",
      "('mutation', 90)\n",
      "('cell', 74)\n",
      "('treatment', 72)\n",
      "('cause', 69)\n",
      "('include', 67)\n",
      "('gene', 66)\n",
      "('study', 63)\n",
      "('disease', 62)\n",
      "('year', 62)\n",
      "('rate', 60)\n",
      "('\\u2009', 52)\n",
      "('symptom', 50)\n",
      "('test', 49)\n",
      "\n"
     ]
    }
   ],
   "source": [
    "from collections import Counter\n",
    "\n",
    "word_freq = Counter(words)\n",
    "common_words = word_freq.most_common(15)\n",
    "[print(word_count) for word_count in common_words]\n",
    "print()"
   ],
   "metadata": {
    "collapsed": false,
    "pycharm": {
     "name": "#%%\n"
    }
   }
  },
  {
   "cell_type": "markdown",
   "source": [
    "kind of obvious, but the data (most frequent words) show that the text information is mostly related to clinical/health.\n",
    "\n",
    "---\n",
    "\n",
    "Let's check what name\n",
    "Let's check what named entities the model picked up by defaultd entities the model picked up by default"
   ],
   "metadata": {
    "collapsed": false,
    "pycharm": {
     "name": "#%% md\n"
    }
   }
  },
  {
   "cell_type": "code",
   "execution_count": 13,
   "outputs": [
    {
     "name": "stdout",
     "output_type": "stream",
     "text": [
      "MONEY [less than 200 mL, tens of millions, nearly $700 billion]\n",
      "PERSON [sorafenib.¹ Malignant, Measures Loss, Uhlen et al., Pancreatitis, EGFR, Maalox, von Willebrand, Endocrine, Main Outcomes, PrEP, Officer Robert Reeves, Ridley, Nivolumab, Cancer, Brooke, docetaxel, TABRECTA14, Plaquenil, Hydroxychloroquine, Wen, survival.4, Madison McDonald, Main Outcomes, Gastric, Behan et al., Kidney, Huang et al., Main Outcomes, Nivolumab, Main Outcomes, Dr Emmanuel, oncoEnrichR, Kaposi, Nivolumab, Archer Hammond, CRISPR, Cox, Leana Wen, Ridley, Roger Fry, Kaposi, Val, von Willebrand, von Willebrand, Kemp, Howard Hodgkin, EGFR, Nivolumab, Individual Molecular Tests, H2RAs, Main Outcomes, White, Creative Bioarray, Nivolumab, RAS)/MAPK, White, Francis Ernest Jackson, Chen et al., Normal Human Epidermal Melanocytes, Gleevec, Fungi, Enlarged liver, McDonald, Hepatitis A. Most, CDx, Tagamet, EGFR, Alice Jane, Antibiotics, Arg, Lepidochelys, V599K, TRKA, Embase, diarrhea headache heartburn, Curwen Eliot Hodgkin, Cox, trastuzumab, Nivolumab, Plaquenil, EGFR, Cerami et al., oncoEnrichR, Hydroxychloroquine, Nivolumab, Charles Ernest Hodgkin, Wash, CI, CRISPR, oncoEnrichR, Main Outcomes, Moderna, woolly adelgid, Black, Sara Brown, Thomas Hodgkin, Aralen®, Biopsy Lupus, Participants Phase 2, Lung, Rochelle Walensky, Reimand, H. Patients, Madison McDonald, mECX+L, Liver, Kitano, L596V, EGFR, Kaposi, Nivolumab, Participants Cohort, Main Outcomes, Nivolumab, Zhou, How Hormone Therapy, Dysplasia, Pancreatitis, Hepatitis B., Pfizer, von Willebrand, Martin, CDx, Main Outcomes, Dizziness, Measures Loss, Jail, PORPOISE, Dermochelys, Participants Cohort, Fungi, EGFR Signaling Pathway, Without Bevacizumab, Measures Risk-, Dexilant®]\n",
      "ORG [the Alliance/American College of Surgeons Clinical Research Program, Hydroxychloroquine, NAO, KRAS, UTUC, IHC, Smith and Sheltzer, ER, VWF, silico, ARF, NAO, BRCA1, Peptic Ulcer Disease, STAT, RTK, McDonald, the American Heart Association journal, MEK, NSCLC, the Preferred Reporting Items for Systematic Reviews, MEK, VWF, BRAF, ER, Annals of Oncology, pan-Erb TKI, The Cancer Genome Atlas Research Network, CRC, CDC, Avoid, KS, de novo mutations, UTUC, NGS, Erythrocyte, GERD, Hematology, AMIL, The Centers for Disease Control and Prevention, ARF, VWF, BRCA, J.B.S. Haldane, ECX, GERD, ARF, Src, MEK, BRCA2, BRCA1, RRT, The Cancer Genome Atlas, BRCA2, NEOD, KRAS G12C, MH, KEYNOTE-522, A727V, LUMAKRAS, BRCA1, MH, VWF, GI, cBioPortal, VWF, AMIL, the Irving Police Department, PE, WES, ECX, VWF, BRCA, UTUC, DDAC, LUMAKRAS, ICU, the Royal Academy Schools, Keytruda, FoundationOne, KATHERINE, ERBB2/HER2, MET, LUMAKRAS, RRT, CRISPR, PROSINT, BRCA2, BRCA2, AI, Quaker, Meta, ECX, BRAF, VWF, SFBT, CIPA, KRAS, SDRT, Cardiovascular, KRAS, BRCA2, CI, LUMAKRAS, ITT, CIPA, BRCA2, KRAS, the Flatiron Health Database, McKesson Corporation, Raf-MEK-ERK, AKT/mTOR, ITT Pvalue, TCGA, ARF, NAO, ICU, CT, VWF, PE, AKT/mTOR, BRCA1, Genetic Test May Help Predict Whether Prostate Cancer, Food Guide, Wen, FDA, CT, VWF, Scopus, Zantac®, RRT, RNA, BRCA2, RTK, PORPOISE, VWF, NGS, ICU, ECX, PE, DDAC, ERBB2/HER2, RNA, PUD, ERBB2/HER2, MH, ALK, de novo, McDonald, GERD, ECX, GEOMETRY, UTUC, VWF, BRCA1, KS, the Urology Care Foundation, National Comprehensive Cancer Network, the U.S., DDAC, the World Health Organization, motorcars, LUMAKRAS, BRAF, NBCBLK, Sensitivity, BCR, C-RAF, CIPA, ER, McDonald, PDGF, LES, VWF, Paracetamol, MH, TCHP, EGFR, Medicare, VWF, Irving, the US Centers for Disease Control and Prevention, VWF, PEPFAR, ECX, BRCA2, FoundationOne, MS, LES, NRG1, the American College of Surgeons’ Commission, the Mayo Clinic, KRAS, PE, CNN, IHC, ERBB2/HER2, KATHERINE, PROSINT, MH, D. Calcium, SDRT, the European Society for Medical Oncology, PROSINT, VWF, Lillian Mae, WSI, KRAS, RTK, ALK, HP, ALK, Pepto-Bismol®, ERK, EGF, PROSINT, Chemotherapy, NED, VWF, FD, Normal Human Epidermal Keratinocytes, Genotype-Tissue Expression Project, study14, LES, Drug, ERK, ERBB2/HER2, CRC, DDAC, KS, EGFR, ARF, The Associated Press IRVING, TKI, HPA, KATHERINE, BCR, McDonald’s, ARF, the Cancer Control Blueprint, CDC, LUMAKRAS, KATHERINE, ER, NAO, Medicare, UTUC, Background/Aim: The identification, Normal Human Neonatal Epidermal Keratinocytes, WES, BRAF, ARF, Rapid, WSI, BRCA2, NSCLC, FGFR2, azotemia, B-Raf, NTRK, Portal, WSI, FDA, World Health Organization, VWF, CDC, FDA, the Mayo Clinic, KIP, Losec®, ICU, MS, RET, Genital herpes Influenza Measles Chickenpox, RRT, Harrow School, AMIL, IG, MEK, HPA, MRC, CRC, CT, Wen, Keytruda, FDA, Hormonal, DDAC, ARF, the Global Fund, CIPA, ICU, CDC, G465E, AKT, BRCA2, the American College of Gastroenterology, U.N., LUMAKRAS, VWF, LUMAKRAS, GI, MSI-H, VWF, BRCA2, Profiler, BRCA, germline[1, Jain and Tuteja, VWF, EnrichR]\n",
      "LOC [Eastern Asia, North America, Antarctica, CRISPR-Cas9, Caribbean, Africa, Europe, North America, Caribbean, Europe, North America, Europe, Southeast Asia, Eastern Europe, Atlantic, North America, South-Central Asia]\n",
      "NORP [Indian, Jewish, Asian, obese, Western, Eastern European, non-mendelian, Ashkenazi, Rahat, Ashkenazi, Latin, Americans, BRCA1, NSCLC),3, Eastern European, Dutch, Hispanic, Americans, Langerhans, Mendelian, African, Jewish, Lymphatic, American]\n",
      "ORDINAL [first, fourth, first, second, first, first, First, second, Firstly, first, first, first, first, first, second, third, first, second, second, first, third, first, first, first, first]\n",
      "WORK_OF_ART [Cognitive]\n",
      "PRODUCT [HP, BRCA1, BRCA1, Classic Hodgkin, R0, Chole, Gastritis PUD, E585K, V600, BRCA1, Janus, Gastritis, Caretta]\n",
      "QUANTITY [six inches, 3-kinase]\n",
      "PERCENT [less than 1%, up to 22%, 0.10%, 95%, nearly 90%, 39%-71%, 55.1%, 5%, Approximately 20%, 30%, 95%, 0.04%-0.23%, 95%, less than 5%, only about 23%, 0.09%-0.36%, about 99 percent, 20%, 0.10%, 88%, 27%, 100%, 81.9%, 95%, around 13%, 4%, 2%, between 5% and 6%, less than 10%, 0.01%-0.75%, 4.61%, 95%, 76%, 95%, 1.30%-3.09%, about 0.2%, 32%, 18.1%, 95%, 73.5%, more than 90%, 68%, more than 80%, about 3.6%, 99%, less than 1%, less than 6%, 0.45%, 81.9%, 0%, 13.6%, 21%, as little as 0–18%, 95%, 95%, 57%, 95%, about 95%, 1.81%-4.12%, 0.13%, 2.00%, 95%, more than 70%, around 62 percent, 95%, 30%, 90%, 0.09%, only 18 percent, 95%, less than 10%, 57.7%, as much as 40 percent, 1%-25%, 14%, 88.1%, 2.34%-8.90%, 95%, About 20%, 83.7%, 30%, 95%, 50%, 0.02%, about 5%, 95%, 95%, 0.22%-0.95%, 77%, 5%, less than 50%, 95%, 59.6%, 0.0%-0.15%, 16.3%, 14%, 12.1%, About 11%, 2.74%, 1–3%, 33%, 0.18%, 24%, Seventy-six percent, 9.7%]\n",
      "CARDINAL [0.17, 9, 23, 1, 441, 53, 1, 10, four, 199, 23, 36, 26, 2, 5, 2, tens of thousands, 911, 2, 20, 5, 1:1, 0.70-0.90, 322, 128, two, 19, 3, nearly half, 26, 0.35, 11, 2, two, 14, 72/73, 6, 15, 163, 19, 6.4, 24, at least two and a half hours, 14, less than 2, 17, More than 2,000, two, 2, 6,7,8, two, about 1, 2, at least 1, 40,000, 1, 26, 1, 19, 21, 30, 9, One, 0.84-0.99, 1, 3, 0.78, two, 7236, 70, 3, 3, 1q21, 9, 139, Seventeen, Approximately 38 million, 24, 63, 9, 3, 1, 4, Nearly 200, 3,4,5, aerosolized, 0.73-0.87, 5, three, 1.44, eight, 0.74, 211, 55 527, at least one, 2, 136, 6, 55, 10, 160, 4, 19, 0.73-0.87, 150,000, 0.90, 22, 4, 0.70-0.90, two, 96, 870, two, 5, 2, 1, 1, 0.94, 615, one quarter, 0.84-0.99, seven, At least three, 3, 400, at least 30, 911, 39, dozens or hundreds, one, 36, 27, 3, 55, 1,200, 446, 2,500, 36, about 4, about 200, 24, two, at least one, two, three, three, 10, 19, 19, 2, 62, 55, 0.78, 5, 78, 24, 40, 74.5, 227, one, three, 73.0, 5, 199, 87.7, 2, 68, two, three-fourths, 29, 911, Two, three, two, 21, 2030, 2, 136, 2, two, 21, 6, 0.78, 190, 4, 4 2, six, 1, 227, 256, 0.02, 85.3, 426, 3, 24, 5, 19, 1, 3, 63, 200, 163, 2, 1, 19, 2, 23, 0.61, one, 20, 85, 122-177, 14, 90-90-90, 4, More than 30, 2, 139, 2, 30, two, 41, 3, 6, 3, 24, 5, 24, 28, 10, only 1, two, 2, 256, 14, 6, seven, 143, 11, 0.78, 2, 4, an estimated five-year, 16, 19, 60, nine, 3, 36, 6, 103, 1, 50, 1, 2, 6, Two, two, Only 1, 2, 0.60, five, 1000, 600, 20, 1, up to 15,000, 20, 929, over 15 million, 1, 15, 128, two, 20, 1, two, 1, Forty-six, One, 1, 3, 42, 3000, two, 24, 24, about 600, 24, half, one, 2, 24, 600, two, 3, 3, around two to three, 19, about 14,000, 122-177, one, 3, two, 1, One, millions, 57, 92, 92, 37, 24 366, 31, 26, 3, 54, 5, 7, 0.90, 15, 76,77, 10, 0, just 200, 61, 2, 3986, 4, 2, 12, older than 50, 30, 0.94, 85, three, 24, 2, 143, 14,68,69, 3, 1, 2, 34,000, 9, 4, 8, 5, 36, 1, two, 3, less than 5, 31, 3, Approximately 200, tens of thousands]\n",
      "DATE [10-year, 5-year, 2025, two weeks, each year, 5-year, 75, 2016, Tuesday, 10 years, 4-year, April 19, 2016, five-year, 2021, 2019, may appear days, between May 24, 2013, Wednesday, 2021, the age of, 1799, 7 years, elsewhere.7, September 2000 to December 2001, age 45, age 24, 6 months, 2025, weeks, 1 to 3 months, winter, 68, 1250, under 65, recent years, 72, 30-day, May 10, 2017, April 2016, Monday, 6, 50 years old, 2 years, 3037, seven to 10 days, between 51 and 70 years of age, between 2001 and 2005, 2001, many years, 71 years, 2013, years, 6 months, 5-year, age 50, August 2010, each week, 10 years, between January 1, 2009, 24-79 years, Today, 3 years, year, the last few years, days 1, every five years, 55, the school year, 2012, January 1, 2007, 8.6] years, August 2010, weekly, annually, years, 2009, spring, May 25, 2017, five-year, November 30, 2016, day 1, 36, 3 years, August 6 to December 31, 2019, the past 15 years, 5802, such things as season, the 1930s and, December 31, 2019, 30, 3 years, day 1, 1250, the last two weeks, August 1, 2017, the past few decades, 19 June 1905, two weeks, 1-year-old, 3 years, 2010, 2020, age 63, the last few years, 2016, the last few millennia, 16, April 6, 2021, weeks later, mammals 71, 10-year, 2013, each day, 5099, 2019, June 2021, Monday, days, the following year, February 25, 2013, 8 years, recent decades, 12 years, the past century, 5-year, annually, January 2016, annual, 6.8] years, 2014, July 15, 2021, 23-80 years, 1 or 2 years, 72–75, April 21, 2016, 5, between January 2009, days, year, April 30, 2020, January 2015, 1919, February 2013, as many as 12 months, 1 year, 5802, 20 weeks, 1923, 8.0] years, 2013, 2019, 49 years, March 2019 to August 2020, the age of 40, 44, the baseline year, 1940s, 5 years]\n",
      "FAC [Blood, the Byam Shaw School of Art]\n",
      "GPE [US, Texas, KS, astrocytoma, RAS, TRKA, the United States, melanomas, ER, Irving, U.S., Chelonia, hemophilia, KS, the United States, Atlanta, TRKA, the United States, Israel, The United States, IV, RAS, KS, Tennessee, ERBB2, US, KS, KS, New Zealand, London, U.S., Australia, U.S., Canada, US, Ahmedabad, the United Kingdom, KS, Virtual, U.S., Florida, New Zealand, the United States, Australia, Dysplasia, JAK, ToGA, Lapatinib, death.1, US, Acid reflux, U.S., Dallas, Texas, BRCA1, the United States, Radon, CI, U.S., KS, Metaplasia, Spain, Boston, CI, U.S., Sensory, TRKA, KS, Ireland, the United States.1,2, ER, USA, BRCA1, CI, Canada, U.S., Malaria, India, Black, TRKA, IV, Krauss]\n",
      "TIME [5 to 10 minutes, a few minutes, 74-96) seconds, 7-8 hours, 10:24 PM PDT, 74-96) seconds, 82-112) seconds, 82-112) seconds, a few seconds, 12 hours, ten minutes, about 10 p.m.]\n"
     ]
    }
   ],
   "source": [
    "labels = set([w.label_ for w in doc.ents])\n",
    "for label in labels:\n",
    "    entities = [e for e in doc.ents if label == e.label_]\n",
    "    entities = list(set(entities))\n",
    "    print(label, entities)"
   ],
   "metadata": {
    "collapsed": false,
    "pycharm": {
     "name": "#%%\n"
    }
   }
  },
  {
   "cell_type": "markdown",
   "source": [
    "# 3. Now let's train the model to learn new Named Entities\n",
    "\n",
    "Reference: https://www.machinelearningplus.com/nlp/training-custom-ner-model-in-spacy/"
   ],
   "metadata": {
    "collapsed": false,
    "pycharm": {
     "name": "#%% md\n"
    }
   }
  },
  {
   "cell_type": "markdown",
   "source": [
    "Each sentence has to be split and any containing named entities has to be written in this way:\n",
    "```python\n",
    "(\"Walmart is a leading e-commerce company\", {\"entities\": [(0, 7, \"ORG\")]})\n",
    "```"
   ],
   "metadata": {
    "collapsed": false,
    "pycharm": {
     "name": "#%% md\n"
    }
   }
  },
  {
   "cell_type": "code",
   "execution_count": 14,
   "outputs": [],
   "source": [
    "def get_entities_data_for_sentence(sentence, category_keywords):\n",
    "    data: List[Tuple[int, int, str]] = []\n",
    "\n",
    "    for category in category_keywords:\n",
    "        for keyword in category_keywords[category]:\n",
    "            pieces = keyword.split(' ')\n",
    "            words = sentence.split(' ')\n",
    "            current_index = 0\n",
    "            for word in words:\n",
    "                if pieces[0].lower() == word.lower():\n",
    "                    end_index = current_index + len(keyword)\n",
    "                    if sentence[current_index: end_index].lower() == keyword.lower():\n",
    "                        data.append((current_index, end_index, category))\n",
    "                current_index += len(word) + 1\n",
    "    return data"
   ],
   "metadata": {
    "collapsed": false,
    "pycharm": {
     "name": "#%%\n"
    }
   }
  },
  {
   "cell_type": "code",
   "execution_count": 15,
   "outputs": [
    {
     "name": "stdout",
     "output_type": "stream",
     "text": [
      "('When an abnormal, malignant growth of cells — which is called a tumor — forms in the prostate, it’s called prostate cancer.', {'entities': [(107, 122, 'cancertype')]})\n",
      "('In these cases, because the cancer is made of cells from the prostate, it’s still called prostate cancer.', {'entities': [(89, 104, 'cancertype')]})\n",
      "('According to the Urology Care Foundation, prostate cancer is the second-leading cause of cancer deaths for men in the United States.', {'entities': [(42, 57, 'cancertype')]})\n",
      "('Your healthcare provider may also need to delay or completely stop treatment with IMFINZI if you have severe side effects.', {'entities': [(82, 89, 'medication')]})\n",
      "('Erlotinib hydrochloride is approved to be used alone or with other drugs to treat: Non-small cell lung cancer that is metastatic and has certain EGFR gene mutations.', {'entities': [(98, 109, 'cancertype'), (145, 149, 'biomarkers')]})\n",
      "('The use of erlotinib hydrochloride to treat non-small cell lung cancer that does not have the EGFR gene mutations is no longer FDA-approved.', {'entities': [(59, 70, 'cancertype'), (94, 98, 'biomarkers')]})\n",
      "('METex14 has a complex biological structure requiring a test that is specifically designed to detect it15,16 FoundationOne®CDx was validated and optimized to detect the specific mutations leading to MET exon 14 skipping that were studied in the clinical trial for TABRECTA14 Patients were enrolled in GEOMETRY mono-1 by central confirmation of METex14 using an RNA-based clinical trial assay.', {'entities': [(0, 7, 'biomarkers'), (343, 350, 'biomarkers'), (198, 201, 'biomarkers')]})\n",
      "('A 99% positive percentage agreement was demonstrated when those with evaluable specimens were retested using FoundationOne®CDx (72/73)* Information on the FDA-approved test for the detection of METex14 in NSCLC is available at FDA.gov/CompanionDiagnostics or FoundationMedicine.com/F1CDx', {'entities': [(205, 210, 'cancertype'), (194, 201, 'biomarkers')]})\n",
      "('Who Receives Hormone Therapy Hormone therapy is used to treat prostate and breast cancers that use hormones to grow.', {'entities': [(75, 88, 'cancertype')]})\n",
      "('How Hormone Therapy Is Used with Other Cancer Treatments Range of scores for the Decipher test showing low, intermediate, and high risk of prostate cancer metastasis Genetic Test May Help Predict Whether Prostate Cancer Will Spread The test may help determine whether to treat with hormone therapy.', {'entities': [(139, 154, 'cancertype'), (204, 219, 'cancertype')]})\n",
      "('Squamous cell carcinoma and adenocarcinoma have defined premalignant precursor lesions.', {'entities': [(28, 42, 'cancertype'), (0, 23, 'cancertype')]})\n",
      "('Other risk factors for lung cancer include the following: History of or current tobacco use: cigarettes, pipes, and cigars.', {'entities': [(23, 34, 'cancertype')]})\n",
      "('Treatment with the immunotherapy medicine Keytruda (chemical name: pembrolizumab) plus chemotherapy before surgery, followed by Keytruda alone after surgery improved event-free survival better than chemotherapy alone in women diagnosed with early-stage triple-negative breast cancer, according to the latest results from the KEYNOTE-522 study.', {'entities': [(269, 282, 'cancertype')]})\n",
      "('Squires and Krauss provide a critique of our proof-of-principle phase 2 randomized PROSINT study,1 cautioning against early conclusions relative to the use of 24-Gy single-dose radiotherapy (SDRT) as a possible standard of care in prostate cancer radiotherapy.', {'entities': [(231, 246, 'cancertype')]})\n",
      "('Furthermore, gallium 68 prostate-specific membrane antigen scans in all prostate-specific antigen–relapsing patients post-SDRT detected only 1 intraprostatic tracer-avid lesion, biopsy proven as local recurrence.', {'entities': [(178, 184, 'procedure_therapy')]})\n",
      "('These agents include additional FDA-approved drugs that inhibit BCR-ABL protein activity as well as therapies aimed at ALK, RET, NTRK, and FGFR2 fusions.1,2 Investigators are seeking to add fusions involving the NRG1 gene to the list of targets.', {'entities': [(212, 216, 'biomarkers'), (139, 144, 'biomarkers')]})\n",
      "('First described in 2014 in lung adenocarcinoma, the most prevalent subtype of non–small cell lung cancer (NSCLC),3 NRG1 fusions have now been identified at low rates across many cancer types (Figure 15).4,5 Moreover, a growing body of evidence demonstrates that these fusions are oncogenic and potentially targetable in malignancies in desperate need of novel treatment options.', {'entities': [(93, 104, 'cancertype'), (115, 119, 'biomarkers')]})\n",
      "('Tucatinib is an oral, potent, human epidermal growth factor receptor 2 (HER2)-specific tyrosine kinase inhibitor (TKI) being developed as a novel treatment for ERBB2/HER2-positive breast cancer.', {'entities': [(180, 193, 'cancertype')]})\n",
      "('Breast cancer is the most common cancer among women worldwide and is the second leading cause of cancer-related death in the United States.1,2 Approximately 20% of breast cancers overexpress human epidermal growth factor receptor 2 (HER2).3,4 Human epidermal growth factor receptor 2 (expressed by ERBB2/HER2) is a transmembrane tyrosine kinase receptor that mediates cell growth, differentiation, and survival.', {'entities': [(0, 13, 'cancertype'), (164, 177, 'cancertype')]})\n",
      "('Cancers associated with overexpression of HER2 are more aggressive and, before the introduction of ERBB2/HER2-targeted agents, were associated with poorer overall survival compared with ERBB2/HER2 negative cancers.5 The introduction of antibody-based ERBB2/HER2-targeted therapies has led to significant improvements in outcomes in the neoadjuvant, adjuvant, and metastatic settings.6-10 Lapatinib, 1 of 2 currently approved tyrosine kinase inhibitors (TKIs), has shown modest benefit in the metastatic setting but is associated with epidermal growth factor receptor (EGFR) off-target toxic reactions, including rash and diarrhea.11 Similarly, neratinib, a pan-Erb TKI approved for use in the extended adjuvant setting, is also associated with EGFR-related toxic reactions.12 Treatment options for patients who experience disease progression after treatment with trastuzumab, pertuzumab, and T-DM1 are limited.', {'entities': [(42, 46, 'biomarkers')]})\n",
      "('Although there are no direct comparator trials, treatment guidelines currently recommend use of either lapatinib plus capecitabine, trastuzumab plus a cytotoxic chemotherapy, or lapatinib plus trastuzumab.4 Although lapatinib plus capecitabine is an approved regimen, it has not been studied in the setting of disease progression after earlier treatment with trastuzumab, pertuzumab, and T-DM1, nor has it been shown to improve overall survival.4 At this time, no single regimen is considered to be standard of care in this setting, and treatment options with better efficacy and improved tolerability for late-stage breast cancer are needed.', {'entities': [(617, 630, 'cancertype'), (103, 112, 'medication'), (178, 187, 'medication'), (216, 225, 'medication'), (231, 243, 'medication')]})\n",
      "('Importance The neoadjuvant treatment options for ERBB2-positive (also known as HER2-positive) breast cancer are associated with different rates of pathologic complete response (pCR).', {'entities': [(94, 107, 'cancertype')]})\n",
      "('Objective To examine the costs and disease outcomes associated with selection of various neoadjuvant followed by adjuvant treatment strategies for patients with ERBB2-positive breast cancer.', {'entities': [(176, 189, 'cancertype')]})\n",
      "('Design, Setting, and Participants In this economic evaluation, a decision-analytic model was developed to evaluate various neoadjuvant followed by adjuvant treatment strategies for women with ERBB2-positive breast cancer from a health care payer perspective in the United States.', {'entities': [(207, 220, 'cancertype')]})\n",
      "('Exposure There were 4 neoadjuvant regimens: (1) HP: trastuzumab (H) plus pertuzumab (P), (2) THP: paclitaxel (T) plus H plus P, (3) DDAC-THP: dose-dense anthracycline/cyclophosphamide (DDAC) plus THP, (4) TCHP: docetaxel (T) plus carboplatin (C) plus HP.', {'entities': [(73, 83, 'medication')]})\n",
      "('Nivolumab is approved to be used alone or with other drugs to treat: Classic Hodgkin lymphoma in adults whose disease has relapsed (come back) or has gotten worse after either: An autologous stem cell transplant and treatment with brentuximab vedotin¹; or At least three other types of treatment including an autologous stem cell transplant.¹ Colorectal cancer in adults and children 12 years and older.', {'entities': [(343, 360, 'cancertype'), (77, 93, 'cancertype'), (0, 9, 'medication')]})\n",
      "('Nivolumab is used alone or with ipilimumab to treat metastatic microsatellite instability-high (MSI-H) or mismatch repair deficient (dMMR) cancer that got worse after treatment with a fluoropyrimidine, oxaliplatin, and irinotecan hydrochloride.¹ Esophageal cancer or gastroesophageal junction adenocarcinoma.', {'entities': [(0, 9, 'medication')]})\n",
      "('Nivolumab is used: In patients whose esophageal cancer or gastroesophageal junction adenocarcinoma has been treated with a combination of chemotherapy and radiation therapy and then surgery to completely remove the cancer, but cancer cells were found in the removed tumor or lymph nodes.', {'entities': [(84, 98, 'cancertype'), (0, 9, 'medication')]})\n",
      "('In patients whose squamous cell carcinoma of the esophagus cannot be removed by surgery and has spread or come back after treatment with a fluoropyrimidine and platinum chemotherapy.¹ Gastric (stomach) cancer, gastroesophageal junction adenocarcinoma, or esophageal cancer that has spread.', {'entities': [(18, 41, 'cancertype')]})\n",
      "('Nivolumab is used with a fluoropyrimidine and platinum chemotherapy.¹ Hepatocellular carcinoma (a type of liver cancer).', {'entities': [(0, 9, 'medication')]})\n",
      "('Nivolumab is used with ipilimumab in patients who have already been treated with sorafenib.¹ Malignant pleural mesothelioma.', {'entities': [(0, 9, 'medication')]})\n",
      "('Nivolumab is used with ipilimumab as the first treatment in adults whose disease cannot be removed by surgery.', {'entities': [(0, 9, 'medication')]})\n",
      "('Nivolumab is used: In patients whose cancer cannot be removed by surgery or has metastasized.', {'entities': [(0, 9, 'medication')]})\n",
      "('Nivolumab is sometimes used with ipilimumab.', {'entities': [(0, 9, 'medication')]})\n",
      "('In patients who have had surgery to remove melanoma that has spread to the lymph nodes or has metastasized.', {'entities': [(43, 51, 'cancertype')]})\n",
      "('Non-small cell lung cancer.', {'entities': [(15, 26, 'cancertype')]})\n",
      "('Nivolumab is used: As the first treatment with ipilimumab in adults whose cancer is metastatic and has the PD-L1 protein but does not have mutations in the EGFR or ALK gene.', {'entities': [(0, 9, 'medication'), (156, 160, 'biomarkers'), (164, 167, 'biomarkers')]})\n",
      "('As the first treatment with ipilimumab and platinum chemotherapy in adults whose cancer is metastatic or recurrent but does not have mutations in the EGFR or ALK gene.', {'entities': [(150, 154, 'biomarkers'), (158, 161, 'biomarkers')]})\n",
      "('Patients whose cancer has a mutation in the EGFR or ALK gene should receive nivolumab only if their disease got worse after treatment with FDA-approved therapy for these gene mutations.', {'entities': [(76, 85, 'medication'), (44, 48, 'biomarkers'), (52, 55, 'biomarkers')]})\n",
      "('At the time of the trial design, trastuzumab was not provided by the manufacturer; therefore, lapatinib was selected.', {'entities': [(94, 103, 'medication')]})\n",
      "('We chose lapatinib, a dual inhibitor of epidermal growth factor receptor and HER2 available in an oral preparation, because it had shown activity in patients with HER2-positive advanced gastric cancer treated with chemotherapy.6 The primary objective of this ST03 lapatinib substudy was to assess the feasibility and safety of combining lapatinib with epirubicin, cisplatin, and capecitabine (ECX) chemotherapy in patients with resectable esophagogastric adenocarcinoma.', {'entities': [(264, 273, 'medication'), (337, 346, 'medication'), (379, 391, 'medication'), (77, 81, 'biomarkers')]})\n",
      "('This substudy was embedded within the MRC ST03 trial, Chemotherapy With or Without Bevacizumab or Lapatinib to Treat Operable Oesophagogastric Cancer, the full details of which are reported elsewhere.7', {'entities': [(98, 107, 'medication')]})\n",
      "('Design, Setting, and Participants The HERA trial was an international, multicenter, randomized trial that included 5099 patients with early-stage HER2-positive breast cancer, randomized between 2001 and 2005 to receive either no trastuzumab or trastuzumab, after adjuvant chemotherapy.', {'entities': [(160, 173, 'cancertype')]})\n",
      "('Local ER immunohistochemical (IHC) analyses, HER2 fluorescence in situ hybridization (FISH) ratio, and copy number results were available for 3037 patients (59.6%) randomized to observation and trastuzumab (1 or 2 years) (cohort 1).', {'entities': [(45, 49, 'biomarkers'), (6, 8, 'biomarkers')]})\n",
      "('Transcript levels of ESR1 and HER2 genes were available for 615 patients (12.1%) (cohort 2).', {'entities': [(30, 34, 'biomarkers')]})\n",
      "('Interactions among treatment, ER status, and HER2 amplification using predefined cutoffs were assessed in Cox proportional hazards regression models.', {'entities': [(45, 49, 'biomarkers'), (30, 32, 'biomarkers')]})\n",
      "('Levels of FISH and HER2 copy numbers were significantly higher in ER-negative patients (P\\u2009<\\u2009.001).', {'entities': [(19, 23, 'biomarkers')]})\n",
      "('In cohort 2, consistent with cohort 1, a significant predictive effect of the ESR1 gene for both end points was also observed (DFS Pvalue for interaction\\u2009=\\u2009.06; OS\\u2009=\\u2009.02), indicating that breast cancers with higher ESR1 levels also derive less benefit from trastuzumab.', {'entities': [(188, 201, 'cancertype')]})\n",
      "('Biopsy Lupus can harm your kidneys in many different ways, and treatments can vary, depending on the type of damage that occurs.', {'entities': [(0, 6, 'procedure_therapy')]})\n",
      "('Skin biopsy is sometimes performed to confirm a diagnosis of lupus affecting the skin.', {'entities': [(5, 11, 'procedure_therapy')]})\n",
      "('Among them, KRAS mutation is a special one.', {'entities': [(12, 16, 'biomarkers')]})\n",
      "('Therefore, it is particularly important to understand the mechanism of the KRAS mutation in the occurrence and development of pancreatic cancer, and to explore the method of its transformation into clinical tumor molecular targeted treatment sites, to further improve the therapeutic effect on pancreatic cancer.', {'entities': [(75, 79, 'biomarkers')]})\n",
      "('Therefore, to better design chemical drugs, this review based on the biological functions of KRAS, summarized the types of KRAS mutations and their relationship with pancreatic cancer and included the downstream signaling pathway Raf-MEK-ERK, PI3K-AKT, RalGDS-Ral of KRAS and the current medicinal treatment methods for KRAS mutations.', {'entities': [(123, 127, 'biomarkers'), (267, 271, 'biomarkers'), (320, 324, 'biomarkers')]})\n",
      "('Moreover, drug screening and clinical treatment for KRAS mutated cell and animal models of pancreatic cancer are also reviewed along with the prospect of targeted medicinal chemistry therapy for precision treatment of pancreatic cancer in the future.', {'entities': [(52, 56, 'biomarkers')]})\n",
      "('Two authors independently screened the titles and abstracts to select studies that met the eligibility criteria and reached consensus about which studies to include.', {'entities': [(83, 86, 'biomarkers')]})\n",
      "('Genetic testing for hereditary breast and ovarian cancer looks for mutations in the BRCA1 and BRCA2 genes.', {'entities': [(84, 89, 'biomarkers'), (94, 99, 'biomarkers')]})\n",
      "('Your doctor might suggest testing using a multigene panel, which looks for mutations in several genes at the same time, including BRCA1 and BRCA2.', {'entities': [(130, 135, 'biomarkers')]})\n",
      "('If you are of Ashkenazi Jewish or Eastern European ancestry, your doctor might suggest testing for three specific BRCA1 and BRCA2 mutations, called founder mutations.', {'entities': [(114, 119, 'biomarkers'), (124, 129, 'biomarkers')]})\n",
      "('The BRCA1 and BRCA2 genes The breast cancer 1 (BRCA1) and breast cancer 2 (BRCA2) genes are the genes most commonly affected in hereditary breast and ovarian cancer.', {'entities': [(30, 43, 'cancertype'), (58, 71, 'cancertype'), (4, 9, 'biomarkers'), (14, 19, 'biomarkers')]})\n",
      "('Normally, the BRCA1 and BRCA2 genes protect you from getting certain cancers.', {'entities': [(14, 19, 'biomarkers'), (24, 29, 'biomarkers')]})\n",
      "('But certain mutations in the BRCA1 and BRCA2 genes prevent them from working properly, so that if you inherit one of these mutations, you are more likely to get breast, ovarian, and other cancers.', {'entities': [(29, 34, 'biomarkers'), (39, 44, 'biomarkers')]})\n",
      "('You and your family members are more likely to have a BRCA1 or BRCA2 mutation if your family has a strong history of breast or ovarian cancer.', {'entities': [(54, 59, 'biomarkers'), (63, 68, 'biomarkers')]})\n",
      "('Because BRCA1 and BRCA2 mutations are inherited, family members with BRCA1 or BRCA2 mutations usually share the same mutation.', {'entities': [(8, 13, 'biomarkers'), (69, 74, 'biomarkers'), (18, 23, 'biomarkers'), (78, 83, 'biomarkers')]})\n",
      "('Oncologists often look for specific mutations in a person’s tumor biopsy findings because they can represent an important target for specific treatments.', {'entities': [(66, 72, 'procedure_therapy')]})\n",
      "('While I waited for what seemed like hours in a hospital gown on a cold metal table in an ER admissions room by myself, Mom and Dad signed papers and consulted with the administration to see what could be done for my extraordinary outbursts and melancholy “suicidal” ideations—which, by the way, were not actually suicidal ideations or intentions.', {'entities': [(89, 91, 'biomarkers')]})\n",
      "('More than 30 mutations of the BRAF gene associated with human cancers have been identified.', {'entities': [(30, 34, 'biomarkers')]})\n",
      "('The frequency of BRAF mutations varies widely in human cancers, from more than 80% in melanomas and nevi, to as little as 0–18% in other tumors, such as 1–3% in lung cancers and 5% in colorectal cancer.', {'entities': [(161, 172, 'cancertype'), (184, 201, 'cancertype'), (17, 21, 'biomarkers')]})\n",
      "('This mutation has been widely observed in papillary thyroid carcinoma, colorectal cancer, melanoma and non-small-cell lung cancer.', {'entities': [(118, 129, 'cancertype'), (71, 88, 'cancertype'), (90, 98, 'cancertype')]})\n",
      "('High frequency of BRAF V600E mutations have been detected in ameloblastoma, a benign but locally infiltrative odontogenic neoplasm.', {'entities': [(18, 22, 'biomarkers')]})\n",
      "('LUMAKRAS is a prescription medicine used to treat adults with non-small cell lung cancer (NSCLC): that has spread to other parts of the body or cannot be removed by surgery, and whose tumor has an abnormal KRAS G12C gene, and who have received at least one prior treatment for their cancer.', {'entities': [(77, 88, 'cancertype'), (206, 210, 'biomarkers')]})\n",
      "('Glioblastoma is a type of astrocytoma, a cancer that forms from star-shaped cells in the brain called astrocytes.', {'entities': [(0, 12, 'cancertype')]})\n",
      "('Glioblastoma tumors make their own blood supply, which helps them grow.', {'entities': [(0, 12, 'cancertype')]})\n",
      "('Doctors diagnose about 14,000 glioblastoma cases in the U.S. each year.', {'entities': [(30, 42, 'cancertype')]})\n",
      "('Objectives To assess the safety of adding lapatinib to epirubicin, cisplatin, and capecitabine (ECX) chemotherapy and to establish a recommended dose regimen for a phase 3 trial.', {'entities': [(42, 51, 'medication'), (82, 94, 'medication')]})\n",
      "('Design, Setting, and Participants Phase 2 randomized, open-label trial comparing standard ECX (sECX: 3 preoperative and 3 postoperative cycles of ECX with modified ECX plus lapatinib (mECX+L).', {'entities': [(173, 182, 'medication')]})\n",
      "('Interventions Patients were randomized 1:1 open-label to sECX (3 preoperative and 3 postoperative cycles of 50 mg/m2 of intravenous epirubicin on day 1, 60 mg/m2 intravenous cisplatin on day 1, 1250 mg/m2 of oral capecitabine on days 1 through 21) or mECX+L (ECX plus lapatinib days 1 through 21 in each cycle and as 6 maintenance doses).', {'entities': [(268, 277, 'medication'), (213, 225, 'medication')]})\n",
      "('The first 10 patients in the mECX+L arm were treated with 1000 mg/m2 of capecitabine and 1250 mg of lapatinib per day, after which preoperative toxic effects were reviewed according to predefined criteria to determine doses for subsequent patients.', {'entities': [(100, 109, 'medication'), (72, 84, 'medication')]})\n",
      "('Results Between February 2013, and April 2016, 441 patients underwent central HER2 testing and 63 (14%) were classified as HER2 positive.', {'entities': [(78, 82, 'biomarkers'), (123, 127, 'biomarkers')]})\n",
      "('One of 24 in the sECX arm and 3 of 20 in the mECX+L arm stopped preoperative treatment early, and for 4 of 19 in the mECX+L arm, lapatinib dose was reduced.', {'entities': [(129, 138, 'medication')]})\n",
      "(' A person with an average risk of colorectal cancer has about a 5% chance of developing colorectal cancer overall.', {'entities': [(34, 51, 'cancertype'), (88, 105, 'cancertype')]})\n",
      "('Generally, most colorectal cancers (about 95%) are considered sporadic, meaning the genetic changes develop by chance after a person is born, so there is no risk of passing these genetic changes on to one’s children.', {'entities': [(16, 33, 'cancertype')]})\n",
      "('Inherited colorectal cancers are less common (about 5%) and occur when gene mutations, or changes, are passed within a family from 1 generation to the next (see below).', {'entities': [(10, 27, 'cancertype')]})\n",
      "('Often, the cause of colorectal cancer is not known.', {'entities': [(20, 37, 'cancertype')]})\n",
      "('However, the following factors may raise a person’s risk of developing colorectal cancer: Age.', {'entities': [(71, 88, 'cancertype')]})\n",
      "('The risk of colorectal cancer increases as people get older.', {'entities': [(12, 29, 'cancertype')]})\n",
      "('Colorectal cancer can occur in young adults and teenagers, but the majority of colorectal cancers occur in people older than 50.', {'entities': [(0, 17, 'cancertype'), (79, 96, 'cancertype')]})\n",
      "('Older adults who are diagnosed with colorectal cancer face unique challenges, specifically with regard to cancer treatment.', {'entities': [(36, 53, 'cancertype')]})\n",
      "('It is important to note that while colorectal cancer is still diagnosed most commonly in older adults, the incidence rate for colorectal cancer declined by about 3.6% per year in adults 55 and older, based on the latest statistics.', {'entities': [(35, 52, 'cancertype'), (126, 143, 'cancertype')]})\n",
      "('Black people have the highest rates of sporadic, or non-hereditary, colorectal cancer in the United States.', {'entities': [(68, 85, 'cancertype')]})\n",
      "('Colorectal cancer is also a leading cause of cancer-related death among Black people.', {'entities': [(0, 17, 'cancertype')]})\n",
      "('Black women are more likely to die from colorectal cancer than women from any other racial group, and Black men are even more likely to die from colorectal cancer than Black women.', {'entities': [(40, 57, 'cancertype'), (145, 162, 'cancertype')]})\n",
      "('Because Black people are more likely to be diagnosed with colorectal cancer at a younger age, the American College of Gastroenterology suggests that Black people begin screening with colonoscopies at age 45 (see Screening).', {'entities': [(58, 75, 'cancertype')]})\n",
      "('A melanoma in its earliest stages is localized.', {'entities': [(2, 10, 'cancertype')]})\n",
      "('On average, the estimated five-year survival rate for melanomas detected while still localized is very high: about 99 percent in the U.S. Digging Deeper The chances of curing a melanoma drop sharply once it spreads, or metastasizes, beyond the original tumor site.', {'entities': [(177, 185, 'cancertype')]})\n",
      "('Normally, the first place a melanoma tumor metastasizes to is the lymph nodes, by literally draining melanoma cells into the lymphatic fluid, which carries the melanoma cells through the lymphatic channels to the nearest lymph node basin.', {'entities': [(28, 36, 'cancertype'), (101, 109, 'cancertype'), (160, 168, 'cancertype')]})\n",
      "('Unfortunately, when melanoma cells are carried to the lymph nodes, they can potentially be carried beyond the nodes to distant organs.', {'entities': [(20, 28, 'cancertype')]})\n",
      "('Once a melanoma has metastasized beyond the original tumor site, either to the skin en route to the lymph nodes (“in transit” metastases) or to the lymph nodes themselves, it is considered a stage III melanoma.', {'entities': [(7, 15, 'cancertype')]})\n",
      "('April 6, 2021, 10:24 PM PDT By The Associated Press IRVING, Texas — A woman who called 911 from the lobby of a suburban Dallas police department and said she had killed her 2 young daughters has been charged with two counts of capital murder, police said Tuesday.', {'entities': [(169, 174, 'biomarkers')]})\n",
      "(\"Recommended U.S. NEWS Atlanta mom files complaint alleging daughter's grade school segregated Black students NBCBLK 'Master poet, groundbreaking storyteller': Remembering a pioneer of Black literature Officials are working to determine what led to McDonald killing her 2 children. “\", {'entities': [(265, 270, 'biomarkers')]})\n",
      "('Participants included fee-for-service beneficiaries enrolled in Medicare Part A who had a major surgical resection for 9 common types of cancer surgery: colorectal, bladder, esophageal, kidney, liver, ovarian, pancreatic, lung, or prostate cancer.', {'entities': [(231, 246, 'cancertype')]})\n",
      "('Across the 9 different cancer surgery procedures, there was no significant difference in mortality changes between Black and White patients during the period under study (eg, prostate cancer: 0.35; 95% CI, 0.02-0.68; lung cancer: 0.61; 95% CI, −0.21 to 1.44).', {'entities': [(217, 228, 'cancertype'), (175, 190, 'cancertype')]})\n",
      "('That may be based on scans, bloodwork or some other kind of test, such as a breast biopsy or a bone marrow biopsy. “', {'entities': [(83, 89, 'procedure_therapy')]})\n",
      "('Lumpectomy is a surgery to remove cancer from the breast.', {'entities': [(0, 10, 'procedure_therapy')]})\n",
      "('Unlike mastectomy, lumpectomy removes only the tumor and a small rim of normal tissue around it.', {'entities': [(19, 29, 'procedure_therapy')]})\n",
      "('Lumpectomy is also called breast-conserving surgery, partial mastectomy and wide excision.', {'entities': [(0, 10, 'procedure_therapy')]})\n",
      "('Certain types of cancer can cause pleural effusions, lung cancer in men and breast cancer in women being the most common.', {'entities': [(76, 89, 'cancertype'), (53, 64, 'cancertype')]})\n",
      "('But other locally advanced cancers, such as some prostate cancers, may be cured.', {'entities': [(49, 64, 'cancertype')]})\n",
      "('Some cancers, such as testicular cancer, can spread to other parts of the body and still be very curable.', {'entities': [(22, 39, 'cancertype')]})\n",
      "(\"KS is caused by a virus called human herpes virus 8 (HHV-8), also known as Kaposi's sarcoma-associated herpes virus (KSHV).\", {'entities': [(75, 91, 'cancertype')]})\n",
      "('Up to one quarter of patients have metastatic colorectal cancer (mCRC) disease at initial diagnosis, and nearly half of those who are candidates for primary tumor surgery will eventually develop metastasis, resulting in a 5-year survival rate of 14% .', {'entities': [(46, 63, 'cancertype')]})\n",
      "('When my BRCA mutation was diagnosed, people would often say, “oh, you have that gene.”', {'entities': [(8, 12, 'biomarkers')]})\n",
      "('Actually, we all have BRCA1 and BRCA2 genes.', {'entities': [(22, 27, 'biomarkers'), (32, 37, 'biomarkers')]})\n",
      "('When BRCA genes have a mutation, they are unable to perform their tumor suppressor duty, putting those with the mutated genes at higher risk of cancer.', {'entities': [(5, 9, 'biomarkers')]})\n",
      "('Mutations in the gene encoding EGFR that lead to overexpression of the protein have been associated with a number of different cancers.', {'entities': [(31, 35, 'biomarkers')]})\n",
      "('Here I present an overview of the EGFR signaling pathway, as well as testing and therapeutic strategies for patients who test positive for various mutations in the signaling pathway.', {'entities': [(34, 38, 'biomarkers')]})\n",
      "('EGFR Signaling Pathway Following ligand binding at the extracellular domain, EGFR forms functionally active homo- or hetero-dimers.', {'entities': [(0, 4, 'biomarkers'), (77, 81, 'biomarkers')]})\n",
      "\n"
     ]
    }
   ],
   "source": [
    "sentencizer = English()  # just the language with no pipeline\n",
    "sentencizer.add_pipe(\"sentencizer\")\n",
    "tokenizer = sentencizer.tokenizer\n",
    "\n",
    "training_data: List[Tuple[str, Mapping[str, List[Tuple[int, int, str]]]]] = []\n",
    "for text in list_of_text:\n",
    "    text = preprocess_text(text)\n",
    "    for sentence in sentencizer(text).sents:\n",
    "        doc = tokenizer(sentence.text)\n",
    "        data = get_entities_data_for_sentence(sentence.text, category_keywords)\n",
    "        if data:\n",
    "            training_data.append((sentence.text, {'entities': data}))\n",
    "\n",
    "[print(x) for x in training_data]\n",
    "print()"
   ],
   "metadata": {
    "collapsed": false,
    "pycharm": {
     "name": "#%%\n"
    }
   }
  },
  {
   "cell_type": "code",
   "execution_count": 16,
   "outputs": [
    {
     "name": "stderr",
     "output_type": "stream",
     "text": [
      "/opt/homebrew/Caskroom/miniforge/base/envs/dl/lib/python3.8/site-packages/spacy/training/iob_utils.py:141: UserWarning: [W030] Some entities could not be aligned in the text \"Who Receives Hormone Therapy Hormone therapy is us...\" with entities \"[(75, 88, 'cancertype')]\". Use `spacy.training.offsets_to_biluo_tags(nlp.make_doc(text), entities)` to check the alignment. Misaligned entities ('-') will be ignored during training.\n",
      "  warnings.warn(\n",
      "/opt/homebrew/Caskroom/miniforge/base/envs/dl/lib/python3.8/site-packages/spacy/training/iob_utils.py:141: UserWarning: [W030] Some entities could not be aligned in the text \"Breast cancer is the most common cancer among wome...\" with entities \"[(0, 13, 'cancertype'), (164, 177, 'cancertype')]\". Use `spacy.training.offsets_to_biluo_tags(nlp.make_doc(text), entities)` to check the alignment. Misaligned entities ('-') will be ignored during training.\n",
      "  warnings.warn(\n",
      "/opt/homebrew/Caskroom/miniforge/base/envs/dl/lib/python3.8/site-packages/spacy/training/iob_utils.py:141: UserWarning: [W030] Some entities could not be aligned in the text \"In cohort 2, consistent with cohort 1, a significa...\" with entities \"[(188, 201, 'cancertype')]\". Use `spacy.training.offsets_to_biluo_tags(nlp.make_doc(text), entities)` to check the alignment. Misaligned entities ('-') will be ignored during training.\n",
      "  warnings.warn(\n",
      "/opt/homebrew/Caskroom/miniforge/base/envs/dl/lib/python3.8/site-packages/spacy/training/iob_utils.py:141: UserWarning: [W030] Some entities could not be aligned in the text \"The frequency of BRAF mutations varies widely in h...\" with entities \"[(161, 172, 'cancertype'), (184, 201, 'cancertype'...\". Use `spacy.training.offsets_to_biluo_tags(nlp.make_doc(text), entities)` to check the alignment. Misaligned entities ('-') will be ignored during training.\n",
      "  warnings.warn(\n",
      "/opt/homebrew/Caskroom/miniforge/base/envs/dl/lib/python3.8/site-packages/spacy/training/iob_utils.py:141: UserWarning: [W030] Some entities could not be aligned in the text \"Generally, most colorectal cancers (about 95%) are...\" with entities \"[(16, 33, 'cancertype')]\". Use `spacy.training.offsets_to_biluo_tags(nlp.make_doc(text), entities)` to check the alignment. Misaligned entities ('-') will be ignored during training.\n",
      "  warnings.warn(\n",
      "/opt/homebrew/Caskroom/miniforge/base/envs/dl/lib/python3.8/site-packages/spacy/training/iob_utils.py:141: UserWarning: [W030] Some entities could not be aligned in the text \"Inherited colorectal cancers are less common (abou...\" with entities \"[(10, 27, 'cancertype')]\". Use `spacy.training.offsets_to_biluo_tags(nlp.make_doc(text), entities)` to check the alignment. Misaligned entities ('-') will be ignored during training.\n",
      "  warnings.warn(\n",
      "/opt/homebrew/Caskroom/miniforge/base/envs/dl/lib/python3.8/site-packages/spacy/training/iob_utils.py:141: UserWarning: [W030] Some entities could not be aligned in the text \"Colorectal cancer can occur in young adults and te...\" with entities \"[(0, 17, 'cancertype'), (79, 96, 'cancertype')]\". Use `spacy.training.offsets_to_biluo_tags(nlp.make_doc(text), entities)` to check the alignment. Misaligned entities ('-') will be ignored during training.\n",
      "  warnings.warn(\n",
      "/opt/homebrew/Caskroom/miniforge/base/envs/dl/lib/python3.8/site-packages/spacy/training/iob_utils.py:141: UserWarning: [W030] Some entities could not be aligned in the text \"But other locally advanced cancers, such as some p...\" with entities \"[(49, 64, 'cancertype')]\". Use `spacy.training.offsets_to_biluo_tags(nlp.make_doc(text), entities)` to check the alignment. Misaligned entities ('-') will be ignored during training.\n",
      "  warnings.warn(\n"
     ]
    }
   ],
   "source": [
    "for i in range(len(training_data)):\n",
    "    sentence, config = training_data[i]\n",
    "    doc = nlp.make_doc(sentence)\n",
    "    example = Example.from_dict(doc, config)\n",
    "    training_data[i] = example"
   ],
   "metadata": {
    "collapsed": false,
    "pycharm": {
     "name": "#%%\n"
    }
   }
  },
  {
   "cell_type": "code",
   "execution_count": 17,
   "outputs": [],
   "source": [
    "nlp = spacy.load(\"en_core_web_sm\")\n",
    "\n",
    "# Getting the pipeline component\n",
    "ner = nlp.get_pipe(\"ner\")"
   ],
   "metadata": {
    "collapsed": false,
    "pycharm": {
     "name": "#%%\n"
    }
   }
  },
  {
   "cell_type": "code",
   "execution_count": 18,
   "outputs": [],
   "source": [
    "for category in category_keywords:\n",
    "    ner.add_label(category)"
   ],
   "metadata": {
    "collapsed": false,
    "pycharm": {
     "name": "#%%\n"
    }
   }
  },
  {
   "cell_type": "code",
   "execution_count": 19,
   "outputs": [
    {
     "data": {
      "text/plain": "['tok2vec', 'tagger', 'parser', 'attribute_ruler', 'lemmatizer', 'ner']"
     },
     "execution_count": 19,
     "metadata": {},
     "output_type": "execute_result"
    }
   ],
   "source": [
    "nlp.pipe_names"
   ],
   "metadata": {
    "collapsed": false,
    "pycharm": {
     "name": "#%%\n"
    }
   }
  },
  {
   "cell_type": "code",
   "execution_count": 20,
   "outputs": [
    {
     "data": {
      "text/plain": "['tok2vec', 'tagger', 'parser', 'attribute_ruler', 'lemmatizer']"
     },
     "execution_count": 20,
     "metadata": {},
     "output_type": "execute_result"
    }
   ],
   "source": [
    "# Disable pipeline components you dont need to change\n",
    "pipe_exceptions = [\"ner\", \"trf_wordpiecer\", \"trf_tok2vec\", 'transformer']\n",
    "unaffected_pipes = [pipe for pipe in nlp.pipe_names if pipe not in pipe_exceptions]\n",
    "unaffected_pipes"
   ],
   "metadata": {
    "collapsed": false,
    "pycharm": {
     "name": "#%%\n"
    }
   }
  },
  {
   "cell_type": "code",
   "execution_count": 21,
   "outputs": [],
   "source": [
    "# Import requirements\n",
    "import random\n",
    "from spacy.util import minibatch, compounding\n",
    "from tqdm import tqdm"
   ],
   "metadata": {
    "collapsed": false,
    "pycharm": {
     "name": "#%%\n"
    }
   }
  },
  {
   "cell_type": "code",
   "execution_count": 22,
   "outputs": [
    {
     "name": "stderr",
     "output_type": "stream",
     "text": [
      "/opt/homebrew/Caskroom/miniforge/base/envs/dl/lib/python3.8/site-packages/thinc/layers/layernorm.py:32: RuntimeWarning: divide by zero encountered in reciprocal\n",
      "  d_xhat = N * dY - sum_dy - dist * var ** (-1.0) * sum_dy_dist\n"
     ]
    },
    {
     "name": "stdout",
     "output_type": "stream",
     "text": [
      "Epoch: 0\tLoss: 254.3746056325797\n",
      "Epoch: 1\tLoss: 152.74144408660402\n",
      "Epoch: 2\tLoss: 170.8404259619373\n",
      "Epoch: 3\tLoss: 123.22028200434019\n",
      "Epoch: 4\tLoss: 77.26609484289574\n",
      "Epoch: 5\tLoss: 64.6417690404454\n",
      "Epoch: 6\tLoss: 61.421162147304216\n",
      "Epoch: 7\tLoss: 55.738643590117206\n",
      "Epoch: 8\tLoss: 43.61318373446662\n",
      "Epoch: 9\tLoss: 34.14602403049772\n",
      "Epoch: 10\tLoss: 29.957658600854067\n",
      "Epoch: 11\tLoss: 24.937913697134007\n",
      "Epoch: 12\tLoss: 22.939140397281683\n",
      "Epoch: 13\tLoss: 18.26442534025517\n",
      "Epoch: 14\tLoss: 24.522137893131376\n",
      "Epoch: 15\tLoss: 8.736459508790267\n",
      "Epoch: 16\tLoss: 12.991512612958731\n",
      "Epoch: 17\tLoss: 10.932450152834084\n",
      "Epoch: 18\tLoss: 14.41187215969225\n",
      "Epoch: 19\tLoss: 18.63197126806981\n",
      "Epoch: 20\tLoss: 11.416505657967507\n",
      "Epoch: 21\tLoss: 25.420725724146124\n",
      "Epoch: 22\tLoss: 12.403011272780054\n",
      "Epoch: 23\tLoss: 11.664326771427472\n",
      "Epoch: 24\tLoss: 9.016455042132538\n",
      "Epoch: 25\tLoss: 10.704378663445047\n",
      "Epoch: 26\tLoss: 6.713856581902071\n",
      "Epoch: 27\tLoss: 6.382436490139685\n",
      "Epoch: 28\tLoss: 4.6218088123257814\n",
      "Epoch: 29\tLoss: 7.148344934385564\n"
     ]
    }
   ],
   "source": [
    "# TRAINING THE MODEL\n",
    "with nlp.disable_pipes(*unaffected_pipes):\n",
    "\n",
    "    # Training for 30 iterations\n",
    "    for iteration in range(30):\n",
    "        # shuffling examples  before every iteration\n",
    "        random.shuffle(training_data)\n",
    "        losses = {}\n",
    "        epoch_loss = 0\n",
    "        n_batches = 0\n",
    "        # batch up the examples using spaCy's minibatch\n",
    "        batches = minibatch(training_data, size=4)\n",
    "        for batch in batches:\n",
    "            nlp.update(\n",
    "                batch,  # Batch of examples\n",
    "                drop=0.5,  # dropout - make it harder to memorise data\n",
    "                losses=losses,\n",
    "            )\n",
    "            epoch_loss += losses['ner']\n",
    "            n_batches += 1\n",
    "        epoch_loss /= n_batches\n",
    "        print(f'Epoch: {iteration}\\tLoss: {epoch_loss}')"
   ],
   "metadata": {
    "collapsed": false,
    "pycharm": {
     "name": "#%%\n"
    }
   }
  },
  {
   "cell_type": "code",
   "execution_count": 23,
   "outputs": [],
   "source": [
    "output_model_path = '/Users/akhil/code/lexical_lab/companies/tempus/output/model2'\n",
    "makedirs(output_model_path, exist_ok=True)\n",
    "nlp.to_disk(output_model_path)"
   ],
   "metadata": {
    "collapsed": false,
    "pycharm": {
     "name": "#%%\n"
    }
   }
  },
  {
   "cell_type": "code",
   "execution_count": 24,
   "outputs": [
    {
     "name": "stdout",
     "output_type": "stream",
     "text": [
      "Entities [('asdfewga cancer', 'cancertype')]\n"
     ]
    }
   ],
   "source": [
    "# Prediction\n",
    "\n",
    "doc = nlp(\"I am suffering from asdfewga cancer\")\n",
    "print(\"Entities\", [(ent.text, ent.label_) for ent in doc.ents])"
   ],
   "metadata": {
    "collapsed": false,
    "pycharm": {
     "name": "#%%\n"
    }
   }
  },
  {
   "cell_type": "markdown",
   "source": [
    "# Okay, so the model is now able to predict new cancer types.\n",
    "\n",
    "---\n",
    "\n",
    "- The primary goal of this assessment is complete.\n",
    "- It needs some more data - like more cancer types, and more examples of other entities.\n",
    "- Further manual inspection of the data might also reveal more insights (where the model is failing, etc.)\n",
    "- I will definitely need to split the data into training and testing, so I can quantify how good the model is training. However, the training data is too small."
   ],
   "metadata": {
    "collapsed": false,
    "pycharm": {
     "name": "#%% md\n"
    }
   }
  },
  {
   "cell_type": "code",
   "execution_count": 25,
   "outputs": [
    {
     "name": "stdout",
     "output_type": "stream",
     "text": [
      "j101.txt\tmedication\tHodgkin\n",
      "j101.txt\tmedication\tHodgkin\n",
      "j101.txt\tmedication\tHodgkin\n",
      "j101.txt\tmedication\tLondon\n",
      "j38.txt\tcancertype\tprostate cancer\n",
      "j38.txt\tcancertype\tprostate cancer\n",
      "j38.txt\tcancertype\tprostate cancer\n",
      "j11.txt\tmedication\tIMFINZI\n",
      "j11.txt\tmedication\tIMFINZI\n",
      "j100.txt\tcancertype\tlung cancer\n",
      "j100.txt\tbiomarkers\tEGFR\n",
      "j100.txt\tcancertype\tlung cancer\n",
      "j100.txt\tbiomarkers\tEGFR\n",
      "j6.txt\tbiomarkers\tMETex14\n",
      "j6.txt\tbiomarkers\tMET\n",
      "j6.txt\tbiomarkers\tMETex14\n",
      "j6.txt\tbiomarkers\tMETex14\n",
      "j6.txt\tcancertype\tNSCLC\n",
      "j12.txt\tcancertype\tbreast cancers\n",
      "j12.txt\tcancertype\tprostate cancer\n",
      "j12.txt\tcancertype\tProstate Cancer\n",
      "j7.txt\tcancertype\tlung carcinogenesis\n",
      "j7.txt\tcancertype\tSquamous cell carcinoma\n",
      "j7.txt\tcancertype\tadenocarcinoma\n",
      "j7.txt\tcancertype\tlung epithelium\n",
      "j7.txt\tprocedure_therapy\tCarcinoma\n",
      "j7.txt\tcancertype\tlung cancer\n",
      "j2.txt\tcancertype\tbreast cancer\n",
      "j29.txt\tbiomarkers\tPEPFAR\n",
      "j29.txt\tmedication\tCOVID-19\n",
      "j1.txt\tcancertype\tprostate cancer\n",
      "j1.txt\tprocedure_therapy\tbiopsy\n",
      "j98.txt\tbiomarkers\tFGFR2\n",
      "j98.txt\tbiomarkers\tNRG1\n",
      "j98.txt\tcancertype\tlung cancer\n",
      "j98.txt\tbiomarkers\tNRG1\n",
      "j73.txt\tcancertype\tbreast cancer\n",
      "j73.txt\tcancertype\tBreast cancer\n",
      "j73.txt\tcancertype\tbreast cancers\n",
      "j73.txt\tbiomarkers\tHER2\n",
      "j73.txt\tmedication\tlapatinib\n",
      "j73.txt\tmedication\tlapatinib\n",
      "j73.txt\tmedication\tlapatinib\n",
      "j73.txt\tmedication\tcapecitabine\n",
      "j73.txt\tcancertype\tbreast cancer\n",
      "j67.txt\tmedication\tMartin\n",
      "j67.txt\tmedication\tTennessee\n",
      "j66.txt\tbiomarkers\tCDC\n",
      "j66.txt\tprocedure_therapy\tRochelle\n",
      "j72.txt\tcancertype\tbreast cancer\n",
      "j72.txt\tbiomarkers\tKATHERINE\n",
      "j72.txt\tcancertype\tbreast cancer\n",
      "j72.txt\tcancertype\tbreast cancer\n",
      "j72.txt\tbiomarkers\tKATHERINE\n",
      "j72.txt\tbiomarkers\tKATHERINE\n",
      "j72.txt\tbiomarkers\tKATHERINE\n",
      "j72.txt\tmedication\tpertuzumab\n",
      "j99.txt\tmedication\tNivolumab\n",
      "j99.txt\tcancertype\tHodgkin lymphoma\n",
      "j99.txt\tcancertype\tColorectal cancer\n",
      "j99.txt\tmedication\tNivolumab\n",
      "j99.txt\tmedication\tNivolumab\n",
      "j99.txt\tcancertype\tadenocarcinoma\n",
      "j99.txt\tcancertype\tsquamous cell carcinoma\n",
      "j99.txt\tmedication\tNivolumab\n",
      "j99.txt\tmedication\tNivolumab\n",
      "j99.txt\tmedication\tNivolumab\n",
      "j99.txt\tmedication\tNivolumab\n",
      "j99.txt\tmedication\tNivolumab\n",
      "j99.txt\tcancertype\tmelanoma\n",
      "j99.txt\tcancertype\tlung cancer\n",
      "j99.txt\tmedication\tNivolumab\n",
      "j99.txt\tbiomarkers\tEGFR\n",
      "j99.txt\tbiomarkers\tALK\n",
      "j99.txt\tbiomarkers\tEGFR\n",
      "j99.txt\tbiomarkers\tALK\n",
      "j99.txt\tbiomarkers\tEGFR\n",
      "j99.txt\tbiomarkers\tALK\n",
      "j99.txt\tmedication\tnivolumab\n",
      "j70.txt\tmedication\tlapatinib\n",
      "j70.txt\tbiomarkers\tHER2\n",
      "j70.txt\tmedication\tlapatinib\n",
      "j70.txt\tmedication\tlapatinib\n",
      "j70.txt\tmedication\tcapecitabine\n",
      "j70.txt\tmedication\tLapatinib\n",
      "j71.txt\tcancertype\tbreast cancer\n",
      "j71.txt\tbiomarkers\tER\n",
      "j71.txt\tbiomarkers\tHER2\n",
      "j71.txt\tbiomarkers\tHER2\n",
      "j71.txt\tmedication\tEndocrine\n",
      "j71.txt\tbiomarkers\tER\n",
      "j71.txt\tbiomarkers\tHER2\n",
      "j71.txt\tbiomarkers\tHER2\n",
      "j71.txt\tbiomarkers\tHER2\n",
      "j71.txt\tcancertype\tbreast cancers\n",
      "j65.txt\tmedication\tchloroquine\n",
      "j60.txt\tmedication\tIsrael\n",
      "j62.txt\tbiomarkers\tNAO\n",
      "j63.txt\tprocedure_therapy\tBiopsy\n",
      "j63.txt\tprocedure_therapy\tbiopsy\n",
      "j85.txt\tbiomarkers\tKRAS\n",
      "j85.txt\tbiomarkers\tKRAS\n",
      "j85.txt\tbiomarkers\tKRAS\n",
      "j85.txt\tbiomarkers\tKRAS\n",
      "j85.txt\tbiomarkers\tKRAS\n",
      "j85.txt\tbiomarkers\tKRAS\n",
      "j51.txt\tbiomarkers\tTRKA\n",
      "j51.txt\tbiomarkers\tTRKA\n",
      "j51.txt\tbiomarkers\tTRKA\n",
      "j51.txt\tbiomarkers\tCIPA\n",
      "j51.txt\tbiomarkers\tTRKA\n",
      "j51.txt\tbiomarkers\tUSA\n",
      "j51.txt\tbiomarkers\tTRKA\n",
      "j51.txt\tbiomarkers\tPKLR\n",
      "j51.txt\tbiomarkers\tTRKA\n",
      "j79.txt\tbiomarkers\tmet\n",
      "j83.txt\tbiomarkers\tBRCA1\n",
      "j83.txt\tbiomarkers\tBRCA2\n",
      "j83.txt\tbiomarkers\tBRCA1\n",
      "j83.txt\tbiomarkers\tBRCA1\n",
      "j83.txt\tbiomarkers\tBRCA2\n",
      "j83.txt\tbiomarkers\tBRCA1\n",
      "j83.txt\tbiomarkers\tBRCA2\n",
      "j83.txt\tcancertype\tbreast cancer\n",
      "j83.txt\tcancertype\tbreast cancer\n",
      "j83.txt\tbiomarkers\tBRCA1\n",
      "j83.txt\tbiomarkers\tBRCA2\n",
      "j83.txt\tbiomarkers\tBRCA1\n",
      "j83.txt\tbiomarkers\tBRCA2\n",
      "j83.txt\tbiomarkers\tBRCA1\n",
      "j83.txt\tbiomarkers\tBRCA2\n",
      "j83.txt\tbiomarkers\tBRCA1\n",
      "j83.txt\tbiomarkers\tBRCA2\n",
      "j83.txt\tbiomarkers\tBRCA1\n",
      "j83.txt\tbiomarkers\tBRCA2\n",
      "j68.txt\tprocedure_therapy\tbiopsy\n",
      "j40.txt\tbiomarkers\tER\n",
      "j54.txt\tbiomarkers\tBRAF\n",
      "j54.txt\tbiomarkers\tBRAF\n",
      "j54.txt\tcancertype\tlung cancers\n",
      "j54.txt\tcancertype\tcolorectal cancer\n",
      "j54.txt\tcancertype\tcolorectal cancer\n",
      "j54.txt\tcancertype\tmelanoma\n",
      "j54.txt\tcancertype\tlung cancer\n",
      "j54.txt\tbiomarkers\tBRAF\n",
      "j55.txt\tcancertype\tlung cancer\n",
      "j55.txt\tbiomarkers\tKRAS\n",
      "j41.txt\tcancertype\tGlioblastoma\n",
      "j41.txt\tcancertype\tGlioblastoma\n",
      "j41.txt\tcancertype\tglioblastoma\n",
      "j69.txt\tmedication\tlapatinib\n",
      "j69.txt\tmedication\tcapecitabine\n",
      "j69.txt\tmedication\tlapatinib\n",
      "j69.txt\tbiomarkers\tHER2\n",
      "j69.txt\tmedication\tcapecitabine\n",
      "j69.txt\tmedication\tlapatinib\n",
      "j69.txt\tmedication\tcapecitabine\n",
      "j69.txt\tmedication\tlapatinib\n",
      "j69.txt\tbiomarkers\tHER2\n",
      "j69.txt\tbiomarkers\tHER2\n",
      "j69.txt\tmedication\tlapatinib\n",
      "j82.txt\tcancertype\tUS\n",
      "j94.txt\tcancertype\tCanada\n",
      "j80.txt\tmedication\t−0.27\n",
      "j43.txt\tcancertype\tcolorectal cancer\n",
      "j43.txt\tcancertype\tcolorectal cancer\n",
      "j43.txt\tcancertype\tcolorectal cancers\n",
      "j43.txt\tcancertype\tcolorectal cancers\n",
      "j43.txt\tcancertype\tcolorectal cancer\n",
      "j43.txt\tcancertype\tcolorectal cancer\n",
      "j43.txt\tcancertype\tcolorectal cancer\n",
      "j43.txt\tcancertype\tColorectal cancer\n",
      "j43.txt\tcancertype\tcolorectal cancers\n",
      "j43.txt\tcancertype\tcolorectal cancer\n",
      "j43.txt\tcancertype\tcolorectal cancer\n",
      "j43.txt\tcancertype\tcolorectal cancer\n",
      "j43.txt\tcancertype\tcolorectal cancer\n",
      "j43.txt\tcancertype\tColorectal cancer\n",
      "j43.txt\tcancertype\tcolorectal cancer\n",
      "j43.txt\tcancertype\tcolorectal cancer\n",
      "j43.txt\tcancertype\tcolorectal cancer\n",
      "j42.txt\tcancertype\tmelanoma\n",
      "j42.txt\tcancertype\tmelanoma\n",
      "j42.txt\tcancertype\tmelanoma\n",
      "j42.txt\tcancertype\tmelanoma\n",
      "j42.txt\tcancertype\tmelanoma\n",
      "j42.txt\tcancertype\tmelanoma\n",
      "j42.txt\tcancertype\tmelanoma\n",
      "j56.txt\tbiomarkers\ther 2\n",
      "j56.txt\tprocedure_therapy\tRobert\n",
      "j56.txt\tbiomarkers\ther 2\n",
      "j81.txt\tcancertype\tprostate cancer\n",
      "j81.txt\tcancertype\tprostate cancer\n",
      "j81.txt\tcancertype\tlung cancer\n",
      "j95.txt\tbiomarkers\tGI\n",
      "j95.txt\tbiomarkers\tGERD\n",
      "j95.txt\tmedication\tH2RAs\n",
      "j25.txt\tbiomarkers\tNEOD\n",
      "j25.txt\tprocedure_therapy\tbiopsy\n",
      "j19.txt\tprocedure_therapy\tLumpectomy\n",
      "j19.txt\tprocedure_therapy\tlumpectomy\n",
      "j19.txt\tprocedure_therapy\tLumpectomy\n",
      "j18.txt\tcancertype\tlung cancer\n",
      "j18.txt\tcancertype\tbreast cancer\n",
      "j24.txt\tcancertype\tprostate cancers\n",
      "j24.txt\tcancertype\ttesticular cancer\n",
      "j32.txt\tcancertype\tKaposi’s sarcoma\n",
      "j32.txt\tcancertype\tKaposi’s sarcoma\n",
      "j32.txt\tcancertype\tKaposi's sarcoma\n",
      "j33.txt\tcancertype\tcolorectal cancer\n",
      "j33.txt\tbiomarkers\tCRC\n",
      "j37.txt\tbiomarkers\tHPA\n",
      "j36.txt\tprocedure_therapy\tHuang\n",
      "j36.txt\tmedication\tChen\n",
      "j36.txt\tmedication\tZhou\n",
      "j36.txt\tprocedure_therapy\tCerami\n",
      "j20.txt\tbiomarkers\tBRCA\n",
      "j20.txt\tbiomarkers\tBRCA1\n",
      "j20.txt\tbiomarkers\tBRCA2\n",
      "j20.txt\tbiomarkers\tBRCA\n",
      "j21.txt\tbiomarkers\tEGFR\n",
      "j21.txt\tbiomarkers\tEGFR\n",
      "j21.txt\tbiomarkers\tEGFR\n",
      "j21.txt\tbiomarkers\tEGFR\n",
      "j35.txt\tbiomarkers\tAMIL\n",
      "j8.txt\tbiomarkers\tCDC\n"
     ]
    }
   ],
   "source": [
    "\n",
    "file_names = listdir(data_path)\n",
    "\n",
    "for file_name in file_names:\n",
    "    if not re.match(r\"j[0-9]+\\.txt\", file_name):\n",
    "        continue\n",
    "\n",
    "    with open(join(data_path, file_name), \"r\") as text_file:\n",
    "        text = text_file.read()\n",
    "        text = preprocess_text(text)\n",
    "        doc = nlp(text)\n",
    "        for ent in doc.ents:\n",
    "            print(f'{file_name}\\t{ent.label_}\\t{ent.text}')"
   ],
   "metadata": {
    "collapsed": false,
    "pycharm": {
     "name": "#%%\n"
    }
   }
  },
  {
   "cell_type": "code",
   "execution_count": 25,
   "outputs": [],
   "source": [],
   "metadata": {
    "collapsed": false,
    "pycharm": {
     "name": "#%%\n"
    }
   }
  }
 ],
 "metadata": {
  "kernelspec": {
   "display_name": "Python 3",
   "language": "python",
   "name": "python3"
  },
  "language_info": {
   "codemirror_mode": {
    "name": "ipython",
    "version": 2
   },
   "file_extension": ".py",
   "mimetype": "text/x-python",
   "name": "python",
   "nbconvert_exporter": "python",
   "pygments_lexer": "ipython2",
   "version": "2.7.6"
  }
 },
 "nbformat": 4,
 "nbformat_minor": 0
}