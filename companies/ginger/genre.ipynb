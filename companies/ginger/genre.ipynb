{
 "cells": [
  {
   "cell_type": "markdown",
   "metadata": {
    "collapsed": true,
    "pycharm": {
     "name": "#%% md\n"
    }
   },
   "source": [
    "What are the available fields?\n",
    "\n",
    "There's no \"description\" or \"plot summary\" of movies.\n",
    "So one must look at all the dialogs and decipher the movie genre?\n",
    "\n",
    "How can we do this?\n",
    "Let's do this in a naive way first, then let's try to get creative.\n",
    "\n",
    "---\n",
    "\n",
    "Destruction of the data:\n",
    "- movies\n",
    "    - conversations\n",
    "        - dialogs\n",
    "            - sentences\n",
    "                - words\n",
    "\n",
    "---\n",
    "\n",
    "## Naive way:\n",
    "\n",
    "- Average all word embeddings in a dialog to get dialog embeddings.\n",
    "- Average all dialog embeddings to get movie plot embedding.\n",
    "\n",
    "Thought process:\n",
    "  - We get a sentence embedding by averaging the word embeddings\n",
    "  - In the same way, can we get \"scene\" embedding by averaging all the sentence embeddings in a scene?\n",
    "  - Then averaging all scene embeddings should give us movie embedding.\n",
    "  - We don't have scenes, do we? If not, we can skip scenes, will averaging all dialog embeddings give us movie embedding?\n",
    "\n",
    "Problems:\n",
    "- The conversations might mostly include \"everyday lines\" that do not relate to the plot.\n",
    "- For example, \"You must learn how to lie\", \"they have to!\" do not say anything about the plot.\n",
    "\n",
    "## Another method:\n",
    "\n",
    "- Find all named entities (of some relevant category).\n",
    "- Then get the dialogs with named entities only.\n",
    "- Assumption: dialogs with named entities will contain plot-related information.\n",
    "-\n",
    "\n",
    "---\n",
    "\n",
    "Extracting all information about a movie.\n"
   ]
  },
  {
   "cell_type": "code",
   "execution_count": 1,
   "outputs": [],
   "source": [
    "from os import listdir\n",
    "from os.path import join\n",
    "from typing import List, Tuple, Dict, Optional\n",
    "import pandas as pd\n",
    "from pydantic import BaseModel"
   ],
   "metadata": {
    "collapsed": false,
    "pycharm": {
     "name": "#%%\n"
    }
   }
  },
  {
   "cell_type": "code",
   "execution_count": 2,
   "outputs": [],
   "source": [
    "\n",
    "class Movie(BaseModel):\n",
    "    id: str\n",
    "    title: str\n",
    "    release_year: int\n",
    "    imdb_rating: float\n",
    "    num_votes: int\n",
    "    genres: List[str] = []\n",
    "    characters: dict = {}\n",
    "    conversations: list = []\n",
    "\n",
    "\n",
    "class Character(BaseModel):\n",
    "    name: str\n",
    "    id: str\n",
    "    gender: Optional[str]  # m|f|None\n",
    "    credit_position: Optional[int]\n",
    "    movie: Movie\n",
    "\n",
    "    def __eq__(self, other):\n",
    "        return self.id == other.id\n",
    "\n",
    "\n",
    "class Dialog(BaseModel):\n",
    "    id: str\n",
    "    speaker: Character\n",
    "    listener: Optional[Character]\n",
    "    dialog: str\n",
    "\n",
    "\n",
    "class Conversation(BaseModel):\n",
    "    characters: Tuple[Character, Character]\n",
    "    dialogs: List[Dialog]"
   ],
   "metadata": {
    "collapsed": false,
    "pycharm": {
     "name": "#%%\n"
    }
   }
  },
  {
   "cell_type": "code",
   "execution_count": 3,
   "outputs": [],
   "source": [
    "def update_movie_characters(movies: Dict[str, Movie], characters_path: str):\n",
    "    with open(characters_path, \"r\", encoding=\"ISO-8859-1\") as characters_file:\n",
    "        for character in characters_file:\n",
    "            # sample: u0 +++$+++ BIANCA +++$+++ m0 +++$+++ 10 things i hate about you +++$+++ f +++$+++ 4\n",
    "            character = character.strip().split(\" +++$+++ \")\n",
    "            character_id, name, movie_id, movie_title, gender, position = character\n",
    "\n",
    "            gender = None if gender == \"?\" else gender\n",
    "            position = None if position == \"?\" else position\n",
    "\n",
    "            assert movie_id in movies\n",
    "            movie = movies[movie_id]\n",
    "\n",
    "            character = Character(\n",
    "                name=name,\n",
    "                id=character_id,\n",
    "                gender=gender,  # m|f|None\n",
    "                credit_position=position,\n",
    "                movie=movie,\n",
    "            )\n",
    "\n",
    "            movie.characters[character_id] = character\n"
   ],
   "metadata": {
    "collapsed": false,
    "pycharm": {
     "name": "#%%\n"
    }
   }
  },
  {
   "cell_type": "code",
   "execution_count": 4,
   "outputs": [],
   "source": [
    "\n",
    "def get_all_dialogs(movies: Dict[str, Movie], lines_path: str) -> Dict[str, Dialog]:\n",
    "    all_dialogs = {}\n",
    "    with open(lines_path, \"r\", encoding=\"ISO-8859-1\") as dialogs_file:\n",
    "        for dialog in dialogs_file:\n",
    "            # Sample: L1045 +++$+++ u0 +++$+++ m0 +++$+++ BIANCA +++$+++ They do not!\n",
    "            # Note: Sometimes, there's no dialog, so splitting with ' +++$+++ ' will be wrong (with space at the end.)\n",
    "            #       So, we will split without spaces on either side and then strip\n",
    "            dialog = dialog.strip().split(\"+++$+++\")\n",
    "            dialog = [d.strip() for d in dialog]\n",
    "            dialog_id, character_id, movie_id, character_name, dialog = dialog\n",
    "\n",
    "            assert movie_id in movies\n",
    "            movie = movies[movie_id]\n",
    "\n",
    "            assert character_id in movie.characters\n",
    "            speaker = movie.characters[character_id]\n",
    "\n",
    "            dialog = Dialog(id=dialog_id, speaker=speaker, dialog=dialog)\n",
    "            all_dialogs[dialog_id] = dialog\n",
    "    return all_dialogs\n"
   ],
   "metadata": {
    "collapsed": false,
    "pycharm": {
     "name": "#%%\n"
    }
   }
  },
  {
   "cell_type": "code",
   "execution_count": 5,
   "outputs": [],
   "source": [
    "\n",
    "def update_movie_dialogs(\n",
    "    movies: Dict[str, Movie], conversations_path: str, lines_path: str\n",
    "):\n",
    "    all_dialogs: Dict[str, Dialog] = get_all_dialogs(movies, lines_path)\n",
    "\n",
    "    with open(conversations_path, \"r\", encoding=\"ISO-8859-1\") as conversations_file:\n",
    "        for conversation in conversations_file:\n",
    "            # Sample: u0 +++$+++ u2 +++$+++ m0 +++$+++ ['L198', 'L199']\n",
    "            conversation = conversation.strip().split(\" +++$+++ \")\n",
    "            character1, character2, movie_id, dialogs = conversation\n",
    "\n",
    "            dialogs = dialogs.strip(\"][\").replace(\"'\", \"\").split(\", \")\n",
    "\n",
    "            assert movie_id in movies\n",
    "            movie = movies[movie_id]\n",
    "\n",
    "            assert character1 in movie.characters\n",
    "            assert character2 in movie.characters\n",
    "\n",
    "            character1 = movie.characters[character1]\n",
    "            character2 = movie.characters[character2]\n",
    "\n",
    "            for dialog in dialogs:\n",
    "                assert dialog in all_dialogs\n",
    "                dialog = all_dialogs[dialog]\n",
    "                listener = character1 if character2 == dialog.speaker else character2\n",
    "                dialog.listener = listener\n",
    "\n",
    "            conversation = Conversation(\n",
    "                characters=(character1, character2),\n",
    "                dialogs=[all_dialogs[dialog] for dialog in dialogs],\n",
    "            )\n",
    "\n",
    "            movie.conversations.append(conversation)\n"
   ],
   "metadata": {
    "collapsed": false,
    "pycharm": {
     "name": "#%%\n"
    }
   }
  },
  {
   "cell_type": "code",
   "execution_count": 6,
   "outputs": [],
   "source": [
    "\n",
    "def _preprocess_year(year: str) -> int:\n",
    "    if \"/I\" in year:\n",
    "        year = year.replace(\"/I\", \"\")\n",
    "    year = int(year)\n",
    "    return year\n",
    "\n",
    "\n",
    "def get_movies_dict(movie_titles_metadata_path: str) -> Dict[str, Movie]:\n",
    "    movies_dict = {}\n",
    "    with open(movie_titles_metadata_path, \"r\", encoding=\"ISO-8859-1\") as movies_file:\n",
    "        for movie in movies_file:\n",
    "            movie = movie.strip().split(\" +++$+++ \")\n",
    "            movie_id, title, year, rating, votes, genres = movie\n",
    "            # Replace list representation with list of strings\n",
    "            genres = genres.strip(\"][\").replace(\"'\", \"\").split(\", \")\n",
    "            year = _preprocess_year(year)\n",
    "            rating = float(rating)\n",
    "\n",
    "            movie = Movie(\n",
    "                id=movie_id,\n",
    "                title=title,\n",
    "                release_year=year,\n",
    "                imdb_rating=rating,\n",
    "                num_votes=votes,\n",
    "                genres=genres,\n",
    "            )\n",
    "\n",
    "            movies_dict[movie_id] = movie\n",
    "\n",
    "    return movies_dict\n"
   ],
   "metadata": {
    "collapsed": false,
    "pycharm": {
     "name": "#%%\n"
    }
   }
  },
  {
   "cell_type": "code",
   "execution_count": 7,
   "outputs": [],
   "source": [
    "\n",
    "def get_data(path: str):\n",
    "    files = listdir(path)\n",
    "\n",
    "    # 1. For each movie:\n",
    "    #    a. get all characters\n",
    "    #    b. get all conversations\n",
    "\n",
    "    assert \"movie_titles_metadata.txt\" in files\n",
    "    assert \"movie_characters_metadata.txt\" in files\n",
    "\n",
    "    # This will likely use more memory.\n",
    "    # movies_df = pd.read_table(\n",
    "    #     join(path, 'movie_titles_metadata.txt'),\n",
    "    #     sep=r' \\+\\+\\+\\$\\+\\+\\+ ',\n",
    "    #     encoding='ISO-8859-1',\n",
    "    #     header=None,\n",
    "    # )\n",
    "\n",
    "    movies_dict = get_movies_dict(join(path, \"movie_titles_metadata.txt\"))\n",
    "    update_movie_characters(movies_dict, join(path, \"movie_characters_metadata.txt\"))\n",
    "    update_movie_dialogs(\n",
    "        movies_dict,\n",
    "        join(path, \"movie_conversations.txt\"),\n",
    "        join(path, \"movie_lines.txt\"),\n",
    "    )\n",
    "\n",
    "    return movies_dict\n",
    "\n",
    "\n",
    "data_path = \"/Users/akhil/code/lexical_lab/companies/ginger/data/cornell\"\n",
    "x = get_data(data_path)"
   ],
   "metadata": {
    "collapsed": false,
    "pycharm": {
     "name": "#%%\n"
    }
   }
  },
  {
   "cell_type": "code",
   "execution_count": 8,
   "outputs": [
    {
     "data": {
      "text/plain": "['m0', 'm1', 'm2', 'm3', 'm4']"
     },
     "execution_count": 8,
     "metadata": {},
     "output_type": "execute_result"
    }
   ],
   "source": [
    "list(x.keys())[:5]"
   ],
   "metadata": {
    "collapsed": false,
    "pycharm": {
     "name": "#%%\n"
    }
   }
  },
  {
   "cell_type": "code",
   "execution_count": 9,
   "outputs": [],
   "source": [
    "m0 = x['m0']"
   ],
   "metadata": {
    "collapsed": false,
    "pycharm": {
     "name": "#%%\n"
    }
   }
  },
  {
   "cell_type": "code",
   "execution_count": 10,
   "outputs": [
    {
     "data": {
      "text/plain": "['u0', 'u1', 'u2', 'u3', 'u4']"
     },
     "execution_count": 10,
     "metadata": {},
     "output_type": "execute_result"
    }
   ],
   "source": [
    "list(m0.characters.keys())[:5]"
   ],
   "metadata": {
    "collapsed": false,
    "pycharm": {
     "name": "#%%\n"
    }
   }
  },
  {
   "cell_type": "code",
   "execution_count": 11,
   "outputs": [
    {
     "data": {
      "text/plain": "'Can we make this quick?  Roxanne Korrine and Andrew Barrett are having an incredibly horrendous public break- up on the quad.  Again.'"
     },
     "execution_count": 11,
     "metadata": {},
     "output_type": "execute_result"
    }
   ],
   "source": [
    "conversations = m0.conversations[:5]\n",
    "conversations[0].dialogs[0].dialog"
   ],
   "metadata": {
    "collapsed": false,
    "pycharm": {
     "name": "#%%\n"
    }
   }
  }
 ],
 "metadata": {
  "kernelspec": {
   "display_name": "Python 3",
   "language": "python",
   "name": "python3"
  },
  "language_info": {
   "codemirror_mode": {
    "name": "ipython",
    "version": 2
   },
   "file_extension": ".py",
   "mimetype": "text/x-python",
   "name": "python",
   "nbconvert_exporter": "python",
   "pygments_lexer": "ipython2",
   "version": "2.7.6"
  }
 },
 "nbformat": 4,
 "nbformat_minor": 0
}