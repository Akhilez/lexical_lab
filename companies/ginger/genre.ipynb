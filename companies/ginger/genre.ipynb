{
 "cells": [
  {
   "cell_type": "markdown",
   "metadata": {
    "collapsed": true,
    "pycharm": {
     "name": "#%% md\n"
    }
   },
   "source": [
    "# Part 1: Parsing/Reading the data\n",
    "\n",
    "Before I do anything, I must first make sense of the given data and it's structure.\n",
    "i.e. parse all the data from txt files.\n",
    "\n",
    "\n",
    "Destruction of the data (relevant fields):\n",
    "- movies\n",
    "    - genres\n",
    "    - conversations\n",
    "        - dialogs\n",
    "            - sentences\n",
    "                - words\n",
    "\n",
    "The assignment says **not** to use any data other than \"movie_lines.txt\",\n",
    "I'm parsing the entire data set to understand the schema and play around with it later.\n",
    "For the purpose of Q1, I will only use data that was parsed from \"movie_lines.txt\".\n",
    "\n",
    "I'm using the term \"dialog\" instead of \"line\" because line is ambiguous, dialog is not."
   ]
  },
  {
   "cell_type": "code",
   "execution_count": 182,
   "metadata": {
    "pycharm": {
     "name": "#%%\n"
    }
   },
   "outputs": [
    {
     "name": "stdout",
     "output_type": "stream",
     "text": [
      "zsh:1: no matches found: cornell_movie_dialogs_corpus*\r\n",
      "--2021-08-28 18:03:20--  http://www.cs.cornell.edu/~cristian/data/cornell_movie_dialogs_corpus.zip\r\n",
      "Resolving www.cs.cornell.edu (www.cs.cornell.edu)... 132.236.207.36\r\n",
      "Connecting to www.cs.cornell.edu (www.cs.cornell.edu)|132.236.207.36|:80... connected.\r\n",
      "HTTP request sent, awaiting response... 200 OK\r\n",
      "Length: 9916637 (9.5M) [application/zip]\r\n",
      "Saving to: ‘cornell_movie_dialogs_corpus.zip’\r\n",
      "\r\n",
      "cornell_movie_dialo 100%[===================>]   9.46M  6.51MB/s    in 1.5s    \r\n",
      "\r\n",
      "2021-08-28 18:03:21 (6.51 MB/s) - ‘cornell_movie_dialogs_corpus.zip’ saved [9916637/9916637]\r\n",
      "\r\n",
      "Archive:  cornell_movie_dialogs_corpus.zip\r\n",
      "   creating: cornell movie-dialogs corpus/\r\n",
      "  inflating: cornell movie-dialogs corpus/.DS_Store  \r\n",
      "   creating: __MACOSX/\r\n",
      "   creating: __MACOSX/cornell movie-dialogs corpus/\r\n",
      "  inflating: __MACOSX/cornell movie-dialogs corpus/._.DS_Store  \r\n",
      "  inflating: cornell movie-dialogs corpus/chameleons.pdf  \r\n",
      "  inflating: __MACOSX/cornell movie-dialogs corpus/._chameleons.pdf  \r\n",
      "  inflating: cornell movie-dialogs corpus/movie_characters_metadata.txt  \r\n",
      "  inflating: cornell movie-dialogs corpus/movie_conversations.txt  \r\n",
      "  inflating: cornell movie-dialogs corpus/movie_lines.txt  \r\n",
      "  inflating: cornell movie-dialogs corpus/movie_titles_metadata.txt  \r\n",
      "  inflating: cornell movie-dialogs corpus/raw_script_urls.txt  \r\n",
      "  inflating: cornell movie-dialogs corpus/README.txt  \r\n",
      "  inflating: __MACOSX/cornell movie-dialogs corpus/._README.txt  \r\n",
      "mkdir: data: File exists\r\n",
      "README.txt                    movie_lines.txt\r\n",
      "chameleons.pdf                movie_titles_metadata.txt\r\n",
      "movie_characters_metadata.txt raw_script_urls.txt\r\n",
      "movie_conversations.txt\r\n"
     ]
    }
   ],
   "source": [
    "from torch.utils.data import Dataset\n",
    "!rm cornell_movie_dialogs_corpus*\n",
    "!wget http://www.cs.cornell.edu/~cristian/data/cornell_movie_dialogs_corpus.zip\n",
    "!unzip -n cornell_movie_dialogs_corpus.zip\n",
    "!mkdir data\n",
    "!mv \"cornell movie-dialogs corpus\" data/\n",
    "!ls data/\"cornell movie-dialogs corpus\""
   ]
  },
  {
   "cell_type": "code",
   "metadata": {
    "pycharm": {
     "name": "#%%\n"
    }
   },
   "source": [
    "!pip install transformers pydantic pyvis"
   ],
   "execution_count": null,
   "outputs": []
  },
  {
   "cell_type": "code",
   "execution_count": 1,
   "metadata": {
    "pycharm": {
     "name": "#%%\n"
    }
   },
   "outputs": [],
   "source": [
    "import re\n",
    "from collections import Counter, OrderedDict\n",
    "from contextlib import contextmanager\n",
    "from copy import deepcopy\n",
    "from os import listdir, makedirs, getcwd\n",
    "from os.path import join\n",
    "from typing import List, Tuple, Dict, Optional, TextIO, Any, Union\n",
    "from transformers import DistilBertTokenizer, DistilBertModel\n",
    "import torch\n",
    "from torch.nn import functional as F\n",
    "import numpy as np\n",
    "from matplotlib import pyplot as plt\n",
    "from sklearn.feature_extraction.text import TfidfVectorizer, CountVectorizer\n",
    "import pandas as pd\n",
    "import spacy\n",
    "from pydantic import BaseModel\n",
    "from tqdm import tqdm\n",
    "import heapq\n",
    "from pyvis.network import Network\n",
    "import networkx as nx\n",
    "from IPython.core.display import display, HTML"
   ]
  },
  {
   "cell_type": "code",
   "execution_count": 2,
   "metadata": {
    "pycharm": {
     "name": "#%%\n"
    }
   },
   "outputs": [
    {
     "data": {
      "text/plain": "'/Users/akhil/code/lexical_lab/companies/ginger'"
     },
     "execution_count": 2,
     "metadata": {},
     "output_type": "execute_result"
    }
   ],
   "source": [
    "BASE_DIR = getcwd()\n",
    "BASE_DIR"
   ]
  },
  {
   "cell_type": "markdown",
   "metadata": {
    "pycharm": {
     "name": "#%% md\n"
    }
   },
   "source": [
    "I see that the data is fragmented into several files like a relational database.\n",
    "\n",
    "Something I like to do when we have such relational data models is to create classes for those models.\n",
    "Pydantic provides an easy, readable and writable framework for this."
   ]
  },
  {
   "cell_type": "code",
   "execution_count": 3,
   "metadata": {
    "pycharm": {
     "name": "#%%\n"
    }
   },
   "outputs": [],
   "source": [
    "class Character(BaseModel):\n",
    "    name: str\n",
    "    id: str\n",
    "    gender: Optional[str]  # m|f|None\n",
    "    credit_position: Optional[int]\n",
    "\n",
    "    def __eq__(self, other):\n",
    "        return self.id == other.id\n",
    "\n",
    "\n",
    "class Dialog(BaseModel):\n",
    "    id: str\n",
    "    speaker: Character\n",
    "    listener: Optional[Character]\n",
    "    dialog: str\n",
    "\n",
    "\n",
    "class Conversation(BaseModel):\n",
    "    characters: Tuple[Character, Character]\n",
    "    dialogs: List[Dialog]\n",
    "\n",
    "\n",
    "class Movie(BaseModel):\n",
    "    id: str\n",
    "    title: str\n",
    "    release_year: int\n",
    "    imdb_rating: float\n",
    "    num_votes: int\n",
    "    genres: List[str] = []\n",
    "    characters: Dict[str, Character] = {}\n",
    "    conversations: List[Conversation] = []"
   ]
  },
  {
   "cell_type": "code",
   "execution_count": 4,
   "metadata": {
    "pycharm": {
     "name": "#%%\n"
    }
   },
   "outputs": [],
   "source": [
    "def update_movie_characters(movies: Dict[str, Movie], characters_path: str):\n",
    "    with open(characters_path, \"r\", encoding=\"ISO-8859-1\") as characters_file:\n",
    "        for character in characters_file:\n",
    "            # sample: u0 +++$+++ BIANCA +++$+++ m0 +++$+++ 10 things i hate about you +++$+++ f +++$+++ 4\n",
    "            character = character.strip().split(\" +++$+++ \")\n",
    "            character_id, name, movie_id, movie_title, gender, position = character\n",
    "\n",
    "            gender = None if gender == \"?\" else gender\n",
    "            position = None if position == \"?\" else position\n",
    "\n",
    "            assert movie_id in movies\n",
    "            movie = movies[movie_id]\n",
    "\n",
    "            character = Character(\n",
    "                name=name,\n",
    "                id=character_id,\n",
    "                gender=gender,  # m|f|None\n",
    "                credit_position=position,\n",
    "            )\n",
    "\n",
    "            movie.characters[character_id] = character"
   ]
  },
  {
   "cell_type": "code",
   "execution_count": 5,
   "metadata": {
    "pycharm": {
     "name": "#%%\n"
    }
   },
   "outputs": [],
   "source": [
    "def get_all_dialogs(movies: Dict[str, Movie], lines_path: str) -> Dict[str, Dialog]:\n",
    "    all_dialogs = {}\n",
    "    with open(lines_path, \"r\", encoding=\"ISO-8859-1\") as dialogs_file:\n",
    "        for dialog in dialogs_file:\n",
    "            # Sample: L1045 +++$+++ u0 +++$+++ m0 +++$+++ BIANCA +++$+++ They do not!\n",
    "            # Note: Sometimes, there's no dialog, so splitting with ' +++$+++ ' will be wrong (with space at the end.)\n",
    "            #       So, we will split without spaces on either side and then strip\n",
    "            dialog = dialog.strip().split(\"+++$+++\")\n",
    "            dialog = [d.strip() for d in dialog]\n",
    "            dialog_id, character_id, movie_id, character_name, dialog = dialog\n",
    "\n",
    "            assert movie_id in movies\n",
    "            movie = movies[movie_id]\n",
    "\n",
    "            assert character_id in movie.characters\n",
    "            speaker = movie.characters[character_id]\n",
    "\n",
    "            dialog = Dialog(id=dialog_id, speaker=speaker, dialog=dialog)\n",
    "            all_dialogs[dialog_id] = dialog\n",
    "    return all_dialogs\n"
   ]
  },
  {
   "cell_type": "code",
   "metadata": {
    "pycharm": {
     "name": "#%%\n"
    }
   },
   "source": [
    "\n",
    "def update_movie_dialogs(\n",
    "    movies: Dict[str, Movie], conversations_path: str, lines_path: str\n",
    "):\n",
    "    all_dialogs: Dict[str, Dialog] = get_all_dialogs(movies, lines_path)\n",
    "\n",
    "    with open(conversations_path, \"r\", encoding=\"ISO-8859-1\") as conversations_file:\n",
    "        for conversation in conversations_file:\n",
    "            # Sample: u0 +++$+++ u2 +++$+++ m0 +++$+++ ['L198', 'L199']\n",
    "            conversation = conversation.strip().split(\" +++$+++ \")\n",
    "            character1, character2, movie_id, dialogs = conversation\n",
    "\n",
    "            dialogs = dialogs.strip(\"][\").replace(\"'\", \"\").split(\", \")\n",
    "\n",
    "            assert movie_id in movies\n",
    "            movie = movies[movie_id]\n",
    "\n",
    "            assert character1 in movie.characters\n",
    "            assert character2 in movie.characters\n",
    "\n",
    "            character1 = movie.characters[character1]\n",
    "            character2 = movie.characters[character2]\n",
    "\n",
    "            for dialog in dialogs:\n",
    "                assert dialog in all_dialogs\n",
    "                dialog = all_dialogs[dialog]\n",
    "                listener = character1 if character2 == dialog.speaker else character2\n",
    "                dialog.listener = listener\n",
    "\n",
    "            conversation = Conversation(\n",
    "                characters=(character1, character2),\n",
    "                dialogs=[all_dialogs[dialog] for dialog in dialogs],\n",
    "            )\n",
    "\n",
    "            movie.conversations.append(conversation)\n"
   ],
   "execution_count": 6,
   "outputs": []
  },
  {
   "cell_type": "code",
   "metadata": {
    "pycharm": {
     "name": "#%%\n"
    }
   },
   "source": [
    "\n",
    "def _preprocess_year(year: str) -> int:\n",
    "    if \"/I\" in year:\n",
    "        year = year.replace(\"/I\", \"\")\n",
    "    year = int(year)\n",
    "    return year\n",
    "\n",
    "\n",
    "def get_movies_dict(movie_titles_metadata_path: str) -> Dict[str, Movie]:\n",
    "    movies_dict = {}\n",
    "    with open(movie_titles_metadata_path, \"r\", encoding=\"ISO-8859-1\") as movies_file:\n",
    "        for movie in movies_file:\n",
    "            movie = movie.strip().split(\" +++$+++ \")\n",
    "            movie_id, title, year, rating, votes, genres = movie\n",
    "            # Replace list representation with list of strings\n",
    "            genres = genres.strip(\"][\").replace(\"'\", \"\").split(\", \")\n",
    "            year = _preprocess_year(year)\n",
    "            rating = float(rating)\n",
    "\n",
    "            movie = Movie(\n",
    "                id=movie_id,\n",
    "                title=title,\n",
    "                release_year=year,\n",
    "                imdb_rating=rating,\n",
    "                num_votes=votes,\n",
    "                genres=genres,\n",
    "            )\n",
    "\n",
    "            movies_dict[movie_id] = movie\n",
    "\n",
    "    return movies_dict"
   ],
   "execution_count": 7,
   "outputs": []
  },
  {
   "cell_type": "code",
   "execution_count": 8,
   "metadata": {
    "pycharm": {
     "name": "#%%\n"
    }
   },
   "outputs": [],
   "source": [
    "def get_data(path: str):\n",
    "    \"\"\"\n",
    "    Parses all the files from Cornell movie dialogs dataset into pydantic objects.\n",
    "    http://www.cs.cornell.edu/~cristian/Cornell_Movie-Dialogs_Corpus.html\n",
    "\n",
    "    # 1. For each movie:\n",
    "    #    a. get all characters\n",
    "    #    b. get all conversations\n",
    "    \"\"\"\n",
    "\n",
    "    files = listdir(path)\n",
    "\n",
    "    assert \"movie_titles_metadata.txt\" in files\n",
    "    assert \"movie_characters_metadata.txt\" in files\n",
    "    assert \"movie_conversations.txt\" in files\n",
    "    assert \"movie_lines.txt\" in files\n",
    "\n",
    "    movies_dict = get_movies_dict(join(path, \"movie_titles_metadata.txt\"))\n",
    "    update_movie_characters(movies_dict, join(path, \"movie_characters_metadata.txt\"))\n",
    "    update_movie_dialogs(\n",
    "        movies_dict,\n",
    "        join(path, \"movie_conversations.txt\"),\n",
    "        join(path, \"movie_lines.txt\"),\n",
    "    )\n",
    "\n",
    "    return movies_dict\n",
    "\n",
    "\n",
    "data_path = join(BASE_DIR, \"data\", \"cornell movie-dialogs corpus\")\n",
    "movies = get_data(data_path)"
   ]
  },
  {
   "cell_type": "markdown",
   "metadata": {
    "pycharm": {
     "name": "#%% md\n"
    }
   },
   "source": [
    "Alright, we got all the data stored in `movies` dictionary.\n",
    "\n",
    "It looks like this (in yaml format):\n",
    "\n",
    "```yaml\n",
    "m28:\n",
    "  id: m28\n",
    "  title: barry lyndon\n",
    "  release_year: 1975\n",
    "  imdb_rating: 8.1\n",
    "  num_votes: 40622\n",
    "  genres: [drama, romance, war]\n",
    "  characters:\n",
    "    u454:\n",
    "      credit_position: null\n",
    "      gender: null\n",
    "      id: u454\n",
    "      name: ARMED GENTLEMAN\n",
    "  conversations:\n",
    "  - characters: [u473, u475]\n",
    "    dialogs:\n",
    "    - dialog: Charming Schuvaloff.\n",
    "      id: L64877\n",
    "      listener: u475\n",
    "      speaker: u473\n",
    "```"
   ]
  },
  {
   "cell_type": "markdown",
   "metadata": {
    "pycharm": {
     "name": "#%% md\n"
    }
   },
   "source": [
    "---\n",
    "\n",
    "# Part 2: Analysis of movie lines\n",
    "\n",
    "Definitions to be clear:\n",
    "\n",
    "**Dialog**: A dialog is a line that an actor says in one go before the other actor speaks their line.\n",
    "\n",
    "**Conversation**: A conversation is a sequence of dialogs in order.\n",
    "\n",
    "\n",
    "I like plotting these curves (I call these \"transposed S\" curves) to get an\n",
    "understanding of how the data is distributed.\n",
    "\n",
    "Almost all movies have > 50 conversations with average of ~135 conversations.\n",
    "\n",
    "The number of dialogs range from 6-1530 with mean of ~500 dialogs for each movie."
   ]
  },
  {
   "cell_type": "code",
   "execution_count": 9,
   "metadata": {
    "pycharm": {
     "name": "#%%\n"
    }
   },
   "outputs": [
    {
     "name": "stdout",
     "output_type": "stream",
     "text": [
      "Average # of conversations: 134.67909238249595\n",
      "Max # of conversations: 338\n",
      "Min # of conversations: 1\n"
     ]
    },
    {
     "data": {
      "text/plain": "Text(0.5, 0, '# of conversations')"
     },
     "execution_count": 9,
     "metadata": {},
     "output_type": "execute_result"
    },
    {
     "data": {
      "text/plain": "<Figure size 432x288 with 1 Axes>",
      "image/png": "[encoded data removed]"
     },
     "metadata": {
      "needs_background": "light"
     },
     "output_type": "display_data"
    }
   ],
   "source": [
    "# plot number of conversations for each movie\n",
    "\n",
    "num_conversations = [len(movie.conversations) for _, movie in movies.items()]\n",
    "num_conversations = sorted(num_conversations, reverse=True)\n",
    "num_conversations = np.array(num_conversations)\n",
    "\n",
    "print(f'Average # of conversations: {num_conversations.mean()}')\n",
    "print(f'Max # of conversations: {num_conversations.max()}')\n",
    "print(f'Min # of conversations: {num_conversations.min()}')\n",
    "\n",
    "plt.plot(num_conversations)\n",
    "plt.title(\"Number of conversations for each movie\")\n",
    "plt.xlabel(\"movie index sorted descendingly by y\")\n",
    "plt.xlabel(\"# of conversations\")"
   ]
  },
  {
   "cell_type": "code",
   "execution_count": 10,
   "metadata": {
    "pycharm": {
     "name": "#%%\n"
    }
   },
   "outputs": [
    {
     "name": "stdout",
     "output_type": "stream",
     "text": [
      "Average # of dialogs: 493.86223662884925\n",
      "Max # of dialogs: 1530\n",
      "Min # of dialogs: 6\n"
     ]
    },
    {
     "data": {
      "text/plain": "Text(0.5, 0, '# of dialogs')"
     },
     "execution_count": 10,
     "metadata": {},
     "output_type": "execute_result"
    },
    {
     "data": {
      "text/plain": "<Figure size 432x288 with 1 Axes>",
      "image/png": "[encoded data removed]"
     },
     "metadata": {
      "needs_background": "light"
     },
     "output_type": "display_data"
    }
   ],
   "source": [
    "# plot number of dialogs for each movie\n",
    "\n",
    "num_dialogs = []\n",
    "for _, movie in movies.items():\n",
    "    num_dialogs_ = sum([len(convo.dialogs) for convo in movie.conversations])\n",
    "    num_dialogs.append(num_dialogs_)\n",
    "\n",
    "num_dialogs = sorted(num_dialogs, reverse=True)\n",
    "num_dialogs = np.array(num_dialogs)\n",
    "\n",
    "print(f'Average # of dialogs: {num_dialogs.mean()}')\n",
    "print(f'Max # of dialogs: {num_dialogs.max()}')\n",
    "print(f'Min # of dialogs: {num_dialogs.min()}')\n",
    "\n",
    "plt.plot(num_dialogs)\n",
    "plt.title(\"Number of dialogs for each movie\")\n",
    "plt.xlabel(\"movie index sorted descendingly by y\")\n",
    "plt.xlabel(\"# of dialogs\")"
   ]
  },
  {
   "cell_type": "markdown",
   "metadata": {
    "pycharm": {
     "name": "#%% md\n"
    }
   },
   "source": [
    "The conversations are like \"to-and-fro\" style with two characters with\n",
    "at least 1 dialog for each.\n",
    "So information from one dialog will flow to the next one within a conversation.\n",
    "\n",
    "\n",
    "Let's pick a random movie that will stay constant throughout this notebook."
   ]
  },
  {
   "cell_type": "code",
   "metadata": {
    "pycharm": {
     "name": "#%%\n"
    }
   },
   "source": [
    "random_movie_id = 17\n",
    "random_movie = movies[f'm{random_movie_id}']\n",
    "\n",
    "print(random_movie.title, random_movie.genres)\n",
    "print('# of conversations', len(random_movie.conversations))\n",
    "\n",
    "random_conversation_index = np.random.randint(low=0, high=len(random_movie.conversations), size=1)[0]\n",
    "print(f'Random conversation index: {random_conversation_index}')\n",
    "random_conversation = random_movie.conversations[random_conversation_index]\n",
    "print('length of random conversation: ', len(random_conversation.dialogs))\n",
    "[d.dialog for d in random_conversation.dialogs]"
   ],
   "execution_count": 11,
   "outputs": [
    {
     "name": "stdout",
     "output_type": "stream",
     "text": [
      "american madness ['drama']\n",
      "# of conversations 151\n",
      "Random conversation index: 113\n",
      "length of random conversation:  3\n"
     ]
    },
    {
     "data": {
      "text/plain": "[\"The fools! If they only knew it, they're making things worse for themselves. Somebody starts a silly rumor, and they lose their heads.\",\n \"What'll we do?\",\n \"I'll talk to them. Listen, go back and tell the boys to stall as much as possible. Tell 'em not to pay any attention to what I said. Tell 'em to verify every signature.\"]"
     },
     "execution_count": 11,
     "metadata": {},
     "output_type": "execute_result"
    }
   ]
  },
  {
   "cell_type": "code",
   "execution_count": 12,
   "metadata": {
    "pycharm": {
     "name": "#%%\n"
    }
   },
   "outputs": [
    {
     "name": "stdout",
     "output_type": "stream",
     "text": [
      "Average length of conversations: 3.6887417218543046\n",
      "Max length of conversations: 12\n",
      "Min length of conversations: 2\n"
     ]
    },
    {
     "data": {
      "text/plain": "Text(0.5, 0, 'length of conversations')"
     },
     "execution_count": 12,
     "metadata": {},
     "output_type": "execute_result"
    },
    {
     "data": {
      "text/plain": "<Figure size 432x288 with 1 Axes>",
      "image/png": "[encoded data removed]"
     },
     "metadata": {
      "needs_background": "light"
     },
     "output_type": "display_data"
    }
   ],
   "source": [
    "# Plot number of dialogs for each conversation in a random movie.\n",
    "\n",
    "num_dialogs = [len(convo.dialogs) for convo in random_movie.conversations]\n",
    "num_dialogs = sorted(num_dialogs, reverse=True)\n",
    "num_dialogs = np.array(num_dialogs)\n",
    "\n",
    "print(f'Average length of conversations: {num_dialogs.mean()}')\n",
    "print(f'Max length of conversations: {num_dialogs.max()}')\n",
    "print(f'Min length of conversations: {num_dialogs.min()}')\n",
    "\n",
    "plt.plot(num_dialogs)\n",
    "plt.title(\"length of conversations for each movie\")\n",
    "plt.xlabel(\"movie index sorted descendingly by y\")\n",
    "plt.xlabel(\"length of conversations\")\n"
   ]
  },
  {
   "cell_type": "markdown",
   "metadata": {
    "pycharm": {
     "name": "#%% md\n"
    }
   },
   "source": [
    "Breakdown of what we can do with this data:\n",
    "\n",
    "- within a movie\n",
    "    - among words\n",
    "        - tf-idf approach\n",
    "            - tf-idf where document = conversation\n",
    "            - Each term should at least be in 2 conversations?\n",
    "            - Get static embeddings for each high-rank tf-idf terms\n",
    "            - Do a cartesian product of pairs of these embeddings and find the most similar pairs.\n",
    "            - Create a network of these pairs based on similar/not. (if similar, there will be a link)\n",
    "        - embedding appraoch:\n",
    "            - Do an n-gram and find the segment of a conversation that has the highest\n",
    "              cosine similarity with the embedding of the entire conversation.\n",
    "            -\n",
    "    - among lines\n",
    "        - a conversation is a continuous stream of dialogs. So get an embedding for it.\n",
    "        - Do a 2-gram sentences (not 2-gram of words) and feed it to BERT as 2 sequences to get the embedding.\n",
    "        - Then average all 2-grams to get conversation embedding.\n",
    "          Or input 2-gram embeddings as word embeddings to get conversation embedding.\n",
    "        - What's the most \"significant\" dialog in the conversation that captures the whole conversation?\n",
    "        - Does the \"significant\" word from tf-idf correlate with most significant dialogs?\n",
    "        - Capture similar and dissimilar conversations.\n",
    "- across movies\n",
    "    - among words\n",
    "        - tf-idf where document = movie\n",
    "        - Show high-rank tf-idf words for each movie\n",
    "    - among lines\n",
    "- across corpus\n",
    "- across genres\n"
   ]
  },
  {
   "cell_type": "markdown",
   "metadata": {
    "pycharm": {
     "name": "#%% md\n"
    }
   },
   "source": [
    "## Within a conversation in a movie.\n",
    "\n",
    "Let's use a pretrained DistilBERT model for word/sentence/sentence-pair embeddings.\n",
    "\n",
    "I'm using huggingface's `transformers` library. https://huggingface.co/transformers"
   ]
  },
  {
   "cell_type": "code",
   "execution_count": 13,
   "metadata": {
    "pycharm": {
     "name": "#%%\n"
    }
   },
   "outputs": [
    {
     "name": "stderr",
     "output_type": "stream",
     "text": [
      "Some weights of the model checkpoint at distilbert-base-uncased were not used when initializing DistilBertModel: ['vocab_projector.weight', 'vocab_projector.bias', 'vocab_layer_norm.weight', 'vocab_transform.bias', 'vocab_transform.weight', 'vocab_layer_norm.bias']\n",
      "- This IS expected if you are initializing DistilBertModel from the checkpoint of a model trained on another task or with another architecture (e.g. initializing a BertForSequenceClassification model from a BertForPreTraining model).\n",
      "- This IS NOT expected if you are initializing DistilBertModel from the checkpoint of a model that you expect to be exactly identical (initializing a BertForSequenceClassification model from a BertForSequenceClassification model).\n"
     ]
    },
    {
     "data": {
      "text/plain": "device(type='cpu')"
     },
     "execution_count": 13,
     "metadata": {},
     "output_type": "execute_result"
    }
   ],
   "source": [
    "device = 'cuda' if torch.cuda.is_available() else 'cpu'\n",
    "tokenizer = DistilBertTokenizer.from_pretrained('distilbert-base-uncased')\n",
    "model = DistilBertModel.from_pretrained('distilbert-base-uncased').to(device)\n",
    "model.eval()\n",
    "model.device"
   ]
  },
  {
   "cell_type": "code",
   "metadata": {
    "pycharm": {
     "name": "#%%\n"
    }
   },
   "source": [
    "def conversation_to_batch(conversation: Conversation):\n",
    "    \"\"\"\n",
    "    does a 2-gram of dialogs in a conversation.\n",
    "\n",
    "    examples of sentence_1_batch and sentence_2_batch:\n",
    "        sentence_1_batch = ['Hello, my dog is cute', 'Hitler was a very bad person']\n",
    "        sentence_2_batch = [\"oh yeah! That's really cute\", None]\n",
    "    \"\"\"\n",
    "    dialogs = [d.dialog for d in conversation.dialogs]\n",
    "    pairs = []\n",
    "    for i in range(len(dialogs) - 1):\n",
    "        pairs.append((dialogs[i], dialogs[i+1]))\n",
    "\n",
    "    sentence_1_batch = [pair[0] for pair in pairs]\n",
    "    sentence_2_batch = [pair[1] for pair in pairs]\n",
    "\n",
    "    # This will make sure that all dialogs are seen exactly twice by the model.\n",
    "    sentence_1_batch = sentence_1_batch + [pairs[0][0], pairs[-1][1]]\n",
    "    sentence_2_batch = sentence_2_batch + [None, None]\n",
    "\n",
    "    inputs = tokenizer(sentence_1_batch, sentence_2_batch, padding=True, return_tensors='pt')\n",
    "    return inputs\n",
    "\n",
    "\n",
    "def average_pool_without_padding(\n",
    "    embeddings_batch: torch.Tensor,\n",
    "    attention_mask_batch: torch.Tensor\n",
    ") -> torch.Tensor:\n",
    "    \"\"\"\n",
    "    Given an embeddings output of shape (batch, sequence_length, embedding_dim)\n",
    "    and attention_mask_batch of shape (batch, sequence_length),\n",
    "    this function will return averaged embeddings without taking padding into account.\n",
    "    The shape will be (batch, embedding_dim)\n",
    "    \"\"\"\n",
    "    batch_size, sequence_length, embeddings_dim = embeddings_batch.shape\n",
    "    sequence_lengths_no_padding = torch.count_nonzero(attention_mask_batch, dim=1)\n",
    "    output_tensor = []\n",
    "    for i in range(batch_size):\n",
    "        embeddings_no_padding = embeddings_batch[i][:sequence_lengths_no_padding[i]]\n",
    "        mean_embedding = torch.mean(embeddings_no_padding, dim=0)\n",
    "        output_tensor.append(mean_embedding)\n",
    "    output_tensor = torch.stack(output_tensor)\n",
    "    return output_tensor\n"
   ],
   "execution_count": 14,
   "outputs": []
  },
  {
   "cell_type": "code",
   "execution_count": 15,
   "metadata": {
    "pycharm": {
     "name": "#%%\n"
    }
   },
   "outputs": [],
   "source": [
    "def get_conversation_embedding(conversation: Conversation):\n",
    "    inputs = conversation_to_batch(conversation)\n",
    "\n",
    "    # Shows the indices and tokens of first 2 dialogs. Uncomment to debug\n",
    "    # itos = list(tokenizer.vocab.items())\n",
    "    # for index in inputs.data['input_ids'][0]:\n",
    "    #     print(itos[index])\n",
    "\n",
    "    inputs = {key: value.to(device) for key, value in inputs.items()}\n",
    "    with torch.no_grad():\n",
    "        outputs = model(**inputs)\n",
    "    outputs.last_hidden_state = outputs.last_hidden_state.cpu()\n",
    "    conversation_embeddings = average_pool_without_padding(outputs.last_hidden_state, inputs['attention_mask'])\n",
    "\n",
    "    # Average all 2-gram sentence embeddings to get conversation embedding.\n",
    "    conversation_embedding = torch.mean(conversation_embeddings, dim=0)\n",
    "    return conversation_embedding\n",
    "\n",
    "\n",
    "def get_dialogs_embeddings(conversation: Conversation):\n",
    "    dialogs = [d.dialog for d in conversation.dialogs]\n",
    "    dialogs_inputs = tokenizer(dialogs, padding=True, return_tensors='pt')\n",
    "\n",
    "    dialogs_inputs = {key: value.to(device) for key, value in dialogs_inputs.items()}\n",
    "    with torch.no_grad():\n",
    "        dialogs_embeddings = model(**dialogs_inputs)\n",
    "    dialogs_embeddings.last_hidden_state = dialogs_embeddings.last_hidden_state.cpu()\n",
    "    dialogs_embeddings = average_pool_without_padding(\n",
    "        dialogs_embeddings.last_hidden_state,\n",
    "        dialogs_inputs['attention_mask']\n",
    "    )\n",
    "    return dialogs_embeddings\n",
    "\n",
    "\n",
    "def get_cos_sim_dialogs_and_conversation(conversation_embedding, dialogs_embeddings):\n",
    "    cos_sims = []\n",
    "    for i in range(len(dialogs_embeddings)):\n",
    "        cos_sim = F.cosine_similarity(dialogs_embeddings[i], conversation_embedding, dim=0)\n",
    "        # Account for negative cos sim\n",
    "        cos_sim = int(((float(cos_sim) * 100) + 100) / 2)\n",
    "\n",
    "        cos_sims.append(cos_sim)\n",
    "    return cos_sims"
   ]
  },
  {
   "cell_type": "code",
   "execution_count": 16,
   "metadata": {
    "pycharm": {
     "name": "#%%\n"
    }
   },
   "outputs": [
    {
     "data": {
      "text/plain": "(torch.Size([768]), torch.Size([3, 768]), device(type='cpu'))"
     },
     "execution_count": 16,
     "metadata": {},
     "output_type": "execute_result"
    }
   ],
   "source": [
    "conversation_embedding = get_conversation_embedding(random_conversation)\n",
    "dialogs_embeddings = get_dialogs_embeddings(random_conversation)\n",
    "\n",
    "conversation_embedding.shape, dialogs_embeddings.shape, dialogs_embeddings.device"
   ]
  },
  {
   "cell_type": "markdown",
   "metadata": {
    "pycharm": {
     "name": "#%% md\n"
    }
   },
   "source": [
    "We got an embedding for the entire conversation. `conversation_embedding`\n",
    "We also found the embeddings of all dialogs in the conversation.\n",
    "Of these dialogs, which one represents best the conversation embedding?\n",
    "\n",
    "Here I'm using cos similarity. One can use eucledian distance as well.\n",
    "The problem with distance is that it is not bounded b/w 0-1 or something. It is a real number."
   ]
  },
  {
   "cell_type": "code",
   "execution_count": 17,
   "metadata": {
    "pycharm": {
     "name": "#%%\n"
    }
   },
   "outputs": [],
   "source": [
    "cos_sims = get_cos_sim_dialogs_and_conversation(conversation_embedding, dialogs_embeddings)"
   ]
  },
  {
   "cell_type": "code",
   "execution_count": 18,
   "metadata": {
    "pycharm": {
     "name": "#%%\n"
    }
   },
   "outputs": [
    {
     "name": "stdout",
     "output_type": "stream",
     "text": [
      "96 The fools! If they only knew it, they're making things worse for themselves. Somebody starts a silly rumor, and they lose their heads.\n",
      "88 What'll we do?\n",
      "97 I'll talk to them. Listen, go back and tell the boys to stall as much as possible. Tell 'em not to pay any attention to what I said. Tell 'em to verify every signature.\n"
     ]
    }
   ],
   "source": [
    "for i in range(len(cos_sims)):\n",
    "    print(cos_sims[i], random_conversation.dialogs[i].dialog)"
   ]
  },
  {
   "cell_type": "markdown",
   "metadata": {
    "pycharm": {
     "name": "#%% md\n"
    }
   },
   "source": [
    "So we got the most significant dialog in the conversation.\n",
    "Now what?\n",
    "\n",
    "We can find the cos-similarity b/w these significant dialogs and see how many are similar."
   ]
  },
  {
   "cell_type": "code",
   "execution_count": 19,
   "metadata": {
    "pycharm": {
     "name": "#%%\n"
    }
   },
   "outputs": [
    {
     "name": "stderr",
     "output_type": "stream",
     "text": [
      "100%|██████████| 151/151 [01:38<00:00,  1.53it/s]\n"
     ]
    }
   ],
   "source": [
    "def get_significant_dialogs(movie: Movie) -> List[Tuple[torch.Tensor, str]]:\n",
    "    significant_dialogs = []\n",
    "    for conversation in tqdm(movie.conversations):\n",
    "        conversation_embedding = get_conversation_embedding(conversation)\n",
    "        dialogs_embeddings = get_dialogs_embeddings(conversation)\n",
    "        cos_sims = get_cos_sim_dialogs_and_conversation(conversation_embedding, dialogs_embeddings)\n",
    "        argmax = np.argmax(cos_sims)\n",
    "        significant_dialogs.append((\n",
    "            dialogs_embeddings[argmax],\n",
    "            conversation.dialogs[argmax].dialog,\n",
    "        ))\n",
    "    return significant_dialogs\n",
    "\n",
    "\n",
    "significant_dialogs = get_significant_dialogs(random_movie)"
   ]
  },
  {
   "cell_type": "code",
   "execution_count": 20,
   "outputs": [
    {
     "data": {
      "text/plain": "['You here again? What do you want?',\n 'What do you suppose anybody wants? Money, money, money!',\n 'Tom, I never had trouble getting credit from you before. When I was flat broke you gave me all the money I wanted. Now I come to you with a swell deal, and the greatest\\x97',\n \"What's the idea of turning her down? It sounds like a perfectly safe investment.\",\n 'Yeah - sure!',\n \"No kidding. When I saw it, you could'a knocked me over with a pin.\",\n \"Here's twenty-five thousand.\",\n 'Let me have ten bucks?',\n \"I'll pay it back to you Saturday - on the level I will. Give a guy a break, will you? I've got to get it back in my account. If Helen ever finds out that I\\x97\",\n 'Say pal, did you ever hear of a Depression?',\n \"Where do you think I've been?  I took the baby for a stroll in the park.\",\n 'I remember once when your account checked.',\n \"And listen, wise guy - I'm setting friend time clock for exactly nine o'clock, so no squawks out of you guys in the morning.\",\n 'Not yet, Mr. Clark.',\n \"Personally, I think you're getting panic-stricken about nothing. Dickson's all right.\",\n \"What good will that do?  Why, it will take control away from him. We'll put somebody else in charge, call in all doubtful loans, and be on safe ground again. That's what good it will do!\",\n 'How are you protecting your depositors? By making a lot of idiotic loans!',\n \"All right, let him! I'm sick and tired of hearing about him. If he wants to run the bank, let him do it. I don't want any part of it.\",\n \"Oh, you would, eh?  All right. If it's more important than golf, go ahead. What's on your mind?\",\n \"What's the matter with my policy? How many losses has this bank taken in the last twenty-five years?  I'll tell you. Not a single one!  What's wrong with that kind of banking?\",\n \"Not at all. That's Alexander Hamilton's idea[5] - the finest banking mind this country has ever known. Those are his exact words, gentlemen. Character!  It's the only thing you can bank on, and it's the only thing that will pull this country out of the doldrums.\",\n \"I know, Dickson. That's all very well. But you're taking too many chances. In these times a bank should keep liquid in case of trouble. In case of emergency!\",\n \"Yes! You said it, Clark. That's the only thing that means anything to me.\",\n 'We want to talk to you.',\n \"We'll be forced to shut the doors. I've worked twenty-five years night and day to keep this bank alive. You've all made money out of it. Are you willing to help?\",\n \"The depositors you were protecting were the first ones to pounce on you. You thought they were your friends. Why don't you go out there now and try and get some help from them?\",\n \"I can't? You just wait and see. If that run doesn't stop within the next hour, I'll shut the doors. You know what that means? The bank examiner will step in tomorrow. You'll be forced to liquidate. I'll insist upon it. The depositors will be paid one hundred cents on the dollar. What's left you gentlemen can have. But I'll guarantee there won't be enough to pay your next month's garage bill.\",\n \"Dickson, I'd like to talk to you about the bank.\",\n 'Come out here you pawnbrokers - take a look at this!',\n \"I hope you don't mind me asking you a few questions, Mr. Cluett.\",\n \"If you don't mind, Inspector, I'd rather not say - that is, unless it becomes absolutely essential. You see, she's married.\",\n 'It\\'s one of the boys from headquarters. He always sings \"Mother Machree\" whenever he\\'s got good news. Looks like this case\\'ll be settled in no time.',\n \"Stand back Inspector, or I'll shoot. Drop that gun.\",\n \"Don't be a fool, Cluett. This is only going to make it worse for you.\",\n 'They took my keys yesterday. I went there to get them back.',\n \"I was crazy, I tell you, Mr. Dickson. I didn't know what I was doing. I wandered around in a daze. All I could think of was that they were going to kill me . . .  You'll stand by me, won't you, Mr. Dickson? You won't go back on me now, will you? I'll die if they send me to prison!\",\n \"But I didn't kill that man last night. Honest I didn't, Mr. Dickson!\",\n 'You just mentioned her name. What was she doing there? What was she doing in your apartment?',\n \"She wasn't to blame, Mr. Dickson. It wasn't her fault. Honest, it wasn't. I begged her to come up. She didn't\\x97\",\n \"You know what we do to welchers, Cluett, don't you?\",\n \"Then what did you want to gamble for? If you'd have beat us out of fifty G's, you'd have been paid, wouldn't you? Well, we want our dough.\",\n \"Good heavens, man! You're not suggesting that I\\x97\",\n \"All you gotta do is fix a few things for us , and we'll do the rest, see?\",\n \"You? No, you'll be all right, so long as you establish an alibi for tonight.\",\n \"This won't do. Not during business hours . . .\",\n \"What is the matter with you? You're trembling?\",\n \"Here, here, here, now! Don't you go back to work on me, too. I'm getting tired of this. Besides, it's beginning to affect your looks\\x97\",\n \"Come on Cyril, try a little bit of it out on me. I haven't had any first-class blarney thrown at me since the day I was married.\",\n 'Yes, yes, it does. What are you doing tonight, Phyllis?',\n \"Oh! Oh, no!  I think I've done enough experimenting for one day. Congratulations, Cyril. You've convinced me that you're a philanderer of the very first order. I shall recommend you highly.\",\n \"No, they won't. Not when you are there. Oh, please, be a sport. Please ask me.\",\n \"Don't you know I've been crazy about you for years?\",\n \"No. I know the answer to that one.  I think you'd better take me home.\",\n \"You know, there ought to be a Congressional Medal for men like you. America's comfort to misunderstood wives. I never thought I would find myself in that class.\",\n \"I'm not afraid of you. You haven't got a moustache!\",\n 'What are you doing here?',\n 'Let me see your cash book, will you?',\n 'The butler said I could stay. I told him it was important.',\n \"Well, I thought I'd like to have a little talk with you.\",\n \"Oh no, Mr. Cluett, if it's all the same to you, I'd rather not wait. It's about you and Mrs. Dickson.\",\n \"You've no right to do this to her, Mr. Cluett. Why don't you think it over? It's only gonna get you into a lot of trouble.\",\n \"Phyllis, you don't have to explain anything.  You'd do well to mind your own business.\",\n 'Good morning, Mr. Dickson.',\n 'Wait a minute.  How do you feel this morning?',\n \"Of course, let them in! You're late now.\",\n 'Good morning, Mr. Dickson. My wife is much better this morning.',\n \"Well, look who's here! Hello, dear.\",\n \"If this isn't a red-letter day for Tom Dickson! First I trample on the Board of Directors, then I promote Matt here to assistant cashier, and now to complete the day I have a visit from my sweet and lovely and gorgeous wife. What a man, what a man!\",\n \"I'm terribly sorry. I'd forgotten all about you. I'm so sorry, dear.\",\n \"Now Tom, you simply cannot go to Philadelphia tonight. That's all there is to it.\",\n \"Ho, ho, ho, yourself! I wouldn't laugh if I were you. You may not suspect it, but I'm still attractive - to some.\",\n \"All right. I'll postpone the whole thing until tomorrow night.\",\n \"Listen, dear. I want to ask you something. I know it's a silly thing for me to ask you, but . . . I want you to tell me the truth. Where were you last night?\",\n \"Helen, you're becoming more beautiful every day. What are we going to do about it?\",\n \"I haven't got any new stories for them this morning, either.\",\n 'Helen, tell Matt I want to see him.',\n \"Oh, Mr. Dickson - they're going to arrest Matt. They think he did it!\",\n 'Come on in here, Helen. Bring your book. I want some numbers to try to get some action. Get Parker at the Union-Leeds - the Exchange . . . Winslow and old man Harris at the Home Mortgage. Snap into it, Helen. Just as quick as you can.',\n 'You want the rest of those numbers, Mr. Dickson?',\n 'Good morning, Helen.',\n \"Oh, no! It's not for you. You're only going to get married. Mrs. Dickson and I are going to go on the honeymoon.\",\n 'Yes, sir.',\n 'All right. Send him in.',\n 'Helen!',\n 'Good morning, Mrs. Pembroke.',\n \"Ah, Mrs. Pembroke. I spoke to Mr. Schaffer at the Guaranty. He's going to take care of that mortgage for you . . .\",\n 'But, Mr. Dickson, I thought you were going to take care of the mortgage. I only want ten thousand. The property is worth sixty.',\n \"Wait a minute. Where's your uniform?\",\n 'Oh, make that uniform blue.',\n \"I don't know. Mr. Sampson bought it for me.\",\n \"And what's more, keep up the good work and who knows - some day you'll be the fellow sitting behind that desk . . .  Not a bad thought, eh?\",\n \"Say, come on. Show a little enthusiasm. What's the matter? Are you sick or something? Go on, fake it - even if it isn't real.\",\n \"Aw, I'm sorry, Mr. Dickson. It's just kind of sudden, that's all.  Sure, I'm excited. I think it's great. Only, well, you've done so much for me already . . . I'll never be able to thank you enough.\",\n 'I already told him I was home.',\n \"Wait a minute. Wait a minute.  Matt, do you realize you're up against something? You're being charged with murder. It's serious, son. Now come on, I know you didn't do it.  But we've got to make them believe it. Come on, tell the truth, where were you last night?\",\n \"Yes, you are. You're protecting somebody. Now listen, it doesn't make any difference who it is. It can't be as important as this. Now come on, tell me. Where were you last night?  Come on, don't be a fool. Matt, you trust me, don't you?\",\n \"Oh, I can explain about that later. You're losing your bank - don't you realize what that means?\",\n \"I don't want to hear any more about it. If you don't get married, I'll fire both of you.\",\n \"Helen, while you're downtown, you might stop in and make reservations for the bridal suite on the Berengaria sailing next week.\",\n \"What's the matter? What's going on here?  This is ridiculous! You can't hold this boy on a vague suspicion.\",\n \"Why, certainly he can.  Matt, now all you've got to do is tell them where you were last night, between twelve and twelve-thirty, and everything will be all right.\",\n \"Good.  You've got nothing to worry about. Soon as the report comes in, you'll be released.  And listen, don't talk so loud. Take it easy. Coast a little.\",\n \"So have you. So have I. So's everybody got a record. What difference does that make? You can't go around pinning crimes on people just because they\\x97\",\n \"Listen, Matt. If you don't tell the truth, I can't help you. Where were you last night?\",\n \"You were right, Mr. Dickson! Brown didn't have anything to do with it. Here's your man.\",\n \"My wife? What's she got to do with you?\",\n \"Don't worry, Mr. Dickson. We'll find out whether he's telling the truth. I'll have a man from headquarters check up on it right away.\",\n \"Here's the data on the Clyde deal.\",\n \"Good. I'll take this along with me. Tell Clyde I'll see him tomorrow. I'm sick and tired of the delay.\",\n 'What are you talking about?',\n \"They've been coming in steady all morning. I have called for some extra police.\",\n \"The bank's reputation wouldn't be worth a nickel after that. This is just a flurry, that's all. They've heard about the robbery and got panic-stricken. Listen, get a hold of our available securities and have them turned into cash. Wait a minute. Get my personal stuff and have that turned into cash too. Tell the boys anyone caught arguing with a depositor will be fired on the spot.\",\n \"Yes, sir. But soon as our money runs out, they'll mob the place.\",\n \"I'll talk to them. Listen, go back and tell the boys to stall as much as possible. Tell 'em not to pay any attention to what I said. Tell 'em to verify every signature.\",\n \"We can't keep open till four o'clock. We haven't cash enough to last an hour.\",\n 'Get all the big bills in the place. Take them out and get them changed. Get nothing but ones and fives. Distribute them among the tellers. Tell them to take their time. Stall as much as possible. Count and recount the money.',\n \"It's his life insurance money, you know.\",\n 'Quiet down, please! Take it easy, folks. Everything will be all right.',\n 'Board meeting. Oh, that means hours, I suppose.',\n \"Oh, well. I guess the only other thing for me to do is to go out and buy myself a few sticks of dynamite. When he comes out, you tell him I'll be back. He hasn't gotten rid of me!\",\n 'Come here, honey!',\n \"Hey, look out, somebody's likely to see us!\",\n 'What did you do with it?',\n \"Oh, you think I'm lying?\",\n \"Say, I just heard the merger isn't going thru. Isn't that grand?\",\n 'What happened? What did he say? Did you get the job?',\n \"What's the matter, Matt? Gee, I thought you'd be thrilled to death.\",\n 'Oh Matt, you must be mistaken.',\n \"Yes, right in his office, the rat. I'd like to take a crack at that guy.\",\n \"Now you've got me worried, dear.  Promise me you won't butt in.\",\n \"Shh . . . !  I'll wait for you upstairs.\",\n \"Don't cry, honey. Everything's gonna be all right.\",\n \"Sure, they'd turn him down. He ought to know that. I'm going in there and talk to him.\",\n \"Yeah.  I got an idea. Come on, let's get to a telephone.\",\n \"Dickson's in a jam I tell you. The run's getting worse.\",\n 'Did you say Dude Finlay?',\n \"I've been trailing the cashier like you told me. You're right about that guy, chief. There's something screwy somewhere.\",\n 'Sure I do. He has the best room in me house. The one with the fancy wallpaper.',\n 'It was late, I know. The Dooley sisters was already in. They work at a show, you know.',\n 'What time did Matt Brown get in?',\n \"Yes, I guess it was one, 'cause...\",\n 'Listen here, young man - nobody ever called me a liar yet and got away with it\\x97',\n \"You turned off the burglar alarm, you set the time clock, came back at twelve and emptied the boxes, didn't you?\",\n \"I don't know.\",\n \"Eleven o'clock, eh? Are you sure it was that?\",\n \"But I wasn't here, Mr. Dickson. Honest I wasn't . . .\",\n \"You're carrying too much money on you, Hank. You better turn some in tonight.\",\n \"You've got enough?\",\n 'That mug reminds me of a guy with his second dollar.',\n \"Where's Charlie?\",\n \"They're starting to come in already. Yeah. Yeah. Well, listen. Don't waste any time. Get all the money you can lay your hands on, and bring it down here right away. Step on it.\"]"
     },
     "execution_count": 20,
     "metadata": {},
     "output_type": "execute_result"
    }
   ],
   "source": [
    "[d[1] for d in significant_dialogs]"
   ],
   "metadata": {
    "collapsed": false,
    "pycharm": {
     "name": "#%%\n"
    }
   }
  },
  {
   "cell_type": "markdown",
   "source": [
    "These dialogs are interesting, but some of them are boring and not \"significant\".\n",
    "I want to cluster them into groups.\n",
    "There's one way to do this.\n",
    "\n",
    "Find similarity b/w each significant dialog to the others.\n",
    "Now consider creating a network of these dialogs where similar dialogs have a link."
   ],
   "metadata": {
    "collapsed": false,
    "pycharm": {
     "name": "#%% md\n"
    }
   }
  },
  {
   "cell_type": "code",
   "metadata": {
    "pycharm": {
     "name": "#%%\n"
    }
   },
   "source": [
    "def get_similar_dialog_pairs(dialogs: List[Tuple[torch.Tensor, str]]) -> List[Tuple[int, int, float]]:\n",
    "    similar_pairs = []\n",
    "    for i, (tensor1, dialog1) in enumerate(dialogs):\n",
    "        for j in range(i + 1, len(dialogs)):\n",
    "            tensor2, dialog2 = dialogs[j]\n",
    "\n",
    "            similarity = float(F.cosine_similarity(tensor1, tensor2, dim=0))\n",
    "            similar_pairs.append((i, j, similarity))\n",
    "\n",
    "    similar_pairs = sorted(similar_pairs, key=lambda x: -x[2])\n",
    "    return similar_pairs\n",
    "\n",
    "\n",
    "all_dialog_pairs = get_similar_dialog_pairs(significant_dialogs)\n",
    "similar_pairs = all_dialog_pairs[: len(significant_dialogs) // 2]"
   ],
   "execution_count": 21,
   "outputs": []
  },
  {
   "cell_type": "code",
   "execution_count": 22,
   "outputs": [
    {
     "name": "stdout",
     "output_type": "stream",
     "text": [
      "Average length of conversations: 0.7608779309074873\n",
      "Max length of conversations: 0.9628100395202637\n",
      "Min length of conversations: 0.38927698135375977\n"
     ]
    },
    {
     "data": {
      "text/plain": "Text(0.5, 0, 'similarity_scores')"
     },
     "execution_count": 22,
     "metadata": {},
     "output_type": "execute_result"
    },
    {
     "data": {
      "text/plain": "<Figure size 432x288 with 1 Axes>",
      "image/png": "[encoded data removed]"
     },
     "metadata": {
      "needs_background": "light"
     },
     "output_type": "display_data"
    }
   ],
   "source": [
    "# Plotting similarity scores for the dialogs\n",
    "\n",
    "similarity_scores = np.array([p[2] for p in all_dialog_pairs])\n",
    "\n",
    "print(f'Average length of conversations: {similarity_scores.mean()}')\n",
    "print(f'Max length of conversations: {similarity_scores.max()}')\n",
    "print(f'Min length of conversations: {similarity_scores.min()}')\n",
    "\n",
    "plt.plot(similarity_scores)\n",
    "plt.title(\"similarity_scores for each pair of significant dialogs\")\n",
    "plt.xlabel(\"dialog pair index sorted descendingly by y\")\n",
    "plt.xlabel(\"similarity_scores\")"
   ],
   "metadata": {
    "collapsed": false,
    "pycharm": {
     "name": "#%%\n"
    }
   }
  },
  {
   "cell_type": "code",
   "execution_count": 23,
   "outputs": [
    {
     "data": {
      "text/plain": "<IPython.core.display.HTML object>",
      "text/html": "<html>\n<head>\n<link rel=\"stylesheet\" href=\"https://cdnjs.cloudflare.com/ajax/libs/vis/4.16.1/vis.css\" type=\"text/css\" />\n<script type=\"text/javascript\" src=\"https://cdnjs.cloudflare.com/ajax/libs/vis/4.16.1/vis-network.min.js\"> </script>\n<center>\n<h1></h1>\n</center>\n\n<!-- <link rel=\"stylesheet\" href=\"../node_modules/vis/dist/vis.min.css\" type=\"text/css\" />\n<script type=\"text/javascript\" src=\"../node_modules/vis/dist/vis.js\"> </script>-->\n\n<style type=\"text/css\">\n\n        #mynetwork {\n            width: 1080;\n            height: 500px;\n            background-color: #ffffff;\n            border: 1px solid lightgray;\n            position: relative;\n            float: left;\n        }\n\n        \n        #loadingBar {\n            position:absolute;\n            top:0px;\n            left:0px;\n            width: 1080;\n            height: 500px;\n            background-color:rgba(200,200,200,0.8);\n            -webkit-transition: all 0.5s ease;\n            -moz-transition: all 0.5s ease;\n            -ms-transition: all 0.5s ease;\n            -o-transition: all 0.5s ease;\n            transition: all 0.5s ease;\n            opacity:1;\n        }\n\n        #bar {\n            position:absolute;\n            top:0px;\n            left:0px;\n            width:20px;\n            height:20px;\n            margin:auto auto auto auto;\n            border-radius:11px;\n            border:2px solid rgba(30,30,30,0.05);\n            background: rgb(0, 173, 246); /* Old browsers */\n            box-shadow: 2px 0px 4px rgba(0,0,0,0.4);\n        }\n\n        #border {\n            position:absolute;\n            top:10px;\n            left:10px;\n            width:500px;\n            height:23px;\n            margin:auto auto auto auto;\n            box-shadow: 0px 0px 4px rgba(0,0,0,0.2);\n            border-radius:10px;\n        }\n\n        #text {\n            position:absolute;\n            top:8px;\n            left:530px;\n            width:30px;\n            height:50px;\n            margin:auto auto auto auto;\n            font-size:22px;\n            color: #000000;\n        }\n\n        div.outerBorder {\n            position:relative;\n            top:400px;\n            width:600px;\n            height:44px;\n            margin:auto auto auto auto;\n            border:8px solid rgba(0,0,0,0.1);\n            background: rgb(252,252,252); /* Old browsers */\n            background: -moz-linear-gradient(top,  rgba(252,252,252,1) 0%, rgba(237,237,237,1) 100%); /* FF3.6+ */\n            background: -webkit-gradient(linear, left top, left bottom, color-stop(0%,rgba(252,252,252,1)), color-stop(100%,rgba(237,237,237,1))); /* Chrome,Safari4+ */\n            background: -webkit-linear-gradient(top,  rgba(252,252,252,1) 0%,rgba(237,237,237,1) 100%); /* Chrome10+,Safari5.1+ */\n            background: -o-linear-gradient(top,  rgba(252,252,252,1) 0%,rgba(237,237,237,1) 100%); /* Opera 11.10+ */\n            background: -ms-linear-gradient(top,  rgba(252,252,252,1) 0%,rgba(237,237,237,1) 100%); /* IE10+ */\n            background: linear-gradient(to bottom,  rgba(252,252,252,1) 0%,rgba(237,237,237,1) 100%); /* W3C */\n            filter: progid:DXImageTransform.Microsoft.gradient( startColorstr='#fcfcfc', endColorstr='#ededed',GradientType=0 ); /* IE6-9 */\n            border-radius:72px;\n            box-shadow: 0px 0px 10px rgba(0,0,0,0.2);\n        }\n        \n\n        \n\n        \n</style>\n\n</head>\n\n<body>\n<div id = \"mynetwork\"></div>\n\n<div id=\"loadingBar\">\n    <div class=\"outerBorder\">\n        <div id=\"text\">0%</div>\n        <div id=\"border\">\n            <div id=\"bar\"></div>\n        </div>\n    </div>\n</div>\n\n\n<script type=\"text/javascript\">\n\n    // initialize global variables.\n    var edges;\n    var nodes;\n    var network; \n    var container;\n    var options, data;\n\n    \n    // This method is responsible for drawing the graph, returns the drawn network\n    function drawGraph() {\n        var container = document.getElementById('mynetwork');\n        \n        \n\n        // parsing and collecting nodes and edges from the python\n        nodes = new vis.DataSet([{\"id\": 0, \"label\": \"You here again? What do you want?\", \"shape\": \"dot\", \"size\": 10, \"title\": \"You here again? What do you want?\"}, {\"id\": 1, \"label\": \"What do you suppose anybody wants? Money, money, money!\", \"shape\": \"dot\", \"size\": 10, \"title\": \"What do you suppose anybody wants? Money, money, money!\"}, {\"id\": 2, \"label\": \"Tom, I never had trouble getting credit from you before. When I was flat broke you gave me all the money I wanted. Now I come to you with a swell deal, and the greatest\\u0097\", \"shape\": \"dot\", \"size\": 10, \"title\": \"Tom, I never had trouble getting credit from you before. When I was flat broke you gave me all the money I wanted. Now I come to you with a swell deal, and the greatest\\u0097\"}, {\"id\": 3, \"label\": \"What\\u0027s the idea of turning her down? It sounds like a perfectly safe investment.\", \"shape\": \"dot\", \"size\": 10, \"title\": \"What\\u0027s the idea of turning her down? It sounds like a perfectly safe investment.\"}, {\"id\": 4, \"label\": \"Yeah - sure!\", \"shape\": \"dot\", \"size\": 10, \"title\": \"Yeah - sure!\"}, {\"id\": 5, \"label\": \"No kidding. When I saw it, you could\\u0027a knocked me over with a pin.\", \"shape\": \"dot\", \"size\": 10, \"title\": \"No kidding. When I saw it, you could\\u0027a knocked me over with a pin.\"}, {\"id\": 6, \"label\": \"Here\\u0027s twenty-five thousand.\", \"shape\": \"dot\", \"size\": 10, \"title\": \"Here\\u0027s twenty-five thousand.\"}, {\"id\": 7, \"label\": \"Let me have ten bucks?\", \"shape\": \"dot\", \"size\": 10, \"title\": \"Let me have ten bucks?\"}, {\"id\": 8, \"label\": \"I\\u0027ll pay it back to you Saturday - on the level I will. Give a guy a break, will you? I\\u0027ve got to get it back in my account. If Helen ever finds out that I\\u0097\", \"shape\": \"dot\", \"size\": 10, \"title\": \"I\\u0027ll pay it back to you Saturday - on the level I will. Give a guy a break, will you? I\\u0027ve got to get it back in my account. If Helen ever finds out that I\\u0097\"}, {\"id\": 9, \"label\": \"Say pal, did you ever hear of a Depression?\", \"shape\": \"dot\", \"size\": 10, \"title\": \"Say pal, did you ever hear of a Depression?\"}, {\"id\": 10, \"label\": \"Where do you think I\\u0027ve been?  I took the baby for a stroll in the park.\", \"shape\": \"dot\", \"size\": 10, \"title\": \"Where do you think I\\u0027ve been?  I took the baby for a stroll in the park.\"}, {\"id\": 11, \"label\": \"I remember once when your account checked.\", \"shape\": \"dot\", \"size\": 10, \"title\": \"I remember once when your account checked.\"}, {\"id\": 12, \"label\": \"And listen, wise guy - I\\u0027m setting friend time clock for exactly nine o\\u0027clock, so no squawks out of you guys in the morning.\", \"shape\": \"dot\", \"size\": 10, \"title\": \"And listen, wise guy - I\\u0027m setting friend time clock for exactly nine o\\u0027clock, so no squawks out of you guys in the morning.\"}, {\"id\": 13, \"label\": \"Not yet, Mr. Clark.\", \"shape\": \"dot\", \"size\": 10, \"title\": \"Not yet, Mr. Clark.\"}, {\"id\": 14, \"label\": \"Personally, I think you\\u0027re getting panic-stricken about nothing. Dickson\\u0027s all right.\", \"shape\": \"dot\", \"size\": 10, \"title\": \"Personally, I think you\\u0027re getting panic-stricken about nothing. Dickson\\u0027s all right.\"}, {\"id\": 15, \"label\": \"What good will that do?  Why, it will take control away from him. We\\u0027ll put somebody else in charge, call in all doubtful loans, and be on safe ground again. That\\u0027s what good it will do!\", \"shape\": \"dot\", \"size\": 10, \"title\": \"What good will that do?  Why, it will take control away from him. We\\u0027ll put somebody else in charge, call in all doubtful loans, and be on safe ground again. That\\u0027s what good it will do!\"}, {\"id\": 16, \"label\": \"How are you protecting your depositors? By making a lot of idiotic loans!\", \"shape\": \"dot\", \"size\": 10, \"title\": \"How are you protecting your depositors? By making a lot of idiotic loans!\"}, {\"id\": 17, \"label\": \"All right, let him! I\\u0027m sick and tired of hearing about him. If he wants to run the bank, let him do it. I don\\u0027t want any part of it.\", \"shape\": \"dot\", \"size\": 10, \"title\": \"All right, let him! I\\u0027m sick and tired of hearing about him. If he wants to run the bank, let him do it. I don\\u0027t want any part of it.\"}, {\"id\": 18, \"label\": \"Oh, you would, eh?  All right. If it\\u0027s more important than golf, go ahead. What\\u0027s on your mind?\", \"shape\": \"dot\", \"size\": 10, \"title\": \"Oh, you would, eh?  All right. If it\\u0027s more important than golf, go ahead. What\\u0027s on your mind?\"}, {\"id\": 19, \"label\": \"What\\u0027s the matter with my policy? How many losses has this bank taken in the last twenty-five years?  I\\u0027ll tell you. Not a single one!  What\\u0027s wrong with that kind of banking?\", \"shape\": \"dot\", \"size\": 10, \"title\": \"What\\u0027s the matter with my policy? How many losses has this bank taken in the last twenty-five years?  I\\u0027ll tell you. Not a single one!  What\\u0027s wrong with that kind of banking?\"}, {\"id\": 20, \"label\": \"Not at all. That\\u0027s Alexander Hamilton\\u0027s idea[5] - the finest banking mind this country has ever known. Those are his exact words, gentlemen. Character!  It\\u0027s the only thing you can bank on, and it\\u0027s the only thing that will pull this country out of the doldrums.\", \"shape\": \"dot\", \"size\": 10, \"title\": \"Not at all. That\\u0027s Alexander Hamilton\\u0027s idea[5] - the finest banking mind this country has ever known. Those are his exact words, gentlemen. Character!  It\\u0027s the only thing you can bank on, and it\\u0027s the only thing that will pull this country out of the doldrums.\"}, {\"id\": 21, \"label\": \"I know, Dickson. That\\u0027s all very well. But you\\u0027re taking too many chances. In these times a bank should keep liquid in case of trouble. In case of emergency!\", \"shape\": \"dot\", \"size\": 10, \"title\": \"I know, Dickson. That\\u0027s all very well. But you\\u0027re taking too many chances. In these times a bank should keep liquid in case of trouble. In case of emergency!\"}, {\"id\": 22, \"label\": \"Yes! You said it, Clark. That\\u0027s the only thing that means anything to me.\", \"shape\": \"dot\", \"size\": 10, \"title\": \"Yes! You said it, Clark. That\\u0027s the only thing that means anything to me.\"}, {\"id\": 23, \"label\": \"We want to talk to you.\", \"shape\": \"dot\", \"size\": 10, \"title\": \"We want to talk to you.\"}, {\"id\": 24, \"label\": \"We\\u0027ll be forced to shut the doors. I\\u0027ve worked twenty-five years night and day to keep this bank alive. You\\u0027ve all made money out of it. Are you willing to help?\", \"shape\": \"dot\", \"size\": 10, \"title\": \"We\\u0027ll be forced to shut the doors. I\\u0027ve worked twenty-five years night and day to keep this bank alive. You\\u0027ve all made money out of it. Are you willing to help?\"}, {\"id\": 25, \"label\": \"The depositors you were protecting were the first ones to pounce on you. You thought they were your friends. Why don\\u0027t you go out there now and try and get some help from them?\", \"shape\": \"dot\", \"size\": 10, \"title\": \"The depositors you were protecting were the first ones to pounce on you. You thought they were your friends. Why don\\u0027t you go out there now and try and get some help from them?\"}, {\"id\": 26, \"label\": \"I can\\u0027t? You just wait and see. If that run doesn\\u0027t stop within the next hour, I\\u0027ll shut the doors. You know what that means? The bank examiner will step in tomorrow. You\\u0027ll be forced to liquidate. I\\u0027ll insist upon it. The depositors will be paid one hundred cents on the dollar. What\\u0027s left you gentlemen can have. But I\\u0027ll guarantee there won\\u0027t be enough to pay your next month\\u0027s garage bill.\", \"shape\": \"dot\", \"size\": 10, \"title\": \"I can\\u0027t? You just wait and see. If that run doesn\\u0027t stop within the next hour, I\\u0027ll shut the doors. You know what that means? The bank examiner will step in tomorrow. You\\u0027ll be forced to liquidate. I\\u0027ll insist upon it. The depositors will be paid one hundred cents on the dollar. What\\u0027s left you gentlemen can have. But I\\u0027ll guarantee there won\\u0027t be enough to pay your next month\\u0027s garage bill.\"}, {\"id\": 27, \"label\": \"Dickson, I\\u0027d like to talk to you about the bank.\", \"shape\": \"dot\", \"size\": 10, \"title\": \"Dickson, I\\u0027d like to talk to you about the bank.\"}, {\"id\": 28, \"label\": \"Come out here you pawnbrokers - take a look at this!\", \"shape\": \"dot\", \"size\": 10, \"title\": \"Come out here you pawnbrokers - take a look at this!\"}, {\"id\": 29, \"label\": \"I hope you don\\u0027t mind me asking you a few questions, Mr. Cluett.\", \"shape\": \"dot\", \"size\": 10, \"title\": \"I hope you don\\u0027t mind me asking you a few questions, Mr. Cluett.\"}, {\"id\": 30, \"label\": \"If you don\\u0027t mind, Inspector, I\\u0027d rather not say - that is, unless it becomes absolutely essential. You see, she\\u0027s married.\", \"shape\": \"dot\", \"size\": 10, \"title\": \"If you don\\u0027t mind, Inspector, I\\u0027d rather not say - that is, unless it becomes absolutely essential. You see, she\\u0027s married.\"}, {\"id\": 31, \"label\": \"It\\u0027s one of the boys from headquarters. He always sings \\\"Mother Machree\\\" whenever he\\u0027s got good news. Looks like this case\\u0027ll be settled in no time.\", \"shape\": \"dot\", \"size\": 10, \"title\": \"It\\u0027s one of the boys from headquarters. He always sings \\\"Mother Machree\\\" whenever he\\u0027s got good news. Looks like this case\\u0027ll be settled in no time.\"}, {\"id\": 32, \"label\": \"Stand back Inspector, or I\\u0027ll shoot. Drop that gun.\", \"shape\": \"dot\", \"size\": 10, \"title\": \"Stand back Inspector, or I\\u0027ll shoot. Drop that gun.\"}, {\"id\": 33, \"label\": \"Don\\u0027t be a fool, Cluett. This is only going to make it worse for you.\", \"shape\": \"dot\", \"size\": 10, \"title\": \"Don\\u0027t be a fool, Cluett. This is only going to make it worse for you.\"}, {\"id\": 34, \"label\": \"They took my keys yesterday. I went there to get them back.\", \"shape\": \"dot\", \"size\": 10, \"title\": \"They took my keys yesterday. I went there to get them back.\"}, {\"id\": 35, \"label\": \"I was crazy, I tell you, Mr. Dickson. I didn\\u0027t know what I was doing. I wandered around in a daze. All I could think of was that they were going to kill me . . .  You\\u0027ll stand by me, won\\u0027t you, Mr. Dickson? You won\\u0027t go back on me now, will you? I\\u0027ll die if they send me to prison!\", \"shape\": \"dot\", \"size\": 10, \"title\": \"I was crazy, I tell you, Mr. Dickson. I didn\\u0027t know what I was doing. I wandered around in a daze. All I could think of was that they were going to kill me . . .  You\\u0027ll stand by me, won\\u0027t you, Mr. Dickson? You won\\u0027t go back on me now, will you? I\\u0027ll die if they send me to prison!\"}, {\"id\": 36, \"label\": \"But I didn\\u0027t kill that man last night. Honest I didn\\u0027t, Mr. Dickson!\", \"shape\": \"dot\", \"size\": 10, \"title\": \"But I didn\\u0027t kill that man last night. Honest I didn\\u0027t, Mr. Dickson!\"}, {\"id\": 37, \"label\": \"You just mentioned her name. What was she doing there? What was she doing in your apartment?\", \"shape\": \"dot\", \"size\": 10, \"title\": \"You just mentioned her name. What was she doing there? What was she doing in your apartment?\"}, {\"id\": 38, \"label\": \"She wasn\\u0027t to blame, Mr. Dickson. It wasn\\u0027t her fault. Honest, it wasn\\u0027t. I begged her to come up. She didn\\u0027t\\u0097\", \"shape\": \"dot\", \"size\": 10, \"title\": \"She wasn\\u0027t to blame, Mr. Dickson. It wasn\\u0027t her fault. Honest, it wasn\\u0027t. I begged her to come up. She didn\\u0027t\\u0097\"}, {\"id\": 39, \"label\": \"You know what we do to welchers, Cluett, don\\u0027t you?\", \"shape\": \"dot\", \"size\": 10, \"title\": \"You know what we do to welchers, Cluett, don\\u0027t you?\"}, {\"id\": 40, \"label\": \"Then what did you want to gamble for? If you\\u0027d have beat us out of fifty G\\u0027s, you\\u0027d have been paid, wouldn\\u0027t you? Well, we want our dough.\", \"shape\": \"dot\", \"size\": 10, \"title\": \"Then what did you want to gamble for? If you\\u0027d have beat us out of fifty G\\u0027s, you\\u0027d have been paid, wouldn\\u0027t you? Well, we want our dough.\"}, {\"id\": 41, \"label\": \"Good heavens, man! You\\u0027re not suggesting that I\\u0097\", \"shape\": \"dot\", \"size\": 10, \"title\": \"Good heavens, man! You\\u0027re not suggesting that I\\u0097\"}, {\"id\": 42, \"label\": \"All you gotta do is fix a few things for us , and we\\u0027ll do the rest, see?\", \"shape\": \"dot\", \"size\": 10, \"title\": \"All you gotta do is fix a few things for us , and we\\u0027ll do the rest, see?\"}, {\"id\": 43, \"label\": \"You? No, you\\u0027ll be all right, so long as you establish an alibi for tonight.\", \"shape\": \"dot\", \"size\": 10, \"title\": \"You? No, you\\u0027ll be all right, so long as you establish an alibi for tonight.\"}, {\"id\": 44, \"label\": \"This won\\u0027t do. Not during business hours . . .\", \"shape\": \"dot\", \"size\": 10, \"title\": \"This won\\u0027t do. Not during business hours . . .\"}, {\"id\": 45, \"label\": \"What is the matter with you? You\\u0027re trembling?\", \"shape\": \"dot\", \"size\": 10, \"title\": \"What is the matter with you? You\\u0027re trembling?\"}, {\"id\": 46, \"label\": \"Here, here, here, now! Don\\u0027t you go back to work on me, too. I\\u0027m getting tired of this. Besides, it\\u0027s beginning to affect your looks\\u0097\", \"shape\": \"dot\", \"size\": 10, \"title\": \"Here, here, here, now! Don\\u0027t you go back to work on me, too. I\\u0027m getting tired of this. Besides, it\\u0027s beginning to affect your looks\\u0097\"}, {\"id\": 47, \"label\": \"Come on Cyril, try a little bit of it out on me. I haven\\u0027t had any first-class blarney thrown at me since the day I was married.\", \"shape\": \"dot\", \"size\": 10, \"title\": \"Come on Cyril, try a little bit of it out on me. I haven\\u0027t had any first-class blarney thrown at me since the day I was married.\"}, {\"id\": 48, \"label\": \"Yes, yes, it does. What are you doing tonight, Phyllis?\", \"shape\": \"dot\", \"size\": 10, \"title\": \"Yes, yes, it does. What are you doing tonight, Phyllis?\"}, {\"id\": 49, \"label\": \"Oh! Oh, no!  I think I\\u0027ve done enough experimenting for one day. Congratulations, Cyril. You\\u0027ve convinced me that you\\u0027re a philanderer of the very first order. I shall recommend you highly.\", \"shape\": \"dot\", \"size\": 10, \"title\": \"Oh! Oh, no!  I think I\\u0027ve done enough experimenting for one day. Congratulations, Cyril. You\\u0027ve convinced me that you\\u0027re a philanderer of the very first order. I shall recommend you highly.\"}, {\"id\": 50, \"label\": \"No, they won\\u0027t. Not when you are there. Oh, please, be a sport. Please ask me.\", \"shape\": \"dot\", \"size\": 10, \"title\": \"No, they won\\u0027t. Not when you are there. Oh, please, be a sport. Please ask me.\"}, {\"id\": 51, \"label\": \"Don\\u0027t you know I\\u0027ve been crazy about you for years?\", \"shape\": \"dot\", \"size\": 10, \"title\": \"Don\\u0027t you know I\\u0027ve been crazy about you for years?\"}, {\"id\": 52, \"label\": \"No. I know the answer to that one.  I think you\\u0027d better take me home.\", \"shape\": \"dot\", \"size\": 10, \"title\": \"No. I know the answer to that one.  I think you\\u0027d better take me home.\"}, {\"id\": 53, \"label\": \"You know, there ought to be a Congressional Medal for men like you. America\\u0027s comfort to misunderstood wives. I never thought I would find myself in that class.\", \"shape\": \"dot\", \"size\": 10, \"title\": \"You know, there ought to be a Congressional Medal for men like you. America\\u0027s comfort to misunderstood wives. I never thought I would find myself in that class.\"}, {\"id\": 54, \"label\": \"I\\u0027m not afraid of you. You haven\\u0027t got a moustache!\", \"shape\": \"dot\", \"size\": 10, \"title\": \"I\\u0027m not afraid of you. You haven\\u0027t got a moustache!\"}, {\"id\": 55, \"label\": \"What are you doing here?\", \"shape\": \"dot\", \"size\": 10, \"title\": \"What are you doing here?\"}, {\"id\": 56, \"label\": \"Let me see your cash book, will you?\", \"shape\": \"dot\", \"size\": 10, \"title\": \"Let me see your cash book, will you?\"}, {\"id\": 57, \"label\": \"The butler said I could stay. I told him it was important.\", \"shape\": \"dot\", \"size\": 10, \"title\": \"The butler said I could stay. I told him it was important.\"}, {\"id\": 58, \"label\": \"Well, I thought I\\u0027d like to have a little talk with you.\", \"shape\": \"dot\", \"size\": 10, \"title\": \"Well, I thought I\\u0027d like to have a little talk with you.\"}, {\"id\": 59, \"label\": \"Oh no, Mr. Cluett, if it\\u0027s all the same to you, I\\u0027d rather not wait. It\\u0027s about you and Mrs. Dickson.\", \"shape\": \"dot\", \"size\": 10, \"title\": \"Oh no, Mr. Cluett, if it\\u0027s all the same to you, I\\u0027d rather not wait. It\\u0027s about you and Mrs. Dickson.\"}, {\"id\": 60, \"label\": \"You\\u0027ve no right to do this to her, Mr. Cluett. Why don\\u0027t you think it over? It\\u0027s only gonna get you into a lot of trouble.\", \"shape\": \"dot\", \"size\": 10, \"title\": \"You\\u0027ve no right to do this to her, Mr. Cluett. Why don\\u0027t you think it over? It\\u0027s only gonna get you into a lot of trouble.\"}, {\"id\": 61, \"label\": \"Phyllis, you don\\u0027t have to explain anything.  You\\u0027d do well to mind your own business.\", \"shape\": \"dot\", \"size\": 10, \"title\": \"Phyllis, you don\\u0027t have to explain anything.  You\\u0027d do well to mind your own business.\"}, {\"id\": 62, \"label\": \"Good morning, Mr. Dickson.\", \"shape\": \"dot\", \"size\": 10, \"title\": \"Good morning, Mr. Dickson.\"}, {\"id\": 63, \"label\": \"Wait a minute.  How do you feel this morning?\", \"shape\": \"dot\", \"size\": 10, \"title\": \"Wait a minute.  How do you feel this morning?\"}, {\"id\": 64, \"label\": \"Of course, let them in! You\\u0027re late now.\", \"shape\": \"dot\", \"size\": 10, \"title\": \"Of course, let them in! You\\u0027re late now.\"}, {\"id\": 65, \"label\": \"Good morning, Mr. Dickson. My wife is much better this morning.\", \"shape\": \"dot\", \"size\": 10, \"title\": \"Good morning, Mr. Dickson. My wife is much better this morning.\"}, {\"id\": 66, \"label\": \"Well, look who\\u0027s here! Hello, dear.\", \"shape\": \"dot\", \"size\": 10, \"title\": \"Well, look who\\u0027s here! Hello, dear.\"}, {\"id\": 67, \"label\": \"If this isn\\u0027t a red-letter day for Tom Dickson! First I trample on the Board of Directors, then I promote Matt here to assistant cashier, and now to complete the day I have a visit from my sweet and lovely and gorgeous wife. What a man, what a man!\", \"shape\": \"dot\", \"size\": 10, \"title\": \"If this isn\\u0027t a red-letter day for Tom Dickson! First I trample on the Board of Directors, then I promote Matt here to assistant cashier, and now to complete the day I have a visit from my sweet and lovely and gorgeous wife. What a man, what a man!\"}, {\"id\": 68, \"label\": \"I\\u0027m terribly sorry. I\\u0027d forgotten all about you. I\\u0027m so sorry, dear.\", \"shape\": \"dot\", \"size\": 10, \"title\": \"I\\u0027m terribly sorry. I\\u0027d forgotten all about you. I\\u0027m so sorry, dear.\"}, {\"id\": 69, \"label\": \"Now Tom, you simply cannot go to Philadelphia tonight. That\\u0027s all there is to it.\", \"shape\": \"dot\", \"size\": 10, \"title\": \"Now Tom, you simply cannot go to Philadelphia tonight. That\\u0027s all there is to it.\"}, {\"id\": 70, \"label\": \"Ho, ho, ho, yourself! I wouldn\\u0027t laugh if I were you. You may not suspect it, but I\\u0027m still attractive - to some.\", \"shape\": \"dot\", \"size\": 10, \"title\": \"Ho, ho, ho, yourself! I wouldn\\u0027t laugh if I were you. You may not suspect it, but I\\u0027m still attractive - to some.\"}, {\"id\": 71, \"label\": \"All right. I\\u0027ll postpone the whole thing until tomorrow night.\", \"shape\": \"dot\", \"size\": 10, \"title\": \"All right. I\\u0027ll postpone the whole thing until tomorrow night.\"}, {\"id\": 72, \"label\": \"Listen, dear. I want to ask you something. I know it\\u0027s a silly thing for me to ask you, but . . . I want you to tell me the truth. Where were you last night?\", \"shape\": \"dot\", \"size\": 10, \"title\": \"Listen, dear. I want to ask you something. I know it\\u0027s a silly thing for me to ask you, but . . . I want you to tell me the truth. Where were you last night?\"}, {\"id\": 73, \"label\": \"Helen, you\\u0027re becoming more beautiful every day. What are we going to do about it?\", \"shape\": \"dot\", \"size\": 10, \"title\": \"Helen, you\\u0027re becoming more beautiful every day. What are we going to do about it?\"}, {\"id\": 74, \"label\": \"I haven\\u0027t got any new stories for them this morning, either.\", \"shape\": \"dot\", \"size\": 10, \"title\": \"I haven\\u0027t got any new stories for them this morning, either.\"}, {\"id\": 75, \"label\": \"Helen, tell Matt I want to see him.\", \"shape\": \"dot\", \"size\": 10, \"title\": \"Helen, tell Matt I want to see him.\"}, {\"id\": 76, \"label\": \"Oh, Mr. Dickson - they\\u0027re going to arrest Matt. They think he did it!\", \"shape\": \"dot\", \"size\": 10, \"title\": \"Oh, Mr. Dickson - they\\u0027re going to arrest Matt. They think he did it!\"}, {\"id\": 77, \"label\": \"Come on in here, Helen. Bring your book. I want some numbers to try to get some action. Get Parker at the Union-Leeds - the Exchange . . . Winslow and old man Harris at the Home Mortgage. Snap into it, Helen. Just as quick as you can.\", \"shape\": \"dot\", \"size\": 10, \"title\": \"Come on in here, Helen. Bring your book. I want some numbers to try to get some action. Get Parker at the Union-Leeds - the Exchange . . . Winslow and old man Harris at the Home Mortgage. Snap into it, Helen. Just as quick as you can.\"}, {\"id\": 78, \"label\": \"You want the rest of those numbers, Mr. Dickson?\", \"shape\": \"dot\", \"size\": 10, \"title\": \"You want the rest of those numbers, Mr. Dickson?\"}, {\"id\": 79, \"label\": \"Good morning, Helen.\", \"shape\": \"dot\", \"size\": 10, \"title\": \"Good morning, Helen.\"}, {\"id\": 80, \"label\": \"Oh, no! It\\u0027s not for you. You\\u0027re only going to get married. Mrs. Dickson and I are going to go on the honeymoon.\", \"shape\": \"dot\", \"size\": 10, \"title\": \"Oh, no! It\\u0027s not for you. You\\u0027re only going to get married. Mrs. Dickson and I are going to go on the honeymoon.\"}, {\"id\": 81, \"label\": \"Yes, sir.\", \"shape\": \"dot\", \"size\": 10, \"title\": \"Yes, sir.\"}, {\"id\": 82, \"label\": \"All right. Send him in.\", \"shape\": \"dot\", \"size\": 10, \"title\": \"All right. Send him in.\"}, {\"id\": 83, \"label\": \"Helen!\", \"shape\": \"dot\", \"size\": 10, \"title\": \"Helen!\"}, {\"id\": 84, \"label\": \"Good morning, Mrs. Pembroke.\", \"shape\": \"dot\", \"size\": 10, \"title\": \"Good morning, Mrs. Pembroke.\"}, {\"id\": 85, \"label\": \"Ah, Mrs. Pembroke. I spoke to Mr. Schaffer at the Guaranty. He\\u0027s going to take care of that mortgage for you . . .\", \"shape\": \"dot\", \"size\": 10, \"title\": \"Ah, Mrs. Pembroke. I spoke to Mr. Schaffer at the Guaranty. He\\u0027s going to take care of that mortgage for you . . .\"}, {\"id\": 86, \"label\": \"But, Mr. Dickson, I thought you were going to take care of the mortgage. I only want ten thousand. The property is worth sixty.\", \"shape\": \"dot\", \"size\": 10, \"title\": \"But, Mr. Dickson, I thought you were going to take care of the mortgage. I only want ten thousand. The property is worth sixty.\"}, {\"id\": 87, \"label\": \"Wait a minute. Where\\u0027s your uniform?\", \"shape\": \"dot\", \"size\": 10, \"title\": \"Wait a minute. Where\\u0027s your uniform?\"}, {\"id\": 88, \"label\": \"Oh, make that uniform blue.\", \"shape\": \"dot\", \"size\": 10, \"title\": \"Oh, make that uniform blue.\"}, {\"id\": 89, \"label\": \"I don\\u0027t know. Mr. Sampson bought it for me.\", \"shape\": \"dot\", \"size\": 10, \"title\": \"I don\\u0027t know. Mr. Sampson bought it for me.\"}, {\"id\": 90, \"label\": \"And what\\u0027s more, keep up the good work and who knows - some day you\\u0027ll be the fellow sitting behind that desk . . .  Not a bad thought, eh?\", \"shape\": \"dot\", \"size\": 10, \"title\": \"And what\\u0027s more, keep up the good work and who knows - some day you\\u0027ll be the fellow sitting behind that desk . . .  Not a bad thought, eh?\"}, {\"id\": 91, \"label\": \"Say, come on. Show a little enthusiasm. What\\u0027s the matter? Are you sick or something? Go on, fake it - even if it isn\\u0027t real.\", \"shape\": \"dot\", \"size\": 10, \"title\": \"Say, come on. Show a little enthusiasm. What\\u0027s the matter? Are you sick or something? Go on, fake it - even if it isn\\u0027t real.\"}, {\"id\": 92, \"label\": \"Aw, I\\u0027m sorry, Mr. Dickson. It\\u0027s just kind of sudden, that\\u0027s all.  Sure, I\\u0027m excited. I think it\\u0027s great. Only, well, you\\u0027ve done so much for me already . . . I\\u0027ll never be able to thank you enough.\", \"shape\": \"dot\", \"size\": 10, \"title\": \"Aw, I\\u0027m sorry, Mr. Dickson. It\\u0027s just kind of sudden, that\\u0027s all.  Sure, I\\u0027m excited. I think it\\u0027s great. Only, well, you\\u0027ve done so much for me already . . . I\\u0027ll never be able to thank you enough.\"}, {\"id\": 93, \"label\": \"I already told him I was home.\", \"shape\": \"dot\", \"size\": 10, \"title\": \"I already told him I was home.\"}, {\"id\": 94, \"label\": \"Wait a minute. Wait a minute.  Matt, do you realize you\\u0027re up against something? You\\u0027re being charged with murder. It\\u0027s serious, son. Now come on, I know you didn\\u0027t do it.  But we\\u0027ve got to make them believe it. Come on, tell the truth, where were you last night?\", \"shape\": \"dot\", \"size\": 10, \"title\": \"Wait a minute. Wait a minute.  Matt, do you realize you\\u0027re up against something? You\\u0027re being charged with murder. It\\u0027s serious, son. Now come on, I know you didn\\u0027t do it.  But we\\u0027ve got to make them believe it. Come on, tell the truth, where were you last night?\"}, {\"id\": 95, \"label\": \"Yes, you are. You\\u0027re protecting somebody. Now listen, it doesn\\u0027t make any difference who it is. It can\\u0027t be as important as this. Now come on, tell me. Where were you last night?  Come on, don\\u0027t be a fool. Matt, you trust me, don\\u0027t you?\", \"shape\": \"dot\", \"size\": 10, \"title\": \"Yes, you are. You\\u0027re protecting somebody. Now listen, it doesn\\u0027t make any difference who it is. It can\\u0027t be as important as this. Now come on, tell me. Where were you last night?  Come on, don\\u0027t be a fool. Matt, you trust me, don\\u0027t you?\"}, {\"id\": 96, \"label\": \"Oh, I can explain about that later. You\\u0027re losing your bank - don\\u0027t you realize what that means?\", \"shape\": \"dot\", \"size\": 10, \"title\": \"Oh, I can explain about that later. You\\u0027re losing your bank - don\\u0027t you realize what that means?\"}, {\"id\": 97, \"label\": \"I don\\u0027t want to hear any more about it. If you don\\u0027t get married, I\\u0027ll fire both of you.\", \"shape\": \"dot\", \"size\": 10, \"title\": \"I don\\u0027t want to hear any more about it. If you don\\u0027t get married, I\\u0027ll fire both of you.\"}, {\"id\": 98, \"label\": \"Helen, while you\\u0027re downtown, you might stop in and make reservations for the bridal suite on the Berengaria sailing next week.\", \"shape\": \"dot\", \"size\": 10, \"title\": \"Helen, while you\\u0027re downtown, you might stop in and make reservations for the bridal suite on the Berengaria sailing next week.\"}, {\"id\": 99, \"label\": \"What\\u0027s the matter? What\\u0027s going on here?  This is ridiculous! You can\\u0027t hold this boy on a vague suspicion.\", \"shape\": \"dot\", \"size\": 10, \"title\": \"What\\u0027s the matter? What\\u0027s going on here?  This is ridiculous! You can\\u0027t hold this boy on a vague suspicion.\"}, {\"id\": 100, \"label\": \"Why, certainly he can.  Matt, now all you\\u0027ve got to do is tell them where you were last night, between twelve and twelve-thirty, and everything will be all right.\", \"shape\": \"dot\", \"size\": 10, \"title\": \"Why, certainly he can.  Matt, now all you\\u0027ve got to do is tell them where you were last night, between twelve and twelve-thirty, and everything will be all right.\"}, {\"id\": 101, \"label\": \"Good.  You\\u0027ve got nothing to worry about. Soon as the report comes in, you\\u0027ll be released.  And listen, don\\u0027t talk so loud. Take it easy. Coast a little.\", \"shape\": \"dot\", \"size\": 10, \"title\": \"Good.  You\\u0027ve got nothing to worry about. Soon as the report comes in, you\\u0027ll be released.  And listen, don\\u0027t talk so loud. Take it easy. Coast a little.\"}, {\"id\": 102, \"label\": \"So have you. So have I. So\\u0027s everybody got a record. What difference does that make? You can\\u0027t go around pinning crimes on people just because they\\u0097\", \"shape\": \"dot\", \"size\": 10, \"title\": \"So have you. So have I. So\\u0027s everybody got a record. What difference does that make? You can\\u0027t go around pinning crimes on people just because they\\u0097\"}, {\"id\": 103, \"label\": \"Listen, Matt. If you don\\u0027t tell the truth, I can\\u0027t help you. Where were you last night?\", \"shape\": \"dot\", \"size\": 10, \"title\": \"Listen, Matt. If you don\\u0027t tell the truth, I can\\u0027t help you. Where were you last night?\"}, {\"id\": 104, \"label\": \"You were right, Mr. Dickson! Brown didn\\u0027t have anything to do with it. Here\\u0027s your man.\", \"shape\": \"dot\", \"size\": 10, \"title\": \"You were right, Mr. Dickson! Brown didn\\u0027t have anything to do with it. Here\\u0027s your man.\"}, {\"id\": 105, \"label\": \"My wife? What\\u0027s she got to do with you?\", \"shape\": \"dot\", \"size\": 10, \"title\": \"My wife? What\\u0027s she got to do with you?\"}, {\"id\": 106, \"label\": \"Don\\u0027t worry, Mr. Dickson. We\\u0027ll find out whether he\\u0027s telling the truth. I\\u0027ll have a man from headquarters check up on it right away.\", \"shape\": \"dot\", \"size\": 10, \"title\": \"Don\\u0027t worry, Mr. Dickson. We\\u0027ll find out whether he\\u0027s telling the truth. I\\u0027ll have a man from headquarters check up on it right away.\"}, {\"id\": 107, \"label\": \"Here\\u0027s the data on the Clyde deal.\", \"shape\": \"dot\", \"size\": 10, \"title\": \"Here\\u0027s the data on the Clyde deal.\"}, {\"id\": 108, \"label\": \"Good. I\\u0027ll take this along with me. Tell Clyde I\\u0027ll see him tomorrow. I\\u0027m sick and tired of the delay.\", \"shape\": \"dot\", \"size\": 10, \"title\": \"Good. I\\u0027ll take this along with me. Tell Clyde I\\u0027ll see him tomorrow. I\\u0027m sick and tired of the delay.\"}, {\"id\": 109, \"label\": \"What are you talking about?\", \"shape\": \"dot\", \"size\": 10, \"title\": \"What are you talking about?\"}, {\"id\": 110, \"label\": \"They\\u0027ve been coming in steady all morning. I have called for some extra police.\", \"shape\": \"dot\", \"size\": 10, \"title\": \"They\\u0027ve been coming in steady all morning. I have called for some extra police.\"}, {\"id\": 111, \"label\": \"The bank\\u0027s reputation wouldn\\u0027t be worth a nickel after that. This is just a flurry, that\\u0027s all. They\\u0027ve heard about the robbery and got panic-stricken. Listen, get a hold of our available securities and have them turned into cash. Wait a minute. Get my personal stuff and have that turned into cash too. Tell the boys anyone caught arguing with a depositor will be fired on the spot.\", \"shape\": \"dot\", \"size\": 10, \"title\": \"The bank\\u0027s reputation wouldn\\u0027t be worth a nickel after that. This is just a flurry, that\\u0027s all. They\\u0027ve heard about the robbery and got panic-stricken. Listen, get a hold of our available securities and have them turned into cash. Wait a minute. Get my personal stuff and have that turned into cash too. Tell the boys anyone caught arguing with a depositor will be fired on the spot.\"}, {\"id\": 112, \"label\": \"Yes, sir. But soon as our money runs out, they\\u0027ll mob the place.\", \"shape\": \"dot\", \"size\": 10, \"title\": \"Yes, sir. But soon as our money runs out, they\\u0027ll mob the place.\"}, {\"id\": 113, \"label\": \"I\\u0027ll talk to them. Listen, go back and tell the boys to stall as much as possible. Tell \\u0027em not to pay any attention to what I said. Tell \\u0027em to verify every signature.\", \"shape\": \"dot\", \"size\": 10, \"title\": \"I\\u0027ll talk to them. Listen, go back and tell the boys to stall as much as possible. Tell \\u0027em not to pay any attention to what I said. Tell \\u0027em to verify every signature.\"}, {\"id\": 114, \"label\": \"We can\\u0027t keep open till four o\\u0027clock. We haven\\u0027t cash enough to last an hour.\", \"shape\": \"dot\", \"size\": 10, \"title\": \"We can\\u0027t keep open till four o\\u0027clock. We haven\\u0027t cash enough to last an hour.\"}, {\"id\": 115, \"label\": \"Get all the big bills in the place. Take them out and get them changed. Get nothing but ones and fives. Distribute them among the tellers. Tell them to take their time. Stall as much as possible. Count and recount the money.\", \"shape\": \"dot\", \"size\": 10, \"title\": \"Get all the big bills in the place. Take them out and get them changed. Get nothing but ones and fives. Distribute them among the tellers. Tell them to take their time. Stall as much as possible. Count and recount the money.\"}, {\"id\": 116, \"label\": \"It\\u0027s his life insurance money, you know.\", \"shape\": \"dot\", \"size\": 10, \"title\": \"It\\u0027s his life insurance money, you know.\"}, {\"id\": 117, \"label\": \"Quiet down, please! Take it easy, folks. Everything will be all right.\", \"shape\": \"dot\", \"size\": 10, \"title\": \"Quiet down, please! Take it easy, folks. Everything will be all right.\"}, {\"id\": 118, \"label\": \"Board meeting. Oh, that means hours, I suppose.\", \"shape\": \"dot\", \"size\": 10, \"title\": \"Board meeting. Oh, that means hours, I suppose.\"}, {\"id\": 119, \"label\": \"Oh, well. I guess the only other thing for me to do is to go out and buy myself a few sticks of dynamite. When he comes out, you tell him I\\u0027ll be back. He hasn\\u0027t gotten rid of me!\", \"shape\": \"dot\", \"size\": 10, \"title\": \"Oh, well. I guess the only other thing for me to do is to go out and buy myself a few sticks of dynamite. When he comes out, you tell him I\\u0027ll be back. He hasn\\u0027t gotten rid of me!\"}, {\"id\": 120, \"label\": \"Come here, honey!\", \"shape\": \"dot\", \"size\": 10, \"title\": \"Come here, honey!\"}, {\"id\": 121, \"label\": \"Hey, look out, somebody\\u0027s likely to see us!\", \"shape\": \"dot\", \"size\": 10, \"title\": \"Hey, look out, somebody\\u0027s likely to see us!\"}, {\"id\": 122, \"label\": \"What did you do with it?\", \"shape\": \"dot\", \"size\": 10, \"title\": \"What did you do with it?\"}, {\"id\": 123, \"label\": \"Oh, you think I\\u0027m lying?\", \"shape\": \"dot\", \"size\": 10, \"title\": \"Oh, you think I\\u0027m lying?\"}, {\"id\": 124, \"label\": \"Say, I just heard the merger isn\\u0027t going thru. Isn\\u0027t that grand?\", \"shape\": \"dot\", \"size\": 10, \"title\": \"Say, I just heard the merger isn\\u0027t going thru. Isn\\u0027t that grand?\"}, {\"id\": 125, \"label\": \"What happened? What did he say? Did you get the job?\", \"shape\": \"dot\", \"size\": 10, \"title\": \"What happened? What did he say? Did you get the job?\"}, {\"id\": 126, \"label\": \"What\\u0027s the matter, Matt? Gee, I thought you\\u0027d be thrilled to death.\", \"shape\": \"dot\", \"size\": 10, \"title\": \"What\\u0027s the matter, Matt? Gee, I thought you\\u0027d be thrilled to death.\"}, {\"id\": 127, \"label\": \"Oh Matt, you must be mistaken.\", \"shape\": \"dot\", \"size\": 10, \"title\": \"Oh Matt, you must be mistaken.\"}, {\"id\": 128, \"label\": \"Yes, right in his office, the rat. I\\u0027d like to take a crack at that guy.\", \"shape\": \"dot\", \"size\": 10, \"title\": \"Yes, right in his office, the rat. I\\u0027d like to take a crack at that guy.\"}, {\"id\": 129, \"label\": \"Now you\\u0027ve got me worried, dear.  Promise me you won\\u0027t butt in.\", \"shape\": \"dot\", \"size\": 10, \"title\": \"Now you\\u0027ve got me worried, dear.  Promise me you won\\u0027t butt in.\"}, {\"id\": 130, \"label\": \"Shh . . . !  I\\u0027ll wait for you upstairs.\", \"shape\": \"dot\", \"size\": 10, \"title\": \"Shh . . . !  I\\u0027ll wait for you upstairs.\"}, {\"id\": 131, \"label\": \"Don\\u0027t cry, honey. Everything\\u0027s gonna be all right.\", \"shape\": \"dot\", \"size\": 10, \"title\": \"Don\\u0027t cry, honey. Everything\\u0027s gonna be all right.\"}, {\"id\": 132, \"label\": \"Sure, they\\u0027d turn him down. He ought to know that. I\\u0027m going in there and talk to him.\", \"shape\": \"dot\", \"size\": 10, \"title\": \"Sure, they\\u0027d turn him down. He ought to know that. I\\u0027m going in there and talk to him.\"}, {\"id\": 133, \"label\": \"Yeah.  I got an idea. Come on, let\\u0027s get to a telephone.\", \"shape\": \"dot\", \"size\": 10, \"title\": \"Yeah.  I got an idea. Come on, let\\u0027s get to a telephone.\"}, {\"id\": 134, \"label\": \"Dickson\\u0027s in a jam I tell you. The run\\u0027s getting worse.\", \"shape\": \"dot\", \"size\": 10, \"title\": \"Dickson\\u0027s in a jam I tell you. The run\\u0027s getting worse.\"}, {\"id\": 135, \"label\": \"Did you say Dude Finlay?\", \"shape\": \"dot\", \"size\": 10, \"title\": \"Did you say Dude Finlay?\"}, {\"id\": 136, \"label\": \"I\\u0027ve been trailing the cashier like you told me. You\\u0027re right about that guy, chief. There\\u0027s something screwy somewhere.\", \"shape\": \"dot\", \"size\": 10, \"title\": \"I\\u0027ve been trailing the cashier like you told me. You\\u0027re right about that guy, chief. There\\u0027s something screwy somewhere.\"}, {\"id\": 137, \"label\": \"Sure I do. He has the best room in me house. The one with the fancy wallpaper.\", \"shape\": \"dot\", \"size\": 10, \"title\": \"Sure I do. He has the best room in me house. The one with the fancy wallpaper.\"}, {\"id\": 138, \"label\": \"It was late, I know. The Dooley sisters was already in. They work at a show, you know.\", \"shape\": \"dot\", \"size\": 10, \"title\": \"It was late, I know. The Dooley sisters was already in. They work at a show, you know.\"}, {\"id\": 139, \"label\": \"What time did Matt Brown get in?\", \"shape\": \"dot\", \"size\": 10, \"title\": \"What time did Matt Brown get in?\"}, {\"id\": 140, \"label\": \"Yes, I guess it was one, \\u0027cause...\", \"shape\": \"dot\", \"size\": 10, \"title\": \"Yes, I guess it was one, \\u0027cause...\"}, {\"id\": 141, \"label\": \"Listen here, young man - nobody ever called me a liar yet and got away with it\\u0097\", \"shape\": \"dot\", \"size\": 10, \"title\": \"Listen here, young man - nobody ever called me a liar yet and got away with it\\u0097\"}, {\"id\": 142, \"label\": \"You turned off the burglar alarm, you set the time clock, came back at twelve and emptied the boxes, didn\\u0027t you?\", \"shape\": \"dot\", \"size\": 10, \"title\": \"You turned off the burglar alarm, you set the time clock, came back at twelve and emptied the boxes, didn\\u0027t you?\"}, {\"id\": 143, \"label\": \"I don\\u0027t know.\", \"shape\": \"dot\", \"size\": 10, \"title\": \"I don\\u0027t know.\"}, {\"id\": 144, \"label\": \"Eleven o\\u0027clock, eh? Are you sure it was that?\", \"shape\": \"dot\", \"size\": 10, \"title\": \"Eleven o\\u0027clock, eh? Are you sure it was that?\"}, {\"id\": 145, \"label\": \"But I wasn\\u0027t here, Mr. Dickson. Honest I wasn\\u0027t . . .\", \"shape\": \"dot\", \"size\": 10, \"title\": \"But I wasn\\u0027t here, Mr. Dickson. Honest I wasn\\u0027t . . .\"}, {\"id\": 146, \"label\": \"You\\u0027re carrying too much money on you, Hank. You better turn some in tonight.\", \"shape\": \"dot\", \"size\": 10, \"title\": \"You\\u0027re carrying too much money on you, Hank. You better turn some in tonight.\"}, {\"id\": 147, \"label\": \"You\\u0027ve got enough?\", \"shape\": \"dot\", \"size\": 10, \"title\": \"You\\u0027ve got enough?\"}, {\"id\": 148, \"label\": \"That mug reminds me of a guy with his second dollar.\", \"shape\": \"dot\", \"size\": 10, \"title\": \"That mug reminds me of a guy with his second dollar.\"}, {\"id\": 149, \"label\": \"Where\\u0027s Charlie?\", \"shape\": \"dot\", \"size\": 10, \"title\": \"Where\\u0027s Charlie?\"}, {\"id\": 150, \"label\": \"They\\u0027re starting to come in already. Yeah. Yeah. Well, listen. Don\\u0027t waste any time. Get all the money you can lay your hands on, and bring it down here right away. Step on it.\", \"shape\": \"dot\", \"size\": 10, \"title\": \"They\\u0027re starting to come in already. Yeah. Yeah. Well, listen. Don\\u0027t waste any time. Get all the money you can lay your hands on, and bring it down here right away. Step on it.\"}]);\n        edges = new vis.DataSet([{\"from\": 94, \"to\": 95, \"value\": 9.628100395202637}, {\"from\": 62, \"to\": 84, \"value\": 9.449959397315979}, {\"from\": 94, \"to\": 103, \"value\": 9.322826266288757}, {\"from\": 95, \"to\": 103, \"value\": 9.308436512947083}, {\"from\": 26, \"to\": 111, \"value\": 9.247996211051941}, {\"from\": 33, \"to\": 60, \"value\": 9.244348406791687}, {\"from\": 62, \"to\": 65, \"value\": 9.238627552986145}, {\"from\": 79, \"to\": 84, \"value\": 9.235872030258179}, {\"from\": 85, \"to\": 86, \"value\": 9.203349351882935}, {\"from\": 60, \"to\": 94, \"value\": 9.197912812232971}, {\"from\": 60, \"to\": 95, \"value\": 9.173816442489624}, {\"from\": 72, \"to\": 103, \"value\": 9.155232310295105}, {\"from\": 94, \"to\": 100, \"value\": 9.151961207389832}, {\"from\": 8, \"to\": 26, \"value\": 9.147733449935913}, {\"from\": 33, \"to\": 95, \"value\": 9.145547747612}, {\"from\": 91, \"to\": 94, \"value\": 9.132505655288696}, {\"from\": 35, \"to\": 94, \"value\": 9.131388664245605}, {\"from\": 91, \"to\": 95, \"value\": 9.112270474433899}, {\"from\": 101, \"to\": 150, \"value\": 9.100596308708191}, {\"from\": 55, \"to\": 109, \"value\": 9.097427725791931}, {\"from\": 65, \"to\": 84, \"value\": 9.094409346580505}, {\"from\": 101, \"to\": 113, \"value\": 9.079161882400513}, {\"from\": 18, \"to\": 30, \"value\": 9.074342846870422}, {\"from\": 30, \"to\": 59, \"value\": 9.072074294090271}, {\"from\": 77, \"to\": 150, \"value\": 9.071596264839172}, {\"from\": 62, \"to\": 79, \"value\": 9.068430066108704}, {\"from\": 35, \"to\": 95, \"value\": 9.057586789131165}, {\"from\": 101, \"to\": 106, \"value\": 9.054034948348999}, {\"from\": 27, \"to\": 58, \"value\": 9.050549268722534}, {\"from\": 17, \"to\": 35, \"value\": 9.022661447525024}, {\"from\": 15, \"to\": 20, \"value\": 9.012232422828674}, {\"from\": 18, \"to\": 90, \"value\": 9.003192782402039}, {\"from\": 72, \"to\": 94, \"value\": 9.001561403274536}, {\"from\": 60, \"to\": 104, \"value\": 8.998732566833496}, {\"from\": 94, \"to\": 136, \"value\": 8.996105194091797}, {\"from\": 91, \"to\": 96, \"value\": 8.993302583694458}, {\"from\": 103, \"to\": 129, \"value\": 8.990248441696167}, {\"from\": 25, \"to\": 111, \"value\": 8.989071249961853}, {\"from\": 52, \"to\": 103, \"value\": 8.984407186508179}, {\"from\": 60, \"to\": 97, \"value\": 8.984236717224121}, {\"from\": 122, \"to\": 125, \"value\": 8.983474969863892}, {\"from\": 60, \"to\": 146, \"value\": 8.982181549072266}, {\"from\": 60, \"to\": 129, \"value\": 8.981634974479675}, {\"from\": 95, \"to\": 100, \"value\": 8.981568813323975}, {\"from\": 136, \"to\": 146, \"value\": 8.980550169944763}, {\"from\": 117, \"to\": 131, \"value\": 8.979718089103699}, {\"from\": 46, \"to\": 95, \"value\": 8.976144194602966}, {\"from\": 15, \"to\": 111, \"value\": 8.975511193275452}, {\"from\": 63, \"to\": 87, \"value\": 8.965842127799988}, {\"from\": 111, \"to\": 150, \"value\": 8.962308168411255}, {\"from\": 8, \"to\": 119, \"value\": 8.962156176567078}, {\"from\": 19, \"to\": 111, \"value\": 8.961914777755737}, {\"from\": 60, \"to\": 136, \"value\": 8.96171748638153}, {\"from\": 111, \"to\": 113, \"value\": 8.959294557571411}, {\"from\": 18, \"to\": 91, \"value\": 8.957255482673645}, {\"from\": 72, \"to\": 95, \"value\": 8.956600427627563}, {\"from\": 94, \"to\": 99, \"value\": 8.955959677696228}, {\"from\": 52, \"to\": 72, \"value\": 8.953607678413391}, {\"from\": 52, \"to\": 132, \"value\": 8.953534960746765}, {\"from\": 59, \"to\": 104, \"value\": 8.94820749759674}, {\"from\": 17, \"to\": 132, \"value\": 8.944931626319885}, {\"from\": 52, \"to\": 108, \"value\": 8.943665623664856}, {\"from\": 17, \"to\": 119, \"value\": 8.941588401794434}, {\"from\": 101, \"to\": 129, \"value\": 8.935774564743042}, {\"from\": 95, \"to\": 96, \"value\": 8.9353746175766}, {\"from\": 111, \"to\": 115, \"value\": 8.933572173118591}, {\"from\": 46, \"to\": 60, \"value\": 8.929689526557922}, {\"from\": 33, \"to\": 94, \"value\": 8.926730155944824}, {\"from\": 77, \"to\": 111, \"value\": 8.924621343612671}, {\"from\": 19, \"to\": 24, \"value\": 8.920324444770813}, {\"from\": 106, \"to\": 113, \"value\": 8.919122219085693}, {\"from\": 8, \"to\": 111, \"value\": 8.91821801662445}, {\"from\": 94, \"to\": 101, \"value\": 8.916352987289429}, {\"from\": 111, \"to\": 136, \"value\": 8.912859559059143}, {\"from\": 25, \"to\": 94, \"value\": 8.91188383102417}]);\n\n        // adding nodes and edges to the graph\n        data = {nodes: nodes, edges: edges};\n\n        var options = {\n    \"configure\": {\n        \"enabled\": false\n    },\n    \"edges\": {\n        \"color\": {\n            \"inherit\": true\n        },\n        \"smooth\": {\n            \"enabled\": false,\n            \"type\": \"continuous\"\n        }\n    },\n    \"interaction\": {\n        \"dragNodes\": true,\n        \"hideEdgesOnDrag\": false,\n        \"hideNodesOnDrag\": false\n    },\n    \"physics\": {\n        \"enabled\": true,\n        \"stabilization\": {\n            \"enabled\": true,\n            \"fit\": true,\n            \"iterations\": 1000,\n            \"onlyDynamicEdges\": false,\n            \"updateInterval\": 50\n        }\n    }\n};\n        \n        \n\n        \n\n        network = new vis.Network(container, data, options);\n\t \n        \n\n\n        \n        network.on(\"stabilizationProgress\", function(params) {\n      \t\tdocument.getElementById('loadingBar').removeAttribute(\"style\");\n\t        var maxWidth = 496;\n\t        var minWidth = 20;\n\t        var widthFactor = params.iterations/params.total;\n\t        var width = Math.max(minWidth,maxWidth * widthFactor);\n\n\t        document.getElementById('bar').style.width = width + 'px';\n\t        document.getElementById('text').innerHTML = Math.round(widthFactor*100) + '%';\n\t    });\n\t    network.once(\"stabilizationIterationsDone\", function() {\n\t        document.getElementById('text').innerHTML = '100%';\n\t        document.getElementById('bar').style.width = '496px';\n\t        document.getElementById('loadingBar').style.opacity = 0;\n\t        // really clean the dom element\n\t        setTimeout(function () {document.getElementById('loadingBar').style.display = 'none';}, 500);\n\t    });\n        \n\n        return network;\n\n    }\n\n    drawGraph();\n\n</script>\n</body>\n</html>"
     },
     "metadata": {},
     "output_type": "display_data"
    }
   ],
   "source": [
    "def get_dialogs_network(dialogs, similar_pairs):\n",
    "    similarity_network = Network(width=\"1080\", notebook=True)\n",
    "\n",
    "    for i, (_, dialog) in enumerate(dialogs):\n",
    "        similarity_network.add_node(i, label=dialog, title=dialog, size=10)\n",
    "\n",
    "    for node1, node2, similarity in similar_pairs:\n",
    "        width = (similarity) * 10\n",
    "        similarity_network.add_edge(node1, node2, value=width)\n",
    "\n",
    "    return similarity_network\n",
    "\n",
    "\n",
    "dialogs_network = get_dialogs_network(significant_dialogs, similar_pairs)\n",
    "dialogs_network.show('network.html')\n",
    "display(HTML('network.html'))"
   ],
   "metadata": {
    "collapsed": false,
    "pycharm": {
     "name": "#%%\n"
    }
   }
  },
  {
   "cell_type": "markdown",
   "metadata": {
    "pycharm": {
     "name": "#%% md\n"
    }
   },
   "source": [
    "This produces a nice large cluster of dialogs that talk about the same thing.\n",
    "\n",
    "For movie 17, there are two clusters, linked with one node.\n",
    "The larger cluster has dialogs that involve some animal killing someone.\n",
    "The smaller cluster has dialogs that sound \"romantic\" in a way, like \"come closer\"-like dialogs.\n",
    "\n",
    "In theory, the dialogs from this cluster should be enough to infer the genres of the movie.\n",
    "\n",
    "Now taking an average of the embeddings of these dialogs should give us embedding of the movie.\n",
    "\n",
    "Doing this for all movies is a long-running task. So I ran it on colab and saved it to disk and loaded it for fast execution."
   ]
  },
  {
   "cell_type": "code",
   "execution_count": 24,
   "metadata": {
    "pycharm": {
     "name": "#%%\n"
    }
   },
   "outputs": [
    {
     "data": {
      "text/plain": "(40, 75)"
     },
     "execution_count": 24,
     "metadata": {},
     "output_type": "execute_result"
    }
   ],
   "source": [
    "def get_largest_cluster(similar_pairs):\n",
    "    similarity_network = nx.Graph()\n",
    "    similarity_network.add_edges_from([(p[0], p[1]) for p in similar_pairs])\n",
    "\n",
    "    clusters = list(nx.connected_components(similarity_network))\n",
    "    largest_cluster = np.argmax([len(s) for s in clusters])\n",
    "    largest_cluster = list(clusters[largest_cluster])\n",
    "\n",
    "    return largest_cluster\n",
    "\n",
    "\n",
    "largest_cluster = get_largest_cluster(similar_pairs)\n",
    "len(largest_cluster), len(similar_pairs)"
   ]
  },
  {
   "cell_type": "code",
   "execution_count": 25,
   "metadata": {
    "pycharm": {
     "name": "#%%\n"
    }
   },
   "outputs": [],
   "source": [
    "def get_largest_cluster_embeddings(movie: Movie):\n",
    "    significant_dialogs = get_significant_dialogs(movie)\n",
    "    similar_pairs = get_similar_dialog_pairs(significant_dialogs)\n",
    "    largest_cluster = get_largest_cluster(similar_pairs)\n",
    "\n",
    "    cluster_dialogs = [significant_dialogs[i][1] for i in largest_cluster]\n",
    "    cluster_embeddings = [significant_dialogs[i][0] for i in largest_cluster]\n",
    "    cluster_embeddings = torch.stack(cluster_embeddings)\n",
    "\n",
    "    return {\n",
    "        'cluster_dialogs': cluster_dialogs,\n",
    "        'cluster_embeddings': cluster_embeddings\n",
    "    }"
   ]
  },
  {
   "cell_type": "code",
   "execution_count": 26,
   "metadata": {
    "pycharm": {
     "name": "#%%\n"
    }
   },
   "outputs": [],
   "source": [
    "cluster_embeddings_path = f'{BASE_DIR}/data/output/cluster_embeddings'\n",
    "makedirs(cluster_embeddings_path, exist_ok=True)\n",
    "files_present = listdir(cluster_embeddings_path)\n",
    "skip_till = 429\n",
    "\n",
    "def save_movie_embeddings_to_disk(movies):\n",
    "    for _, movie in movies.items():\n",
    "        if movie.id + '.pt' in files_present or int(movie.id[1:]) < skip_till:\n",
    "            continue\n",
    "        print(movie.id)\n",
    "\n",
    "        largest_cluster = get_largest_cluster_embeddings(movie)\n",
    "\n",
    "        embedding_path = join(cluster_embeddings_path, movie.id + '.pt')\n",
    "        torch.save(largest_cluster, embedding_path)\n",
    "\n",
    "\n",
    "# Uncomment this to run embeddings.\n",
    "# save_movie_embeddings_to_disk(movies)"
   ]
  },
  {
   "cell_type": "code",
   "execution_count": 27,
   "metadata": {
    "pycharm": {
     "name": "#%%\n"
    }
   },
   "outputs": [
    {
     "name": "stdout",
     "output_type": "stream",
     "text": [
      "  adding: data/output/cluster_embeddings/ (stored 0%)\r\n",
      "---------\r\n",
      "\u001B[34m__MACOSX\u001B[m\u001B[m                         genre_colab.ipynb\r\n",
      "cluster_embeddings.zip           network.html\r\n",
      "cornell_movie_dialogs_corpus.zip requirements.txt\r\n",
      "\u001B[34mdata\u001B[m\u001B[m                             something.html\r\n",
      "\u001B[34mdataset\u001B[m\u001B[m                          temp.py\r\n",
      "genre.ipynb\r\n"
     ]
    },
    {
     "ename": "ModuleNotFoundError",
     "evalue": "No module named 'google.colab'",
     "output_type": "error",
     "traceback": [
      "\u001B[0;31m---------------------------------------------------------------------------\u001B[0m",
      "\u001B[0;31mModuleNotFoundError\u001B[0m                       Traceback (most recent call last)",
      "\u001B[0;32m<ipython-input-27-55924ff60e00>\u001B[0m in \u001B[0;36m<module>\u001B[0;34m\u001B[0m\n\u001B[1;32m      3\u001B[0m \u001B[0mget_ipython\u001B[0m\u001B[0;34m(\u001B[0m\u001B[0;34m)\u001B[0m\u001B[0;34m.\u001B[0m\u001B[0msystem\u001B[0m\u001B[0;34m(\u001B[0m\u001B[0;34m'echo \"---------\"'\u001B[0m\u001B[0;34m)\u001B[0m\u001B[0;34m\u001B[0m\u001B[0;34m\u001B[0m\u001B[0m\n\u001B[1;32m      4\u001B[0m \u001B[0mget_ipython\u001B[0m\u001B[0;34m(\u001B[0m\u001B[0;34m)\u001B[0m\u001B[0;34m.\u001B[0m\u001B[0msystem\u001B[0m\u001B[0;34m(\u001B[0m\u001B[0;34m'ls'\u001B[0m\u001B[0;34m)\u001B[0m\u001B[0;34m\u001B[0m\u001B[0;34m\u001B[0m\u001B[0m\n\u001B[0;32m----> 5\u001B[0;31m \u001B[0;32mfrom\u001B[0m \u001B[0mgoogle\u001B[0m\u001B[0;34m.\u001B[0m\u001B[0mcolab\u001B[0m \u001B[0;32mimport\u001B[0m \u001B[0mfiles\u001B[0m\u001B[0;34m\u001B[0m\u001B[0;34m\u001B[0m\u001B[0m\n\u001B[0m\u001B[1;32m      6\u001B[0m \u001B[0mfiles\u001B[0m\u001B[0;34m.\u001B[0m\u001B[0mdownload\u001B[0m\u001B[0;34m(\u001B[0m\u001B[0;34m'cluster_embeddings.zip'\u001B[0m\u001B[0;34m)\u001B[0m\u001B[0;34m\u001B[0m\u001B[0;34m\u001B[0m\u001B[0m\n\u001B[1;32m      7\u001B[0m \u001B[0;34m\u001B[0m\u001B[0m\n",
      "\u001B[0;31mModuleNotFoundError\u001B[0m: No module named 'google.colab'"
     ]
    }
   ],
   "source": [
    "# Script to download the calculated embeddings from colab to local computer\n",
    "'''\n",
    "!ls data/output/cluster_embeddings/\n",
    "!zip -r cluster_embeddings.zip data/output/cluster_embeddings\n",
    "!echo \"---------\"\n",
    "!ls\n",
    "from google.colab import files\n",
    "files.download('cluster_embeddings.zip')\n",
    "'''"
   ]
  },
  {
   "cell_type": "code",
   "execution_count": 28,
   "metadata": {
    "pycharm": {
     "name": "#%%\n"
    }
   },
   "outputs": [
    {
     "name": "stdout",
     "output_type": "stream",
     "text": [
      "--2021-08-28 18:09:26--  https://storage.googleapis.com/akhilez/companies/ginger/cluster_embeddings.zip\r\n",
      "Resolving storage.googleapis.com (storage.googleapis.com)... 2607:f8b0:4009:81c::2010, 2607:f8b0:4009:81a::2010, 2607:f8b0:4009:819::2010, ...\r\n",
      "Connecting to storage.googleapis.com (storage.googleapis.com)|2607:f8b0:4009:81c::2010|:443... connected.\r\n",
      "HTTP request sent, awaiting response... 200 OK\r\n",
      "Length: 240139990 (229M) [application/zip]\r\n",
      "Saving to: ‘cluster_embeddings.zip’\r\n",
      "\r\n",
      "cluster_embeddings. 100%[===================>] 229.01M  34.7MB/s    in 6.5s    \r\n",
      "\r\n",
      "2021-08-28 18:09:33 (35.2 MB/s) - ‘cluster_embeddings.zip’ saved [240139990/240139990]\r\n",
      "\r\n",
      "Archive:  cluster_embeddings.zip\r\n",
      "   creating: data/output/cluster_embeddings/\r\n",
      "  inflating: data/output/__MACOSX/._cluster_embeddings  \r\n",
      "  inflating: data/output/cluster_embeddings/m189.pt  \r\n",
      "  inflating: data/output/__MACOSX/cluster_embeddings/._m189.pt  \r\n",
      "  inflating: data/output/cluster_embeddings/m218.pt  \r\n",
      "  inflating: data/output/__MACOSX/cluster_embeddings/._m218.pt  \r\n",
      "  inflating: data/output/cluster_embeddings/m358.pt  \r\n",
      "  inflating: data/output/__MACOSX/cluster_embeddings/._m358.pt  \r\n",
      "  inflating: data/output/cluster_embeddings/m249.pt  \r\n",
      "  inflating: data/output/__MACOSX/cluster_embeddings/._m249.pt  \r\n",
      "  inflating: data/output/cluster_embeddings/m309.pt  \r\n",
      "  inflating: data/output/__MACOSX/cluster_embeddings/._m309.pt  \r\n",
      "  inflating: data/output/cluster_embeddings/m480.pt  \r\n",
      "  inflating: data/output/__MACOSX/cluster_embeddings/._m480.pt  \r\n",
      "  inflating: data/output/cluster_embeddings/m591.pt  \r\n",
      "  inflating: data/output/__MACOSX/cluster_embeddings/._m591.pt  \r\n",
      "  inflating: data/output/cluster_embeddings/m600.pt  \r\n",
      "  inflating: data/output/__MACOSX/cluster_embeddings/._m600.pt  \r\n",
      "  inflating: data/output/cluster_embeddings/m422.pt  \r\n",
      "  inflating: data/output/__MACOSX/cluster_embeddings/._m422.pt  \r\n",
      "  inflating: data/output/cluster_embeddings/m562.pt  \r\n",
      "  inflating: data/output/__MACOSX/cluster_embeddings/._m562.pt  \r\n",
      "  inflating: data/output/cluster_embeddings/m473.pt  \r\n",
      "  inflating: data/output/__MACOSX/cluster_embeddings/._m473.pt  \r\n",
      "  inflating: data/output/cluster_embeddings/m533.pt  \r\n",
      "  inflating: data/output/__MACOSX/cluster_embeddings/._m533.pt  \r\n",
      "  inflating: data/output/cluster_embeddings/m507.pt  \r\n",
      "  inflating: data/output/__MACOSX/cluster_embeddings/._m507.pt  \r\n",
      "  inflating: data/output/cluster_embeddings/m447.pt  \r\n",
      "  inflating: data/output/__MACOSX/cluster_embeddings/._m447.pt  \r\n",
      "  inflating: data/output/cluster_embeddings/m556.pt  \r\n",
      "  inflating: data/output/__MACOSX/cluster_embeddings/._m556.pt  \r\n",
      "  inflating: data/output/cluster_embeddings/m416.pt  \r\n",
      "  inflating: data/output/__MACOSX/cluster_embeddings/._m416.pt  \r\n",
      "  inflating: data/output/cluster_embeddings/m546.pt  \r\n",
      "  inflating: data/output/__MACOSX/cluster_embeddings/._m546.pt  \r\n",
      "  inflating: data/output/cluster_embeddings/m457.pt  \r\n",
      "  inflating: data/output/__MACOSX/cluster_embeddings/._m457.pt  \r\n",
      "  inflating: data/output/cluster_embeddings/m517.pt  \r\n",
      "  inflating: data/output/__MACOSX/cluster_embeddings/._m517.pt  \r\n",
      "  inflating: data/output/cluster_embeddings/m523.pt  \r\n",
      "  inflating: data/output/__MACOSX/cluster_embeddings/._m523.pt  \r\n",
      "  inflating: data/output/cluster_embeddings/m463.pt  \r\n",
      "  inflating: data/output/__MACOSX/cluster_embeddings/._m463.pt  \r\n",
      "  inflating: data/output/cluster_embeddings/m572.pt  \r\n",
      "  inflating: data/output/__MACOSX/cluster_embeddings/._m572.pt  \r\n",
      "  inflating: data/output/cluster_embeddings/m432.pt  \r\n",
      "  inflating: data/output/__MACOSX/cluster_embeddings/._m432.pt  \r\n",
      "  inflating: data/output/cluster_embeddings/m610.pt  \r\n",
      "  inflating: data/output/__MACOSX/cluster_embeddings/._m610.pt  \r\n",
      "  inflating: data/output/cluster_embeddings/m581.pt  \r\n",
      "  inflating: data/output/__MACOSX/cluster_embeddings/._m581.pt  \r\n",
      "  inflating: data/output/cluster_embeddings/m490.pt  \r\n",
      "  inflating: data/output/__MACOSX/cluster_embeddings/._m490.pt  \r\n",
      "  inflating: data/output/cluster_embeddings/m319.pt  \r\n",
      "  inflating: data/output/__MACOSX/cluster_embeddings/._m319.pt  \r\n",
      "  inflating: data/output/cluster_embeddings/m259.pt  \r\n",
      "  inflating: data/output/__MACOSX/cluster_embeddings/._m259.pt  \r\n",
      "  inflating: data/output/cluster_embeddings/m348.pt  \r\n",
      "  inflating: data/output/__MACOSX/cluster_embeddings/._m348.pt  \r\n",
      "  inflating: data/output/cluster_embeddings/m208.pt  \r\n",
      "  inflating: data/output/__MACOSX/cluster_embeddings/._m208.pt  \r\n",
      "  inflating: data/output/cluster_embeddings/m199.pt  \r\n",
      "  inflating: data/output/__MACOSX/cluster_embeddings/._m199.pt  \r\n",
      "  inflating: data/output/cluster_embeddings/m368.pt  \r\n",
      "  inflating: data/output/__MACOSX/cluster_embeddings/._m368.pt  \r\n",
      "  inflating: data/output/cluster_embeddings/m228.pt  \r\n",
      "  inflating: data/output/__MACOSX/cluster_embeddings/._m228.pt  \r\n",
      "  inflating: data/output/cluster_embeddings/m339.pt  \r\n",
      "  inflating: data/output/__MACOSX/cluster_embeddings/._m339.pt  \r\n",
      "  inflating: data/output/cluster_embeddings/m279.pt  \r\n",
      "  inflating: data/output/__MACOSX/cluster_embeddings/._m279.pt  \r\n",
      "  inflating: data/output/cluster_embeddings/m98.pt  \r\n",
      "  inflating: data/output/__MACOSX/cluster_embeddings/._m98.pt  \r\n",
      "  inflating: data/output/cluster_embeddings/m552.pt  \r\n",
      "  inflating: data/output/__MACOSX/cluster_embeddings/._m552.pt  \r\n",
      "  inflating: data/output/cluster_embeddings/m412.pt  \r\n",
      "  inflating: data/output/__MACOSX/cluster_embeddings/._m412.pt  \r\n",
      "  inflating: data/output/cluster_embeddings/m503.pt  \r\n",
      "  inflating: data/output/__MACOSX/cluster_embeddings/._m503.pt  \r\n",
      "  inflating: data/output/cluster_embeddings/m443.pt  \r\n",
      "  inflating: data/output/__MACOSX/cluster_embeddings/._m443.pt  \r\n",
      "  inflating: data/output/cluster_embeddings/m604.pt  \r\n",
      "  inflating: data/output/__MACOSX/cluster_embeddings/._m604.pt  \r\n",
      "  inflating: data/output/cluster_embeddings/m595.pt  \r\n",
      "  inflating: data/output/__MACOSX/cluster_embeddings/._m595.pt  \r\n",
      "  inflating: data/output/cluster_embeddings/m484.pt  \r\n",
      "  inflating: data/output/__MACOSX/cluster_embeddings/._m484.pt  \r\n",
      "  inflating: data/output/cluster_embeddings/m477.pt  \r\n",
      "  inflating: data/output/__MACOSX/cluster_embeddings/._m477.pt  \r\n",
      "  inflating: data/output/cluster_embeddings/m537.pt  \r\n",
      "  inflating: data/output/__MACOSX/cluster_embeddings/._m537.pt  \r\n",
      "  inflating: data/output/cluster_embeddings/m426.pt  \r\n",
      "  inflating: data/output/__MACOSX/cluster_embeddings/._m426.pt  \r\n",
      "  inflating: data/output/cluster_embeddings/m566.pt  \r\n",
      "  inflating: data/output/__MACOSX/cluster_embeddings/._m566.pt  \r\n",
      "  inflating: data/output/cluster_embeddings/m576.pt  \r\n",
      "  inflating: data/output/__MACOSX/cluster_embeddings/._m576.pt  \r\n",
      "  inflating: data/output/cluster_embeddings/m436.pt  \r\n",
      "  inflating: data/output/__MACOSX/cluster_embeddings/._m436.pt  \r\n",
      "  inflating: data/output/cluster_embeddings/m527.pt  \r\n",
      "  inflating: data/output/__MACOSX/cluster_embeddings/._m527.pt  \r\n",
      "  inflating: data/output/cluster_embeddings/m467.pt  \r\n",
      "  inflating: data/output/__MACOSX/cluster_embeddings/._m467.pt  \r\n",
      "  inflating: data/output/cluster_embeddings/m494.pt  \r\n",
      "  inflating: data/output/__MACOSX/cluster_embeddings/._m494.pt  \r\n",
      "  inflating: data/output/cluster_embeddings/m585.pt  \r\n",
      "  inflating: data/output/__MACOSX/cluster_embeddings/._m585.pt  \r\n",
      "  inflating: data/output/cluster_embeddings/m614.pt  \r\n",
      "  inflating: data/output/__MACOSX/cluster_embeddings/._m614.pt  \r\n",
      "  inflating: data/output/cluster_embeddings/m453.pt  \r\n",
      "  inflating: data/output/__MACOSX/cluster_embeddings/._m453.pt  \r\n",
      "  inflating: data/output/cluster_embeddings/m513.pt  \r\n",
      "  inflating: data/output/__MACOSX/cluster_embeddings/._m513.pt  \r\n",
      "  inflating: data/output/cluster_embeddings/m402.pt  \r\n",
      "  inflating: data/output/__MACOSX/cluster_embeddings/._m402.pt  \r\n",
      "  inflating: data/output/cluster_embeddings/m542.pt  \r\n",
      "  inflating: data/output/__MACOSX/cluster_embeddings/._m542.pt  \r\n",
      "  inflating: data/output/cluster_embeddings/m88.pt  \r\n",
      "  inflating: data/output/__MACOSX/cluster_embeddings/._m88.pt  \r\n",
      "  inflating: data/output/cluster_embeddings/m269.pt  \r\n",
      "  inflating: data/output/__MACOSX/cluster_embeddings/._m269.pt  \r\n",
      "  inflating: data/output/cluster_embeddings/m329.pt  \r\n",
      "  inflating: data/output/__MACOSX/cluster_embeddings/._m329.pt  \r\n",
      "  inflating: data/output/cluster_embeddings/m238.pt  \r\n",
      "  inflating: data/output/__MACOSX/cluster_embeddings/._m238.pt  \r\n",
      "  inflating: data/output/cluster_embeddings/m378.pt  \r\n",
      "  inflating: data/output/__MACOSX/cluster_embeddings/._m378.pt  \r\n",
      "  inflating: data/output/cluster_embeddings/m369.pt  \r\n",
      "  inflating: data/output/__MACOSX/cluster_embeddings/._m369.pt  \r\n",
      "  inflating: data/output/cluster_embeddings/m229.pt  \r\n",
      "  inflating: data/output/__MACOSX/cluster_embeddings/._m229.pt  \r\n",
      "  inflating: data/output/cluster_embeddings/m338.pt  \r\n",
      "  inflating: data/output/__MACOSX/cluster_embeddings/._m338.pt  \r\n",
      "  inflating: data/output/cluster_embeddings/m278.pt  \r\n",
      "  inflating: data/output/__MACOSX/cluster_embeddings/._m278.pt  \r\n",
      "  inflating: data/output/cluster_embeddings/m99.pt  \r\n",
      "  inflating: data/output/__MACOSX/cluster_embeddings/._m99.pt  \r\n",
      "  inflating: data/output/cluster_embeddings/m553.pt  \r\n",
      "  inflating: data/output/__MACOSX/cluster_embeddings/._m553.pt  \r\n",
      "  inflating: data/output/cluster_embeddings/m413.pt  \r\n",
      "  inflating: data/output/__MACOSX/cluster_embeddings/._m413.pt  \r\n",
      "  inflating: data/output/cluster_embeddings/m502.pt  \r\n",
      "  inflating: data/output/__MACOSX/cluster_embeddings/._m502.pt  \r\n",
      "  inflating: data/output/cluster_embeddings/m442.pt  \r\n",
      "  inflating: data/output/__MACOSX/cluster_embeddings/._m442.pt  \r\n",
      "  inflating: data/output/cluster_embeddings/m594.pt  \r\n",
      "  inflating: data/output/__MACOSX/cluster_embeddings/._m594.pt  \r\n",
      "  inflating: data/output/cluster_embeddings/m605.pt  \r\n",
      "  inflating: data/output/__MACOSX/cluster_embeddings/._m605.pt  \r\n",
      "  inflating: data/output/cluster_embeddings/m485.pt  \r\n",
      "  inflating: data/output/__MACOSX/cluster_embeddings/._m485.pt  \r\n",
      "  inflating: data/output/cluster_embeddings/m476.pt  \r\n",
      "  inflating: data/output/__MACOSX/cluster_embeddings/._m476.pt  \r\n",
      "  inflating: data/output/cluster_embeddings/m536.pt  \r\n",
      "  inflating: data/output/__MACOSX/cluster_embeddings/._m536.pt  \r\n",
      "  inflating: data/output/cluster_embeddings/m427.pt  \r\n",
      "  inflating: data/output/__MACOSX/cluster_embeddings/._m427.pt  \r\n",
      "  inflating: data/output/cluster_embeddings/m567.pt  \r\n",
      "  inflating: data/output/__MACOSX/cluster_embeddings/._m567.pt  \r\n",
      "  inflating: data/output/cluster_embeddings/m577.pt  \r\n",
      "  inflating: data/output/__MACOSX/cluster_embeddings/._m577.pt  \r\n",
      "  inflating: data/output/cluster_embeddings/m437.pt  \r\n",
      "  inflating: data/output/__MACOSX/cluster_embeddings/._m437.pt  \r\n",
      "  inflating: data/output/cluster_embeddings/m526.pt  \r\n",
      "  inflating: data/output/__MACOSX/cluster_embeddings/._m526.pt  \r\n",
      "  inflating: data/output/cluster_embeddings/m466.pt  \r\n",
      "  inflating: data/output/__MACOSX/cluster_embeddings/._m466.pt  \r\n",
      "  inflating: data/output/cluster_embeddings/m495.pt  \r\n",
      "  inflating: data/output/__MACOSX/cluster_embeddings/._m495.pt  \r\n",
      "  inflating: data/output/cluster_embeddings/m615.pt  \r\n",
      "  inflating: data/output/__MACOSX/cluster_embeddings/._m615.pt  \r\n",
      "  inflating: data/output/cluster_embeddings/m584.pt  \r\n",
      "  inflating: data/output/__MACOSX/cluster_embeddings/._m584.pt  \r\n",
      "  inflating: data/output/cluster_embeddings/m452.pt  \r\n",
      "  inflating: data/output/__MACOSX/cluster_embeddings/._m452.pt  \r\n",
      "  inflating: data/output/cluster_embeddings/m512.pt  \r\n",
      "  inflating: data/output/__MACOSX/cluster_embeddings/._m512.pt  \r\n",
      "  inflating: data/output/cluster_embeddings/m403.pt  \r\n",
      "  inflating: data/output/__MACOSX/cluster_embeddings/._m403.pt  \r\n",
      "  inflating: data/output/cluster_embeddings/m543.pt  \r\n",
      "  inflating: data/output/__MACOSX/cluster_embeddings/._m543.pt  \r\n",
      "  inflating: data/output/cluster_embeddings/m89.pt  \r\n",
      "  inflating: data/output/__MACOSX/cluster_embeddings/._m89.pt  \r\n",
      "  inflating: data/output/cluster_embeddings/m268.pt  \r\n",
      "  inflating: data/output/__MACOSX/cluster_embeddings/._m268.pt  \r\n",
      "  inflating: data/output/cluster_embeddings/m328.pt  \r\n",
      "  inflating: data/output/__MACOSX/cluster_embeddings/._m328.pt  \r\n",
      "  inflating: data/output/cluster_embeddings/m239.pt  \r\n",
      "  inflating: data/output/__MACOSX/cluster_embeddings/._m239.pt  \r\n",
      "  inflating: data/output/cluster_embeddings/m379.pt  \r\n",
      "  inflating: data/output/__MACOSX/cluster_embeddings/._m379.pt  \r\n",
      "  inflating: data/output/cluster_embeddings/m219.pt  \r\n",
      "  inflating: data/output/__MACOSX/cluster_embeddings/._m219.pt  \r\n",
      "  inflating: data/output/cluster_embeddings/m188.pt  \r\n",
      "  inflating: data/output/__MACOSX/cluster_embeddings/._m188.pt  \r\n",
      "  inflating: data/output/cluster_embeddings/m359.pt  \r\n",
      "  inflating: data/output/__MACOSX/cluster_embeddings/._m359.pt  \r\n",
      "  inflating: data/output/cluster_embeddings/m248.pt  \r\n",
      "  inflating: data/output/__MACOSX/cluster_embeddings/._m248.pt  \r\n",
      "  inflating: data/output/cluster_embeddings/m308.pt  \r\n",
      "  inflating: data/output/__MACOSX/cluster_embeddings/._m308.pt  \r\n",
      "  inflating: data/output/cluster_embeddings/m481.pt  \r\n",
      "  inflating: data/output/__MACOSX/cluster_embeddings/._m481.pt  \r\n",
      "  inflating: data/output/cluster_embeddings/m601.pt  \r\n",
      "  inflating: data/output/__MACOSX/cluster_embeddings/._m601.pt  \r\n",
      "  inflating: data/output/cluster_embeddings/m590.pt  \r\n",
      "  inflating: data/output/__MACOSX/cluster_embeddings/._m590.pt  \r\n",
      "  inflating: data/output/cluster_embeddings/m423.pt  \r\n",
      "  inflating: data/output/__MACOSX/cluster_embeddings/._m423.pt  \r\n",
      "  inflating: data/output/cluster_embeddings/m563.pt  \r\n",
      "  inflating: data/output/__MACOSX/cluster_embeddings/._m563.pt  \r\n",
      "  inflating: data/output/cluster_embeddings/m472.pt  \r\n",
      "  inflating: data/output/__MACOSX/cluster_embeddings/._m472.pt  \r\n",
      "  inflating: data/output/cluster_embeddings/m532.pt  \r\n",
      "  inflating: data/output/__MACOSX/cluster_embeddings/._m532.pt  \r\n",
      "  inflating: data/output/cluster_embeddings/m506.pt  \r\n",
      "  inflating: data/output/__MACOSX/cluster_embeddings/._m506.pt  \r\n",
      "  inflating: data/output/cluster_embeddings/m446.pt  \r\n",
      "  inflating: data/output/__MACOSX/cluster_embeddings/._m446.pt  \r\n",
      "  inflating: data/output/cluster_embeddings/m557.pt  \r\n",
      "  inflating: data/output/__MACOSX/cluster_embeddings/._m557.pt  \r\n",
      "  inflating: data/output/cluster_embeddings/m417.pt  \r\n",
      "  inflating: data/output/__MACOSX/cluster_embeddings/._m417.pt  \r\n",
      "  inflating: data/output/cluster_embeddings/m407.pt  \r\n",
      "  inflating: data/output/__MACOSX/cluster_embeddings/._m407.pt  \r\n",
      "  inflating: data/output/cluster_embeddings/m547.pt  \r\n",
      "  inflating: data/output/__MACOSX/cluster_embeddings/._m547.pt  \r\n",
      "  inflating: data/output/cluster_embeddings/m456.pt  \r\n",
      "  inflating: data/output/__MACOSX/cluster_embeddings/._m456.pt  \r\n",
      "  inflating: data/output/cluster_embeddings/m516.pt  \r\n",
      "  inflating: data/output/__MACOSX/cluster_embeddings/._m516.pt  \r\n",
      "  inflating: data/output/cluster_embeddings/m522.pt  \r\n",
      "  inflating: data/output/__MACOSX/cluster_embeddings/._m522.pt  \r\n",
      "  inflating: data/output/cluster_embeddings/m462.pt  \r\n",
      "  inflating: data/output/__MACOSX/cluster_embeddings/._m462.pt  \r\n",
      "  inflating: data/output/cluster_embeddings/m573.pt  \r\n",
      "  inflating: data/output/__MACOSX/cluster_embeddings/._m573.pt  \r\n",
      "  inflating: data/output/cluster_embeddings/m433.pt  \r\n",
      "  inflating: data/output/__MACOSX/cluster_embeddings/._m433.pt  \r\n",
      "  inflating: data/output/cluster_embeddings/m580.pt  \r\n",
      "  inflating: data/output/__MACOSX/cluster_embeddings/._m580.pt  \r\n",
      "  inflating: data/output/cluster_embeddings/m611.pt  \r\n",
      "  inflating: data/output/__MACOSX/cluster_embeddings/._m611.pt  \r\n",
      "  inflating: data/output/cluster_embeddings/m491.pt  \r\n",
      "  inflating: data/output/__MACOSX/cluster_embeddings/._m491.pt  \r\n",
      "  inflating: data/output/cluster_embeddings/m318.pt  \r\n",
      "  inflating: data/output/__MACOSX/cluster_embeddings/._m318.pt  \r\n",
      "  inflating: data/output/cluster_embeddings/m258.pt  \r\n",
      "  inflating: data/output/__MACOSX/cluster_embeddings/._m258.pt  \r\n",
      "  inflating: data/output/cluster_embeddings/m349.pt  \r\n",
      "  inflating: data/output/__MACOSX/cluster_embeddings/._m349.pt  \r\n",
      "  inflating: data/output/cluster_embeddings/m198.pt  \r\n",
      "  inflating: data/output/__MACOSX/cluster_embeddings/._m198.pt  \r\n",
      "  inflating: data/output/cluster_embeddings/m209.pt  \r\n",
      "  inflating: data/output/__MACOSX/cluster_embeddings/._m209.pt  \r\n",
      "  inflating: data/output/cluster_embeddings/m568.pt  \r\n",
      "  inflating: data/output/__MACOSX/cluster_embeddings/._m568.pt  \r\n",
      "  inflating: data/output/cluster_embeddings/m479.pt  \r\n",
      "  inflating: data/output/__MACOSX/cluster_embeddings/._m479.pt  \r\n",
      "  inflating: data/output/cluster_embeddings/m539.pt  \r\n",
      "  inflating: data/output/__MACOSX/cluster_embeddings/._m539.pt  \r\n",
      "  inflating: data/output/cluster_embeddings/m121.pt  \r\n",
      "  inflating: data/output/__MACOSX/cluster_embeddings/._m121.pt  \r\n",
      "  inflating: data/output/cluster_embeddings/m34.pt  \r\n",
      "  inflating: data/output/__MACOSX/cluster_embeddings/._m34.pt  \r\n",
      "  inflating: data/output/cluster_embeddings/m170.pt  \r\n",
      "  inflating: data/output/__MACOSX/cluster_embeddings/._m170.pt  \r\n",
      "  inflating: data/output/cluster_embeddings/m65.pt  \r\n",
      "  inflating: data/output/__MACOSX/cluster_embeddings/._m65.pt  \r\n",
      "  inflating: data/output/cluster_embeddings/m212.pt  \r\n",
      "  inflating: data/output/__MACOSX/cluster_embeddings/._m212.pt  \r\n",
      "  inflating: data/output/cluster_embeddings/m183.pt  \r\n",
      "  inflating: data/output/__MACOSX/cluster_embeddings/._m183.pt  \r\n",
      "  inflating: data/output/cluster_embeddings/m96.pt  \r\n",
      "  inflating: data/output/__MACOSX/cluster_embeddings/._m96.pt  \r\n",
      "  inflating: data/output/cluster_embeddings/m243.pt  \r\n",
      "  inflating: data/output/__MACOSX/cluster_embeddings/._m243.pt  \r\n",
      "  inflating: data/output/cluster_embeddings/m303.pt  \r\n",
      "  inflating: data/output/__MACOSX/cluster_embeddings/._m303.pt  \r\n",
      "  inflating: data/output/cluster_embeddings/m51.pt  \r\n",
      "  inflating: data/output/__MACOSX/cluster_embeddings/._m51.pt  \r\n",
      "  inflating: data/output/cluster_embeddings/m395.pt  \r\n",
      "  inflating: data/output/__MACOSX/cluster_embeddings/._m395.pt  \r\n",
      "  inflating: data/output/cluster_embeddings/m144.pt  \r\n",
      "  inflating: data/output/__MACOSX/cluster_embeddings/._m144.pt  \r\n",
      "  inflating: data/output/cluster_embeddings/m284.pt  \r\n",
      "  inflating: data/output/__MACOSX/cluster_embeddings/._m284.pt  \r\n",
      "  inflating: data/output/cluster_embeddings/m115.pt  \r\n",
      "  inflating: data/output/__MACOSX/cluster_embeddings/._m115.pt  \r\n",
      "  inflating: data/output/cluster_embeddings/m337.pt  \r\n",
      "  inflating: data/output/__MACOSX/cluster_embeddings/._m337.pt  \r\n",
      "  inflating: data/output/cluster_embeddings/m277.pt  \r\n",
      "  inflating: data/output/__MACOSX/cluster_embeddings/._m277.pt  \r\n",
      "  inflating: data/output/cluster_embeddings/m366.pt  \r\n",
      "  inflating: data/output/__MACOSX/cluster_embeddings/._m366.pt  \r\n",
      "  inflating: data/output/cluster_embeddings/m1.pt  \r\n",
      "  inflating: data/output/__MACOSX/cluster_embeddings/._m1.pt  \r\n",
      "  inflating: data/output/cluster_embeddings/m226.pt  \r\n",
      "  inflating: data/output/__MACOSX/cluster_embeddings/._m226.pt  \r\n",
      "  inflating: data/output/cluster_embeddings/m236.pt  \r\n",
      "  inflating: data/output/__MACOSX/cluster_embeddings/._m236.pt  \r\n",
      "  inflating: data/output/cluster_embeddings/m376.pt  \r\n",
      "  inflating: data/output/__MACOSX/cluster_embeddings/._m376.pt  \r\n",
      "  inflating: data/output/cluster_embeddings/m267.pt  \r\n",
      "  inflating: data/output/__MACOSX/cluster_embeddings/._m267.pt  \r\n",
      "  inflating: data/output/cluster_embeddings/m327.pt  \r\n",
      "  inflating: data/output/__MACOSX/cluster_embeddings/._m327.pt  \r\n",
      "  inflating: data/output/cluster_embeddings/m105.pt  \r\n",
      "  inflating: data/output/__MACOSX/cluster_embeddings/._m105.pt  \r\n",
      "  inflating: data/output/cluster_embeddings/m294.pt  \r\n",
      "  inflating: data/output/__MACOSX/cluster_embeddings/._m294.pt  \r\n",
      "  inflating: data/output/cluster_embeddings/m10.pt  \r\n",
      "  inflating: data/output/__MACOSX/cluster_embeddings/._m10.pt  \r\n",
      "  inflating: data/output/cluster_embeddings/m154.pt  \r\n",
      "  inflating: data/output/__MACOSX/cluster_embeddings/._m154.pt  \r\n",
      "  inflating: data/output/cluster_embeddings/m41.pt  \r\n",
      "  inflating: data/output/__MACOSX/cluster_embeddings/._m41.pt  \r\n",
      "  inflating: data/output/cluster_embeddings/m385.pt  \r\n",
      "  inflating: data/output/__MACOSX/cluster_embeddings/._m385.pt  \r\n",
      "  inflating: data/output/cluster_embeddings/m313.pt  \r\n",
      "  inflating: data/output/__MACOSX/cluster_embeddings/._m313.pt  \r\n",
      "  inflating: data/output/cluster_embeddings/m253.pt  \r\n",
      "  inflating: data/output/__MACOSX/cluster_embeddings/._m253.pt  \r\n",
      "  inflating: data/output/cluster_embeddings/m342.pt  \r\n",
      "  inflating: data/output/__MACOSX/cluster_embeddings/._m342.pt  \r\n",
      "  inflating: data/output/cluster_embeddings/m86.pt  \r\n",
      "  inflating: data/output/__MACOSX/cluster_embeddings/._m86.pt  \r\n",
      "  inflating: data/output/cluster_embeddings/m193.pt  \r\n",
      "  inflating: data/output/__MACOSX/cluster_embeddings/._m193.pt  \r\n",
      "  inflating: data/output/cluster_embeddings/m202.pt  \r\n",
      "  inflating: data/output/__MACOSX/cluster_embeddings/._m202.pt  \r\n",
      "  inflating: data/output/cluster_embeddings/m75.pt  \r\n",
      "  inflating: data/output/__MACOSX/cluster_embeddings/._m75.pt  \r\n",
      "  inflating: data/output/cluster_embeddings/m160.pt  \r\n",
      "  inflating: data/output/__MACOSX/cluster_embeddings/._m160.pt  \r\n",
      "  inflating: data/output/cluster_embeddings/m24.pt  \r\n",
      "  inflating: data/output/__MACOSX/cluster_embeddings/._m24.pt  \r\n",
      "  inflating: data/output/cluster_embeddings/m131.pt  \r\n",
      "  inflating: data/output/__MACOSX/cluster_embeddings/._m131.pt  \r\n",
      "  inflating: data/output/cluster_embeddings/m529.pt  \r\n",
      "  inflating: data/output/__MACOSX/cluster_embeddings/._m529.pt  \r\n",
      "  inflating: data/output/cluster_embeddings/m469.pt  \r\n",
      "  inflating: data/output/__MACOSX/cluster_embeddings/._m469.pt  \r\n",
      "  inflating: data/output/cluster_embeddings/m578.pt  \r\n",
      "  inflating: data/output/__MACOSX/cluster_embeddings/._m578.pt  \r\n",
      "  inflating: data/output/cluster_embeddings/m438.pt  \r\n",
      "  inflating: data/output/__MACOSX/cluster_embeddings/._m438.pt  \r\n",
      "  inflating: data/output/cluster_embeddings/m558.pt  \r\n",
      "  inflating: data/output/__MACOSX/cluster_embeddings/._m558.pt  \r\n",
      "  inflating: data/output/cluster_embeddings/m418.pt  \r\n",
      "  inflating: data/output/__MACOSX/cluster_embeddings/._m418.pt  \r\n",
      "  inflating: data/output/cluster_embeddings/m509.pt  \r\n",
      "  inflating: data/output/__MACOSX/cluster_embeddings/._m509.pt  \r\n",
      "  inflating: data/output/cluster_embeddings/m449.pt  \r\n",
      "  inflating: data/output/__MACOSX/cluster_embeddings/._m449.pt  \r\n",
      "  inflating: data/output/cluster_embeddings/m111.pt  \r\n",
      "  inflating: data/output/__MACOSX/cluster_embeddings/._m111.pt  \r\n",
      "  inflating: data/output/cluster_embeddings/m280.pt  \r\n",
      "  inflating: data/output/__MACOSX/cluster_embeddings/._m280.pt  \r\n",
      "  inflating: data/output/cluster_embeddings/m391.pt  \r\n",
      "  inflating: data/output/__MACOSX/cluster_embeddings/._m391.pt  \r\n",
      "  inflating: data/output/cluster_embeddings/m55.pt  \r\n",
      "  inflating: data/output/__MACOSX/cluster_embeddings/._m55.pt  \r\n",
      "  inflating: data/output/cluster_embeddings/m140.pt  \r\n",
      "  inflating: data/output/__MACOSX/cluster_embeddings/._m140.pt  \r\n",
      "  inflating: data/output/cluster_embeddings/m362.pt  \r\n",
      "  inflating: data/output/__MACOSX/cluster_embeddings/._m362.pt  \r\n",
      "  inflating: data/output/cluster_embeddings/m222.pt  \r\n",
      "  inflating: data/output/__MACOSX/cluster_embeddings/._m222.pt  \r\n",
      "  inflating: data/output/cluster_embeddings/m5.pt  \r\n",
      "  inflating: data/output/__MACOSX/cluster_embeddings/._m5.pt  \r\n",
      "  inflating: data/output/cluster_embeddings/m333.pt  \r\n",
      "  inflating: data/output/__MACOSX/cluster_embeddings/._m333.pt  \r\n",
      "  inflating: data/output/cluster_embeddings/m273.pt  \r\n",
      "  inflating: data/output/__MACOSX/cluster_embeddings/._m273.pt  \r\n",
      "  inflating: data/output/cluster_embeddings/m174.pt  \r\n",
      "  inflating: data/output/__MACOSX/cluster_embeddings/._m174.pt  \r\n",
      "  inflating: data/output/cluster_embeddings/m61.pt  \r\n",
      "  inflating: data/output/__MACOSX/cluster_embeddings/._m61.pt  \r\n",
      "  inflating: data/output/cluster_embeddings/m125.pt  \r\n",
      "  inflating: data/output/__MACOSX/cluster_embeddings/._m125.pt  \r\n",
      "  inflating: data/output/cluster_embeddings/m30.pt  \r\n",
      "  inflating: data/output/__MACOSX/cluster_embeddings/._m30.pt  \r\n",
      "  inflating: data/output/cluster_embeddings/m247.pt  \r\n",
      "  inflating: data/output/__MACOSX/cluster_embeddings/._m247.pt  \r\n",
      "  inflating: data/output/cluster_embeddings/m307.pt  \r\n",
      "  inflating: data/output/__MACOSX/cluster_embeddings/._m307.pt  \r\n",
      "  inflating: data/output/cluster_embeddings/m187.pt  \r\n",
      "  inflating: data/output/__MACOSX/cluster_embeddings/._m187.pt  \r\n",
      "  inflating: data/output/cluster_embeddings/m216.pt  \r\n",
      "  inflating: data/output/__MACOSX/cluster_embeddings/._m216.pt  \r\n",
      "  inflating: data/output/cluster_embeddings/m92.pt  \r\n",
      "  inflating: data/output/__MACOSX/cluster_embeddings/._m92.pt  \r\n",
      "  inflating: data/output/cluster_embeddings/m356.pt  \r\n",
      "  inflating: data/output/__MACOSX/cluster_embeddings/._m356.pt  \r\n",
      "  inflating: data/output/cluster_embeddings/m82.pt  \r\n",
      "  inflating: data/output/__MACOSX/cluster_embeddings/._m82.pt  \r\n",
      "  inflating: data/output/cluster_embeddings/m346.pt  \r\n",
      "  inflating: data/output/__MACOSX/cluster_embeddings/._m346.pt  \r\n",
      "  inflating: data/output/cluster_embeddings/m206.pt  \r\n",
      "  inflating: data/output/__MACOSX/cluster_embeddings/._m206.pt  \r\n",
      "  inflating: data/output/cluster_embeddings/m197.pt  \r\n",
      "  inflating: data/output/__MACOSX/cluster_embeddings/._m197.pt  \r\n",
      "  inflating: data/output/cluster_embeddings/m317.pt  \r\n",
      "  inflating: data/output/__MACOSX/cluster_embeddings/._m317.pt  \r\n",
      "  inflating: data/output/cluster_embeddings/m257.pt  \r\n",
      "  inflating: data/output/__MACOSX/cluster_embeddings/._m257.pt  \r\n",
      "  inflating: data/output/cluster_embeddings/m20.pt  \r\n",
      "  inflating: data/output/__MACOSX/cluster_embeddings/._m20.pt  \r\n",
      "  inflating: data/output/cluster_embeddings/m135.pt  \r\n",
      "  inflating: data/output/__MACOSX/cluster_embeddings/._m135.pt  \r\n",
      "  inflating: data/output/cluster_embeddings/m71.pt  \r\n",
      "  inflating: data/output/__MACOSX/cluster_embeddings/._m71.pt  \r\n",
      "  inflating: data/output/cluster_embeddings/m164.pt  \r\n",
      "  inflating: data/output/__MACOSX/cluster_embeddings/._m164.pt  \r\n",
      "  inflating: data/output/cluster_embeddings/m263.pt  \r\n",
      "  inflating: data/output/__MACOSX/cluster_embeddings/._m263.pt  \r\n",
      "  inflating: data/output/cluster_embeddings/m323.pt  \r\n",
      "  inflating: data/output/__MACOSX/cluster_embeddings/._m323.pt  \r\n",
      "  inflating: data/output/cluster_embeddings/m232.pt  \r\n",
      "  inflating: data/output/__MACOSX/cluster_embeddings/._m232.pt  \r\n",
      "  inflating: data/output/cluster_embeddings/m372.pt  \r\n",
      "  inflating: data/output/__MACOSX/cluster_embeddings/._m372.pt  \r\n",
      "  inflating: data/output/cluster_embeddings/m150.pt  \r\n",
      "  inflating: data/output/__MACOSX/cluster_embeddings/._m150.pt  \r\n",
      "  inflating: data/output/cluster_embeddings/m381.pt  \r\n",
      "  inflating: data/output/__MACOSX/cluster_embeddings/._m381.pt  \r\n",
      "  inflating: data/output/cluster_embeddings/m45.pt  \r\n",
      "  inflating: data/output/__MACOSX/cluster_embeddings/._m45.pt  \r\n",
      "  inflating: data/output/cluster_embeddings/m290.pt  \r\n",
      "  inflating: data/output/__MACOSX/cluster_embeddings/._m290.pt  \r\n",
      "  inflating: data/output/cluster_embeddings/m101.pt  \r\n",
      "  inflating: data/output/__MACOSX/cluster_embeddings/._m101.pt  \r\n",
      "  inflating: data/output/cluster_embeddings/m14.pt  \r\n",
      "  inflating: data/output/__MACOSX/cluster_embeddings/._m14.pt  \r\n",
      "  inflating: data/output/cluster_embeddings/m459.pt  \r\n",
      "  inflating: data/output/__MACOSX/cluster_embeddings/._m459.pt  \r\n",
      "  inflating: data/output/cluster_embeddings/m519.pt  \r\n",
      "  inflating: data/output/__MACOSX/cluster_embeddings/._m519.pt  \r\n",
      "  inflating: data/output/cluster_embeddings/m408.pt  \r\n",
      "  inflating: data/output/__MACOSX/cluster_embeddings/._m408.pt  \r\n",
      "  inflating: data/output/cluster_embeddings/m548.pt  \r\n",
      "  inflating: data/output/__MACOSX/cluster_embeddings/._m548.pt  \r\n",
      "  inflating: data/output/cluster_embeddings/m559.pt  \r\n",
      "  inflating: data/output/__MACOSX/cluster_embeddings/._m559.pt  \r\n",
      "  inflating: data/output/cluster_embeddings/m419.pt  \r\n",
      "  inflating: data/output/__MACOSX/cluster_embeddings/._m419.pt  \r\n",
      "  inflating: data/output/cluster_embeddings/m508.pt  \r\n",
      "  inflating: data/output/__MACOSX/cluster_embeddings/._m508.pt  \r\n",
      "  inflating: data/output/cluster_embeddings/m448.pt  \r\n",
      "  inflating: data/output/__MACOSX/cluster_embeddings/._m448.pt  \r\n",
      "  inflating: data/output/cluster_embeddings/m281.pt  \r\n",
      "  inflating: data/output/__MACOSX/cluster_embeddings/._m281.pt  \r\n",
      "  inflating: data/output/cluster_embeddings/m110.pt  \r\n",
      "  inflating: data/output/__MACOSX/cluster_embeddings/._m110.pt  \r\n",
      "  inflating: data/output/cluster_embeddings/m54.pt  \r\n",
      "  inflating: data/output/__MACOSX/cluster_embeddings/._m54.pt  \r\n",
      "  inflating: data/output/cluster_embeddings/m390.pt  \r\n",
      "  inflating: data/output/__MACOSX/cluster_embeddings/._m390.pt  \r\n",
      "  inflating: data/output/cluster_embeddings/m141.pt  \r\n",
      "  inflating: data/output/__MACOSX/cluster_embeddings/._m141.pt  \r\n",
      "  inflating: data/output/cluster_embeddings/m363.pt  \r\n",
      "  inflating: data/output/__MACOSX/cluster_embeddings/._m363.pt  \r\n",
      "  inflating: data/output/cluster_embeddings/m4.pt  \r\n",
      "  inflating: data/output/__MACOSX/cluster_embeddings/._m4.pt  \r\n",
      "  inflating: data/output/cluster_embeddings/m223.pt  \r\n",
      "  inflating: data/output/__MACOSX/cluster_embeddings/._m223.pt  \r\n",
      "  inflating: data/output/cluster_embeddings/m332.pt  \r\n",
      "  inflating: data/output/__MACOSX/cluster_embeddings/._m332.pt  \r\n",
      "  inflating: data/output/cluster_embeddings/m272.pt  \r\n",
      "  inflating: data/output/__MACOSX/cluster_embeddings/._m272.pt  \r\n",
      "  inflating: data/output/cluster_embeddings/m175.pt  \r\n",
      "  inflating: data/output/__MACOSX/cluster_embeddings/._m175.pt  \r\n",
      "  inflating: data/output/cluster_embeddings/m60.pt  \r\n",
      "  inflating: data/output/__MACOSX/cluster_embeddings/._m60.pt  \r\n",
      "  inflating: data/output/cluster_embeddings/m124.pt  \r\n",
      "  inflating: data/output/__MACOSX/cluster_embeddings/._m124.pt  \r\n",
      "  inflating: data/output/cluster_embeddings/m31.pt  \r\n",
      "  inflating: data/output/__MACOSX/cluster_embeddings/._m31.pt  \r\n",
      "  inflating: data/output/cluster_embeddings/m246.pt  \r\n",
      "  inflating: data/output/__MACOSX/cluster_embeddings/._m246.pt  \r\n",
      "  inflating: data/output/cluster_embeddings/m306.pt  \r\n",
      "  inflating: data/output/__MACOSX/cluster_embeddings/._m306.pt  \r\n",
      "  inflating: data/output/cluster_embeddings/m217.pt  \r\n",
      "  inflating: data/output/__MACOSX/cluster_embeddings/._m217.pt  \r\n",
      "  inflating: data/output/cluster_embeddings/m186.pt  \r\n",
      "  inflating: data/output/__MACOSX/cluster_embeddings/._m186.pt  \r\n",
      "  inflating: data/output/cluster_embeddings/m357.pt  \r\n",
      "  inflating: data/output/__MACOSX/cluster_embeddings/._m357.pt  \r\n",
      "  inflating: data/output/cluster_embeddings/m93.pt  \r\n",
      "  inflating: data/output/__MACOSX/cluster_embeddings/._m93.pt  \r\n",
      "  inflating: data/output/cluster_embeddings/m347.pt  \r\n",
      "  inflating: data/output/__MACOSX/cluster_embeddings/._m347.pt  \r\n",
      "  inflating: data/output/cluster_embeddings/m83.pt  \r\n",
      "  inflating: data/output/__MACOSX/cluster_embeddings/._m83.pt  \r\n",
      "  inflating: data/output/cluster_embeddings/m196.pt  \r\n",
      "  inflating: data/output/__MACOSX/cluster_embeddings/._m196.pt  \r\n",
      "  inflating: data/output/cluster_embeddings/m207.pt  \r\n",
      "  inflating: data/output/__MACOSX/cluster_embeddings/._m207.pt  \r\n",
      "  inflating: data/output/cluster_embeddings/m316.pt  \r\n",
      "  inflating: data/output/__MACOSX/cluster_embeddings/._m316.pt  \r\n",
      "  inflating: data/output/cluster_embeddings/m256.pt  \r\n",
      "  inflating: data/output/__MACOSX/cluster_embeddings/._m256.pt  \r\n",
      "  inflating: data/output/cluster_embeddings/m21.pt  \r\n",
      "  inflating: data/output/__MACOSX/cluster_embeddings/._m21.pt  \r\n",
      "  inflating: data/output/cluster_embeddings/m134.pt  \r\n",
      "  inflating: data/output/__MACOSX/cluster_embeddings/._m134.pt  \r\n",
      "  inflating: data/output/cluster_embeddings/m70.pt  \r\n",
      "  inflating: data/output/__MACOSX/cluster_embeddings/._m70.pt  \r\n",
      "  inflating: data/output/cluster_embeddings/m165.pt  \r\n",
      "  inflating: data/output/__MACOSX/cluster_embeddings/._m165.pt  \r\n",
      "  inflating: data/output/cluster_embeddings/m262.pt  \r\n",
      "  inflating: data/output/__MACOSX/cluster_embeddings/._m262.pt  \r\n",
      "  inflating: data/output/cluster_embeddings/m322.pt  \r\n",
      "  inflating: data/output/__MACOSX/cluster_embeddings/._m322.pt  \r\n",
      "  inflating: data/output/cluster_embeddings/m233.pt  \r\n",
      "  inflating: data/output/__MACOSX/cluster_embeddings/._m233.pt  \r\n",
      "  inflating: data/output/cluster_embeddings/m373.pt  \r\n",
      "  inflating: data/output/__MACOSX/cluster_embeddings/._m373.pt  \r\n",
      "  inflating: data/output/cluster_embeddings/m151.pt  \r\n",
      "  inflating: data/output/__MACOSX/cluster_embeddings/._m151.pt  \r\n",
      "  inflating: data/output/cluster_embeddings/m44.pt  \r\n",
      "  inflating: data/output/__MACOSX/cluster_embeddings/._m44.pt  \r\n",
      "  inflating: data/output/cluster_embeddings/m380.pt  \r\n",
      "  inflating: data/output/__MACOSX/cluster_embeddings/._m380.pt  \r\n",
      "  inflating: data/output/cluster_embeddings/m100.pt  \r\n",
      "  inflating: data/output/__MACOSX/cluster_embeddings/._m100.pt  \r\n",
      "  inflating: data/output/cluster_embeddings/m291.pt  \r\n",
      "  inflating: data/output/__MACOSX/cluster_embeddings/._m291.pt  \r\n",
      "  inflating: data/output/cluster_embeddings/m15.pt  \r\n",
      "  inflating: data/output/__MACOSX/cluster_embeddings/._m15.pt  \r\n",
      "  inflating: data/output/cluster_embeddings/m458.pt  \r\n",
      "  inflating: data/output/__MACOSX/cluster_embeddings/._m458.pt  \r\n",
      "  inflating: data/output/cluster_embeddings/m518.pt  \r\n",
      "  inflating: data/output/__MACOSX/cluster_embeddings/._m518.pt  \r\n",
      "  inflating: data/output/cluster_embeddings/m409.pt  \r\n",
      "  inflating: data/output/__MACOSX/cluster_embeddings/._m409.pt  \r\n",
      "  inflating: data/output/cluster_embeddings/m549.pt  \r\n",
      "  inflating: data/output/__MACOSX/cluster_embeddings/._m549.pt  \r\n",
      "  inflating: data/output/cluster_embeddings/m429.pt  \r\n",
      "  inflating: data/output/__MACOSX/cluster_embeddings/._m429.pt  \r\n",
      "  inflating: data/output/cluster_embeddings/m569.pt  \r\n",
      "  inflating: data/output/__MACOSX/cluster_embeddings/._m569.pt  \r\n",
      "  inflating: data/output/cluster_embeddings/m478.pt  \r\n",
      "  inflating: data/output/__MACOSX/cluster_embeddings/._m478.pt  \r\n",
      "  inflating: data/output/cluster_embeddings/m538.pt  \r\n",
      "  inflating: data/output/__MACOSX/cluster_embeddings/._m538.pt  \r\n",
      "  inflating: data/output/cluster_embeddings/m120.pt  \r\n",
      "  inflating: data/output/__MACOSX/cluster_embeddings/._m120.pt  \r\n",
      "  inflating: data/output/cluster_embeddings/m35.pt  \r\n",
      "  inflating: data/output/__MACOSX/cluster_embeddings/._m35.pt  \r\n",
      "  inflating: data/output/cluster_embeddings/m171.pt  \r\n",
      "  inflating: data/output/__MACOSX/cluster_embeddings/._m171.pt  \r\n",
      "  inflating: data/output/cluster_embeddings/m64.pt  \r\n",
      "  inflating: data/output/__MACOSX/cluster_embeddings/._m64.pt  \r\n",
      "  inflating: data/output/cluster_embeddings/m182.pt  \r\n",
      "  inflating: data/output/__MACOSX/cluster_embeddings/._m182.pt  \r\n",
      "  inflating: data/output/cluster_embeddings/m213.pt  \r\n",
      "  inflating: data/output/__MACOSX/cluster_embeddings/._m213.pt  \r\n",
      "  inflating: data/output/cluster_embeddings/m97.pt  \r\n",
      "  inflating: data/output/__MACOSX/cluster_embeddings/._m97.pt  \r\n",
      "  inflating: data/output/cluster_embeddings/m353.pt  \r\n",
      "  inflating: data/output/__MACOSX/cluster_embeddings/._m353.pt  \r\n",
      "  inflating: data/output/cluster_embeddings/m242.pt  \r\n",
      "  inflating: data/output/__MACOSX/cluster_embeddings/._m242.pt  \r\n",
      "  inflating: data/output/cluster_embeddings/m302.pt  \r\n",
      "  inflating: data/output/__MACOSX/cluster_embeddings/._m302.pt  \r\n",
      "  inflating: data/output/cluster_embeddings/m394.pt  \r\n",
      "  inflating: data/output/__MACOSX/cluster_embeddings/._m394.pt  \r\n",
      "  inflating: data/output/cluster_embeddings/m50.pt  \r\n",
      "  inflating: data/output/__MACOSX/cluster_embeddings/._m50.pt  \r\n",
      "  inflating: data/output/cluster_embeddings/m145.pt  \r\n",
      "  inflating: data/output/__MACOSX/cluster_embeddings/._m145.pt  \r\n",
      "  inflating: data/output/cluster_embeddings/m114.pt  \r\n",
      "  inflating: data/output/__MACOSX/cluster_embeddings/._m114.pt  \r\n",
      "  inflating: data/output/cluster_embeddings/m285.pt  \r\n",
      "  inflating: data/output/__MACOSX/cluster_embeddings/._m285.pt  \r\n",
      "  inflating: data/output/cluster_embeddings/m336.pt  \r\n",
      "  inflating: data/output/__MACOSX/cluster_embeddings/._m336.pt  \r\n",
      "  inflating: data/output/cluster_embeddings/m276.pt  \r\n",
      "  inflating: data/output/__MACOSX/cluster_embeddings/._m276.pt  \r\n",
      "  inflating: data/output/cluster_embeddings/m367.pt  \r\n",
      "  inflating: data/output/__MACOSX/cluster_embeddings/._m367.pt  \r\n",
      "  inflating: data/output/cluster_embeddings/m227.pt  \r\n",
      "  inflating: data/output/__MACOSX/cluster_embeddings/._m227.pt  \r\n",
      "  inflating: data/output/cluster_embeddings/m0.pt  \r\n",
      "  inflating: data/output/__MACOSX/cluster_embeddings/._m0.pt  \r\n",
      "  inflating: data/output/cluster_embeddings/m237.pt  \r\n",
      "  inflating: data/output/__MACOSX/cluster_embeddings/._m237.pt  \r\n",
      "  inflating: data/output/cluster_embeddings/m377.pt  \r\n",
      "  inflating: data/output/__MACOSX/cluster_embeddings/._m377.pt  \r\n",
      "  inflating: data/output/cluster_embeddings/m266.pt  \r\n",
      "  inflating: data/output/__MACOSX/cluster_embeddings/._m266.pt  \r\n",
      "  inflating: data/output/cluster_embeddings/m326.pt  \r\n",
      "  inflating: data/output/__MACOSX/cluster_embeddings/._m326.pt  \r\n",
      "  inflating: data/output/cluster_embeddings/m295.pt  \r\n",
      "  inflating: data/output/__MACOSX/cluster_embeddings/._m295.pt  \r\n",
      "  inflating: data/output/cluster_embeddings/m104.pt  \r\n",
      "  inflating: data/output/__MACOSX/cluster_embeddings/._m104.pt  \r\n",
      "  inflating: data/output/cluster_embeddings/m11.pt  \r\n",
      "  inflating: data/output/__MACOSX/cluster_embeddings/._m11.pt  \r\n",
      "  inflating: data/output/cluster_embeddings/m155.pt  \r\n",
      "  inflating: data/output/__MACOSX/cluster_embeddings/._m155.pt  \r\n",
      "  inflating: data/output/cluster_embeddings/m384.pt  \r\n",
      "  inflating: data/output/__MACOSX/cluster_embeddings/._m384.pt  \r\n",
      "  inflating: data/output/cluster_embeddings/m40.pt  \r\n",
      "  inflating: data/output/__MACOSX/cluster_embeddings/._m40.pt  \r\n",
      "  inflating: data/output/cluster_embeddings/m312.pt  \r\n",
      "  inflating: data/output/__MACOSX/cluster_embeddings/._m312.pt  \r\n",
      "  inflating: data/output/cluster_embeddings/m252.pt  \r\n",
      "  inflating: data/output/__MACOSX/cluster_embeddings/._m252.pt  \r\n",
      "  inflating: data/output/cluster_embeddings/m87.pt  \r\n",
      "  inflating: data/output/__MACOSX/cluster_embeddings/._m87.pt  \r\n",
      "  inflating: data/output/cluster_embeddings/m343.pt  \r\n",
      "  inflating: data/output/__MACOSX/cluster_embeddings/._m343.pt  \r\n",
      "  inflating: data/output/cluster_embeddings/m203.pt  \r\n",
      "  inflating: data/output/__MACOSX/cluster_embeddings/._m203.pt  \r\n",
      "  inflating: data/output/cluster_embeddings/m192.pt  \r\n",
      "  inflating: data/output/__MACOSX/cluster_embeddings/._m192.pt  \r\n",
      "  inflating: data/output/cluster_embeddings/m74.pt  \r\n",
      "  inflating: data/output/__MACOSX/cluster_embeddings/._m74.pt  \r\n",
      "  inflating: data/output/cluster_embeddings/m161.pt  \r\n",
      "  inflating: data/output/__MACOSX/cluster_embeddings/._m161.pt  \r\n",
      "  inflating: data/output/cluster_embeddings/m25.pt  \r\n",
      "  inflating: data/output/__MACOSX/cluster_embeddings/._m25.pt  \r\n",
      "  inflating: data/output/cluster_embeddings/m130.pt  \r\n",
      "  inflating: data/output/__MACOSX/cluster_embeddings/._m130.pt  \r\n",
      "  inflating: data/output/cluster_embeddings/m528.pt  \r\n",
      "  inflating: data/output/__MACOSX/cluster_embeddings/._m528.pt  \r\n",
      "  inflating: data/output/cluster_embeddings/m468.pt  \r\n",
      "  inflating: data/output/__MACOSX/cluster_embeddings/._m468.pt  \r\n",
      "  inflating: data/output/cluster_embeddings/m579.pt  \r\n",
      "  inflating: data/output/__MACOSX/cluster_embeddings/._m579.pt  \r\n",
      "  inflating: data/output/cluster_embeddings/m439.pt  \r\n",
      "  inflating: data/output/__MACOSX/cluster_embeddings/._m439.pt  \r\n",
      "  inflating: data/output/cluster_embeddings/m331.pt  \r\n",
      "  inflating: data/output/__MACOSX/cluster_embeddings/._m331.pt  \r\n",
      "  inflating: data/output/cluster_embeddings/m271.pt  \r\n",
      "  inflating: data/output/__MACOSX/cluster_embeddings/._m271.pt  \r\n",
      "  inflating: data/output/cluster_embeddings/m360.pt  \r\n",
      "  inflating: data/output/__MACOSX/cluster_embeddings/._m360.pt  \r\n",
      "  inflating: data/output/cluster_embeddings/m7.pt  \r\n",
      "  inflating: data/output/__MACOSX/cluster_embeddings/._m7.pt  \r\n",
      "  inflating: data/output/cluster_embeddings/m220.pt  \r\n",
      "  inflating: data/output/__MACOSX/cluster_embeddings/._m220.pt  \r\n",
      "  inflating: data/output/cluster_embeddings/m57.pt  \r\n",
      "  inflating: data/output/__MACOSX/cluster_embeddings/._m57.pt  \r\n",
      "  inflating: data/output/cluster_embeddings/m393.pt  \r\n",
      "  inflating: data/output/__MACOSX/cluster_embeddings/._m393.pt  \r\n",
      "  inflating: data/output/cluster_embeddings/m142.pt  \r\n",
      "  inflating: data/output/__MACOSX/cluster_embeddings/._m142.pt  \r\n",
      "  inflating: data/output/cluster_embeddings/m113.pt  \r\n",
      "  inflating: data/output/__MACOSX/cluster_embeddings/._m113.pt  \r\n",
      "  inflating: data/output/cluster_embeddings/m282.pt  \r\n",
      "  inflating: data/output/__MACOSX/cluster_embeddings/._m282.pt  \r\n",
      "  inflating: data/output/cluster_embeddings/m185.pt  \r\n",
      "  inflating: data/output/__MACOSX/cluster_embeddings/._m185.pt  \r\n",
      "  inflating: data/output/cluster_embeddings/m214.pt  \r\n",
      "  inflating: data/output/__MACOSX/cluster_embeddings/._m214.pt  \r\n",
      "  inflating: data/output/cluster_embeddings/m354.pt  \r\n",
      "  inflating: data/output/__MACOSX/cluster_embeddings/._m354.pt  \r\n",
      "  inflating: data/output/cluster_embeddings/m90.pt  \r\n",
      "  inflating: data/output/__MACOSX/cluster_embeddings/._m90.pt  \r\n",
      "  inflating: data/output/cluster_embeddings/m245.pt  \r\n",
      "  inflating: data/output/__MACOSX/cluster_embeddings/._m245.pt  \r\n",
      "  inflating: data/output/cluster_embeddings/m305.pt  \r\n",
      "  inflating: data/output/__MACOSX/cluster_embeddings/._m305.pt  \r\n",
      "  inflating: data/output/cluster_embeddings/m127.pt  \r\n",
      "  inflating: data/output/__MACOSX/cluster_embeddings/._m127.pt  \r\n",
      "  inflating: data/output/cluster_embeddings/m32.pt  \r\n",
      "  inflating: data/output/__MACOSX/cluster_embeddings/._m32.pt  \r\n",
      "  inflating: data/output/cluster_embeddings/m176.pt  \r\n",
      "  inflating: data/output/__MACOSX/cluster_embeddings/._m176.pt  \r\n",
      "  inflating: data/output/cluster_embeddings/m63.pt  \r\n",
      "  inflating: data/output/__MACOSX/cluster_embeddings/._m63.pt  \r\n",
      "  inflating: data/output/cluster_embeddings/m73.pt  \r\n",
      "  inflating: data/output/__MACOSX/cluster_embeddings/._m73.pt  \r\n",
      "  inflating: data/output/cluster_embeddings/m166.pt  \r\n",
      "  inflating: data/output/__MACOSX/cluster_embeddings/._m166.pt  \r\n",
      "  inflating: data/output/cluster_embeddings/m22.pt  \r\n",
      "  inflating: data/output/__MACOSX/cluster_embeddings/._m22.pt  \r\n",
      "  inflating: data/output/cluster_embeddings/m137.pt  \r\n",
      "  inflating: data/output/__MACOSX/cluster_embeddings/._m137.pt  \r\n",
      "  inflating: data/output/cluster_embeddings/m315.pt  \r\n",
      "  inflating: data/output/__MACOSX/cluster_embeddings/._m315.pt  \r\n",
      "  inflating: data/output/cluster_embeddings/m255.pt  \r\n",
      "  inflating: data/output/__MACOSX/cluster_embeddings/._m255.pt  \r\n",
      "  inflating: data/output/cluster_embeddings/m344.pt  \r\n",
      "  inflating: data/output/__MACOSX/cluster_embeddings/._m344.pt  \r\n",
      "  inflating: data/output/cluster_embeddings/m80.pt  \r\n",
      "  inflating: data/output/__MACOSX/cluster_embeddings/._m80.pt  \r\n",
      "  inflating: data/output/cluster_embeddings/m204.pt  \r\n",
      "  inflating: data/output/__MACOSX/cluster_embeddings/._m204.pt  \r\n",
      "  inflating: data/output/cluster_embeddings/m195.pt  \r\n",
      "  inflating: data/output/__MACOSX/cluster_embeddings/._m195.pt  \r\n",
      "  inflating: data/output/cluster_embeddings/m292.pt  \r\n",
      "  inflating: data/output/__MACOSX/cluster_embeddings/._m292.pt  \r\n",
      "  inflating: data/output/cluster_embeddings/m103.pt  \r\n",
      "  inflating: data/output/__MACOSX/cluster_embeddings/._m103.pt  \r\n",
      "  inflating: data/output/cluster_embeddings/m16.pt  \r\n",
      "  inflating: data/output/__MACOSX/cluster_embeddings/._m16.pt  \r\n",
      "  inflating: data/output/cluster_embeddings/m152.pt  \r\n",
      "  inflating: data/output/__MACOSX/cluster_embeddings/._m152.pt  \r\n",
      "  inflating: data/output/cluster_embeddings/m47.pt  \r\n",
      "  inflating: data/output/__MACOSX/cluster_embeddings/._m47.pt  \r\n",
      "  inflating: data/output/cluster_embeddings/m383.pt  \r\n",
      "  inflating: data/output/__MACOSX/cluster_embeddings/._m383.pt  \r\n",
      "  inflating: data/output/cluster_embeddings/m230.pt  \r\n",
      "  inflating: data/output/__MACOSX/cluster_embeddings/._m230.pt  \r\n",
      "  inflating: data/output/cluster_embeddings/m370.pt  \r\n",
      "  inflating: data/output/__MACOSX/cluster_embeddings/._m370.pt  \r\n",
      "  inflating: data/output/cluster_embeddings/m261.pt  \r\n",
      "  inflating: data/output/__MACOSX/cluster_embeddings/._m261.pt  \r\n",
      "  inflating: data/output/cluster_embeddings/m321.pt  \r\n",
      "  inflating: data/output/__MACOSX/cluster_embeddings/._m321.pt  \r\n",
      "  inflating: data/output/cluster_embeddings/m608.pt  \r\n",
      "  inflating: data/output/__MACOSX/cluster_embeddings/._m608.pt  \r\n",
      "  inflating: data/output/cluster_embeddings/m599.pt  \r\n",
      "  inflating: data/output/__MACOSX/cluster_embeddings/._m599.pt  \r\n",
      "  inflating: data/output/cluster_embeddings/m488.pt  \r\n",
      "  inflating: data/output/__MACOSX/cluster_embeddings/._m488.pt  \r\n",
      "  inflating: data/output/cluster_embeddings/m241.pt  \r\n",
      "  inflating: data/output/__MACOSX/cluster_embeddings/._m241.pt  \r\n",
      "  inflating: data/output/cluster_embeddings/m301.pt  \r\n",
      "  inflating: data/output/__MACOSX/cluster_embeddings/._m301.pt  \r\n",
      "  inflating: data/output/cluster_embeddings/m210.pt  \r\n",
      "  inflating: data/output/__MACOSX/cluster_embeddings/._m210.pt  \r\n",
      "  inflating: data/output/cluster_embeddings/m181.pt  \r\n",
      "  inflating: data/output/__MACOSX/cluster_embeddings/._m181.pt  \r\n",
      "  inflating: data/output/cluster_embeddings/m94.pt  \r\n",
      "  inflating: data/output/__MACOSX/cluster_embeddings/._m94.pt  \r\n",
      "  inflating: data/output/cluster_embeddings/m350.pt  \r\n",
      "  inflating: data/output/__MACOSX/cluster_embeddings/._m350.pt  \r\n",
      "  inflating: data/output/cluster_embeddings/m172.pt  \r\n",
      "  inflating: data/output/__MACOSX/cluster_embeddings/._m172.pt  \r\n",
      "  inflating: data/output/cluster_embeddings/m67.pt  \r\n",
      "  inflating: data/output/__MACOSX/cluster_embeddings/._m67.pt  \r\n",
      "  inflating: data/output/cluster_embeddings/m123.pt  \r\n",
      "  inflating: data/output/__MACOSX/cluster_embeddings/._m123.pt  \r\n",
      "  inflating: data/output/cluster_embeddings/m36.pt  \r\n",
      "  inflating: data/output/__MACOSX/cluster_embeddings/._m36.pt  \r\n",
      "  inflating: data/output/cluster_embeddings/m364.pt  \r\n",
      "  inflating: data/output/__MACOSX/cluster_embeddings/._m364.pt  \r\n",
      "  inflating: data/output/cluster_embeddings/m224.pt  \r\n",
      "  inflating: data/output/__MACOSX/cluster_embeddings/._m224.pt  \r\n",
      "  inflating: data/output/cluster_embeddings/m3.pt  \r\n",
      "  inflating: data/output/__MACOSX/cluster_embeddings/._m3.pt  \r\n",
      "  inflating: data/output/cluster_embeddings/m335.pt  \r\n",
      "  inflating: data/output/__MACOSX/cluster_embeddings/._m335.pt  \r\n",
      "  inflating: data/output/cluster_embeddings/m275.pt  \r\n",
      "  inflating: data/output/__MACOSX/cluster_embeddings/._m275.pt  \r\n",
      "  inflating: data/output/cluster_embeddings/m286.pt  \r\n",
      "  inflating: data/output/__MACOSX/cluster_embeddings/._m286.pt  \r\n",
      "  inflating: data/output/cluster_embeddings/m117.pt  \r\n",
      "  inflating: data/output/__MACOSX/cluster_embeddings/._m117.pt  \r\n",
      "  inflating: data/output/cluster_embeddings/m397.pt  \r\n",
      "  inflating: data/output/__MACOSX/cluster_embeddings/._m397.pt  \r\n",
      "  inflating: data/output/cluster_embeddings/m53.pt  \r\n",
      "  inflating: data/output/__MACOSX/cluster_embeddings/._m53.pt  \r\n",
      "  inflating: data/output/cluster_embeddings/m146.pt  \r\n",
      "  inflating: data/output/__MACOSX/cluster_embeddings/._m146.pt  \r\n",
      "  inflating: data/output/cluster_embeddings/m156.pt  \r\n",
      "  inflating: data/output/__MACOSX/cluster_embeddings/._m156.pt  \r\n",
      "  inflating: data/output/cluster_embeddings/m387.pt  \r\n",
      "  inflating: data/output/__MACOSX/cluster_embeddings/._m387.pt  \r\n",
      "  inflating: data/output/cluster_embeddings/m43.pt  \r\n",
      "  inflating: data/output/__MACOSX/cluster_embeddings/._m43.pt  \r\n",
      "  inflating: data/output/cluster_embeddings/m107.pt  \r\n",
      "  inflating: data/output/__MACOSX/cluster_embeddings/._m107.pt  \r\n",
      "  inflating: data/output/cluster_embeddings/m296.pt  \r\n",
      "  inflating: data/output/__MACOSX/cluster_embeddings/._m296.pt  \r\n",
      "  inflating: data/output/cluster_embeddings/m12.pt  \r\n",
      "  inflating: data/output/__MACOSX/cluster_embeddings/._m12.pt  \r\n",
      "  inflating: data/output/cluster_embeddings/m265.pt  \r\n",
      "  inflating: data/output/__MACOSX/cluster_embeddings/._m265.pt  \r\n",
      "  inflating: data/output/cluster_embeddings/m325.pt  \r\n",
      "  inflating: data/output/__MACOSX/cluster_embeddings/._m325.pt  \r\n",
      "  inflating: data/output/cluster_embeddings/m234.pt  \r\n",
      "  inflating: data/output/__MACOSX/cluster_embeddings/._m234.pt  \r\n",
      "  inflating: data/output/cluster_embeddings/m374.pt  \r\n",
      "  inflating: data/output/__MACOSX/cluster_embeddings/._m374.pt  \r\n",
      "  inflating: data/output/cluster_embeddings/m26.pt  \r\n",
      "  inflating: data/output/__MACOSX/cluster_embeddings/._m26.pt  \r\n",
      "  inflating: data/output/cluster_embeddings/m133.pt  \r\n",
      "  inflating: data/output/__MACOSX/cluster_embeddings/._m133.pt  \r\n",
      "  inflating: data/output/cluster_embeddings/m77.pt  \r\n",
      "  inflating: data/output/__MACOSX/cluster_embeddings/._m77.pt  \r\n",
      "  inflating: data/output/cluster_embeddings/m162.pt  \r\n",
      "  inflating: data/output/__MACOSX/cluster_embeddings/._m162.pt  \r\n",
      "  inflating: data/output/cluster_embeddings/m84.pt  \r\n",
      "  inflating: data/output/__MACOSX/cluster_embeddings/._m84.pt  \r\n",
      "  inflating: data/output/cluster_embeddings/m340.pt  \r\n",
      "  inflating: data/output/__MACOSX/cluster_embeddings/._m340.pt  \r\n",
      "  inflating: data/output/cluster_embeddings/m191.pt  \r\n",
      "  inflating: data/output/__MACOSX/cluster_embeddings/._m191.pt  \r\n",
      "  inflating: data/output/cluster_embeddings/m200.pt  \r\n",
      "  inflating: data/output/__MACOSX/cluster_embeddings/._m200.pt  \r\n",
      "  inflating: data/output/cluster_embeddings/m311.pt  \r\n",
      "  inflating: data/output/__MACOSX/cluster_embeddings/._m311.pt  \r\n",
      "  inflating: data/output/cluster_embeddings/m251.pt  \r\n",
      "  inflating: data/output/__MACOSX/cluster_embeddings/._m251.pt  \r\n",
      "  inflating: data/output/cluster_embeddings/m498.pt  \r\n",
      "  inflating: data/output/__MACOSX/cluster_embeddings/._m498.pt  \r\n",
      "  inflating: data/output/cluster_embeddings/m589.pt  \r\n",
      "  inflating: data/output/__MACOSX/cluster_embeddings/._m589.pt  \r\n",
      "  inflating: data/output/cluster_embeddings/m598.pt  \r\n",
      "  inflating: data/output/__MACOSX/cluster_embeddings/._m598.pt  \r\n",
      "  inflating: data/output/cluster_embeddings/m609.pt  \r\n",
      "  inflating: data/output/__MACOSX/cluster_embeddings/._m609.pt  \r\n",
      "  inflating: data/output/cluster_embeddings/m489.pt  \r\n",
      "  inflating: data/output/__MACOSX/cluster_embeddings/._m489.pt  \r\n",
      "  inflating: data/output/cluster_embeddings/m240.pt  \r\n",
      "  inflating: data/output/__MACOSX/cluster_embeddings/._m240.pt  \r\n",
      "  inflating: data/output/cluster_embeddings/m300.pt  \r\n",
      "  inflating: data/output/__MACOSX/cluster_embeddings/._m300.pt  \r\n",
      "  inflating: data/output/cluster_embeddings/m180.pt  \r\n",
      "  inflating: data/output/__MACOSX/cluster_embeddings/._m180.pt  \r\n",
      "  inflating: data/output/cluster_embeddings/m211.pt  \r\n",
      "  inflating: data/output/__MACOSX/cluster_embeddings/._m211.pt  \r\n",
      "  inflating: data/output/cluster_embeddings/m351.pt  \r\n",
      "  inflating: data/output/__MACOSX/cluster_embeddings/._m351.pt  \r\n",
      "  inflating: data/output/cluster_embeddings/m95.pt  \r\n",
      "  inflating: data/output/__MACOSX/cluster_embeddings/._m95.pt  \r\n",
      "  inflating: data/output/cluster_embeddings/m173.pt  \r\n",
      "  inflating: data/output/__MACOSX/cluster_embeddings/._m173.pt  \r\n",
      "  inflating: data/output/cluster_embeddings/m66.pt  \r\n",
      "  inflating: data/output/__MACOSX/cluster_embeddings/._m66.pt  \r\n",
      "  inflating: data/output/cluster_embeddings/m122.pt  \r\n",
      "  inflating: data/output/__MACOSX/cluster_embeddings/._m122.pt  \r\n",
      "  inflating: data/output/cluster_embeddings/m37.pt  \r\n",
      "  inflating: data/output/__MACOSX/cluster_embeddings/._m37.pt  \r\n",
      "  inflating: data/output/cluster_embeddings/m365.pt  \r\n",
      "  inflating: data/output/__MACOSX/cluster_embeddings/._m365.pt  \r\n",
      "  inflating: data/output/cluster_embeddings/m2.pt  \r\n",
      "  inflating: data/output/__MACOSX/cluster_embeddings/._m2.pt  \r\n",
      "  inflating: data/output/cluster_embeddings/m225.pt  \r\n",
      "  inflating: data/output/__MACOSX/cluster_embeddings/._m225.pt  \r\n",
      "  inflating: data/output/cluster_embeddings/m334.pt  \r\n",
      "  inflating: data/output/__MACOSX/cluster_embeddings/._m334.pt  \r\n",
      "  inflating: data/output/cluster_embeddings/m274.pt  \r\n",
      "  inflating: data/output/__MACOSX/cluster_embeddings/._m274.pt  \r\n",
      "  inflating: data/output/cluster_embeddings/m116.pt  \r\n",
      "  inflating: data/output/__MACOSX/cluster_embeddings/._m116.pt  \r\n",
      "  inflating: data/output/cluster_embeddings/m287.pt  \r\n",
      "  inflating: data/output/__MACOSX/cluster_embeddings/._m287.pt  \r\n",
      "  inflating: data/output/cluster_embeddings/m52.pt  \r\n",
      "  inflating: data/output/__MACOSX/cluster_embeddings/._m52.pt  \r\n",
      "  inflating: data/output/cluster_embeddings/m396.pt  \r\n",
      "  inflating: data/output/__MACOSX/cluster_embeddings/._m396.pt  \r\n",
      "  inflating: data/output/cluster_embeddings/m147.pt  \r\n",
      "  inflating: data/output/__MACOSX/cluster_embeddings/._m147.pt  \r\n",
      "  inflating: data/output/cluster_embeddings/m157.pt  \r\n",
      "  inflating: data/output/__MACOSX/cluster_embeddings/._m157.pt  \r\n",
      "  inflating: data/output/cluster_embeddings/m42.pt  \r\n",
      "  inflating: data/output/__MACOSX/cluster_embeddings/._m42.pt  \r\n",
      "  inflating: data/output/cluster_embeddings/m386.pt  \r\n",
      "  inflating: data/output/__MACOSX/cluster_embeddings/._m386.pt  \r\n",
      "  inflating: data/output/cluster_embeddings/m297.pt  \r\n",
      "  inflating: data/output/__MACOSX/cluster_embeddings/._m297.pt  \r\n",
      "  inflating: data/output/cluster_embeddings/m106.pt  \r\n",
      "  inflating: data/output/__MACOSX/cluster_embeddings/._m106.pt  \r\n",
      "  inflating: data/output/cluster_embeddings/m13.pt  \r\n",
      "  inflating: data/output/__MACOSX/cluster_embeddings/._m13.pt  \r\n",
      "  inflating: data/output/cluster_embeddings/m264.pt  \r\n",
      "  inflating: data/output/__MACOSX/cluster_embeddings/._m264.pt  \r\n",
      "  inflating: data/output/cluster_embeddings/m324.pt  \r\n",
      "  inflating: data/output/__MACOSX/cluster_embeddings/._m324.pt  \r\n",
      "  inflating: data/output/cluster_embeddings/m235.pt  \r\n",
      "  inflating: data/output/__MACOSX/cluster_embeddings/._m235.pt  \r\n",
      "  inflating: data/output/cluster_embeddings/m375.pt  \r\n",
      "  inflating: data/output/__MACOSX/cluster_embeddings/._m375.pt  \r\n",
      "  inflating: data/output/cluster_embeddings/m27.pt  \r\n",
      "  inflating: data/output/__MACOSX/cluster_embeddings/._m27.pt  \r\n",
      "  inflating: data/output/cluster_embeddings/m132.pt  \r\n",
      "  inflating: data/output/__MACOSX/cluster_embeddings/._m132.pt  \r\n",
      "  inflating: data/output/cluster_embeddings/m76.pt  \r\n",
      "  inflating: data/output/__MACOSX/cluster_embeddings/._m76.pt  \r\n",
      "  inflating: data/output/cluster_embeddings/m163.pt  \r\n",
      "  inflating: data/output/__MACOSX/cluster_embeddings/._m163.pt  \r\n",
      "  inflating: data/output/cluster_embeddings/m341.pt  \r\n",
      "  inflating: data/output/__MACOSX/cluster_embeddings/._m341.pt  \r\n",
      "  inflating: data/output/cluster_embeddings/m85.pt  \r\n",
      "  inflating: data/output/__MACOSX/cluster_embeddings/._m85.pt  \r\n",
      "  inflating: data/output/cluster_embeddings/m201.pt  \r\n",
      "  inflating: data/output/__MACOSX/cluster_embeddings/._m201.pt  \r\n",
      "  inflating: data/output/cluster_embeddings/m190.pt  \r\n",
      "  inflating: data/output/__MACOSX/cluster_embeddings/._m190.pt  \r\n",
      "  inflating: data/output/cluster_embeddings/m310.pt  \r\n",
      "  inflating: data/output/__MACOSX/cluster_embeddings/._m310.pt  \r\n",
      "  inflating: data/output/cluster_embeddings/m250.pt  \r\n",
      "  inflating: data/output/__MACOSX/cluster_embeddings/._m250.pt  \r\n",
      "  inflating: data/output/cluster_embeddings/m499.pt  \r\n",
      "  inflating: data/output/__MACOSX/cluster_embeddings/._m499.pt  \r\n",
      "  inflating: data/output/cluster_embeddings/m588.pt  \r\n",
      "  inflating: data/output/__MACOSX/cluster_embeddings/._m588.pt  \r\n",
      "  inflating: data/output/cluster_embeddings/m330.pt  \r\n",
      "  inflating: data/output/__MACOSX/cluster_embeddings/._m330.pt  \r\n",
      "  inflating: data/output/cluster_embeddings/m270.pt  \r\n",
      "  inflating: data/output/__MACOSX/cluster_embeddings/._m270.pt  \r\n",
      "  inflating: data/output/cluster_embeddings/m361.pt  \r\n",
      "  inflating: data/output/__MACOSX/cluster_embeddings/._m361.pt  \r\n",
      "  inflating: data/output/cluster_embeddings/m221.pt  \r\n",
      "  inflating: data/output/__MACOSX/cluster_embeddings/._m221.pt  \r\n",
      "  inflating: data/output/cluster_embeddings/m6.pt  \r\n",
      "  inflating: data/output/__MACOSX/cluster_embeddings/._m6.pt  \r\n",
      "  inflating: data/output/cluster_embeddings/m392.pt  \r\n",
      "  inflating: data/output/__MACOSX/cluster_embeddings/._m392.pt  \r\n",
      "  inflating: data/output/cluster_embeddings/m143.pt  \r\n",
      "  inflating: data/output/__MACOSX/cluster_embeddings/._m143.pt  \r\n",
      "  inflating: data/output/cluster_embeddings/m283.pt  \r\n",
      "  inflating: data/output/__MACOSX/cluster_embeddings/._m283.pt  \r\n",
      "  inflating: data/output/cluster_embeddings/m112.pt  \r\n",
      "  inflating: data/output/__MACOSX/cluster_embeddings/._m112.pt  \r\n",
      "  inflating: data/output/cluster_embeddings/m215.pt  \r\n",
      "  inflating: data/output/__MACOSX/cluster_embeddings/._m215.pt  \r\n",
      "  inflating: data/output/cluster_embeddings/m184.pt  \r\n",
      "  inflating: data/output/__MACOSX/cluster_embeddings/._m184.pt  \r\n",
      "  inflating: data/output/cluster_embeddings/m91.pt  \r\n",
      "  inflating: data/output/__MACOSX/cluster_embeddings/._m91.pt  \r\n",
      "  inflating: data/output/cluster_embeddings/m355.pt  \r\n",
      "  inflating: data/output/__MACOSX/cluster_embeddings/._m355.pt  \r\n",
      "  inflating: data/output/cluster_embeddings/m244.pt  \r\n",
      "  inflating: data/output/__MACOSX/cluster_embeddings/._m244.pt  \r\n",
      "  inflating: data/output/cluster_embeddings/m304.pt  \r\n",
      "  inflating: data/output/__MACOSX/cluster_embeddings/._m304.pt  \r\n",
      "  inflating: data/output/cluster_embeddings/m126.pt  \r\n",
      "  inflating: data/output/__MACOSX/cluster_embeddings/._m126.pt  \r\n",
      "  inflating: data/output/cluster_embeddings/m33.pt  \r\n",
      "  inflating: data/output/__MACOSX/cluster_embeddings/._m33.pt  \r\n",
      "  inflating: data/output/cluster_embeddings/m177.pt  \r\n",
      "  inflating: data/output/__MACOSX/cluster_embeddings/._m177.pt  \r\n",
      "  inflating: data/output/cluster_embeddings/m62.pt  \r\n",
      "  inflating: data/output/__MACOSX/cluster_embeddings/._m62.pt  \r\n",
      "  inflating: data/output/cluster_embeddings/m72.pt  \r\n",
      "  inflating: data/output/__MACOSX/cluster_embeddings/._m72.pt  \r\n",
      "  inflating: data/output/cluster_embeddings/m167.pt  \r\n",
      "  inflating: data/output/__MACOSX/cluster_embeddings/._m167.pt  \r\n",
      "  inflating: data/output/cluster_embeddings/m23.pt  \r\n",
      "  inflating: data/output/__MACOSX/cluster_embeddings/._m23.pt  \r\n",
      "  inflating: data/output/cluster_embeddings/m136.pt  \r\n",
      "  inflating: data/output/__MACOSX/cluster_embeddings/._m136.pt  \r\n",
      "  inflating: data/output/cluster_embeddings/m314.pt  \r\n",
      "  inflating: data/output/__MACOSX/cluster_embeddings/._m314.pt  \r\n",
      "  inflating: data/output/cluster_embeddings/m254.pt  \r\n",
      "  inflating: data/output/__MACOSX/cluster_embeddings/._m254.pt  \r\n",
      "  inflating: data/output/cluster_embeddings/m81.pt  \r\n",
      "  inflating: data/output/__MACOSX/cluster_embeddings/._m81.pt  \r\n",
      "  inflating: data/output/cluster_embeddings/m345.pt  \r\n",
      "  inflating: data/output/__MACOSX/cluster_embeddings/._m345.pt  \r\n",
      "  inflating: data/output/cluster_embeddings/m194.pt  \r\n",
      "  inflating: data/output/__MACOSX/cluster_embeddings/._m194.pt  \r\n",
      "  inflating: data/output/cluster_embeddings/m205.pt  \r\n",
      "  inflating: data/output/__MACOSX/cluster_embeddings/._m205.pt  \r\n",
      "  inflating: data/output/cluster_embeddings/m102.pt  \r\n",
      "  inflating: data/output/__MACOSX/cluster_embeddings/._m102.pt  \r\n",
      "  inflating: data/output/cluster_embeddings/m293.pt  \r\n",
      "  inflating: data/output/__MACOSX/cluster_embeddings/._m293.pt  \r\n",
      "  inflating: data/output/cluster_embeddings/m17.pt  \r\n",
      "  inflating: data/output/__MACOSX/cluster_embeddings/._m17.pt  \r\n",
      "  inflating: data/output/cluster_embeddings/m153.pt  \r\n",
      "  inflating: data/output/__MACOSX/cluster_embeddings/._m153.pt  \r\n",
      "  inflating: data/output/cluster_embeddings/m382.pt  \r\n",
      "  inflating: data/output/__MACOSX/cluster_embeddings/._m382.pt  \r\n",
      "  inflating: data/output/cluster_embeddings/m46.pt  \r\n",
      "  inflating: data/output/__MACOSX/cluster_embeddings/._m46.pt  \r\n",
      "  inflating: data/output/cluster_embeddings/m231.pt  \r\n",
      "  inflating: data/output/__MACOSX/cluster_embeddings/._m231.pt  \r\n",
      "  inflating: data/output/cluster_embeddings/m371.pt  \r\n",
      "  inflating: data/output/__MACOSX/cluster_embeddings/._m371.pt  \r\n",
      "  inflating: data/output/cluster_embeddings/m260.pt  \r\n",
      "  inflating: data/output/__MACOSX/cluster_embeddings/._m260.pt  \r\n",
      "  inflating: data/output/cluster_embeddings/m320.pt  \r\n",
      "  inflating: data/output/__MACOSX/cluster_embeddings/._m320.pt  \r\n",
      "  inflating: data/output/cluster_embeddings/m399.pt  \r\n",
      "  inflating: data/output/__MACOSX/cluster_embeddings/._m399.pt  \r\n",
      "  inflating: data/output/cluster_embeddings/m148.pt  \r\n",
      "  inflating: data/output/__MACOSX/cluster_embeddings/._m148.pt  \r\n",
      "  inflating: data/output/cluster_embeddings/m288.pt  \r\n",
      "  inflating: data/output/__MACOSX/cluster_embeddings/._m288.pt  \r\n",
      "  inflating: data/output/cluster_embeddings/m119.pt  \r\n",
      "  inflating: data/output/__MACOSX/cluster_embeddings/._m119.pt  \r\n",
      "  inflating: data/output/cluster_embeddings/m38.pt  \r\n",
      "  inflating: data/output/__MACOSX/cluster_embeddings/._m38.pt  \r\n",
      "  inflating: data/output/cluster_embeddings/m69.pt  \r\n",
      "  inflating: data/output/__MACOSX/cluster_embeddings/._m69.pt  \r\n",
      "  inflating: data/output/cluster_embeddings/m501.pt  \r\n",
      "  inflating: data/output/__MACOSX/cluster_embeddings/._m501.pt  \r\n",
      "  inflating: data/output/cluster_embeddings/m441.pt  \r\n",
      "  inflating: data/output/__MACOSX/cluster_embeddings/._m441.pt  \r\n",
      "  inflating: data/output/cluster_embeddings/m550.pt  \r\n",
      "  inflating: data/output/__MACOSX/cluster_embeddings/._m550.pt  \r\n",
      "  inflating: data/output/cluster_embeddings/m410.pt  \r\n",
      "  inflating: data/output/__MACOSX/cluster_embeddings/._m410.pt  \r\n",
      "  inflating: data/output/cluster_embeddings/m424.pt  \r\n",
      "  inflating: data/output/__MACOSX/cluster_embeddings/._m424.pt  \r\n",
      "  inflating: data/output/cluster_embeddings/m564.pt  \r\n",
      "  inflating: data/output/__MACOSX/cluster_embeddings/._m564.pt  \r\n",
      "  inflating: data/output/cluster_embeddings/m475.pt  \r\n",
      "  inflating: data/output/__MACOSX/cluster_embeddings/._m475.pt  \r\n",
      "  inflating: data/output/cluster_embeddings/m535.pt  \r\n",
      "  inflating: data/output/__MACOSX/cluster_embeddings/._m535.pt  \r\n",
      "  inflating: data/output/cluster_embeddings/m486.pt  \r\n",
      "  inflating: data/output/__MACOSX/cluster_embeddings/._m486.pt  \r\n",
      "  inflating: data/output/cluster_embeddings/m606.pt  \r\n",
      "  inflating: data/output/__MACOSX/cluster_embeddings/._m606.pt  \r\n",
      "  inflating: data/output/cluster_embeddings/m597.pt  \r\n",
      "  inflating: data/output/__MACOSX/cluster_embeddings/._m597.pt  \r\n",
      "  inflating: data/output/cluster_embeddings/m587.pt  \r\n",
      "  inflating: data/output/__MACOSX/cluster_embeddings/._m587.pt  \r\n",
      "  inflating: data/output/cluster_embeddings/m616.pt  \r\n",
      "  inflating: data/output/__MACOSX/cluster_embeddings/._m616.pt  \r\n",
      "  inflating: data/output/cluster_embeddings/m496.pt  \r\n",
      "  inflating: data/output/__MACOSX/cluster_embeddings/._m496.pt  \r\n",
      "  inflating: data/output/cluster_embeddings/m525.pt  \r\n",
      "  inflating: data/output/__MACOSX/cluster_embeddings/._m525.pt  \r\n",
      "  inflating: data/output/cluster_embeddings/m465.pt  \r\n",
      "  inflating: data/output/__MACOSX/cluster_embeddings/._m465.pt  \r\n",
      "  inflating: data/output/cluster_embeddings/m574.pt  \r\n",
      "  inflating: data/output/__MACOSX/cluster_embeddings/._m574.pt  \r\n",
      "  inflating: data/output/cluster_embeddings/m434.pt  \r\n",
      "  inflating: data/output/__MACOSX/cluster_embeddings/._m434.pt  \r\n",
      "  inflating: data/output/cluster_embeddings/m400.pt  \r\n",
      "  inflating: data/output/__MACOSX/cluster_embeddings/._m400.pt  \r\n",
      "  inflating: data/output/cluster_embeddings/m540.pt  \r\n",
      "  inflating: data/output/__MACOSX/cluster_embeddings/._m540.pt  \r\n",
      "  inflating: data/output/cluster_embeddings/m451.pt  \r\n",
      "  inflating: data/output/__MACOSX/cluster_embeddings/._m451.pt  \r\n",
      "  inflating: data/output/cluster_embeddings/m511.pt  \r\n",
      "  inflating: data/output/__MACOSX/cluster_embeddings/._m511.pt  \r\n",
      "  inflating: data/output/cluster_embeddings/m79.pt  \r\n",
      "  inflating: data/output/__MACOSX/cluster_embeddings/._m79.pt  \r\n",
      "  inflating: data/output/cluster_embeddings/m28.pt  \r\n",
      "  inflating: data/output/__MACOSX/cluster_embeddings/._m28.pt  \r\n",
      "  inflating: data/output/cluster_embeddings/m109.pt  \r\n",
      "  inflating: data/output/__MACOSX/cluster_embeddings/._m109.pt  \r\n",
      "  inflating: data/output/cluster_embeddings/m298.pt  \r\n",
      "  inflating: data/output/__MACOSX/cluster_embeddings/._m298.pt  \r\n",
      "  inflating: data/output/cluster_embeddings/m158.pt  \r\n",
      "  inflating: data/output/__MACOSX/cluster_embeddings/._m158.pt  \r\n",
      "  inflating: data/output/cluster_embeddings/m389.pt  \r\n",
      "  inflating: data/output/__MACOSX/cluster_embeddings/._m389.pt  \r\n",
      "  inflating: data/output/cluster_embeddings/m178.pt  \r\n",
      "  inflating: data/output/__MACOSX/cluster_embeddings/._m178.pt  \r\n",
      "  inflating: data/output/cluster_embeddings/m129.pt  \r\n",
      "  inflating: data/output/__MACOSX/cluster_embeddings/._m129.pt  \r\n",
      "  inflating: data/output/cluster_embeddings/m59.pt  \r\n",
      "  inflating: data/output/__MACOSX/cluster_embeddings/._m59.pt  \r\n",
      "  inflating: data/output/cluster_embeddings/m9.pt  \r\n",
      "  inflating: data/output/__MACOSX/cluster_embeddings/._m9.pt  \r\n",
      "  inflating: data/output/cluster_embeddings/m471.pt  \r\n",
      "  inflating: data/output/__MACOSX/cluster_embeddings/._m471.pt  \r\n",
      "  inflating: data/output/cluster_embeddings/m531.pt  \r\n",
      "  inflating: data/output/__MACOSX/cluster_embeddings/._m531.pt  \r\n",
      "  inflating: data/output/cluster_embeddings/m420.pt  \r\n",
      "  inflating: data/output/__MACOSX/cluster_embeddings/._m420.pt  \r\n",
      "  inflating: data/output/cluster_embeddings/m560.pt  \r\n",
      "  inflating: data/output/__MACOSX/cluster_embeddings/._m560.pt  \r\n",
      "  inflating: data/output/cluster_embeddings/m593.pt  \r\n",
      "  inflating: data/output/__MACOSX/cluster_embeddings/._m593.pt  \r\n",
      "  inflating: data/output/cluster_embeddings/m482.pt  \r\n",
      "  inflating: data/output/__MACOSX/cluster_embeddings/._m482.pt  \r\n",
      "  inflating: data/output/cluster_embeddings/m554.pt  \r\n",
      "  inflating: data/output/__MACOSX/cluster_embeddings/._m554.pt  \r\n",
      "  inflating: data/output/cluster_embeddings/m414.pt  \r\n",
      "  inflating: data/output/__MACOSX/cluster_embeddings/._m414.pt  \r\n",
      "  inflating: data/output/cluster_embeddings/m505.pt  \r\n",
      "  inflating: data/output/__MACOSX/cluster_embeddings/._m505.pt  \r\n",
      "  inflating: data/output/cluster_embeddings/m445.pt  \r\n",
      "  inflating: data/output/__MACOSX/cluster_embeddings/._m445.pt  \r\n",
      "  inflating: data/output/cluster_embeddings/m455.pt  \r\n",
      "  inflating: data/output/__MACOSX/cluster_embeddings/._m455.pt  \r\n",
      "  inflating: data/output/cluster_embeddings/m515.pt  \r\n",
      "  inflating: data/output/__MACOSX/cluster_embeddings/._m515.pt  \r\n",
      "  inflating: data/output/cluster_embeddings/m404.pt  \r\n",
      "  inflating: data/output/__MACOSX/cluster_embeddings/._m404.pt  \r\n",
      "  inflating: data/output/cluster_embeddings/m544.pt  \r\n",
      "  inflating: data/output/__MACOSX/cluster_embeddings/._m544.pt  \r\n",
      "  inflating: data/output/cluster_embeddings/m492.pt  \r\n",
      "  inflating: data/output/__MACOSX/cluster_embeddings/._m492.pt  \r\n",
      "  inflating: data/output/cluster_embeddings/m612.pt  \r\n",
      "  inflating: data/output/__MACOSX/cluster_embeddings/._m612.pt  \r\n",
      "  inflating: data/output/cluster_embeddings/m583.pt  \r\n",
      "  inflating: data/output/__MACOSX/cluster_embeddings/._m583.pt  \r\n",
      "  inflating: data/output/cluster_embeddings/m570.pt  \r\n",
      "  inflating: data/output/__MACOSX/cluster_embeddings/._m570.pt  \r\n",
      "  inflating: data/output/cluster_embeddings/m430.pt  \r\n",
      "  inflating: data/output/__MACOSX/cluster_embeddings/._m430.pt  \r\n",
      "  inflating: data/output/cluster_embeddings/m521.pt  \r\n",
      "  inflating: data/output/__MACOSX/cluster_embeddings/._m521.pt  \r\n",
      "  inflating: data/output/cluster_embeddings/m461.pt  \r\n",
      "  inflating: data/output/__MACOSX/cluster_embeddings/._m461.pt  \r\n",
      "  inflating: data/output/cluster_embeddings/m49.pt  \r\n",
      "  inflating: data/output/__MACOSX/cluster_embeddings/._m49.pt  \r\n",
      "  inflating: data/output/cluster_embeddings/m18.pt  \r\n",
      "  inflating: data/output/__MACOSX/cluster_embeddings/._m18.pt  \r\n",
      "  inflating: data/output/cluster_embeddings/m139.pt  \r\n",
      "  inflating: data/output/__MACOSX/cluster_embeddings/._m139.pt  \r\n",
      "  inflating: data/output/cluster_embeddings/m168.pt  \r\n",
      "  inflating: data/output/__MACOSX/cluster_embeddings/._m168.pt  \r\n",
      "  inflating: data/output/cluster_embeddings/m179.pt  \r\n",
      "  inflating: data/output/__MACOSX/cluster_embeddings/._m179.pt  \r\n",
      "  inflating: data/output/cluster_embeddings/m128.pt  \r\n",
      "  inflating: data/output/__MACOSX/cluster_embeddings/._m128.pt  \r\n",
      "  inflating: data/output/cluster_embeddings/m58.pt  \r\n",
      "  inflating: data/output/__MACOSX/cluster_embeddings/._m58.pt  \r\n",
      "  inflating: data/output/cluster_embeddings/m8.pt  \r\n",
      "  inflating: data/output/__MACOSX/cluster_embeddings/._m8.pt  \r\n",
      "  inflating: data/output/cluster_embeddings/m470.pt  \r\n",
      "  inflating: data/output/__MACOSX/cluster_embeddings/._m470.pt  \r\n",
      "  inflating: data/output/cluster_embeddings/m530.pt  \r\n",
      "  inflating: data/output/__MACOSX/cluster_embeddings/._m530.pt  \r\n",
      "  inflating: data/output/cluster_embeddings/m421.pt  \r\n",
      "  inflating: data/output/__MACOSX/cluster_embeddings/._m421.pt  \r\n",
      "  inflating: data/output/cluster_embeddings/m561.pt  \r\n",
      "  inflating: data/output/__MACOSX/cluster_embeddings/._m561.pt  \r\n",
      "  inflating: data/output/cluster_embeddings/m603.pt  \r\n",
      "  inflating: data/output/__MACOSX/cluster_embeddings/._m603.pt  \r\n",
      "  inflating: data/output/cluster_embeddings/m592.pt  \r\n",
      "  inflating: data/output/__MACOSX/cluster_embeddings/._m592.pt  \r\n",
      "  inflating: data/output/cluster_embeddings/m483.pt  \r\n",
      "  inflating: data/output/__MACOSX/cluster_embeddings/._m483.pt  \r\n",
      "  inflating: data/output/cluster_embeddings/m555.pt  \r\n",
      "  inflating: data/output/__MACOSX/cluster_embeddings/._m555.pt  \r\n",
      "  inflating: data/output/cluster_embeddings/m415.pt  \r\n",
      "  inflating: data/output/__MACOSX/cluster_embeddings/._m415.pt  \r\n",
      "  inflating: data/output/cluster_embeddings/m504.pt  \r\n",
      "  inflating: data/output/__MACOSX/cluster_embeddings/._m504.pt  \r\n",
      "  inflating: data/output/cluster_embeddings/m444.pt  \r\n",
      "  inflating: data/output/__MACOSX/cluster_embeddings/._m444.pt  \r\n",
      "  inflating: data/output/cluster_embeddings/m454.pt  \r\n",
      "  inflating: data/output/__MACOSX/cluster_embeddings/._m454.pt  \r\n",
      "  inflating: data/output/cluster_embeddings/m514.pt  \r\n",
      "  inflating: data/output/__MACOSX/cluster_embeddings/._m514.pt  \r\n",
      "  inflating: data/output/cluster_embeddings/m405.pt  \r\n",
      "  inflating: data/output/__MACOSX/cluster_embeddings/._m405.pt  \r\n",
      "  inflating: data/output/cluster_embeddings/m545.pt  \r\n",
      "  inflating: data/output/__MACOSX/cluster_embeddings/._m545.pt  \r\n",
      "  inflating: data/output/cluster_embeddings/m493.pt  \r\n",
      "  inflating: data/output/__MACOSX/cluster_embeddings/._m493.pt  \r\n",
      "  inflating: data/output/cluster_embeddings/m582.pt  \r\n",
      "  inflating: data/output/__MACOSX/cluster_embeddings/._m582.pt  \r\n",
      "  inflating: data/output/cluster_embeddings/m613.pt  \r\n",
      "  inflating: data/output/__MACOSX/cluster_embeddings/._m613.pt  \r\n",
      "  inflating: data/output/cluster_embeddings/m571.pt  \r\n",
      "  inflating: data/output/__MACOSX/cluster_embeddings/._m571.pt  \r\n",
      "  inflating: data/output/cluster_embeddings/m431.pt  \r\n",
      "  inflating: data/output/__MACOSX/cluster_embeddings/._m431.pt  \r\n",
      "  inflating: data/output/cluster_embeddings/m520.pt  \r\n",
      "  inflating: data/output/__MACOSX/cluster_embeddings/._m520.pt  \r\n",
      "  inflating: data/output/cluster_embeddings/m460.pt  \r\n",
      "  inflating: data/output/__MACOSX/cluster_embeddings/._m460.pt  \r\n",
      "  inflating: data/output/cluster_embeddings/m48.pt  \r\n",
      "  inflating: data/output/__MACOSX/cluster_embeddings/._m48.pt  \r\n",
      "  inflating: data/output/cluster_embeddings/m19.pt  \r\n",
      "  inflating: data/output/__MACOSX/cluster_embeddings/._m19.pt  \r\n",
      "  inflating: data/output/cluster_embeddings/m138.pt  \r\n",
      "  inflating: data/output/__MACOSX/cluster_embeddings/._m138.pt  \r\n",
      "  inflating: data/output/cluster_embeddings/m169.pt  \r\n",
      "  inflating: data/output/__MACOSX/cluster_embeddings/._m169.pt  \r\n",
      "  inflating: data/output/cluster_embeddings/m398.pt  \r\n",
      "  inflating: data/output/__MACOSX/cluster_embeddings/._m398.pt  \r\n",
      "  inflating: data/output/cluster_embeddings/m149.pt  \r\n",
      "  inflating: data/output/__MACOSX/cluster_embeddings/._m149.pt  \r\n",
      "  inflating: data/output/cluster_embeddings/m118.pt  \r\n",
      "  inflating: data/output/__MACOSX/cluster_embeddings/._m118.pt  \r\n",
      "  inflating: data/output/cluster_embeddings/m289.pt  \r\n",
      "  inflating: data/output/__MACOSX/cluster_embeddings/._m289.pt  \r\n",
      "  inflating: data/output/cluster_embeddings/m39.pt  \r\n",
      "  inflating: data/output/__MACOSX/cluster_embeddings/._m39.pt  \r\n",
      "  inflating: data/output/cluster_embeddings/m68.pt  \r\n",
      "  inflating: data/output/__MACOSX/cluster_embeddings/._m68.pt  \r\n",
      "  inflating: data/output/cluster_embeddings/m500.pt  \r\n",
      "  inflating: data/output/__MACOSX/cluster_embeddings/._m500.pt  \r\n",
      "  inflating: data/output/cluster_embeddings/m440.pt  \r\n",
      "  inflating: data/output/__MACOSX/cluster_embeddings/._m440.pt  \r\n",
      "  inflating: data/output/cluster_embeddings/m551.pt  \r\n",
      "  inflating: data/output/__MACOSX/cluster_embeddings/._m551.pt  \r\n",
      "  inflating: data/output/cluster_embeddings/m411.pt  \r\n",
      "  inflating: data/output/__MACOSX/cluster_embeddings/._m411.pt  \r\n",
      "  inflating: data/output/cluster_embeddings/m425.pt  \r\n",
      "  inflating: data/output/__MACOSX/cluster_embeddings/._m425.pt  \r\n",
      "  inflating: data/output/cluster_embeddings/m565.pt  \r\n",
      "  inflating: data/output/__MACOSX/cluster_embeddings/._m565.pt  \r\n",
      "  inflating: data/output/cluster_embeddings/m474.pt  \r\n",
      "  inflating: data/output/__MACOSX/cluster_embeddings/._m474.pt  \r\n",
      "  inflating: data/output/cluster_embeddings/m534.pt  \r\n",
      "  inflating: data/output/__MACOSX/cluster_embeddings/._m534.pt  \r\n",
      "  inflating: data/output/cluster_embeddings/m487.pt  \r\n",
      "  inflating: data/output/__MACOSX/cluster_embeddings/._m487.pt  \r\n",
      "  inflating: data/output/cluster_embeddings/m596.pt  \r\n",
      "  inflating: data/output/__MACOSX/cluster_embeddings/._m596.pt  \r\n",
      "  inflating: data/output/cluster_embeddings/m607.pt  \r\n",
      "  inflating: data/output/__MACOSX/cluster_embeddings/._m607.pt  \r\n",
      "  inflating: data/output/cluster_embeddings/m586.pt  \r\n",
      "  inflating: data/output/__MACOSX/cluster_embeddings/._m586.pt  \r\n",
      "  inflating: data/output/cluster_embeddings/m497.pt  \r\n",
      "  inflating: data/output/__MACOSX/cluster_embeddings/._m497.pt  \r\n",
      "  inflating: data/output/cluster_embeddings/m524.pt  \r\n",
      "  inflating: data/output/__MACOSX/cluster_embeddings/._m524.pt  \r\n",
      "  inflating: data/output/cluster_embeddings/m464.pt  \r\n",
      "  inflating: data/output/__MACOSX/cluster_embeddings/._m464.pt  \r\n",
      "  inflating: data/output/cluster_embeddings/m575.pt  \r\n",
      "  inflating: data/output/__MACOSX/cluster_embeddings/._m575.pt  \r\n",
      "  inflating: data/output/cluster_embeddings/m435.pt  \r\n",
      "  inflating: data/output/__MACOSX/cluster_embeddings/._m435.pt  \r\n",
      "  inflating: data/output/cluster_embeddings/m401.pt  \r\n",
      "  inflating: data/output/__MACOSX/cluster_embeddings/._m401.pt  \r\n",
      "  inflating: data/output/cluster_embeddings/m541.pt  \r\n",
      "  inflating: data/output/__MACOSX/cluster_embeddings/._m541.pt  \r\n",
      "  inflating: data/output/cluster_embeddings/m450.pt  \r\n",
      "  inflating: data/output/__MACOSX/cluster_embeddings/._m450.pt  \r\n",
      "  inflating: data/output/cluster_embeddings/m510.pt  \r\n",
      "  inflating: data/output/__MACOSX/cluster_embeddings/._m510.pt  \r\n",
      "  inflating: data/output/cluster_embeddings/m78.pt  \r\n",
      "  inflating: data/output/__MACOSX/cluster_embeddings/._m78.pt  \r\n",
      "  inflating: data/output/cluster_embeddings/m29.pt  \r\n",
      "  inflating: data/output/__MACOSX/cluster_embeddings/._m29.pt  \r\n",
      "  inflating: data/output/cluster_embeddings/m299.pt  \r\n",
      "  inflating: data/output/__MACOSX/cluster_embeddings/._m299.pt  \r\n",
      "  inflating: data/output/cluster_embeddings/m108.pt  \r\n",
      "  inflating: data/output/__MACOSX/cluster_embeddings/._m108.pt  \r\n",
      "  inflating: data/output/cluster_embeddings/m159.pt  \r\n",
      "  inflating: data/output/__MACOSX/cluster_embeddings/._m159.pt  \r\n",
      "  inflating: data/output/cluster_embeddings/m388.pt  \r\n",
      "  inflating: data/output/__MACOSX/cluster_embeddings/._m388.pt  \r\n",
      "m0.pt   m154.pt m21.pt  m266.pt m321.pt m379.pt m436.pt m492.pt m548.pt m605.pt\r\n",
      "m1.pt   m155.pt m210.pt m267.pt m322.pt m38.pt  m437.pt m493.pt m549.pt m606.pt\r\n",
      "m10.pt  m156.pt m211.pt m268.pt m323.pt m380.pt m438.pt m494.pt m55.pt  m607.pt\r\n",
      "m100.pt m157.pt m212.pt m269.pt m324.pt m381.pt m439.pt m495.pt m550.pt m608.pt\r\n",
      "m101.pt m158.pt m213.pt m27.pt  m325.pt m382.pt m44.pt  m496.pt m551.pt m609.pt\r\n",
      "m102.pt m159.pt m214.pt m270.pt m326.pt m383.pt m440.pt m497.pt m552.pt m61.pt\r\n",
      "m103.pt m16.pt  m215.pt m271.pt m327.pt m384.pt m441.pt m498.pt m553.pt m610.pt\r\n",
      "m104.pt m160.pt m216.pt m272.pt m328.pt m385.pt m442.pt m499.pt m554.pt m611.pt\r\n",
      "m105.pt m161.pt m217.pt m273.pt m329.pt m386.pt m443.pt m5.pt   m555.pt m612.pt\r\n",
      "m106.pt m162.pt m218.pt m274.pt m33.pt  m387.pt m444.pt m50.pt  m556.pt m613.pt\r\n",
      "m107.pt m163.pt m219.pt m275.pt m330.pt m388.pt m445.pt m500.pt m557.pt m614.pt\r\n",
      "m108.pt m164.pt m22.pt  m276.pt m331.pt m389.pt m446.pt m501.pt m558.pt m615.pt\r\n",
      "m109.pt m165.pt m220.pt m277.pt m332.pt m39.pt  m447.pt m502.pt m559.pt m616.pt\r\n",
      "m11.pt  m166.pt m221.pt m278.pt m333.pt m390.pt m448.pt m503.pt m560.pt m62.pt\r\n",
      "m110.pt m167.pt m222.pt m279.pt m334.pt m391.pt m449.pt m504.pt m561.pt m63.pt\r\n",
      "m111.pt m168.pt m223.pt m28.pt  m335.pt m392.pt m45.pt  m505.pt m562.pt m64.pt\r\n",
      "m112.pt m169.pt m224.pt m280.pt m336.pt m393.pt m450.pt m506.pt m563.pt m65.pt\r\n",
      "m113.pt m17.pt  m225.pt m281.pt m337.pt m394.pt m451.pt m507.pt m564.pt m66.pt\r\n",
      "m114.pt m170.pt m226.pt m282.pt m338.pt m395.pt m452.pt m508.pt m565.pt m67.pt\r\n",
      "m115.pt m171.pt m227.pt m283.pt m339.pt m396.pt m453.pt m509.pt m566.pt m68.pt\r\n",
      "m116.pt m172.pt m228.pt m284.pt m34.pt  m397.pt m454.pt m51.pt  m567.pt m69.pt\r\n",
      "m117.pt m173.pt m229.pt m285.pt m340.pt m398.pt m455.pt m510.pt m568.pt m7.pt\r\n",
      "m118.pt m174.pt m23.pt  m286.pt m341.pt m399.pt m456.pt m511.pt m569.pt m70.pt\r\n",
      "m119.pt m175.pt m230.pt m287.pt m342.pt m4.pt   m457.pt m512.pt m57.pt  m71.pt\r\n",
      "m12.pt  m176.pt m231.pt m288.pt m343.pt m40.pt  m458.pt m513.pt m570.pt m72.pt\r\n",
      "m120.pt m177.pt m232.pt m289.pt m344.pt m400.pt m459.pt m514.pt m571.pt m73.pt\r\n",
      "m121.pt m178.pt m233.pt m29.pt  m345.pt m401.pt m46.pt  m515.pt m572.pt m74.pt\r\n",
      "m122.pt m179.pt m234.pt m290.pt m346.pt m402.pt m460.pt m516.pt m573.pt m75.pt\r\n",
      "m123.pt m18.pt  m235.pt m291.pt m347.pt m403.pt m461.pt m517.pt m574.pt m76.pt\r\n",
      "m124.pt m180.pt m236.pt m292.pt m348.pt m404.pt m462.pt m518.pt m575.pt m77.pt\r\n",
      "m125.pt m181.pt m237.pt m293.pt m349.pt m405.pt m463.pt m519.pt m576.pt m78.pt\r\n",
      "m126.pt m182.pt m238.pt m294.pt m35.pt  m407.pt m464.pt m52.pt  m577.pt m79.pt\r\n",
      "m127.pt m183.pt m239.pt m295.pt m350.pt m408.pt m465.pt m520.pt m578.pt m8.pt\r\n",
      "m128.pt m184.pt m24.pt  m296.pt m351.pt m409.pt m466.pt m521.pt m579.pt m80.pt\r\n",
      "m129.pt m185.pt m240.pt m297.pt m353.pt m41.pt  m467.pt m522.pt m58.pt  m81.pt\r\n",
      "m13.pt  m186.pt m241.pt m298.pt m354.pt m410.pt m468.pt m523.pt m580.pt m82.pt\r\n",
      "m130.pt m187.pt m242.pt m299.pt m355.pt m411.pt m469.pt m524.pt m581.pt m83.pt\r\n",
      "m131.pt m188.pt m243.pt m3.pt   m356.pt m412.pt m47.pt  m525.pt m582.pt m84.pt\r\n",
      "m132.pt m189.pt m244.pt m30.pt  m357.pt m413.pt m470.pt m526.pt m583.pt m85.pt\r\n",
      "m133.pt m19.pt  m245.pt m300.pt m358.pt m414.pt m471.pt m527.pt m584.pt m86.pt\r\n",
      "m134.pt m190.pt m246.pt m301.pt m359.pt m415.pt m472.pt m528.pt m585.pt m87.pt\r\n",
      "m135.pt m191.pt m247.pt m302.pt m36.pt  m416.pt m473.pt m529.pt m586.pt m88.pt\r\n",
      "m136.pt m192.pt m248.pt m303.pt m360.pt m417.pt m474.pt m53.pt  m587.pt m89.pt\r\n",
      "m137.pt m193.pt m249.pt m304.pt m361.pt m418.pt m475.pt m530.pt m588.pt m9.pt\r\n",
      "m138.pt m194.pt m25.pt  m305.pt m362.pt m419.pt m476.pt m531.pt m589.pt m90.pt\r\n",
      "m139.pt m195.pt m250.pt m306.pt m363.pt m42.pt  m477.pt m532.pt m59.pt  m91.pt\r\n",
      "m14.pt  m196.pt m251.pt m307.pt m364.pt m420.pt m478.pt m533.pt m590.pt m92.pt\r\n",
      "m140.pt m197.pt m252.pt m308.pt m365.pt m421.pt m479.pt m534.pt m591.pt m93.pt\r\n",
      "m141.pt m198.pt m253.pt m309.pt m366.pt m422.pt m48.pt  m535.pt m592.pt m94.pt\r\n",
      "m142.pt m199.pt m254.pt m31.pt  m367.pt m423.pt m480.pt m536.pt m593.pt m95.pt\r\n",
      "m143.pt m2.pt   m255.pt m310.pt m368.pt m424.pt m481.pt m537.pt m594.pt m96.pt\r\n",
      "m144.pt m20.pt  m256.pt m311.pt m369.pt m425.pt m482.pt m538.pt m595.pt m97.pt\r\n",
      "m145.pt m200.pt m257.pt m312.pt m37.pt  m426.pt m483.pt m539.pt m596.pt m98.pt\r\n",
      "m146.pt m201.pt m258.pt m313.pt m370.pt m427.pt m484.pt m54.pt  m597.pt m99.pt\r\n",
      "m147.pt m202.pt m259.pt m314.pt m371.pt m429.pt m485.pt m540.pt m598.pt\r\n",
      "m148.pt m203.pt m26.pt  m315.pt m372.pt m43.pt  m486.pt m541.pt m599.pt\r\n",
      "m149.pt m204.pt m260.pt m316.pt m373.pt m430.pt m487.pt m542.pt m6.pt\r\n",
      "m15.pt  m205.pt m261.pt m317.pt m374.pt m431.pt m488.pt m543.pt m60.pt\r\n",
      "m150.pt m206.pt m262.pt m318.pt m375.pt m432.pt m489.pt m544.pt m600.pt\r\n",
      "m151.pt m207.pt m263.pt m319.pt m376.pt m433.pt m49.pt  m545.pt m601.pt\r\n",
      "m152.pt m208.pt m264.pt m32.pt  m377.pt m434.pt m490.pt m546.pt m603.pt\r\n",
      "m153.pt m209.pt m265.pt m320.pt m378.pt m435.pt m491.pt m547.pt m604.pt\r\n"
     ]
    }
   ],
   "source": [
    "# Download the movie embeddings from GCP that I ran and saved for faster run.\n",
    "# Uncomment the lines above to create these from scratch.\n",
    "# It will take about 15 minutes on Tesla T4\n",
    "\n",
    "! rm cluster_embeddings*\n",
    "! wget https://storage.googleapis.com/akhilez/companies/ginger/cluster_embeddings.zip\n",
    "! rm -rf data/output/cluster_embeddings\n",
    "! unzip cluster_embeddings.zip -d data/output\n",
    "! ls data/output/cluster_embeddings"
   ]
  },
  {
   "cell_type": "code",
   "execution_count": 29,
   "metadata": {
    "pycharm": {
     "name": "#%%\n"
    }
   },
   "outputs": [
    {
     "data": {
      "text/plain": "dict_keys(['m189', 'm218', 'm358', 'm249', 'm309', 'm480', 'm591', 'm600', 'm422', 'm562', 'm473', 'm533', 'm507', 'm447', 'm556', 'm416', 'm546', 'm457', 'm517', 'm523', 'm463', 'm572', 'm432', 'm610', 'm581', 'm490', 'm319', 'm259', 'm348', 'm208', 'm199', 'm368', 'm228', 'm339', 'm279', 'm98', 'm552', 'm412', 'm503', 'm443', 'm604', 'm595', 'm484', 'm477', 'm537', 'm426', 'm566', 'm576', 'm436', 'm527', 'm467', 'm494', 'm585', 'm614', 'm453', 'm513', 'm402', 'm542', 'm88', 'm269', 'm329', 'm238', 'm378', 'm369', 'm229', 'm338', 'm278', 'm99', 'm553', 'm413', 'm502', 'm442', 'm594', 'm605', 'm485', 'm476', 'm536', 'm427', 'm567', 'm577', 'm437', 'm526', 'm466', 'm495', 'm615', 'm584', 'm452', 'm512', 'm403', 'm543', 'm89', 'm268', 'm328', 'm239', 'm379', 'm219', 'm188', 'm359', 'm248', 'm308', 'm481', 'm601', 'm590', 'm423', 'm563', 'm472', 'm532', 'm506', 'm446', 'm557', 'm417', 'm407', 'm547', 'm456', 'm516', 'm522', 'm462', 'm573', 'm433', 'm580', 'm611', 'm491', 'm318', 'm258', 'm349', 'm198', 'm209', 'm568', 'm479', 'm539', 'm121', 'm34', 'm170', 'm65', 'm212', 'm183', 'm96', 'm243', 'm303', 'm51', 'm395', 'm144', 'm284', 'm115', 'm337', 'm277', 'm366', 'm1', 'm226', 'm236', 'm376', 'm267', 'm327', 'm105', 'm294', 'm10', 'm154', 'm41', 'm385', 'm313', 'm253', 'm342', 'm86', 'm193', 'm202', 'm75', 'm160', 'm24', 'm131', 'm529', 'm469', 'm578', 'm438', 'm558', 'm418', 'm509', 'm449', 'm111', 'm280', 'm391', 'm55', 'm140', 'm362', 'm222', 'm5', 'm333', 'm273', 'm174', 'm61', 'm125', 'm30', 'm247', 'm307', 'm187', 'm216', 'm92', 'm356', 'm82', 'm346', 'm206', 'm197', 'm317', 'm257', 'm20', 'm135', 'm71', 'm164', 'm263', 'm323', 'm232', 'm372', 'm150', 'm381', 'm45', 'm290', 'm101', 'm14', 'm459', 'm519', 'm408', 'm548', 'm559', 'm419', 'm508', 'm448', 'm281', 'm110', 'm54', 'm390', 'm141', 'm363', 'm4', 'm223', 'm332', 'm272', 'm175', 'm60', 'm124', 'm31', 'm246', 'm306', 'm217', 'm186', 'm357', 'm93', 'm347', 'm83', 'm196', 'm207', 'm316', 'm256', 'm21', 'm134', 'm70', 'm165', 'm262', 'm322', 'm233', 'm373', 'm151', 'm44', 'm380', 'm100', 'm291', 'm15', 'm458', 'm518', 'm409', 'm549', 'm429', 'm569', 'm478', 'm538', 'm120', 'm35', 'm171', 'm64', 'm182', 'm213', 'm97', 'm353', 'm242', 'm302', 'm394', 'm50', 'm145', 'm114', 'm285', 'm336', 'm276', 'm367', 'm227', 'm0', 'm237', 'm377', 'm266', 'm326', 'm295', 'm104', 'm11', 'm155', 'm384', 'm40', 'm312', 'm252', 'm87', 'm343', 'm203', 'm192', 'm74', 'm161', 'm25', 'm130', 'm528', 'm468', 'm579', 'm439', 'm331', 'm271', 'm360', 'm7', 'm220', 'm57', 'm393', 'm142', 'm113', 'm282', 'm185', 'm214', 'm354', 'm90', 'm245', 'm305', 'm127', 'm32', 'm176', 'm63', 'm73', 'm166', 'm22', 'm137', 'm315', 'm255', 'm344', 'm80', 'm204', 'm195', 'm292', 'm103', 'm16', 'm152', 'm47', 'm383', 'm230', 'm370', 'm261', 'm321', 'm608', 'm599', 'm488', 'm241', 'm301', 'm210', 'm181', 'm94', 'm350', 'm172', 'm67', 'm123', 'm36', 'm364', 'm224', 'm3', 'm335', 'm275', 'm286', 'm117', 'm397', 'm53', 'm146', 'm156', 'm387', 'm43', 'm107', 'm296', 'm12', 'm265', 'm325', 'm234', 'm374', 'm26', 'm133', 'm77', 'm162', 'm84', 'm340', 'm191', 'm200', 'm311', 'm251', 'm498', 'm589', 'm598', 'm609', 'm489', 'm240', 'm300', 'm180', 'm211', 'm351', 'm95', 'm173', 'm66', 'm122', 'm37', 'm365', 'm2', 'm225', 'm334', 'm274', 'm116', 'm287', 'm52', 'm396', 'm147', 'm157', 'm42', 'm386', 'm297', 'm106', 'm13', 'm264', 'm324', 'm235', 'm375', 'm27', 'm132', 'm76', 'm163', 'm341', 'm85', 'm201', 'm190', 'm310', 'm250', 'm499', 'm588', 'm330', 'm270', 'm361', 'm221', 'm6', 'm392', 'm143', 'm283', 'm112', 'm215', 'm184', 'm91', 'm355', 'm244', 'm304', 'm126', 'm33', 'm177', 'm62', 'm72', 'm167', 'm23', 'm136', 'm314', 'm254', 'm81', 'm345', 'm194', 'm205', 'm102', 'm293', 'm17', 'm153', 'm382', 'm46', 'm231', 'm371', 'm260', 'm320', 'm399', 'm148', 'm288', 'm119', 'm38', 'm69', 'm501', 'm441', 'm550', 'm410', 'm424', 'm564', 'm475', 'm535', 'm486', 'm606', 'm597', 'm587', 'm616', 'm496', 'm525', 'm465', 'm574', 'm434', 'm400', 'm540', 'm451', 'm511', 'm79', 'm28', 'm109', 'm298', 'm158', 'm389', 'm178', 'm129', 'm59', 'm9', 'm471', 'm531', 'm420', 'm560', 'm593', 'm482', 'm554', 'm414', 'm505', 'm445', 'm455', 'm515', 'm404', 'm544', 'm492', 'm612', 'm583', 'm570', 'm430', 'm521', 'm461', 'm49', 'm18', 'm139', 'm168', 'm179', 'm128', 'm58', 'm8', 'm470', 'm530', 'm421', 'm561', 'm603', 'm592', 'm483', 'm555', 'm415', 'm504', 'm444', 'm454', 'm514', 'm405', 'm545', 'm493', 'm582', 'm613', 'm571', 'm431', 'm520', 'm460', 'm48', 'm19', 'm138', 'm169', 'm398', 'm149', 'm118', 'm289', 'm39', 'm68', 'm500', 'm440', 'm551', 'm411', 'm425', 'm565', 'm474', 'm534', 'm487', 'm596', 'm607', 'm586', 'm497', 'm524', 'm464', 'm575', 'm435', 'm401', 'm541', 'm450', 'm510', 'm78', 'm29', 'm299', 'm108', 'm159', 'm388'])"
     },
     "execution_count": 29,
     "metadata": {},
     "output_type": "execute_result"
    }
   ],
   "source": [
    "def load_cluster_embeddings(embeddings_path) -> Dict[str, torch.Tensor]:\n",
    "    embeddings = {}\n",
    "    files = listdir(embeddings_path)\n",
    "    for file_name in files:\n",
    "        movie_id = file_name[:-3]\n",
    "        embedding = torch.load(join(embeddings_path, file_name))\n",
    "        embeddings[movie_id] = embedding\n",
    "    return embeddings\n",
    "\n",
    "\n",
    "clusters_embeddings = load_cluster_embeddings(cluster_embeddings_path)\n",
    "clusters_embeddings.keys()"
   ]
  },
  {
   "cell_type": "markdown",
   "metadata": {
    "pycharm": {
     "name": "#%% md\n"
    }
   },
   "source": [
    "`clusters_embeddings` is a dict of the shape:\n",
    "\n",
    "```yaml\n",
    "<movie_1_id>:\n",
    "    cluster_dialogs:\n",
    "        - <dialog1:str>\n",
    "        - <dialog2:str>\n",
    "        - ...\n",
    "    cluster_embeddings: <dialogs_embedding:torch.Tensor(n_dialogs,embedding_dim)>\n",
    "<movie_2_id>:\n",
    "    ...\n",
    "```\n",
    "\n",
    "Now we can average out the cluster embeddings to get embeddings for the movie.\n",
    "\n",
    "Then we can find similarities b/w all movies and create a network for the movies.\n",
    "\n"
   ]
  },
  {
   "cell_type": "code",
   "execution_count": 30,
   "metadata": {
    "pycharm": {
     "name": "#%%\n"
    }
   },
   "outputs": [
    {
     "name": "stdout",
     "output_type": "stream",
     "text": [
      "Average cluster_sizes: 135.17320261437908\n",
      "Max cluster_sizes: 338\n",
      "Min cluster_sizes: 3\n"
     ]
    },
    {
     "data": {
      "text/plain": "Text(0.5, 0, 'cluster_sizes')"
     },
     "execution_count": 30,
     "metadata": {},
     "output_type": "execute_result"
    },
    {
     "data": {
      "text/plain": "<Figure size 432x288 with 1 Axes>",
      "image/png": "[encoded data removed]"
     },
     "metadata": {
      "needs_background": "light"
     },
     "output_type": "display_data"
    }
   ],
   "source": [
    "# Plotting similarity scores for the dialogs\n",
    "\n",
    "cluster_sizes = [len(cluster_dict['cluster_dialogs']) for movie_id, cluster_dict in clusters_embeddings.items()]\n",
    "cluster_sizes = sorted(cluster_sizes, reverse=True)\n",
    "cluster_sizes = np.array(cluster_sizes)\n",
    "\n",
    "print(f'Average cluster_sizes: {cluster_sizes.mean()}')\n",
    "print(f'Max cluster_sizes: {cluster_sizes.max()}')\n",
    "print(f'Min cluster_sizes: {cluster_sizes.min()}')\n",
    "\n",
    "plt.plot(cluster_sizes)\n",
    "plt.title(\"cluster_sizes for each movie\")\n",
    "plt.xlabel(\"movie index sorted descendingly by y\")\n",
    "plt.xlabel(\"cluster_sizes\")"
   ]
  },
  {
   "cell_type": "markdown",
   "metadata": {
    "pycharm": {
     "name": "#%% md\n"
    }
   },
   "source": [
    "Most cluster sizes (number of significant dialogs that are similar) for the\n",
    "movies are b/w 75-200.\n",
    "\n",
    "Average # of dialogs was ~500.\n",
    "\n",
    "After filtering with similarity cluster technique,\n",
    "the average # of filtered dialogs is 135. Reduction by 75%."
   ]
  },
  {
   "cell_type": "code",
   "execution_count": 32,
   "metadata": {
    "pycharm": {
     "name": "#%%\n"
    }
   },
   "outputs": [
    {
     "data": {
      "text/plain": "<IPython.core.display.HTML object>",
      "text/html": "<html>\n<head>\n<link rel=\"stylesheet\" href=\"https://cdnjs.cloudflare.com/ajax/libs/vis/4.16.1/vis.css\" type=\"text/css\" />\n<script type=\"text/javascript\" src=\"https://cdnjs.cloudflare.com/ajax/libs/vis/4.16.1/vis-network.min.js\"> </script>\n<center>\n<h1></h1>\n</center>\n\n<!-- <link rel=\"stylesheet\" href=\"../node_modules/vis/dist/vis.min.css\" type=\"text/css\" />\n<script type=\"text/javascript\" src=\"../node_modules/vis/dist/vis.js\"> </script>-->\n\n<style type=\"text/css\">\n\n        #mynetwork {\n            width: 1080;\n            height: 500px;\n            background-color: #ffffff;\n            border: 1px solid lightgray;\n            position: relative;\n            float: left;\n        }\n\n        \n        #loadingBar {\n            position:absolute;\n            top:0px;\n            left:0px;\n            width: 1080;\n            height: 500px;\n            background-color:rgba(200,200,200,0.8);\n            -webkit-transition: all 0.5s ease;\n            -moz-transition: all 0.5s ease;\n            -ms-transition: all 0.5s ease;\n            -o-transition: all 0.5s ease;\n            transition: all 0.5s ease;\n            opacity:1;\n        }\n\n        #bar {\n            position:absolute;\n            top:0px;\n            left:0px;\n            width:20px;\n            height:20px;\n            margin:auto auto auto auto;\n            border-radius:11px;\n            border:2px solid rgba(30,30,30,0.05);\n            background: rgb(0, 173, 246); /* Old browsers */\n            box-shadow: 2px 0px 4px rgba(0,0,0,0.4);\n        }\n\n        #border {\n            position:absolute;\n            top:10px;\n            left:10px;\n            width:500px;\n            height:23px;\n            margin:auto auto auto auto;\n            box-shadow: 0px 0px 4px rgba(0,0,0,0.2);\n            border-radius:10px;\n        }\n\n        #text {\n            position:absolute;\n            top:8px;\n            left:530px;\n            width:30px;\n            height:50px;\n            margin:auto auto auto auto;\n            font-size:22px;\n            color: #000000;\n        }\n\n        div.outerBorder {\n            position:relative;\n            top:400px;\n            width:600px;\n            height:44px;\n            margin:auto auto auto auto;\n            border:8px solid rgba(0,0,0,0.1);\n            background: rgb(252,252,252); /* Old browsers */\n            background: -moz-linear-gradient(top,  rgba(252,252,252,1) 0%, rgba(237,237,237,1) 100%); /* FF3.6+ */\n            background: -webkit-gradient(linear, left top, left bottom, color-stop(0%,rgba(252,252,252,1)), color-stop(100%,rgba(237,237,237,1))); /* Chrome,Safari4+ */\n            background: -webkit-linear-gradient(top,  rgba(252,252,252,1) 0%,rgba(237,237,237,1) 100%); /* Chrome10+,Safari5.1+ */\n            background: -o-linear-gradient(top,  rgba(252,252,252,1) 0%,rgba(237,237,237,1) 100%); /* Opera 11.10+ */\n            background: -ms-linear-gradient(top,  rgba(252,252,252,1) 0%,rgba(237,237,237,1) 100%); /* IE10+ */\n            background: linear-gradient(to bottom,  rgba(252,252,252,1) 0%,rgba(237,237,237,1) 100%); /* W3C */\n            filter: progid:DXImageTransform.Microsoft.gradient( startColorstr='#fcfcfc', endColorstr='#ededed',GradientType=0 ); /* IE6-9 */\n            border-radius:72px;\n            box-shadow: 0px 0px 10px rgba(0,0,0,0.2);\n        }\n        \n\n        \n\n        \n</style>\n\n</head>\n\n<body>\n<div id = \"mynetwork\"></div>\n\n<div id=\"loadingBar\">\n    <div class=\"outerBorder\">\n        <div id=\"text\">0%</div>\n        <div id=\"border\">\n            <div id=\"bar\"></div>\n        </div>\n    </div>\n</div>\n\n\n<script type=\"text/javascript\">\n\n    // initialize global variables.\n    var edges;\n    var nodes;\n    var network; \n    var container;\n    var options, data;\n\n    \n    // This method is responsible for drawing the graph, returns the drawn network\n    function drawGraph() {\n        var container = document.getElementById('mynetwork');\n        \n        \n\n        // parsing and collecting nodes and edges from the python\n        nodes = new vis.DataSet([{\"id\": 0, \"label\": \"spider-man\", \"shape\": \"dot\", \"size\": 10, \"title\": \"[\\u0027action\\u0027, \\u0027adventure\\u0027, \\u0027fantasy\\u0027, \\u0027sci-fi\\u0027, \\u0027action\\u0027, \\u0027adventure\\u0027, \\u0027sci-fi\\u0027, \\u0027thriller\\u0027]\"}, {\"id\": 3, \"label\": \"as good as it gets\", \"shape\": \"dot\", \"size\": 10, \"title\": \"[\\u0027comedy\\u0027, \\u0027drama\\u0027, \\u0027romance\\u0027]\"}, {\"id\": 4, \"label\": \"crime spree\", \"shape\": \"dot\", \"size\": 10, \"title\": \"[\\u0027action\\u0027, \\u0027comedy\\u0027, \\u0027crime\\u0027]\"}, {\"id\": 11, \"label\": \"stepmom\", \"shape\": \"dot\", \"size\": 10, \"title\": \"[\\u0027comedy\\u0027, \\u0027drama\\u0027]\"}, {\"id\": 12, \"label\": \"scream\", \"shape\": \"dot\", \"size\": 10, \"title\": \"[\\u0027crime\\u0027, \\u0027horror\\u0027, \\u0027mystery\\u0027, \\u0027thriller\\u0027]\"}, {\"id\": 15, \"label\": \"kramer vs. kramer\", \"shape\": \"dot\", \"size\": 10, \"title\": \"[\\u0027drama\\u0027]\"}, {\"id\": 24, \"label\": \"traffic\", \"shape\": \"dot\", \"size\": 10, \"title\": \"[\\u0027crime\\u0027, \\u0027drama\\u0027, \\u0027thriller\\u0027]\"}, {\"id\": 30, \"label\": \"starman\", \"shape\": \"dot\", \"size\": 10, \"title\": \"[\\u0027adventure\\u0027, \\u0027drama\\u0027, \\u0027romance\\u0027, \\u0027sci-fi\\u0027]\"}, {\"id\": 32, \"label\": \"white squall\", \"shape\": \"dot\", \"size\": 10, \"title\": \"[\\u0027adventure\\u0027, \\u0027drama\\u0027]\"}, {\"id\": 34, \"label\": \"the bridges of madison county\", \"shape\": \"dot\", \"size\": 10, \"title\": \"[\\u0027drama\\u0027, \\u0027romance\\u0027]\"}, {\"id\": 38, \"label\": \"say anything...\", \"shape\": \"dot\", \"size\": 10, \"title\": \"[\\u0027comedy\\u0027, \\u0027drama\\u0027, \\u0027romance\\u0027]\"}, {\"id\": 41, \"label\": \"very bad things\", \"shape\": \"dot\", \"size\": 10, \"title\": \"[\\u0027comedy\\u0027, \\u0027crime\\u0027, \\u0027thriller\\u0027]\"}, {\"id\": 43, \"label\": \"point break\", \"shape\": \"dot\", \"size\": 10, \"title\": \"[\\u0027action\\u0027, \\u0027adventure\\u0027, \\u0027crime\\u0027, \\u0027drama\\u0027, \\u0027sport\\u0027, \\u0027thriller\\u0027]\"}, {\"id\": 47, \"label\": \"tombstone\", \"shape\": \"dot\", \"size\": 10, \"title\": \"[\\u0027action\\u0027, \\u0027drama\\u0027, \\u0027history\\u0027, \\u0027romance\\u0027, \\u0027western\\u0027]\"}, {\"id\": 48, \"label\": \"memento\", \"shape\": \"dot\", \"size\": 10, \"title\": \"[\\u0027crime\\u0027, \\u0027drama\\u0027, \\u0027mystery\\u0027, \\u0027thriller\\u0027]\"}, {\"id\": 50, \"label\": \"out of sight\", \"shape\": \"dot\", \"size\": 10, \"title\": \"[\\u0027comedy\\u0027, \\u0027crime\\u0027, \\u0027romance\\u0027, \\u0027thriller\\u0027]\"}, {\"id\": 52, \"label\": \"true lies\", \"shape\": \"dot\", \"size\": 10, \"title\": \"[\\u0027action\\u0027, \\u0027thriller\\u0027]\"}, {\"id\": 58, \"label\": \"high fidelity\", \"shape\": \"dot\", \"size\": 10, \"title\": \"[\\u0027comedy\\u0027, \\u0027drama\\u0027, \\u0027music\\u0027, \\u0027romance\\u0027]\"}, {\"id\": 63, \"label\": \"the godfather: part ii\", \"shape\": \"dot\", \"size\": 10, \"title\": \"[\\u0027crime\\u0027, \\u0027drama\\u0027, \\u0027thriller\\u0027]\"}, {\"id\": 74, \"label\": \"mystery of the wax museum\", \"shape\": \"dot\", \"size\": 10, \"title\": \"[\\u0027horror\\u0027, \\u0027mystery\\u0027, \\u0027thriller\\u0027]\"}, {\"id\": 81, \"label\": \"spacejacked\", \"shape\": \"dot\", \"size\": 10, \"title\": \"[\\u0027action\\u0027, \\u0027sci-fi\\u0027]\"}, {\"id\": 83, \"label\": \"route 9\", \"shape\": \"dot\", \"size\": 10, \"title\": \"[\\u0027crime\\u0027, \\u0027drama\\u0027]\"}, {\"id\": 96, \"label\": \"someone to watch over me\", \"shape\": \"dot\", \"size\": 10, \"title\": \"[\\u0027action\\u0027, \\u0027crime\\u0027, \\u0027drama\\u0027, \\u0027romance\\u0027, \\u0027thriller\\u0027]\"}, {\"id\": 123, \"label\": \"basquiat\", \"shape\": \"dot\", \"size\": 10, \"title\": \"[\\u0027biography\\u0027, \\u0027drama\\u0027]\"}, {\"id\": 128, \"label\": \"pretty woman\", \"shape\": \"dot\", \"size\": 10, \"title\": \"[\\u0027comedy\\u0027, \\u0027romance\\u0027]\"}, {\"id\": 129, \"label\": \"sunset blvd.\", \"shape\": \"dot\", \"size\": 10, \"title\": \"[\\u0027drama\\u0027, \\u0027film-noir\\u0027]\"}, {\"id\": 130, \"label\": \"little nicky\", \"shape\": \"dot\", \"size\": 10, \"title\": \"[\\u0027fantasy\\u0027, \\u0027comedy\\u0027, \\u0027romance\\u0027, \\u0027animation\\u0027, \\u0027comedy\\u0027, \\u0027fantasy\\u0027, \\u0027horror\\u0027]\"}, {\"id\": 131, \"label\": \"blade runner\", \"shape\": \"dot\", \"size\": 10, \"title\": \"[\\u0027drama\\u0027, \\u0027sci-fi\\u0027, \\u0027thriller\\u0027]\"}, {\"id\": 137, \"label\": \"annie hall\", \"shape\": \"dot\", \"size\": 10, \"title\": \"[\\u0027comedy\\u0027, \\u0027drama\\u0027, \\u0027romance\\u0027]\"}, {\"id\": 138, \"label\": \"conspiracy theory\", \"shape\": \"dot\", \"size\": 10, \"title\": \"[\\u0027action\\u0027, \\u0027crime\\u0027, \\u0027mystery\\u0027, \\u0027romance\\u0027, \\u0027thriller\\u0027]\"}, {\"id\": 143, \"label\": \"labor of love\", \"shape\": \"dot\", \"size\": 10, \"title\": \"[\\u0027\\u0027]\"}, {\"id\": 150, \"label\": \"the horse whisperer\", \"shape\": \"dot\", \"size\": 10, \"title\": \"[\\u0027drama\\u0027, \\u0027romance\\u0027, \\u0027western\\u0027]\"}, {\"id\": 151, \"label\": \"being john malkovich\", \"shape\": \"dot\", \"size\": 10, \"title\": \"[\\u0027comedy\\u0027, \\u0027drama\\u0027, \\u0027fantasy\\u0027, \\u0027romance\\u0027]\"}, {\"id\": 152, \"label\": \"dumb and dumberer: when harry met lloyd\", \"shape\": \"dot\", \"size\": 10, \"title\": \"[\\u0027comedy\\u0027]\"}, {\"id\": 153, \"label\": \"jackie brown\", \"shape\": \"dot\", \"size\": 10, \"title\": \"[\\u0027crime\\u0027, \\u0027drama\\u0027, \\u0027thriller\\u0027]\"}, {\"id\": 154, \"label\": \"cherry falls\", \"shape\": \"dot\", \"size\": 10, \"title\": \"[\\u0027horror\\u0027, \\u0027mystery\\u0027, \\u0027thriller\\u0027]\"}, {\"id\": 155, \"label\": \"affliction\", \"shape\": \"dot\", \"size\": 10, \"title\": \"[\\u0027drama\\u0027, \\u0027mystery\\u0027, \\u0027thriller\\u0027]\"}, {\"id\": 156, \"label\": \"an officer and a gentleman\", \"shape\": \"dot\", \"size\": 10, \"title\": \"[\\u0027drama\\u0027, \\u0027romance\\u0027]\"}, {\"id\": 157, \"label\": \"the butterfly effect\", \"shape\": \"dot\", \"size\": 10, \"title\": \"[\\u0027drama\\u0027, \\u0027mystery\\u0027, \\u0027sci-fi\\u0027, \\u0027thriller\\u0027]\"}, {\"id\": 161, \"label\": \"the fabulous baker boys\", \"shape\": \"dot\", \"size\": 10, \"title\": \"[\\u0027drama\\u0027, \\u0027music\\u0027, \\u0027romance\\u0027]\"}, {\"id\": 163, \"label\": \"star trek: the wrath of khan\", \"shape\": \"dot\", \"size\": 10, \"title\": \"[\\u0027action\\u0027, \\u0027adventure\\u0027, \\u0027sci-fi\\u0027, \\u0027thriller\\u0027]\"}, {\"id\": 164, \"label\": \"swingers\", \"shape\": \"dot\", \"size\": 10, \"title\": \"[\\u0027comedy\\u0027, \\u0027drama\\u0027]\"}, {\"id\": 167, \"label\": \"bachelor party\", \"shape\": \"dot\", \"size\": 10, \"title\": \"[\\u0027comedy\\u0027, \\u0027romance\\u0027]\"}, {\"id\": 170, \"label\": \"peggy sue got married\", \"shape\": \"dot\", \"size\": 10, \"title\": \"[\\u0027comedy\\u0027, \\u0027drama\\u0027, \\u0027fantasy\\u0027, \\u0027romance\\u0027]\"}, {\"id\": 176, \"label\": \"\\\"murderland\\\"\", \"shape\": \"dot\", \"size\": 10, \"title\": \"[\\u0027crime\\u0027, \\u0027drama\\u0027, \\u0027mystery\\u0027]\"}, {\"id\": 178, \"label\": \"bones\", \"shape\": \"dot\", \"size\": 10, \"title\": \"[\\u0027crime\\u0027, \\u0027horror\\u0027]\"}, {\"id\": 180, \"label\": \"eternal sunshine of the spotless mind\", \"shape\": \"dot\", \"size\": 10, \"title\": \"[\\u0027drama\\u0027, \\u0027romance\\u0027, \\u0027sci-fi\\u0027]\"}, {\"id\": 181, \"label\": \"mr. deeds goes to town\", \"shape\": \"dot\", \"size\": 10, \"title\": \"[\\u0027comedy\\u0027, \\u0027romance\\u0027]\"}, {\"id\": 189, \"label\": \"men in black\", \"shape\": \"dot\", \"size\": 10, \"title\": \"[\\u0027action\\u0027, \\u0027adventure\\u0027, \\u0027comedy\\u0027, \\u0027sci-fi\\u0027]\"}, {\"id\": 190, \"label\": \"big fish\", \"shape\": \"dot\", \"size\": 10, \"title\": \"[\\u0027adventure\\u0027, \\u0027drama\\u0027, \\u0027fantasy\\u0027]\"}, {\"id\": 194, \"label\": \"thelma \\u0026 louise\", \"shape\": \"dot\", \"size\": 10, \"title\": \"[\\u0027crime\\u0027, \\u0027drama\\u0027, \\u0027thriller\\u0027]\"}, {\"id\": 196, \"label\": \"the adventures of ford fairlane\", \"shape\": \"dot\", \"size\": 10, \"title\": \"[\\u0027action\\u0027, \\u0027adventure\\u0027, \\u0027comedy\\u0027, \\u0027music\\u0027]\"}, {\"id\": 200, \"label\": \"star trek vi: the undiscovered country\", \"shape\": \"dot\", \"size\": 10, \"title\": \"[\\u0027action\\u0027, \\u0027mystery\\u0027, \\u0027sci-fi\\u0027, \\u0027thriller\\u0027]\"}, {\"id\": 202, \"label\": \"basic instinct\", \"shape\": \"dot\", \"size\": 10, \"title\": \"[\\u0027mystery\\u0027, \\u0027romance\\u0027, \\u0027thriller\\u0027]\"}, {\"id\": 203, \"label\": \"american psycho\", \"shape\": \"dot\", \"size\": 10, \"title\": \"[\\u0027drama\\u0027, \\u0027thriller\\u0027]\"}, {\"id\": 213, \"label\": \"confidence\", \"shape\": \"dot\", \"size\": 10, \"title\": \"[\\u0027crime\\u0027, \\u0027thriller\\u0027]\"}, {\"id\": 214, \"label\": \"catwoman\", \"shape\": \"dot\", \"size\": 10, \"title\": \"[\\u0027action\\u0027, \\u0027crime\\u0027, \\u0027fantasy\\u0027]\"}, {\"id\": 216, \"label\": \"alien nation\", \"shape\": \"dot\", \"size\": 10, \"title\": \"[\\u0027crime\\u0027, \\u0027drama\\u0027, \\u0027sci-fi\\u0027, \\u0027thriller\\u0027]\"}, {\"id\": 218, \"label\": \"smoke\", \"shape\": \"dot\", \"size\": 10, \"title\": \"[\\u0027comedy\\u0027, \\u0027drama\\u0027]\"}, {\"id\": 219, \"label\": \"jerry maguire\", \"shape\": \"dot\", \"size\": 10, \"title\": \"[\\u0027comedy\\u0027, \\u0027drama\\u0027, \\u0027romance\\u0027, \\u0027sport\\u0027]\"}, {\"id\": 223, \"label\": \"seven\", \"shape\": \"dot\", \"size\": 10, \"title\": \"[\\u0027action\\u0027, \\u0027drama\\u0027]\"}, {\"id\": 224, \"label\": \"mulholland dr.\", \"shape\": \"dot\", \"size\": 10, \"title\": \"[\\u0027drama\\u0027, \\u0027mystery\\u0027, \\u0027thriller\\u0027]\"}, {\"id\": 225, \"label\": \"bound\", \"shape\": \"dot\", \"size\": 10, \"title\": \"[\\u0027crime\\u0027, \\u0027drama\\u0027, \\u0027thriller\\u0027]\"}, {\"id\": 229, \"label\": \"mumford\", \"shape\": \"dot\", \"size\": 10, \"title\": \"[\\u0027comedy\\u0027, \\u0027drama\\u0027]\"}, {\"id\": 241, \"label\": \"there\\u0027s something about mary\", \"shape\": \"dot\", \"size\": 10, \"title\": \"[\\u0027comedy\\u0027, \\u0027romance\\u0027]\"}, {\"id\": 244, \"label\": \"human nature\", \"shape\": \"dot\", \"size\": 10, \"title\": \"[\\u0027comedy\\u0027, \\u0027drama\\u0027]\"}, {\"id\": 246, \"label\": \"hardcore\", \"shape\": \"dot\", \"size\": 10, \"title\": \"[\\u0027drama\\u0027]\"}, {\"id\": 248, \"label\": \"the majestic\", \"shape\": \"dot\", \"size\": 10, \"title\": \"[\\u0027drama\\u0027, \\u0027romance\\u0027]\"}, {\"id\": 250, \"label\": \"barton fink\", \"shape\": \"dot\", \"size\": 10, \"title\": \"[\\u0027drama\\u0027, \\u0027mystery\\u0027, \\u0027thriller\\u0027]\"}, {\"id\": 253, \"label\": \"get shorty\", \"shape\": \"dot\", \"size\": 10, \"title\": \"[\\u0027comedy\\u0027, \\u0027crime\\u0027, \\u0027thriller\\u0027]\"}, {\"id\": 255, \"label\": \"batman\", \"shape\": \"dot\", \"size\": 10, \"title\": \"[\\u0027crime\\u0027, \\u0027drama\\u0027, \\u0027thriller\\u0027, \\u0027action\\u0027, \\u0027adventure\\u0027, \\u0027crime\\u0027]\"}, {\"id\": 258, \"label\": \"good will hunting\", \"shape\": \"dot\", \"size\": 10, \"title\": \"[\\u0027drama\\u0027]\"}, {\"id\": 261, \"label\": \"hannah and her sisters\", \"shape\": \"dot\", \"size\": 10, \"title\": \"[\\u0027comedy\\u0027, \\u0027drama\\u0027, \\u0027romance\\u0027]\"}, {\"id\": 262, \"label\": \"innerspace\", \"shape\": \"dot\", \"size\": 10, \"title\": \"[\\u0027action\\u0027, \\u0027adventure\\u0027, \\u0027comedy\\u0027, \\u0027crime\\u0027, \\u0027sci-fi\\u0027]\"}, {\"id\": 265, \"label\": \"never been kissed\", \"shape\": \"dot\", \"size\": 10, \"title\": \"[\\u0027comedy\\u0027, \\u0027drama\\u0027, \\u0027romance\\u0027]\"}, {\"id\": 270, \"label\": \"the thin man\", \"shape\": \"dot\", \"size\": 10, \"title\": \"[\\u0027comedy\\u0027, \\u0027crime\\u0027, \\u0027drama\\u0027, \\u0027mystery\\u0027, \\u0027romance\\u0027]\"}, {\"id\": 273, \"label\": \"the life of david gale\", \"shape\": \"dot\", \"size\": 10, \"title\": \"[\\u0027drama\\u0027, \\u0027crime\\u0027, \\u0027thriller\\u0027]\"}, {\"id\": 278, \"label\": \"the thing\", \"shape\": \"dot\", \"size\": 10, \"title\": \"[\\u0027horror\\u0027, \\u0027mystery\\u0027, \\u0027sci-fi\\u0027, \\u0027thriller\\u0027]\"}, {\"id\": 280, \"label\": \"five easy pieces\", \"shape\": \"dot\", \"size\": 10, \"title\": \"[\\u0027drama\\u0027]\"}, {\"id\": 282, \"label\": \"collateral\", \"shape\": \"dot\", \"size\": 10, \"title\": \"[\\u0027crime\\u0027, \\u0027drama\\u0027, \\u0027thriller\\u0027]\"}, {\"id\": 283, \"label\": \"hudson hawk\", \"shape\": \"dot\", \"size\": 10, \"title\": \"[\\u0027action\\u0027, \\u0027adventure\\u0027, \\u0027comedy\\u0027, \\u0027action\\u0027, \\u0027adventure\\u0027, \\u0027comedy\\u0027, \\u0027crime\\u0027]\"}, {\"id\": 284, \"label\": \"donnie darko\", \"shape\": \"dot\", \"size\": 10, \"title\": \"[\\u0027drama\\u0027, \\u0027mystery\\u0027, \\u0027sci-fi\\u0027]\"}, {\"id\": 285, \"label\": \"next friday\", \"shape\": \"dot\", \"size\": 10, \"title\": \"[\\u0027comedy\\u0027]\"}, {\"id\": 287, \"label\": \"broadcast news\", \"shape\": \"dot\", \"size\": 10, \"title\": \"[\\u0027comedy\\u0027, \\u0027drama\\u0027, \\u0027romance\\u0027]\"}, {\"id\": 288, \"label\": \"erin brockovich\", \"shape\": \"dot\", \"size\": 10, \"title\": \"[\\u0027biography\\u0027, \\u0027drama\\u0027, \\u0027romance\\u0027]\"}, {\"id\": 296, \"label\": \"do the right thing\", \"shape\": \"dot\", \"size\": 10, \"title\": \"[\\u0027drama\\u0027]\"}, {\"id\": 306, \"label\": \"face/off\", \"shape\": \"dot\", \"size\": 10, \"title\": \"[\\u0027action\\u0027, \\u0027crime\\u0027, \\u0027drama\\u0027, \\u0027sci-fi\\u0027, \\u0027thriller\\u0027]\"}, {\"id\": 307, \"label\": \"the godfather\", \"shape\": \"dot\", \"size\": 10, \"title\": \"[\\u0027crime\\u0027, \\u0027drama\\u0027, \\u0027thriller\\u0027]\"}, {\"id\": 310, \"label\": \"platinum blonde\", \"shape\": \"dot\", \"size\": 10, \"title\": \"[\\u0027comedy\\u0027, \\u0027romance\\u0027]\"}, {\"id\": 311, \"label\": \"backdraft\", \"shape\": \"dot\", \"size\": 10, \"title\": \"[\\u0027action\\u0027, \\u0027crime\\u0027, \\u0027drama\\u0027, \\u0027mystery\\u0027, \\u0027thriller\\u0027]\"}, {\"id\": 317, \"label\": \"election\", \"shape\": \"dot\", \"size\": 10, \"title\": \"[\\u0027comedy\\u0027, \\u0027drama\\u0027]\"}, {\"id\": 333, \"label\": \"made\", \"shape\": \"dot\", \"size\": 10, \"title\": \"[\\u0027comedy\\u0027, \\u0027crime\\u0027, \\u0027drama\\u0027, \\u0027thriller\\u0027]\"}, {\"id\": 344, \"label\": \"halloween h20: 20 years later\", \"shape\": \"dot\", \"size\": 10, \"title\": \"[\\u0027drama\\u0027, \\u0027horror\\u0027, \\u0027thriller\\u0027]\"}, {\"id\": 348, \"label\": \"it happened one night\", \"shape\": \"dot\", \"size\": 10, \"title\": \"[\\u0027comedy\\u0027, \\u0027romance\\u0027]\"}, {\"id\": 350, \"label\": \"nurse betty\", \"shape\": \"dot\", \"size\": 10, \"title\": \"[\\u0027comedy\\u0027, \\u0027crime\\u0027, \\u0027romance\\u0027, \\u0027thriller\\u0027]\"}, {\"id\": 352, \"label\": \"heathers\", \"shape\": \"dot\", \"size\": 10, \"title\": \"[\\u0027comedy\\u0027, \\u0027crime\\u0027]\"}, {\"id\": 353, \"label\": \"wonder boys\", \"shape\": \"dot\", \"size\": 10, \"title\": \"[\\u0027drama\\u0027, \\u0027comedy\\u0027]\"}, {\"id\": 354, \"label\": \"gods and monsters\", \"shape\": \"dot\", \"size\": 10, \"title\": \"[\\u0027biography\\u0027, \\u0027drama\\u0027]\"}, {\"id\": 356, \"label\": \"demolition man\", \"shape\": \"dot\", \"size\": 10, \"title\": \"[\\u0027action\\u0027, \\u0027crime\\u0027, \\u0027sci-fi\\u0027]\"}, {\"id\": 366, \"label\": \"scary movie 2\", \"shape\": \"dot\", \"size\": 10, \"title\": \"[\\u0027comedy\\u0027]\"}, {\"id\": 368, \"label\": \"lost highway\", \"shape\": \"dot\", \"size\": 10, \"title\": \"[\\u0027drama\\u0027, \\u0027horror\\u0027, \\u0027mystery\\u0027, \\u0027thriller\\u0027]\"}, {\"id\": 369, \"label\": \"blue velvet\", \"shape\": \"dot\", \"size\": 10, \"title\": \"[\\u0027crime\\u0027, \\u0027mystery\\u0027, \\u0027thriller\\u0027]\"}, {\"id\": 371, \"label\": \"twin peaks: fire walk with me\", \"shape\": \"dot\", \"size\": 10, \"title\": \"[\\u0027drama\\u0027, \\u0027horror\\u0027, \\u0027mystery\\u0027, \\u0027thriller\\u0027]\"}, {\"id\": 374, \"label\": \"bloodmoon\", \"shape\": \"dot\", \"size\": 10, \"title\": \"[\\u0027action\\u0027, \\u0027thriller\\u0027]\"}, {\"id\": 375, \"label\": \"a bucket of blood\", \"shape\": \"dot\", \"size\": 10, \"title\": \"[\\u0027comedy\\u0027, \\u0027horror\\u0027]\"}, {\"id\": 379, \"label\": \"nick of time\", \"shape\": \"dot\", \"size\": 10, \"title\": \"[\\u0027crime\\u0027, \\u0027drama\\u0027, \\u0027thriller\\u0027]\"}, {\"id\": 382, \"label\": \"cast away\", \"shape\": \"dot\", \"size\": 10, \"title\": \"[\\u0027adventure\\u0027, \\u0027drama\\u0027]\"}, {\"id\": 384, \"label\": \"chinatown\", \"shape\": \"dot\", \"size\": 10, \"title\": \"[\\u0027crime\\u0027, \\u0027drama\\u0027, \\u0027mystery\\u0027, \\u0027thriller\\u0027]\"}, {\"id\": 386, \"label\": \"beetle juice\", \"shape\": \"dot\", \"size\": 10, \"title\": \"[\\u0027comedy\\u0027, \\u0027fantasy\\u0027]\"}, {\"id\": 391, \"label\": \"metro\", \"shape\": \"dot\", \"size\": 10, \"title\": \"[\\u0027action\\u0027, \\u0027comedy\\u0027, \\u0027crime\\u0027, \\u0027drama\\u0027, \\u0027thriller\\u0027]\"}, {\"id\": 397, \"label\": \"strange days\", \"shape\": \"dot\", \"size\": 10, \"title\": \"[\\u0027action\\u0027, \\u0027crime\\u0027, \\u0027drama\\u0027, \\u0027fantasy\\u0027, \\u0027music\\u0027, \\u0027mystery\\u0027, \\u0027sci-fi\\u0027, \\u0027thriller\\u0027]\"}, {\"id\": 398, \"label\": \"the crow\", \"shape\": \"dot\", \"size\": 10, \"title\": \"[\\u0027action\\u0027, \\u0027crime\\u0027, \\u0027fantasy\\u0027, \\u0027thriller\\u0027]\"}, {\"id\": 400, \"label\": \"runaway bride\", \"shape\": \"dot\", \"size\": 10, \"title\": \"[\\u0027comedy\\u0027, \\u0027romance\\u0027]\"}, {\"id\": 401, \"label\": \"u turn\", \"shape\": \"dot\", \"size\": 10, \"title\": \"[\\u0027crime\\u0027, \\u0027drama\\u0027, \\u0027thriller\\u0027]\"}, {\"id\": 403, \"label\": \"witness\", \"shape\": \"dot\", \"size\": 10, \"title\": \"[\\u0027drama\\u0027, \\u0027romance\\u0027, \\u0027thriller\\u0027]\"}, {\"id\": 405, \"label\": \"american pie\", \"shape\": \"dot\", \"size\": 10, \"title\": \"[\\u0027comedy\\u0027, \\u0027romance\\u0027]\"}, {\"id\": 416, \"label\": \"15 minutes\", \"shape\": \"dot\", \"size\": 10, \"title\": \"[\\u0027action\\u0027, \\u0027crime\\u0027, \\u0027drama\\u0027, \\u0027thriller\\u0027]\"}, {\"id\": 417, \"label\": \"the verdict\", \"shape\": \"dot\", \"size\": 10, \"title\": \"[\\u0027drama\\u0027]\"}, {\"id\": 421, \"label\": \"buffy the vampire slayer\", \"shape\": \"dot\", \"size\": 10, \"title\": \"[\\u0027horror\\u0027, \\u0027comedy\\u0027, \\u0027action\\u0027]\"}, {\"id\": 434, \"label\": \"grosse pointe blank\", \"shape\": \"dot\", \"size\": 10, \"title\": \"[\\u0027comedy\\u0027, \\u0027crime\\u0027, \\u0027romance\\u0027, \\u0027thriller\\u0027]\"}, {\"id\": 438, \"label\": \"punch-drunk love\", \"shape\": \"dot\", \"size\": 10, \"title\": \"[\\u0027comedy\\u0027, \\u0027drama\\u0027, \\u0027romance\\u0027]\"}, {\"id\": 444, \"label\": \"assassins\", \"shape\": \"dot\", \"size\": 10, \"title\": \"[\\u0027action\\u0027, \\u0027thriller\\u0027, \\u0027crime\\u0027]\"}, {\"id\": 445, \"label\": \"sleepless in seattle\", \"shape\": \"dot\", \"size\": 10, \"title\": \"[\\u0027comedy\\u0027, \\u0027romance\\u0027, \\u0027drama\\u0027]\"}, {\"id\": 446, \"label\": \"u-turn\", \"shape\": \"dot\", \"size\": 10, \"title\": \"[\\u0027drama\\u0027]\"}, {\"id\": 447, \"label\": \"edtv\", \"shape\": \"dot\", \"size\": 10, \"title\": \"[\\u0027comedy\\u0027]\"}, {\"id\": 449, \"label\": \"jason goes to hell: the final friday\", \"shape\": \"dot\", \"size\": 10, \"title\": \"[\\u0027horror\\u0027, \\u0027thriller\\u0027]\"}, {\"id\": 450, \"label\": \"total recall\", \"shape\": \"dot\", \"size\": 10, \"title\": \"[\\u0027action\\u0027, \\u0027adventure\\u0027, \\u0027sci-fi\\u0027, \\u0027thriller\\u0027]\"}, {\"id\": 457, \"label\": \"slither\", \"shape\": \"dot\", \"size\": 10, \"title\": \"[\\u0027comedy\\u0027, \\u0027horror\\u0027, \\u0027sci-fi\\u0027]\"}, {\"id\": 459, \"label\": \"fletch\", \"shape\": \"dot\", \"size\": 10, \"title\": \"[\\u0027comedy\\u0027, \\u0027crime\\u0027, \\u0027mystery\\u0027]\"}, {\"id\": 462, \"label\": \"minority report\", \"shape\": \"dot\", \"size\": 10, \"title\": \"[\\u0027action\\u0027, \\u0027crime\\u0027, \\u0027mystery\\u0027, \\u0027sci-fi\\u0027, \\u0027thriller\\u0027, \\u0027action\\u0027, \\u0027animation\\u0027, \\u0027drama\\u0027, \\u0027mystery\\u0027, \\u0027sci-fi\\u0027, \\u0027thriller\\u0027]\"}, {\"id\": 465, \"label\": \"frances\", \"shape\": \"dot\", \"size\": 10, \"title\": \"[\\u0027biography\\u0027, \\u0027drama\\u0027]\"}, {\"id\": 489, \"label\": \"life as a house\", \"shape\": \"dot\", \"size\": 10, \"title\": \"[\\u0027drama\\u0027, \\u0027romance\\u0027]\"}, {\"id\": 492, \"label\": \"the salton sea\", \"shape\": \"dot\", \"size\": 10, \"title\": \"[\\u0027crime\\u0027, \\u0027drama\\u0027, \\u0027mystery\\u0027, \\u0027thriller\\u0027]\"}, {\"id\": 498, \"label\": \"playback\", \"shape\": \"dot\", \"size\": 10, \"title\": \"[\\u0027thriller\\u0027]\"}, {\"id\": 501, \"label\": \"wild things\", \"shape\": \"dot\", \"size\": 10, \"title\": \"[\\u0027crime\\u0027, \\u0027mystery\\u0027, \\u0027thriller\\u0027]\"}, {\"id\": 505, \"label\": \"rush hour 2\", \"shape\": \"dot\", \"size\": 10, \"title\": \"[\\u0027action\\u0027, \\u0027comedy\\u0027, \\u0027crime\\u0027, \\u0027thriller\\u0027]\"}, {\"id\": 507, \"label\": \"on the waterfront\", \"shape\": \"dot\", \"size\": 10, \"title\": \"[\\u0027crime\\u0027, \\u0027drama\\u0027, \\u0027romance\\u0027]\"}, {\"id\": 509, \"label\": \"halloween iii: season of the witch\", \"shape\": \"dot\", \"size\": 10, \"title\": \"[\\u0027horror\\u0027, \\u0027mystery\\u0027, \\u0027sci-fi\\u0027]\"}, {\"id\": 510, \"label\": \"i still know what you did last summer\", \"shape\": \"dot\", \"size\": 10, \"title\": \"[\\u0027horror\\u0027, \\u0027mystery\\u0027, \\u0027thriller\\u0027]\"}, {\"id\": 514, \"label\": \"the grifters\", \"shape\": \"dot\", \"size\": 10, \"title\": \"[\\u0027crime\\u0027, \\u0027drama\\u0027, \\u0027thriller\\u0027]\"}, {\"id\": 516, \"label\": \"juno\", \"shape\": \"dot\", \"size\": 10, \"title\": \"[\\u0027comedy\\u0027, \\u0027drama\\u0027]\"}, {\"id\": 520, \"label\": \"sideways\", \"shape\": \"dot\", \"size\": 10, \"title\": \"[\\u0027comedy\\u0027, \\u0027drama\\u0027, \\u0027romance\\u0027]\"}, {\"id\": 522, \"label\": \"fast times at ridgemont high\", \"shape\": \"dot\", \"size\": 10, \"title\": \"[\\u0027comedy\\u0027, \\u0027drama\\u0027, \\u0027romance\\u0027]\"}, {\"id\": 528, \"label\": \"verdict\", \"shape\": \"dot\", \"size\": 10, \"title\": \"[\\u0027drama\\u0027]\"}, {\"id\": 532, \"label\": \"scream 2\", \"shape\": \"dot\", \"size\": 10, \"title\": \"[\\u0027horror\\u0027, \\u0027mystery\\u0027, \\u0027thriller\\u0027]\"}, {\"id\": 536, \"label\": \"jaws 3-d\", \"shape\": \"dot\", \"size\": 10, \"title\": \"[\\u0027thriller\\u0027]\"}, {\"id\": 537, \"label\": \"superman\", \"shape\": \"dot\", \"size\": 10, \"title\": \"[\\u0027action\\u0027, \\u0027family\\u0027, \\u0027sci-fi\\u0027]\"}, {\"id\": 539, \"label\": \"watchmen\", \"shape\": \"dot\", \"size\": 10, \"title\": \"[\\u0027action\\u0027, \\u0027crime\\u0027, \\u0027fantasy\\u0027, \\u0027mystery\\u0027, \\u0027sci-fi\\u0027, \\u0027thriller\\u0027]\"}, {\"id\": 544, \"label\": \"a nightmare on elm street 3: dream warriors\", \"shape\": \"dot\", \"size\": 10, \"title\": \"[\\u0027fantasy\\u0027, \\u0027horror\\u0027, \\u0027thriller\\u0027]\"}, {\"id\": 545, \"label\": \"detroit rock city\", \"shape\": \"dot\", \"size\": 10, \"title\": \"[\\u0027comedy\\u0027, \\u0027music\\u0027]\"}, {\"id\": 552, \"label\": \"a nightmare on elm street: the dream child\", \"shape\": \"dot\", \"size\": 10, \"title\": \"[\\u0027fantasy\\u0027, \\u0027horror\\u0027, \\u0027thriller\\u0027]\"}, {\"id\": 555, \"label\": \"leviathan\", \"shape\": \"dot\", \"size\": 10, \"title\": \"[\\u0027adventure\\u0027, \\u0027horror\\u0027, \\u0027mystery\\u0027, \\u0027sci-fi\\u0027, \\u0027thriller\\u0027]\"}, {\"id\": 556, \"label\": \"le grand bleu\", \"shape\": \"dot\", \"size\": 10, \"title\": \"[\\u0027adventure\\u0027, \\u0027drama\\u0027, \\u0027romance\\u0027]\"}, {\"id\": 567, \"label\": \"the sweet hereafter\", \"shape\": \"dot\", \"size\": 10, \"title\": \"[\\u0027drama\\u0027]\"}, {\"id\": 575, \"label\": \"dark angel\", \"shape\": \"dot\", \"size\": 10, \"title\": \"[\\u0027action\\u0027, \\u0027crime\\u0027, \\u0027drama\\u0027, \\u0027horror\\u0027, \\u0027sci-fi\\u0027, \\u0027thriller\\u0027]\"}, {\"id\": 582, \"label\": \"casino\", \"shape\": \"dot\", \"size\": 10, \"title\": \"[\\u0027biography\\u0027, \\u0027crime\\u0027, \\u0027drama\\u0027]\"}, {\"id\": 583, \"label\": \"the bourne supremacy\", \"shape\": \"dot\", \"size\": 10, \"title\": \"[\\u0027action\\u0027, \\u0027adventure\\u0027, \\u0027mystery\\u0027, \\u0027thriller\\u0027]\"}, {\"id\": 586, \"label\": \"mimic\", \"shape\": \"dot\", \"size\": 10, \"title\": \"[\\u0027drama\\u0027, \\u0027horror\\u0027, \\u0027sci-fi\\u0027]\"}, {\"id\": 592, \"label\": \"storytelling\", \"shape\": \"dot\", \"size\": 10, \"title\": \"[\\u0027comedy\\u0027, \\u0027drama\\u0027]\"}, {\"id\": 596, \"label\": \"true romance\", \"shape\": \"dot\", \"size\": 10, \"title\": \"[\\u0027crime\\u0027, \\u0027romance\\u0027, \\u0027thriller\\u0027]\"}, {\"id\": 597, \"label\": \"rush hour\", \"shape\": \"dot\", \"size\": 10, \"title\": \"[\\u0027action\\u0027, \\u0027comedy\\u0027, \\u0027thriller\\u0027, \\u0027crime\\u0027]\"}, {\"id\": 599, \"label\": \"only you\", \"shape\": \"dot\", \"size\": 10, \"title\": \"[\\u0027comedy\\u0027, \\u0027romance\\u0027]\"}, {\"id\": 604, \"label\": \"my girl 2\", \"shape\": \"dot\", \"size\": 10, \"title\": \"[\\u0027comedy\\u0027, \\u0027drama\\u0027, \\u0027family\\u0027, \\u0027romance\\u0027]\"}, {\"id\": 608, \"label\": \"clerks.\", \"shape\": \"dot\", \"size\": 10, \"title\": \"[\\u0027comedy\\u0027]\"}]);\n        edges = new vis.DataSet([{\"from\": 417, \"to\": 528, \"value\": 9.999369978904724}, {\"from\": 369, \"to\": 374, \"value\": 9.993388056755066}, {\"from\": 401, \"to\": 446, \"value\": 9.975515007972717}, {\"from\": 63, \"to\": 307, \"value\": 9.97096061706543}, {\"from\": 213, \"to\": 397, \"value\": 9.964092373847961}, {\"from\": 287, \"to\": 400, \"value\": 9.963757991790771}, {\"from\": 50, \"to\": 253, \"value\": 9.963141083717346}, {\"from\": 12, \"to\": 532, \"value\": 9.962571859359741}, {\"from\": 52, \"to\": 459, \"value\": 9.962384700775146}, {\"from\": 219, \"to\": 400, \"value\": 9.962378144264221}, {\"from\": 50, \"to\": 153, \"value\": 9.961930513381958}, {\"from\": 12, \"to\": 96, \"value\": 9.961544275283813}, {\"from\": 34, \"to\": 150, \"value\": 9.960694313049316}, {\"from\": 128, \"to\": 459, \"value\": 9.960548281669617}, {\"from\": 384, \"to\": 459, \"value\": 9.96036410331726}, {\"from\": 270, \"to\": 384, \"value\": 9.959939122200012}, {\"from\": 397, \"to\": 401, \"value\": 9.959772229194641}, {\"from\": 181, \"to\": 310, \"value\": 9.959284663200378}, {\"from\": 155, \"to\": 446, \"value\": 9.958943724632263}, {\"from\": 255, \"to\": 306, \"value\": 9.958788752555847}, {\"from\": 3, \"to\": 150, \"value\": 9.95870053768158}, {\"from\": 3, \"to\": 229, \"value\": 9.958374500274658}, {\"from\": 153, \"to\": 258, \"value\": 9.958135485649109}, {\"from\": 492, \"to\": 608, \"value\": 9.957801103591919}, {\"from\": 74, \"to\": 310, \"value\": 9.957587122917175}, {\"from\": 391, \"to\": 492, \"value\": 9.957571625709534}, {\"from\": 352, \"to\": 545, \"value\": 9.957558512687683}, {\"from\": 3, \"to\": 287, \"value\": 9.957515001296997}, {\"from\": 250, \"to\": 350, \"value\": 9.957478046417236}, {\"from\": 280, \"to\": 465, \"value\": 9.957137107849121}, {\"from\": 38, \"to\": 58, \"value\": 9.957026839256287}, {\"from\": 83, \"to\": 176, \"value\": 9.9569171667099}, {\"from\": 52, \"to\": 371, \"value\": 9.956875443458557}, {\"from\": 170, \"to\": 445, \"value\": 9.95676040649414}, {\"from\": 348, \"to\": 514, \"value\": 9.956752061843872}, {\"from\": 273, \"to\": 596, \"value\": 9.956691861152649}, {\"from\": 153, \"to\": 575, \"value\": 9.956682920455933}, {\"from\": 155, \"to\": 401, \"value\": 9.956641793251038}, {\"from\": 96, \"to\": 368, \"value\": 9.956411719322205}, {\"from\": 150, \"to\": 287, \"value\": 9.956334233283997}, {\"from\": 143, \"to\": 284, \"value\": 9.956164956092834}, {\"from\": 229, \"to\": 287, \"value\": 9.9561607837677}, {\"from\": 12, \"to\": 41, \"value\": 9.95609700679779}, {\"from\": 567, \"to\": 599, \"value\": 9.955756664276123}, {\"from\": 150, \"to\": 229, \"value\": 9.95565414428711}, {\"from\": 123, \"to\": 522, \"value\": 9.955641031265259}, {\"from\": 52, \"to\": 416, \"value\": 9.955627918243408}, {\"from\": 306, \"to\": 539, \"value\": 9.955625534057617}, {\"from\": 4, \"to\": 24, \"value\": 9.955593347549438}, {\"from\": 15, \"to\": 248, \"value\": 9.955525398254395}, {\"from\": 225, \"to\": 416, \"value\": 9.95521068572998}, {\"from\": 0, \"to\": 537, \"value\": 9.955110549926758}, {\"from\": 317, \"to\": 400, \"value\": 9.95496392250061}, {\"from\": 130, \"to\": 492, \"value\": 9.954742193222046}, {\"from\": 403, \"to\": 462, \"value\": 9.954673647880554}, {\"from\": 155, \"to\": 273, \"value\": 9.954643249511719}, {\"from\": 81, \"to\": 176, \"value\": 9.954591989517212}, {\"from\": 219, \"to\": 447, \"value\": 9.954555630683899}, {\"from\": 152, \"to\": 421, \"value\": 9.954060316085815}, {\"from\": 58, \"to\": 287, \"value\": 9.9540513753891}, {\"from\": 50, \"to\": 155, \"value\": 9.953964352607727}, {\"from\": 366, \"to\": 421, \"value\": 9.953916668891907}, {\"from\": 352, \"to\": 516, \"value\": 9.953786134719849}, {\"from\": 384, \"to\": 567, \"value\": 9.953775405883789}, {\"from\": 96, \"to\": 510, \"value\": 9.953728318214417}, {\"from\": 258, \"to\": 608, \"value\": 9.953665733337402}, {\"from\": 43, \"to\": 397, \"value\": 9.953445196151733}, {\"from\": 12, \"to\": 344, \"value\": 9.953411221504211}, {\"from\": 405, \"to\": 592, \"value\": 9.953404664993286}, {\"from\": 128, \"to\": 514, \"value\": 9.9532949924469}, {\"from\": 4, \"to\": 391, \"value\": 9.953280687332153}, {\"from\": 38, \"to\": 170, \"value\": 9.953221678733826}, {\"from\": 151, \"to\": 244, \"value\": 9.953170418739319}, {\"from\": 219, \"to\": 287, \"value\": 9.953139424324036}, {\"from\": 265, \"to\": 516, \"value\": 9.953030347824097}, {\"from\": 96, \"to\": 449, \"value\": 9.952924847602844}, {\"from\": 170, \"to\": 190, \"value\": 9.9528968334198}, {\"from\": 371, \"to\": 459, \"value\": 9.952694177627563}, {\"from\": 223, \"to\": 462, \"value\": 9.95268166065216}, {\"from\": 150, \"to\": 400, \"value\": 9.95258629322052}, {\"from\": 258, \"to\": 575, \"value\": 9.952519536018372}, {\"from\": 400, \"to\": 434, \"value\": 9.952501058578491}, {\"from\": 287, \"to\": 317, \"value\": 9.952426552772522}, {\"from\": 130, \"to\": 398, \"value\": 9.952194094657898}, {\"from\": 4, \"to\": 505, \"value\": 9.952084422111511}, {\"from\": 391, \"to\": 575, \"value\": 9.952058792114258}, {\"from\": 150, \"to\": 604, \"value\": 9.952028393745422}, {\"from\": 278, \"to\": 555, \"value\": 9.951978921890259}, {\"from\": 129, \"to\": 181, \"value\": 9.9519681930542}, {\"from\": 131, \"to\": 444, \"value\": 9.951887130737305}, {\"from\": 246, \"to\": 416, \"value\": 9.951883554458618}, {\"from\": 43, \"to\": 213, \"value\": 9.95187520980835}, {\"from\": 138, \"to\": 391, \"value\": 9.951847791671753}, {\"from\": 462, \"to\": 583, \"value\": 9.951798915863037}, {\"from\": 38, \"to\": 317, \"value\": 9.951767325401306}, {\"from\": 401, \"to\": 507, \"value\": 9.951735138893127}, {\"from\": 156, \"to\": 241, \"value\": 9.951657056808472}, {\"from\": 34, \"to\": 400, \"value\": 9.951638579368591}, {\"from\": 41, \"to\": 379, \"value\": 9.95156705379486}, {\"from\": 167, \"to\": 522, \"value\": 9.9515300989151}, {\"from\": 30, \"to\": 262, \"value\": 9.951528310775757}, {\"from\": 371, \"to\": 567, \"value\": 9.951490759849548}, {\"from\": 285, \"to\": 296, \"value\": 9.951319694519043}, {\"from\": 154, \"to\": 489, \"value\": 9.951318502426147}, {\"from\": 285, \"to\": 333, \"value\": 9.951311349868774}, {\"from\": 447, \"to\": 592, \"value\": 9.951284527778625}, {\"from\": 50, \"to\": 258, \"value\": 9.95122492313385}, {\"from\": 270, \"to\": 353, \"value\": 9.95121955871582}, {\"from\": 459, \"to\": 498, \"value\": 9.95121955871582}, {\"from\": 34, \"to\": 180, \"value\": 9.951159954071045}, {\"from\": 229, \"to\": 400, \"value\": 9.951081275939941}, {\"from\": 400, \"to\": 447, \"value\": 9.950997829437256}, {\"from\": 52, \"to\": 128, \"value\": 9.950898289680481}, {\"from\": 138, \"to\": 462, \"value\": 9.950894713401794}, {\"from\": 225, \"to\": 450, \"value\": 9.950866103172302}, {\"from\": 261, \"to\": 405, \"value\": 9.950841069221497}, {\"from\": 138, \"to\": 444, \"value\": 9.950825572013855}, {\"from\": 258, \"to\": 492, \"value\": 9.950810074806213}, {\"from\": 532, \"to\": 544, \"value\": 9.95076835155487}, {\"from\": 83, \"to\": 492, \"value\": 9.9507337808609}, {\"from\": 178, \"to\": 401, \"value\": 9.950684905052185}, {\"from\": 12, \"to\": 371, \"value\": 9.950611591339111}, {\"from\": 48, \"to\": 202, \"value\": 9.950470924377441}, {\"from\": 353, \"to\": 400, \"value\": 9.950418472290039}, {\"from\": 96, \"to\": 167, \"value\": 9.950399398803711}, {\"from\": 38, \"to\": 400, \"value\": 9.950300455093384}, {\"from\": 58, \"to\": 400, \"value\": 9.950282573699951}, {\"from\": 152, \"to\": 522, \"value\": 9.950130581855774}, {\"from\": 47, \"to\": 507, \"value\": 9.950072765350342}, {\"from\": 155, \"to\": 457, \"value\": 9.950072169303894}, {\"from\": 375, \"to\": 556, \"value\": 9.950016736984253}, {\"from\": 218, \"to\": 288, \"value\": 9.950001239776611}, {\"from\": 356, \"to\": 391, \"value\": 9.949999451637268}, {\"from\": 311, \"to\": 397, \"value\": 9.949941039085388}, {\"from\": 129, \"to\": 354, \"value\": 9.949896931648254}, {\"from\": 96, \"to\": 282, \"value\": 9.94985818862915}, {\"from\": 32, \"to\": 130, \"value\": 9.949851036071777}, {\"from\": 214, \"to\": 350, \"value\": 9.949840903282166}, {\"from\": 52, \"to\": 270, \"value\": 9.949820637702942}, {\"from\": 157, \"to\": 170, \"value\": 9.949784874916077}, {\"from\": 214, \"to\": 283, \"value\": 9.949754476547241}, {\"from\": 41, \"to\": 510, \"value\": 9.949747920036316}, {\"from\": 400, \"to\": 445, \"value\": 9.949742555618286}, {\"from\": 544, \"to\": 552, \"value\": 9.949661493301392}, {\"from\": 137, \"to\": 261, \"value\": 9.949615597724915}, {\"from\": 152, \"to\": 241, \"value\": 9.949581623077393}, {\"from\": 164, \"to\": 509, \"value\": 9.9495530128479}, {\"from\": 155, \"to\": 178, \"value\": 9.949464201927185}, {\"from\": 353, \"to\": 599, \"value\": 9.949420094490051}, {\"from\": 229, \"to\": 599, \"value\": 9.949408173561096}, {\"from\": 196, \"to\": 282, \"value\": 9.949252009391785}, {\"from\": 194, \"to\": 582, \"value\": 9.949219822883606}, {\"from\": 520, \"to\": 522, \"value\": 9.94920790195465}, {\"from\": 374, \"to\": 522, \"value\": 9.949203133583069}, {\"from\": 41, \"to\": 450, \"value\": 9.949172735214233}, {\"from\": 176, \"to\": 450, \"value\": 9.949156045913696}, {\"from\": 203, \"to\": 353, \"value\": 9.949155449867249}, {\"from\": 83, \"to\": 225, \"value\": 9.949124455451965}, {\"from\": 224, \"to\": 438, \"value\": 9.94908094406128}, {\"from\": 501, \"to\": 575, \"value\": 9.94904637336731}, {\"from\": 161, \"to\": 520, \"value\": 9.949002265930176}, {\"from\": 382, \"to\": 536, \"value\": 9.948972463607788}, {\"from\": 255, \"to\": 539, \"value\": 9.948962330818176}, {\"from\": 170, \"to\": 400, \"value\": 9.948959946632385}, {\"from\": 52, \"to\": 246, \"value\": 9.948952794075012}, {\"from\": 190, \"to\": 567, \"value\": 9.948944449424744}, {\"from\": 258, \"to\": 597, \"value\": 9.94893193244934}, {\"from\": 253, \"to\": 397, \"value\": 9.948930740356445}, {\"from\": 34, \"to\": 170, \"value\": 9.948828220367432}, {\"from\": 123, \"to\": 128, \"value\": 9.94880199432373}, {\"from\": 445, \"to\": 599, \"value\": 9.948768019676208}, {\"from\": 156, \"to\": 218, \"value\": 9.948754906654358}, {\"from\": 48, \"to\": 416, \"value\": 9.948749542236328}, {\"from\": 50, \"to\": 401, \"value\": 9.948731660842896}, {\"from\": 153, \"to\": 253, \"value\": 9.948694109916687}, {\"from\": 189, \"to\": 216, \"value\": 9.948686957359314}, {\"from\": 405, \"to\": 447, \"value\": 9.948658347129822}, {\"from\": 41, \"to\": 223, \"value\": 9.948625564575195}, {\"from\": 278, \"to\": 586, \"value\": 9.948559999465942}, {\"from\": 130, \"to\": 152, \"value\": 9.948533773422241}, {\"from\": 4, \"to\": 416, \"value\": 9.94849443435669}, {\"from\": 96, \"to\": 164, \"value\": 9.948466420173645}, {\"from\": 11, \"to\": 386, \"value\": 9.948461651802063}, {\"from\": 163, \"to\": 200, \"value\": 9.948439002037048}, {\"from\": 152, \"to\": 366, \"value\": 9.948419332504272}, {\"from\": 143, \"to\": 150, \"value\": 9.948395490646362}, {\"from\": 12, \"to\": 510, \"value\": 9.948393106460571}, {\"from\": 225, \"to\": 492, \"value\": 9.948382377624512}, {\"from\": 96, \"to\": 224, \"value\": 9.948374032974243}, {\"from\": 138, \"to\": 599, \"value\": 9.948357343673706}, {\"from\": 241, \"to\": 522, \"value\": 9.948342442512512}, {\"from\": 156, \"to\": 514, \"value\": 9.948315024375916}]);\n\n        // adding nodes and edges to the graph\n        data = {nodes: nodes, edges: edges};\n\n        var options = {\n    \"configure\": {\n        \"enabled\": false\n    },\n    \"edges\": {\n        \"color\": {\n            \"inherit\": true\n        },\n        \"smooth\": {\n            \"enabled\": false,\n            \"type\": \"continuous\"\n        }\n    },\n    \"interaction\": {\n        \"dragNodes\": true,\n        \"hideEdgesOnDrag\": false,\n        \"hideNodesOnDrag\": false\n    },\n    \"physics\": {\n        \"enabled\": true,\n        \"stabilization\": {\n            \"enabled\": true,\n            \"fit\": true,\n            \"iterations\": 1000,\n            \"onlyDynamicEdges\": false,\n            \"updateInterval\": 50\n        }\n    }\n};\n        \n        \n\n        \n\n        network = new vis.Network(container, data, options);\n\t \n        \n\n\n        \n        network.on(\"stabilizationProgress\", function(params) {\n      \t\tdocument.getElementById('loadingBar').removeAttribute(\"style\");\n\t        var maxWidth = 496;\n\t        var minWidth = 20;\n\t        var widthFactor = params.iterations/params.total;\n\t        var width = Math.max(minWidth,maxWidth * widthFactor);\n\n\t        document.getElementById('bar').style.width = width + 'px';\n\t        document.getElementById('text').innerHTML = Math.round(widthFactor*100) + '%';\n\t    });\n\t    network.once(\"stabilizationIterationsDone\", function() {\n\t        document.getElementById('text').innerHTML = '100%';\n\t        document.getElementById('bar').style.width = '496px';\n\t        document.getElementById('loadingBar').style.opacity = 0;\n\t        // really clean the dom element\n\t        setTimeout(function () {document.getElementById('loadingBar').style.display = 'none';}, 500);\n\t    });\n        \n\n        return network;\n\n    }\n\n    drawGraph();\n\n</script>\n</body>\n</html>"
     },
     "metadata": {},
     "output_type": "display_data"
    }
   ],
   "source": [
    "movies_embeddings = []\n",
    "for movie_id, cluster_data in clusters_embeddings.items():\n",
    "    movie_embedding = torch.mean(cluster_data['cluster_embeddings'], dim=0)\n",
    "    movies_embeddings.append((\n",
    "        movie_embedding,\n",
    "        movie_id\n",
    "    ))\n",
    "\n",
    "similar_movie_pairs = get_similar_dialog_pairs(movies_embeddings)\n",
    "similar_movie_pairs = similar_movie_pairs[: len(movie_embedding) // 4]\n",
    "\n",
    "\n",
    "def get_movies_network(movies_tuples, similar_pairs):\n",
    "    similarity_network = Network(width=\"1080\", notebook=True)\n",
    "\n",
    "    connected_nodes = set()\n",
    "    for node1, node2, _ in similar_pairs:\n",
    "        connected_nodes.add(node1)\n",
    "        connected_nodes.add(node2)\n",
    "\n",
    "    for i, (_, movie_id) in enumerate(movies_tuples):\n",
    "        if i in connected_nodes:\n",
    "            genres = str(movies[movie_id].genres)\n",
    "            title = movies[movie_id].title\n",
    "            similarity_network.add_node(i, label=title, title=genres, size=10)\n",
    "\n",
    "    for node1, node2, similarity in similar_pairs:\n",
    "        width = (similarity) * 10\n",
    "        similarity_network.add_edge(node1, node2, value=width)\n",
    "\n",
    "    return similarity_network\n",
    "\n",
    "movies_network = get_movies_network(movies_embeddings, similar_movie_pairs)\n",
    "movies_network.show('network.html')\n",
    "display(HTML('network.html'))"
   ]
  },
  {
   "cell_type": "markdown",
   "metadata": {
    "pycharm": {
     "name": "#%% md\n"
    }
   },
   "source": [
    "Okay, so we mapped all the movies into this map.\n",
    "Hovering on the node wil reveal the genre of the movie.\n",
    "\n",
    "Do we see any pattern?\n",
    "\n",
    "- small clusters of connected nodes are usually of the same genre.\n",
    "- connected islands usually contain common genre.\n",
    "- movie sequels are together\n",
    "\n",
    "All of this is achieved only with a pretrained model."
   ]
  },
  {
   "cell_type": "markdown",
   "metadata": {
    "pycharm": {
     "name": "#%% md\n"
    }
   },
   "source": [
    "# Bag of words approach.\n",
    "\n",
    "A document is a collection of words in a document.\n",
    "\n",
    "When a word is repeated often in a document (tf) and does not repeat as often\n",
    "across documents (idf), then the word is important within that document.\n",
    "This is loosely how search engines work.\n",
    "\n",
    "- Here if we consider document as a conversation,\n",
    "then we will get significant words within a conversation.\n",
    "\n",
    "- If we consider document as a movie,\n",
    "then we will get significant words within a movie.\n",
    "\n",
    "- If we consider document as all the movies in a genre,\n",
    "then we will get significant words within a genre.\n",
    "\n",
    "---"
   ]
  },
  {
   "cell_type": "code",
   "execution_count": 62,
   "outputs": [
    {
     "data": {
      "text/plain": "['example', 'sentence', 'akhil', 'friends', 'cars']"
     },
     "execution_count": 62,
     "metadata": {},
     "output_type": "execute_result"
    }
   ],
   "source": [
    "spacy_nlp = spacy.load('en_core_web_sm', disable=['tok2vec', 'parser', 'ner'])\n",
    "\n",
    "\n",
    "def extract_words(text):\n",
    "    # Without this, there will a ' ' (space) word\n",
    "    text = re.sub(r'\\s+', ' ', text)\n",
    "    doc = spacy_nlp(text)\n",
    "    # Words without stopwords\n",
    "    words = [token.lemma_ for token in doc if not token.is_stop and not token.is_punct]\n",
    "    return words\n",
    "\n",
    "\n",
    "extract_words('This is an example of  a sentence. Akhil\\'s friends have many cars')"
   ],
   "metadata": {
    "collapsed": false,
    "pycharm": {
     "name": "#%%\n"
    }
   }
  },
  {
   "cell_type": "code",
   "execution_count": 63,
   "outputs": [],
   "source": [
    "bags_of_words_conversation = []\n",
    "for conversation in random_movie.conversations:\n",
    "    mini_doc_words = []\n",
    "    for dialog in conversation.dialogs:\n",
    "        tokens = extract_words(dialog.dialog)\n",
    "        mini_doc_words.append(tokens)\n",
    "    bags_of_words_conversation.append(mini_doc_words)"
   ],
   "metadata": {
    "collapsed": false,
    "pycharm": {
     "name": "#%%\n"
    }
   }
  },
  {
   "cell_type": "code",
   "execution_count": 64,
   "outputs": [],
   "source": [
    "def _get_word_counts_for_doc_and_mini_doc(bags_of_words) -> List[Dict[str, Dict[str, int]]]:\n",
    "    \"\"\"\n",
    "    refer caller for bags_of_words\n",
    "    \"\"\"\n",
    "    num_documents = len(bags_of_words)\n",
    "    word_count_documents = [{} for _ in range(num_documents)]\n",
    "\n",
    "    for d in range(num_documents):\n",
    "        word_count_mini_doc = word_count_documents[d]\n",
    "\n",
    "        for mini_doc in bags_of_words[d]:\n",
    "            word_counts = Counter(mini_doc)\n",
    "\n",
    "            for word, count in word_counts.items():\n",
    "                doc_word_count = word_count_mini_doc.get(word, {'mini_doc_count': 0, 'doc_count': 0})\n",
    "                doc_word_count['mini_doc_count'] += 1\n",
    "                doc_word_count['doc_count'] += count\n",
    "                word_count_documents[d][word] = doc_word_count\n",
    "\n",
    "    return word_count_documents\n",
    "\n",
    "\n",
    "def _filter_words(word_count_documents, min_tf, min_df, min_mini_df):\n",
    "    # Remove words that are too infrequent.\n",
    "\n",
    "    for i, words_count in enumerate(word_count_documents):\n",
    "        words_to_remove = []\n",
    "        for word, word_count in words_count.items():\n",
    "            word_frequency = word_count['doc_count']  # / word_count['mini_doc_count']\n",
    "            mini_doc_frequency = word_count['mini_doc_count']  # / len(word_count_documents)\n",
    "            if word_frequency < min_tf or mini_doc_frequency < min_mini_df:\n",
    "                words_to_remove.append(word)\n",
    "                # print(f'{word=}, {word_count=}')\n",
    "        for word in words_to_remove:\n",
    "            del words_count[word]\n",
    "\n",
    "    # Remove if word does not appear for min_df documents.\n",
    "    total_word_counts = [word for doc_counts in word_count_documents for word in doc_counts]\n",
    "    total_word_counts = Counter(total_word_counts)\n",
    "    words_to_remove = [word for word in total_word_counts if total_word_counts[word] < min_df]\n",
    "\n",
    "    for i, words_count in enumerate(word_count_documents):\n",
    "        for word in words_to_remove:\n",
    "            del words_count[word]\n",
    "\n",
    "    return word_count_documents\n",
    "\n",
    "\n",
    "def get_top_k_indices_from_tfidf(tfidf, all_words, k):\n",
    "    # Okay, now that we have tf-idf matrix,\n",
    "    # Let's find the highest ranking top k words for each genre.\n",
    "\n",
    "    top_k = []\n",
    "\n",
    "    for i in range(len(tfidf)):\n",
    "        tfidf_ranks = tfidf[i]\n",
    "        indices = list(range(len(tfidf_ranks)))\n",
    "\n",
    "        zipped = zip(tfidf_ranks, indices)\n",
    "        pairs = heapq.nlargest(k, zipped)\n",
    "        keywords = [all_words[pair[1]] for pair in pairs]\n",
    "\n",
    "        top_k.append(keywords)\n",
    "\n",
    "    return top_k\n",
    "\n",
    "\n",
    "def custom_tf_idf(bags_of_words: List[List[List[str]]], min_tf=1, min_df=1, min_mini_df=1, top_k=10):\n",
    "    \"\"\"\n",
    "    bags_of_words is a list of documents.\n",
    "    a document is a list of mini_documents.\n",
    "    a mini_document is a list of word tokens.\n",
    "\n",
    "    min_tf is the minimum term frequency in a document.\n",
    "\n",
    "    min_df is the minimum # of documents a word should repeat.\n",
    "\n",
    "    min_mini_df is the minimum # of mini-documents a word should repeat.\n",
    "    \"\"\"\n",
    "\n",
    "    word_count_documents = _get_word_counts_for_doc_and_mini_doc(bags_of_words)\n",
    "    word_count_documents = _filter_words(word_count_documents, min_tf, min_df, min_mini_df)\n",
    "\n",
    "    all_words = list(set([word for doc_counts in word_count_documents for word in doc_counts]))\n",
    "\n",
    "    frequency_matrix = np.zeros((len(bags_of_words), len(all_words)), dtype=int)\n",
    "\n",
    "    for i in range(len(bags_of_words)):\n",
    "        for j, word in enumerate(all_words):\n",
    "            if word in word_count_documents[i]:\n",
    "                frequency = word_count_documents[i][word]\n",
    "                frequency = frequency['doc_count']  # / frequency['mini_doc_count']\n",
    "                frequency_matrix[i][j] = frequency\n",
    "\n",
    "    inter_doc_word_counts = frequency_matrix.sum(0)\n",
    "    tfidf = frequency_matrix / inter_doc_word_counts\n",
    "\n",
    "    top_k = get_top_k_indices_from_tfidf(tfidf, all_words, k=top_k)\n",
    "\n",
    "    return top_k"
   ],
   "metadata": {
    "collapsed": false,
    "pycharm": {
     "name": "#%%\n"
    }
   }
  },
  {
   "cell_type": "code",
   "execution_count": 65,
   "outputs": [
    {
     "data": {
      "text/plain": "[['hello', 'tom', 'want', 'nightmare', 'later'],\n ['wants', 'anybody', 'suppose', 'money', 'told'],\n ['broke', 'credit', 'crowd', 'greatest\\x97', 'flat'],\n ['mortgages', 'turning', 'perfectly', 'investment', 'widows'],\n ['foreclose', 'sure\\x97', 'pay', 'sure', 'wo'],\n ['detectives', 'knocked', 'stairs', 'tough', 'kidding'],\n ['manville', 'payrolls', 'thousand', 'week', 'yeah'],\n ['favor', 'bucks', 'quit', 'charlie', 'yeah'],\n ['break', 'level', 'saturday', 'finds', 'baby'],\n ['nerts', 'depression', 'pal', 'kick', 'hear'],\n ['stroll', 'park', 'baby', 'took', 'think'],\n ['mistake', 'checked', 'date', 'fourteen', 'remember'],\n ['squawks', 'setting', 'troubles', 'annoy', 'wise'],\n ['delay', 'clark', 'waiting', 'comes', 'room'],\n ['paper', 'tolerate', 'institution', 'unsecured', 'fools'],\n ['schultz', 'doubtful', 'trust\\x97', 'agree', 'loans'],\n ['idiotic', 'loans', 'clark', 'depositors', 'easy'],\n ['hearing', 'gives', 'wants', 'control', 'shut'],\n ['ball', 'ahead', 'valuable', 'anything\\x97', 'found'],\n ['pure', 'policy', 'losses', 'wrong', 'luck'],\n ['country', 'pull', 'idea[5', 'words', 'finest'],\n ['community', 'emergency', 'fathers', 'mothers', 'seen'],\n ['wishes', 'insists', 'offer', 'consider', 'notice'],\n ['discuss', 'room', 'board', 'talk', 'want'],\n ['willing', 'fortunes', 'worked', 'alive', 'jeopardize'],\n ['president', 'throw', 'rubbish', 'wrecked', 'pleaded'],\n ['liquidate', 'month', 'garage', 'bill', 'insist'],\n ['talk', 'bank', 'like', 'want', 'right'],\n ['collateral', 'demonstration', 'pawnbrokers', 'minutes\\x97', 'world'],\n ['asking', 'hope', 'questions', 'simple', 'inspector'],\n ['essential', 'necessary', 'assume', 'lady', 'prove'],\n [\"case'll\", 'humor', 'news', 'settled', 'sings'],\n ['drop', 'jack', 'shoot', 'gun', 'inspector'],\n ['shoot', 'fool', 'inspector', 'stand', 'worse'],\n ['keys', 'went', 'took', 'yesterday', 'finlay'],\n ['downstairs', 'die', 'claims', 'daze', 'wandered'],\n ['nightmare', 'thief', 'gambling', 'owed', 'heaven'],\n ['saying', 'mentioned', 'attention', 'drink', 'apartment'],\n ['begged', 'blame', 'fault', \"didn't\\x97\", 'honest'],\n ['funeral', 'welchers', 'completely', 'comin', 'head'],\n ['\\x97', 'dough', 'gamble', 'stone', 'beat'],\n ['suggesting', 'heavens', 'i\\x97', 'man', 'good'],\n ['ta', 'rest', 'mean', 'fix', 'things'],\n ['but\\x97', 'involved', 'responsible', 'buddy', 'asked'],\n ['a\\x97', 'needed', 'hours', 'business', 'wo'],\n ['trembling', 'celebrated', 'awful', 'suffering', 'bounder'],\n ['\\x97running', 'riot', 'start', 'slightest', 'curious'],\n ['concerned', 'thrown', 'blarney', 'bit', 'class'],\n ['famously', 'phyllis', 'getting', 'tonight', 'yes'],\n ['convinced', 'highly', 'congratulations', 'order', 'recommend'],\n ['months', 'surprise', 'bore', 'sport', 'respectable'],\n ['longer\\x97', 'insane\\x97', 'deliberately', 'loved', 'avoided'],\n ['meetings', 'papa', 'rushing', 'closing', 'spank'],\n ['badly', 'bachelor', 'misunderstood', 'wives', 'medal'],\n ['power', 'fair', 'moustache', 'grow', 'woman'],\n ['matt', 'nightmare', 'later', 'wishes', 'enthusiasm'],\n ['ready', 'book', 'payrolls', 'cash', 'tomorrow'],\n ['butler', 'stay', 'told', 'said', 'important'],\n ['expected', 'listening', 'funny', 'kind', 'little'],\n ['wait', 'mrs.', 'cluett', 'morning', 'oh'],\n ['opinion', 'finds', 'gon', 'na', 'interested'],\n ['breath', 'father', 'deserve', 'wasting', 'business'],\n ['handkerchief', 'john', 'thank', 'morning', 'better'],\n ['unanimous', 'me\\x97', 'excuse', 'feel', 'fine'],\n ['shall', 'late', 'people', 'let', 'course'],\n ['bad', 'better', 'wife', 'morning', 'good'],\n ['darling', 'hello', 'look', 'dear', 'nightmare'],\n ['lovely', 'complete', 'red', 'visit', 'amazing'],\n ['forgotten', 'date', 'sorry', 'tonight', 'terribly'],\n ['gwynn\\x97', 'planned', 'occurred', 'promised', 'theatre'],\n ['ho', 'suspect', 'tickets', 'attractive', 'head'],\n ['postpone', 'happy', 'tomorrow', 'thing', 'night'],\n ['er', 'ask', 'dear', 'truth', 'uh'],\n ['beautiful', 'sacrifice', 'faces', 'ummm', 'directors'],\n ['longer', 'stories', 'new', 'morning', 'got'],\n ['helen', 'sir', 'want', 'matt', 'tell'],\n ['arrest', 'worry', 'office', 'sampson', 'think'],\n ['action', 'winslow', 'leeds', 'union', 'harris'],\n ['numbers', 'rest', 'mind', 'want', 'mr.'],\n ['morning', 'good', 'matter', 'helen', 'matt'],\n ['honeymoon', 'married', 'going', 'mrs.', 'oh'],\n ['closes', 'arrangements', 'soon', 'philadelphia', 'helen'],\n ['send', 'sampson', 'right', 'yes', 'mr.'],\n ['phone', 'helen', 'mrs.', 'yes', 'dickson'],\n ['pembroke', 'letter', 'thank', 'hello', 'morning'],\n ['spoke', 'ah', 'guaranty', 'pembroke', 'schaffer'],\n ['property', 'schaffer', 'care', 'worth', 'mortgage'],\n ['goodness', 'uniform', 'cost', 'sent', 'ought'],\n ['blue', 'uniform', 'sir', 'oh', 'yes'],\n ['cost', 'bought', 'looks', 'uniform', 'sampson'],\n ['sitting', 'desk', 'fellow', 'knows', 'work'],\n ['enthusiasm', 'fake', 'real', 'excited', 'swell'],\n ['satisfaction', 'able', 'sudden', 'great', 'fix'],\n ['told', 'home', 'nightmare', 'later', 'wishes'],\n ['charged', 'son', 'realize', 'murder', 'believe'],\n ['difference', 'protecting', 'trust', 'fool', 'somebody'],\n ['later', 'and\\x97', 'shots', 'couple', 'losing'],\n ['license', 'fire', 'downtown', 'hear', 'married'],\n ['reservations', 'berengaria', 'dickson\\x97', 'bridal', 'suite'],\n ['picture', 'suspicion', 'pick', 'vague', 'cinch'],\n ['happen', 'stopped', 'vault', 'proves', 'thirty'],\n ['released', 'coast', 'loud', 'report', 'says'],\n ['guilty', 'robbed', 'they\\x97', 'committed', 'i.'],\n ['true', 'knows', 'truth', 'course', 'help'],\n ['toughest', 'gangsters', 'confessed', 'known', 'town'],\n ['wonder', 'mention', 'wife', 'want', 'got'],\n ['check', 'telling', 'checking', 'anybody', 'headquarters'],\n ['data', 'clyde', 'deal', 'sampson', 'nightmare'],\n ['sign', 'closed', 'daytime', 'nights', 'weeks'],\n ['lobby', 'filled', 'talking', 'half', 'nightmare'],\n ['reserve', 'steady', 'extra', 'close', 'police'],\n ['flurry', 'stuff', 'nickel', 'arguing', 'reputation'],\n ['runs', 'mob', 'place', 'securities', 'soon'],\n ['heads', 'verify', \"'em\", 'rumor', 'starts'],\n ['till', 'open', 'hour', \"o'clock\", 'cash'],\n ['fives', 'hate', 'bills', 'count', 'distribute'],\n [\"ma'am\", 'deposit', 'life', 'absolutely', 'insurance'],\n ['folks', 'ladies', 'quiet', 'life', 'insurance'],\n ['word', 'handle', 'useless', 'eyes', 'hardly'],\n ['buy', 'dynamite', 'gotten', 'rid', 'sticks'],\n ['honey', 'hello', 'come', 'helen', 'matt'],\n ['hey', 'likely', 'look', 'somebody', 'oh'],\n ['dying', 'dollars\\x97', 'friend', 'mother', 'believe'],\n ['lying', 'liar', 'called', 'forget', 'oh'],\n ['grand', 'merger', 'heard', 'swell', 'yeah'],\n ['job', 'happened', 'yeah', 'nightmare', 'later'],\n ['thrilled', 'love', 'death', 'gee', 'ago'],\n ['mistaken', 'saw', 'matt', 'tell', 'oh'],\n ['rat', 'office', 'crack', 'guy', 'cluett'],\n ['stiff-', 'necked', 'today', 'dollar.[6', 'horse'],\n ['shh', 'upstairs', 'dear', 'wait', 'right'],\n ['cry', 'gon', 'na', 'honey', 'matt'],\n ['biggest', 'anymore', 'turn', 'trying', 'ought'],\n ['telephone', 'idea', 'talk', 'let', 'yeah'],\n ['conway', 'williams', 'screws', 'jones', 'jam'],\n ['yesterday', 'finlay', 'came', 'dude', 'sure'],\n ['chief', 'trailing', 'mike', 'joint', 'screwy'],\n ['fancy', 'wallpaper', 'house', 'best', 'young'],\n ['rheumatism', '\\x97for', 'late', 'halligan', 'work'],\n ['huh', 'after\\x97', 'sisters', 'dooley', 'half'],\n [\"'cause\", 'struck', 'cause', 'strikes', 'earlier'],\n ['it\\x97', 'young', 'liar', 'halligan', 'thanks'],\n ['shot', 'surprised', 'burglar', 'sit', 'place\\x97'],\n ['changed', 'know', 'nightmare', 'later', 'wishes'],\n ['uh', \"o'clock\", 'eh', 'sure', 'home'],\n ['honest', 'mr.', 'dickson', 'nightmare', 'later'],\n ['carrying', 'hank', 'turn', 'okay', 'better'],\n ['fixed', 'okay', 'matt', 'got', 'nightmare'],\n ['pocketbook', 'second', 'mug', 'reminds', 'dollar'],\n ['sore', 'pup', 'fourteen', 'everybody', 'upstairs'],\n ['starting', 'hands', 'waste', 'lay', 'certainly']]"
     },
     "execution_count": 65,
     "metadata": {},
     "output_type": "execute_result"
    }
   ],
   "source": [
    "topk = custom_tf_idf(bags_of_words_conversation, top_k=5)\n",
    "topk"
   ],
   "metadata": {
    "collapsed": false,
    "pycharm": {
     "name": "#%%\n"
    }
   }
  },
  {
   "cell_type": "code",
   "execution_count": null,
   "outputs": [],
   "source": [
    "\n",
    "# Find word counts for each genre.\n",
    "genre_words_count = {genre: {} for genre in all_genres}\n",
    "\n",
    "for _, movie in tqdm(movies.items()):\n",
    "    dialogs = '. '.join([d.dialog for conversation in movie.conversations for d in conversation.dialogs])\n",
    "    words = extract_words(dialogs)\n",
    "    word_frequencies = Counter(words)\n",
    "\n",
    "    for genre in movie.genres:\n",
    "        for word, count in word_frequencies.items():\n",
    "            genre_word_count = genre_words_count[genre].get(word, {'movie_count': 0, 'count': 0})\n",
    "            genre_word_count['movie_count'] += 1\n",
    "            genre_word_count['count'] += count\n",
    "            genre_words_count[genre][word] = genre_word_count"
   ],
   "metadata": {
    "collapsed": false,
    "pycharm": {
     "name": "#%%\n"
    }
   }
  },
  {
   "cell_type": "code",
   "execution_count": null,
   "outputs": [],
   "source": [
    "# Remove words that are too infrequent.\n",
    "\n",
    "# Anything count < infrequent_threshold is removed.\n",
    "infrequent_threshold = 3\n",
    "\n",
    "# At least this % of movies should contain the genre-defining words\n",
    "infrequent_movie_threshold = 0.25\n",
    "\n",
    "for genre, words_count in genre_words_count.items():\n",
    "    words_to_remove = []\n",
    "    for word, word_count in words_count.items():\n",
    "        word_frequency = word_count['count']  # / word_count['movie_count']\n",
    "        movie_frequency = word_count['movie_count'] / genre_movies_count[genre]\n",
    "        if word_frequency < infrequent_threshold or movie_frequency < infrequent_movie_threshold:\n",
    "            words_to_remove.append(word)\n",
    "            # print(f'{word=}, {word_count=}')\n",
    "    for word in words_to_remove:\n",
    "        del words_count[word]\n",
    "\n",
    "\n",
    "\n",
    "frequency_matrix = np.zeros((len(all_genres), len(all_words)), dtype=int)\n",
    "\n",
    "for i, genre in enumerate(all_genres):\n",
    "    for j, word in enumerate(all_words):\n",
    "        if word in genre_words_count[genre]:\n",
    "            frequency = genre_words_count[genre][word]\n",
    "            frequency = frequency['count']  # / frequency['movie_count']\n",
    "            frequency_matrix[i][j] = frequency\n",
    "\n",
    "frequency_matrix"
   ],
   "metadata": {
    "collapsed": false,
    "pycharm": {
     "name": "#%%\n"
    }
   }
  },
  {
   "cell_type": "code",
   "execution_count": null,
   "outputs": [],
   "source": [
    "inter_genre_word_counts = frequency_matrix.sum(0)\n",
    "inter_genre_word_counts"
   ],
   "metadata": {
    "collapsed": false,
    "pycharm": {
     "name": "#%%\n"
    }
   }
  },
  {
   "cell_type": "code",
   "execution_count": null,
   "outputs": [],
   "source": [
    "tfidf = frequency_matrix / inter_genre_word_counts\n",
    "tfidf"
   ],
   "metadata": {
    "collapsed": false,
    "pycharm": {
     "name": "#%%\n"
    }
   }
  },
  {
   "cell_type": "code",
   "execution_count": null,
   "outputs": [],
   "source": [
    "# Okay, now that we have tf-idf matrix,\n",
    "# Let's find the highest ranking top k words for each genre.\n",
    "\n",
    "for i in range(len(all_genres)):\n",
    "    tfidf_ranks = tfidf[i]\n",
    "    counts = frequency_matrix[i]\n",
    "\n",
    "    zipped = zip(tfidf_ranks, all_words, counts, inter_genre_word_counts)\n",
    "    pairs = heapq.nlargest(10, zipped)\n",
    "    keywords = [pair[1] for pair in pairs]\n",
    "    print(f'{all_genres[i]}: {pairs}')\n"
   ],
   "metadata": {
    "collapsed": false,
    "pycharm": {
     "name": "#%%\n"
    }
   }
  },
  {
   "cell_type": "code",
   "execution_count": null,
   "outputs": [],
   "source": [],
   "metadata": {
    "collapsed": false,
    "pycharm": {
     "name": "#%%\n"
    }
   }
  },
  {
   "cell_type": "markdown",
   "source": [
    "## 1. Conversation as document\n",
    "i.e. best words for each conversation."
   ],
   "metadata": {
    "collapsed": false,
    "pycharm": {
     "name": "#%% md\n"
    }
   }
  },
  {
   "cell_type": "code",
   "execution_count": 38,
   "outputs": [],
   "source": [],
   "metadata": {
    "collapsed": false,
    "pycharm": {
     "name": "#%%\n"
    }
   }
  },
  {
   "cell_type": "code",
   "execution_count": null,
   "outputs": [],
   "source": [],
   "metadata": {
    "collapsed": false,
    "pycharm": {
     "name": "#%%\n"
    }
   }
  },
  {
   "cell_type": "markdown",
   "metadata": {
    "pycharm": {
     "name": "#%% md\n"
    }
   },
   "source": [
    "----------------------------------------------------------------------------------\n",
    "\n",
    "# Classification\n",
    "\n",
    "There's no \"description\" or \"plot summary\" of movies.\n",
    "So one must look at all the dialogs and decipher the movie genre.\n",
    "\n",
    "How can we do this?\n",
    "Let's do this in a naive way first, then let's try to get creative.\n",
    "\n",
    "## Naive way:\n",
    "\n",
    "- Average all word embeddings in a dialog to get dialog embeddings.\n",
    "- Average all dialog embeddings to get movie plot embedding.\n",
    "\n",
    "Thought process:\n",
    "  - We get a sentence embedding by averaging the word embeddings\n",
    "  - In the same way, can we get \"scene\" embedding by averaging all the sentence embeddings in a scene?\n",
    "  - Then averaging all scene embeddings should give us movie embedding.\n",
    "  - We don't have scenes, do we? If not, we can skip scenes, will averaging all dialog embeddings give us movie embedding?\n",
    "\n",
    "Problems:\n",
    "\n",
    "- The conversations might mostly include \"everyday lines\" that do not relate to the plot.\n",
    "- For example, \"You must learn how to lie\", \"they have to!\" do not say anything about the plot.\n",
    "\n",
    "## Another method:\n",
    "\n",
    "- Find all genre-defining keywords.\n",
    "- Then get the dialogs with these keywords.\n",
    "- Assumption: dialogs with keywords will contain plot-related information.\n",
    "-\n",
    "\n",
    "---\n",
    "\n",
    "## Rule-based method for baseline.\n",
    "\n",
    "For each genre, what are the most used words? (after removing the stopwords)\n",
    "How many of these words occur for multiple movies?\n",
    "\n",
    "Intuitive rationale:\n",
    "\n",
    "- [Within one genre] a genre-defining word will likely have high frequency in a movie and among all movies of the same genre.\n",
    "- [Among genres] a genre-defining word will likely have high frequency in movies within the genre and low frequency among movies of other genres.\n",
    "\n",
    "This can be obtained by finding the tf-idf value for each word in the corpus.\n",
    "\n",
    "If frequency of a word is low among movies of the same genre, then it is likely not genre-defining.\n",
    "\n",
    "Assuming that we obtained these \"genre-defining\" words for each genre,\n",
    "the next task would be to somehow learn that these words (or similar words) will help predict the movie's genre.\n",
    "\n",
    "### Implementation:\n",
    "\n",
    "1. Parse all the data.\n",
    "2. store all the genres.\n",
    "3. Split 95:5 of the movies randomly (less data problem!)\n",
    "4. Find tf-idf of each word in the training set. document = genre.\n",
    "5. Can these be custom named entities?\n",
    "\n",
    "Part 1:\n",
    "\n",
    "Well, we need lines for each genre. We don't care about the \"sequential\" nature of dialogs. Just need all of them.\n",
    "\n",
    "Specifically, we need a structure like this:\n",
    "\n",
    "- genres\n",
    "    - movies\n",
    "        - words\n",
    "\n",
    "Here words are obtained by:\n",
    "\n",
    "- spaCy tokenize each dialog.\n",
    "- spaCy lemmatize\n",
    "- spaCy remove stopwords\n",
    "\n",
    "Note that a movie can have multiple genres. So the dialogs for two genres might repeat.\n",
    "\n",
    "Part 2:\n",
    "\n",
    "\n",
    "---"
   ]
  },
  {
   "cell_type": "markdown",
   "source": [
    "## Generating training data\n",
    "\n",
    "Can we use these \"significant-dialogs\" to predict genre?\n",
    "That might be possible.\n",
    "\n",
    "A training pipeline could look like following:\n",
    "\n",
    "- A random sample of dialogs from this cluster could contain enough information\n",
    "about the genre.\n",
    "- So during training, every sample in a training batch could be a\n",
    "\"average embeddings of randomly sampled subset of significant dialogs of a movie with replacement\".\n",
    "- The reason for random subset's embedding as input as opposed to all the\n",
    "dialogs is to increase the variation in the training data.\n",
    "\n"
   ],
   "metadata": {
    "collapsed": false
   }
  },
  {
   "cell_type": "code",
   "execution_count": null,
   "outputs": [],
   "source": [
    "class DialogClusterDataset(Dataset):\n",
    "    def __init__(\n",
    "        self,\n",
    "        movies: Dict[str, Movie],\n",
    "        clusters_embeddings: Dict[str, Dict[str, Union[torch.Tensor, List[str]]]],\n",
    "        all_genres: List[str],\n",
    "        dialog_sample_size: int,\n",
    "    ):\n",
    "        \"\"\"\n",
    "        This dataset yields a movie embedding by randomly selecting some dialogs\n",
    "        from clusters_embeddings.\n",
    "\n",
    "\n",
    "        dialog_sample_size is the number of dialog embeddings to sample randomly\n",
    "        from the dialog embeddings.\n",
    "\n",
    "        `clusters_embeddings` is a dict of the shape:\n",
    "\n",
    "        ```yaml\n",
    "        <movie_1_id>:\n",
    "            cluster_dialogs:\n",
    "                - <dialog1:str>\n",
    "                - <dialog2:str>\n",
    "                - ...\n",
    "            cluster_embeddings: <dialogs_embedding:torch.Tensor(n_dialogs,embedding_dim)>\n",
    "        <movie_2_id>:\n",
    "            ...\n",
    "        ```\n",
    "        \"\"\"\n",
    "        self.movies = movies\n",
    "        self.clusters_embeddings = clusters_embeddings\n",
    "        self.all_genres = sorted(all_genres)\n",
    "        self.dialog_sample_size = dialog_sample_size\n",
    "\n",
    "        self.movie_ids = list(self.clusters_embeddings.keys())\n",
    "\n",
    "\n",
    "    def __len__(self):\n",
    "        return len(self.movie_ids)\n",
    "\n",
    "    def __getitem__(self, index: int):\n",
    "        movie_id = self.movie_ids[index]\n",
    "\n",
    "        movie_embedding = self._get_movie_embedding(movie_id)\n",
    "        genre_vector = self._get_genre_vector(self.movies[movie_id].genres)\n",
    "\n",
    "        return movie_embedding, genre_vector\n",
    "\n",
    "    def _get_genre_vector(self, genres: List[str]):\n",
    "        genres = [genre in genres for genre in self.all_genres]\n",
    "        genres = torch.tensor(genres) * 1\n",
    "        return genres\n",
    "\n",
    "    def _get_movie_embedding(self, movie_id: str):\n",
    "        embeddings = self.clusters_embeddings[movie_id]['cluster_embeddings']\n",
    "\n",
    "        num_dialogs = len(embeddings)\n",
    "        sample_size = min(num_dialogs, self.dialog_sample_size)\n",
    "\n",
    "        random_indices = torch.randint(low=0, high=num_dialogs, size=sample_size)\n",
    "\n",
    "        subsampled_embeddings = embeddings[random_indices]\n",
    "\n",
    "        final_embedding = torch.mean(subsampled_embeddings, dim=0)\n",
    "        return final_embedding\n",
    "\n",
    "\n",
    "dataset = DialogClusterDataset(\n",
    "    movies=movies,\n",
    "    clusters_embeddings=clusters_embeddings,\n",
    "    all_genres=all_genres,\n",
    "    dialog_sample_size=15,\n",
    ")"
   ],
   "metadata": {
    "collapsed": false,
    "pycharm": {
     "name": "#%%\n"
    }
   }
  },
  {
   "cell_type": "code",
   "execution_count": null,
   "metadata": {
    "pycharm": {
     "name": "#%%\n"
    }
   },
   "outputs": [],
   "source": []
  },
  {
   "cell_type": "code",
   "execution_count": null,
   "metadata": {
    "pycharm": {
     "name": "#%%\n"
    }
   },
   "outputs": [],
   "source": [
    "list(movies.keys())[:5]"
   ]
  },
  {
   "cell_type": "code",
   "execution_count": null,
   "metadata": {
    "pycharm": {
     "name": "#%%\n"
    }
   },
   "outputs": [],
   "source": [
    "m0 = movies['m0']"
   ]
  },
  {
   "cell_type": "code",
   "execution_count": null,
   "metadata": {
    "pycharm": {
     "name": "#%%\n"
    }
   },
   "outputs": [],
   "source": [
    "list(m0.characters.keys())[:5]"
   ]
  },
  {
   "cell_type": "code",
   "execution_count": null,
   "outputs": [],
   "source": [
    "conversations = m0.conversations[:5]\n",
    "conversations[0].dialogs[0].dialog"
   ],
   "metadata": {
    "collapsed": false,
    "pycharm": {
     "name": "#%%\n"
    }
   }
  },
  {
   "cell_type": "code",
   "execution_count": null,
   "outputs": [],
   "source": [
    "all_genres = [genre for _, movie in movies.items() for genre in movie.genres]\n",
    "genre_movies_count = Counter(all_genres)\n",
    "all_genres = list(set(all_genres))\n",
    "\n",
    "# Sorting by value to see which genres have the most movies.\n",
    "sorted(genre_movies_count.items(), key=lambda item: item[1], reverse=True)"
   ],
   "metadata": {
    "collapsed": false,
    "pycharm": {
     "name": "#%%\n"
    }
   }
  },
  {
   "cell_type": "code",
   "execution_count": null,
   "outputs": [],
   "source": [
    "# Well, there's one movie without any genre. So let's put that as 'other'\n",
    "all_genres.append('other')\n",
    "all_genres.remove('')\n",
    "\n",
    "genre_movies_count['other'] = genre_movies_count['']\n",
    "del genre_movies_count['']\n",
    "\n",
    "# Let's also replace '' with 'other' in all movies\n",
    "for _, movie in movies.items():\n",
    "    if '' in movie.genres:\n",
    "        movie.genres.append('other')\n",
    "        movie.genres.remove('')"
   ],
   "metadata": {
    "collapsed": false,
    "pycharm": {
     "name": "#%%\n"
    }
   }
  },
  {
   "cell_type": "code",
   "execution_count": null,
   "outputs": [],
   "source": [
    "# Some of the genres have very low movie count.\n",
    "# This will make the frequency based method very difficult.\n",
    "# We might employ other techniques for these low-frequent genres.\n",
    "# For now, to make the problem easier, let's only use the high frequent genres only.\n",
    "\n",
    "# Eliminating all genres with frequency < 75 (75 is just based on intuition.)\n",
    "low_frequency_genres = [genre for genre in all_genres if genre_movies_count[genre] <= 75]\n",
    "\n",
    "for genre in low_frequency_genres:\n",
    "    # Remove from all_genres\n",
    "    all_genres.remove(genre)\n",
    "\n",
    "    # Remove from movie.genres\n",
    "    for _, movie in movies.items():\n",
    "        if genre in movie.genres:\n",
    "            movie.genres.remove(genre)\n",
    "\n",
    "# Remove movies with empty genres\n",
    "movies_to_remove = []\n",
    "for movie_id, movie in movies.items():\n",
    "    if len(movie.genres) == 0:\n",
    "        movies_to_remove.append(movie_id)\n",
    "for movie_id in movies_to_remove:\n",
    "    del movies[movie_id]"
   ],
   "metadata": {
    "collapsed": false,
    "pycharm": {
     "name": "#%%\n"
    }
   }
  },
  {
   "cell_type": "code",
   "execution_count": null,
   "outputs": [],
   "source": [
    "# [NOT USED] Creates text files with all dialogs of each genre. NOT USED, but works.\n",
    "\n",
    "@contextmanager\n",
    "def get_genre_dialogs_files(output_path: str, genres: List[str], mode: str):\n",
    "    \"\"\"\n",
    "    A wrapper that encapsulates handling multiple genre-dialogs files.\n",
    "    \"\"\"\n",
    "    makedirs(output_path, exist_ok=True)\n",
    "    files: Dict[str, TextIO] = {genre: open(join(output_path, f'{genre}.txt'), mode) for genre in genres}\n",
    "\n",
    "    try:\n",
    "        yield files\n",
    "    finally:\n",
    "        for genre in genres:\n",
    "            files[genre].close()\n",
    "\n",
    "\n",
    "def create_genre_dialogs_files():\n",
    "    # Creating dialogs text files for each genre.\n",
    "    genre_dialogs_path = '/Users/akhil/code/lexical_lab/companies/ginger/data/output/genre_dialogs'\n",
    "    with get_genre_dialogs_files(genre_dialogs_path, all_genres, 'w') as genre_dialogs_files:\n",
    "        for _, movie in movies.items():\n",
    "            for conversation in movie.conversations:\n",
    "                for dialog in conversation.dialogs:\n",
    "                    for genre in movie.genres:\n",
    "                        genre_dialogs_files[genre].write(dialog.dialog + '\\n')\n"
   ],
   "metadata": {
    "collapsed": false,
    "pycharm": {
     "name": "#%%\n"
    }
   }
  },
  {
   "cell_type": "code",
   "execution_count": 33,
   "outputs": [
    {
     "data": {
      "text/plain": "['example', 'sentence', 'akhil', 'friends', 'cars']"
     },
     "execution_count": 33,
     "metadata": {},
     "output_type": "execute_result"
    }
   ],
   "source": [
    "\"\"\"\n",
    "Creating a structure like this:\n",
    "- genres\n",
    "    - movies\n",
    "        - words\n",
    "\"\"\""
   ],
   "metadata": {
    "collapsed": false,
    "pycharm": {
     "name": "#%%\n"
    }
   }
  },
  {
   "cell_type": "code",
   "execution_count": null,
   "outputs": [],
   "source": [],
   "metadata": {
    "collapsed": false,
    "pycharm": {
     "name": "#%%\n"
    }
   }
  },
  {
   "cell_type": "code",
   "execution_count": null,
   "outputs": [],
   "source": [
    "# Building word frequency table.\n",
    "\n",
    "# all words in this frequency table\n",
    "all_words = list(set([word for word_counts in genre_words_count.values() for word in word_counts]))\n",
    "len(all_words)"
   ],
   "metadata": {
    "collapsed": false,
    "pycharm": {
     "name": "#%%\n"
    }
   }
  },
  {
   "cell_type": "code",
   "execution_count": null,
   "outputs": [],
   "source": [],
   "metadata": {
    "collapsed": false,
    "pycharm": {
     "name": "#%%\n"
    }
   }
  },
  {
   "cell_type": "code",
   "execution_count": null,
   "outputs": [],
   "source": [
    "# TODO: Word cloud for these words.\n",
    "# TODO: Movie 2d map based on semantic genre.\n",
    "# TODO: graph for # of movies and # of dialogs for each genre.\n"
   ],
   "metadata": {
    "collapsed": false,
    "pycharm": {
     "name": "#%%\n"
    }
   }
  },
  {
   "cell_type": "code",
   "execution_count": null,
   "outputs": [],
   "source": [],
   "metadata": {
    "collapsed": false,
    "pycharm": {
     "name": "#%%\n"
    }
   }
  }
 ],
 "metadata": {
  "kernelspec": {
   "display_name": "Python 3",
   "language": "python",
   "name": "python3"
  },
  "language_info": {
   "codemirror_mode": {
    "name": "ipython",
    "version": 3
   },
   "file_extension": ".py",
   "mimetype": "text/x-python",
   "name": "python",
   "nbconvert_exporter": "python",
   "pygments_lexer": "ipython3",
   "version": "3.8.10"
  }
 },
 "nbformat": 4,
 "nbformat_minor": 1
}