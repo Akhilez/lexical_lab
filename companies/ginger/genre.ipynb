{
 "cells": [
  {
   "cell_type": "markdown",
   "metadata": {
    "collapsed": true,
    "pycharm": {
     "name": "#%% md\n"
    }
   },
   "source": [
    "# Part 1: Parsing/Reading the data\n",
    "\n",
    "Before I do anything, I must first make sense of the given data and it's structure.\n",
    "i.e. parse all the data from txt files.\n",
    "\n",
    "\n",
    "Destruction of the data (relevant fields):\n",
    "- movies\n",
    "    - genres\n",
    "    - conversations\n",
    "        - dialogs\n",
    "            - sentences\n",
    "                - words\n",
    "\n",
    "The assignment says **not** to use any data other than \"movie_lines.txt\",\n",
    "I'm parsing the entire data set to understand the schema and play around with it later.\n",
    "For the purpose of Q1, I will only use data that was parsed from \"movie_lines.txt\".\n",
    "\n",
    "I'm using the term \"dialog\" instead of \"line\" because line is ambiguous, dialog is not."
   ]
  },
  {
   "cell_type": "code",
   "execution_count": 182,
   "metadata": {
    "pycharm": {
     "name": "#%%\n"
    }
   },
   "outputs": [
    {
     "name": "stdout",
     "output_type": "stream",
     "text": [
      "zsh:1: no matches found: cornell_movie_dialogs_corpus*\r\n",
      "--2021-08-28 18:03:20--  http://www.cs.cornell.edu/~cristian/data/cornell_movie_dialogs_corpus.zip\r\n",
      "Resolving www.cs.cornell.edu (www.cs.cornell.edu)... 132.236.207.36\r\n",
      "Connecting to www.cs.cornell.edu (www.cs.cornell.edu)|132.236.207.36|:80... connected.\r\n",
      "HTTP request sent, awaiting response... 200 OK\r\n",
      "Length: 9916637 (9.5M) [application/zip]\r\n",
      "Saving to: ‘cornell_movie_dialogs_corpus.zip’\r\n",
      "\r\n",
      "cornell_movie_dialo 100%[===================>]   9.46M  6.51MB/s    in 1.5s    \r\n",
      "\r\n",
      "2021-08-28 18:03:21 (6.51 MB/s) - ‘cornell_movie_dialogs_corpus.zip’ saved [9916637/9916637]\r\n",
      "\r\n",
      "Archive:  cornell_movie_dialogs_corpus.zip\r\n",
      "   creating: cornell movie-dialogs corpus/\r\n",
      "  inflating: cornell movie-dialogs corpus/.DS_Store  \r\n",
      "   creating: __MACOSX/\r\n",
      "   creating: __MACOSX/cornell movie-dialogs corpus/\r\n",
      "  inflating: __MACOSX/cornell movie-dialogs corpus/._.DS_Store  \r\n",
      "  inflating: cornell movie-dialogs corpus/chameleons.pdf  \r\n",
      "  inflating: __MACOSX/cornell movie-dialogs corpus/._chameleons.pdf  \r\n",
      "  inflating: cornell movie-dialogs corpus/movie_characters_metadata.txt  \r\n",
      "  inflating: cornell movie-dialogs corpus/movie_conversations.txt  \r\n",
      "  inflating: cornell movie-dialogs corpus/movie_lines.txt  \r\n",
      "  inflating: cornell movie-dialogs corpus/movie_titles_metadata.txt  \r\n",
      "  inflating: cornell movie-dialogs corpus/raw_script_urls.txt  \r\n",
      "  inflating: cornell movie-dialogs corpus/README.txt  \r\n",
      "  inflating: __MACOSX/cornell movie-dialogs corpus/._README.txt  \r\n",
      "mkdir: data: File exists\r\n",
      "README.txt                    movie_lines.txt\r\n",
      "chameleons.pdf                movie_titles_metadata.txt\r\n",
      "movie_characters_metadata.txt raw_script_urls.txt\r\n",
      "movie_conversations.txt\r\n"
     ]
    }
   ],
   "source": [
    "from torch import nn\n",
    "from torch.optim import Adam\n",
    "!rm cornell_movie_dialogs_corpus*\n",
    "!wget http://www.cs.cornell.edu/~cristian/data/cornell_movie_dialogs_corpus.zip\n",
    "!unzip -n cornell_movie_dialogs_corpus.zip\n",
    "!mkdir data\n",
    "!mv \"cornell movie-dialogs corpus\" data/\n",
    "!ls data/\"cornell movie-dialogs corpus\""
   ]
  },
  {
   "cell_type": "code",
   "metadata": {
    "pycharm": {
     "name": "#%%\n"
    }
   },
   "source": [
    "!pip install transformers pydantic pyvis"
   ],
   "execution_count": null,
   "outputs": []
  },
  {
   "cell_type": "code",
   "execution_count": 260,
   "metadata": {
    "pycharm": {
     "name": "#%%\n"
    }
   },
   "outputs": [],
   "source": [
    "from sklearn.model_selection import train_test_split\n",
    "from torch.utils.data import Dataset, DataLoader\n",
    "import re\n",
    "from collections import Counter, OrderedDict\n",
    "from contextlib import contextmanager\n",
    "from copy import deepcopy\n",
    "from os import listdir, makedirs, getcwd\n",
    "from os.path import join\n",
    "from typing import List, Tuple, Dict, Optional, TextIO, Any, Union\n",
    "from transformers import DistilBertTokenizer, DistilBertModel\n",
    "import torch\n",
    "from torch.nn import functional as F\n",
    "import numpy as np\n",
    "from matplotlib import pyplot as plt\n",
    "from sklearn.feature_extraction.text import TfidfVectorizer, CountVectorizer\n",
    "import pandas as pd\n",
    "import spacy\n",
    "from pydantic import BaseModel\n",
    "from tqdm import tqdm\n",
    "import heapq\n",
    "from pyvis.network import Network\n",
    "import networkx as nx\n",
    "from IPython.core.display import display, HTML"
   ]
  },
  {
   "cell_type": "code",
   "execution_count": 2,
   "metadata": {
    "pycharm": {
     "name": "#%%\n"
    }
   },
   "outputs": [
    {
     "data": {
      "text/plain": "'/Users/akhil/code/lexical_lab/companies/ginger'"
     },
     "execution_count": 2,
     "metadata": {},
     "output_type": "execute_result"
    }
   ],
   "source": [
    "BASE_DIR = getcwd()\n",
    "BASE_DIR"
   ]
  },
  {
   "cell_type": "markdown",
   "metadata": {
    "pycharm": {
     "name": "#%% md\n"
    }
   },
   "source": [
    "I see that the data is fragmented into several files like a relational database.\n",
    "\n",
    "Something I like to do when we have such relational data models is to create classes for those models.\n",
    "Pydantic provides an easy, readable and writable framework for this."
   ]
  },
  {
   "cell_type": "code",
   "execution_count": 3,
   "metadata": {
    "pycharm": {
     "name": "#%%\n"
    }
   },
   "outputs": [],
   "source": [
    "class Character(BaseModel):\n",
    "    name: str\n",
    "    id: str\n",
    "    gender: Optional[str]  # m|f|None\n",
    "    credit_position: Optional[int]\n",
    "\n",
    "    def __eq__(self, other):\n",
    "        return self.id == other.id\n",
    "\n",
    "\n",
    "class Dialog(BaseModel):\n",
    "    id: str\n",
    "    speaker: Character\n",
    "    listener: Optional[Character]\n",
    "    dialog: str\n",
    "\n",
    "\n",
    "class Conversation(BaseModel):\n",
    "    characters: Tuple[Character, Character]\n",
    "    dialogs: List[Dialog]\n",
    "\n",
    "\n",
    "class Movie(BaseModel):\n",
    "    id: str\n",
    "    title: str\n",
    "    release_year: int\n",
    "    imdb_rating: float\n",
    "    num_votes: int\n",
    "    genres: List[str] = []\n",
    "    characters: Dict[str, Character] = {}\n",
    "    conversations: List[Conversation] = []"
   ]
  },
  {
   "cell_type": "code",
   "execution_count": 4,
   "metadata": {
    "pycharm": {
     "name": "#%%\n"
    }
   },
   "outputs": [],
   "source": [
    "def update_movie_characters(movies: Dict[str, Movie], characters_path: str):\n",
    "    with open(characters_path, \"r\", encoding=\"ISO-8859-1\") as characters_file:\n",
    "        for character in characters_file:\n",
    "            # sample: u0 +++$+++ BIANCA +++$+++ m0 +++$+++ 10 things i hate about you +++$+++ f +++$+++ 4\n",
    "            character = character.strip().split(\" +++$+++ \")\n",
    "            character_id, name, movie_id, movie_title, gender, position = character\n",
    "\n",
    "            gender = None if gender == \"?\" else gender\n",
    "            position = None if position == \"?\" else position\n",
    "\n",
    "            assert movie_id in movies\n",
    "            movie = movies[movie_id]\n",
    "\n",
    "            character = Character(\n",
    "                name=name,\n",
    "                id=character_id,\n",
    "                gender=gender,  # m|f|None\n",
    "                credit_position=position,\n",
    "            )\n",
    "\n",
    "            movie.characters[character_id] = character"
   ]
  },
  {
   "cell_type": "code",
   "execution_count": 5,
   "metadata": {
    "pycharm": {
     "name": "#%%\n"
    }
   },
   "outputs": [],
   "source": [
    "def get_all_dialogs(movies: Dict[str, Movie], lines_path: str) -> Dict[str, Dialog]:\n",
    "    all_dialogs = {}\n",
    "    with open(lines_path, \"r\", encoding=\"ISO-8859-1\") as dialogs_file:\n",
    "        for dialog in dialogs_file:\n",
    "            # Sample: L1045 +++$+++ u0 +++$+++ m0 +++$+++ BIANCA +++$+++ They do not!\n",
    "            # Note: Sometimes, there's no dialog, so splitting with ' +++$+++ ' will be wrong (with space at the end.)\n",
    "            #       So, we will split without spaces on either side and then strip\n",
    "            dialog = dialog.strip().split(\"+++$+++\")\n",
    "            dialog = [d.strip() for d in dialog]\n",
    "            dialog_id, character_id, movie_id, character_name, dialog = dialog\n",
    "\n",
    "            assert movie_id in movies\n",
    "            movie = movies[movie_id]\n",
    "\n",
    "            assert character_id in movie.characters\n",
    "            speaker = movie.characters[character_id]\n",
    "\n",
    "            dialog = Dialog(id=dialog_id, speaker=speaker, dialog=dialog)\n",
    "            all_dialogs[dialog_id] = dialog\n",
    "    return all_dialogs\n"
   ]
  },
  {
   "cell_type": "code",
   "metadata": {
    "pycharm": {
     "name": "#%%\n"
    }
   },
   "source": [
    "\n",
    "def update_movie_dialogs(\n",
    "    movies: Dict[str, Movie], conversations_path: str, lines_path: str\n",
    "):\n",
    "    all_dialogs: Dict[str, Dialog] = get_all_dialogs(movies, lines_path)\n",
    "\n",
    "    with open(conversations_path, \"r\", encoding=\"ISO-8859-1\") as conversations_file:\n",
    "        for conversation in conversations_file:\n",
    "            # Sample: u0 +++$+++ u2 +++$+++ m0 +++$+++ ['L198', 'L199']\n",
    "            conversation = conversation.strip().split(\" +++$+++ \")\n",
    "            character1, character2, movie_id, dialogs = conversation\n",
    "\n",
    "            dialogs = dialogs.strip(\"][\").replace(\"'\", \"\").split(\", \")\n",
    "\n",
    "            assert movie_id in movies\n",
    "            movie = movies[movie_id]\n",
    "\n",
    "            assert character1 in movie.characters\n",
    "            assert character2 in movie.characters\n",
    "\n",
    "            character1 = movie.characters[character1]\n",
    "            character2 = movie.characters[character2]\n",
    "\n",
    "            for dialog in dialogs:\n",
    "                assert dialog in all_dialogs\n",
    "                dialog = all_dialogs[dialog]\n",
    "                listener = character1 if character2 == dialog.speaker else character2\n",
    "                dialog.listener = listener\n",
    "\n",
    "            conversation = Conversation(\n",
    "                characters=(character1, character2),\n",
    "                dialogs=[all_dialogs[dialog] for dialog in dialogs],\n",
    "            )\n",
    "\n",
    "            movie.conversations.append(conversation)\n"
   ],
   "execution_count": 6,
   "outputs": []
  },
  {
   "cell_type": "code",
   "metadata": {
    "pycharm": {
     "name": "#%%\n"
    }
   },
   "source": [
    "\n",
    "def _preprocess_year(year: str) -> int:\n",
    "    if \"/I\" in year:\n",
    "        year = year.replace(\"/I\", \"\")\n",
    "    year = int(year)\n",
    "    return year\n",
    "\n",
    "\n",
    "def get_movies_dict(movie_titles_metadata_path: str) -> Dict[str, Movie]:\n",
    "    movies_dict = {}\n",
    "    with open(movie_titles_metadata_path, \"r\", encoding=\"ISO-8859-1\") as movies_file:\n",
    "        for movie in movies_file:\n",
    "            movie = movie.strip().split(\" +++$+++ \")\n",
    "            movie_id, title, year, rating, votes, genres = movie\n",
    "            # Replace list representation with list of strings\n",
    "            genres = genres.strip(\"][\").replace(\"'\", \"\").split(\", \")\n",
    "            year = _preprocess_year(year)\n",
    "            rating = float(rating)\n",
    "\n",
    "            movie = Movie(\n",
    "                id=movie_id,\n",
    "                title=title,\n",
    "                release_year=year,\n",
    "                imdb_rating=rating,\n",
    "                num_votes=votes,\n",
    "                genres=genres,\n",
    "            )\n",
    "\n",
    "            movies_dict[movie_id] = movie\n",
    "\n",
    "    return movies_dict"
   ],
   "execution_count": 7,
   "outputs": []
  },
  {
   "cell_type": "code",
   "execution_count": 97,
   "metadata": {
    "pycharm": {
     "name": "#%%\n"
    }
   },
   "outputs": [],
   "source": [
    "def get_data(path: str):\n",
    "    \"\"\"\n",
    "    Parses all the files from Cornell movie dialogs dataset into pydantic objects.\n",
    "    http://www.cs.cornell.edu/~cristian/Cornell_Movie-Dialogs_Corpus.html\n",
    "\n",
    "    # 1. For each movie:\n",
    "    #    a. get all characters\n",
    "    #    b. get all conversations\n",
    "    \"\"\"\n",
    "\n",
    "    files = listdir(path)\n",
    "\n",
    "    assert \"movie_titles_metadata.txt\" in files\n",
    "    assert \"movie_characters_metadata.txt\" in files\n",
    "    assert \"movie_conversations.txt\" in files\n",
    "    assert \"movie_lines.txt\" in files\n",
    "\n",
    "    movies_dict = get_movies_dict(join(path, \"movie_titles_metadata.txt\"))\n",
    "    update_movie_characters(movies_dict, join(path, \"movie_characters_metadata.txt\"))\n",
    "    update_movie_dialogs(\n",
    "        movies_dict,\n",
    "        join(path, \"movie_conversations.txt\"),\n",
    "        join(path, \"movie_lines.txt\"),\n",
    "    )\n",
    "\n",
    "    return movies_dict\n",
    "\n",
    "\n",
    "data_path = join(BASE_DIR, \"data\", \"cornell movie-dialogs corpus\")\n",
    "movies = get_data(data_path)\n",
    "movies_list = [movie for _, movie in movies.items()]"
   ]
  },
  {
   "cell_type": "markdown",
   "metadata": {
    "pycharm": {
     "name": "#%% md\n"
    }
   },
   "source": [
    "Alright, we got all the data stored in `movies` dictionary.\n",
    "\n",
    "It looks like this (in yaml format):\n",
    "\n",
    "```yaml\n",
    "m28:\n",
    "  id: m28\n",
    "  title: barry lyndon\n",
    "  release_year: 1975\n",
    "  imdb_rating: 8.1\n",
    "  num_votes: 40622\n",
    "  genres: [drama, romance, war]\n",
    "  characters:\n",
    "    u454:\n",
    "      credit_position: null\n",
    "      gender: null\n",
    "      id: u454\n",
    "      name: ARMED GENTLEMAN\n",
    "  conversations:\n",
    "  - characters: [u473, u475]\n",
    "    dialogs:\n",
    "    - dialog: Charming Schuvaloff.\n",
    "      id: L64877\n",
    "      listener: u475\n",
    "      speaker: u473\n",
    "```"
   ]
  },
  {
   "cell_type": "markdown",
   "metadata": {
    "pycharm": {
     "name": "#%% md\n"
    }
   },
   "source": [
    "---\n",
    "\n",
    "# Part 2: Analysis of movie lines\n",
    "\n",
    "Definitions to be clear:\n",
    "\n",
    "**Dialog**: A dialog is a line that an actor says in one go before the other actor speaks their line.\n",
    "\n",
    "**Conversation**: A conversation is a sequence of dialogs in order.\n",
    "\n",
    "\n",
    "I like plotting these curves (I call these \"transposed S\" curves) to get an\n",
    "understanding of how the data is distributed.\n",
    "\n",
    "Almost all movies have > 50 conversations with average of ~135 conversations.\n",
    "\n",
    "The number of dialogs range from 6-1530 with mean of ~500 dialogs for each movie."
   ]
  },
  {
   "cell_type": "code",
   "execution_count": 9,
   "metadata": {
    "pycharm": {
     "name": "#%%\n"
    }
   },
   "outputs": [
    {
     "name": "stdout",
     "output_type": "stream",
     "text": [
      "Average # of conversations: 134.67909238249595\n",
      "Max # of conversations: 338\n",
      "Min # of conversations: 1\n"
     ]
    },
    {
     "data": {
      "text/plain": "Text(0.5, 0, '# of conversations')"
     },
     "execution_count": 9,
     "metadata": {},
     "output_type": "execute_result"
    },
    {
     "data": {
      "text/plain": "<Figure size 432x288 with 1 Axes>",
      "image/png": "[encoded data removed]"
     },
     "metadata": {
      "needs_background": "light"
     },
     "output_type": "display_data"
    }
   ],
   "source": [
    "# plot number of conversations for each movie\n",
    "\n",
    "num_conversations = [len(movie.conversations) for _, movie in movies.items()]\n",
    "num_conversations = sorted(num_conversations, reverse=True)\n",
    "num_conversations = np.array(num_conversations)\n",
    "\n",
    "print(f'Average # of conversations: {num_conversations.mean()}')\n",
    "print(f'Max # of conversations: {num_conversations.max()}')\n",
    "print(f'Min # of conversations: {num_conversations.min()}')\n",
    "\n",
    "plt.plot(num_conversations)\n",
    "plt.title(\"Number of conversations for each movie\")\n",
    "plt.xlabel(\"movie index sorted descendingly by y\")\n",
    "plt.xlabel(\"# of conversations\")"
   ]
  },
  {
   "cell_type": "code",
   "execution_count": 10,
   "metadata": {
    "pycharm": {
     "name": "#%%\n"
    }
   },
   "outputs": [
    {
     "name": "stdout",
     "output_type": "stream",
     "text": [
      "Average # of dialogs: 493.86223662884925\n",
      "Max # of dialogs: 1530\n",
      "Min # of dialogs: 6\n"
     ]
    },
    {
     "data": {
      "text/plain": "Text(0.5, 0, '# of dialogs')"
     },
     "execution_count": 10,
     "metadata": {},
     "output_type": "execute_result"
    },
    {
     "data": {
      "text/plain": "<Figure size 432x288 with 1 Axes>",
      "image/png": "[encoded data removed]"
     },
     "metadata": {
      "needs_background": "light"
     },
     "output_type": "display_data"
    }
   ],
   "source": [
    "# plot number of dialogs for each movie\n",
    "\n",
    "num_dialogs = []\n",
    "for movie in movies_list:\n",
    "    num_dialogs_ = sum([len(convo.dialogs) for convo in movie.conversations])\n",
    "    num_dialogs.append(num_dialogs_)\n",
    "\n",
    "num_dialogs = sorted(num_dialogs, reverse=True)\n",
    "num_dialogs = np.array(num_dialogs)\n",
    "\n",
    "print(f'Average # of dialogs: {num_dialogs.mean()}')\n",
    "print(f'Max # of dialogs: {num_dialogs.max()}')\n",
    "print(f'Min # of dialogs: {num_dialogs.min()}')\n",
    "\n",
    "plt.plot(num_dialogs)\n",
    "plt.title(\"Number of dialogs for each movie\")\n",
    "plt.xlabel(\"movie index sorted descendingly by y\")\n",
    "plt.xlabel(\"# of dialogs\")"
   ]
  },
  {
   "cell_type": "markdown",
   "metadata": {
    "pycharm": {
     "name": "#%% md\n"
    }
   },
   "source": [
    "The conversations are like \"to-and-fro\" style with two characters with\n",
    "at least 1 dialog for each.\n",
    "So information from one dialog will flow to the next one within a conversation.\n",
    "\n",
    "\n",
    "Let's pick a random movie that will stay constant throughout this notebook."
   ]
  },
  {
   "cell_type": "code",
   "metadata": {
    "pycharm": {
     "name": "#%%\n"
    }
   },
   "source": [
    "random_movie_id = 17\n",
    "random_movie = movies[f'm{random_movie_id}']\n",
    "\n",
    "print(random_movie.title, random_movie.genres)\n",
    "print('# of conversations', len(random_movie.conversations))\n",
    "\n",
    "random_conversation_index = np.random.randint(low=0, high=len(random_movie.conversations), size=1)[0]\n",
    "print(f'Random conversation index: {random_conversation_index}')\n",
    "random_conversation = random_movie.conversations[random_conversation_index]\n",
    "print('length of random conversation: ', len(random_conversation.dialogs))\n",
    "[d.dialog for d in random_conversation.dialogs]"
   ],
   "execution_count": 11,
   "outputs": [
    {
     "name": "stdout",
     "output_type": "stream",
     "text": [
      "american madness ['drama']\n",
      "# of conversations 151\n",
      "Random conversation index: 113\n",
      "length of random conversation:  3\n"
     ]
    },
    {
     "data": {
      "text/plain": "[\"The fools! If they only knew it, they're making things worse for themselves. Somebody starts a silly rumor, and they lose their heads.\",\n \"What'll we do?\",\n \"I'll talk to them. Listen, go back and tell the boys to stall as much as possible. Tell 'em not to pay any attention to what I said. Tell 'em to verify every signature.\"]"
     },
     "execution_count": 11,
     "metadata": {},
     "output_type": "execute_result"
    }
   ]
  },
  {
   "cell_type": "code",
   "execution_count": 12,
   "metadata": {
    "pycharm": {
     "name": "#%%\n"
    }
   },
   "outputs": [
    {
     "name": "stdout",
     "output_type": "stream",
     "text": [
      "Average length of conversations: 3.6887417218543046\n",
      "Max length of conversations: 12\n",
      "Min length of conversations: 2\n"
     ]
    },
    {
     "data": {
      "text/plain": "Text(0.5, 0, 'length of conversations')"
     },
     "execution_count": 12,
     "metadata": {},
     "output_type": "execute_result"
    },
    {
     "data": {
      "text/plain": "<Figure size 432x288 with 1 Axes>",
      "image/png": "[encoded data removed]"
     },
     "metadata": {
      "needs_background": "light"
     },
     "output_type": "display_data"
    }
   ],
   "source": [
    "# Plot number of dialogs for each conversation in a random movie.\n",
    "\n",
    "num_dialogs = [len(convo.dialogs) for convo in random_movie.conversations]\n",
    "num_dialogs = sorted(num_dialogs, reverse=True)\n",
    "num_dialogs = np.array(num_dialogs)\n",
    "\n",
    "print(f'Average length of conversations: {num_dialogs.mean()}')\n",
    "print(f'Max length of conversations: {num_dialogs.max()}')\n",
    "print(f'Min length of conversations: {num_dialogs.min()}')\n",
    "\n",
    "plt.plot(num_dialogs)\n",
    "plt.title(\"length of conversations for each movie\")\n",
    "plt.xlabel(\"movie index sorted descendingly by y\")\n",
    "plt.xlabel(\"length of conversations\")\n"
   ]
  },
  {
   "cell_type": "markdown",
   "metadata": {
    "pycharm": {
     "name": "#%% md\n"
    }
   },
   "source": [
    "Breakdown of what we can do with this data:\n",
    "\n",
    "- within a movie\n",
    "    - among words\n",
    "        - tf-idf approach\n",
    "            - tf-idf where document = conversation\n",
    "            - Each term should at least be in 2 conversations?\n",
    "            - Get static embeddings for each high-rank tf-idf terms\n",
    "            - Do a cartesian product of pairs of these embeddings and find the most similar pairs.\n",
    "            - Create a network of these pairs based on similar/not. (if similar, there will be a link)\n",
    "        - embedding appraoch:\n",
    "            - Do an n-gram and find the segment of a conversation that has the highest\n",
    "              cosine similarity with the embedding of the entire conversation.\n",
    "            -\n",
    "    - among lines\n",
    "        - a conversation is a continuous stream of dialogs. So get an embedding for it.\n",
    "        - Do a 2-gram sentences (not 2-gram of words) and feed it to BERT as 2 sequences to get the embedding.\n",
    "        - Then average all 2-grams to get conversation embedding.\n",
    "          Or input 2-gram embeddings as word embeddings to get conversation embedding.\n",
    "        - What's the most \"significant\" dialog in the conversation that captures the whole conversation?\n",
    "        - Does the \"significant\" word from tf-idf correlate with most significant dialogs?\n",
    "        - Capture similar and dissimilar conversations.\n",
    "- across movies\n",
    "    - among words\n",
    "        - tf-idf where document = movie\n",
    "        - Show high-rank tf-idf words for each movie\n",
    "    - among lines\n",
    "- across corpus\n",
    "- across genres\n"
   ]
  },
  {
   "cell_type": "markdown",
   "metadata": {
    "pycharm": {
     "name": "#%% md\n"
    }
   },
   "source": [
    "## Within a conversation in a movie.\n",
    "\n",
    "Let's use a pretrained DistilBERT model for word/sentence/sentence-pair embeddings.\n",
    "\n",
    "I'm using huggingface's `transformers` library. https://huggingface.co/transformers"
   ]
  },
  {
   "cell_type": "code",
   "execution_count": 13,
   "metadata": {
    "pycharm": {
     "name": "#%%\n"
    }
   },
   "outputs": [
    {
     "name": "stderr",
     "output_type": "stream",
     "text": [
      "Some weights of the model checkpoint at distilbert-base-uncased were not used when initializing DistilBertModel: ['vocab_projector.weight', 'vocab_projector.bias', 'vocab_layer_norm.weight', 'vocab_transform.bias', 'vocab_transform.weight', 'vocab_layer_norm.bias']\n",
      "- This IS expected if you are initializing DistilBertModel from the checkpoint of a model trained on another task or with another architecture (e.g. initializing a BertForSequenceClassification model from a BertForPreTraining model).\n",
      "- This IS NOT expected if you are initializing DistilBertModel from the checkpoint of a model that you expect to be exactly identical (initializing a BertForSequenceClassification model from a BertForSequenceClassification model).\n"
     ]
    },
    {
     "data": {
      "text/plain": "device(type='cpu')"
     },
     "execution_count": 13,
     "metadata": {},
     "output_type": "execute_result"
    }
   ],
   "source": [
    "device = 'cuda' if torch.cuda.is_available() else 'cpu'\n",
    "tokenizer = DistilBertTokenizer.from_pretrained('distilbert-base-uncased')\n",
    "model = DistilBertModel.from_pretrained('distilbert-base-uncased').to(device)\n",
    "model.eval()\n",
    "model.device"
   ]
  },
  {
   "cell_type": "code",
   "metadata": {
    "pycharm": {
     "name": "#%%\n"
    }
   },
   "source": [
    "def conversation_to_batch(conversation: Conversation):\n",
    "    \"\"\"\n",
    "    does a 2-gram of dialogs in a conversation.\n",
    "\n",
    "    examples of sentence_1_batch and sentence_2_batch:\n",
    "        sentence_1_batch = ['Hello, my dog is cute', 'Hitler was a very bad person']\n",
    "        sentence_2_batch = [\"oh yeah! That's really cute\", None]\n",
    "    \"\"\"\n",
    "    dialogs = [d.dialog for d in conversation.dialogs]\n",
    "    pairs = []\n",
    "    for i in range(len(dialogs) - 1):\n",
    "        pairs.append((dialogs[i], dialogs[i+1]))\n",
    "\n",
    "    sentence_1_batch = [pair[0] for pair in pairs]\n",
    "    sentence_2_batch = [pair[1] for pair in pairs]\n",
    "\n",
    "    # This will make sure that all dialogs are seen exactly twice by the model.\n",
    "    sentence_1_batch = sentence_1_batch + [pairs[0][0], pairs[-1][1]]\n",
    "    sentence_2_batch = sentence_2_batch + [None, None]\n",
    "\n",
    "    inputs = tokenizer(sentence_1_batch, sentence_2_batch, padding=True, return_tensors='pt')\n",
    "    return inputs\n",
    "\n",
    "\n",
    "def average_pool_without_padding(\n",
    "    embeddings_batch: torch.Tensor,\n",
    "    attention_mask_batch: torch.Tensor\n",
    ") -> torch.Tensor:\n",
    "    \"\"\"\n",
    "    Given an embeddings output of shape (batch, sequence_length, embedding_dim)\n",
    "    and attention_mask_batch of shape (batch, sequence_length),\n",
    "    this function will return averaged embeddings without taking padding into account.\n",
    "    The shape will be (batch, embedding_dim)\n",
    "    \"\"\"\n",
    "    batch_size, sequence_length, embeddings_dim = embeddings_batch.shape\n",
    "    sequence_lengths_no_padding = torch.count_nonzero(attention_mask_batch, dim=1)\n",
    "    output_tensor = []\n",
    "    for i in range(batch_size):\n",
    "        embeddings_no_padding = embeddings_batch[i][:sequence_lengths_no_padding[i]]\n",
    "        mean_embedding = torch.mean(embeddings_no_padding, dim=0)\n",
    "        output_tensor.append(mean_embedding)\n",
    "    output_tensor = torch.stack(output_tensor)\n",
    "    return output_tensor\n"
   ],
   "execution_count": 14,
   "outputs": []
  },
  {
   "cell_type": "code",
   "execution_count": 15,
   "metadata": {
    "pycharm": {
     "name": "#%%\n"
    }
   },
   "outputs": [],
   "source": [
    "def get_conversation_embedding(conversation: Conversation):\n",
    "    inputs = conversation_to_batch(conversation)\n",
    "\n",
    "    # Shows the indices and tokens of first 2 dialogs. Uncomment to debug\n",
    "    # itos = list(tokenizer.vocab.items())\n",
    "    # for index in inputs.data['input_ids'][0]:\n",
    "    #     print(itos[index])\n",
    "\n",
    "    inputs = {key: value.to(device) for key, value in inputs.items()}\n",
    "    with torch.no_grad():\n",
    "        outputs = model(**inputs)\n",
    "    outputs.last_hidden_state = outputs.last_hidden_state.cpu()\n",
    "    conversation_embeddings = average_pool_without_padding(outputs.last_hidden_state, inputs['attention_mask'])\n",
    "\n",
    "    # Average all 2-gram sentence embeddings to get conversation embedding.\n",
    "    conversation_embedding = torch.mean(conversation_embeddings, dim=0)\n",
    "    return conversation_embedding\n",
    "\n",
    "\n",
    "def get_dialogs_embeddings(conversation: Conversation):\n",
    "    dialogs = [d.dialog for d in conversation.dialogs]\n",
    "    dialogs_inputs = tokenizer(dialogs, padding=True, return_tensors='pt')\n",
    "\n",
    "    dialogs_inputs = {key: value.to(device) for key, value in dialogs_inputs.items()}\n",
    "    with torch.no_grad():\n",
    "        dialogs_embeddings = model(**dialogs_inputs)\n",
    "    dialogs_embeddings.last_hidden_state = dialogs_embeddings.last_hidden_state.cpu()\n",
    "    dialogs_embeddings = average_pool_without_padding(\n",
    "        dialogs_embeddings.last_hidden_state,\n",
    "        dialogs_inputs['attention_mask']\n",
    "    )\n",
    "    return dialogs_embeddings\n",
    "\n",
    "\n",
    "def get_cos_sim_dialogs_and_conversation(conversation_embedding, dialogs_embeddings):\n",
    "    cos_sims = []\n",
    "    for i in range(len(dialogs_embeddings)):\n",
    "        cos_sim = F.cosine_similarity(dialogs_embeddings[i], conversation_embedding, dim=0)\n",
    "        # Account for negative cos sim\n",
    "        cos_sim = int(((float(cos_sim) * 100) + 100) / 2)\n",
    "\n",
    "        cos_sims.append(cos_sim)\n",
    "    return cos_sims"
   ]
  },
  {
   "cell_type": "code",
   "execution_count": 16,
   "metadata": {
    "pycharm": {
     "name": "#%%\n"
    }
   },
   "outputs": [
    {
     "data": {
      "text/plain": "(torch.Size([768]), torch.Size([3, 768]), device(type='cpu'))"
     },
     "execution_count": 16,
     "metadata": {},
     "output_type": "execute_result"
    }
   ],
   "source": [
    "conversation_embedding = get_conversation_embedding(random_conversation)\n",
    "dialogs_embeddings = get_dialogs_embeddings(random_conversation)\n",
    "\n",
    "conversation_embedding.shape, dialogs_embeddings.shape, dialogs_embeddings.device"
   ]
  },
  {
   "cell_type": "markdown",
   "metadata": {
    "pycharm": {
     "name": "#%% md\n"
    }
   },
   "source": [
    "We got an embedding for the entire conversation. `conversation_embedding`\n",
    "We also found the embeddings of all dialogs in the conversation.\n",
    "Of these dialogs, which one represents best the conversation embedding?\n",
    "\n",
    "Here I'm using cos similarity. One can use eucledian distance as well.\n",
    "The problem with distance is that it is not bounded b/w 0-1 or something. It is a real number."
   ]
  },
  {
   "cell_type": "code",
   "execution_count": 17,
   "metadata": {
    "pycharm": {
     "name": "#%%\n"
    }
   },
   "outputs": [],
   "source": [
    "cos_sims = get_cos_sim_dialogs_and_conversation(conversation_embedding, dialogs_embeddings)"
   ]
  },
  {
   "cell_type": "code",
   "execution_count": 18,
   "metadata": {
    "pycharm": {
     "name": "#%%\n"
    }
   },
   "outputs": [
    {
     "name": "stdout",
     "output_type": "stream",
     "text": [
      "96 The fools! If they only knew it, they're making things worse for themselves. Somebody starts a silly rumor, and they lose their heads.\n",
      "88 What'll we do?\n",
      "97 I'll talk to them. Listen, go back and tell the boys to stall as much as possible. Tell 'em not to pay any attention to what I said. Tell 'em to verify every signature.\n"
     ]
    }
   ],
   "source": [
    "for i in range(len(cos_sims)):\n",
    "    print(cos_sims[i], random_conversation.dialogs[i].dialog)"
   ]
  },
  {
   "cell_type": "markdown",
   "metadata": {
    "pycharm": {
     "name": "#%% md\n"
    }
   },
   "source": [
    "So we got the most significant dialog in the conversation.\n",
    "Now what?\n",
    "\n",
    "We can find the cos-similarity b/w these significant dialogs and see how many are similar."
   ]
  },
  {
   "cell_type": "code",
   "execution_count": 19,
   "metadata": {
    "pycharm": {
     "name": "#%%\n"
    }
   },
   "outputs": [
    {
     "name": "stderr",
     "output_type": "stream",
     "text": [
      "100%|██████████| 151/151 [01:38<00:00,  1.53it/s]\n"
     ]
    }
   ],
   "source": [
    "def get_significant_dialogs(movie: Movie) -> List[Tuple[torch.Tensor, str]]:\n",
    "    significant_dialogs = []\n",
    "    for conversation in tqdm(movie.conversations):\n",
    "        conversation_embedding = get_conversation_embedding(conversation)\n",
    "        dialogs_embeddings = get_dialogs_embeddings(conversation)\n",
    "        cos_sims = get_cos_sim_dialogs_and_conversation(conversation_embedding, dialogs_embeddings)\n",
    "        argmax = np.argmax(cos_sims)\n",
    "        significant_dialogs.append((\n",
    "            dialogs_embeddings[argmax],\n",
    "            conversation.dialogs[argmax].dialog,\n",
    "        ))\n",
    "    return significant_dialogs\n",
    "\n",
    "\n",
    "significant_dialogs = get_significant_dialogs(random_movie)"
   ]
  },
  {
   "cell_type": "code",
   "execution_count": 20,
   "outputs": [
    {
     "data": {
      "text/plain": "['You here again? What do you want?',\n 'What do you suppose anybody wants? Money, money, money!',\n 'Tom, I never had trouble getting credit from you before. When I was flat broke you gave me all the money I wanted. Now I come to you with a swell deal, and the greatest\\x97',\n \"What's the idea of turning her down? It sounds like a perfectly safe investment.\",\n 'Yeah - sure!',\n \"No kidding. When I saw it, you could'a knocked me over with a pin.\",\n \"Here's twenty-five thousand.\",\n 'Let me have ten bucks?',\n \"I'll pay it back to you Saturday - on the level I will. Give a guy a break, will you? I've got to get it back in my account. If Helen ever finds out that I\\x97\",\n 'Say pal, did you ever hear of a Depression?',\n \"Where do you think I've been?  I took the baby for a stroll in the park.\",\n 'I remember once when your account checked.',\n \"And listen, wise guy - I'm setting friend time clock for exactly nine o'clock, so no squawks out of you guys in the morning.\",\n 'Not yet, Mr. Clark.',\n \"Personally, I think you're getting panic-stricken about nothing. Dickson's all right.\",\n \"What good will that do?  Why, it will take control away from him. We'll put somebody else in charge, call in all doubtful loans, and be on safe ground again. That's what good it will do!\",\n 'How are you protecting your depositors? By making a lot of idiotic loans!',\n \"All right, let him! I'm sick and tired of hearing about him. If he wants to run the bank, let him do it. I don't want any part of it.\",\n \"Oh, you would, eh?  All right. If it's more important than golf, go ahead. What's on your mind?\",\n \"What's the matter with my policy? How many losses has this bank taken in the last twenty-five years?  I'll tell you. Not a single one!  What's wrong with that kind of banking?\",\n \"Not at all. That's Alexander Hamilton's idea[5] - the finest banking mind this country has ever known. Those are his exact words, gentlemen. Character!  It's the only thing you can bank on, and it's the only thing that will pull this country out of the doldrums.\",\n \"I know, Dickson. That's all very well. But you're taking too many chances. In these times a bank should keep liquid in case of trouble. In case of emergency!\",\n \"Yes! You said it, Clark. That's the only thing that means anything to me.\",\n 'We want to talk to you.',\n \"We'll be forced to shut the doors. I've worked twenty-five years night and day to keep this bank alive. You've all made money out of it. Are you willing to help?\",\n \"The depositors you were protecting were the first ones to pounce on you. You thought they were your friends. Why don't you go out there now and try and get some help from them?\",\n \"I can't? You just wait and see. If that run doesn't stop within the next hour, I'll shut the doors. You know what that means? The bank examiner will step in tomorrow. You'll be forced to liquidate. I'll insist upon it. The depositors will be paid one hundred cents on the dollar. What's left you gentlemen can have. But I'll guarantee there won't be enough to pay your next month's garage bill.\",\n \"Dickson, I'd like to talk to you about the bank.\",\n 'Come out here you pawnbrokers - take a look at this!',\n \"I hope you don't mind me asking you a few questions, Mr. Cluett.\",\n \"If you don't mind, Inspector, I'd rather not say - that is, unless it becomes absolutely essential. You see, she's married.\",\n 'It\\'s one of the boys from headquarters. He always sings \"Mother Machree\" whenever he\\'s got good news. Looks like this case\\'ll be settled in no time.',\n \"Stand back Inspector, or I'll shoot. Drop that gun.\",\n \"Don't be a fool, Cluett. This is only going to make it worse for you.\",\n 'They took my keys yesterday. I went there to get them back.',\n \"I was crazy, I tell you, Mr. Dickson. I didn't know what I was doing. I wandered around in a daze. All I could think of was that they were going to kill me . . .  You'll stand by me, won't you, Mr. Dickson? You won't go back on me now, will you? I'll die if they send me to prison!\",\n \"But I didn't kill that man last night. Honest I didn't, Mr. Dickson!\",\n 'You just mentioned her name. What was she doing there? What was she doing in your apartment?',\n \"She wasn't to blame, Mr. Dickson. It wasn't her fault. Honest, it wasn't. I begged her to come up. She didn't\\x97\",\n \"You know what we do to welchers, Cluett, don't you?\",\n \"Then what did you want to gamble for? If you'd have beat us out of fifty G's, you'd have been paid, wouldn't you? Well, we want our dough.\",\n \"Good heavens, man! You're not suggesting that I\\x97\",\n \"All you gotta do is fix a few things for us , and we'll do the rest, see?\",\n \"You? No, you'll be all right, so long as you establish an alibi for tonight.\",\n \"This won't do. Not during business hours . . .\",\n \"What is the matter with you? You're trembling?\",\n \"Here, here, here, now! Don't you go back to work on me, too. I'm getting tired of this. Besides, it's beginning to affect your looks\\x97\",\n \"Come on Cyril, try a little bit of it out on me. I haven't had any first-class blarney thrown at me since the day I was married.\",\n 'Yes, yes, it does. What are you doing tonight, Phyllis?',\n \"Oh! Oh, no!  I think I've done enough experimenting for one day. Congratulations, Cyril. You've convinced me that you're a philanderer of the very first order. I shall recommend you highly.\",\n \"No, they won't. Not when you are there. Oh, please, be a sport. Please ask me.\",\n \"Don't you know I've been crazy about you for years?\",\n \"No. I know the answer to that one.  I think you'd better take me home.\",\n \"You know, there ought to be a Congressional Medal for men like you. America's comfort to misunderstood wives. I never thought I would find myself in that class.\",\n \"I'm not afraid of you. You haven't got a moustache!\",\n 'What are you doing here?',\n 'Let me see your cash book, will you?',\n 'The butler said I could stay. I told him it was important.',\n \"Well, I thought I'd like to have a little talk with you.\",\n \"Oh no, Mr. Cluett, if it's all the same to you, I'd rather not wait. It's about you and Mrs. Dickson.\",\n \"You've no right to do this to her, Mr. Cluett. Why don't you think it over? It's only gonna get you into a lot of trouble.\",\n \"Phyllis, you don't have to explain anything.  You'd do well to mind your own business.\",\n 'Good morning, Mr. Dickson.',\n 'Wait a minute.  How do you feel this morning?',\n \"Of course, let them in! You're late now.\",\n 'Good morning, Mr. Dickson. My wife is much better this morning.',\n \"Well, look who's here! Hello, dear.\",\n \"If this isn't a red-letter day for Tom Dickson! First I trample on the Board of Directors, then I promote Matt here to assistant cashier, and now to complete the day I have a visit from my sweet and lovely and gorgeous wife. What a man, what a man!\",\n \"I'm terribly sorry. I'd forgotten all about you. I'm so sorry, dear.\",\n \"Now Tom, you simply cannot go to Philadelphia tonight. That's all there is to it.\",\n \"Ho, ho, ho, yourself! I wouldn't laugh if I were you. You may not suspect it, but I'm still attractive - to some.\",\n \"All right. I'll postpone the whole thing until tomorrow night.\",\n \"Listen, dear. I want to ask you something. I know it's a silly thing for me to ask you, but . . . I want you to tell me the truth. Where were you last night?\",\n \"Helen, you're becoming more beautiful every day. What are we going to do about it?\",\n \"I haven't got any new stories for them this morning, either.\",\n 'Helen, tell Matt I want to see him.',\n \"Oh, Mr. Dickson - they're going to arrest Matt. They think he did it!\",\n 'Come on in here, Helen. Bring your book. I want some numbers to try to get some action. Get Parker at the Union-Leeds - the Exchange . . . Winslow and old man Harris at the Home Mortgage. Snap into it, Helen. Just as quick as you can.',\n 'You want the rest of those numbers, Mr. Dickson?',\n 'Good morning, Helen.',\n \"Oh, no! It's not for you. You're only going to get married. Mrs. Dickson and I are going to go on the honeymoon.\",\n 'Yes, sir.',\n 'All right. Send him in.',\n 'Helen!',\n 'Good morning, Mrs. Pembroke.',\n \"Ah, Mrs. Pembroke. I spoke to Mr. Schaffer at the Guaranty. He's going to take care of that mortgage for you . . .\",\n 'But, Mr. Dickson, I thought you were going to take care of the mortgage. I only want ten thousand. The property is worth sixty.',\n \"Wait a minute. Where's your uniform?\",\n 'Oh, make that uniform blue.',\n \"I don't know. Mr. Sampson bought it for me.\",\n \"And what's more, keep up the good work and who knows - some day you'll be the fellow sitting behind that desk . . .  Not a bad thought, eh?\",\n \"Say, come on. Show a little enthusiasm. What's the matter? Are you sick or something? Go on, fake it - even if it isn't real.\",\n \"Aw, I'm sorry, Mr. Dickson. It's just kind of sudden, that's all.  Sure, I'm excited. I think it's great. Only, well, you've done so much for me already . . . I'll never be able to thank you enough.\",\n 'I already told him I was home.',\n \"Wait a minute. Wait a minute.  Matt, do you realize you're up against something? You're being charged with murder. It's serious, son. Now come on, I know you didn't do it.  But we've got to make them believe it. Come on, tell the truth, where were you last night?\",\n \"Yes, you are. You're protecting somebody. Now listen, it doesn't make any difference who it is. It can't be as important as this. Now come on, tell me. Where were you last night?  Come on, don't be a fool. Matt, you trust me, don't you?\",\n \"Oh, I can explain about that later. You're losing your bank - don't you realize what that means?\",\n \"I don't want to hear any more about it. If you don't get married, I'll fire both of you.\",\n \"Helen, while you're downtown, you might stop in and make reservations for the bridal suite on the Berengaria sailing next week.\",\n \"What's the matter? What's going on here?  This is ridiculous! You can't hold this boy on a vague suspicion.\",\n \"Why, certainly he can.  Matt, now all you've got to do is tell them where you were last night, between twelve and twelve-thirty, and everything will be all right.\",\n \"Good.  You've got nothing to worry about. Soon as the report comes in, you'll be released.  And listen, don't talk so loud. Take it easy. Coast a little.\",\n \"So have you. So have I. So's everybody got a record. What difference does that make? You can't go around pinning crimes on people just because they\\x97\",\n \"Listen, Matt. If you don't tell the truth, I can't help you. Where were you last night?\",\n \"You were right, Mr. Dickson! Brown didn't have anything to do with it. Here's your man.\",\n \"My wife? What's she got to do with you?\",\n \"Don't worry, Mr. Dickson. We'll find out whether he's telling the truth. I'll have a man from headquarters check up on it right away.\",\n \"Here's the data on the Clyde deal.\",\n \"Good. I'll take this along with me. Tell Clyde I'll see him tomorrow. I'm sick and tired of the delay.\",\n 'What are you talking about?',\n \"They've been coming in steady all morning. I have called for some extra police.\",\n \"The bank's reputation wouldn't be worth a nickel after that. This is just a flurry, that's all. They've heard about the robbery and got panic-stricken. Listen, get a hold of our available securities and have them turned into cash. Wait a minute. Get my personal stuff and have that turned into cash too. Tell the boys anyone caught arguing with a depositor will be fired on the spot.\",\n \"Yes, sir. But soon as our money runs out, they'll mob the place.\",\n \"I'll talk to them. Listen, go back and tell the boys to stall as much as possible. Tell 'em not to pay any attention to what I said. Tell 'em to verify every signature.\",\n \"We can't keep open till four o'clock. We haven't cash enough to last an hour.\",\n 'Get all the big bills in the place. Take them out and get them changed. Get nothing but ones and fives. Distribute them among the tellers. Tell them to take their time. Stall as much as possible. Count and recount the money.',\n \"It's his life insurance money, you know.\",\n 'Quiet down, please! Take it easy, folks. Everything will be all right.',\n 'Board meeting. Oh, that means hours, I suppose.',\n \"Oh, well. I guess the only other thing for me to do is to go out and buy myself a few sticks of dynamite. When he comes out, you tell him I'll be back. He hasn't gotten rid of me!\",\n 'Come here, honey!',\n \"Hey, look out, somebody's likely to see us!\",\n 'What did you do with it?',\n \"Oh, you think I'm lying?\",\n \"Say, I just heard the merger isn't going thru. Isn't that grand?\",\n 'What happened? What did he say? Did you get the job?',\n \"What's the matter, Matt? Gee, I thought you'd be thrilled to death.\",\n 'Oh Matt, you must be mistaken.',\n \"Yes, right in his office, the rat. I'd like to take a crack at that guy.\",\n \"Now you've got me worried, dear.  Promise me you won't butt in.\",\n \"Shh . . . !  I'll wait for you upstairs.\",\n \"Don't cry, honey. Everything's gonna be all right.\",\n \"Sure, they'd turn him down. He ought to know that. I'm going in there and talk to him.\",\n \"Yeah.  I got an idea. Come on, let's get to a telephone.\",\n \"Dickson's in a jam I tell you. The run's getting worse.\",\n 'Did you say Dude Finlay?',\n \"I've been trailing the cashier like you told me. You're right about that guy, chief. There's something screwy somewhere.\",\n 'Sure I do. He has the best room in me house. The one with the fancy wallpaper.',\n 'It was late, I know. The Dooley sisters was already in. They work at a show, you know.',\n 'What time did Matt Brown get in?',\n \"Yes, I guess it was one, 'cause...\",\n 'Listen here, young man - nobody ever called me a liar yet and got away with it\\x97',\n \"You turned off the burglar alarm, you set the time clock, came back at twelve and emptied the boxes, didn't you?\",\n \"I don't know.\",\n \"Eleven o'clock, eh? Are you sure it was that?\",\n \"But I wasn't here, Mr. Dickson. Honest I wasn't . . .\",\n \"You're carrying too much money on you, Hank. You better turn some in tonight.\",\n \"You've got enough?\",\n 'That mug reminds me of a guy with his second dollar.',\n \"Where's Charlie?\",\n \"They're starting to come in already. Yeah. Yeah. Well, listen. Don't waste any time. Get all the money you can lay your hands on, and bring it down here right away. Step on it.\"]"
     },
     "execution_count": 20,
     "metadata": {},
     "output_type": "execute_result"
    }
   ],
   "source": [
    "[d[1] for d in significant_dialogs]"
   ],
   "metadata": {
    "collapsed": false,
    "pycharm": {
     "name": "#%%\n"
    }
   }
  },
  {
   "cell_type": "markdown",
   "source": [
    "These dialogs are interesting, but some of them are boring and not \"significant\".\n",
    "I want to cluster them into groups.\n",
    "There's one way to do this.\n",
    "\n",
    "Find similarity b/w each significant dialog to the others.\n",
    "Now consider creating a network of these dialogs where similar dialogs have a link."
   ],
   "metadata": {
    "collapsed": false,
    "pycharm": {
     "name": "#%% md\n"
    }
   }
  },
  {
   "cell_type": "code",
   "metadata": {
    "pycharm": {
     "name": "#%%\n"
    }
   },
   "source": [
    "def get_similar_dialog_pairs(dialogs: List[Tuple[torch.Tensor, str]]) -> List[Tuple[int, int, float]]:\n",
    "    similar_pairs = []\n",
    "    for i, (tensor1, dialog1) in enumerate(dialogs):\n",
    "        for j in range(i + 1, len(dialogs)):\n",
    "            tensor2, dialog2 = dialogs[j]\n",
    "\n",
    "            similarity = float(F.cosine_similarity(tensor1, tensor2, dim=0))\n",
    "            similar_pairs.append((i, j, similarity))\n",
    "\n",
    "    similar_pairs = sorted(similar_pairs, key=lambda x: -x[2])\n",
    "    return similar_pairs\n",
    "\n",
    "\n",
    "all_dialog_pairs = get_similar_dialog_pairs(significant_dialogs)\n",
    "similar_pairs = all_dialog_pairs[: len(significant_dialogs) // 2]"
   ],
   "execution_count": 21,
   "outputs": []
  },
  {
   "cell_type": "code",
   "execution_count": 22,
   "outputs": [
    {
     "name": "stdout",
     "output_type": "stream",
     "text": [
      "Average length of conversations: 0.7608779309074873\n",
      "Max length of conversations: 0.9628100395202637\n",
      "Min length of conversations: 0.38927698135375977\n"
     ]
    },
    {
     "data": {
      "text/plain": "Text(0.5, 0, 'similarity_scores')"
     },
     "execution_count": 22,
     "metadata": {},
     "output_type": "execute_result"
    },
    {
     "data": {
      "text/plain": "<Figure size 432x288 with 1 Axes>",
      "image/png": "[encoded data removed]"
     },
     "metadata": {
      "needs_background": "light"
     },
     "output_type": "display_data"
    }
   ],
   "source": [
    "# Plotting similarity scores for the dialogs\n",
    "\n",
    "similarity_scores = np.array([p[2] for p in all_dialog_pairs])\n",
    "\n",
    "print(f'Average length of conversations: {similarity_scores.mean()}')\n",
    "print(f'Max length of conversations: {similarity_scores.max()}')\n",
    "print(f'Min length of conversations: {similarity_scores.min()}')\n",
    "\n",
    "plt.plot(similarity_scores)\n",
    "plt.title(\"similarity_scores for each pair of significant dialogs\")\n",
    "plt.xlabel(\"dialog pair index sorted descendingly by y\")\n",
    "plt.xlabel(\"similarity_scores\")"
   ],
   "metadata": {
    "collapsed": false,
    "pycharm": {
     "name": "#%%\n"
    }
   }
  },
  {
   "cell_type": "code",
   "execution_count": 23,
   "outputs": [
    {
     "data": {
      "text/plain": "<IPython.core.display.HTML object>",
      "text/html": "<html>\n<head>\n<link rel=\"stylesheet\" href=\"https://cdnjs.cloudflare.com/ajax/libs/vis/4.16.1/vis.css\" type=\"text/css\" />\n<script type=\"text/javascript\" src=\"https://cdnjs.cloudflare.com/ajax/libs/vis/4.16.1/vis-network.min.js\"> </script>\n<center>\n<h1></h1>\n</center>\n\n<!-- <link rel=\"stylesheet\" href=\"../node_modules/vis/dist/vis.min.css\" type=\"text/css\" />\n<script type=\"text/javascript\" src=\"../node_modules/vis/dist/vis.js\"> </script>-->\n\n<style type=\"text/css\">\n\n        #mynetwork {\n            width: 1080;\n            height: 500px;\n            background-color: #ffffff;\n            border: 1px solid lightgray;\n            position: relative;\n            float: left;\n        }\n\n        \n        #loadingBar {\n            position:absolute;\n            top:0px;\n            left:0px;\n            width: 1080;\n            height: 500px;\n            background-color:rgba(200,200,200,0.8);\n            -webkit-transition: all 0.5s ease;\n            -moz-transition: all 0.5s ease;\n            -ms-transition: all 0.5s ease;\n            -o-transition: all 0.5s ease;\n            transition: all 0.5s ease;\n            opacity:1;\n        }\n\n        #bar {\n            position:absolute;\n            top:0px;\n            left:0px;\n            width:20px;\n            height:20px;\n            margin:auto auto auto auto;\n            border-radius:11px;\n            border:2px solid rgba(30,30,30,0.05);\n            background: rgb(0, 173, 246); /* Old browsers */\n            box-shadow: 2px 0px 4px rgba(0,0,0,0.4);\n        }\n\n        #border {\n            position:absolute;\n            top:10px;\n            left:10px;\n            width:500px;\n            height:23px;\n            margin:auto auto auto auto;\n            box-shadow: 0px 0px 4px rgba(0,0,0,0.2);\n            border-radius:10px;\n        }\n\n        #text {\n            position:absolute;\n            top:8px;\n            left:530px;\n            width:30px;\n            height:50px;\n            margin:auto auto auto auto;\n            font-size:22px;\n            color: #000000;\n        }\n\n        div.outerBorder {\n            position:relative;\n            top:400px;\n            width:600px;\n            height:44px;\n            margin:auto auto auto auto;\n            border:8px solid rgba(0,0,0,0.1);\n            background: rgb(252,252,252); /* Old browsers */\n            background: -moz-linear-gradient(top,  rgba(252,252,252,1) 0%, rgba(237,237,237,1) 100%); /* FF3.6+ */\n            background: -webkit-gradient(linear, left top, left bottom, color-stop(0%,rgba(252,252,252,1)), color-stop(100%,rgba(237,237,237,1))); /* Chrome,Safari4+ */\n            background: -webkit-linear-gradient(top,  rgba(252,252,252,1) 0%,rgba(237,237,237,1) 100%); /* Chrome10+,Safari5.1+ */\n            background: -o-linear-gradient(top,  rgba(252,252,252,1) 0%,rgba(237,237,237,1) 100%); /* Opera 11.10+ */\n            background: -ms-linear-gradient(top,  rgba(252,252,252,1) 0%,rgba(237,237,237,1) 100%); /* IE10+ */\n            background: linear-gradient(to bottom,  rgba(252,252,252,1) 0%,rgba(237,237,237,1) 100%); /* W3C */\n            filter: progid:DXImageTransform.Microsoft.gradient( startColorstr='#fcfcfc', endColorstr='#ededed',GradientType=0 ); /* IE6-9 */\n            border-radius:72px;\n            box-shadow: 0px 0px 10px rgba(0,0,0,0.2);\n        }\n        \n\n        \n\n        \n</style>\n\n</head>\n\n<body>\n<div id = \"mynetwork\"></div>\n\n<div id=\"loadingBar\">\n    <div class=\"outerBorder\">\n        <div id=\"text\">0%</div>\n        <div id=\"border\">\n            <div id=\"bar\"></div>\n        </div>\n    </div>\n</div>\n\n\n<script type=\"text/javascript\">\n\n    // initialize global variables.\n    var edges;\n    var nodes;\n    var network; \n    var container;\n    var options, data;\n\n    \n    // This method is responsible for drawing the graph, returns the drawn network\n    function drawGraph() {\n        var container = document.getElementById('mynetwork');\n        \n        \n\n        // parsing and collecting nodes and edges from the python\n        nodes = new vis.DataSet([{\"id\": 0, \"label\": \"You here again? What do you want?\", \"shape\": \"dot\", \"size\": 10, \"title\": \"You here again? What do you want?\"}, {\"id\": 1, \"label\": \"What do you suppose anybody wants? Money, money, money!\", \"shape\": \"dot\", \"size\": 10, \"title\": \"What do you suppose anybody wants? Money, money, money!\"}, {\"id\": 2, \"label\": \"Tom, I never had trouble getting credit from you before. When I was flat broke you gave me all the money I wanted. Now I come to you with a swell deal, and the greatest\\u0097\", \"shape\": \"dot\", \"size\": 10, \"title\": \"Tom, I never had trouble getting credit from you before. When I was flat broke you gave me all the money I wanted. Now I come to you with a swell deal, and the greatest\\u0097\"}, {\"id\": 3, \"label\": \"What\\u0027s the idea of turning her down? It sounds like a perfectly safe investment.\", \"shape\": \"dot\", \"size\": 10, \"title\": \"What\\u0027s the idea of turning her down? It sounds like a perfectly safe investment.\"}, {\"id\": 4, \"label\": \"Yeah - sure!\", \"shape\": \"dot\", \"size\": 10, \"title\": \"Yeah - sure!\"}, {\"id\": 5, \"label\": \"No kidding. When I saw it, you could\\u0027a knocked me over with a pin.\", \"shape\": \"dot\", \"size\": 10, \"title\": \"No kidding. When I saw it, you could\\u0027a knocked me over with a pin.\"}, {\"id\": 6, \"label\": \"Here\\u0027s twenty-five thousand.\", \"shape\": \"dot\", \"size\": 10, \"title\": \"Here\\u0027s twenty-five thousand.\"}, {\"id\": 7, \"label\": \"Let me have ten bucks?\", \"shape\": \"dot\", \"size\": 10, \"title\": \"Let me have ten bucks?\"}, {\"id\": 8, \"label\": \"I\\u0027ll pay it back to you Saturday - on the level I will. Give a guy a break, will you? I\\u0027ve got to get it back in my account. If Helen ever finds out that I\\u0097\", \"shape\": \"dot\", \"size\": 10, \"title\": \"I\\u0027ll pay it back to you Saturday - on the level I will. Give a guy a break, will you? I\\u0027ve got to get it back in my account. If Helen ever finds out that I\\u0097\"}, {\"id\": 9, \"label\": \"Say pal, did you ever hear of a Depression?\", \"shape\": \"dot\", \"size\": 10, \"title\": \"Say pal, did you ever hear of a Depression?\"}, {\"id\": 10, \"label\": \"Where do you think I\\u0027ve been?  I took the baby for a stroll in the park.\", \"shape\": \"dot\", \"size\": 10, \"title\": \"Where do you think I\\u0027ve been?  I took the baby for a stroll in the park.\"}, {\"id\": 11, \"label\": \"I remember once when your account checked.\", \"shape\": \"dot\", \"size\": 10, \"title\": \"I remember once when your account checked.\"}, {\"id\": 12, \"label\": \"And listen, wise guy - I\\u0027m setting friend time clock for exactly nine o\\u0027clock, so no squawks out of you guys in the morning.\", \"shape\": \"dot\", \"size\": 10, \"title\": \"And listen, wise guy - I\\u0027m setting friend time clock for exactly nine o\\u0027clock, so no squawks out of you guys in the morning.\"}, {\"id\": 13, \"label\": \"Not yet, Mr. Clark.\", \"shape\": \"dot\", \"size\": 10, \"title\": \"Not yet, Mr. Clark.\"}, {\"id\": 14, \"label\": \"Personally, I think you\\u0027re getting panic-stricken about nothing. Dickson\\u0027s all right.\", \"shape\": \"dot\", \"size\": 10, \"title\": \"Personally, I think you\\u0027re getting panic-stricken about nothing. Dickson\\u0027s all right.\"}, {\"id\": 15, \"label\": \"What good will that do?  Why, it will take control away from him. We\\u0027ll put somebody else in charge, call in all doubtful loans, and be on safe ground again. That\\u0027s what good it will do!\", \"shape\": \"dot\", \"size\": 10, \"title\": \"What good will that do?  Why, it will take control away from him. We\\u0027ll put somebody else in charge, call in all doubtful loans, and be on safe ground again. That\\u0027s what good it will do!\"}, {\"id\": 16, \"label\": \"How are you protecting your depositors? By making a lot of idiotic loans!\", \"shape\": \"dot\", \"size\": 10, \"title\": \"How are you protecting your depositors? By making a lot of idiotic loans!\"}, {\"id\": 17, \"label\": \"All right, let him! I\\u0027m sick and tired of hearing about him. If he wants to run the bank, let him do it. I don\\u0027t want any part of it.\", \"shape\": \"dot\", \"size\": 10, \"title\": \"All right, let him! I\\u0027m sick and tired of hearing about him. If he wants to run the bank, let him do it. I don\\u0027t want any part of it.\"}, {\"id\": 18, \"label\": \"Oh, you would, eh?  All right. If it\\u0027s more important than golf, go ahead. What\\u0027s on your mind?\", \"shape\": \"dot\", \"size\": 10, \"title\": \"Oh, you would, eh?  All right. If it\\u0027s more important than golf, go ahead. What\\u0027s on your mind?\"}, {\"id\": 19, \"label\": \"What\\u0027s the matter with my policy? How many losses has this bank taken in the last twenty-five years?  I\\u0027ll tell you. Not a single one!  What\\u0027s wrong with that kind of banking?\", \"shape\": \"dot\", \"size\": 10, \"title\": \"What\\u0027s the matter with my policy? How many losses has this bank taken in the last twenty-five years?  I\\u0027ll tell you. Not a single one!  What\\u0027s wrong with that kind of banking?\"}, {\"id\": 20, \"label\": \"Not at all. That\\u0027s Alexander Hamilton\\u0027s idea[5] - the finest banking mind this country has ever known. Those are his exact words, gentlemen. Character!  It\\u0027s the only thing you can bank on, and it\\u0027s the only thing that will pull this country out of the doldrums.\", \"shape\": \"dot\", \"size\": 10, \"title\": \"Not at all. That\\u0027s Alexander Hamilton\\u0027s idea[5] - the finest banking mind this country has ever known. Those are his exact words, gentlemen. Character!  It\\u0027s the only thing you can bank on, and it\\u0027s the only thing that will pull this country out of the doldrums.\"}, {\"id\": 21, \"label\": \"I know, Dickson. That\\u0027s all very well. But you\\u0027re taking too many chances. In these times a bank should keep liquid in case of trouble. In case of emergency!\", \"shape\": \"dot\", \"size\": 10, \"title\": \"I know, Dickson. That\\u0027s all very well. But you\\u0027re taking too many chances. In these times a bank should keep liquid in case of trouble. In case of emergency!\"}, {\"id\": 22, \"label\": \"Yes! You said it, Clark. That\\u0027s the only thing that means anything to me.\", \"shape\": \"dot\", \"size\": 10, \"title\": \"Yes! You said it, Clark. That\\u0027s the only thing that means anything to me.\"}, {\"id\": 23, \"label\": \"We want to talk to you.\", \"shape\": \"dot\", \"size\": 10, \"title\": \"We want to talk to you.\"}, {\"id\": 24, \"label\": \"We\\u0027ll be forced to shut the doors. I\\u0027ve worked twenty-five years night and day to keep this bank alive. You\\u0027ve all made money out of it. Are you willing to help?\", \"shape\": \"dot\", \"size\": 10, \"title\": \"We\\u0027ll be forced to shut the doors. I\\u0027ve worked twenty-five years night and day to keep this bank alive. You\\u0027ve all made money out of it. Are you willing to help?\"}, {\"id\": 25, \"label\": \"The depositors you were protecting were the first ones to pounce on you. You thought they were your friends. Why don\\u0027t you go out there now and try and get some help from them?\", \"shape\": \"dot\", \"size\": 10, \"title\": \"The depositors you were protecting were the first ones to pounce on you. You thought they were your friends. Why don\\u0027t you go out there now and try and get some help from them?\"}, {\"id\": 26, \"label\": \"I can\\u0027t? You just wait and see. If that run doesn\\u0027t stop within the next hour, I\\u0027ll shut the doors. You know what that means? The bank examiner will step in tomorrow. You\\u0027ll be forced to liquidate. I\\u0027ll insist upon it. The depositors will be paid one hundred cents on the dollar. What\\u0027s left you gentlemen can have. But I\\u0027ll guarantee there won\\u0027t be enough to pay your next month\\u0027s garage bill.\", \"shape\": \"dot\", \"size\": 10, \"title\": \"I can\\u0027t? You just wait and see. If that run doesn\\u0027t stop within the next hour, I\\u0027ll shut the doors. You know what that means? The bank examiner will step in tomorrow. You\\u0027ll be forced to liquidate. I\\u0027ll insist upon it. The depositors will be paid one hundred cents on the dollar. What\\u0027s left you gentlemen can have. But I\\u0027ll guarantee there won\\u0027t be enough to pay your next month\\u0027s garage bill.\"}, {\"id\": 27, \"label\": \"Dickson, I\\u0027d like to talk to you about the bank.\", \"shape\": \"dot\", \"size\": 10, \"title\": \"Dickson, I\\u0027d like to talk to you about the bank.\"}, {\"id\": 28, \"label\": \"Come out here you pawnbrokers - take a look at this!\", \"shape\": \"dot\", \"size\": 10, \"title\": \"Come out here you pawnbrokers - take a look at this!\"}, {\"id\": 29, \"label\": \"I hope you don\\u0027t mind me asking you a few questions, Mr. Cluett.\", \"shape\": \"dot\", \"size\": 10, \"title\": \"I hope you don\\u0027t mind me asking you a few questions, Mr. Cluett.\"}, {\"id\": 30, \"label\": \"If you don\\u0027t mind, Inspector, I\\u0027d rather not say - that is, unless it becomes absolutely essential. You see, she\\u0027s married.\", \"shape\": \"dot\", \"size\": 10, \"title\": \"If you don\\u0027t mind, Inspector, I\\u0027d rather not say - that is, unless it becomes absolutely essential. You see, she\\u0027s married.\"}, {\"id\": 31, \"label\": \"It\\u0027s one of the boys from headquarters. He always sings \\\"Mother Machree\\\" whenever he\\u0027s got good news. Looks like this case\\u0027ll be settled in no time.\", \"shape\": \"dot\", \"size\": 10, \"title\": \"It\\u0027s one of the boys from headquarters. He always sings \\\"Mother Machree\\\" whenever he\\u0027s got good news. Looks like this case\\u0027ll be settled in no time.\"}, {\"id\": 32, \"label\": \"Stand back Inspector, or I\\u0027ll shoot. Drop that gun.\", \"shape\": \"dot\", \"size\": 10, \"title\": \"Stand back Inspector, or I\\u0027ll shoot. Drop that gun.\"}, {\"id\": 33, \"label\": \"Don\\u0027t be a fool, Cluett. This is only going to make it worse for you.\", \"shape\": \"dot\", \"size\": 10, \"title\": \"Don\\u0027t be a fool, Cluett. This is only going to make it worse for you.\"}, {\"id\": 34, \"label\": \"They took my keys yesterday. I went there to get them back.\", \"shape\": \"dot\", \"size\": 10, \"title\": \"They took my keys yesterday. I went there to get them back.\"}, {\"id\": 35, \"label\": \"I was crazy, I tell you, Mr. Dickson. I didn\\u0027t know what I was doing. I wandered around in a daze. All I could think of was that they were going to kill me . . .  You\\u0027ll stand by me, won\\u0027t you, Mr. Dickson? You won\\u0027t go back on me now, will you? I\\u0027ll die if they send me to prison!\", \"shape\": \"dot\", \"size\": 10, \"title\": \"I was crazy, I tell you, Mr. Dickson. I didn\\u0027t know what I was doing. I wandered around in a daze. All I could think of was that they were going to kill me . . .  You\\u0027ll stand by me, won\\u0027t you, Mr. Dickson? You won\\u0027t go back on me now, will you? I\\u0027ll die if they send me to prison!\"}, {\"id\": 36, \"label\": \"But I didn\\u0027t kill that man last night. Honest I didn\\u0027t, Mr. Dickson!\", \"shape\": \"dot\", \"size\": 10, \"title\": \"But I didn\\u0027t kill that man last night. Honest I didn\\u0027t, Mr. Dickson!\"}, {\"id\": 37, \"label\": \"You just mentioned her name. What was she doing there? What was she doing in your apartment?\", \"shape\": \"dot\", \"size\": 10, \"title\": \"You just mentioned her name. What was she doing there? What was she doing in your apartment?\"}, {\"id\": 38, \"label\": \"She wasn\\u0027t to blame, Mr. Dickson. It wasn\\u0027t her fault. Honest, it wasn\\u0027t. I begged her to come up. She didn\\u0027t\\u0097\", \"shape\": \"dot\", \"size\": 10, \"title\": \"She wasn\\u0027t to blame, Mr. Dickson. It wasn\\u0027t her fault. Honest, it wasn\\u0027t. I begged her to come up. She didn\\u0027t\\u0097\"}, {\"id\": 39, \"label\": \"You know what we do to welchers, Cluett, don\\u0027t you?\", \"shape\": \"dot\", \"size\": 10, \"title\": \"You know what we do to welchers, Cluett, don\\u0027t you?\"}, {\"id\": 40, \"label\": \"Then what did you want to gamble for? If you\\u0027d have beat us out of fifty G\\u0027s, you\\u0027d have been paid, wouldn\\u0027t you? Well, we want our dough.\", \"shape\": \"dot\", \"size\": 10, \"title\": \"Then what did you want to gamble for? If you\\u0027d have beat us out of fifty G\\u0027s, you\\u0027d have been paid, wouldn\\u0027t you? Well, we want our dough.\"}, {\"id\": 41, \"label\": \"Good heavens, man! You\\u0027re not suggesting that I\\u0097\", \"shape\": \"dot\", \"size\": 10, \"title\": \"Good heavens, man! You\\u0027re not suggesting that I\\u0097\"}, {\"id\": 42, \"label\": \"All you gotta do is fix a few things for us , and we\\u0027ll do the rest, see?\", \"shape\": \"dot\", \"size\": 10, \"title\": \"All you gotta do is fix a few things for us , and we\\u0027ll do the rest, see?\"}, {\"id\": 43, \"label\": \"You? No, you\\u0027ll be all right, so long as you establish an alibi for tonight.\", \"shape\": \"dot\", \"size\": 10, \"title\": \"You? No, you\\u0027ll be all right, so long as you establish an alibi for tonight.\"}, {\"id\": 44, \"label\": \"This won\\u0027t do. Not during business hours . . .\", \"shape\": \"dot\", \"size\": 10, \"title\": \"This won\\u0027t do. Not during business hours . . .\"}, {\"id\": 45, \"label\": \"What is the matter with you? You\\u0027re trembling?\", \"shape\": \"dot\", \"size\": 10, \"title\": \"What is the matter with you? You\\u0027re trembling?\"}, {\"id\": 46, \"label\": \"Here, here, here, now! Don\\u0027t you go back to work on me, too. I\\u0027m getting tired of this. Besides, it\\u0027s beginning to affect your looks\\u0097\", \"shape\": \"dot\", \"size\": 10, \"title\": \"Here, here, here, now! Don\\u0027t you go back to work on me, too. I\\u0027m getting tired of this. Besides, it\\u0027s beginning to affect your looks\\u0097\"}, {\"id\": 47, \"label\": \"Come on Cyril, try a little bit of it out on me. I haven\\u0027t had any first-class blarney thrown at me since the day I was married.\", \"shape\": \"dot\", \"size\": 10, \"title\": \"Come on Cyril, try a little bit of it out on me. I haven\\u0027t had any first-class blarney thrown at me since the day I was married.\"}, {\"id\": 48, \"label\": \"Yes, yes, it does. What are you doing tonight, Phyllis?\", \"shape\": \"dot\", \"size\": 10, \"title\": \"Yes, yes, it does. What are you doing tonight, Phyllis?\"}, {\"id\": 49, \"label\": \"Oh! Oh, no!  I think I\\u0027ve done enough experimenting for one day. Congratulations, Cyril. You\\u0027ve convinced me that you\\u0027re a philanderer of the very first order. I shall recommend you highly.\", \"shape\": \"dot\", \"size\": 10, \"title\": \"Oh! Oh, no!  I think I\\u0027ve done enough experimenting for one day. Congratulations, Cyril. You\\u0027ve convinced me that you\\u0027re a philanderer of the very first order. I shall recommend you highly.\"}, {\"id\": 50, \"label\": \"No, they won\\u0027t. Not when you are there. Oh, please, be a sport. Please ask me.\", \"shape\": \"dot\", \"size\": 10, \"title\": \"No, they won\\u0027t. Not when you are there. Oh, please, be a sport. Please ask me.\"}, {\"id\": 51, \"label\": \"Don\\u0027t you know I\\u0027ve been crazy about you for years?\", \"shape\": \"dot\", \"size\": 10, \"title\": \"Don\\u0027t you know I\\u0027ve been crazy about you for years?\"}, {\"id\": 52, \"label\": \"No. I know the answer to that one.  I think you\\u0027d better take me home.\", \"shape\": \"dot\", \"size\": 10, \"title\": \"No. I know the answer to that one.  I think you\\u0027d better take me home.\"}, {\"id\": 53, \"label\": \"You know, there ought to be a Congressional Medal for men like you. America\\u0027s comfort to misunderstood wives. I never thought I would find myself in that class.\", \"shape\": \"dot\", \"size\": 10, \"title\": \"You know, there ought to be a Congressional Medal for men like you. America\\u0027s comfort to misunderstood wives. I never thought I would find myself in that class.\"}, {\"id\": 54, \"label\": \"I\\u0027m not afraid of you. You haven\\u0027t got a moustache!\", \"shape\": \"dot\", \"size\": 10, \"title\": \"I\\u0027m not afraid of you. You haven\\u0027t got a moustache!\"}, {\"id\": 55, \"label\": \"What are you doing here?\", \"shape\": \"dot\", \"size\": 10, \"title\": \"What are you doing here?\"}, {\"id\": 56, \"label\": \"Let me see your cash book, will you?\", \"shape\": \"dot\", \"size\": 10, \"title\": \"Let me see your cash book, will you?\"}, {\"id\": 57, \"label\": \"The butler said I could stay. I told him it was important.\", \"shape\": \"dot\", \"size\": 10, \"title\": \"The butler said I could stay. I told him it was important.\"}, {\"id\": 58, \"label\": \"Well, I thought I\\u0027d like to have a little talk with you.\", \"shape\": \"dot\", \"size\": 10, \"title\": \"Well, I thought I\\u0027d like to have a little talk with you.\"}, {\"id\": 59, \"label\": \"Oh no, Mr. Cluett, if it\\u0027s all the same to you, I\\u0027d rather not wait. It\\u0027s about you and Mrs. Dickson.\", \"shape\": \"dot\", \"size\": 10, \"title\": \"Oh no, Mr. Cluett, if it\\u0027s all the same to you, I\\u0027d rather not wait. It\\u0027s about you and Mrs. Dickson.\"}, {\"id\": 60, \"label\": \"You\\u0027ve no right to do this to her, Mr. Cluett. Why don\\u0027t you think it over? It\\u0027s only gonna get you into a lot of trouble.\", \"shape\": \"dot\", \"size\": 10, \"title\": \"You\\u0027ve no right to do this to her, Mr. Cluett. Why don\\u0027t you think it over? It\\u0027s only gonna get you into a lot of trouble.\"}, {\"id\": 61, \"label\": \"Phyllis, you don\\u0027t have to explain anything.  You\\u0027d do well to mind your own business.\", \"shape\": \"dot\", \"size\": 10, \"title\": \"Phyllis, you don\\u0027t have to explain anything.  You\\u0027d do well to mind your own business.\"}, {\"id\": 62, \"label\": \"Good morning, Mr. Dickson.\", \"shape\": \"dot\", \"size\": 10, \"title\": \"Good morning, Mr. Dickson.\"}, {\"id\": 63, \"label\": \"Wait a minute.  How do you feel this morning?\", \"shape\": \"dot\", \"size\": 10, \"title\": \"Wait a minute.  How do you feel this morning?\"}, {\"id\": 64, \"label\": \"Of course, let them in! You\\u0027re late now.\", \"shape\": \"dot\", \"size\": 10, \"title\": \"Of course, let them in! You\\u0027re late now.\"}, {\"id\": 65, \"label\": \"Good morning, Mr. Dickson. My wife is much better this morning.\", \"shape\": \"dot\", \"size\": 10, \"title\": \"Good morning, Mr. Dickson. My wife is much better this morning.\"}, {\"id\": 66, \"label\": \"Well, look who\\u0027s here! Hello, dear.\", \"shape\": \"dot\", \"size\": 10, \"title\": \"Well, look who\\u0027s here! Hello, dear.\"}, {\"id\": 67, \"label\": \"If this isn\\u0027t a red-letter day for Tom Dickson! First I trample on the Board of Directors, then I promote Matt here to assistant cashier, and now to complete the day I have a visit from my sweet and lovely and gorgeous wife. What a man, what a man!\", \"shape\": \"dot\", \"size\": 10, \"title\": \"If this isn\\u0027t a red-letter day for Tom Dickson! First I trample on the Board of Directors, then I promote Matt here to assistant cashier, and now to complete the day I have a visit from my sweet and lovely and gorgeous wife. What a man, what a man!\"}, {\"id\": 68, \"label\": \"I\\u0027m terribly sorry. I\\u0027d forgotten all about you. I\\u0027m so sorry, dear.\", \"shape\": \"dot\", \"size\": 10, \"title\": \"I\\u0027m terribly sorry. I\\u0027d forgotten all about you. I\\u0027m so sorry, dear.\"}, {\"id\": 69, \"label\": \"Now Tom, you simply cannot go to Philadelphia tonight. That\\u0027s all there is to it.\", \"shape\": \"dot\", \"size\": 10, \"title\": \"Now Tom, you simply cannot go to Philadelphia tonight. That\\u0027s all there is to it.\"}, {\"id\": 70, \"label\": \"Ho, ho, ho, yourself! I wouldn\\u0027t laugh if I were you. You may not suspect it, but I\\u0027m still attractive - to some.\", \"shape\": \"dot\", \"size\": 10, \"title\": \"Ho, ho, ho, yourself! I wouldn\\u0027t laugh if I were you. You may not suspect it, but I\\u0027m still attractive - to some.\"}, {\"id\": 71, \"label\": \"All right. I\\u0027ll postpone the whole thing until tomorrow night.\", \"shape\": \"dot\", \"size\": 10, \"title\": \"All right. I\\u0027ll postpone the whole thing until tomorrow night.\"}, {\"id\": 72, \"label\": \"Listen, dear. I want to ask you something. I know it\\u0027s a silly thing for me to ask you, but . . . I want you to tell me the truth. Where were you last night?\", \"shape\": \"dot\", \"size\": 10, \"title\": \"Listen, dear. I want to ask you something. I know it\\u0027s a silly thing for me to ask you, but . . . I want you to tell me the truth. Where were you last night?\"}, {\"id\": 73, \"label\": \"Helen, you\\u0027re becoming more beautiful every day. What are we going to do about it?\", \"shape\": \"dot\", \"size\": 10, \"title\": \"Helen, you\\u0027re becoming more beautiful every day. What are we going to do about it?\"}, {\"id\": 74, \"label\": \"I haven\\u0027t got any new stories for them this morning, either.\", \"shape\": \"dot\", \"size\": 10, \"title\": \"I haven\\u0027t got any new stories for them this morning, either.\"}, {\"id\": 75, \"label\": \"Helen, tell Matt I want to see him.\", \"shape\": \"dot\", \"size\": 10, \"title\": \"Helen, tell Matt I want to see him.\"}, {\"id\": 76, \"label\": \"Oh, Mr. Dickson - they\\u0027re going to arrest Matt. They think he did it!\", \"shape\": \"dot\", \"size\": 10, \"title\": \"Oh, Mr. Dickson - they\\u0027re going to arrest Matt. They think he did it!\"}, {\"id\": 77, \"label\": \"Come on in here, Helen. Bring your book. I want some numbers to try to get some action. Get Parker at the Union-Leeds - the Exchange . . . Winslow and old man Harris at the Home Mortgage. Snap into it, Helen. Just as quick as you can.\", \"shape\": \"dot\", \"size\": 10, \"title\": \"Come on in here, Helen. Bring your book. I want some numbers to try to get some action. Get Parker at the Union-Leeds - the Exchange . . . Winslow and old man Harris at the Home Mortgage. Snap into it, Helen. Just as quick as you can.\"}, {\"id\": 78, \"label\": \"You want the rest of those numbers, Mr. Dickson?\", \"shape\": \"dot\", \"size\": 10, \"title\": \"You want the rest of those numbers, Mr. Dickson?\"}, {\"id\": 79, \"label\": \"Good morning, Helen.\", \"shape\": \"dot\", \"size\": 10, \"title\": \"Good morning, Helen.\"}, {\"id\": 80, \"label\": \"Oh, no! It\\u0027s not for you. You\\u0027re only going to get married. Mrs. Dickson and I are going to go on the honeymoon.\", \"shape\": \"dot\", \"size\": 10, \"title\": \"Oh, no! It\\u0027s not for you. You\\u0027re only going to get married. Mrs. Dickson and I are going to go on the honeymoon.\"}, {\"id\": 81, \"label\": \"Yes, sir.\", \"shape\": \"dot\", \"size\": 10, \"title\": \"Yes, sir.\"}, {\"id\": 82, \"label\": \"All right. Send him in.\", \"shape\": \"dot\", \"size\": 10, \"title\": \"All right. Send him in.\"}, {\"id\": 83, \"label\": \"Helen!\", \"shape\": \"dot\", \"size\": 10, \"title\": \"Helen!\"}, {\"id\": 84, \"label\": \"Good morning, Mrs. Pembroke.\", \"shape\": \"dot\", \"size\": 10, \"title\": \"Good morning, Mrs. Pembroke.\"}, {\"id\": 85, \"label\": \"Ah, Mrs. Pembroke. I spoke to Mr. Schaffer at the Guaranty. He\\u0027s going to take care of that mortgage for you . . .\", \"shape\": \"dot\", \"size\": 10, \"title\": \"Ah, Mrs. Pembroke. I spoke to Mr. Schaffer at the Guaranty. He\\u0027s going to take care of that mortgage for you . . .\"}, {\"id\": 86, \"label\": \"But, Mr. Dickson, I thought you were going to take care of the mortgage. I only want ten thousand. The property is worth sixty.\", \"shape\": \"dot\", \"size\": 10, \"title\": \"But, Mr. Dickson, I thought you were going to take care of the mortgage. I only want ten thousand. The property is worth sixty.\"}, {\"id\": 87, \"label\": \"Wait a minute. Where\\u0027s your uniform?\", \"shape\": \"dot\", \"size\": 10, \"title\": \"Wait a minute. Where\\u0027s your uniform?\"}, {\"id\": 88, \"label\": \"Oh, make that uniform blue.\", \"shape\": \"dot\", \"size\": 10, \"title\": \"Oh, make that uniform blue.\"}, {\"id\": 89, \"label\": \"I don\\u0027t know. Mr. Sampson bought it for me.\", \"shape\": \"dot\", \"size\": 10, \"title\": \"I don\\u0027t know. Mr. Sampson bought it for me.\"}, {\"id\": 90, \"label\": \"And what\\u0027s more, keep up the good work and who knows - some day you\\u0027ll be the fellow sitting behind that desk . . .  Not a bad thought, eh?\", \"shape\": \"dot\", \"size\": 10, \"title\": \"And what\\u0027s more, keep up the good work and who knows - some day you\\u0027ll be the fellow sitting behind that desk . . .  Not a bad thought, eh?\"}, {\"id\": 91, \"label\": \"Say, come on. Show a little enthusiasm. What\\u0027s the matter? Are you sick or something? Go on, fake it - even if it isn\\u0027t real.\", \"shape\": \"dot\", \"size\": 10, \"title\": \"Say, come on. Show a little enthusiasm. What\\u0027s the matter? Are you sick or something? Go on, fake it - even if it isn\\u0027t real.\"}, {\"id\": 92, \"label\": \"Aw, I\\u0027m sorry, Mr. Dickson. It\\u0027s just kind of sudden, that\\u0027s all.  Sure, I\\u0027m excited. I think it\\u0027s great. Only, well, you\\u0027ve done so much for me already . . . I\\u0027ll never be able to thank you enough.\", \"shape\": \"dot\", \"size\": 10, \"title\": \"Aw, I\\u0027m sorry, Mr. Dickson. It\\u0027s just kind of sudden, that\\u0027s all.  Sure, I\\u0027m excited. I think it\\u0027s great. Only, well, you\\u0027ve done so much for me already . . . I\\u0027ll never be able to thank you enough.\"}, {\"id\": 93, \"label\": \"I already told him I was home.\", \"shape\": \"dot\", \"size\": 10, \"title\": \"I already told him I was home.\"}, {\"id\": 94, \"label\": \"Wait a minute. Wait a minute.  Matt, do you realize you\\u0027re up against something? You\\u0027re being charged with murder. It\\u0027s serious, son. Now come on, I know you didn\\u0027t do it.  But we\\u0027ve got to make them believe it. Come on, tell the truth, where were you last night?\", \"shape\": \"dot\", \"size\": 10, \"title\": \"Wait a minute. Wait a minute.  Matt, do you realize you\\u0027re up against something? You\\u0027re being charged with murder. It\\u0027s serious, son. Now come on, I know you didn\\u0027t do it.  But we\\u0027ve got to make them believe it. Come on, tell the truth, where were you last night?\"}, {\"id\": 95, \"label\": \"Yes, you are. You\\u0027re protecting somebody. Now listen, it doesn\\u0027t make any difference who it is. It can\\u0027t be as important as this. Now come on, tell me. Where were you last night?  Come on, don\\u0027t be a fool. Matt, you trust me, don\\u0027t you?\", \"shape\": \"dot\", \"size\": 10, \"title\": \"Yes, you are. You\\u0027re protecting somebody. Now listen, it doesn\\u0027t make any difference who it is. It can\\u0027t be as important as this. Now come on, tell me. Where were you last night?  Come on, don\\u0027t be a fool. Matt, you trust me, don\\u0027t you?\"}, {\"id\": 96, \"label\": \"Oh, I can explain about that later. You\\u0027re losing your bank - don\\u0027t you realize what that means?\", \"shape\": \"dot\", \"size\": 10, \"title\": \"Oh, I can explain about that later. You\\u0027re losing your bank - don\\u0027t you realize what that means?\"}, {\"id\": 97, \"label\": \"I don\\u0027t want to hear any more about it. If you don\\u0027t get married, I\\u0027ll fire both of you.\", \"shape\": \"dot\", \"size\": 10, \"title\": \"I don\\u0027t want to hear any more about it. If you don\\u0027t get married, I\\u0027ll fire both of you.\"}, {\"id\": 98, \"label\": \"Helen, while you\\u0027re downtown, you might stop in and make reservations for the bridal suite on the Berengaria sailing next week.\", \"shape\": \"dot\", \"size\": 10, \"title\": \"Helen, while you\\u0027re downtown, you might stop in and make reservations for the bridal suite on the Berengaria sailing next week.\"}, {\"id\": 99, \"label\": \"What\\u0027s the matter? What\\u0027s going on here?  This is ridiculous! You can\\u0027t hold this boy on a vague suspicion.\", \"shape\": \"dot\", \"size\": 10, \"title\": \"What\\u0027s the matter? What\\u0027s going on here?  This is ridiculous! You can\\u0027t hold this boy on a vague suspicion.\"}, {\"id\": 100, \"label\": \"Why, certainly he can.  Matt, now all you\\u0027ve got to do is tell them where you were last night, between twelve and twelve-thirty, and everything will be all right.\", \"shape\": \"dot\", \"size\": 10, \"title\": \"Why, certainly he can.  Matt, now all you\\u0027ve got to do is tell them where you were last night, between twelve and twelve-thirty, and everything will be all right.\"}, {\"id\": 101, \"label\": \"Good.  You\\u0027ve got nothing to worry about. Soon as the report comes in, you\\u0027ll be released.  And listen, don\\u0027t talk so loud. Take it easy. Coast a little.\", \"shape\": \"dot\", \"size\": 10, \"title\": \"Good.  You\\u0027ve got nothing to worry about. Soon as the report comes in, you\\u0027ll be released.  And listen, don\\u0027t talk so loud. Take it easy. Coast a little.\"}, {\"id\": 102, \"label\": \"So have you. So have I. So\\u0027s everybody got a record. What difference does that make? You can\\u0027t go around pinning crimes on people just because they\\u0097\", \"shape\": \"dot\", \"size\": 10, \"title\": \"So have you. So have I. So\\u0027s everybody got a record. What difference does that make? You can\\u0027t go around pinning crimes on people just because they\\u0097\"}, {\"id\": 103, \"label\": \"Listen, Matt. If you don\\u0027t tell the truth, I can\\u0027t help you. Where were you last night?\", \"shape\": \"dot\", \"size\": 10, \"title\": \"Listen, Matt. If you don\\u0027t tell the truth, I can\\u0027t help you. Where were you last night?\"}, {\"id\": 104, \"label\": \"You were right, Mr. Dickson! Brown didn\\u0027t have anything to do with it. Here\\u0027s your man.\", \"shape\": \"dot\", \"size\": 10, \"title\": \"You were right, Mr. Dickson! Brown didn\\u0027t have anything to do with it. Here\\u0027s your man.\"}, {\"id\": 105, \"label\": \"My wife? What\\u0027s she got to do with you?\", \"shape\": \"dot\", \"size\": 10, \"title\": \"My wife? What\\u0027s she got to do with you?\"}, {\"id\": 106, \"label\": \"Don\\u0027t worry, Mr. Dickson. We\\u0027ll find out whether he\\u0027s telling the truth. I\\u0027ll have a man from headquarters check up on it right away.\", \"shape\": \"dot\", \"size\": 10, \"title\": \"Don\\u0027t worry, Mr. Dickson. We\\u0027ll find out whether he\\u0027s telling the truth. I\\u0027ll have a man from headquarters check up on it right away.\"}, {\"id\": 107, \"label\": \"Here\\u0027s the data on the Clyde deal.\", \"shape\": \"dot\", \"size\": 10, \"title\": \"Here\\u0027s the data on the Clyde deal.\"}, {\"id\": 108, \"label\": \"Good. I\\u0027ll take this along with me. Tell Clyde I\\u0027ll see him tomorrow. I\\u0027m sick and tired of the delay.\", \"shape\": \"dot\", \"size\": 10, \"title\": \"Good. I\\u0027ll take this along with me. Tell Clyde I\\u0027ll see him tomorrow. I\\u0027m sick and tired of the delay.\"}, {\"id\": 109, \"label\": \"What are you talking about?\", \"shape\": \"dot\", \"size\": 10, \"title\": \"What are you talking about?\"}, {\"id\": 110, \"label\": \"They\\u0027ve been coming in steady all morning. I have called for some extra police.\", \"shape\": \"dot\", \"size\": 10, \"title\": \"They\\u0027ve been coming in steady all morning. I have called for some extra police.\"}, {\"id\": 111, \"label\": \"The bank\\u0027s reputation wouldn\\u0027t be worth a nickel after that. This is just a flurry, that\\u0027s all. They\\u0027ve heard about the robbery and got panic-stricken. Listen, get a hold of our available securities and have them turned into cash. Wait a minute. Get my personal stuff and have that turned into cash too. Tell the boys anyone caught arguing with a depositor will be fired on the spot.\", \"shape\": \"dot\", \"size\": 10, \"title\": \"The bank\\u0027s reputation wouldn\\u0027t be worth a nickel after that. This is just a flurry, that\\u0027s all. They\\u0027ve heard about the robbery and got panic-stricken. Listen, get a hold of our available securities and have them turned into cash. Wait a minute. Get my personal stuff and have that turned into cash too. Tell the boys anyone caught arguing with a depositor will be fired on the spot.\"}, {\"id\": 112, \"label\": \"Yes, sir. But soon as our money runs out, they\\u0027ll mob the place.\", \"shape\": \"dot\", \"size\": 10, \"title\": \"Yes, sir. But soon as our money runs out, they\\u0027ll mob the place.\"}, {\"id\": 113, \"label\": \"I\\u0027ll talk to them. Listen, go back and tell the boys to stall as much as possible. Tell \\u0027em not to pay any attention to what I said. Tell \\u0027em to verify every signature.\", \"shape\": \"dot\", \"size\": 10, \"title\": \"I\\u0027ll talk to them. Listen, go back and tell the boys to stall as much as possible. Tell \\u0027em not to pay any attention to what I said. Tell \\u0027em to verify every signature.\"}, {\"id\": 114, \"label\": \"We can\\u0027t keep open till four o\\u0027clock. We haven\\u0027t cash enough to last an hour.\", \"shape\": \"dot\", \"size\": 10, \"title\": \"We can\\u0027t keep open till four o\\u0027clock. We haven\\u0027t cash enough to last an hour.\"}, {\"id\": 115, \"label\": \"Get all the big bills in the place. Take them out and get them changed. Get nothing but ones and fives. Distribute them among the tellers. Tell them to take their time. Stall as much as possible. Count and recount the money.\", \"shape\": \"dot\", \"size\": 10, \"title\": \"Get all the big bills in the place. Take them out and get them changed. Get nothing but ones and fives. Distribute them among the tellers. Tell them to take their time. Stall as much as possible. Count and recount the money.\"}, {\"id\": 116, \"label\": \"It\\u0027s his life insurance money, you know.\", \"shape\": \"dot\", \"size\": 10, \"title\": \"It\\u0027s his life insurance money, you know.\"}, {\"id\": 117, \"label\": \"Quiet down, please! Take it easy, folks. Everything will be all right.\", \"shape\": \"dot\", \"size\": 10, \"title\": \"Quiet down, please! Take it easy, folks. Everything will be all right.\"}, {\"id\": 118, \"label\": \"Board meeting. Oh, that means hours, I suppose.\", \"shape\": \"dot\", \"size\": 10, \"title\": \"Board meeting. Oh, that means hours, I suppose.\"}, {\"id\": 119, \"label\": \"Oh, well. I guess the only other thing for me to do is to go out and buy myself a few sticks of dynamite. When he comes out, you tell him I\\u0027ll be back. He hasn\\u0027t gotten rid of me!\", \"shape\": \"dot\", \"size\": 10, \"title\": \"Oh, well. I guess the only other thing for me to do is to go out and buy myself a few sticks of dynamite. When he comes out, you tell him I\\u0027ll be back. He hasn\\u0027t gotten rid of me!\"}, {\"id\": 120, \"label\": \"Come here, honey!\", \"shape\": \"dot\", \"size\": 10, \"title\": \"Come here, honey!\"}, {\"id\": 121, \"label\": \"Hey, look out, somebody\\u0027s likely to see us!\", \"shape\": \"dot\", \"size\": 10, \"title\": \"Hey, look out, somebody\\u0027s likely to see us!\"}, {\"id\": 122, \"label\": \"What did you do with it?\", \"shape\": \"dot\", \"size\": 10, \"title\": \"What did you do with it?\"}, {\"id\": 123, \"label\": \"Oh, you think I\\u0027m lying?\", \"shape\": \"dot\", \"size\": 10, \"title\": \"Oh, you think I\\u0027m lying?\"}, {\"id\": 124, \"label\": \"Say, I just heard the merger isn\\u0027t going thru. Isn\\u0027t that grand?\", \"shape\": \"dot\", \"size\": 10, \"title\": \"Say, I just heard the merger isn\\u0027t going thru. Isn\\u0027t that grand?\"}, {\"id\": 125, \"label\": \"What happened? What did he say? Did you get the job?\", \"shape\": \"dot\", \"size\": 10, \"title\": \"What happened? What did he say? Did you get the job?\"}, {\"id\": 126, \"label\": \"What\\u0027s the matter, Matt? Gee, I thought you\\u0027d be thrilled to death.\", \"shape\": \"dot\", \"size\": 10, \"title\": \"What\\u0027s the matter, Matt? Gee, I thought you\\u0027d be thrilled to death.\"}, {\"id\": 127, \"label\": \"Oh Matt, you must be mistaken.\", \"shape\": \"dot\", \"size\": 10, \"title\": \"Oh Matt, you must be mistaken.\"}, {\"id\": 128, \"label\": \"Yes, right in his office, the rat. I\\u0027d like to take a crack at that guy.\", \"shape\": \"dot\", \"size\": 10, \"title\": \"Yes, right in his office, the rat. I\\u0027d like to take a crack at that guy.\"}, {\"id\": 129, \"label\": \"Now you\\u0027ve got me worried, dear.  Promise me you won\\u0027t butt in.\", \"shape\": \"dot\", \"size\": 10, \"title\": \"Now you\\u0027ve got me worried, dear.  Promise me you won\\u0027t butt in.\"}, {\"id\": 130, \"label\": \"Shh . . . !  I\\u0027ll wait for you upstairs.\", \"shape\": \"dot\", \"size\": 10, \"title\": \"Shh . . . !  I\\u0027ll wait for you upstairs.\"}, {\"id\": 131, \"label\": \"Don\\u0027t cry, honey. Everything\\u0027s gonna be all right.\", \"shape\": \"dot\", \"size\": 10, \"title\": \"Don\\u0027t cry, honey. Everything\\u0027s gonna be all right.\"}, {\"id\": 132, \"label\": \"Sure, they\\u0027d turn him down. He ought to know that. I\\u0027m going in there and talk to him.\", \"shape\": \"dot\", \"size\": 10, \"title\": \"Sure, they\\u0027d turn him down. He ought to know that. I\\u0027m going in there and talk to him.\"}, {\"id\": 133, \"label\": \"Yeah.  I got an idea. Come on, let\\u0027s get to a telephone.\", \"shape\": \"dot\", \"size\": 10, \"title\": \"Yeah.  I got an idea. Come on, let\\u0027s get to a telephone.\"}, {\"id\": 134, \"label\": \"Dickson\\u0027s in a jam I tell you. The run\\u0027s getting worse.\", \"shape\": \"dot\", \"size\": 10, \"title\": \"Dickson\\u0027s in a jam I tell you. The run\\u0027s getting worse.\"}, {\"id\": 135, \"label\": \"Did you say Dude Finlay?\", \"shape\": \"dot\", \"size\": 10, \"title\": \"Did you say Dude Finlay?\"}, {\"id\": 136, \"label\": \"I\\u0027ve been trailing the cashier like you told me. You\\u0027re right about that guy, chief. There\\u0027s something screwy somewhere.\", \"shape\": \"dot\", \"size\": 10, \"title\": \"I\\u0027ve been trailing the cashier like you told me. You\\u0027re right about that guy, chief. There\\u0027s something screwy somewhere.\"}, {\"id\": 137, \"label\": \"Sure I do. He has the best room in me house. The one with the fancy wallpaper.\", \"shape\": \"dot\", \"size\": 10, \"title\": \"Sure I do. He has the best room in me house. The one with the fancy wallpaper.\"}, {\"id\": 138, \"label\": \"It was late, I know. The Dooley sisters was already in. They work at a show, you know.\", \"shape\": \"dot\", \"size\": 10, \"title\": \"It was late, I know. The Dooley sisters was already in. They work at a show, you know.\"}, {\"id\": 139, \"label\": \"What time did Matt Brown get in?\", \"shape\": \"dot\", \"size\": 10, \"title\": \"What time did Matt Brown get in?\"}, {\"id\": 140, \"label\": \"Yes, I guess it was one, \\u0027cause...\", \"shape\": \"dot\", \"size\": 10, \"title\": \"Yes, I guess it was one, \\u0027cause...\"}, {\"id\": 141, \"label\": \"Listen here, young man - nobody ever called me a liar yet and got away with it\\u0097\", \"shape\": \"dot\", \"size\": 10, \"title\": \"Listen here, young man - nobody ever called me a liar yet and got away with it\\u0097\"}, {\"id\": 142, \"label\": \"You turned off the burglar alarm, you set the time clock, came back at twelve and emptied the boxes, didn\\u0027t you?\", \"shape\": \"dot\", \"size\": 10, \"title\": \"You turned off the burglar alarm, you set the time clock, came back at twelve and emptied the boxes, didn\\u0027t you?\"}, {\"id\": 143, \"label\": \"I don\\u0027t know.\", \"shape\": \"dot\", \"size\": 10, \"title\": \"I don\\u0027t know.\"}, {\"id\": 144, \"label\": \"Eleven o\\u0027clock, eh? Are you sure it was that?\", \"shape\": \"dot\", \"size\": 10, \"title\": \"Eleven o\\u0027clock, eh? Are you sure it was that?\"}, {\"id\": 145, \"label\": \"But I wasn\\u0027t here, Mr. Dickson. Honest I wasn\\u0027t . . .\", \"shape\": \"dot\", \"size\": 10, \"title\": \"But I wasn\\u0027t here, Mr. Dickson. Honest I wasn\\u0027t . . .\"}, {\"id\": 146, \"label\": \"You\\u0027re carrying too much money on you, Hank. You better turn some in tonight.\", \"shape\": \"dot\", \"size\": 10, \"title\": \"You\\u0027re carrying too much money on you, Hank. You better turn some in tonight.\"}, {\"id\": 147, \"label\": \"You\\u0027ve got enough?\", \"shape\": \"dot\", \"size\": 10, \"title\": \"You\\u0027ve got enough?\"}, {\"id\": 148, \"label\": \"That mug reminds me of a guy with his second dollar.\", \"shape\": \"dot\", \"size\": 10, \"title\": \"That mug reminds me of a guy with his second dollar.\"}, {\"id\": 149, \"label\": \"Where\\u0027s Charlie?\", \"shape\": \"dot\", \"size\": 10, \"title\": \"Where\\u0027s Charlie?\"}, {\"id\": 150, \"label\": \"They\\u0027re starting to come in already. Yeah. Yeah. Well, listen. Don\\u0027t waste any time. Get all the money you can lay your hands on, and bring it down here right away. Step on it.\", \"shape\": \"dot\", \"size\": 10, \"title\": \"They\\u0027re starting to come in already. Yeah. Yeah. Well, listen. Don\\u0027t waste any time. Get all the money you can lay your hands on, and bring it down here right away. Step on it.\"}]);\n        edges = new vis.DataSet([{\"from\": 94, \"to\": 95, \"value\": 9.628100395202637}, {\"from\": 62, \"to\": 84, \"value\": 9.449959397315979}, {\"from\": 94, \"to\": 103, \"value\": 9.322826266288757}, {\"from\": 95, \"to\": 103, \"value\": 9.308436512947083}, {\"from\": 26, \"to\": 111, \"value\": 9.247996211051941}, {\"from\": 33, \"to\": 60, \"value\": 9.244348406791687}, {\"from\": 62, \"to\": 65, \"value\": 9.238627552986145}, {\"from\": 79, \"to\": 84, \"value\": 9.235872030258179}, {\"from\": 85, \"to\": 86, \"value\": 9.203349351882935}, {\"from\": 60, \"to\": 94, \"value\": 9.197912812232971}, {\"from\": 60, \"to\": 95, \"value\": 9.173816442489624}, {\"from\": 72, \"to\": 103, \"value\": 9.155232310295105}, {\"from\": 94, \"to\": 100, \"value\": 9.151961207389832}, {\"from\": 8, \"to\": 26, \"value\": 9.147733449935913}, {\"from\": 33, \"to\": 95, \"value\": 9.145547747612}, {\"from\": 91, \"to\": 94, \"value\": 9.132505655288696}, {\"from\": 35, \"to\": 94, \"value\": 9.131388664245605}, {\"from\": 91, \"to\": 95, \"value\": 9.112270474433899}, {\"from\": 101, \"to\": 150, \"value\": 9.100596308708191}, {\"from\": 55, \"to\": 109, \"value\": 9.097427725791931}, {\"from\": 65, \"to\": 84, \"value\": 9.094409346580505}, {\"from\": 101, \"to\": 113, \"value\": 9.079161882400513}, {\"from\": 18, \"to\": 30, \"value\": 9.074342846870422}, {\"from\": 30, \"to\": 59, \"value\": 9.072074294090271}, {\"from\": 77, \"to\": 150, \"value\": 9.071596264839172}, {\"from\": 62, \"to\": 79, \"value\": 9.068430066108704}, {\"from\": 35, \"to\": 95, \"value\": 9.057586789131165}, {\"from\": 101, \"to\": 106, \"value\": 9.054034948348999}, {\"from\": 27, \"to\": 58, \"value\": 9.050549268722534}, {\"from\": 17, \"to\": 35, \"value\": 9.022661447525024}, {\"from\": 15, \"to\": 20, \"value\": 9.012232422828674}, {\"from\": 18, \"to\": 90, \"value\": 9.003192782402039}, {\"from\": 72, \"to\": 94, \"value\": 9.001561403274536}, {\"from\": 60, \"to\": 104, \"value\": 8.998732566833496}, {\"from\": 94, \"to\": 136, \"value\": 8.996105194091797}, {\"from\": 91, \"to\": 96, \"value\": 8.993302583694458}, {\"from\": 103, \"to\": 129, \"value\": 8.990248441696167}, {\"from\": 25, \"to\": 111, \"value\": 8.989071249961853}, {\"from\": 52, \"to\": 103, \"value\": 8.984407186508179}, {\"from\": 60, \"to\": 97, \"value\": 8.984236717224121}, {\"from\": 122, \"to\": 125, \"value\": 8.983474969863892}, {\"from\": 60, \"to\": 146, \"value\": 8.982181549072266}, {\"from\": 60, \"to\": 129, \"value\": 8.981634974479675}, {\"from\": 95, \"to\": 100, \"value\": 8.981568813323975}, {\"from\": 136, \"to\": 146, \"value\": 8.980550169944763}, {\"from\": 117, \"to\": 131, \"value\": 8.979718089103699}, {\"from\": 46, \"to\": 95, \"value\": 8.976144194602966}, {\"from\": 15, \"to\": 111, \"value\": 8.975511193275452}, {\"from\": 63, \"to\": 87, \"value\": 8.965842127799988}, {\"from\": 111, \"to\": 150, \"value\": 8.962308168411255}, {\"from\": 8, \"to\": 119, \"value\": 8.962156176567078}, {\"from\": 19, \"to\": 111, \"value\": 8.961914777755737}, {\"from\": 60, \"to\": 136, \"value\": 8.96171748638153}, {\"from\": 111, \"to\": 113, \"value\": 8.959294557571411}, {\"from\": 18, \"to\": 91, \"value\": 8.957255482673645}, {\"from\": 72, \"to\": 95, \"value\": 8.956600427627563}, {\"from\": 94, \"to\": 99, \"value\": 8.955959677696228}, {\"from\": 52, \"to\": 72, \"value\": 8.953607678413391}, {\"from\": 52, \"to\": 132, \"value\": 8.953534960746765}, {\"from\": 59, \"to\": 104, \"value\": 8.94820749759674}, {\"from\": 17, \"to\": 132, \"value\": 8.944931626319885}, {\"from\": 52, \"to\": 108, \"value\": 8.943665623664856}, {\"from\": 17, \"to\": 119, \"value\": 8.941588401794434}, {\"from\": 101, \"to\": 129, \"value\": 8.935774564743042}, {\"from\": 95, \"to\": 96, \"value\": 8.9353746175766}, {\"from\": 111, \"to\": 115, \"value\": 8.933572173118591}, {\"from\": 46, \"to\": 60, \"value\": 8.929689526557922}, {\"from\": 33, \"to\": 94, \"value\": 8.926730155944824}, {\"from\": 77, \"to\": 111, \"value\": 8.924621343612671}, {\"from\": 19, \"to\": 24, \"value\": 8.920324444770813}, {\"from\": 106, \"to\": 113, \"value\": 8.919122219085693}, {\"from\": 8, \"to\": 111, \"value\": 8.91821801662445}, {\"from\": 94, \"to\": 101, \"value\": 8.916352987289429}, {\"from\": 111, \"to\": 136, \"value\": 8.912859559059143}, {\"from\": 25, \"to\": 94, \"value\": 8.91188383102417}]);\n\n        // adding nodes and edges to the graph\n        data = {nodes: nodes, edges: edges};\n\n        var options = {\n    \"configure\": {\n        \"enabled\": false\n    },\n    \"edges\": {\n        \"color\": {\n            \"inherit\": true\n        },\n        \"smooth\": {\n            \"enabled\": false,\n            \"type\": \"continuous\"\n        }\n    },\n    \"interaction\": {\n        \"dragNodes\": true,\n        \"hideEdgesOnDrag\": false,\n        \"hideNodesOnDrag\": false\n    },\n    \"physics\": {\n        \"enabled\": true,\n        \"stabilization\": {\n            \"enabled\": true,\n            \"fit\": true,\n            \"iterations\": 1000,\n            \"onlyDynamicEdges\": false,\n            \"updateInterval\": 50\n        }\n    }\n};\n        \n        \n\n        \n\n        network = new vis.Network(container, data, options);\n\t \n        \n\n\n        \n        network.on(\"stabilizationProgress\", function(params) {\n      \t\tdocument.getElementById('loadingBar').removeAttribute(\"style\");\n\t        var maxWidth = 496;\n\t        var minWidth = 20;\n\t        var widthFactor = params.iterations/params.total;\n\t        var width = Math.max(minWidth,maxWidth * widthFactor);\n\n\t        document.getElementById('bar').style.width = width + 'px';\n\t        document.getElementById('text').innerHTML = Math.round(widthFactor*100) + '%';\n\t    });\n\t    network.once(\"stabilizationIterationsDone\", function() {\n\t        document.getElementById('text').innerHTML = '100%';\n\t        document.getElementById('bar').style.width = '496px';\n\t        document.getElementById('loadingBar').style.opacity = 0;\n\t        // really clean the dom element\n\t        setTimeout(function () {document.getElementById('loadingBar').style.display = 'none';}, 500);\n\t    });\n        \n\n        return network;\n\n    }\n\n    drawGraph();\n\n</script>\n</body>\n</html>"
     },
     "metadata": {},
     "output_type": "display_data"
    }
   ],
   "source": [
    "def get_dialogs_network(dialogs, similar_pairs):\n",
    "    similarity_network = Network(width=\"1080\", notebook=True)\n",
    "\n",
    "    for i, (_, dialog) in enumerate(dialogs):\n",
    "        similarity_network.add_node(i, label=dialog, title=dialog, size=10)\n",
    "\n",
    "    for node1, node2, similarity in similar_pairs:\n",
    "        width = (similarity) * 10\n",
    "        similarity_network.add_edge(node1, node2, value=width)\n",
    "\n",
    "    return similarity_network\n",
    "\n",
    "\n",
    "dialogs_network = get_dialogs_network(significant_dialogs, similar_pairs)\n",
    "dialogs_network.show('network.html')\n",
    "display(HTML('network.html'))"
   ],
   "metadata": {
    "collapsed": false,
    "pycharm": {
     "name": "#%%\n"
    }
   }
  },
  {
   "cell_type": "markdown",
   "metadata": {
    "pycharm": {
     "name": "#%% md\n"
    }
   },
   "source": [
    "This produces a nice large cluster of dialogs that talk about the same thing.\n",
    "\n",
    "For movie 17, there are two clusters, linked with one node.\n",
    "The larger cluster has dialogs that involve some animal killing someone.\n",
    "The smaller cluster has dialogs that sound \"romantic\" in a way, like \"come closer\"-like dialogs.\n",
    "\n",
    "In theory, the dialogs from this cluster should be enough to infer the genres of the movie.\n",
    "\n",
    "Now taking an average of the embeddings of these dialogs should give us embedding of the movie.\n",
    "\n",
    "Doing this for all movies is a long-running task. So I ran it on colab and saved it to disk and loaded it for fast execution."
   ]
  },
  {
   "cell_type": "code",
   "execution_count": 24,
   "metadata": {
    "pycharm": {
     "name": "#%%\n"
    }
   },
   "outputs": [
    {
     "data": {
      "text/plain": "(40, 75)"
     },
     "execution_count": 24,
     "metadata": {},
     "output_type": "execute_result"
    }
   ],
   "source": [
    "def get_largest_cluster(similar_pairs):\n",
    "    similarity_network = nx.Graph()\n",
    "    similarity_network.add_edges_from([(p[0], p[1]) for p in similar_pairs])\n",
    "\n",
    "    clusters = list(nx.connected_components(similarity_network))\n",
    "    largest_cluster = np.argmax([len(s) for s in clusters])\n",
    "    largest_cluster = list(clusters[largest_cluster])\n",
    "\n",
    "    return largest_cluster\n",
    "\n",
    "\n",
    "largest_cluster = get_largest_cluster(similar_pairs)\n",
    "len(largest_cluster), len(similar_pairs)"
   ]
  },
  {
   "cell_type": "code",
   "execution_count": 25,
   "metadata": {
    "pycharm": {
     "name": "#%%\n"
    }
   },
   "outputs": [],
   "source": [
    "def get_largest_cluster_embeddings(movie: Movie):\n",
    "    significant_dialogs = get_significant_dialogs(movie)\n",
    "    similar_pairs = get_similar_dialog_pairs(significant_dialogs)\n",
    "    largest_cluster = get_largest_cluster(similar_pairs)\n",
    "\n",
    "    cluster_dialogs = [significant_dialogs[i][1] for i in largest_cluster]\n",
    "    cluster_embeddings = [significant_dialogs[i][0] for i in largest_cluster]\n",
    "    cluster_embeddings = torch.stack(cluster_embeddings)\n",
    "\n",
    "    return {\n",
    "        'cluster_dialogs': cluster_dialogs,\n",
    "        'cluster_embeddings': cluster_embeddings\n",
    "    }"
   ]
  },
  {
   "cell_type": "code",
   "execution_count": 26,
   "metadata": {
    "pycharm": {
     "name": "#%%\n"
    }
   },
   "outputs": [],
   "source": [
    "cluster_embeddings_path = f'{BASE_DIR}/data/output/cluster_embeddings'\n",
    "makedirs(cluster_embeddings_path, exist_ok=True)\n",
    "files_present = listdir(cluster_embeddings_path)\n",
    "skip_till = 429\n",
    "\n",
    "def save_movie_embeddings_to_disk(movies):\n",
    "    for movie in movies_list:\n",
    "        if movie.id + '.pt' in files_present or int(movie.id[1:]) < skip_till:\n",
    "            continue\n",
    "        print(movie.id)\n",
    "\n",
    "        largest_cluster = get_largest_cluster_embeddings(movie)\n",
    "\n",
    "        embedding_path = join(cluster_embeddings_path, movie.id + '.pt')\n",
    "        torch.save(largest_cluster, embedding_path)\n",
    "\n",
    "\n",
    "# Uncomment this to run embeddings.\n",
    "# save_movie_embeddings_to_disk(movies)"
   ]
  },
  {
   "cell_type": "code",
   "execution_count": 27,
   "metadata": {
    "pycharm": {
     "name": "#%%\n"
    }
   },
   "outputs": [
    {
     "name": "stdout",
     "output_type": "stream",
     "text": [
      "  adding: data/output/cluster_embeddings/ (stored 0%)\r\n",
      "---------\r\n",
      "\u001B[34m__MACOSX\u001B[m\u001B[m                         genre_colab.ipynb\r\n",
      "cluster_embeddings.zip           network.html\r\n",
      "cornell_movie_dialogs_corpus.zip requirements.txt\r\n",
      "\u001B[34mdata\u001B[m\u001B[m                             something.html\r\n",
      "\u001B[34mdataset\u001B[m\u001B[m                          temp.py\r\n",
      "genre.ipynb\r\n"
     ]
    },
    {
     "ename": "ModuleNotFoundError",
     "evalue": "No module named 'google.colab'",
     "output_type": "error",
     "traceback": [
      "\u001B[0;31m---------------------------------------------------------------------------\u001B[0m",
      "\u001B[0;31mModuleNotFoundError\u001B[0m                       Traceback (most recent call last)",
      "\u001B[0;32m<ipython-input-27-55924ff60e00>\u001B[0m in \u001B[0;36m<module>\u001B[0;34m\u001B[0m\n\u001B[1;32m      3\u001B[0m \u001B[0mget_ipython\u001B[0m\u001B[0;34m(\u001B[0m\u001B[0;34m)\u001B[0m\u001B[0;34m.\u001B[0m\u001B[0msystem\u001B[0m\u001B[0;34m(\u001B[0m\u001B[0;34m'echo \"---------\"'\u001B[0m\u001B[0;34m)\u001B[0m\u001B[0;34m\u001B[0m\u001B[0;34m\u001B[0m\u001B[0m\n\u001B[1;32m      4\u001B[0m \u001B[0mget_ipython\u001B[0m\u001B[0;34m(\u001B[0m\u001B[0;34m)\u001B[0m\u001B[0;34m.\u001B[0m\u001B[0msystem\u001B[0m\u001B[0;34m(\u001B[0m\u001B[0;34m'ls'\u001B[0m\u001B[0;34m)\u001B[0m\u001B[0;34m\u001B[0m\u001B[0;34m\u001B[0m\u001B[0m\n\u001B[0;32m----> 5\u001B[0;31m \u001B[0;32mfrom\u001B[0m \u001B[0mgoogle\u001B[0m\u001B[0;34m.\u001B[0m\u001B[0mcolab\u001B[0m \u001B[0;32mimport\u001B[0m \u001B[0mfiles\u001B[0m\u001B[0;34m\u001B[0m\u001B[0;34m\u001B[0m\u001B[0m\n\u001B[0m\u001B[1;32m      6\u001B[0m \u001B[0mfiles\u001B[0m\u001B[0;34m.\u001B[0m\u001B[0mdownload\u001B[0m\u001B[0;34m(\u001B[0m\u001B[0;34m'cluster_embeddings.zip'\u001B[0m\u001B[0;34m)\u001B[0m\u001B[0;34m\u001B[0m\u001B[0;34m\u001B[0m\u001B[0m\n\u001B[1;32m      7\u001B[0m \u001B[0;34m\u001B[0m\u001B[0m\n",
      "\u001B[0;31mModuleNotFoundError\u001B[0m: No module named 'google.colab'"
     ]
    }
   ],
   "source": [
    "# Script to download the calculated embeddings from colab to local computer\n",
    "'''\n",
    "!ls data/output/cluster_embeddings/\n",
    "!zip -r cluster_embeddings.zip data/output/cluster_embeddings\n",
    "!echo \"---------\"\n",
    "!ls\n",
    "from google.colab import files\n",
    "files.download('cluster_embeddings.zip')\n",
    "'''"
   ]
  },
  {
   "cell_type": "code",
   "execution_count": 248,
   "metadata": {
    "pycharm": {
     "name": "#%%\n"
    }
   },
   "outputs": [
    {
     "name": "stdout",
     "output_type": "stream",
     "text": [
      "^C\r\n",
      "--2021-08-29 17:22:03--  https://storage.googleapis.com/akhilez/companies/ginger/cluster_embeddings.zip\r\n",
      "Resolving storage.googleapis.com (storage.googleapis.com)... 2607:f8b0:4000:80a::2010, 2607:f8b0:4023:1002::80, 2607:f8b0:4023:1000::80, ...\r\n",
      "Connecting to storage.googleapis.com (storage.googleapis.com)|2607:f8b0:4000:80a::2010|:443... connected.\r\n",
      "HTTP request sent, awaiting response... 200 OK\r\n",
      "Length: 240139990 (229M) [application/zip]\r\n",
      "Saving to: ‘cluster_embeddings.zip’\r\n",
      "\r\n",
      "cluster_embeddings. 100%[===================>] 229.01M  29.9MB/s    in 8.3s    \r\n",
      "\r\n",
      "2021-08-29 17:22:12 (27.7 MB/s) - ‘cluster_embeddings.zip’ saved [240139990/240139990]\r\n",
      "\r\n",
      "m0.pt   m154.pt m21.pt  m266.pt m321.pt m379.pt m436.pt m492.pt m548.pt m605.pt\r\n",
      "m1.pt   m155.pt m210.pt m267.pt m322.pt m38.pt  m437.pt m493.pt m549.pt m606.pt\r\n",
      "m10.pt  m156.pt m211.pt m268.pt m323.pt m380.pt m438.pt m494.pt m55.pt  m607.pt\r\n",
      "m100.pt m157.pt m212.pt m269.pt m324.pt m381.pt m439.pt m495.pt m550.pt m608.pt\r\n",
      "m101.pt m158.pt m213.pt m27.pt  m325.pt m382.pt m44.pt  m496.pt m551.pt m609.pt\r\n",
      "m102.pt m159.pt m214.pt m270.pt m326.pt m383.pt m440.pt m497.pt m552.pt m61.pt\r\n",
      "m103.pt m16.pt  m215.pt m271.pt m327.pt m384.pt m441.pt m498.pt m553.pt m610.pt\r\n",
      "m104.pt m160.pt m216.pt m272.pt m328.pt m385.pt m442.pt m499.pt m554.pt m611.pt\r\n",
      "m105.pt m161.pt m217.pt m273.pt m329.pt m386.pt m443.pt m5.pt   m555.pt m612.pt\r\n",
      "m106.pt m162.pt m218.pt m274.pt m33.pt  m387.pt m444.pt m50.pt  m556.pt m613.pt\r\n",
      "m107.pt m163.pt m219.pt m275.pt m330.pt m388.pt m445.pt m500.pt m557.pt m614.pt\r\n",
      "m108.pt m164.pt m22.pt  m276.pt m331.pt m389.pt m446.pt m501.pt m558.pt m615.pt\r\n",
      "m109.pt m165.pt m220.pt m277.pt m332.pt m39.pt  m447.pt m502.pt m559.pt m616.pt\r\n",
      "m11.pt  m166.pt m221.pt m278.pt m333.pt m390.pt m448.pt m503.pt m560.pt m62.pt\r\n",
      "m110.pt m167.pt m222.pt m279.pt m334.pt m391.pt m449.pt m504.pt m561.pt m63.pt\r\n",
      "m111.pt m168.pt m223.pt m28.pt  m335.pt m392.pt m45.pt  m505.pt m562.pt m64.pt\r\n",
      "m112.pt m169.pt m224.pt m280.pt m336.pt m393.pt m450.pt m506.pt m563.pt m65.pt\r\n",
      "m113.pt m17.pt  m225.pt m281.pt m337.pt m394.pt m451.pt m507.pt m564.pt m66.pt\r\n",
      "m114.pt m170.pt m226.pt m282.pt m338.pt m395.pt m452.pt m508.pt m565.pt m67.pt\r\n",
      "m115.pt m171.pt m227.pt m283.pt m339.pt m396.pt m453.pt m509.pt m566.pt m68.pt\r\n",
      "m116.pt m172.pt m228.pt m284.pt m34.pt  m397.pt m454.pt m51.pt  m567.pt m69.pt\r\n",
      "m117.pt m173.pt m229.pt m285.pt m340.pt m398.pt m455.pt m510.pt m568.pt m7.pt\r\n",
      "m118.pt m174.pt m23.pt  m286.pt m341.pt m399.pt m456.pt m511.pt m569.pt m70.pt\r\n",
      "m119.pt m175.pt m230.pt m287.pt m342.pt m4.pt   m457.pt m512.pt m57.pt  m71.pt\r\n",
      "m12.pt  m176.pt m231.pt m288.pt m343.pt m40.pt  m458.pt m513.pt m570.pt m72.pt\r\n",
      "m120.pt m177.pt m232.pt m289.pt m344.pt m400.pt m459.pt m514.pt m571.pt m73.pt\r\n",
      "m121.pt m178.pt m233.pt m29.pt  m345.pt m401.pt m46.pt  m515.pt m572.pt m74.pt\r\n",
      "m122.pt m179.pt m234.pt m290.pt m346.pt m402.pt m460.pt m516.pt m573.pt m75.pt\r\n",
      "m123.pt m18.pt  m235.pt m291.pt m347.pt m403.pt m461.pt m517.pt m574.pt m76.pt\r\n",
      "m124.pt m180.pt m236.pt m292.pt m348.pt m404.pt m462.pt m518.pt m575.pt m77.pt\r\n",
      "m125.pt m181.pt m237.pt m293.pt m349.pt m405.pt m463.pt m519.pt m576.pt m78.pt\r\n",
      "m126.pt m182.pt m238.pt m294.pt m35.pt  m407.pt m464.pt m52.pt  m577.pt m79.pt\r\n",
      "m127.pt m183.pt m239.pt m295.pt m350.pt m408.pt m465.pt m520.pt m578.pt m8.pt\r\n",
      "m128.pt m184.pt m24.pt  m296.pt m351.pt m409.pt m466.pt m521.pt m579.pt m80.pt\r\n",
      "m129.pt m185.pt m240.pt m297.pt m353.pt m41.pt  m467.pt m522.pt m58.pt  m81.pt\r\n",
      "m13.pt  m186.pt m241.pt m298.pt m354.pt m410.pt m468.pt m523.pt m580.pt m82.pt\r\n",
      "m130.pt m187.pt m242.pt m299.pt m355.pt m411.pt m469.pt m524.pt m581.pt m83.pt\r\n",
      "m131.pt m188.pt m243.pt m3.pt   m356.pt m412.pt m47.pt  m525.pt m582.pt m84.pt\r\n",
      "m132.pt m189.pt m244.pt m30.pt  m357.pt m413.pt m470.pt m526.pt m583.pt m85.pt\r\n",
      "m133.pt m19.pt  m245.pt m300.pt m358.pt m414.pt m471.pt m527.pt m584.pt m86.pt\r\n",
      "m134.pt m190.pt m246.pt m301.pt m359.pt m415.pt m472.pt m528.pt m585.pt m87.pt\r\n",
      "m135.pt m191.pt m247.pt m302.pt m36.pt  m416.pt m473.pt m529.pt m586.pt m88.pt\r\n",
      "m136.pt m192.pt m248.pt m303.pt m360.pt m417.pt m474.pt m53.pt  m587.pt m89.pt\r\n",
      "m137.pt m193.pt m249.pt m304.pt m361.pt m418.pt m475.pt m530.pt m588.pt m9.pt\r\n",
      "m138.pt m194.pt m25.pt  m305.pt m362.pt m419.pt m476.pt m531.pt m589.pt m90.pt\r\n",
      "m139.pt m195.pt m250.pt m306.pt m363.pt m42.pt  m477.pt m532.pt m59.pt  m91.pt\r\n",
      "m14.pt  m196.pt m251.pt m307.pt m364.pt m420.pt m478.pt m533.pt m590.pt m92.pt\r\n",
      "m140.pt m197.pt m252.pt m308.pt m365.pt m421.pt m479.pt m534.pt m591.pt m93.pt\r\n",
      "m141.pt m198.pt m253.pt m309.pt m366.pt m422.pt m48.pt  m535.pt m592.pt m94.pt\r\n",
      "m142.pt m199.pt m254.pt m31.pt  m367.pt m423.pt m480.pt m536.pt m593.pt m95.pt\r\n",
      "m143.pt m2.pt   m255.pt m310.pt m368.pt m424.pt m481.pt m537.pt m594.pt m96.pt\r\n",
      "m144.pt m20.pt  m256.pt m311.pt m369.pt m425.pt m482.pt m538.pt m595.pt m97.pt\r\n",
      "m145.pt m200.pt m257.pt m312.pt m37.pt  m426.pt m483.pt m539.pt m596.pt m98.pt\r\n",
      "m146.pt m201.pt m258.pt m313.pt m370.pt m427.pt m484.pt m54.pt  m597.pt m99.pt\r\n",
      "m147.pt m202.pt m259.pt m314.pt m371.pt m429.pt m485.pt m540.pt m598.pt\r\n",
      "m148.pt m203.pt m26.pt  m315.pt m372.pt m43.pt  m486.pt m541.pt m599.pt\r\n",
      "m149.pt m204.pt m260.pt m316.pt m373.pt m430.pt m487.pt m542.pt m6.pt\r\n",
      "m15.pt  m205.pt m261.pt m317.pt m374.pt m431.pt m488.pt m543.pt m60.pt\r\n",
      "m150.pt m206.pt m262.pt m318.pt m375.pt m432.pt m489.pt m544.pt m600.pt\r\n",
      "m151.pt m207.pt m263.pt m319.pt m376.pt m433.pt m49.pt  m545.pt m601.pt\r\n",
      "m152.pt m208.pt m264.pt m32.pt  m377.pt m434.pt m490.pt m546.pt m603.pt\r\n",
      "m153.pt m209.pt m265.pt m320.pt m378.pt m435.pt m491.pt m547.pt m604.pt\r\n"
     ]
    }
   ],
   "source": [
    "# Download the movie embeddings from GCP that I ran and saved for faster run.\n",
    "# Uncomment the lines above to create these from scratch.\n",
    "# It will take about 15 minutes on Tesla T4\n",
    "\n",
    "! rm cluster_embeddings*\n",
    "! wget https://storage.googleapis.com/akhilez/companies/ginger/cluster_embeddings.zip\n",
    "! rm -rf data/output/cluster_embeddings\n",
    "! unzip cluster_embeddings.zip -d data/output > temp.log\n",
    "! ls data/output/cluster_embeddings"
   ]
  },
  {
   "cell_type": "code",
   "execution_count": 249,
   "metadata": {
    "pycharm": {
     "name": "#%%\n"
    }
   },
   "outputs": [
    {
     "data": {
      "text/plain": "dict_keys(['m189', 'm218', 'm358', 'm249', 'm309', 'm480', 'm591', 'm600', 'm422', 'm562', 'm473', 'm533', 'm507', 'm447', 'm556', 'm416', 'm546', 'm457', 'm517', 'm523', 'm463', 'm572', 'm432', 'm610', 'm581', 'm490', 'm319', 'm259', 'm348', 'm208', 'm199', 'm368', 'm228', 'm339', 'm279', 'm98', 'm552', 'm412', 'm503', 'm443', 'm604', 'm595', 'm484', 'm477', 'm537', 'm426', 'm566', 'm576', 'm436', 'm527', 'm467', 'm494', 'm585', 'm614', 'm453', 'm513', 'm402', 'm542', 'm88', 'm269', 'm329', 'm238', 'm378', 'm369', 'm229', 'm338', 'm278', 'm99', 'm553', 'm413', 'm502', 'm442', 'm594', 'm605', 'm485', 'm476', 'm536', 'm427', 'm567', 'm577', 'm437', 'm526', 'm466', 'm495', 'm615', 'm584', 'm452', 'm512', 'm403', 'm543', 'm89', 'm268', 'm328', 'm239', 'm379', 'm219', 'm188', 'm359', 'm248', 'm308', 'm481', 'm601', 'm590', 'm423', 'm563', 'm472', 'm532', 'm506', 'm446', 'm557', 'm417', 'm407', 'm547', 'm456', 'm516', 'm522', 'm462', 'm573', 'm433', 'm580', 'm611', 'm491', 'm318', 'm258', 'm349', 'm198', 'm209', 'm568', 'm479', 'm539', 'm121', 'm34', 'm170', 'm65', 'm212', 'm183', 'm96', 'm243', 'm303', 'm51', 'm395', 'm144', 'm284', 'm115', 'm337', 'm277', 'm366', 'm1', 'm226', 'm236', 'm376', 'm267', 'm327', 'm105', 'm294', 'm10', 'm154', 'm41', 'm385', 'm313', 'm253', 'm342', 'm86', 'm193', 'm202', 'm75', 'm160', 'm24', 'm131', 'm529', 'm469', 'm578', 'm438', 'm558', 'm418', 'm509', 'm449', 'm111', 'm280', 'm391', 'm55', 'm140', 'm362', 'm222', 'm5', 'm333', 'm273', 'm174', 'm61', 'm125', 'm30', 'm247', 'm307', 'm187', 'm216', 'm92', 'm356', 'm82', 'm346', 'm206', 'm197', 'm317', 'm257', 'm20', 'm135', 'm71', 'm164', 'm263', 'm323', 'm232', 'm372', 'm150', 'm381', 'm45', 'm290', 'm101', 'm14', 'm459', 'm519', 'm408', 'm548', 'm559', 'm419', 'm508', 'm448', 'm281', 'm110', 'm54', 'm390', 'm141', 'm363', 'm4', 'm223', 'm332', 'm272', 'm175', 'm60', 'm124', 'm31', 'm246', 'm306', 'm217', 'm186', 'm357', 'm93', 'm347', 'm83', 'm196', 'm207', 'm316', 'm256', 'm21', 'm134', 'm70', 'm165', 'm262', 'm322', 'm233', 'm373', 'm151', 'm44', 'm380', 'm100', 'm291', 'm15', 'm458', 'm518', 'm409', 'm549', 'm429', 'm569', 'm478', 'm538', 'm120', 'm35', 'm171', 'm64', 'm182', 'm213', 'm97', 'm353', 'm242', 'm302', 'm394', 'm50', 'm145', 'm114', 'm285', 'm336', 'm276', 'm367', 'm227', 'm0', 'm237', 'm377', 'm266', 'm326', 'm295', 'm104', 'm11', 'm155', 'm384', 'm40', 'm312', 'm252', 'm87', 'm343', 'm203', 'm192', 'm74', 'm161', 'm25', 'm130', 'm528', 'm468', 'm579', 'm439', 'm331', 'm271', 'm360', 'm7', 'm220', 'm57', 'm393', 'm142', 'm113', 'm282', 'm185', 'm214', 'm354', 'm90', 'm245', 'm305', 'm127', 'm32', 'm176', 'm63', 'm73', 'm166', 'm22', 'm137', 'm315', 'm255', 'm344', 'm80', 'm204', 'm195', 'm292', 'm103', 'm16', 'm152', 'm47', 'm383', 'm230', 'm370', 'm261', 'm321', 'm608', 'm599', 'm488', 'm241', 'm301', 'm210', 'm181', 'm94', 'm350', 'm172', 'm67', 'm123', 'm36', 'm364', 'm224', 'm3', 'm335', 'm275', 'm286', 'm117', 'm397', 'm53', 'm146', 'm156', 'm387', 'm43', 'm107', 'm296', 'm12', 'm265', 'm325', 'm234', 'm374', 'm26', 'm133', 'm77', 'm162', 'm84', 'm340', 'm191', 'm200', 'm311', 'm251', 'm498', 'm589', 'm598', 'm609', 'm489', 'm240', 'm300', 'm180', 'm211', 'm351', 'm95', 'm173', 'm66', 'm122', 'm37', 'm365', 'm2', 'm225', 'm334', 'm274', 'm116', 'm287', 'm52', 'm396', 'm147', 'm157', 'm42', 'm386', 'm297', 'm106', 'm13', 'm264', 'm324', 'm235', 'm375', 'm27', 'm132', 'm76', 'm163', 'm341', 'm85', 'm201', 'm190', 'm310', 'm250', 'm499', 'm588', 'm330', 'm270', 'm361', 'm221', 'm6', 'm392', 'm143', 'm283', 'm112', 'm215', 'm184', 'm91', 'm355', 'm244', 'm304', 'm126', 'm33', 'm177', 'm62', 'm72', 'm167', 'm23', 'm136', 'm314', 'm254', 'm81', 'm345', 'm194', 'm205', 'm102', 'm293', 'm17', 'm153', 'm382', 'm46', 'm231', 'm371', 'm260', 'm320', 'm399', 'm148', 'm288', 'm119', 'm38', 'm69', 'm501', 'm441', 'm550', 'm410', 'm424', 'm564', 'm475', 'm535', 'm486', 'm606', 'm597', 'm587', 'm616', 'm496', 'm525', 'm465', 'm574', 'm434', 'm400', 'm540', 'm451', 'm511', 'm79', 'm28', 'm109', 'm298', 'm158', 'm389', 'm178', 'm129', 'm59', 'm9', 'm471', 'm531', 'm420', 'm560', 'm593', 'm482', 'm554', 'm414', 'm505', 'm445', 'm455', 'm515', 'm404', 'm544', 'm492', 'm612', 'm583', 'm570', 'm430', 'm521', 'm461', 'm49', 'm18', 'm139', 'm168', 'm179', 'm128', 'm58', 'm8', 'm470', 'm530', 'm421', 'm561', 'm603', 'm592', 'm483', 'm555', 'm415', 'm504', 'm444', 'm454', 'm514', 'm405', 'm545', 'm493', 'm582', 'm613', 'm571', 'm431', 'm520', 'm460', 'm48', 'm19', 'm138', 'm169', 'm398', 'm149', 'm118', 'm289', 'm39', 'm68', 'm500', 'm440', 'm551', 'm411', 'm425', 'm565', 'm474', 'm534', 'm487', 'm596', 'm607', 'm586', 'm497', 'm524', 'm464', 'm575', 'm435', 'm401', 'm541', 'm450', 'm510', 'm78', 'm29', 'm299', 'm108', 'm159', 'm388'])"
     },
     "execution_count": 249,
     "metadata": {},
     "output_type": "execute_result"
    }
   ],
   "source": [
    "def load_cluster_embeddings(embeddings_path) -> Dict[str, torch.Tensor]:\n",
    "    embeddings = {}\n",
    "    files = listdir(embeddings_path)\n",
    "    for file_name in files:\n",
    "        movie_id = file_name[:-3]\n",
    "        embedding = torch.load(join(embeddings_path, file_name))\n",
    "        embeddings[movie_id] = embedding\n",
    "    return embeddings\n",
    "\n",
    "\n",
    "clusters_embeddings = load_cluster_embeddings(cluster_embeddings_path)\n",
    "clusters_embeddings.keys()"
   ]
  },
  {
   "cell_type": "markdown",
   "metadata": {
    "pycharm": {
     "name": "#%% md\n"
    }
   },
   "source": [
    "`clusters_embeddings` is a dict of the shape:\n",
    "\n",
    "```yaml\n",
    "<movie_1_id>:\n",
    "    cluster_dialogs:\n",
    "        - <dialog1:str>\n",
    "        - <dialog2:str>\n",
    "        - ...\n",
    "    cluster_embeddings: <dialogs_embedding:torch.Tensor(n_dialogs,embedding_dim)>\n",
    "<movie_2_id>:\n",
    "    ...\n",
    "```\n",
    "\n",
    "Now we can average out the cluster embeddings to get embeddings for the movie.\n",
    "\n",
    "Then we can find similarities b/w all movies and create a network for the movies.\n",
    "\n"
   ]
  },
  {
   "cell_type": "code",
   "execution_count": 30,
   "metadata": {
    "pycharm": {
     "name": "#%%\n"
    }
   },
   "outputs": [
    {
     "name": "stdout",
     "output_type": "stream",
     "text": [
      "Average cluster_sizes: 135.17320261437908\n",
      "Max cluster_sizes: 338\n",
      "Min cluster_sizes: 3\n"
     ]
    },
    {
     "data": {
      "text/plain": "Text(0.5, 0, 'cluster_sizes')"
     },
     "execution_count": 30,
     "metadata": {},
     "output_type": "execute_result"
    },
    {
     "data": {
      "text/plain": "<Figure size 432x288 with 1 Axes>",
      "image/png": "[encoded data removed]"
     },
     "metadata": {
      "needs_background": "light"
     },
     "output_type": "display_data"
    }
   ],
   "source": [
    "# Plotting similarity scores for the dialogs\n",
    "\n",
    "cluster_sizes = [len(cluster_dict['cluster_dialogs']) for movie_id, cluster_dict in clusters_embeddings.items()]\n",
    "cluster_sizes = sorted(cluster_sizes, reverse=True)\n",
    "cluster_sizes = np.array(cluster_sizes)\n",
    "\n",
    "print(f'Average cluster_sizes: {cluster_sizes.mean()}')\n",
    "print(f'Max cluster_sizes: {cluster_sizes.max()}')\n",
    "print(f'Min cluster_sizes: {cluster_sizes.min()}')\n",
    "\n",
    "plt.plot(cluster_sizes)\n",
    "plt.title(\"cluster_sizes for each movie\")\n",
    "plt.xlabel(\"movie index sorted descendingly by y\")\n",
    "plt.xlabel(\"cluster_sizes\")"
   ]
  },
  {
   "cell_type": "markdown",
   "metadata": {
    "pycharm": {
     "name": "#%% md\n"
    }
   },
   "source": [
    "Most cluster sizes (number of significant dialogs that are similar) for the\n",
    "movies are b/w 75-200.\n",
    "\n",
    "Average # of dialogs was ~500.\n",
    "\n",
    "After filtering with similarity cluster technique,\n",
    "the average # of filtered dialogs is 135. Reduction by 75%."
   ]
  },
  {
   "cell_type": "code",
   "execution_count": 32,
   "metadata": {
    "pycharm": {
     "name": "#%%\n"
    }
   },
   "outputs": [
    {
     "data": {
      "text/plain": "<IPython.core.display.HTML object>",
      "text/html": "<html>\n<head>\n<link rel=\"stylesheet\" href=\"https://cdnjs.cloudflare.com/ajax/libs/vis/4.16.1/vis.css\" type=\"text/css\" />\n<script type=\"text/javascript\" src=\"https://cdnjs.cloudflare.com/ajax/libs/vis/4.16.1/vis-network.min.js\"> </script>\n<center>\n<h1></h1>\n</center>\n\n<!-- <link rel=\"stylesheet\" href=\"../node_modules/vis/dist/vis.min.css\" type=\"text/css\" />\n<script type=\"text/javascript\" src=\"../node_modules/vis/dist/vis.js\"> </script>-->\n\n<style type=\"text/css\">\n\n        #mynetwork {\n            width: 1080;\n            height: 500px;\n            background-color: #ffffff;\n            border: 1px solid lightgray;\n            position: relative;\n            float: left;\n        }\n\n        \n        #loadingBar {\n            position:absolute;\n            top:0px;\n            left:0px;\n            width: 1080;\n            height: 500px;\n            background-color:rgba(200,200,200,0.8);\n            -webkit-transition: all 0.5s ease;\n            -moz-transition: all 0.5s ease;\n            -ms-transition: all 0.5s ease;\n            -o-transition: all 0.5s ease;\n            transition: all 0.5s ease;\n            opacity:1;\n        }\n\n        #bar {\n            position:absolute;\n            top:0px;\n            left:0px;\n            width:20px;\n            height:20px;\n            margin:auto auto auto auto;\n            border-radius:11px;\n            border:2px solid rgba(30,30,30,0.05);\n            background: rgb(0, 173, 246); /* Old browsers */\n            box-shadow: 2px 0px 4px rgba(0,0,0,0.4);\n        }\n\n        #border {\n            position:absolute;\n            top:10px;\n            left:10px;\n            width:500px;\n            height:23px;\n            margin:auto auto auto auto;\n            box-shadow: 0px 0px 4px rgba(0,0,0,0.2);\n            border-radius:10px;\n        }\n\n        #text {\n            position:absolute;\n            top:8px;\n            left:530px;\n            width:30px;\n            height:50px;\n            margin:auto auto auto auto;\n            font-size:22px;\n            color: #000000;\n        }\n\n        div.outerBorder {\n            position:relative;\n            top:400px;\n            width:600px;\n            height:44px;\n            margin:auto auto auto auto;\n            border:8px solid rgba(0,0,0,0.1);\n            background: rgb(252,252,252); /* Old browsers */\n            background: -moz-linear-gradient(top,  rgba(252,252,252,1) 0%, rgba(237,237,237,1) 100%); /* FF3.6+ */\n            background: -webkit-gradient(linear, left top, left bottom, color-stop(0%,rgba(252,252,252,1)), color-stop(100%,rgba(237,237,237,1))); /* Chrome,Safari4+ */\n            background: -webkit-linear-gradient(top,  rgba(252,252,252,1) 0%,rgba(237,237,237,1) 100%); /* Chrome10+,Safari5.1+ */\n            background: -o-linear-gradient(top,  rgba(252,252,252,1) 0%,rgba(237,237,237,1) 100%); /* Opera 11.10+ */\n            background: -ms-linear-gradient(top,  rgba(252,252,252,1) 0%,rgba(237,237,237,1) 100%); /* IE10+ */\n            background: linear-gradient(to bottom,  rgba(252,252,252,1) 0%,rgba(237,237,237,1) 100%); /* W3C */\n            filter: progid:DXImageTransform.Microsoft.gradient( startColorstr='#fcfcfc', endColorstr='#ededed',GradientType=0 ); /* IE6-9 */\n            border-radius:72px;\n            box-shadow: 0px 0px 10px rgba(0,0,0,0.2);\n        }\n        \n\n        \n\n        \n</style>\n\n</head>\n\n<body>\n<div id = \"mynetwork\"></div>\n\n<div id=\"loadingBar\">\n    <div class=\"outerBorder\">\n        <div id=\"text\">0%</div>\n        <div id=\"border\">\n            <div id=\"bar\"></div>\n        </div>\n    </div>\n</div>\n\n\n<script type=\"text/javascript\">\n\n    // initialize global variables.\n    var edges;\n    var nodes;\n    var network; \n    var container;\n    var options, data;\n\n    \n    // This method is responsible for drawing the graph, returns the drawn network\n    function drawGraph() {\n        var container = document.getElementById('mynetwork');\n        \n        \n\n        // parsing and collecting nodes and edges from the python\n        nodes = new vis.DataSet([{\"id\": 0, \"label\": \"spider-man\", \"shape\": \"dot\", \"size\": 10, \"title\": \"[\\u0027action\\u0027, \\u0027adventure\\u0027, \\u0027fantasy\\u0027, \\u0027sci-fi\\u0027, \\u0027action\\u0027, \\u0027adventure\\u0027, \\u0027sci-fi\\u0027, \\u0027thriller\\u0027]\"}, {\"id\": 3, \"label\": \"as good as it gets\", \"shape\": \"dot\", \"size\": 10, \"title\": \"[\\u0027comedy\\u0027, \\u0027drama\\u0027, \\u0027romance\\u0027]\"}, {\"id\": 4, \"label\": \"crime spree\", \"shape\": \"dot\", \"size\": 10, \"title\": \"[\\u0027action\\u0027, \\u0027comedy\\u0027, \\u0027crime\\u0027]\"}, {\"id\": 11, \"label\": \"stepmom\", \"shape\": \"dot\", \"size\": 10, \"title\": \"[\\u0027comedy\\u0027, \\u0027drama\\u0027]\"}, {\"id\": 12, \"label\": \"scream\", \"shape\": \"dot\", \"size\": 10, \"title\": \"[\\u0027crime\\u0027, \\u0027horror\\u0027, \\u0027mystery\\u0027, \\u0027thriller\\u0027]\"}, {\"id\": 15, \"label\": \"kramer vs. kramer\", \"shape\": \"dot\", \"size\": 10, \"title\": \"[\\u0027drama\\u0027]\"}, {\"id\": 24, \"label\": \"traffic\", \"shape\": \"dot\", \"size\": 10, \"title\": \"[\\u0027crime\\u0027, \\u0027drama\\u0027, \\u0027thriller\\u0027]\"}, {\"id\": 30, \"label\": \"starman\", \"shape\": \"dot\", \"size\": 10, \"title\": \"[\\u0027adventure\\u0027, \\u0027drama\\u0027, \\u0027romance\\u0027, \\u0027sci-fi\\u0027]\"}, {\"id\": 32, \"label\": \"white squall\", \"shape\": \"dot\", \"size\": 10, \"title\": \"[\\u0027adventure\\u0027, \\u0027drama\\u0027]\"}, {\"id\": 34, \"label\": \"the bridges of madison county\", \"shape\": \"dot\", \"size\": 10, \"title\": \"[\\u0027drama\\u0027, \\u0027romance\\u0027]\"}, {\"id\": 38, \"label\": \"say anything...\", \"shape\": \"dot\", \"size\": 10, \"title\": \"[\\u0027comedy\\u0027, \\u0027drama\\u0027, \\u0027romance\\u0027]\"}, {\"id\": 41, \"label\": \"very bad things\", \"shape\": \"dot\", \"size\": 10, \"title\": \"[\\u0027comedy\\u0027, \\u0027crime\\u0027, \\u0027thriller\\u0027]\"}, {\"id\": 43, \"label\": \"point break\", \"shape\": \"dot\", \"size\": 10, \"title\": \"[\\u0027action\\u0027, \\u0027adventure\\u0027, \\u0027crime\\u0027, \\u0027drama\\u0027, \\u0027sport\\u0027, \\u0027thriller\\u0027]\"}, {\"id\": 47, \"label\": \"tombstone\", \"shape\": \"dot\", \"size\": 10, \"title\": \"[\\u0027action\\u0027, \\u0027drama\\u0027, \\u0027history\\u0027, \\u0027romance\\u0027, \\u0027western\\u0027]\"}, {\"id\": 48, \"label\": \"memento\", \"shape\": \"dot\", \"size\": 10, \"title\": \"[\\u0027crime\\u0027, \\u0027drama\\u0027, \\u0027mystery\\u0027, \\u0027thriller\\u0027]\"}, {\"id\": 50, \"label\": \"out of sight\", \"shape\": \"dot\", \"size\": 10, \"title\": \"[\\u0027comedy\\u0027, \\u0027crime\\u0027, \\u0027romance\\u0027, \\u0027thriller\\u0027]\"}, {\"id\": 52, \"label\": \"true lies\", \"shape\": \"dot\", \"size\": 10, \"title\": \"[\\u0027action\\u0027, \\u0027thriller\\u0027]\"}, {\"id\": 58, \"label\": \"high fidelity\", \"shape\": \"dot\", \"size\": 10, \"title\": \"[\\u0027comedy\\u0027, \\u0027drama\\u0027, \\u0027music\\u0027, \\u0027romance\\u0027]\"}, {\"id\": 63, \"label\": \"the godfather: part ii\", \"shape\": \"dot\", \"size\": 10, \"title\": \"[\\u0027crime\\u0027, \\u0027drama\\u0027, \\u0027thriller\\u0027]\"}, {\"id\": 74, \"label\": \"mystery of the wax museum\", \"shape\": \"dot\", \"size\": 10, \"title\": \"[\\u0027horror\\u0027, \\u0027mystery\\u0027, \\u0027thriller\\u0027]\"}, {\"id\": 81, \"label\": \"spacejacked\", \"shape\": \"dot\", \"size\": 10, \"title\": \"[\\u0027action\\u0027, \\u0027sci-fi\\u0027]\"}, {\"id\": 83, \"label\": \"route 9\", \"shape\": \"dot\", \"size\": 10, \"title\": \"[\\u0027crime\\u0027, \\u0027drama\\u0027]\"}, {\"id\": 96, \"label\": \"someone to watch over me\", \"shape\": \"dot\", \"size\": 10, \"title\": \"[\\u0027action\\u0027, \\u0027crime\\u0027, \\u0027drama\\u0027, \\u0027romance\\u0027, \\u0027thriller\\u0027]\"}, {\"id\": 123, \"label\": \"basquiat\", \"shape\": \"dot\", \"size\": 10, \"title\": \"[\\u0027biography\\u0027, \\u0027drama\\u0027]\"}, {\"id\": 128, \"label\": \"pretty woman\", \"shape\": \"dot\", \"size\": 10, \"title\": \"[\\u0027comedy\\u0027, \\u0027romance\\u0027]\"}, {\"id\": 129, \"label\": \"sunset blvd.\", \"shape\": \"dot\", \"size\": 10, \"title\": \"[\\u0027drama\\u0027, \\u0027film-noir\\u0027]\"}, {\"id\": 130, \"label\": \"little nicky\", \"shape\": \"dot\", \"size\": 10, \"title\": \"[\\u0027fantasy\\u0027, \\u0027comedy\\u0027, \\u0027romance\\u0027, \\u0027animation\\u0027, \\u0027comedy\\u0027, \\u0027fantasy\\u0027, \\u0027horror\\u0027]\"}, {\"id\": 131, \"label\": \"blade runner\", \"shape\": \"dot\", \"size\": 10, \"title\": \"[\\u0027drama\\u0027, \\u0027sci-fi\\u0027, \\u0027thriller\\u0027]\"}, {\"id\": 137, \"label\": \"annie hall\", \"shape\": \"dot\", \"size\": 10, \"title\": \"[\\u0027comedy\\u0027, \\u0027drama\\u0027, \\u0027romance\\u0027]\"}, {\"id\": 138, \"label\": \"conspiracy theory\", \"shape\": \"dot\", \"size\": 10, \"title\": \"[\\u0027action\\u0027, \\u0027crime\\u0027, \\u0027mystery\\u0027, \\u0027romance\\u0027, \\u0027thriller\\u0027]\"}, {\"id\": 143, \"label\": \"labor of love\", \"shape\": \"dot\", \"size\": 10, \"title\": \"[\\u0027\\u0027]\"}, {\"id\": 150, \"label\": \"the horse whisperer\", \"shape\": \"dot\", \"size\": 10, \"title\": \"[\\u0027drama\\u0027, \\u0027romance\\u0027, \\u0027western\\u0027]\"}, {\"id\": 151, \"label\": \"being john malkovich\", \"shape\": \"dot\", \"size\": 10, \"title\": \"[\\u0027comedy\\u0027, \\u0027drama\\u0027, \\u0027fantasy\\u0027, \\u0027romance\\u0027]\"}, {\"id\": 152, \"label\": \"dumb and dumberer: when harry met lloyd\", \"shape\": \"dot\", \"size\": 10, \"title\": \"[\\u0027comedy\\u0027]\"}, {\"id\": 153, \"label\": \"jackie brown\", \"shape\": \"dot\", \"size\": 10, \"title\": \"[\\u0027crime\\u0027, \\u0027drama\\u0027, \\u0027thriller\\u0027]\"}, {\"id\": 154, \"label\": \"cherry falls\", \"shape\": \"dot\", \"size\": 10, \"title\": \"[\\u0027horror\\u0027, \\u0027mystery\\u0027, \\u0027thriller\\u0027]\"}, {\"id\": 155, \"label\": \"affliction\", \"shape\": \"dot\", \"size\": 10, \"title\": \"[\\u0027drama\\u0027, \\u0027mystery\\u0027, \\u0027thriller\\u0027]\"}, {\"id\": 156, \"label\": \"an officer and a gentleman\", \"shape\": \"dot\", \"size\": 10, \"title\": \"[\\u0027drama\\u0027, \\u0027romance\\u0027]\"}, {\"id\": 157, \"label\": \"the butterfly effect\", \"shape\": \"dot\", \"size\": 10, \"title\": \"[\\u0027drama\\u0027, \\u0027mystery\\u0027, \\u0027sci-fi\\u0027, \\u0027thriller\\u0027]\"}, {\"id\": 161, \"label\": \"the fabulous baker boys\", \"shape\": \"dot\", \"size\": 10, \"title\": \"[\\u0027drama\\u0027, \\u0027music\\u0027, \\u0027romance\\u0027]\"}, {\"id\": 163, \"label\": \"star trek: the wrath of khan\", \"shape\": \"dot\", \"size\": 10, \"title\": \"[\\u0027action\\u0027, \\u0027adventure\\u0027, \\u0027sci-fi\\u0027, \\u0027thriller\\u0027]\"}, {\"id\": 164, \"label\": \"swingers\", \"shape\": \"dot\", \"size\": 10, \"title\": \"[\\u0027comedy\\u0027, \\u0027drama\\u0027]\"}, {\"id\": 167, \"label\": \"bachelor party\", \"shape\": \"dot\", \"size\": 10, \"title\": \"[\\u0027comedy\\u0027, \\u0027romance\\u0027]\"}, {\"id\": 170, \"label\": \"peggy sue got married\", \"shape\": \"dot\", \"size\": 10, \"title\": \"[\\u0027comedy\\u0027, \\u0027drama\\u0027, \\u0027fantasy\\u0027, \\u0027romance\\u0027]\"}, {\"id\": 176, \"label\": \"\\\"murderland\\\"\", \"shape\": \"dot\", \"size\": 10, \"title\": \"[\\u0027crime\\u0027, \\u0027drama\\u0027, \\u0027mystery\\u0027]\"}, {\"id\": 178, \"label\": \"bones\", \"shape\": \"dot\", \"size\": 10, \"title\": \"[\\u0027crime\\u0027, \\u0027horror\\u0027]\"}, {\"id\": 180, \"label\": \"eternal sunshine of the spotless mind\", \"shape\": \"dot\", \"size\": 10, \"title\": \"[\\u0027drama\\u0027, \\u0027romance\\u0027, \\u0027sci-fi\\u0027]\"}, {\"id\": 181, \"label\": \"mr. deeds goes to town\", \"shape\": \"dot\", \"size\": 10, \"title\": \"[\\u0027comedy\\u0027, \\u0027romance\\u0027]\"}, {\"id\": 189, \"label\": \"men in black\", \"shape\": \"dot\", \"size\": 10, \"title\": \"[\\u0027action\\u0027, \\u0027adventure\\u0027, \\u0027comedy\\u0027, \\u0027sci-fi\\u0027]\"}, {\"id\": 190, \"label\": \"big fish\", \"shape\": \"dot\", \"size\": 10, \"title\": \"[\\u0027adventure\\u0027, \\u0027drama\\u0027, \\u0027fantasy\\u0027]\"}, {\"id\": 194, \"label\": \"thelma \\u0026 louise\", \"shape\": \"dot\", \"size\": 10, \"title\": \"[\\u0027crime\\u0027, \\u0027drama\\u0027, \\u0027thriller\\u0027]\"}, {\"id\": 196, \"label\": \"the adventures of ford fairlane\", \"shape\": \"dot\", \"size\": 10, \"title\": \"[\\u0027action\\u0027, \\u0027adventure\\u0027, \\u0027comedy\\u0027, \\u0027music\\u0027]\"}, {\"id\": 200, \"label\": \"star trek vi: the undiscovered country\", \"shape\": \"dot\", \"size\": 10, \"title\": \"[\\u0027action\\u0027, \\u0027mystery\\u0027, \\u0027sci-fi\\u0027, \\u0027thriller\\u0027]\"}, {\"id\": 202, \"label\": \"basic instinct\", \"shape\": \"dot\", \"size\": 10, \"title\": \"[\\u0027mystery\\u0027, \\u0027romance\\u0027, \\u0027thriller\\u0027]\"}, {\"id\": 203, \"label\": \"american psycho\", \"shape\": \"dot\", \"size\": 10, \"title\": \"[\\u0027drama\\u0027, \\u0027thriller\\u0027]\"}, {\"id\": 213, \"label\": \"confidence\", \"shape\": \"dot\", \"size\": 10, \"title\": \"[\\u0027crime\\u0027, \\u0027thriller\\u0027]\"}, {\"id\": 214, \"label\": \"catwoman\", \"shape\": \"dot\", \"size\": 10, \"title\": \"[\\u0027action\\u0027, \\u0027crime\\u0027, \\u0027fantasy\\u0027]\"}, {\"id\": 216, \"label\": \"alien nation\", \"shape\": \"dot\", \"size\": 10, \"title\": \"[\\u0027crime\\u0027, \\u0027drama\\u0027, \\u0027sci-fi\\u0027, \\u0027thriller\\u0027]\"}, {\"id\": 218, \"label\": \"smoke\", \"shape\": \"dot\", \"size\": 10, \"title\": \"[\\u0027comedy\\u0027, \\u0027drama\\u0027]\"}, {\"id\": 219, \"label\": \"jerry maguire\", \"shape\": \"dot\", \"size\": 10, \"title\": \"[\\u0027comedy\\u0027, \\u0027drama\\u0027, \\u0027romance\\u0027, \\u0027sport\\u0027]\"}, {\"id\": 223, \"label\": \"seven\", \"shape\": \"dot\", \"size\": 10, \"title\": \"[\\u0027action\\u0027, \\u0027drama\\u0027]\"}, {\"id\": 224, \"label\": \"mulholland dr.\", \"shape\": \"dot\", \"size\": 10, \"title\": \"[\\u0027drama\\u0027, \\u0027mystery\\u0027, \\u0027thriller\\u0027]\"}, {\"id\": 225, \"label\": \"bound\", \"shape\": \"dot\", \"size\": 10, \"title\": \"[\\u0027crime\\u0027, \\u0027drama\\u0027, \\u0027thriller\\u0027]\"}, {\"id\": 229, \"label\": \"mumford\", \"shape\": \"dot\", \"size\": 10, \"title\": \"[\\u0027comedy\\u0027, \\u0027drama\\u0027]\"}, {\"id\": 241, \"label\": \"there\\u0027s something about mary\", \"shape\": \"dot\", \"size\": 10, \"title\": \"[\\u0027comedy\\u0027, \\u0027romance\\u0027]\"}, {\"id\": 244, \"label\": \"human nature\", \"shape\": \"dot\", \"size\": 10, \"title\": \"[\\u0027comedy\\u0027, \\u0027drama\\u0027]\"}, {\"id\": 246, \"label\": \"hardcore\", \"shape\": \"dot\", \"size\": 10, \"title\": \"[\\u0027drama\\u0027]\"}, {\"id\": 248, \"label\": \"the majestic\", \"shape\": \"dot\", \"size\": 10, \"title\": \"[\\u0027drama\\u0027, \\u0027romance\\u0027]\"}, {\"id\": 250, \"label\": \"barton fink\", \"shape\": \"dot\", \"size\": 10, \"title\": \"[\\u0027drama\\u0027, \\u0027mystery\\u0027, \\u0027thriller\\u0027]\"}, {\"id\": 253, \"label\": \"get shorty\", \"shape\": \"dot\", \"size\": 10, \"title\": \"[\\u0027comedy\\u0027, \\u0027crime\\u0027, \\u0027thriller\\u0027]\"}, {\"id\": 255, \"label\": \"batman\", \"shape\": \"dot\", \"size\": 10, \"title\": \"[\\u0027crime\\u0027, \\u0027drama\\u0027, \\u0027thriller\\u0027, \\u0027action\\u0027, \\u0027adventure\\u0027, \\u0027crime\\u0027]\"}, {\"id\": 258, \"label\": \"good will hunting\", \"shape\": \"dot\", \"size\": 10, \"title\": \"[\\u0027drama\\u0027]\"}, {\"id\": 261, \"label\": \"hannah and her sisters\", \"shape\": \"dot\", \"size\": 10, \"title\": \"[\\u0027comedy\\u0027, \\u0027drama\\u0027, \\u0027romance\\u0027]\"}, {\"id\": 262, \"label\": \"innerspace\", \"shape\": \"dot\", \"size\": 10, \"title\": \"[\\u0027action\\u0027, \\u0027adventure\\u0027, \\u0027comedy\\u0027, \\u0027crime\\u0027, \\u0027sci-fi\\u0027]\"}, {\"id\": 265, \"label\": \"never been kissed\", \"shape\": \"dot\", \"size\": 10, \"title\": \"[\\u0027comedy\\u0027, \\u0027drama\\u0027, \\u0027romance\\u0027]\"}, {\"id\": 270, \"label\": \"the thin man\", \"shape\": \"dot\", \"size\": 10, \"title\": \"[\\u0027comedy\\u0027, \\u0027crime\\u0027, \\u0027drama\\u0027, \\u0027mystery\\u0027, \\u0027romance\\u0027]\"}, {\"id\": 273, \"label\": \"the life of david gale\", \"shape\": \"dot\", \"size\": 10, \"title\": \"[\\u0027drama\\u0027, \\u0027crime\\u0027, \\u0027thriller\\u0027]\"}, {\"id\": 278, \"label\": \"the thing\", \"shape\": \"dot\", \"size\": 10, \"title\": \"[\\u0027horror\\u0027, \\u0027mystery\\u0027, \\u0027sci-fi\\u0027, \\u0027thriller\\u0027]\"}, {\"id\": 280, \"label\": \"five easy pieces\", \"shape\": \"dot\", \"size\": 10, \"title\": \"[\\u0027drama\\u0027]\"}, {\"id\": 282, \"label\": \"collateral\", \"shape\": \"dot\", \"size\": 10, \"title\": \"[\\u0027crime\\u0027, \\u0027drama\\u0027, \\u0027thriller\\u0027]\"}, {\"id\": 283, \"label\": \"hudson hawk\", \"shape\": \"dot\", \"size\": 10, \"title\": \"[\\u0027action\\u0027, \\u0027adventure\\u0027, \\u0027comedy\\u0027, \\u0027action\\u0027, \\u0027adventure\\u0027, \\u0027comedy\\u0027, \\u0027crime\\u0027]\"}, {\"id\": 284, \"label\": \"donnie darko\", \"shape\": \"dot\", \"size\": 10, \"title\": \"[\\u0027drama\\u0027, \\u0027mystery\\u0027, \\u0027sci-fi\\u0027]\"}, {\"id\": 285, \"label\": \"next friday\", \"shape\": \"dot\", \"size\": 10, \"title\": \"[\\u0027comedy\\u0027]\"}, {\"id\": 287, \"label\": \"broadcast news\", \"shape\": \"dot\", \"size\": 10, \"title\": \"[\\u0027comedy\\u0027, \\u0027drama\\u0027, \\u0027romance\\u0027]\"}, {\"id\": 288, \"label\": \"erin brockovich\", \"shape\": \"dot\", \"size\": 10, \"title\": \"[\\u0027biography\\u0027, \\u0027drama\\u0027, \\u0027romance\\u0027]\"}, {\"id\": 296, \"label\": \"do the right thing\", \"shape\": \"dot\", \"size\": 10, \"title\": \"[\\u0027drama\\u0027]\"}, {\"id\": 306, \"label\": \"face/off\", \"shape\": \"dot\", \"size\": 10, \"title\": \"[\\u0027action\\u0027, \\u0027crime\\u0027, \\u0027drama\\u0027, \\u0027sci-fi\\u0027, \\u0027thriller\\u0027]\"}, {\"id\": 307, \"label\": \"the godfather\", \"shape\": \"dot\", \"size\": 10, \"title\": \"[\\u0027crime\\u0027, \\u0027drama\\u0027, \\u0027thriller\\u0027]\"}, {\"id\": 310, \"label\": \"platinum blonde\", \"shape\": \"dot\", \"size\": 10, \"title\": \"[\\u0027comedy\\u0027, \\u0027romance\\u0027]\"}, {\"id\": 311, \"label\": \"backdraft\", \"shape\": \"dot\", \"size\": 10, \"title\": \"[\\u0027action\\u0027, \\u0027crime\\u0027, \\u0027drama\\u0027, \\u0027mystery\\u0027, \\u0027thriller\\u0027]\"}, {\"id\": 317, \"label\": \"election\", \"shape\": \"dot\", \"size\": 10, \"title\": \"[\\u0027comedy\\u0027, \\u0027drama\\u0027]\"}, {\"id\": 333, \"label\": \"made\", \"shape\": \"dot\", \"size\": 10, \"title\": \"[\\u0027comedy\\u0027, \\u0027crime\\u0027, \\u0027drama\\u0027, \\u0027thriller\\u0027]\"}, {\"id\": 344, \"label\": \"halloween h20: 20 years later\", \"shape\": \"dot\", \"size\": 10, \"title\": \"[\\u0027drama\\u0027, \\u0027horror\\u0027, \\u0027thriller\\u0027]\"}, {\"id\": 348, \"label\": \"it happened one night\", \"shape\": \"dot\", \"size\": 10, \"title\": \"[\\u0027comedy\\u0027, \\u0027romance\\u0027]\"}, {\"id\": 350, \"label\": \"nurse betty\", \"shape\": \"dot\", \"size\": 10, \"title\": \"[\\u0027comedy\\u0027, \\u0027crime\\u0027, \\u0027romance\\u0027, \\u0027thriller\\u0027]\"}, {\"id\": 352, \"label\": \"heathers\", \"shape\": \"dot\", \"size\": 10, \"title\": \"[\\u0027comedy\\u0027, \\u0027crime\\u0027]\"}, {\"id\": 353, \"label\": \"wonder boys\", \"shape\": \"dot\", \"size\": 10, \"title\": \"[\\u0027drama\\u0027, \\u0027comedy\\u0027]\"}, {\"id\": 354, \"label\": \"gods and monsters\", \"shape\": \"dot\", \"size\": 10, \"title\": \"[\\u0027biography\\u0027, \\u0027drama\\u0027]\"}, {\"id\": 356, \"label\": \"demolition man\", \"shape\": \"dot\", \"size\": 10, \"title\": \"[\\u0027action\\u0027, \\u0027crime\\u0027, \\u0027sci-fi\\u0027]\"}, {\"id\": 366, \"label\": \"scary movie 2\", \"shape\": \"dot\", \"size\": 10, \"title\": \"[\\u0027comedy\\u0027]\"}, {\"id\": 368, \"label\": \"lost highway\", \"shape\": \"dot\", \"size\": 10, \"title\": \"[\\u0027drama\\u0027, \\u0027horror\\u0027, \\u0027mystery\\u0027, \\u0027thriller\\u0027]\"}, {\"id\": 369, \"label\": \"blue velvet\", \"shape\": \"dot\", \"size\": 10, \"title\": \"[\\u0027crime\\u0027, \\u0027mystery\\u0027, \\u0027thriller\\u0027]\"}, {\"id\": 371, \"label\": \"twin peaks: fire walk with me\", \"shape\": \"dot\", \"size\": 10, \"title\": \"[\\u0027drama\\u0027, \\u0027horror\\u0027, \\u0027mystery\\u0027, \\u0027thriller\\u0027]\"}, {\"id\": 374, \"label\": \"bloodmoon\", \"shape\": \"dot\", \"size\": 10, \"title\": \"[\\u0027action\\u0027, \\u0027thriller\\u0027]\"}, {\"id\": 375, \"label\": \"a bucket of blood\", \"shape\": \"dot\", \"size\": 10, \"title\": \"[\\u0027comedy\\u0027, \\u0027horror\\u0027]\"}, {\"id\": 379, \"label\": \"nick of time\", \"shape\": \"dot\", \"size\": 10, \"title\": \"[\\u0027crime\\u0027, \\u0027drama\\u0027, \\u0027thriller\\u0027]\"}, {\"id\": 382, \"label\": \"cast away\", \"shape\": \"dot\", \"size\": 10, \"title\": \"[\\u0027adventure\\u0027, \\u0027drama\\u0027]\"}, {\"id\": 384, \"label\": \"chinatown\", \"shape\": \"dot\", \"size\": 10, \"title\": \"[\\u0027crime\\u0027, \\u0027drama\\u0027, \\u0027mystery\\u0027, \\u0027thriller\\u0027]\"}, {\"id\": 386, \"label\": \"beetle juice\", \"shape\": \"dot\", \"size\": 10, \"title\": \"[\\u0027comedy\\u0027, \\u0027fantasy\\u0027]\"}, {\"id\": 391, \"label\": \"metro\", \"shape\": \"dot\", \"size\": 10, \"title\": \"[\\u0027action\\u0027, \\u0027comedy\\u0027, \\u0027crime\\u0027, \\u0027drama\\u0027, \\u0027thriller\\u0027]\"}, {\"id\": 397, \"label\": \"strange days\", \"shape\": \"dot\", \"size\": 10, \"title\": \"[\\u0027action\\u0027, \\u0027crime\\u0027, \\u0027drama\\u0027, \\u0027fantasy\\u0027, \\u0027music\\u0027, \\u0027mystery\\u0027, \\u0027sci-fi\\u0027, \\u0027thriller\\u0027]\"}, {\"id\": 398, \"label\": \"the crow\", \"shape\": \"dot\", \"size\": 10, \"title\": \"[\\u0027action\\u0027, \\u0027crime\\u0027, \\u0027fantasy\\u0027, \\u0027thriller\\u0027]\"}, {\"id\": 400, \"label\": \"runaway bride\", \"shape\": \"dot\", \"size\": 10, \"title\": \"[\\u0027comedy\\u0027, \\u0027romance\\u0027]\"}, {\"id\": 401, \"label\": \"u turn\", \"shape\": \"dot\", \"size\": 10, \"title\": \"[\\u0027crime\\u0027, \\u0027drama\\u0027, \\u0027thriller\\u0027]\"}, {\"id\": 403, \"label\": \"witness\", \"shape\": \"dot\", \"size\": 10, \"title\": \"[\\u0027drama\\u0027, \\u0027romance\\u0027, \\u0027thriller\\u0027]\"}, {\"id\": 405, \"label\": \"american pie\", \"shape\": \"dot\", \"size\": 10, \"title\": \"[\\u0027comedy\\u0027, \\u0027romance\\u0027]\"}, {\"id\": 416, \"label\": \"15 minutes\", \"shape\": \"dot\", \"size\": 10, \"title\": \"[\\u0027action\\u0027, \\u0027crime\\u0027, \\u0027drama\\u0027, \\u0027thriller\\u0027]\"}, {\"id\": 417, \"label\": \"the verdict\", \"shape\": \"dot\", \"size\": 10, \"title\": \"[\\u0027drama\\u0027]\"}, {\"id\": 421, \"label\": \"buffy the vampire slayer\", \"shape\": \"dot\", \"size\": 10, \"title\": \"[\\u0027horror\\u0027, \\u0027comedy\\u0027, \\u0027action\\u0027]\"}, {\"id\": 434, \"label\": \"grosse pointe blank\", \"shape\": \"dot\", \"size\": 10, \"title\": \"[\\u0027comedy\\u0027, \\u0027crime\\u0027, \\u0027romance\\u0027, \\u0027thriller\\u0027]\"}, {\"id\": 438, \"label\": \"punch-drunk love\", \"shape\": \"dot\", \"size\": 10, \"title\": \"[\\u0027comedy\\u0027, \\u0027drama\\u0027, \\u0027romance\\u0027]\"}, {\"id\": 444, \"label\": \"assassins\", \"shape\": \"dot\", \"size\": 10, \"title\": \"[\\u0027action\\u0027, \\u0027thriller\\u0027, \\u0027crime\\u0027]\"}, {\"id\": 445, \"label\": \"sleepless in seattle\", \"shape\": \"dot\", \"size\": 10, \"title\": \"[\\u0027comedy\\u0027, \\u0027romance\\u0027, \\u0027drama\\u0027]\"}, {\"id\": 446, \"label\": \"u-turn\", \"shape\": \"dot\", \"size\": 10, \"title\": \"[\\u0027drama\\u0027]\"}, {\"id\": 447, \"label\": \"edtv\", \"shape\": \"dot\", \"size\": 10, \"title\": \"[\\u0027comedy\\u0027]\"}, {\"id\": 449, \"label\": \"jason goes to hell: the final friday\", \"shape\": \"dot\", \"size\": 10, \"title\": \"[\\u0027horror\\u0027, \\u0027thriller\\u0027]\"}, {\"id\": 450, \"label\": \"total recall\", \"shape\": \"dot\", \"size\": 10, \"title\": \"[\\u0027action\\u0027, \\u0027adventure\\u0027, \\u0027sci-fi\\u0027, \\u0027thriller\\u0027]\"}, {\"id\": 457, \"label\": \"slither\", \"shape\": \"dot\", \"size\": 10, \"title\": \"[\\u0027comedy\\u0027, \\u0027horror\\u0027, \\u0027sci-fi\\u0027]\"}, {\"id\": 459, \"label\": \"fletch\", \"shape\": \"dot\", \"size\": 10, \"title\": \"[\\u0027comedy\\u0027, \\u0027crime\\u0027, \\u0027mystery\\u0027]\"}, {\"id\": 462, \"label\": \"minority report\", \"shape\": \"dot\", \"size\": 10, \"title\": \"[\\u0027action\\u0027, \\u0027crime\\u0027, \\u0027mystery\\u0027, \\u0027sci-fi\\u0027, \\u0027thriller\\u0027, \\u0027action\\u0027, \\u0027animation\\u0027, \\u0027drama\\u0027, \\u0027mystery\\u0027, \\u0027sci-fi\\u0027, \\u0027thriller\\u0027]\"}, {\"id\": 465, \"label\": \"frances\", \"shape\": \"dot\", \"size\": 10, \"title\": \"[\\u0027biography\\u0027, \\u0027drama\\u0027]\"}, {\"id\": 489, \"label\": \"life as a house\", \"shape\": \"dot\", \"size\": 10, \"title\": \"[\\u0027drama\\u0027, \\u0027romance\\u0027]\"}, {\"id\": 492, \"label\": \"the salton sea\", \"shape\": \"dot\", \"size\": 10, \"title\": \"[\\u0027crime\\u0027, \\u0027drama\\u0027, \\u0027mystery\\u0027, \\u0027thriller\\u0027]\"}, {\"id\": 498, \"label\": \"playback\", \"shape\": \"dot\", \"size\": 10, \"title\": \"[\\u0027thriller\\u0027]\"}, {\"id\": 501, \"label\": \"wild things\", \"shape\": \"dot\", \"size\": 10, \"title\": \"[\\u0027crime\\u0027, \\u0027mystery\\u0027, \\u0027thriller\\u0027]\"}, {\"id\": 505, \"label\": \"rush hour 2\", \"shape\": \"dot\", \"size\": 10, \"title\": \"[\\u0027action\\u0027, \\u0027comedy\\u0027, \\u0027crime\\u0027, \\u0027thriller\\u0027]\"}, {\"id\": 507, \"label\": \"on the waterfront\", \"shape\": \"dot\", \"size\": 10, \"title\": \"[\\u0027crime\\u0027, \\u0027drama\\u0027, \\u0027romance\\u0027]\"}, {\"id\": 509, \"label\": \"halloween iii: season of the witch\", \"shape\": \"dot\", \"size\": 10, \"title\": \"[\\u0027horror\\u0027, \\u0027mystery\\u0027, \\u0027sci-fi\\u0027]\"}, {\"id\": 510, \"label\": \"i still know what you did last summer\", \"shape\": \"dot\", \"size\": 10, \"title\": \"[\\u0027horror\\u0027, \\u0027mystery\\u0027, \\u0027thriller\\u0027]\"}, {\"id\": 514, \"label\": \"the grifters\", \"shape\": \"dot\", \"size\": 10, \"title\": \"[\\u0027crime\\u0027, \\u0027drama\\u0027, \\u0027thriller\\u0027]\"}, {\"id\": 516, \"label\": \"juno\", \"shape\": \"dot\", \"size\": 10, \"title\": \"[\\u0027comedy\\u0027, \\u0027drama\\u0027]\"}, {\"id\": 520, \"label\": \"sideways\", \"shape\": \"dot\", \"size\": 10, \"title\": \"[\\u0027comedy\\u0027, \\u0027drama\\u0027, \\u0027romance\\u0027]\"}, {\"id\": 522, \"label\": \"fast times at ridgemont high\", \"shape\": \"dot\", \"size\": 10, \"title\": \"[\\u0027comedy\\u0027, \\u0027drama\\u0027, \\u0027romance\\u0027]\"}, {\"id\": 528, \"label\": \"verdict\", \"shape\": \"dot\", \"size\": 10, \"title\": \"[\\u0027drama\\u0027]\"}, {\"id\": 532, \"label\": \"scream 2\", \"shape\": \"dot\", \"size\": 10, \"title\": \"[\\u0027horror\\u0027, \\u0027mystery\\u0027, \\u0027thriller\\u0027]\"}, {\"id\": 536, \"label\": \"jaws 3-d\", \"shape\": \"dot\", \"size\": 10, \"title\": \"[\\u0027thriller\\u0027]\"}, {\"id\": 537, \"label\": \"superman\", \"shape\": \"dot\", \"size\": 10, \"title\": \"[\\u0027action\\u0027, \\u0027family\\u0027, \\u0027sci-fi\\u0027]\"}, {\"id\": 539, \"label\": \"watchmen\", \"shape\": \"dot\", \"size\": 10, \"title\": \"[\\u0027action\\u0027, \\u0027crime\\u0027, \\u0027fantasy\\u0027, \\u0027mystery\\u0027, \\u0027sci-fi\\u0027, \\u0027thriller\\u0027]\"}, {\"id\": 544, \"label\": \"a nightmare on elm street 3: dream warriors\", \"shape\": \"dot\", \"size\": 10, \"title\": \"[\\u0027fantasy\\u0027, \\u0027horror\\u0027, \\u0027thriller\\u0027]\"}, {\"id\": 545, \"label\": \"detroit rock city\", \"shape\": \"dot\", \"size\": 10, \"title\": \"[\\u0027comedy\\u0027, \\u0027music\\u0027]\"}, {\"id\": 552, \"label\": \"a nightmare on elm street: the dream child\", \"shape\": \"dot\", \"size\": 10, \"title\": \"[\\u0027fantasy\\u0027, \\u0027horror\\u0027, \\u0027thriller\\u0027]\"}, {\"id\": 555, \"label\": \"leviathan\", \"shape\": \"dot\", \"size\": 10, \"title\": \"[\\u0027adventure\\u0027, \\u0027horror\\u0027, \\u0027mystery\\u0027, \\u0027sci-fi\\u0027, \\u0027thriller\\u0027]\"}, {\"id\": 556, \"label\": \"le grand bleu\", \"shape\": \"dot\", \"size\": 10, \"title\": \"[\\u0027adventure\\u0027, \\u0027drama\\u0027, \\u0027romance\\u0027]\"}, {\"id\": 567, \"label\": \"the sweet hereafter\", \"shape\": \"dot\", \"size\": 10, \"title\": \"[\\u0027drama\\u0027]\"}, {\"id\": 575, \"label\": \"dark angel\", \"shape\": \"dot\", \"size\": 10, \"title\": \"[\\u0027action\\u0027, \\u0027crime\\u0027, \\u0027drama\\u0027, \\u0027horror\\u0027, \\u0027sci-fi\\u0027, \\u0027thriller\\u0027]\"}, {\"id\": 582, \"label\": \"casino\", \"shape\": \"dot\", \"size\": 10, \"title\": \"[\\u0027biography\\u0027, \\u0027crime\\u0027, \\u0027drama\\u0027]\"}, {\"id\": 583, \"label\": \"the bourne supremacy\", \"shape\": \"dot\", \"size\": 10, \"title\": \"[\\u0027action\\u0027, \\u0027adventure\\u0027, \\u0027mystery\\u0027, \\u0027thriller\\u0027]\"}, {\"id\": 586, \"label\": \"mimic\", \"shape\": \"dot\", \"size\": 10, \"title\": \"[\\u0027drama\\u0027, \\u0027horror\\u0027, \\u0027sci-fi\\u0027]\"}, {\"id\": 592, \"label\": \"storytelling\", \"shape\": \"dot\", \"size\": 10, \"title\": \"[\\u0027comedy\\u0027, \\u0027drama\\u0027]\"}, {\"id\": 596, \"label\": \"true romance\", \"shape\": \"dot\", \"size\": 10, \"title\": \"[\\u0027crime\\u0027, \\u0027romance\\u0027, \\u0027thriller\\u0027]\"}, {\"id\": 597, \"label\": \"rush hour\", \"shape\": \"dot\", \"size\": 10, \"title\": \"[\\u0027action\\u0027, \\u0027comedy\\u0027, \\u0027thriller\\u0027, \\u0027crime\\u0027]\"}, {\"id\": 599, \"label\": \"only you\", \"shape\": \"dot\", \"size\": 10, \"title\": \"[\\u0027comedy\\u0027, \\u0027romance\\u0027]\"}, {\"id\": 604, \"label\": \"my girl 2\", \"shape\": \"dot\", \"size\": 10, \"title\": \"[\\u0027comedy\\u0027, \\u0027drama\\u0027, \\u0027family\\u0027, \\u0027romance\\u0027]\"}, {\"id\": 608, \"label\": \"clerks.\", \"shape\": \"dot\", \"size\": 10, \"title\": \"[\\u0027comedy\\u0027]\"}]);\n        edges = new vis.DataSet([{\"from\": 417, \"to\": 528, \"value\": 9.999369978904724}, {\"from\": 369, \"to\": 374, \"value\": 9.993388056755066}, {\"from\": 401, \"to\": 446, \"value\": 9.975515007972717}, {\"from\": 63, \"to\": 307, \"value\": 9.97096061706543}, {\"from\": 213, \"to\": 397, \"value\": 9.964092373847961}, {\"from\": 287, \"to\": 400, \"value\": 9.963757991790771}, {\"from\": 50, \"to\": 253, \"value\": 9.963141083717346}, {\"from\": 12, \"to\": 532, \"value\": 9.962571859359741}, {\"from\": 52, \"to\": 459, \"value\": 9.962384700775146}, {\"from\": 219, \"to\": 400, \"value\": 9.962378144264221}, {\"from\": 50, \"to\": 153, \"value\": 9.961930513381958}, {\"from\": 12, \"to\": 96, \"value\": 9.961544275283813}, {\"from\": 34, \"to\": 150, \"value\": 9.960694313049316}, {\"from\": 128, \"to\": 459, \"value\": 9.960548281669617}, {\"from\": 384, \"to\": 459, \"value\": 9.96036410331726}, {\"from\": 270, \"to\": 384, \"value\": 9.959939122200012}, {\"from\": 397, \"to\": 401, \"value\": 9.959772229194641}, {\"from\": 181, \"to\": 310, \"value\": 9.959284663200378}, {\"from\": 155, \"to\": 446, \"value\": 9.958943724632263}, {\"from\": 255, \"to\": 306, \"value\": 9.958788752555847}, {\"from\": 3, \"to\": 150, \"value\": 9.95870053768158}, {\"from\": 3, \"to\": 229, \"value\": 9.958374500274658}, {\"from\": 153, \"to\": 258, \"value\": 9.958135485649109}, {\"from\": 492, \"to\": 608, \"value\": 9.957801103591919}, {\"from\": 74, \"to\": 310, \"value\": 9.957587122917175}, {\"from\": 391, \"to\": 492, \"value\": 9.957571625709534}, {\"from\": 352, \"to\": 545, \"value\": 9.957558512687683}, {\"from\": 3, \"to\": 287, \"value\": 9.957515001296997}, {\"from\": 250, \"to\": 350, \"value\": 9.957478046417236}, {\"from\": 280, \"to\": 465, \"value\": 9.957137107849121}, {\"from\": 38, \"to\": 58, \"value\": 9.957026839256287}, {\"from\": 83, \"to\": 176, \"value\": 9.9569171667099}, {\"from\": 52, \"to\": 371, \"value\": 9.956875443458557}, {\"from\": 170, \"to\": 445, \"value\": 9.95676040649414}, {\"from\": 348, \"to\": 514, \"value\": 9.956752061843872}, {\"from\": 273, \"to\": 596, \"value\": 9.956691861152649}, {\"from\": 153, \"to\": 575, \"value\": 9.956682920455933}, {\"from\": 155, \"to\": 401, \"value\": 9.956641793251038}, {\"from\": 96, \"to\": 368, \"value\": 9.956411719322205}, {\"from\": 150, \"to\": 287, \"value\": 9.956334233283997}, {\"from\": 143, \"to\": 284, \"value\": 9.956164956092834}, {\"from\": 229, \"to\": 287, \"value\": 9.9561607837677}, {\"from\": 12, \"to\": 41, \"value\": 9.95609700679779}, {\"from\": 567, \"to\": 599, \"value\": 9.955756664276123}, {\"from\": 150, \"to\": 229, \"value\": 9.95565414428711}, {\"from\": 123, \"to\": 522, \"value\": 9.955641031265259}, {\"from\": 52, \"to\": 416, \"value\": 9.955627918243408}, {\"from\": 306, \"to\": 539, \"value\": 9.955625534057617}, {\"from\": 4, \"to\": 24, \"value\": 9.955593347549438}, {\"from\": 15, \"to\": 248, \"value\": 9.955525398254395}, {\"from\": 225, \"to\": 416, \"value\": 9.95521068572998}, {\"from\": 0, \"to\": 537, \"value\": 9.955110549926758}, {\"from\": 317, \"to\": 400, \"value\": 9.95496392250061}, {\"from\": 130, \"to\": 492, \"value\": 9.954742193222046}, {\"from\": 403, \"to\": 462, \"value\": 9.954673647880554}, {\"from\": 155, \"to\": 273, \"value\": 9.954643249511719}, {\"from\": 81, \"to\": 176, \"value\": 9.954591989517212}, {\"from\": 219, \"to\": 447, \"value\": 9.954555630683899}, {\"from\": 152, \"to\": 421, \"value\": 9.954060316085815}, {\"from\": 58, \"to\": 287, \"value\": 9.9540513753891}, {\"from\": 50, \"to\": 155, \"value\": 9.953964352607727}, {\"from\": 366, \"to\": 421, \"value\": 9.953916668891907}, {\"from\": 352, \"to\": 516, \"value\": 9.953786134719849}, {\"from\": 384, \"to\": 567, \"value\": 9.953775405883789}, {\"from\": 96, \"to\": 510, \"value\": 9.953728318214417}, {\"from\": 258, \"to\": 608, \"value\": 9.953665733337402}, {\"from\": 43, \"to\": 397, \"value\": 9.953445196151733}, {\"from\": 12, \"to\": 344, \"value\": 9.953411221504211}, {\"from\": 405, \"to\": 592, \"value\": 9.953404664993286}, {\"from\": 128, \"to\": 514, \"value\": 9.9532949924469}, {\"from\": 4, \"to\": 391, \"value\": 9.953280687332153}, {\"from\": 38, \"to\": 170, \"value\": 9.953221678733826}, {\"from\": 151, \"to\": 244, \"value\": 9.953170418739319}, {\"from\": 219, \"to\": 287, \"value\": 9.953139424324036}, {\"from\": 265, \"to\": 516, \"value\": 9.953030347824097}, {\"from\": 96, \"to\": 449, \"value\": 9.952924847602844}, {\"from\": 170, \"to\": 190, \"value\": 9.9528968334198}, {\"from\": 371, \"to\": 459, \"value\": 9.952694177627563}, {\"from\": 223, \"to\": 462, \"value\": 9.95268166065216}, {\"from\": 150, \"to\": 400, \"value\": 9.95258629322052}, {\"from\": 258, \"to\": 575, \"value\": 9.952519536018372}, {\"from\": 400, \"to\": 434, \"value\": 9.952501058578491}, {\"from\": 287, \"to\": 317, \"value\": 9.952426552772522}, {\"from\": 130, \"to\": 398, \"value\": 9.952194094657898}, {\"from\": 4, \"to\": 505, \"value\": 9.952084422111511}, {\"from\": 391, \"to\": 575, \"value\": 9.952058792114258}, {\"from\": 150, \"to\": 604, \"value\": 9.952028393745422}, {\"from\": 278, \"to\": 555, \"value\": 9.951978921890259}, {\"from\": 129, \"to\": 181, \"value\": 9.9519681930542}, {\"from\": 131, \"to\": 444, \"value\": 9.951887130737305}, {\"from\": 246, \"to\": 416, \"value\": 9.951883554458618}, {\"from\": 43, \"to\": 213, \"value\": 9.95187520980835}, {\"from\": 138, \"to\": 391, \"value\": 9.951847791671753}, {\"from\": 462, \"to\": 583, \"value\": 9.951798915863037}, {\"from\": 38, \"to\": 317, \"value\": 9.951767325401306}, {\"from\": 401, \"to\": 507, \"value\": 9.951735138893127}, {\"from\": 156, \"to\": 241, \"value\": 9.951657056808472}, {\"from\": 34, \"to\": 400, \"value\": 9.951638579368591}, {\"from\": 41, \"to\": 379, \"value\": 9.95156705379486}, {\"from\": 167, \"to\": 522, \"value\": 9.9515300989151}, {\"from\": 30, \"to\": 262, \"value\": 9.951528310775757}, {\"from\": 371, \"to\": 567, \"value\": 9.951490759849548}, {\"from\": 285, \"to\": 296, \"value\": 9.951319694519043}, {\"from\": 154, \"to\": 489, \"value\": 9.951318502426147}, {\"from\": 285, \"to\": 333, \"value\": 9.951311349868774}, {\"from\": 447, \"to\": 592, \"value\": 9.951284527778625}, {\"from\": 50, \"to\": 258, \"value\": 9.95122492313385}, {\"from\": 270, \"to\": 353, \"value\": 9.95121955871582}, {\"from\": 459, \"to\": 498, \"value\": 9.95121955871582}, {\"from\": 34, \"to\": 180, \"value\": 9.951159954071045}, {\"from\": 229, \"to\": 400, \"value\": 9.951081275939941}, {\"from\": 400, \"to\": 447, \"value\": 9.950997829437256}, {\"from\": 52, \"to\": 128, \"value\": 9.950898289680481}, {\"from\": 138, \"to\": 462, \"value\": 9.950894713401794}, {\"from\": 225, \"to\": 450, \"value\": 9.950866103172302}, {\"from\": 261, \"to\": 405, \"value\": 9.950841069221497}, {\"from\": 138, \"to\": 444, \"value\": 9.950825572013855}, {\"from\": 258, \"to\": 492, \"value\": 9.950810074806213}, {\"from\": 532, \"to\": 544, \"value\": 9.95076835155487}, {\"from\": 83, \"to\": 492, \"value\": 9.9507337808609}, {\"from\": 178, \"to\": 401, \"value\": 9.950684905052185}, {\"from\": 12, \"to\": 371, \"value\": 9.950611591339111}, {\"from\": 48, \"to\": 202, \"value\": 9.950470924377441}, {\"from\": 353, \"to\": 400, \"value\": 9.950418472290039}, {\"from\": 96, \"to\": 167, \"value\": 9.950399398803711}, {\"from\": 38, \"to\": 400, \"value\": 9.950300455093384}, {\"from\": 58, \"to\": 400, \"value\": 9.950282573699951}, {\"from\": 152, \"to\": 522, \"value\": 9.950130581855774}, {\"from\": 47, \"to\": 507, \"value\": 9.950072765350342}, {\"from\": 155, \"to\": 457, \"value\": 9.950072169303894}, {\"from\": 375, \"to\": 556, \"value\": 9.950016736984253}, {\"from\": 218, \"to\": 288, \"value\": 9.950001239776611}, {\"from\": 356, \"to\": 391, \"value\": 9.949999451637268}, {\"from\": 311, \"to\": 397, \"value\": 9.949941039085388}, {\"from\": 129, \"to\": 354, \"value\": 9.949896931648254}, {\"from\": 96, \"to\": 282, \"value\": 9.94985818862915}, {\"from\": 32, \"to\": 130, \"value\": 9.949851036071777}, {\"from\": 214, \"to\": 350, \"value\": 9.949840903282166}, {\"from\": 52, \"to\": 270, \"value\": 9.949820637702942}, {\"from\": 157, \"to\": 170, \"value\": 9.949784874916077}, {\"from\": 214, \"to\": 283, \"value\": 9.949754476547241}, {\"from\": 41, \"to\": 510, \"value\": 9.949747920036316}, {\"from\": 400, \"to\": 445, \"value\": 9.949742555618286}, {\"from\": 544, \"to\": 552, \"value\": 9.949661493301392}, {\"from\": 137, \"to\": 261, \"value\": 9.949615597724915}, {\"from\": 152, \"to\": 241, \"value\": 9.949581623077393}, {\"from\": 164, \"to\": 509, \"value\": 9.9495530128479}, {\"from\": 155, \"to\": 178, \"value\": 9.949464201927185}, {\"from\": 353, \"to\": 599, \"value\": 9.949420094490051}, {\"from\": 229, \"to\": 599, \"value\": 9.949408173561096}, {\"from\": 196, \"to\": 282, \"value\": 9.949252009391785}, {\"from\": 194, \"to\": 582, \"value\": 9.949219822883606}, {\"from\": 520, \"to\": 522, \"value\": 9.94920790195465}, {\"from\": 374, \"to\": 522, \"value\": 9.949203133583069}, {\"from\": 41, \"to\": 450, \"value\": 9.949172735214233}, {\"from\": 176, \"to\": 450, \"value\": 9.949156045913696}, {\"from\": 203, \"to\": 353, \"value\": 9.949155449867249}, {\"from\": 83, \"to\": 225, \"value\": 9.949124455451965}, {\"from\": 224, \"to\": 438, \"value\": 9.94908094406128}, {\"from\": 501, \"to\": 575, \"value\": 9.94904637336731}, {\"from\": 161, \"to\": 520, \"value\": 9.949002265930176}, {\"from\": 382, \"to\": 536, \"value\": 9.948972463607788}, {\"from\": 255, \"to\": 539, \"value\": 9.948962330818176}, {\"from\": 170, \"to\": 400, \"value\": 9.948959946632385}, {\"from\": 52, \"to\": 246, \"value\": 9.948952794075012}, {\"from\": 190, \"to\": 567, \"value\": 9.948944449424744}, {\"from\": 258, \"to\": 597, \"value\": 9.94893193244934}, {\"from\": 253, \"to\": 397, \"value\": 9.948930740356445}, {\"from\": 34, \"to\": 170, \"value\": 9.948828220367432}, {\"from\": 123, \"to\": 128, \"value\": 9.94880199432373}, {\"from\": 445, \"to\": 599, \"value\": 9.948768019676208}, {\"from\": 156, \"to\": 218, \"value\": 9.948754906654358}, {\"from\": 48, \"to\": 416, \"value\": 9.948749542236328}, {\"from\": 50, \"to\": 401, \"value\": 9.948731660842896}, {\"from\": 153, \"to\": 253, \"value\": 9.948694109916687}, {\"from\": 189, \"to\": 216, \"value\": 9.948686957359314}, {\"from\": 405, \"to\": 447, \"value\": 9.948658347129822}, {\"from\": 41, \"to\": 223, \"value\": 9.948625564575195}, {\"from\": 278, \"to\": 586, \"value\": 9.948559999465942}, {\"from\": 130, \"to\": 152, \"value\": 9.948533773422241}, {\"from\": 4, \"to\": 416, \"value\": 9.94849443435669}, {\"from\": 96, \"to\": 164, \"value\": 9.948466420173645}, {\"from\": 11, \"to\": 386, \"value\": 9.948461651802063}, {\"from\": 163, \"to\": 200, \"value\": 9.948439002037048}, {\"from\": 152, \"to\": 366, \"value\": 9.948419332504272}, {\"from\": 143, \"to\": 150, \"value\": 9.948395490646362}, {\"from\": 12, \"to\": 510, \"value\": 9.948393106460571}, {\"from\": 225, \"to\": 492, \"value\": 9.948382377624512}, {\"from\": 96, \"to\": 224, \"value\": 9.948374032974243}, {\"from\": 138, \"to\": 599, \"value\": 9.948357343673706}, {\"from\": 241, \"to\": 522, \"value\": 9.948342442512512}, {\"from\": 156, \"to\": 514, \"value\": 9.948315024375916}]);\n\n        // adding nodes and edges to the graph\n        data = {nodes: nodes, edges: edges};\n\n        var options = {\n    \"configure\": {\n        \"enabled\": false\n    },\n    \"edges\": {\n        \"color\": {\n            \"inherit\": true\n        },\n        \"smooth\": {\n            \"enabled\": false,\n            \"type\": \"continuous\"\n        }\n    },\n    \"interaction\": {\n        \"dragNodes\": true,\n        \"hideEdgesOnDrag\": false,\n        \"hideNodesOnDrag\": false\n    },\n    \"physics\": {\n        \"enabled\": true,\n        \"stabilization\": {\n            \"enabled\": true,\n            \"fit\": true,\n            \"iterations\": 1000,\n            \"onlyDynamicEdges\": false,\n            \"updateInterval\": 50\n        }\n    }\n};\n        \n        \n\n        \n\n        network = new vis.Network(container, data, options);\n\t \n        \n\n\n        \n        network.on(\"stabilizationProgress\", function(params) {\n      \t\tdocument.getElementById('loadingBar').removeAttribute(\"style\");\n\t        var maxWidth = 496;\n\t        var minWidth = 20;\n\t        var widthFactor = params.iterations/params.total;\n\t        var width = Math.max(minWidth,maxWidth * widthFactor);\n\n\t        document.getElementById('bar').style.width = width + 'px';\n\t        document.getElementById('text').innerHTML = Math.round(widthFactor*100) + '%';\n\t    });\n\t    network.once(\"stabilizationIterationsDone\", function() {\n\t        document.getElementById('text').innerHTML = '100%';\n\t        document.getElementById('bar').style.width = '496px';\n\t        document.getElementById('loadingBar').style.opacity = 0;\n\t        // really clean the dom element\n\t        setTimeout(function () {document.getElementById('loadingBar').style.display = 'none';}, 500);\n\t    });\n        \n\n        return network;\n\n    }\n\n    drawGraph();\n\n</script>\n</body>\n</html>"
     },
     "metadata": {},
     "output_type": "display_data"
    }
   ],
   "source": [
    "movies_embeddings = []\n",
    "for movie_id, cluster_data in clusters_embeddings.items():\n",
    "    movie_embedding = torch.mean(cluster_data['cluster_embeddings'], dim=0)\n",
    "    movies_embeddings.append((\n",
    "        movie_embedding,\n",
    "        movie_id\n",
    "    ))\n",
    "\n",
    "similar_movie_pairs = get_similar_dialog_pairs(movies_embeddings)\n",
    "similar_movie_pairs = similar_movie_pairs[: len(movie_embedding) // 4]\n",
    "\n",
    "\n",
    "def get_movies_network(movies_tuples, similar_pairs):\n",
    "    similarity_network = Network(width=\"1080\", notebook=True)\n",
    "\n",
    "    connected_nodes = set()\n",
    "    for node1, node2, _ in similar_pairs:\n",
    "        connected_nodes.add(node1)\n",
    "        connected_nodes.add(node2)\n",
    "\n",
    "    for i, (_, movie_id) in enumerate(movies_tuples):\n",
    "        if i in connected_nodes:\n",
    "            genres = str(movies[movie_id].genres)\n",
    "            title = movies[movie_id].title\n",
    "            similarity_network.add_node(i, label=title, title=genres, size=10)\n",
    "\n",
    "    for node1, node2, similarity in similar_pairs:\n",
    "        width = (similarity) * 10\n",
    "        similarity_network.add_edge(node1, node2, value=width)\n",
    "\n",
    "    return similarity_network\n",
    "\n",
    "movies_network = get_movies_network(movies_embeddings, similar_movie_pairs)\n",
    "movies_network.show('network.html')\n",
    "display(HTML('network.html'))"
   ]
  },
  {
   "cell_type": "markdown",
   "metadata": {
    "pycharm": {
     "name": "#%% md\n"
    }
   },
   "source": [
    "Okay, so we mapped all the movies into this map.\n",
    "Hovering on the node wil reveal the genre of the movie.\n",
    "\n",
    "Do we see any pattern?\n",
    "\n",
    "- small clusters of connected nodes are usually of the same genre.\n",
    "- connected islands usually contain common genre.\n",
    "- movie sequels are together\n",
    "\n",
    "All of this is achieved only with a pretrained model.\n",
    "\n",
    "We can add another dimension to this where we try to find\n",
    "which dialogs contribute to each genre within a movie.\n",
    "\n",
    "In other words, if a movie is both \"romance\" and \"horror\",\n",
    "one can try to find which dialogs contribute to \"romance\" and which contribute to \"horror\"\n",
    "\n",
    "We can try doing this by doing a similar similarity network and then extracting common genre from\n",
    "two connected nodes."
   ]
  },
  {
   "cell_type": "markdown",
   "metadata": {
    "pycharm": {
     "name": "#%% md\n"
    }
   },
   "source": [
    "## Bag of words approach.\n",
    "\n",
    "A document is a collection of words in a document.\n",
    "\n",
    "For each document, what are the most used words? (after removing the stopwords)\n",
    "\n",
    "Intuitive rationale with genres:\n",
    "\n",
    "- [Within one genre] a genre-defining word will likely have high frequency\n",
    "in a movie and among all movies of the same genre.\n",
    "\n",
    "- [Among genres] a genre-defining word will likely have high frequency in\n",
    "movies within the genre and low frequency among movies of other genres.\n",
    "\n",
    "This can be obtained by finding the tf-idf value for each word in the corpus.\n",
    "When a word is repeated often in a document (tf) and does not repeat as often\n",
    "across documents (idf), then the word is important within that document.\n",
    "This is loosely how search engines work.\n",
    "\n",
    "If frequency of a word is low among movies of the same genre, then it is likely not genre-defining.\n",
    "\n",
    "- Here if we consider document as a conversation,\n",
    "then we will get significant words within a conversation.\n",
    "\n",
    "- If we consider document as a movie,\n",
    "then we will get significant words within a movie.\n",
    "\n",
    "- If we consider document as all the movies in a genre,\n",
    "then we will get significant words within a genre.\n",
    "\n",
    "---"
   ]
  },
  {
   "cell_type": "code",
   "execution_count": 243,
   "outputs": [
    {
     "data": {
      "text/plain": "['sam', 'friends', 'cars', 'alex', '10', 'sam', 'hates']"
     },
     "execution_count": 243,
     "metadata": {},
     "output_type": "execute_result"
    }
   ],
   "source": [
    "spacy_nlp = spacy.load('en_core_web_sm', disable=['tok2vec', 'parser', 'ner'])\n",
    "\n",
    "\n",
    "def extract_words(text):\n",
    "    # Without this, there will a ' ' (space) word\n",
    "    text = re.sub(r\"\\s+\", \" \", text)\n",
    "    doc = spacy_nlp(text)\n",
    "    # Words without stopwords\n",
    "    words = [\n",
    "        token.lemma_\n",
    "        for token in doc\n",
    "        if not token.is_stop\n",
    "        and not token.is_punct\n",
    "        # and token.ent_type_ not in [\"PERSON\"]\n",
    "    ]\n",
    "\n",
    "    return words\n",
    "\n",
    "\n",
    "extract_words('Sam\\'s friends have many cars. Alex has 10. Sam hates it')"
   ],
   "metadata": {
    "collapsed": false,
    "pycharm": {
     "name": "#%%\n"
    }
   }
  },
  {
   "cell_type": "code",
   "execution_count": 298,
   "outputs": [],
   "source": [
    "def _get_word_counts_for_doc_and_mini_doc(bags_of_words) -> List[Dict[str, Dict[str, int]]]:\n",
    "    \"\"\"\n",
    "    refer caller for bags_of_words\n",
    "    \"\"\"\n",
    "    num_documents = len(bags_of_words)\n",
    "    word_count_documents = [{} for _ in range(num_documents)]\n",
    "\n",
    "    for d in range(num_documents):\n",
    "        word_count_mini_doc = word_count_documents[d]\n",
    "\n",
    "        for mini_doc in bags_of_words[d]:\n",
    "            word_counts = Counter(mini_doc)\n",
    "\n",
    "            for word, count in word_counts.items():\n",
    "                doc_word_count = word_count_mini_doc.get(word, {'mini_doc_count': 0, 'doc_count': 0})\n",
    "                doc_word_count['mini_doc_count'] += 1\n",
    "                doc_word_count['doc_count'] += count\n",
    "                word_count_documents[d][word] = doc_word_count\n",
    "\n",
    "    return word_count_documents\n",
    "\n",
    "\n",
    "def _filter_words(word_count_documents, min_tf, min_df, min_mini_df):\n",
    "    # Remove words that are too infrequent.\n",
    "\n",
    "    for i, words_count in enumerate(word_count_documents):\n",
    "        words_to_remove = []\n",
    "        for word, word_count in words_count.items():\n",
    "            word_frequency = word_count['doc_count']  # / word_count['mini_doc_count']\n",
    "            mini_doc_frequency = word_count['mini_doc_count']\n",
    "            # If float, then consider it as percentage and not absolute count.\n",
    "            if type(min_mini_df) is float:\n",
    "                mini_doc_frequency /= len(word_count_documents)\n",
    "            if word_frequency < min_tf or mini_doc_frequency < min_mini_df:\n",
    "                words_to_remove.append(word)\n",
    "                # print(f'{word=}, {word_count=}')\n",
    "        for word in words_to_remove:\n",
    "            del words_count[word]\n",
    "\n",
    "    # Remove if word does not appear for min_df documents.\n",
    "    total_word_counts = [word for doc_counts in word_count_documents for word in doc_counts]\n",
    "    total_word_counts = Counter(total_word_counts)\n",
    "    words_to_remove = [word for word in total_word_counts if total_word_counts[word] < min_df]\n",
    "\n",
    "    for i, words_count in enumerate(word_count_documents):\n",
    "        for word in words_to_remove:\n",
    "            if word in words_count:\n",
    "                del words_count[word]\n",
    "\n",
    "    return word_count_documents\n",
    "\n",
    "\n",
    "def get_top_k_indices_from_tfidf(tfidf, k):\n",
    "    # Okay, now that we have tf-idf matrix,\n",
    "    # Let's find the highest ranking top k words for each genre.\n",
    "\n",
    "    top_k = []\n",
    "\n",
    "    for i in range(len(tfidf)):\n",
    "        tfidf_ranks = tfidf[i]\n",
    "        # Experimental line\n",
    "        # tfidf_ranks[tfidf_ranks == 1] = 0\n",
    "        indices = list(range(len(tfidf_ranks)))\n",
    "\n",
    "        zipped = zip(tfidf_ranks, indices)\n",
    "        pairs = heapq.nlargest(k, zipped)\n",
    "\n",
    "        top_k.append(pairs)\n",
    "\n",
    "    return top_k\n",
    "\n",
    "\n",
    "def _build_frequency_matrix(bags_of_words, word_counts, all_words):\n",
    "    frequency_matrix = np.zeros((len(bags_of_words), len(all_words)), dtype=int)\n",
    "\n",
    "    for i in range(len(bags_of_words)):\n",
    "        for j, word in enumerate(all_words):\n",
    "            if word in word_counts[i]:\n",
    "                frequency = word_counts[i][word]\n",
    "                frequency = frequency['doc_count']  # / frequency['mini_doc_count']\n",
    "                frequency_matrix[i][j] = frequency\n",
    "\n",
    "    return frequency_matrix\n",
    "\n",
    "\n",
    "def custom_tf_idf(bags_of_words: List[List[List[str]]], min_tf=1, min_df=1, min_mini_df=1, top_k=10):\n",
    "    \"\"\"\n",
    "    bags_of_words is a list of documents.\n",
    "    a document is a list of mini_documents.\n",
    "    a mini_document is a list of word tokens.\n",
    "\n",
    "    min_tf is the minimum term frequency in a document.\n",
    "\n",
    "    min_df is the minimum # of documents a word should repeat.\n",
    "\n",
    "    min_mini_df is the minimum # of mini-documents a word should repeat.\n",
    "    \"\"\"\n",
    "\n",
    "    # Finds frequency of words across documents and mini-documents\n",
    "    word_counts = _get_word_counts_for_doc_and_mini_doc(bags_of_words)\n",
    "\n",
    "    # Filter infrequent words that are likely not useful.\n",
    "    word_counts = _filter_words(word_counts, min_tf, min_df, min_mini_df)\n",
    "\n",
    "    all_words = list(set([word for doc_counts in word_counts for word in doc_counts]))\n",
    "\n",
    "    # A frequency matrix where columns are words, rows are documents.\n",
    "    frequency_matrix = _build_frequency_matrix(bags_of_words, word_counts, all_words)\n",
    "\n",
    "    # Find simple tf-idf\n",
    "    inter_doc_word_counts = frequency_matrix.sum(0)\n",
    "    tfidf = frequency_matrix / inter_doc_word_counts\n",
    "\n",
    "    # Get k highest tf-idf words for each document.\n",
    "    top_k: List[List[Tuple[float, int]]] = get_top_k_indices_from_tfidf(tfidf, k=top_k)\n",
    "\n",
    "    # Let's pack everything together\n",
    "    top_k_frequency_information: List[List[Tuple[float, str, Dict[str, int]]]] = []\n",
    "    for d, top_k_in_doc in enumerate(top_k):\n",
    "        word_count_info = []\n",
    "        for tfidf_score, index in top_k_in_doc:\n",
    "            word = all_words[index]\n",
    "            if word in word_counts[d]:\n",
    "                frequency_info = word_counts[d][word]\n",
    "                frequency_info['all_doc_count'] = inter_doc_word_counts[index]\n",
    "                word_count_info.append((\n",
    "                    tfidf_score,\n",
    "                    word,\n",
    "                    frequency_info,\n",
    "                ))\n",
    "        top_k_frequency_information.append(word_count_info)\n",
    "\n",
    "    return top_k_frequency_information"
   ],
   "metadata": {
    "collapsed": false,
    "pycharm": {
     "name": "#%%\n"
    }
   }
  },
  {
   "cell_type": "markdown",
   "source": [
    "### Among conversations:"
   ],
   "metadata": {
    "collapsed": false,
    "pycharm": {
     "name": "#%% md\n"
    }
   }
  },
  {
   "cell_type": "code",
   "execution_count": 221,
   "outputs": [
    {
     "data": {
      "text/plain": "[[['hello'], ['want']],\n [['suppose', 'anybody', 'wants', 'money', 'money', 'money'],\n  ['listen', 'told', 'interested', 'deal'],\n  ['want', 'know']]]"
     },
     "execution_count": 221,
     "metadata": {},
     "output_type": "execute_result"
    }
   ],
   "source": [
    "bags_of_words_conversation = []\n",
    "\n",
    "# Iterate over documents\n",
    "for conversation in random_movie.conversations:\n",
    "    mini_doc_words = []\n",
    "\n",
    "    # Iterate over mini-documents\n",
    "    for dialog in conversation.dialogs:\n",
    "        tokens = extract_words(dialog.dialog)\n",
    "        mini_doc_words.append(tokens)\n",
    "\n",
    "    bags_of_words_conversation.append(mini_doc_words)\n",
    "\n",
    "bags_of_words_conversation[:2]"
   ],
   "metadata": {
    "collapsed": false,
    "pycharm": {
     "name": "#%%\n"
    }
   }
  },
  {
   "cell_type": "code",
   "execution_count": 222,
   "outputs": [],
   "source": [
    "topk = custom_tf_idf(bags_of_words_conversation, top_k=5)"
   ],
   "metadata": {
    "collapsed": false,
    "pycharm": {
     "name": "#%%\n"
    }
   }
  },
  {
   "cell_type": "code",
   "execution_count": 223,
   "outputs": [
    {
     "name": "stdout",
     "output_type": "stream",
     "text": [
      "-------- Scores ---------\n",
      "[(0.2, 'hello', {'mini_doc_count': 1, 'doc_count': 1, 'all_doc_count': 5}), (0.043478260869565216, 'want', {'mini_doc_count': 1, 'doc_count': 1, 'all_doc_count': 23})]\n",
      "[(0.5, 'wants', {'mini_doc_count': 1, 'doc_count': 1, 'all_doc_count': 2}), (0.3333333333333333, 'anybody', {'mini_doc_count': 1, 'doc_count': 1, 'all_doc_count': 3}), (0.25, 'suppose', {'mini_doc_count': 1, 'doc_count': 1, 'all_doc_count': 4}), (0.2, 'money', {'mini_doc_count': 1, 'doc_count': 3, 'all_doc_count': 15}), (0.2, 'told', {'mini_doc_count': 1, 'doc_count': 1, 'all_doc_count': 5})]\n"
     ]
    }
   ],
   "source": [
    "print(\"-------- Scores ---------\")\n",
    "for x in topk[:2]:\n",
    "    print(x)"
   ],
   "metadata": {
    "collapsed": false,
    "pycharm": {
     "name": "#%%\n"
    }
   }
  },
  {
   "cell_type": "code",
   "execution_count": 224,
   "outputs": [
    {
     "name": "stdout",
     "output_type": "stream",
     "text": [
      "-------- convo - words ----------\n",
      "hello, want\n",
      "wants, anybody, suppose, money, told\n",
      "broke, credit, crowd, greatest, flat\n",
      "mortgages, turning, perfectly, investment, widows\n",
      "foreclose, sure, pay, sure, wo\n",
      "detectives, knocked, stairs, tough, kidding\n",
      "manville, payrolls, thousand, week, yeah\n",
      "favor, bucks, quit, yeah, let\n",
      "break, level, saturday, finds, baby\n",
      "nerts, depression, pal, kick, hear\n",
      "stroll, park, baby, took, think\n",
      "mistake, checked, date, fourteen, remember\n",
      "squawks, setting, troubles, annoy, wise\n",
      "delay, waiting, comes, room, board\n",
      "paper, tolerate, institution, unsecured, fools\n",
      "schultz, doubtful, trust, agree, loans\n",
      "idiotic, loans, depositors, easy, protecting\n",
      "hearing, gives, wants, control, shut\n",
      "ball, ahead, valuable, anything, found\n",
      "pure, policy, losses, wrong, luck\n",
      "country, pull, idea[5, words, finest\n",
      "community, emergency, fathers, mothers, seen\n",
      "wishes, insists, offer, consider, notice\n",
      "discuss, room, board, talk, want\n",
      "willing, fortunes, worked, alive, jeopardize\n",
      "president, throw, rubbish, wrecked, pleaded\n",
      "liquidate, month, garage, bill, insist\n",
      "talk, bank, like, want, right\n",
      "collateral, demonstration, pawnbrokers, minutes, world\n",
      "asking, hope, questions, simple, inspector\n",
      "essential, necessary, assume, lady, prove\n",
      "case'll, humor, news, settled, sings\n",
      "shoot, gun, inspector, stand, right\n",
      "shoot, fool, inspector, stand, worse\n",
      "finlay, keys, went, took, yesterday\n",
      "downstairs, die, claims, daze, wandered\n",
      "nightmare, thief, gambling, owed, heaven\n",
      "saying, mentioned, attention, drink, apartment\n",
      "begged, blame, fault, didn't, honest\n",
      "funeral, welchers, completely, comin, head\n",
      ", dough, gamble, stone, beat\n",
      "suggesting, heavens, i, man, good\n",
      "ta, rest, mean, fix, things\n",
      "but, involved, responsible, buddy, asked\n",
      "a, needed, hours, business, wo\n",
      "trembling, celebrated, awful, suffering, bounder\n",
      "running, riot, start, slightest, curious\n",
      "concerned, thrown, blarney, bit, class\n",
      "famously, getting, tonight, yes, come\n",
      "convinced, highly, congratulations, order, recommend\n"
     ]
    }
   ],
   "source": [
    "print('-------- convo - words ----------')\n",
    "for scores in topk[:50]:\n",
    "    print(', '.join(s[1] for s in scores))"
   ],
   "metadata": {
    "collapsed": false,
    "pycharm": {
     "name": "#%%\n"
    }
   }
  },
  {
   "cell_type": "markdown",
   "source": [
    "This is not that great within conversations.\n",
    "Ever-so-often we get an interesting nword, but most of the words are not \"topic-defining\"\n",
    "\n",
    "## Among movies:\n",
    "\n",
    "- document = movie\n",
    "- mini-document = conversation"
   ],
   "metadata": {
    "collapsed": false,
    "pycharm": {
     "name": "#%% md\n"
    }
   }
  },
  {
   "cell_type": "code",
   "execution_count": 173,
   "outputs": [
    {
     "name": "stderr",
     "output_type": "stream",
     "text": [
      "100%|██████████| 617/617 [15:00<00:00,  1.46s/it]\n"
     ]
    }
   ],
   "source": [
    "bags_of_words_movie = []\n",
    "\n",
    "# Iterate over documents\n",
    "for _, movie in tqdm(movies.items()):\n",
    "    mini_doc_words = []\n",
    "\n",
    "    # iterate over mini-documents\n",
    "    for conversation in movie.conversations:\n",
    "        conversation = '. '.join(d.dialog for d in conversation.dialogs)\n",
    "        tokens = extract_words(conversation)\n",
    "        mini_doc_words.append(tokens)\n",
    "\n",
    "    bags_of_words_movie.append(mini_doc_words)"
   ],
   "metadata": {
    "collapsed": false,
    "pycharm": {
     "name": "#%%\n"
    }
   }
  },
  {
   "cell_type": "code",
   "execution_count": 174,
   "outputs": [],
   "source": [
    "topk = custom_tf_idf(\n",
    "    bags_of_words_movie,\n",
    "    top_k=10,\n",
    "    # A word has to appear in minimum of 2 conversations.\n",
    "    min_mini_df=5,\n",
    "    # A word has to appear at least twice in a movie.\n",
    "    min_tf=1,\n",
    "    # A word has to appear in at least 2 movies.\n",
    "    min_df=1,\n",
    ")"
   ],
   "metadata": {
    "collapsed": false,
    "pycharm": {
     "name": "#%%\n"
    }
   }
  },
  {
   "cell_type": "code",
   "execution_count": 176,
   "outputs": [
    {
     "name": "stdout",
     "output_type": "stream",
     "text": [
      "-------- movie - words ----------\n",
      "10 things i hate about you:---bianca, s, kat, completely, prom, date, sister, party, hate, forget\n",
      "1492: conquest of paradise:---colon, west, majesty, men, world, god, father, wo, find, man\n",
      "15 minutes:---address, homicide, czech, camera, shower, arrest, crime, caught, scene, partner\n",
      "2001: a space odyssey:---clavius, hal, unit, continued, mission, control, fact, suppose, days, hope\n",
      "48 hrs.:---ganz, cates, indian, bein, bullshit, jail, brothers, asshole, cop, talkin\n",
      "the fifth element:---fhloston, stones, save, evil, perfect, president, father, left, looking, life\n",
      "8mm:---dino, watched, snuff, mask, missing, hired, asking, private, film, machine\n",
      "a nightmare on elm street 4: the dream master:---dream, ta, help, look, let, yeah, think, like, got, know\n",
      "a nightmare on elm street: the dream child:---jacob, baby, killed, night, guy, find, sorry, gon, na, okay\n",
      "the atomic submarine:---pole, cyclops, saucer, reef, skipper, u, >, <, son, father\n",
      "affliction:---rolfe, lots, lillian, snow, lariviere, hunting, twombley, deer, shooting, custody\n",
      "air force one:---fuel, force, air, plane, president, daughter, family, minutes, start, world\n",
      "airplane ii: the sequel:---rok, mercury, commissioner, simon, elaine, unit, ted, computer, check, ship\n",
      "airplane!:---fish, clarence, elaine, land, plane, excuse, dinner, doctor, captain, thank\n",
      "alien nation:---drug, partner, human, case, somebody, shit, real, ask, hell, dead\n",
      "aliens:---hicks, newt, meters, colony, team, inside, second, ship, dead, things\n",
      "amadeus:---composer, papa, herr, stanzi, honour, marvelous, salieri, salzburg, pupils, talent\n",
      "an american werewolf in london:---moon, werewolf, david, nurse, shall, having, death, dr., doctor, police\n",
      "american madness:---helen, worse, o'clock, bank, cash, safe, board, important, hour, apartment\n",
      "american outlaws:---detectives, pinkerton, mimms, web, liberty, missouri, farmers, railroad, gang, cousin\n",
      "american psycho:---dorsia, halberstam, card, dumb, price, lunch, dinner, excuse, late, i'm\n",
      "antitrust:---satellite, milo, 21, coordinates, skywire, 12, software, geek, outpost, dishes\n",
      "austin powers: international man of mystery:---groovy, exposition, smashing, scott, vanessa, frozen, careful, evil, piece, plan\n",
      "the avengers:---trubshaw, august, steed, global, research, weather, ministry, small, mrs., husband\n",
      "bachelor party:---marrying, debbie, bachelor, hookers, cole, marriage, shower, party, women, girls\n",
      "backdraft:---stephen, lt, swayzak, probie, burned, arson, fireman, cosgrove, burn, firemen\n",
      "bad lieutenant:---mets, forgive, g, church, $, bet, game, christ, fucking, tomorrow\n",
      "bamboozled:---negroes, mantan, manray, negro, dunwitty, satire, dis, dela, peerless, dancing\n",
      "barry lyndon:---chevalier, fancy, ladyship, dublin, gentleman, service, uncle, gentlemen, faith, shall\n",
      "basic:---testify, hardy, hated, faggot, kendall, cadets, mueller, interrogation, grenade, pike\n",
      "big fish:---stories, fish, true, story, town, dad, father, kid, mom, trying\n",
      "birthday girl:---bank, says, pretty, understand, course, thank, uh, sorry, okay, yes\n",
      "black snake moan:---laz, gal, rae, chain, chained, what'chu, givin, cuz, sayin, thinkin\n",
      "black rain:---ich, detective, inspector, plane, york, pay, took, deal, ass, new\n",
      "blade runner:---nexus, makes, problem, job, mind, course, long, huh, place, better\n",
      "blast from the past:---cliff, psychic, cards, supplies, adam, baseball, eve, kidding, 'bout, hotel\n",
      "blue velvet:---friday, whatiya, sandy, neighbor, involved, beer, strange, apartment, murder, trouble\n",
      "the boondock saints:---greenly, connor, em, fat, guns, evil, ma, funny, goes, lord\n",
      "bottle rocket:---applejack, inez, dignan, keys, hang, steal, future, jail, ok, second\n",
      "the bourne supremacy:---conklin, berlin, treadstone, files, paris, killed, left, kill, dead, came\n",
      "braveheart:---scotland, m'lord, nobles, england, peace, english, king, fight, lost, lord\n",
      "the butterfly effect:---evan, memories, lately, blackouts, memory, weird, change, dad, movie, mom\n",
      "casablanca:---transit, mademoiselle, cafe, visa, ugarte, ilsa, casablanca, renault, concentration, escape\n",
      "cast away:---raft, package, memphis, fish, water, damn, tomorrow, mom, came, great\n",
      "the cider house rules:---homer, picking, ether, apples, wally, flying, movies, trouble, suppose, cut\n",
      "confidence:---gillette, confidence, vig, suits, deep, customs, pissed, corporate, con, loan\n",
      "croupier:---marion, gamble, dealer, punters, reynolds, croupier, casino, africa, south, mr\n",
      "dark star:---detonation, doolittle, talby, detonate, lock, seconds, bomb, drop, commander, star\n",
      "dark angel:---lydia, girlfriend, straight, seven, hot, eyes, break, actually, probably, 'cause\n",
      "detroit rock city:---bernard, tickets, concert, dudes, disco, kiss, jeremiah, detroit, st., ticket\n",
      "donnie darko:---gretchen, medication, donnie, travel, wake, parents, taking, death, end, school\n",
      "drop dead gorgeous:---pageant, teen, sweetie, amber, becky, loretta, princess, win, american, yah\n",
      "duck soup:---freedonia, firefly, excellency, secretary, send, letter, easy, country, war, president\n",
      "the elephant man:---mothershead, treves, committee, patient, freddie, evening, john, certainly, hospital, meeting\n",
      "erik the viking:---row, asgaard, sven, berserk, resounding, keitel, rainbow, gods, horn, magic\n",
      "eternal sunshine of the spotless mind:---clem, naomi, clementine, erasing, panties, loved, memory, hair, y'know, um\n",
      "even cowgirls get the blues:---countess, thumbs, siwash, clock, cowgirl, sissy, ranch, food, people, years\n",
      "event horizon:---airlock, containment, gravity, dj, horizon, bio, weir, justin, event, oxygen\n",
      "fantastic four:---reed, step, victor, storm, shields, science, machine, control, working, run\n",
      "fast times at ridgemont high:---rat, damone, mon, stacy, glad, class, free, summer, sex, girls\n",
      "fear and loathing in las vegas:---acid, mescaline, telegram, attorney, bastard, message, vegas, straight, goddamn, turn\n",
      "feast:---truck, hold, ass, fine, help, huh, hey, place, shit, way\n",
      "frances:---frances, concerned, studio, contract, mama, sound, hands, sense, lady, sister\n",
      "frankenstein:---knowledge, victor, professor, beautiful, true, live, brother, heard, mind, father\n",
      "friday the 13th:---camp, thanks, god, okay, sure, gon, na, good, got, want\n",
      "from dusk till dawn:---richie, ray, border, el, vampires, mexico, road, fuckin, taking, cool\n",
      "g.i. jane:---training, wick, o'neil, wickwire, combat, jordan, expect, navy, pardon, team\n",
      "godzilla:---eggs, military, creature, animal, story, job, wanted, guy, hell, new\n",
      "galaxy quest:---13, historical, 31, beryllium, omega, ~, episode, jason, core, tommy\n",
      "george washington:---compromise, philadelphia, slave, surely, congress, join, british, virginia, damned, soldiers\n",
      "get shorty:---owes, chili, wondering, -, bo, dry, cleaner, locker, palmer, l.a.\n",
      "ghost ship:---liner, salvage, warrior, affirmative, arctic, passenger, north, turbine, coastguard, dodge\n",
      "ghost world:---grade, pathetic, sale, total, finally, totally, collection, records, weird, dunno\n",
      "the ghost and the darkness:---lions, lion, right-, built, you-, africa, samuel, railroad, bridge, worked\n",
      "ghostbusters ii:---bathtub, slime, city, year, boys, ready, stuff, working, eat, took\n",
      "ghostbusters:---zuul, spengler, grid, facility, definitely, storage, close, coming, happened, great\n",
      "gladiator:---citizens, narcissus, gladiator, tribuus, arena, colosseum, danube, battle, janus, roman\n",
      "the graduate:---berkeley, known, upset, elaine, drive, happening, goodnight, marry, bed, drink\n",
      "grand hotel:---engagement, negotiations, tired, preysing, merger, stenographer, madam, marks, pearls, suzette\n",
      "the grifters:---lilly, bobo, track, salesman, cole, grand, mister, working, hit, live\n",
      "halloween h20: 20 years later:---alright, shit, hell, sorry, okay, going, way, oh, think, right\n",
      "halloween: the curse of michael myers:---halloween, fair, family, baby, house, home, happened, kill, god, things\n",
      "happy birthday, wanda june:---cruel, woodly, breakfast, harold, violin, vacuum, emergency, penelope, quit, touch\n",
      "hardcore:---runaway, ratan, niki, rapids, film, hour, private, free, law, daughter\n",
      "harold and maude:---maude, experience, interesting, eh, lady, wonderful, shall, dear, suppose, took\n",
      "hellbound: hellraiser ii:---hell, oh, know\n",
      "hellboy:---red, c'm, things, need, oh, look, time, come, like, right\n",
      "hellraiser:---o.k., julia, bed, christ, problem, damn, daddy, stay, came, try\n",
      "high fidelity:---idiot, album, difference, collection, liked, record, song, relationship, records, living\n",
      "highlander:---cartwright, conor, some-, macleod, hill, learn, small, church, records, murder\n",
      "his girl friday:---reporters, desk, murderer, fellow, duffy, hanging, hildy, sweeney, wallet, explain\n",
      "hope and glory:---clive, jam, grandpa, grace, war, house, home, love, said, time\n",
      "house of 1000 corpses:---tiny, aw, halloween, crap, road, straight, inside, christ, stupid, um\n",
      "human nature:---oui, puff, nature, gabrielle, nathan, ape, apes, sweet, wonderful, human\n",
      "the hustler:---minnesota, billiards, pocket, poolroom, cue, cent, whaddya, fats, packard, louisville\n",
      "i am legend:---remember, yes, want, know\n",
      "invaders from mars:---hill, school, son, mom, house, new, said, look, yes, let\n",
      "independence day:---pops, signal, air, president, hours, leave, hell, big, mr., sir\n",
      "indiana jones and the last crusade:---diary, marcus, grail, venice, junior, dad, city, lost, doctor, father\n",
      "indiana jones and the temple of doom:---maharajah, sacred, palace, delhi, village, short, shorty, stones, round, rock\n",
      "innerspace:---gruner, pem, chip, al, works, rest, head, i'm, beautiful, crazy\n",
      "the insider:---mississippi, deposition, health, tobacco, confidentiality, wigand, whistle, lowell, 60, agreement\n",
      "intolerable cruelty:---settlement, nup, divorced, clients, rexroth, marylin, pre, divorce, client, marriage\n",
      "it happened one night:---hungry, thumb, seat, silly, wire, fall, westley, swell, takes, bus\n",
      "jfk:---shaw, assassination, mob, intelligence, marine, spy, goddammit, investigation, november, oswald\n",
      "jackie brown:---beaumont, a.t.f., probation, possession, nicolet, shopping, bail, cabo, permission, l.a.p.d.\n",
      "jacob's ladder:---lie, jezzie, demons, jacob, happening, gettin, jake, army, dream, stand\n",
      "jason x:---damnit, 400, shuttle, lab, hull, hockey, blow, sergeant, pull, hurry\n",
      "jaws:---amity, institute, beaches, sharks, shark, beach, closed, fish, summer, boat\n",
      "juno:---adoption, pregnant, huge, definitely, vanessa, weird, wow, band, cool, parents\n",
      "kalifornia:---early, california, 'bout, ai, stop, killed, 'em, ya, fucking, real\n",
      "kids:---telly, nasa, casper, yep, virgin, dick, fucked, yo, sex, times\n",
      "knight moves:---match, kathy, type, chess, games, busy, opening, peter, playing, message\n",
      "krull:---fate, venison, magnificent, slayers, leagues, betray, forest, fortress, colwyn, ergo\n",
      "léon:---moment, ok, true, minutes, son, huh, father, love, yeah, long\n",
      "labor of love:---pacifica, miles, california, walk, store, story, wife, car, getting, wanted\n",
      "leaving las vegas:---sera, drunk, hotel, drink, watch, ok, tonight, room, stay, came\n",
      "legally blonde:---warner, delta, blonde, elle, gamma, donovan, alibi, standing, completely, law\n",
      "legend:---beauty, lad, lili, couer, tis, ogre, armor, oona, spoke, wee\n",
      "life as a house:---tahoe, build, alyssa, garage, nose, shower, summer, months, ring, hate\n",
      "the life of david gale:---goldmouth, wilkins, biscuit, oughta, boom, claude, soft, gimme, map, nigger\n",
      "little nicky:---flask, cassius, devil, metal, adrian, nicky, brothers, sweet, earth, dad\n",
      "logan's run:---sandman, sanctuary, running, face, city, suppose, beautiful, live, try, killed\n",
      "lost highway:---alice, whatiya, doin', goin', called, remember, head, car, ya, night\n",
      "lost horizon:---shangri, porters, shanghai, conway, natives, lovey, foreign, la, valley, brought\n",
      "men in black:---dunno, planet, cause, actually, air, exactly, says, found, guess, job\n",
      "minority report:---image, precogs, female, precrime, temple, minority, justice, wally, happening, murder\n",
      "made:---cleaning, pager, welsh, ruiz, dragon, cardiff, giant, jess, drop, driving\n",
      "malcolm x:---allah, elijah, minister, words, white, nigger, black, women, question, easy\n",
      "man on fire:---hermanidad, bodyguard, dreamer, policemen, pinta, ransom, samuel, mexico, number, late\n",
      "marty:---inna, italian, wadda, onna, lonely, kitchen, theresa, arounna, wantsa, waddaya\n",
      "mash:---action, painless, androscoggin, trapper, outfit, golf, surgeon, tent, duke, short\n",
      "meet john doe:---doe, john, speech, er, letter, yuh, wrote, radio, ann, gee\n",
      "metro:---hostage, negotiator, scottie, save, second, thinking, stay, car, try, job\n",
      "metropolis:---maze, program, access, system, inside, world, remember, course, life, hell\n",
      "mighty morphin power rangers:---release, rangers, seconds, power, way, let, time, got, know\n",
      "mobsters:---maranzano, meyer, masseria, knock, bosses, bastard, boss, friends, ya, city\n",
      "monkeybone:---i></i, monkeybone, stu, nightmare, nightmares, death, land, <, >, u\n",
      "my mother dreams the satan's disciples in new york:---york, mother, new, oh, think, like\n",
      "mr. smith goes to washington:---monuments, appointment, yield, willet, but--, saunders--, ranger, now--, chamber, bill\n",
      "mr. deeds goes to town:---cobb, semple, chairman, pixilated, cinderella, common, distress, estate, swell, opera\n",
      "mumford:---skip, lily, mumford, shrink, approach, insane, therapy, patients, doc, secret\n",
      "the mummy:---according, hamunaptra, o'connell, sand, creature, treasure, desert, book, sister, bring\n",
      "mystery men:---invisible, casanova, superheroes, superhero, evil, city, power, captain, mother, boy\n",
      "napoleon:---troops, treaty, return, terms, napoleon, pleasure, doubt, winter, de, sire\n",
      "next friday:---elroy, rancho, suga, bro, cucamonga, cousin, yo, shut, dog, ass\n",
      "nick of time:---speech, trust, daughter, security, supposed, honey, daddy, girl, kill, help\n",
      "the night of the hunter:---hid, skiff, feller, pearl, river, john, reckon, lord, o, somethin'\n",
      "a nightmare on elm street:---nancy, asleep, tina, nightmares, nightmare, dreams, dream, sleep, crazy, daddy\n",
      "ninotchka:---yakushova, comrades, hat, soviet, count, iranoff, siberia, duchess, d'algout, ninotchka\n",
      "nixon:---secrets, cuban, whittier, communists, hoover, helms, leaks, vietnam, presidency, 2\n",
      "no country for old men:---yessir, wendell, sheriff, goin', somethin', nothin', 'em, ai, room, try\n",
      "nurse betty:---chloe, elden, soap, scalped, del, betty, professional, umm, kansas, calling\n",
      "o brother, where art thou?:---pappy, delmar, treasure, boys, honey, goddamn, point, daddy, days, ai\n",
      "an officer and a gentleman:---pard, lynette, jets, mayo, motel, pregnant, fly, navy, officer, folks\n",
      "panic room:---raoul, safe, junior, open, phone, door, room, kid, house, fuck\n",
      "panther:---huey, panther, cy, sabu, panthers, judge, pigs, black, guns, brothers\n",
      "the patriot:---french, colonel, lord, war, army, men, father, killed, son, thank\n",
      "pet sematary:---buried, pet, cat, ellie, road, church, died, die, says, dead\n",
      "pirates of the caribbean:---pirates, commodore, pearl, royal, curse, pirate, rescue, pistol, island, crew\n",
      "plastic man:---meltdown, argon, nanobot, icky, replicators, plastic, icarus, entire, waste, lab\n",
      "platinum blonde:---tribune, gilded, strength, beginning, editor, cage, gallagher, smythe, garters, pardon\n",
      "pleasantville:---remote, pleasantville, bud, hunh, gosh, swell, um, david, tv, date\n",
      "punch-drunk love:---pudding, hawaii, cute, sisters, wearing, calling, girlfriend, piano, weird, suit\n",
      "quills:---beg, abbe, truly, visit, writing, darling, write, husband, heart, doctor\n",
      "rko 281:---mank, hearst, kane, wonder, citizen, rosebud, hollywood, studio, to--, kinda\n",
      "raging bull:---whadda, title, lookin, tellin, jake, outa, mouth, fight, ahead, shot\n",
      "rear window:---handbag, thorwald, window, cast, stella, jewelry, salesman, marriage, trunk, apartment\n",
      "rebel without a cause:---plato, chicken, bet, answer, till, friends, trouble, face, mom, hi\n",
      "reindeer games:---mountain, ashley, convict, powwow, nick, ash, letters, wrote, monster, map\n",
      "reservoir dogs:---tip, throw, bastard, piece, motherfucker, gettin, cops, set, m, asshole\n",
      "roughshod:---sonora, fix, clay, wagon, aspen, horses, ranch, tough, figure, learn\n",
      "scary movie 2:---shorty, professor, buddy, cool, check, looks, worry, stuff, friend, best\n",
      "serial mom:---misty, sutphin, beverly, chip, certainly, honey, mom, hate, mrs., morning\n",
      "the seventh victim:----, gregory, danger, , -, sister, mrs., book, sort, afraid\n",
      "sex, lies, and videotape:---awhile, therapy, ann, touch, lying, tapes, imagine, interesting, looked, felt\n",
      "shivers:---hobbes, ok, doctor, dr., place, thought, man, thing, want, got\n",
      "shock treatment:---denton, series, betty, ah, new, people, course, little, time, look\n",
      "sideways:---wines, hitching, maya, drinking, tasting, pinot, talked, published, wine, victoria\n",
      "signs:---book, getting, said, need, tell, thing, okay, sure, going, like\n",
      "silverado:---turley, stella, luck, land, sheriff, jake, town, far, hard, took\n",
      "simone:---sayer, fake, lainey, viktor, eternity, nicola, simone, screen, forever, actor\n",
      "the sixth sense:---cole, hurt, things, people, help, time, maybe, yes, way, think\n",
      "slash:---harvest, jethro, jeremiah, mac, farm, blood, boy, old, wrong, talking\n",
      "slither:---grant, took, ai, big, hell, shit, find, sorry, gon, na\n",
      "smokey and the bandit:---bandit, ii, breaker, kenworth, smokey, texas, miles, driving, clear, hot\n",
      "smokin' aces:---israel, sparazza, penthouse, lil, carruthers, swede, hugo, floor, security, lake\n",
      "solaris:---kelvin, gibarian, sartorius, rheya, human, space, thinking, exactly, trying, happened\n",
      "someone to watch over me:---t.j., venza, jail, ellie, pick, gun, coming, heard, saw, stop\n",
      "spider-man:---octavius, clever, center, scholarship, universe, aunt, truth, kid, ya, world\n",
      "stalag 17:---compound, barracks, stove, schulz, frankfurt, trap, stoolie, hoffy, broads, krauts\n",
      "star trek: generations:---soran, sector, observatory, trilithium, guinan, nexus, ribbon, star, data, enterprise\n",
      "star trek iii: the search for spock:---tube, impulse, range, saavik, prisoners, genesis, scan, vulcan, bones, surface\n",
      "star trek: the wrath of khan:---inoperative, phasers, reliant, engine, speed, genesis, test, saavik, admiral, command\n",
      "star trek iv: the voyage home:---humpbacks, gracie, bearing, energy, cloaking, 23rd, humpback, whales, whale, probe\n",
      "star trek: insurrection:---environmental, dougherty, picard, protect, begin, ba'ku, injector, son'a, metaphasic, federation\n",
      "star trek: first contact:---deflector, cochrane, montana, vulcans, worf, missile, silo, zephram, destroyed, photographs\n",
      "star trek vi: the undiscovered country:---torpedoes, torpedo, klingon, conference, shield, chancellor, aboard, starfleet, fired, vulcan\n",
      "star trek: nemesis:---shinzon, thalaron, hailed, created, scimitar, praetor, prepare, port, reman, counselor\n",
      "starman:---driver, jennyhaydn, shermin, gas, kidnapped, goodbye, ride, speak, english, bus\n",
      "strange days:---clip, wire, faith, hooker, squid, save, tape, piece, running, sell\n",
      "suspect zero:---diner, chat, mackelway, bureau, theory, fantasies, deputy, unsub, killers, victim\n",
      "swingers:---sweat, tee, trent, goofy, nikki, double, mikey, vegas, asshole, message\n",
      "the godfather:---godfather, refuse, barzini, tattaglias, clemenza, consigliere, families, luca, paulie, sonny\n",
      "the talented mr. ripley:---dickie, skiing, meredith, signor, e, il, marge, greenleaf, freddie, venice\n",
      "taxi driver:---honest, taxi, cab, follow, tried, days, live, real, leave, saw\n",
      "the rock:---goodspeed, mason, sir, time\n",
      "the majestic:---bijou, delly, communist, luke, committee, broke, meeting, theater, pictures, picture\n",
      "the birds:---lovebirds, bodega, gulls, attacked, smoke, mitch, birds, francisco, staying, san\n",
      "the body snatcher:---fettes, macfarlane, burke, glass, medicine, georgina, horse, doctors, child, aye\n",
      "the crow: salvation:---corvis, scar, killed, looking, found, wrong, happened, car, dead, guy\n",
      "the day the earth stood still:---nations, meeting, realize, gee, goodnight, space, professor, earth, planet, bet\n",
      "the lost boys:---boardwalk, comic, grandpa, star, vampires, vampire, david, change, mom, dinner\n",
      "the thing:---copper, screw, norwegian, generator, gotten, macready, imitate, palmer, childs, test\n",
      "the time machine:---alexander, morlocks, journey, equations, vox, imagine, valley, moment, machine, dream\n",
      "the jacket:---beat, jacket, died, hospital, die, body, happen, crazy, dr., death\n",
      "thelma & louise:---armed, robbery, oklahoma, louise, thelma, mexico, texas, figure, jimmy, shoot\n",
      "there's something about mary:---architect, puffy, mare, healy, boston, lucky, sounds, loser, mary, warren\n",
      "thirteen days:---chiefs, soviets, coup, invasion, solution, missiles, ships, cuba, secretary, letter\n",
      "thunderheart:---eagle, sioux, legs, reservation, badlands, warriors, heavy, indian, vision, bear\n",
      "top gun:---cougar, flyer, mig, maverick, goose, pilot, pilots, flying, flight, fly\n",
      "total recall:---cohaagen, rekall, hauser, kuato, mars, memory, trip, dream, air, wants\n",
      "tremors:---mountains, bixby, val, plan, heather, truck, goddamn, damn, forget, hell\n",
      "true believer:---roeder, expert, stipe, area, kitty, cecil, joe, innocent, chinatown, gang\n",
      "twin peaks: fire walk with me:---trailer, teresa, leland, banks, chet, wearing, drugs, blue, ring, agent\n",
      "the verdict:---anesthetic, heartbeat, testimony, doctors, seventy, stopped, jury, form, patient, nurse\n",
      "the war of the worlds:---pacific, sure, thing, look, come, right, let, good, time, like\n",
      "new nightmare:---chase, heather, nightmares, nightmare, dreams, script, sleep, story, hours, today\n",
      "white squall:---wind, skipper, aboard, crew, boat, watch, everybody, young, true, hard\n",
      "wild at heart:---marietta, more'n, parole, makin, drivin, lula, lesson, wild, santos, dancin\n",
      "wonder boys:---crabtree, tripp, vernon, crabs, sara, grady, chancellor, jacket, emily, professor\n",
      "the woodsman:---sound, birds, dark, girls, prison, sit, sister, idea, took, daddy\n",
      "the abyss:---rig, hippy, coffey, pressure, dumb, cab, light, suit, hold, guys\n",
      "l'avventura:---ettore, giulia, patrizia, sandro, claudia, feeling, fact, island, shark, boat\n",
      "agnes of god:---agnes, sheets, babies, nuns, convent, questions, church, child, died, sister\n",
      "a hard day's night:---shurrup, lines, swine, mixer, 'cos, grandfather, ringo, fault, aye, eh\n",
      "alien:---dust, flamethrower, pyramid, chaz, transmission, cooling, freezers, dell, irth, lifeboat\n",
      "alien vs. predator:---auto, shop, found, alright, wait, hey, okay, got, sure, time\n",
      "all about eve:---audition, actress, stage, career, coat, playwright, understudy, addison, promised, channing\n",
      "all the president's men:---haldeman, creep, democrats, print, --what, liddy, sources, campaign, fund, republican\n",
      "american pie:---nadia, stifler, laid, vicky, lacrosse, finch, oz, prom, band, chick\n",
      "an american werewolf in paris:---adm, serafine, underground, tunnels, terrence, midnight, uncle, drug, ha, claude\n",
      "anastasia:---grandmama, empress, anastasia, princess, paris, child, family, home, remember, came\n",
      "annie hall:---alvy, laughs, tennis, spider, singer, m'm, m'hm, analyst, lotta, what-\n",
      "the anniversary party:---panes, fantastic, sitter, novel, anniversary, gate, otis, amazing, sign, london\n",
      "antz:---ants, ant, z, barbatus, worker, colony, soldier, hero, princess, food\n",
      "the apartment:---promotion, wise, baxter, executive, sheldrake, sleeping, elevator, gin, pills, fran\n",
      "apocalypse now:---lance, recon, drum, jungle, river, supplies, fuel, fat, clean, light\n",
      "arctic blue:----more-, fairbanks, wilderness, cauldron, trappers, continued, til, plane, months, waiting\n",
      "as good as it gets:---compliment, simon, note, dog, easy, chance, answer, sit, bring, hold\n",
      "assassins:---contractor, sitting, contract, hotel, bank, waiting, million, inside, thinking, game\n",
      "asylum:---crowns, university, crap, czech, disks, files, theatre, kat, beer, performance\n",
      "a walk to remember:---landon, school, year, play, father, world, god, home, believe, help\n",
      "back to the future:---saturday, history, professor, future, dance, machine, supposed, power, exactly, school\n",
      "badlands:---hi, run, listen, kind, ask, place, yeah, okay, maybe, going\n",
      "the adventures of buckaroo banzai across the 8th dimension:---jersey, eighth, buckaroo, dimension, reno, professor, damn, pretty, 'em, tonight\n",
      "barton fink:---mundt, barton, fink, ., beery, writers, , interest, wrestling, writer\n",
      "basic instinct:---nilsen, berkeley, ms., killing, file, pop, playing, parents, accident, book\n",
      "basquiat:---painting, painter, gallery, artist, studio, , famous, art, interested, buy\n",
      "batman returns:---cobblepot, selina, mayor, ah, actually, u, >, <, feel, big\n",
      "batman and robin:---alfred, freeze, ivy, frozen, kiss, save, family, wife, kill, life\n",
      "batman forever:---chase, crime, parents, face, exactly, trying, try, remember, kill, night\n",
      "batman:---bat, half, killed, miss, thank, girl, huh, wo, god, shit\n",
      "bean:---gallery, ahm, governor, i'11, david, excuse, ah, family, looking, great\n",
      "beavis and butt-head do america:---chicks, sluts, dammit, whoa, sucks, heh, butt, score, unit, chick\n",
      "beetle juice:---the</u, attic, otho, stepmother, ghosts, handbook, scare, model, lydia, relax\n",
      "being there:---rand, leg, gardener, financial, chauncey, sore, agree, garden, television, welcome\n",
      "being john malkovich:---puppet, monkey, puppeteer, malkovich, portal, maxine, elijah, lester, bastard, dream\n",
      "beloved:---sethe, yard, stamp, mama, children, eat, baby, ai, stay, looking\n",
      "the big lebowski:---briefcase, pee, walter--, walter, not--, rug, donny, kidnapped, dude, smokey\n",
      "the black dahlia:---\n",
      "blade ii:---reapers, hunt, nomak, blade, old, little, people, going, look, like\n",
      "blade:---serum, thirst, blade, cure, vampire, blood, vampires, human, start, use\n",
      "book of shadows: blair witch 2:---domini, blair, witch--, --no, --it, witch, --i, dunno, sleep, goddamn\n",
      "blood simple.:---wanna, happened, thanks, night, ai, money, huh, uh, ta, better\n",
      "bloodmoon:---sandy, neighbor, involved, beer, strange, apartment, murder, trouble, walk, hurt\n",
      "blow:---kilos, pablo, diego, d, california, pounds, cocaine, figured, sell, ha\n",
      "la battaglia di algeri:---casbah, mathieu, nlf, better, people, let, yes, good, know\n",
      "body of evidence:---marsh, bottle, spray, nasal, andrew, cocaine, seeing, district, sexual, condition\n",
      "the bridges of madison county:---francesca, knowing, iowa, particular, living, asking, betty, rest, sleep, dinner\n",
      "bones:---building, dog, boys, everybody, worry, damn, alright, brother, baby, bad\n",
      "bound:---corky, scotch, violet, caesar, clean, accident, apartment, open, christ, sit\n",
      "the bourne identity:---xxxxxx, treadstone, ride, paris, dollars, thousand, ago, came, trying, looking\n",
      "brazil:---retrieval, buttle, services, tuttle, central, cheque, mistake, ministry, information, er\n",
      "bringing out the dead:---cardiac, brought, killing, marcus, food, brain, sick, waiting, number, times\n",
      "broadcast news:---network, anchor, nervous, news, feeling, washington, important, tape, speak, end\n",
      "a bucket of blood:---statue, maxwell, murdered, cat, artist, mrs., ok, hi, seen, alright\n",
      "buffy the vampire slayer:---buffy, chosen, dance, vampires, weird, vampire, important, earth, having, cool\n",
      "bull durham:---nostril, ebby, meat, pitch, fastball, hitting, season, nuke, baseball, league\n",
      "casino:---license, ace, takin, gaming, prick, joint, jewelry, nicky, able, pleasure\n",
      "catwoman:---catwoman, oasisburg, cactus, cult, selina, superhero, disc, women, fun, mission\n",
      "cellular:---nels, lenore, bonds, toss, plus, voice, pull, van, lose, rachel\n",
      "the crying game:---col, metro, fergus, dil, soldier, jimmy, shut, shoot, asked, suppose\n",
      "charade:---sylvie, embassy, stamps, charles, tex, prove, quarter, gideon, worth, adam\n",
      "cherry falls:---virgin, scared, party, kids, school, ago, hi, dad, ok, town\n",
      "chill factor:---vitelli, seal, cream, shift, postal, helicopter, u.s., darlene, vaughn, tunnel\n",
      "chinatown:---curly, mulwray, gittes, hollis, escobar, chinatown, cross, l.a., hired, dam\n",
      "nuovo cinema paradiso:---alfredo, elena, film, fire, later, beautiful, movie, coming, saw, father\n",
      "citizen kane:---chronicle, enquirer, notice, newspaper, leland, emily, finished, united, rosebud, chicago\n",
      "clerks.:---bunch, polish, gum, shape, dicks, asian, customer, smoking, customers, balls\n",
      "cliffhanger:---gabe, climb, travers, rope, tower, hal, chopper, weather, line, far\n",
      "a clockwork orange:---rises, cured, treatment, missus, alex, gulliver, horrible, pain, feeling, blue\n",
      "collateral:---breathing, vincent, cab, jazz, roll, trunk, pull, taking, bullshit, goddamn\n",
      "conspiracy theory:---c.i.a., jerry, nose, space, picture, died, watch, heart, crazy, anymore\n",
      "contact:---given, scientist, technology, religious, civilization, primer, universe, stars, simply, ellie\n",
      "cool hand luke:---mah, kin, eggs, git, luke, cold, hot, boss, eat, nothin'\n",
      "copycat:---self, guard, goetz, strangler, daryll, nikko, ruben, serial, boston, catch\n",
      "crash:---traffic, airport, vaughan, crash, drive, accident, hospital, car, police, find\n",
      "crazy love:---math, throw, promise, dinner, wedding, ok, mom, supposed, hard, thinking\n",
      "crime spree:---marcel, sami, bastaldi, mafia, sophie, tapes, steal, chicago, arm, zero\n",
      "crouching tiger, hidden dragon:---te, fox, peking, sword, master, soon, trouble, true, family, use\n",
      "the crow:---elly, dollar, lives, ass, friend, dead, hell, remember, need, guy\n",
      "cruel intentions:---cecile, unfortunately, annette, oakwood, sebastian, completely, blow, letter, fucked, friends\n",
      "the curse of the cat people:---irena, tree, amy, , present, ring, deer, wind, garden, mommy\n",
      "the curse:---frida, carlton, bite, dating, ripped, eating, wolf, apart, hairy, pms\n",
      "dark city:---doctor, case, remember, sir, need, things, u, >, <, sorry\n",
      "dave:---stroke, vice, `, fired, president, lady, stuff, thanks, fine, job\n",
      "day of the dead:---rhodes, fer, o, island, stuff, miss, ta, place, captain, dead\n",
      "dead poets society:---acting, nuwanda, society, poets, chet, study, group, means, meeting, point\n",
      "deep rising:---boat, i'm, hell, shit, things, ai, hey, maybe, need, got\n",
      "the deer hunter:---huntin, merle, sit, crazy, fuckin, jesus, hey, listen, guys, fine\n",
      "demolition man:---doucet, sanchez, commissioner, partner, wade, cop, set, cops, called, kill\n",
      "the devil and daniel webster:---farmer, dan'l, mighty, belle, squire, jabez, consarn, corners, soul, worried\n",
      "die hard:---detonators, building, hours, christ, police, job, hear, hey, talking, talk\n",
      "dog day afternoon:---pizza, hostages, jet, sonny, sal, gimme, airport, bank, sake, comin\n",
      "domino:---nevada, choco, deliver, fender, /b, bounty, edna, claremont, domino, b\n",
      "do the right thing:---jade, vito, mookie, pizzeria, pino, nuthin', fool, paid, da, tina\n",
      "dumb and dumberer: when harry met lloyd:---principal, harry, teacher, needs, chest, special, jessica, treasure, wearing, class\n",
      "dune:---spice, arrakis, fremen, ancient, duke, worm, reverend, paul, sire, speak\n",
      "ed wood:---tor, production, octopus, atom, footage, bride, wear, hmm, rent, dolores\n",
      "edtv:---shari, we'11, camera, i'11, month, al, tv, video, making, second\n",
      "election:---luck, year, looks, hard, school, pretty, best, fine, thanks, mr.\n",
      "l.a. confidential:---heroin, vincennes, nite, owl, ex, hookers, stars, policeman, wendell, justice\n",
      "enemy of the state:---nsa, stacy, to--, bus, buy, lawyer, christmas, tape, fbi, phone\n",
      "the english patient:---mines, cairo, herodotus, hana, almásy, katharine, sand, canadian, dying, desert\n",
      "entrapment:---billion, rembrandt, window, thief, partner, china, trust, art, change, million\n",
      "erin brockovich:---remind, chromium, pg&e, hinkley, toxic, plus, estate, quit, hunh, spend\n",
      "star wars: the empire strikes back:---barks, jedi, asteroid, lando, leia, chewie, join, han, ships, vader\n",
      "escape from the planet of the apes:---\n",
      "escape from l.a.:---prototype, snake, jones, cuervo, l.a., doin', president, deal, stay, dead\n",
      "excalibur:---merlin, excalibur, guenevere, knight, knights, dreams, sword, king, ride, land\n",
      "the exorcist:---psychiatrist, spirit, priest, rats, regan, exorcism, holy, kidding, daughter, lord\n",
      "the fabulous baker boys:---nights, song, ones, terrific, sing, playing, kidding, figured, piano, pal\n",
      "face/off:---pollux, castor, jon, bomb, person, brother, wife, happened, job, kill\n",
      "the family man:---lets, cmon, well, wheres, were, thats, ill, isnt, anniversary, cant\n",
      "the fantastic four:---step, reed, victor, storm, shields, science, you</u, machine, control, working\n",
      "fantastic voyage:---benes, artery, laser, operation, corpuscles, size, eye, surgeon, danger, sub\n",
      "fargo:---numbers, geez, heck, norm, ciera, darned, vehicle, shep, yah, hon\n",
      "fight club:---rule, testicular, tyler, mayhem, marla, project, cancer, club, fight, answer\n",
      "final destination 2:---pile, premonition, van, list, lake, order, death, die, accident, dad\n",
      "final destination:---design, plane, death, fuckin, time, right, like, think, know\n",
      "rambo: first blood part ii:---pows, brewer, rambo, camp, stuff, guys, let, man, look, na\n",
      "the fisher king:---membership, lydia, grail, funny, met, knows, beautiful, u, >, <\n",
      "five easy pieces:---seeing, piano, coffee, music, number, hope, goin', daddy, leave, left\n",
      "five feet high and rising:---pool, yo, girls, girl, ta, got, yeah, gon, na, way\n",
      "fletch:---rio, provo, fletch, utah, policy, source, beach, cops, chief, paper\n",
      "the adventures of ford fairlane:---grendel, c.d., industry, vomit, ford, julian, eye, disc, jazz, rock\n",
      "the french connection:---je, new, hell, shit, guy, night, mr., look, time, got\n",
      "frequency:---nightingale, series, chief, radio, fire, thirty, dad, game, cop, die\n",
      "friday the 13th part iii:---stop, wanted, man, look, gon, na, let, time, come, know\n",
      "jason lives: friday the 13th part vi:---megan, jason, camp, boy, better, ta, sure, gon, na, okay\n",
      "jason goes to hell: the final friday:---kill, sorry, need, okay, yeah, tell, want, going, let, come\n",
      "friday the 13th part viii: jason takes manhattan:---ship, coming, okay, right, sure, going, think, let, know, got\n",
      "game 6:---sox, matthew, divorce, opening, lose, personal, red, theater, completely, `\n",
      "gandhi:---india, hindus, south, british, prison, stop, old, thought, mr., great\n",
      "gattaca:---is</i, eyelash, profile, director, mission, hair, week, found, >, <\n",
      "the getaway:---paso, el, bank, hard, car, try, lot, guess, leave, kind\n",
      "get carter:---bloke, kinnear, bloody, brother, nice, seen, coming, car, told, old\n",
      "glengarry glen ross:---roma, lead, streak, cadillac, leads, insured, blah, monday, downtown, graff\n",
      "the godfather: part ii:---pentangeli, fredo, fanucci, rosato, turned, paid, taken, favor, brothers, miami\n",
      "gods and monsters:---boone, korea, clayton, tea, stroke, afternoon, famous, monster, pictures, movies\n",
      "gone in sixty seconds:---eleanor, boost, cos, sway, cars, memphis, donny, toby, dunno, order\n",
      "goodfellas:---paulie, swear, bastard, worry, ta, stay, care, fucking, son, went\n",
      "good will hunting:---morgan, edge, caramels, bar, sean, field, history, brothers, free, class\n",
      "the grapes of wrath:---bust, fellas, tol, figgered, ever'body, awright, peaches, preacher, jus, fambly\n",
      "grosse pointe blank:---reunion, professional, seven, week, job, business, left, kill, bad, happened\n",
      "the horse whisperer:---pilgrim, branding, horse, riding, magazine, horses, ranch, brought, grace, ha\n",
      "hackers:---hacker, dade, hack, worm, virus, file, disc, files, computer, service\n",
      "halloween 4: the return of michael myers:---loomis, rachel, station, halloween, state, police, tonight, baby, house, home\n",
      "halloween:---bogyman, clothes, annie, totally, scared, pick, watch, probably, tonight, tomorrow\n",
      "hannah and her sisters:---frederick, angry, april, holly, tch, mmm, i've, i--, terrible, hmm\n",
      "hannibal:---what</u, reward, waal, institution, that</u, do</u, spend, starling, america, you</u\n",
      "happy campers:---wichita, talia, wendy, don't, camp, summer, stop, nice, believe, great\n",
      "heathers:---suicide, westerburg, funeral, j.d., ram, remington, heather, veronica, popular, note\n",
      "heavenly creatures:---honora, hand, mother, going, look, let, think, want, got, know\n",
      "hellraiser: hellseeker:---trevor, body, accident, wife, coming, car, remember, happened, things, listen\n",
      "hero:---problems, chrissake, saved, purse, hero, support, shoe, sake, bucks, mister\n",
      "hider in the house:---honey, having, school, u, house, >, <, morning, new, coming\n",
      "highlander iii: the sorcerer:---bedsoe, macleod, comes, sword, lieutenant, aye, end, died, power, found\n",
      "hostage:---talley, sheriffs, dennis, goddamnit, disks, handle, mars, chief, cops, fucked\n",
      "hotel rwanda:---cockroaches, un, twins, hutu, gregoire, mille, diplomat, tatiana, collines, militia\n",
      "house on haunted hill:---guest, finally, price, ms., list, sweetheart, alive, million, goddamn, problem\n",
      "house of the damned:---mommy, church, daughter, honey, family, daddy, ok, afraid, mind, house\n",
      "hellraiser iii: hell on earth:---jp, club, story, world, great, help, god, sorry, yeah, mean\n",
      "hudson hawk:---vatican, kremlin, mayflowers, auction, codex, cappuccino, guards, crystal, steal, thief\n",
      "the hudsucker proxy:---hudsucker, imbecile, hoop, norville, muncie, stock, board, amy, company, fact\n",
      "i walked with a zombie:---holland, houmfort, cure, jessica, fort, words, paul, nurse, beautiful, miss\n",
      "the ice storm:---libbets, advice, thanksgiving, elena, mikey, paul, sense, um, party, stuff\n",
      "insomnia:---party, ago, went, wanted, talk, night, told, long, thought, said\n",
      "interview with the vampire: the vampire chronicles:---grow, lestat, louis, claudia, vampire, doll, vampires, evil, learn, dark\n",
      "i still know what you did last summer:---weekend, storm, butt, island, body, crazy, wanna, baby, dead, fine\n",
      "isle of the dead:---plague, ., -, , , -, bed, general, daughter, die\n",
      "it's a wonderful life:---, flower, potter, angel, wings, loan, hurry, violet, building, pop\n",
      "jaws 2:---sailing, lighthouse, tide, wind, beach, shark, island, boat, chief, soon\n",
      "jaws 3-d:---sean, sharks, shark, fish, water, white, film, watch, doctor, coming\n",
      "jaws: the revenge:---hoagie, shark, ride, jake, plane, water, i'm, half, coming, mother\n",
      "the jazz singer:---\n",
      "jennifer eight:---blind, ing, coz, o.k., helena, amber, sergeant, thinks, you</u, d'you\n",
      "jerry maguire:---arizona, jerry, single, bachelor, friends, later, number, million, agent, sleep\n",
      "jurassic park iii:---coast, dinosaurs, costa, amanda, safe, island, dr., damn, things, better\n",
      "the lost world: jurassic park:---rex, expedition, animals, animal, radio, island, stay, world, leave, wo\n",
      "jurassic park:---dinosaur, nedry, systems, park, animals, lex, ellie, absolutely, island, bit\n",
      "freddy vs. jason:---rem, asleep, jason, client, lake, jury, sleep, happened, house, great\n",
      "kafka:---eduard, burgel, easier, usually, firm, castle, records, department, small, office\n",
      "king kong:---denham, ann, island, mr, father, god, people, good, look, going\n",
      "klute:---dumper, klute, calls, mm, scared, questions, report, sent, company, apartment\n",
      "kramer vs. kramer:---revlon, joanna, mommy, custody, and--, objection, relationship, ted, account, terrific\n",
      "kundun:---tibetan, tibet, dalai, lhasa, holiness, chinese, lama, china, news, soon\n",
      "lake placid:---no</u, crocodile, cow, not</u, hector, maine, did</u, crocodiles, is</u, lake\n",
      "the silence of the lambs:---ran, clarice, lambs, skin, belvedere, crawford, ohio, starling, afternoon, virginia\n",
      "last of the mohicans:---march, huron, reinforcements, webb, fort, militia, albany, france, french, english\n",
      "leviathan:---sixpack, dejesus, contract, suit, doc, russian, air, check, hours, ship\n",
      "lock, stock and two smoking barrels:---quid, weed, carrying, plank, shotguns, arse, guns, er, grand, bit\n",
      "lone star:---uhm, deeds, born, amado, es, county, built, it--, sheriff, jail\n",
      "lord of illusions:---nix, swann, magic, saw, coming, somebody, knew, heard, dead, real\n",
      "lost in translation:---bye, ok, later, hello, hi, today, thanks, stay, great, talk\n",
      "lost souls:---townsend, birth, satan, exorcism, peter, evil, parents, faith, book, father\n",
      "love & basketball:---pro, championship, quincy, coach, basketball, nba, college, ball, playing, kiss\n",
      "magnolia:---marcie, lapd, loud, stanley, listening, braces, past, pain, dying, bathroom\n",
      "the man in the iron mask:---d'artagnan, athos, phillippe, aramis, porthos, raoul, mask, queen, royal, france\n",
      "manhunt:---marvosa, fleming, south, phone, police, alright, start, happened, shit, girl\n",
      "manhunter:---lecktor, atlanta, mirrors, fairy, tooth, birmingham, cell, felt, caught, piece\n",
      "man on the moon:---audience, wrestling, taxi, hurt, wanna, hey, gon, na, love, work\n",
      "the matrix:---morpheus, neo, tank, oracle, operator, trinity, matrix, choice, exit, program\n",
      "halloween iii: season of the witch:---groppi, tuesday, interest, $, quiet, cousin, uncle, stupid, sick, week\n",
      "meet joe black:---drew, communications, lightning, passion, butter, parrish, bontecou, appreciate, peanut, goodnight\n",
      "memento:---leonard, revisions, memento, condition, calls, memory, jimmy, cop, wife, happy\n",
      "miami vice:---alonzo, undercover, risk, montoya, gina, load, fast, loads, south, florida\n",
      "midnight cowboy:---stud, shee, goddam, florida, bet, ma'am, town, ai, hell, ta\n",
      "midnight express:---bad, years, fucking, shit, money, maybe, man, yeah, got, right\n",
      "mimic:---thing, gon, na, right, way, oh, look, come, tell, yeah\n",
      "misery:---page, silver, chapter, misery, finish, written, fan, creek, books, annie\n",
      "mission: impossible ii:---nyah, bellerophon, ambrose, nekhorvich, chimera, thief, bloody, virus, seven, hours\n",
      "mission: impossible:---youíre, heís, krieger, kittridge, prague, donít, noc, mole, abort, list\n",
      "moonstruck:---engaged, loretta, moon, dying, wedding, marry, ring, hair, pop, married\n",
      "monty python and the holy grail:---ni, brave, wood, peril, camelot, seek, |, liege, shrubbery, knights\n",
      "mrs brown:---balmoral, archie, highland, members, queen, prince, riding, ma'am, majesty, forgive\n",
      "arcade:---arcade, alive, game, different, play, came, home, place, maybe, time\n",
      "mulholland dr.:---aunt, accident, trouble, meet, called, remember, came, stop, ya, place\n",
      "\"murderland\":---mccay, park, tape, company, bank, door, start, room, sir, real\n",
      "my girl 2:---ehh, umm, bye, weeks, angeles, vada, los, change, rose, i'm\n",
      "my girl:---bingo, camper, vada, shelly, sweetheart, fish, summer, eyes, hot, running\n",
      "my best friend's wedding:---th, sports, food, wedding, best, heart, supposed, family, actually, job\n",
      "nashville:---ester, sing, bet, week, worry, hello, hi, listen, real, pretty\n",
      "natural born killers:---donut, mallory, episode, interview, follow, prison, board, hands, fact, means\n",
      "nothing but a man:---duff, d'you, round, nigger, beer, folks, 'bout, easy, trouble, goin'\n",
      "the negotiator:---\n",
      "neuromancer:---razor, dixie, trace, babylon, fry, a.i., armitage, wintermute, 3jane, mainframe\n",
      "never been kissed:---popular, prom, college, wow, totally, fun, sex, person, high, story\n",
      "the nightmare before christmas:---</i, >, <, know\n",
      "a nightmare on elm street part 2: freddy's revenge:---grady, street, sleep, crazy, killed, dad, went, help, okay, night\n",
      "a nightmare on elm street 3: dream warriors:---nancy, dreams, nightmares, straight, dream, sleep, kids, try, girl, new\n",
      "notting hill:---brownie, seriously, ahm, tea, situation, famous, absolutely, perfect, film, fact\n",
      "one flew over the cuckoo's nest:---c, miss., turkle, scanlon, ratched, cheswick, shhh, ward, y, m\n",
      "only you:---italy, meant, faith, rome, marry, waiting, wedding, supposed, hotel, somebody\n",
      "on the waterfront:---whiskey, me, i, but, charley, bum, pigeons, tough, pop, worth\n",
      "orgy of the dead:---b, master, >, <, night, time, yes, let, like, know\n",
      "out of sight:---snoopy, instead, wall, diamonds, glades, super, robbed, fights, marshal, liked\n",
      "pearl harbor:---rafe, carriers, pilots, planes, fuel, fly, colonel, fight, plane, die\n",
      "peggy sue got married:---peggy, forever, reunion, loved, yesterday, terrific, dress, dolores, birthday, marry\n",
      "pet sematary ii:---geoff, zowie, dog, mom, pretty, dead, going, think, know, like\n",
      "philadelphia:---partners, gay, disease, complaint, aids, lesions, aware, homosexual, correct, personal\n",
      "pitch black:---canyon, cells, stick, light, dark, cut, ship, die, afraid, wanna\n",
      "planet of the apes:---proof, forbidden, heresy, humans, hearing, cave, cornelius, zone, ape, culture\n",
      "platoon:---elias, barnes, cause, shit, everybody, fuckin, war, ass, man, fuck\n",
      "playback:---balcony, goble, handled, killaine, mayfield, vancouver, murdered, known, motive, inspector\n",
      "the ploughman's lunch:---historian, suez, norfolk, history, piece, worked, news, couple, book, saying\n",
      "point break:---surf, presidents, bodhi, utah, pull, beach, agent, bank, check, goddamn\n",
      "predator:---dillon, dutch, chopper, major, hell, got, right, know\n",
      "pretty woman:---vivian, boulevard, beverly, rent, dress, stock, company, buy, bucks, hotel\n",
      "the princess bride:---roberts, miracle, dread, florin, guilder, humperdinck, westley, prince, swamp, highness\n",
      "the producers:---ve, bloom, thursday, books, play, deal, baby, wait, stop, better\n",
      "psycho:---highway, phoenix, arbogast, motel, cabin, missing, private, mary, detective, hurry\n",
      "maniac:---help, oh, want, tell, right, know\n",
      "vampyr:---\n",
      "mystery of the wax museum:---opening, happens, glad, body, story, kid, trying, idea, friend, pretty\n",
      "quantum project:---\n",
      "rambling rose:---loves, hh, creative, harm, rid, dentist, admit, pitiful, awful, darlin\n",
      "red white black & blue:---till, today, alright, gon, na, remember, fucking, big, fuck, great\n",
      "star wars: episode vi - return of the jedi:---feelings, vader, chewie, strong, han, dark, emperor, master, force, power\n",
      "the rocky horror picture show:---oh, yes, come, like, think, want, know\n",
      "rocky:---bother, rounds, fighter, fightin, creed, apollo, friggin, bout, champ, locker\n",
      "who framed roger rabbit:---toon, toontown, maroon, toons, acme, rabbit, safe, gee, pal, pictures\n",
      "romeo and juliet:---hath, doth, gentle, joy, thee, ay, hast, farewell, wilt, capulet\n",
      "ronin:---ira, irish, package, hired, goddamned, swede, russian, cop, rest, company\n",
      "route 9:---denning, booth, scene, tape, partner, jail, news, figure, bitch, answer\n",
      "rush hour 2:---badge, plates, shu, mu, hong, kong, service, chinese, inspector, feet\n",
      "rush hour:---assignment, ambassador, handle, america, chinese, drop, china, fbi, daughter, cop\n",
      "runaway bride:---dress, reporter, wedding, writing, running, making, run, story, stuff, pretty\n",
      "sleepless in seattle:---seattle, sleepless, jonah, baltimore, becky, empire, victoria, radio, annie, perfect\n",
      "salt of the earth:---strike, picket, anglo, union, line, company, mama, kids, says, men\n",
      "the salton sea:---garcetti, pooh, domingo, bear, jimmy, drugs, dude, deal, hit, use\n",
      "saving private ryan:---upham, lingerie, reiben, division, sarge, goddamned, eighty, germans, private, wade\n",
      "say anything...:---diane, lloyd, england, court, future, um, alright, plane, dad, honey\n",
      "schindler's list:---list, war, business, money, great, things, thank, talk, good, people\n",
      "scream 2:---knife, cotton, sorority, sid, youre, killer, movie, hand, its, young\n",
      "scream 3:---dewey, 3, gale, stab, weathers, woodsboro, cast, roman, sidney, detective\n",
      "scream:---scary, tatum, hang, motive, boyfriend, killer, movies, ma'am, movie, sex\n",
      "seven:---mills, murders, seven, detective, paper, killer, times, gun, till, blood\n",
      "the searchers:---comanches, comanche, scar, pa, reverend, alive, comin, camp, goin', o\n",
      "seven days to live:---house, happened, hey, need, maybe, look, oh, come, way, let\n",
      "shakespeare in love:---burbage, comedy, henslowe, poet, pages, pounds, player, theatre, plays, romeo\n",
      "shallow grave:---flat, hugo, sort, bit, worry, seen, friends, ok, idea, stop\n",
      "shampoo:---hairdresser, egypt, ladies, wash, lester, difference, shop, hair, doll, kidding\n",
      "the shining:---overlook, winter, hon, wendy, eh, hotel, lloyd, hurt, soon, meet\n",
      "silver bullet:---booger, dear, kids, boy, said, okay, yeah, sure, tell, going\n",
      "sister act:---las, decent, vows, nun, katherine, singing, choir, cardinals, convent, st.\n",
      "sleepy hollow:---woods, baltus, katrina, hollow, western, horseman, constable, wound, taken, victims\n",
      "sling blade:---scooter, wadn't, flowers, potaters, bible, fried, y', retarded, doyle, stayin\n",
      "smoke:---rashid, walking, brooklyn, auggie, cyrus, able, finished, bucks, started, coffee\n",
      "snow falling on cedars:---gaff, fishing, miyamoto, battery, gunnel, spare, japanese, batteries, defendant, deceased\n",
      "soldier:---\n",
      "some like it hot:---spats, glasses, fiddle, bull, nellie, saxophone, sax, terribly, osgood, josephine\n",
      "the wedding date:---youve, kat, theres, youre, its, thats, im, dont, whats, didnt\n",
      "sounder:---mam, sounder, boatwright, git, field, shore, wanta, nathan, mama, david\n",
      "south park: bigger longer & uncut:---clitoris, resistance, rm, language, v, mph, cartman, rmph, ze, terrance\n",
      "spacejacked:---guests, mac, distress, barnes, bridge, signal, hurry, space, open, hours\n",
      "spare me:---tour, whips, lane, bowling, alley, millie, bowl, walks, pulls, bowler\n",
      "sphere:---jellyfish, edmunds, ocean, subs, spacecraft, button, manifested, beth, fixed, fletcher\n",
      "star wars:---crystal, force, learn, system, service, blue, star, information, power, death\n",
      "starship troopers:---bug, p, leader, bugs, carmen, fleet, citizen, team, diz, squad\n",
      "star trek: the motion picture:---object, carbon, v'ger, cloud, patterns, creator, units, main, engineering, starfleet\n",
      "state and main:---tits, breasts, mill, rape, huskies, main, hampshire, scene, wally, horse\n",
      "stepmom:---rache, annabelle, i</u, mad, t, weekend, thursday, happens, rachel, lunch\n",
      "storytelling:---documentary, scooby, mikey, toby, college, tv, dunno, um, ok, story\n",
      "stranglehold:---cooper, chemco, richter, filmore, hour, hell, going, let, got, time\n",
      "dr. strangelove or: how i learned to stop worrying and love the bomb:---wing, lothar, r, primary, recall, r., enemy, safety, crm-114, base\n",
      "suburbia:---moving, corner, sooze, songs, stuck, limo, burnfield, manager, hm, drunk\n",
      "sugar & spice:---di, d, kansas, squad, g, bank, y'know, hold, 'cause, baby\n",
      "sunset blvd.:---loaded, greatest, fan, finish, script, writing, pictures, scene, star, madame\n",
      "supergirl:---shadow, selena, argo, phantom, source, zone, earth, city, power, rest\n",
      "superman iii:---kent, computers, smallville, oil, vulcan, coffee, computer, pal, boss, high\n",
      "superman ii:---lex, try, listen, place, uh, maybe, mean, oh, time, sure\n",
      "superman iv: the quest for peace:---sun, superman, nuclear, lex, uncle, gee, plan, power, daddy, world\n",
      "superman:---krypton, simple, otis, fly, lex, y'know, soon, ah, took, story\n",
      "the sweet hereafter:---walkers, ottos, dolores, bus, wendell, lawyer, driving, strange, accident, scared\n",
      "sweet smell of success:---column, smear, hunsecker, item, j.j., sidney, likes, favor, dallas, press\n",
      "terminator 2: judgment day:---terminator, t-1000, mission, mom, kill, stop, ta, shit, huh, believe\n",
      "taking sides:---adolf, baton, furtwängler, member, orchestra, musician, conductor, telegram, politics, nazi\n",
      "the terminator:---war, understand, help, okay, look, let, like, time, tell, got\n",
      "the game:---game, sort, gun, door, open, brother, police, meet, best, happened\n",
      "the haunting:---nell, study, theo, children, working, house, stay, mrs., hear, night\n",
      "the limey:---london, n, prison, number, trouble, y'know, deal, saying, went, found\n",
      "the man who wasn't there:---crane, barber, birdy, mm, mr, store, ann, music, ok, goddamn\n",
      "the relic:---fibers, claw, basement, plant, brains, crates, mbwun, smell, dna, pendergast\n",
      "the truman show:---truman, marlon, fiji, started, child, late, today, world, talking, mother\n",
      "the x files:---vaccine, infected, mulder, organism, destroy, scully, firemen, alien, virus, dallas\n",
      "the cell:---stargher, wants, happened, believe, okay, need, want, time, tell, yes\n",
      "the third man:---sie, calloway, ist, martins, letters, papers, interested, russian, evidence, major\n",
      "the beach:---think, know, like\n",
      "the believer:---manzetti, lina, curtis, nazis, jews, jewish, jew, nazi, light, hate\n",
      "le grand bleu:---enzo, dive, sea, champion, exactly, live, meet, problem, world, friend\n",
      "the hebrew hammer:---hanukkah, hammer, mordechai, esther, santa, jewish, eat, mom, friend, mother\n",
      "the leopard man:---cemetery, leopard, kiki, galbraith, ., -, animals, -, cat, \n",
      "the lost son:---havent, wont, leons, wasnt, brothers, couldnt, doesnt, youd, hed, id\n",
      "the messenger:---submit, confessed, tremoille, tourelles, loyal, jeanne, voices, compiegne, confess, holy\n",
      "the pianist:---warsaw, help, people, god, work, long, wo, better, thought, need\n",
      "the piano:---piano, play, says, mother, yes, come, like\n",
      "the sting:---hall, gondorff, runs, hooker, con, aw, played, teach, chicago, outa\n",
      "the thin man:---macaulay, wynant, nunheim, julia, lying, goodbye, present, shop, christmas, months\n",
      "three kings:---jaeger, saudi, middle, kuwait, shi'ites, iraq, iraqi, iraqis, box, epps\n",
      "thx 1138:---luh, thx, wrong, leave, feel, need, look, know, time, going\n",
      "ticker:---vice, squad, device, bomb, captain, stay, guys, thanks, talking, work\n",
      "trouble in paradise:---crook, giron, filiba, colet, hum, laval, m'sieu, francs, madame, goodbye\n",
      "titanic:---boats, jump, titanic, diamond, cold, rose, boat, water, heart, ship\n",
      "transatlantic merry-go-round:---bracelet, you're, poker, lother, --and, i'll, cards, me--, you--, cabin\n",
      "tombstone:---virge, wyatt, ringo, cowboys, doc, kinda, horse, happens, ought, darling\n",
      "tomorrow never dies:---kuala, lumpur, 007, q, hong, kong, minister, london, british, gold\n",
      "to sleep with anger:---ways, gideon, act, junior, rest, poor, ought, asked, hand, pick\n",
      "toy story:---woody, toy, toys, buzz, ha, c'm, mom, minute, wait, guys\n",
      "the magic toyshop:--->, <, know\n",
      "traffic:---tijuana, cartel, salazar, czar, helena, coke, drug, drugs, mexico, san\n",
      "trainspotting:---mate, cunt, shite, tommy, price, sick, problem, fucking, ok, fuck\n",
      "star trek v: the final frontier:---starship, spock, beam, vulcan, possible, enterprise, captain, ship, brother, course\n",
      "tron:---dillinger, tron, 7, mcp, user, programs, program, access, games, beam\n",
      "true lies:---renquist, helen, lying, simon, bitch, honey, husband, married, use, stuff\n",
      "true romance:---pimp, pussy, apparently, alabama, clarence, nigger, niggers, coke, dick, actor\n",
      "twelve monkeys:---monkeys, 1989, drugs, virus, cole, future, tv, different, hospital, crazy\n",
      "u-turn:---blame, thirteen, sierra, grace, hose, ticket, toby, careful, takes, heat\n",
      "u turn:---drapes, dump, darrell, hose, careful, ticket, grace, toby, eyes, ride\n",
      "unbreakable:---accident, sick, game, room, life, things, years, long, people, thought\n",
      "unforgiven:---pistols, share, killin, shootin, cowboys, pistol, bar, account, sonofabitch, lookin\n",
      "the usual suspects:---fenster, dope, kobayashi, immunity, d.a., +, kujan, mcmanus, verbal, keaton\n",
      "verdict:---anaesthetic, heartbeat, testimony, `, doctors, seventy, stopped, jury, form, patient\n",
      "vertigo:---scottie, carlotta, tower, past, bay, living, francisco, san, dream, died\n",
      "very bad things:---goosed, chairs, micheal, fisher, bachelor, situation, calling, bathroom, adam, wedding\n",
      "viridiana:---convent, tomorrow, days, leave, miss, stay, mother, house, wo, girl\n",
      "virtuosity:---parker, 6.7, neural, lindenmeyer, guards, sid, catch, barnes, , program\n",
      "wag the dog:---schumann, illegal, brean, inaugural, pill, albania, this</u, b-2, election, albanian\n",
      "wall street:---market, bluestar, marv, broker, gekko, sport, airline, bought, stock, firm\n",
      "waxwork:---mark, china, ok, sir, little, man, oh, yes, like, think\n",
      "what lies beneath:---felt, happening, tried, accident, telling, gone, hurt, young, afraid, saw\n",
      "what women want:---\n",
      "the witching hour:---witches, mayfair, clinic, carlotta, loved, orleans, hands, witch, died, rest\n",
      "white angel:---ellen, leslie, round, killed, wrong, sorry, years, long, thought, yes\n",
      "who's your daddy?:---xenia, naked, magazine, empire, heaven, christy, spring, ted, prom, parents\n",
      "wild things:---suzie, dirty, swamp, bought, busted, rich, blue, running, line, cop\n",
      "wild wild west:---steam, train, president, case, dr., run, damn, sir, mind, new\n",
      "willow:---willow, magician, magic, stone, baby, use, help, need, find, gon\n",
      "witness:---eli, stoltzfus, amish, samuel, english, knows, gun, listen, woman, stay\n",
      "the wizard of oz:---ohhh, slippers, courage, wicked, wizard, oz, witch, oil, em, kansas\n",
      "the world is not enough:---shes, pipeline, elektra, isnt, hes, bond, ive, sub, cant, its\n",
      "watchmen:---ctu, comedian, veidt, jon, adrian, cancer, daniel, save, human, end\n",
      "xxx:---yorgi, anarchy, x, 99, government, agent, information, funny, dude, true\n",
      "x-men:---mutants, senator, wo, find, come, time, let, going, think, right\n",
      "young frankenstein:---mmmmm, falkstein, igor, grandfather, strange, brain, master, darling, music, ready\n",
      "zulu dawn:---lord, sir, good\n"
     ]
    }
   ],
   "source": [
    "print('-------- movie - words ----------')\n",
    "for i, scores in enumerate(topk):\n",
    "    print(f'{movies_list[i].title}:---{\", \".join(s[1] for s in scores)}')\n"
   ],
   "metadata": {
    "collapsed": false,
    "pycharm": {
     "name": "#%%\n"
    }
   }
  },
  {
   "cell_type": "markdown",
   "source": [
    "The results for each movie aren't that great with few hyperparameters that I have tried.\n",
    "hyperparameters = min_mini_df, min_tf, min_df.\n",
    "\n",
    "Person names come up as important words.\n",
    "This can be avoided by\n",
    "1. enabling \"ner\" in spacy pipeline.\n",
    "2. uncommenting the \"PERSON\" filter in `extract_words()`\n",
    "\n",
    "Doing this gave slightly better results subjectively.\n",
    "This takes ~15 minutes on my laptop, so I avoided it for final submission.\n",
    "\n",
    "Unfortunately, there's no objective metric for this method.\n",
    "\n",
    "### Among genres:\n",
    "\n",
    "It is not allowed to use genre (or other metadata) in Q1,\n",
    "but I'm doing it because I am curious.\n",
    "\n",
    "- document = genre\n",
    "- mini-document = movie\n",
    "\n",
    "Firstly, let's get all the genres"
   ],
   "metadata": {
    "collapsed": false,
    "pycharm": {
     "name": "#%% md\n"
    }
   }
  },
  {
   "cell_type": "code",
   "execution_count": 239,
   "outputs": [],
   "source": [
    "all_genres = [genre for _, movie in movies.items() for genre in movie.genres]\n",
    "genre_movies_count = Counter(all_genres)"
   ],
   "metadata": {
    "collapsed": false,
    "pycharm": {
     "name": "#%%\n"
    }
   }
  },
  {
   "cell_type": "code",
   "execution_count": 240,
   "outputs": [
    {
     "data": {
      "text/plain": "[('drama', 320),\n ('thriller', 269),\n ('action', 168),\n ('comedy', 162),\n ('crime', 147),\n ('romance', 132),\n ('sci-fi', 120),\n ('adventure', 116),\n ('mystery', 102),\n ('horror', 99),\n ('fantasy', 78),\n ('biography', 25),\n ('war', 23),\n ('history', 21),\n ('animation', 18),\n ('family', 17),\n ('music', 13),\n ('western', 12),\n ('musical', 8),\n ('sport', 8),\n ('short', 5),\n ('film-noir', 4),\n ('documentary', 3),\n ('adult', 1),\n ('other', 1)]"
     },
     "execution_count": 240,
     "metadata": {},
     "output_type": "execute_result"
    },
    {
     "data": {
      "text/plain": "<Figure size 360x576 with 1 Axes>",
      "image/png": "[encoded data removed]"
     },
     "metadata": {
      "needs_background": "light"
     },
     "output_type": "display_data"
    }
   ],
   "source": [
    "# Sorting by value to see which genres have the most movies.\n",
    "sorted_genres = sorted(genre_movies_count.items(), key=lambda item: item[1], reverse=True)\n",
    "all_genres = [p[0] for p in sorted_genres]\n",
    "\n",
    "plt.figure(figsize=(5, 8))\n",
    "plt.title(\"Movie count for each genre.\")\n",
    "plt.xlabel(\"genres\")\n",
    "plt.ylabel(\"movie count\")\n",
    "plt.barh(\n",
    "    list(reversed(all_genres)),\n",
    "    list(reversed([p[1] for p in sorted_genres]))\n",
    ")\n",
    "\n",
    "sorted_genres"
   ],
   "metadata": {
    "collapsed": false,
    "pycharm": {
     "name": "#%%\n"
    }
   }
  },
  {
   "cell_type": "code",
   "execution_count": 241,
   "outputs": [
    {
     "ename": "ValueError",
     "evalue": "list.remove(x): x not in list",
     "output_type": "error",
     "traceback": [
      "\u001B[0;31m---------------------------------------------------------------------------\u001B[0m",
      "\u001B[0;31mValueError\u001B[0m                                Traceback (most recent call last)",
      "\u001B[0;32m<ipython-input-241-84f8eced1ec8>\u001B[0m in \u001B[0;36m<module>\u001B[0;34m\u001B[0m\n\u001B[1;32m      1\u001B[0m \u001B[0;31m# Well, there's one movie without any genre. So let's put that as 'other'\u001B[0m\u001B[0;34m\u001B[0m\u001B[0;34m\u001B[0m\u001B[0;34m\u001B[0m\u001B[0m\n\u001B[1;32m      2\u001B[0m \u001B[0mall_genres\u001B[0m\u001B[0;34m.\u001B[0m\u001B[0mappend\u001B[0m\u001B[0;34m(\u001B[0m\u001B[0;34m'other'\u001B[0m\u001B[0;34m)\u001B[0m\u001B[0;34m\u001B[0m\u001B[0;34m\u001B[0m\u001B[0m\n\u001B[0;32m----> 3\u001B[0;31m \u001B[0mall_genres\u001B[0m\u001B[0;34m.\u001B[0m\u001B[0mremove\u001B[0m\u001B[0;34m(\u001B[0m\u001B[0;34m''\u001B[0m\u001B[0;34m)\u001B[0m\u001B[0;34m\u001B[0m\u001B[0;34m\u001B[0m\u001B[0m\n\u001B[0m\u001B[1;32m      4\u001B[0m \u001B[0;34m\u001B[0m\u001B[0m\n\u001B[1;32m      5\u001B[0m \u001B[0mgenre_movies_count\u001B[0m\u001B[0;34m[\u001B[0m\u001B[0;34m'other'\u001B[0m\u001B[0;34m]\u001B[0m \u001B[0;34m=\u001B[0m \u001B[0mgenre_movies_count\u001B[0m\u001B[0;34m[\u001B[0m\u001B[0;34m''\u001B[0m\u001B[0;34m]\u001B[0m\u001B[0;34m\u001B[0m\u001B[0;34m\u001B[0m\u001B[0m\n",
      "\u001B[0;31mValueError\u001B[0m: list.remove(x): x not in list"
     ]
    }
   ],
   "source": [
    "# Well, there's one movie without any genre. So let's put that as 'other'\n",
    "all_genres.append('other')\n",
    "all_genres.remove('')\n",
    "\n",
    "genre_movies_count['other'] = genre_movies_count['']\n",
    "del genre_movies_count['']\n",
    "\n",
    "# Let's also replace '' with 'other' in all movies\n",
    "for movie in movies_list:\n",
    "    if '' in movie.genres:\n",
    "        movie.genres.append('other')\n",
    "        movie.genres.remove('')"
   ],
   "metadata": {
    "collapsed": false,
    "pycharm": {
     "name": "#%%\n"
    }
   }
  },
  {
   "cell_type": "code",
   "execution_count": 244,
   "outputs": [
    {
     "name": "stderr",
     "output_type": "stream",
     "text": [
      "100%|██████████| 617/617 [00:46<00:00, 13.39it/s]\n",
      "100%|██████████| 617/617 [00:33<00:00, 18.18it/s]\n",
      "100%|██████████| 617/617 [00:16<00:00, 37.84it/s]\n",
      "100%|██████████| 617/617 [00:21<00:00, 29.04it/s]\n",
      "100%|██████████| 617/617 [00:17<00:00, 35.71it/s]\n",
      "100%|██████████| 617/617 [00:17<00:00, 35.51it/s]\n",
      "100%|██████████| 617/617 [00:09<00:00, 68.00it/s] \n",
      "100%|██████████| 617/617 [00:08<00:00, 70.92it/s] \n",
      "100%|██████████| 617/617 [00:10<00:00, 60.93it/s]\n",
      "100%|██████████| 617/617 [00:07<00:00, 83.14it/s] \n",
      "100%|██████████| 617/617 [00:05<00:00, 103.78it/s]\n",
      "100%|██████████| 617/617 [00:03<00:00, 205.03it/s]\n",
      "100%|██████████| 617/617 [00:02<00:00, 255.37it/s]\n",
      "100%|██████████| 617/617 [00:01<00:00, 370.08it/s]\n",
      "100%|██████████| 617/617 [00:01<00:00, 465.84it/s]\n",
      "100%|██████████| 617/617 [00:01<00:00, 377.44it/s]\n",
      "100%|██████████| 617/617 [00:01<00:00, 422.51it/s]\n",
      "100%|██████████| 617/617 [00:01<00:00, 483.21it/s]\n",
      "100%|██████████| 617/617 [00:00<00:00, 1062.75it/s]\n",
      "100%|██████████| 617/617 [00:00<00:00, 734.67it/s]\n",
      "100%|██████████| 617/617 [00:00<00:00, 1333.00it/s]\n",
      "100%|██████████| 617/617 [00:00<00:00, 1010.23it/s]\n",
      "100%|██████████| 617/617 [00:00<00:00, 2195.03it/s]\n",
      "100%|██████████| 617/617 [00:00<00:00, 10023.88it/s]\n",
      "100%|██████████| 617/617 [00:00<00:00, 8866.84it/s]\n",
      "100%|██████████| 617/617 [00:00<00:00, 9171.57it/s]\n"
     ]
    }
   ],
   "source": [
    "bags_of_words_genre = []\n",
    "\n",
    "# Iterate over documents\n",
    "for genre in all_genres:\n",
    "    mini_doc_words = []\n",
    "\n",
    "    # iterate over mini-docs\n",
    "    for movie in tqdm(movies_list):\n",
    "        if genre not in movie.genres:\n",
    "            continue\n",
    "        tokens = []\n",
    "        for conversation in movie.conversations:\n",
    "            conversation = '. '.join(d.dialog for d in conversation.dialogs)\n",
    "            convo_tokens = extract_words(conversation)\n",
    "            [tokens.append(t) for t in convo_tokens]\n",
    "\n",
    "        mini_doc_words.append(tokens)\n",
    "\n",
    "    bags_of_words_genre.append(mini_doc_words)"
   ],
   "metadata": {
    "collapsed": false,
    "pycharm": {
     "name": "#%%\n"
    }
   }
  },
  {
   "cell_type": "code",
   "execution_count": 296,
   "outputs": [],
   "source": [
    "topk = custom_tf_idf(\n",
    "    bags_of_words_genre,\n",
    "    top_k=100,\n",
    "    # A word has to appear in minimum of _ movies.\n",
    "    min_mini_df=0.2,\n",
    "    # A word has to appear at least _ times in a genre. This is only to lower the matrix size\n",
    "    min_tf=2,\n",
    "    # A word has to appear in at least _ genres.\n",
    "    min_df=1,\n",
    ")"
   ],
   "metadata": {
    "collapsed": false,
    "pycharm": {
     "name": "#%%\n"
    }
   }
  },
  {
   "cell_type": "code",
   "execution_count": 297,
   "outputs": [
    {
     "name": "stdout",
     "output_type": "stream",
     "text": [
      "-------- Scores ---------\n",
      "[(0.8125, 'arnold', {'mini_doc_count': 10, 'doc_count': 39, 'all_doc_count': 48}), (0.8095238095238095, 'kin', {'mini_doc_count': 16, 'doc_count': 34, 'all_doc_count': 42}), (0.7931034482758621, 'mortgage', {'mini_doc_count': 16, 'doc_count': 23, 'all_doc_count': 29}), (0.7692307692307693, 'hoover', {'mini_doc_count': 12, 'doc_count': 30, 'all_doc_count': 39}), (0.7647058823529411, 'jordan', {'mini_doc_count': 6, 'doc_count': 26, 'all_doc_count': 34}), (0.7608695652173914, 'cynthia', {'mini_doc_count': 9, 'doc_count': 35, 'all_doc_count': 46}), (0.759493670886076, 'congress', {'mini_doc_count': 17, 'doc_count': 60, 'all_doc_count': 79}), (0.75, 'morphine', {'mini_doc_count': 7, 'doc_count': 21, 'all_doc_count': 28}), (0.75, 'lo', {'mini_doc_count': 16, 'doc_count': 21, 'all_doc_count': 28}), (0.75, 'submit', {'mini_doc_count': 8, 'doc_count': 18, 'all_doc_count': 24}), (0.7407407407407407, 'dreadful', {'mini_doc_count': 18, 'doc_count': 20, 'all_doc_count': 27}), (0.7407407407407407, 'fortunate', {'mini_doc_count': 16, 'doc_count': 20, 'all_doc_count': 27}), (0.7407407407407407, 'nixon', {'mini_doc_count': 12, 'doc_count': 60, 'all_doc_count': 81}), (0.74, 'wallace', {'mini_doc_count': 13, 'doc_count': 37, 'all_doc_count': 50}), (0.7391304347826086, 'complaint', {'mini_doc_count': 12, 'doc_count': 17, 'all_doc_count': 23}), (0.7391304347826086, 'disturbance', {'mini_doc_count': 10, 'doc_count': 17, 'all_doc_count': 23}), (0.7391304347826086, 'stewardess', {'mini_doc_count': 7, 'doc_count': 17, 'all_doc_count': 23}), (0.7391304347826086, 'rises', {'mini_doc_count': 9, 'doc_count': 17, 'all_doc_count': 23}), (0.7386363636363636, 'sal', {'mini_doc_count': 9, 'doc_count': 130, 'all_doc_count': 176}), (0.7333333333333333, 'stamp', {'mini_doc_count': 11, 'doc_count': 22, 'all_doc_count': 30}), (0.7333333333333333, 'folk', {'mini_doc_count': 18, 'doc_count': 22, 'all_doc_count': 30}), (0.7272727272727273, 'childish', {'mini_doc_count': 11, 'doc_count': 16, 'all_doc_count': 22}), (0.7272727272727273, 'medication', {'mini_doc_count': 13, 'doc_count': 24, 'all_doc_count': 33}), (0.725, 'killin', {'mini_doc_count': 10, 'doc_count': 29, 'all_doc_count': 40}), (0.7244897959183674, 'jews', {'mini_doc_count': 16, 'doc_count': 71, 'all_doc_count': 98}), (0.717948717948718, 'wanta', {'mini_doc_count': 9, 'doc_count': 28, 'all_doc_count': 39}), (0.7142857142857143, 'crane', {'mini_doc_count': 8, 'doc_count': 35, 'all_doc_count': 49}), (0.7142857142857143, 'clap', {'mini_doc_count': 11, 'doc_count': 15, 'all_doc_count': 21}), (0.7142857142857143, 'sitter', {'mini_doc_count': 10, 'doc_count': 15, 'all_doc_count': 21}), (0.7142857142857143, 'retreat', {'mini_doc_count': 11, 'doc_count': 15, 'all_doc_count': 21}), (0.7142857142857143, 'cursed', {'mini_doc_count': 13, 'doc_count': 15, 'all_doc_count': 21}), (0.7096774193548387, 'teachers', {'mini_doc_count': 17, 'doc_count': 22, 'all_doc_count': 31}), (0.7083333333333334, 'products', {'mini_doc_count': 12, 'doc_count': 17, 'all_doc_count': 24}), (0.7083333333333334, 'crown', {'mini_doc_count': 11, 'doc_count': 17, 'all_doc_count': 24}), (0.7083333333333334, 'scotland', {'mini_doc_count': 7, 'doc_count': 17, 'all_doc_count': 24}), (0.7083333333333334, 'deeds', {'mini_doc_count': 8, 'doc_count': 17, 'all_doc_count': 24}), (0.7083333333333334, 'objection', {'mini_doc_count': 13, 'doc_count': 51, 'all_doc_count': 72}), (0.7083333333333334, 'resign', {'mini_doc_count': 11, 'doc_count': 17, 'all_doc_count': 24}), (0.7058823529411765, 'morgan', {'mini_doc_count': 9, 'doc_count': 36, 'all_doc_count': 51}), (0.7058823529411765, 'nazis', {'mini_doc_count': 12, 'doc_count': 24, 'all_doc_count': 34}), (0.7051282051282052, 'thee', {'mini_doc_count': 14, 'doc_count': 55, 'all_doc_count': 78}), (0.7037037037037037, 'anxiety', {'mini_doc_count': 16, 'doc_count': 19, 'all_doc_count': 27}), (0.7012987012987013, 'patrick', {'mini_doc_count': 6, 'doc_count': 54, 'all_doc_count': 77}), (0.7, 'receipts', {'mini_doc_count': 13, 'doc_count': 14, 'all_doc_count': 20}), (0.7, 'regard', {'mini_doc_count': 16, 'doc_count': 21, 'all_doc_count': 30}), (0.7, 'prettier', {'mini_doc_count': 13, 'doc_count': 14, 'all_doc_count': 20}), (0.7, 'depression', {'mini_doc_count': 12, 'doc_count': 14, 'all_doc_count': 20}), (0.7, 'du', {'mini_doc_count': 9, 'doc_count': 14, 'all_doc_count': 20}), (0.7, 'nap', {'mini_doc_count': 15, 'doc_count': 28, 'all_doc_count': 40}), (0.7, 'elected', {'mini_doc_count': 11, 'doc_count': 21, 'all_doc_count': 30}), (0.7, 'appointed', {'mini_doc_count': 13, 'doc_count': 14, 'all_doc_count': 20}), (0.6976744186046512, 'wh', {'mini_doc_count': 13, 'doc_count': 30, 'all_doc_count': 43}), (0.696969696969697, 'saints', {'mini_doc_count': 16, 'doc_count': 23, 'all_doc_count': 33}), (0.696, 'rick', {'mini_doc_count': 6, 'doc_count': 87, 'all_doc_count': 125}), (0.6956521739130435, 'andrew', {'mini_doc_count': 6, 'doc_count': 32, 'all_doc_count': 46}), (0.6923076923076923, 'poster', {'mini_doc_count': 12, 'doc_count': 18, 'all_doc_count': 26}), (0.6923076923076923, 'heartbeat', {'mini_doc_count': 6, 'doc_count': 18, 'all_doc_count': 26}), (0.6891891891891891, 'doug', {'mini_doc_count': 8, 'doc_count': 51, 'all_doc_count': 74}), (0.6842105263157895, 'oranges', {'mini_doc_count': 8, 'doc_count': 13, 'all_doc_count': 19}), (0.6842105263157895, 'symphony', {'mini_doc_count': 9, 'doc_count': 13, 'all_doc_count': 19}), (0.6842105263157895, 'jar', {'mini_doc_count': 12, 'doc_count': 13, 'all_doc_count': 19}), (0.6842105263157895, 'loans', {'mini_doc_count': 9, 'doc_count': 13, 'all_doc_count': 19}), (0.6842105263157895, 'terry', {'mini_doc_count': 13, 'doc_count': 78, 'all_doc_count': 114}), (0.6842105263157895, 'domestic', {'mini_doc_count': 11, 'doc_count': 13, 'all_doc_count': 19}), (0.6818181818181818, 'musician', {'mini_doc_count': 9, 'doc_count': 15, 'all_doc_count': 22}), (0.6818181818181818, 'broker', {'mini_doc_count': 8, 'doc_count': 15, 'all_doc_count': 22}), (0.6818181818181818, 'amendment', {'mini_doc_count': 9, 'doc_count': 15, 'all_doc_count': 22}), (0.6818181818181818, 'reel', {'mini_doc_count': 11, 'doc_count': 15, 'all_doc_count': 22}), (0.6818181818181818, 'muffin', {'mini_doc_count': 8, 'doc_count': 15, 'all_doc_count': 22}), (0.6818181818181818, 'wealthy', {'mini_doc_count': 13, 'doc_count': 15, 'all_doc_count': 22}), (0.6818181818181818, 'horns', {'mini_doc_count': 11, 'doc_count': 15, 'all_doc_count': 22}), (0.6818181818181818, 'beautifully', {'mini_doc_count': 13, 'doc_count': 15, 'all_doc_count': 22}), (0.68, 'filth', {'mini_doc_count': 11, 'doc_count': 17, 'all_doc_count': 25}), (0.6785714285714286, 'drinkin', {'mini_doc_count': 13, 'doc_count': 19, 'all_doc_count': 28}), (0.6785714285714286, 'therapist', {'mini_doc_count': 8, 'doc_count': 19, 'all_doc_count': 28}), (0.675, 'jackie', {'mini_doc_count': 11, 'doc_count': 81, 'all_doc_count': 120}), (0.6681127982646421, 'rose', {'mini_doc_count': 35, 'doc_count': 308, 'all_doc_count': 461}), (0.6666666666666666, 'longest', {'mini_doc_count': 12, 'doc_count': 16, 'all_doc_count': 24}), (0.6666666666666666, 'unemployment', {'mini_doc_count': 10, 'doc_count': 12, 'all_doc_count': 18}), (0.6666666666666666, 'reckon', {'mini_doc_count': 13, 'doc_count': 70, 'all_doc_count': 105}), (0.6666666666666666, 'freely', {'mini_doc_count': 11, 'doc_count': 12, 'all_doc_count': 18}), (0.6666666666666666, 'licked', {'mini_doc_count': 10, 'doc_count': 16, 'all_doc_count': 24}), (0.6666666666666666, 'grain', {'mini_doc_count': 10, 'doc_count': 14, 'all_doc_count': 21}), (0.6666666666666666, 'faking', {'mini_doc_count': 11, 'doc_count': 14, 'all_doc_count': 21}), (0.6666666666666666, 'plumbing', {'mini_doc_count': 8, 'doc_count': 14, 'all_doc_count': 21}), (0.6666666666666666, 'steering', {'mini_doc_count': 9, 'doc_count': 18, 'all_doc_count': 27}), (0.6666666666666666, 'carryin', {'mini_doc_count': 10, 'doc_count': 18, 'all_doc_count': 27}), (0.6666666666666666, 'celebrating', {'mini_doc_count': 11, 'doc_count': 12, 'all_doc_count': 18}), (0.6666666666666666, 'secretly', {'mini_doc_count': 12, 'doc_count': 12, 'all_doc_count': 18}), (0.6666666666666666, 'potatoes', {'mini_doc_count': 13, 'doc_count': 14, 'all_doc_count': 21}), (0.6666666666666666, 'whale', {'mini_doc_count': 7, 'doc_count': 22, 'all_doc_count': 33}), (0.6666666666666666, 'thoughtful', {'mini_doc_count': 12, 'doc_count': 14, 'all_doc_count': 21}), (0.6666666666666666, 'yer', {'mini_doc_count': 11, 'doc_count': 20, 'all_doc_count': 30}), (0.6666666666666666, 'roots', {'mini_doc_count': 10, 'doc_count': 12, 'all_doc_count': 18}), (0.6666666666666666, 'rushing', {'mini_doc_count': 10, 'doc_count': 12, 'all_doc_count': 18}), (0.6666666666666666, 'friggin', {'mini_doc_count': 8, 'doc_count': 16, 'all_doc_count': 24}), (0.6666666666666666, 'restless', {'mini_doc_count': 11, 'doc_count': 14, 'all_doc_count': 21}), (0.6666666666666666, 'rushed', {'mini_doc_count': 10, 'doc_count': 12, 'all_doc_count': 18}), (0.6666666666666666, 'paycheck', {'mini_doc_count': 8, 'doc_count': 14, 'all_doc_count': 21}), (0.6666666666666666, 'publish', {'mini_doc_count': 12, 'doc_count': 14, 'all_doc_count': 21})]\n",
      "[(0.8181818181818182, 'chess', {'mini_doc_count': 10, 'doc_count': 27, 'all_doc_count': 33}), (0.8095238095238095, 'dan', {'mini_doc_count': 8, 'doc_count': 34, 'all_doc_count': 42}), (0.8059701492537313, 'mason', {'mini_doc_count': 9, 'doc_count': 54, 'all_doc_count': 67}), (0.8048780487804879, 'sharks', {'mini_doc_count': 13, 'doc_count': 33, 'all_doc_count': 41}), (0.7829457364341085, 'shark', {'mini_doc_count': 8, 'doc_count': 101, 'all_doc_count': 129}), (0.7647058823529411, 'dodge', {'mini_doc_count': 6, 'doc_count': 26, 'all_doc_count': 34}), (0.7619047619047619, 'sandy', {'mini_doc_count': 7, 'doc_count': 48, 'all_doc_count': 63}), (0.7389162561576355, 'sid', {'mini_doc_count': 8, 'doc_count': 150, 'all_doc_count': 203}), (0.7, 'amuse', {'mini_doc_count': 10, 'doc_count': 14, 'all_doc_count': 20}), (0.6956521739130435, 'beaches', {'mini_doc_count': 7, 'doc_count': 16, 'all_doc_count': 23}), (0.6666666666666666, 'leo', {'mini_doc_count': 8, 'doc_count': 78, 'all_doc_count': 117}), (0.6585365853658537, 'eric', {'mini_doc_count': 8, 'doc_count': 54, 'all_doc_count': 82}), (0.65, 'magnum', {'mini_doc_count': 11, 'doc_count': 13, 'all_doc_count': 20}), (0.65, 'shades', {'mini_doc_count': 7, 'doc_count': 13, 'all_doc_count': 20}), (0.6470588235294118, 'blades', {'mini_doc_count': 8, 'doc_count': 11, 'all_doc_count': 17}), (0.6428571428571429, 'jeffrey', {'mini_doc_count': 6, 'doc_count': 126, 'all_doc_count': 196}), (0.631578947368421, 'knots', {'mini_doc_count': 8, 'doc_count': 12, 'all_doc_count': 19}), (0.6296296296296297, 'cellular', {'mini_doc_count': 8, 'doc_count': 17, 'all_doc_count': 27}), (0.625, 'passengers', {'mini_doc_count': 9, 'doc_count': 10, 'all_doc_count': 16}), (0.625, 'footprints', {'mini_doc_count': 9, 'doc_count': 10, 'all_doc_count': 16}), (0.625, 'lime', {'mini_doc_count': 6, 'doc_count': 25, 'all_doc_count': 40}), (0.6190476190476191, 'pup', {'mini_doc_count': 6, 'doc_count': 13, 'all_doc_count': 21}), (0.6111111111111112, 'unidentified', {'mini_doc_count': 10, 'doc_count': 11, 'all_doc_count': 18}), (0.6111111111111112, 'anyplace', {'mini_doc_count': 9, 'doc_count': 11, 'all_doc_count': 18}), (0.6111111111111112, 'tide', {'mini_doc_count': 10, 'doc_count': 22, 'all_doc_count': 36}), (0.6086956521739131, 'multiple', {'mini_doc_count': 12, 'doc_count': 14, 'all_doc_count': 23}), (0.6, 'organs', {'mini_doc_count': 9, 'doc_count': 9, 'all_doc_count': 15}), (0.6, 'shitload', {'mini_doc_count': 9, 'doc_count': 9, 'all_doc_count': 15}), (0.6, 'dusty', {'mini_doc_count': 6, 'doc_count': 9, 'all_doc_count': 15}), (0.6, 'ankles', {'mini_doc_count': 8, 'doc_count': 9, 'all_doc_count': 15}), (0.6, 'glow', {'mini_doc_count': 6, 'doc_count': 9, 'all_doc_count': 15}), (0.5952380952380952, 'eugene', {'mini_doc_count': 7, 'doc_count': 25, 'all_doc_count': 42}), (0.5882352941176471, 'radius', {'mini_doc_count': 9, 'doc_count': 10, 'all_doc_count': 17}), (0.5882352941176471, 'drugstore', {'mini_doc_count': 8, 'doc_count': 10, 'all_doc_count': 17}), (0.5882352941176471, 'infirmary', {'mini_doc_count': 7, 'doc_count': 10, 'all_doc_count': 17}), (0.5882352941176471, 'strangled', {'mini_doc_count': 9, 'doc_count': 10, 'all_doc_count': 17}), (0.5882352941176471, 'repeating', {'mini_doc_count': 10, 'doc_count': 10, 'all_doc_count': 17}), (0.5882352941176471, 'shipping', {'mini_doc_count': 7, 'doc_count': 10, 'all_doc_count': 17}), (0.5882352941176471, 'slaughtered', {'mini_doc_count': 8, 'doc_count': 10, 'all_doc_count': 17}), (0.5882352941176471, 'isolation', {'mini_doc_count': 8, 'doc_count': 10, 'all_doc_count': 17}), (0.5877862595419847, 'mitchell', {'mini_doc_count': 7, 'doc_count': 77, 'all_doc_count': 131}), (0.5833333333333334, 'rum', {'mini_doc_count': 8, 'doc_count': 21, 'all_doc_count': 36}), (0.5789473684210527, 'layer', {'mini_doc_count': 8, 'doc_count': 11, 'all_doc_count': 19}), (0.5789473684210527, 'sounding', {'mini_doc_count': 9, 'doc_count': 11, 'all_doc_count': 19}), (0.5789473684210527, 'remaining', {'mini_doc_count': 9, 'doc_count': 11, 'all_doc_count': 19}), (0.5714285714285714, 'wandered', {'mini_doc_count': 8, 'doc_count': 8, 'all_doc_count': 14}), (0.5714285714285714, 'jelly', {'mini_doc_count': 8, 'doc_count': 8, 'all_doc_count': 14}), (0.5714285714285714, 'infected', {'mini_doc_count': 8, 'doc_count': 16, 'all_doc_count': 28}), (0.5714285714285714, 'safest', {'mini_doc_count': 8, 'doc_count': 8, 'all_doc_count': 14}), (0.5714285714285714, '27', {'mini_doc_count': 8, 'doc_count': 8, 'all_doc_count': 14}), (0.5714285714285714, 'academic', {'mini_doc_count': 6, 'doc_count': 8, 'all_doc_count': 14}), (0.5714285714285714, 'grad', {'mini_doc_count': 7, 'doc_count': 8, 'all_doc_count': 14}), (0.5714285714285714, 'umbrella', {'mini_doc_count': 6, 'doc_count': 8, 'all_doc_count': 14}), (0.5714285714285714, 'dart', {'mini_doc_count': 8, 'doc_count': 8, 'all_doc_count': 14}), (0.5714285714285714, 'exploring', {'mini_doc_count': 7, 'doc_count': 8, 'all_doc_count': 14}), (0.5714285714285714, 'meaningless', {'mini_doc_count': 7, 'doc_count': 8, 'all_doc_count': 14}), (0.5714285714285714, 'hesitation', {'mini_doc_count': 8, 'doc_count': 8, 'all_doc_count': 14}), (0.5714285714285714, 'assignments', {'mini_doc_count': 7, 'doc_count': 8, 'all_doc_count': 14}), (0.5714285714285714, 'reasonably', {'mini_doc_count': 8, 'doc_count': 8, 'all_doc_count': 14}), (0.5652173913043478, 'brazil', {'mini_doc_count': 9, 'doc_count': 13, 'all_doc_count': 23}), (0.5652173913043478, 'predator', {'mini_doc_count': 9, 'doc_count': 13, 'all_doc_count': 23}), (0.5641025641025641, 'breeze', {'mini_doc_count': 8, 'doc_count': 22, 'all_doc_count': 39}), (0.5625, 'suicidal', {'mini_doc_count': 8, 'doc_count': 9, 'all_doc_count': 16}), (0.5625, 'selection', {'mini_doc_count': 8, 'doc_count': 9, 'all_doc_count': 16}), (0.5625, 'bled', {'mini_doc_count': 7, 'doc_count': 9, 'all_doc_count': 16}), (0.5625, 'ignored', {'mini_doc_count': 9, 'doc_count': 9, 'all_doc_count': 16}), (0.5625, 'spooked', {'mini_doc_count': 8, 'doc_count': 9, 'all_doc_count': 16}), (0.5625, 'untie', {'mini_doc_count': 7, 'doc_count': 9, 'all_doc_count': 16}), (0.5625, 'want</u', {'mini_doc_count': 8, 'doc_count': 9, 'all_doc_count': 16}), (0.5625, 'artificial', {'mini_doc_count': 8, 'doc_count': 9, 'all_doc_count': 16}), (0.5625, 'adapt', {'mini_doc_count': 8, 'doc_count': 9, 'all_doc_count': 16}), (0.56, 'prep', {'mini_doc_count': 9, 'doc_count': 14, 'all_doc_count': 25}), (0.5581395348837209, 'randy', {'mini_doc_count': 6, 'doc_count': 24, 'all_doc_count': 43}), (0.5576923076923077, 'neil', {'mini_doc_count': 6, 'doc_count': 29, 'all_doc_count': 52}), (0.5555555555555556, 'crude', {'mini_doc_count': 8, 'doc_count': 10, 'all_doc_count': 18}), (0.5555555555555556, 'remorse', {'mini_doc_count': 9, 'doc_count': 10, 'all_doc_count': 18}), (0.5555555555555556, 'disappearance', {'mini_doc_count': 7, 'doc_count': 15, 'all_doc_count': 27}), (0.5555555555555556, 'traces', {'mini_doc_count': 8, 'doc_count': 10, 'all_doc_count': 18}), (0.5555555555555556, 'spies', {'mini_doc_count': 6, 'doc_count': 10, 'all_doc_count': 18}), (0.5526315789473685, 'prey', {'mini_doc_count': 10, 'doc_count': 21, 'all_doc_count': 38}), (0.5510204081632653, 'sean', {'mini_doc_count': 7, 'doc_count': 54, 'all_doc_count': 98}), (0.5508474576271186, 'sidney', {'mini_doc_count': 6, 'doc_count': 65, 'all_doc_count': 118}), (0.55, 'eliminate', {'mini_doc_count': 11, 'doc_count': 11, 'all_doc_count': 20}), (0.55, '--the', {'mini_doc_count': 6, 'doc_count': 11, 'all_doc_count': 20}), (0.55, 'materials', {'mini_doc_count': 8, 'doc_count': 11, 'all_doc_count': 20}), (0.5486725663716814, 'lisa', {'mini_doc_count': 9, 'doc_count': 62, 'all_doc_count': 113}), (0.5481481481481482, 'rachel', {'mini_doc_count': 7, 'doc_count': 74, 'all_doc_count': 135}), (0.5454545454545454, 'specialty', {'mini_doc_count': 9, 'doc_count': 12, 'all_doc_count': 22}), (0.5454545454545454, 'aisle', {'mini_doc_count': 6, 'doc_count': 12, 'all_doc_count': 22}), (0.5454545454545454, 'shooter', {'mini_doc_count': 9, 'doc_count': 18, 'all_doc_count': 33}), (0.5416666666666666, 'era', {'mini_doc_count': 9, 'doc_count': 13, 'all_doc_count': 24}), (0.5405405405405406, 'memphis', {'mini_doc_count': 6, 'doc_count': 20, 'all_doc_count': 37}), (0.5384615384615384, 'pause', {'mini_doc_count': 6, 'doc_count': 7, 'all_doc_count': 13}), (0.5384615384615384, 'manpower', {'mini_doc_count': 7, 'doc_count': 7, 'all_doc_count': 13}), (0.5384615384615384, 'cables', {'mini_doc_count': 7, 'doc_count': 7, 'all_doc_count': 13}), (0.5384615384615384, 'reassure', {'mini_doc_count': 7, 'doc_count': 7, 'all_doc_count': 13}), (0.5384615384615384, 'grandchildren', {'mini_doc_count': 7, 'doc_count': 7, 'all_doc_count': 13}), (0.5384615384615384, 'knack', {'mini_doc_count': 6, 'doc_count': 7, 'all_doc_count': 13}), (0.5384615384615384, 'partially', {'mini_doc_count': 7, 'doc_count': 7, 'all_doc_count': 13}), (0.5384615384615384, 'monitored', {'mini_doc_count': 7, 'doc_count': 7, 'all_doc_count': 13})]\n",
      "[(0.7, 'dinosaur', {'mini_doc_count': 7, 'doc_count': 21, 'all_doc_count': 30}), (0.6666666666666666, 'breaker', {'mini_doc_count': 6, 'doc_count': 18, 'all_doc_count': 27}), (0.6, 'vomit', {'mini_doc_count': 9, 'doc_count': 24, 'all_doc_count': 40}), (0.6, 'accessed', {'mini_doc_count': 8, 'doc_count': 9, 'all_doc_count': 15}), (0.5789473684210527, 'treason', {'mini_doc_count': 7, 'doc_count': 11, 'all_doc_count': 19}), (0.5714285714285714, 'risking', {'mini_doc_count': 7, 'doc_count': 8, 'all_doc_count': 14}), (0.55, 'jonathan', {'mini_doc_count': 6, 'doc_count': 11, 'all_doc_count': 20}), (0.5384615384615384, 'calculate', {'mini_doc_count': 7, 'doc_count': 7, 'all_doc_count': 13}), (0.5384615384615384, 'surviving', {'mini_doc_count': 7, 'doc_count': 7, 'all_doc_count': 13}), (0.5357142857142857, 'iii', {'mini_doc_count': 7, 'doc_count': 15, 'all_doc_count': 28}), (0.5333333333333333, 'recruiting', {'mini_doc_count': 7, 'doc_count': 8, 'all_doc_count': 15}), (0.5294117647058824, 'increased', {'mini_doc_count': 7, 'doc_count': 9, 'all_doc_count': 17}), (0.5263157894736842, 'fighters', {'mini_doc_count': 6, 'doc_count': 10, 'all_doc_count': 19}), (0.52, 'disk', {'mini_doc_count': 7, 'doc_count': 13, 'all_doc_count': 25}), (0.5185185185185185, 'interpol', {'mini_doc_count': 8, 'doc_count': 14, 'all_doc_count': 27}), (0.5121951219512195, 'batman', {'mini_doc_count': 8, 'doc_count': 42, 'all_doc_count': 82}), (0.5100671140939598, 'superman', {'mini_doc_count': 7, 'doc_count': 76, 'all_doc_count': 149}), (0.5, 'a--', {'mini_doc_count': 6, 'doc_count': 7, 'all_doc_count': 14}), (0.5, 'extinct', {'mini_doc_count': 6, 'doc_count': 7, 'all_doc_count': 14}), (0.5, 'stranded', {'mini_doc_count': 6, 'doc_count': 8, 'all_doc_count': 16}), (0.5, 'processor', {'mini_doc_count': 6, 'doc_count': 8, 'all_doc_count': 16}), (0.5, 'toughest', {'mini_doc_count': 6, 'doc_count': 6, 'all_doc_count': 12}), (0.5, 'shipment', {'mini_doc_count': 6, 'doc_count': 8, 'all_doc_count': 16}), (0.5, 'decks', {'mini_doc_count': 6, 'doc_count': 6, 'all_doc_count': 12}), (0.5, 'analyzed', {'mini_doc_count': 6, 'doc_count': 6, 'all_doc_count': 12}), (0.5, 'shuttles', {'mini_doc_count': 6, 'doc_count': 6, 'all_doc_count': 12}), (0.5, 'honors', {'mini_doc_count': 6, 'doc_count': 6, 'all_doc_count': 12}), (0.5, 'riders', {'mini_doc_count': 6, 'doc_count': 8, 'all_doc_count': 16}), (0.5, 'neutralize', {'mini_doc_count': 6, 'doc_count': 6, 'all_doc_count': 12}), (0.5, 'volatile', {'mini_doc_count': 6, 'doc_count': 6, 'all_doc_count': 12}), (0.5, 'armored', {'mini_doc_count': 6, 'doc_count': 9, 'all_doc_count': 18}), (0.5, 'weighs', {'mini_doc_count': 6, 'doc_count': 6, 'all_doc_count': 12}), (0.5, 'unlimited', {'mini_doc_count': 6, 'doc_count': 7, 'all_doc_count': 14}), (0.5, 'op', {'mini_doc_count': 6, 'doc_count': 9, 'all_doc_count': 18}), (0.5, 'fortress', {'mini_doc_count': 8, 'doc_count': 29, 'all_doc_count': 58}), (0.5, 'marriages', {'mini_doc_count': 6, 'doc_count': 6, 'all_doc_count': 12}), (0.5, 'unrelated', {'mini_doc_count': 6, 'doc_count': 6, 'all_doc_count': 12}), (0.5, 'rely', {'mini_doc_count': 7, 'doc_count': 7, 'all_doc_count': 14}), (0.5, 'simulator', {'mini_doc_count': 7, 'doc_count': 9, 'all_doc_count': 18}), (0.5, 'underway', {'mini_doc_count': 6, 'doc_count': 7, 'all_doc_count': 14}), (0.4782608695652174, 'eagle', {'mini_doc_count': 6, 'doc_count': 11, 'all_doc_count': 23}), (0.47368421052631576, 'ambush', {'mini_doc_count': 7, 'doc_count': 9, 'all_doc_count': 19}), (0.47368421052631576, 'please</u', {'mini_doc_count': 7, 'doc_count': 9, 'all_doc_count': 19}), (0.47368421052631576, 'explorer', {'mini_doc_count': 6, 'doc_count': 9, 'all_doc_count': 19}), (0.47058823529411764, \"we've\", {'mini_doc_count': 6, 'doc_count': 8, 'all_doc_count': 17}), (0.47058823529411764, 'diplomatic', {'mini_doc_count': 6, 'doc_count': 8, 'all_doc_count': 17}), (0.47058823529411764, 'currency', {'mini_doc_count': 7, 'doc_count': 8, 'all_doc_count': 17}), (0.4666666666666667, 'contempt', {'mini_doc_count': 6, 'doc_count': 7, 'all_doc_count': 15}), (0.4666666666666667, 'bidding', {'mini_doc_count': 7, 'doc_count': 7, 'all_doc_count': 15}), (0.4666666666666667, 'motorcycle', {'mini_doc_count': 6, 'doc_count': 7, 'all_doc_count': 15}), (0.4666666666666667, 'cavalry', {'mini_doc_count': 7, 'doc_count': 7, 'all_doc_count': 15}), (0.46153846153846156, 'partially', {'mini_doc_count': 6, 'doc_count': 6, 'all_doc_count': 13}), (0.46153846153846156, 'barrels', {'mini_doc_count': 6, 'doc_count': 6, 'all_doc_count': 13}), (0.46153846153846156, 'monitored', {'mini_doc_count': 6, 'doc_count': 6, 'all_doc_count': 13}), (0.46153846153846156, 'hacking', {'mini_doc_count': 6, 'doc_count': 6, 'all_doc_count': 13}), (0.46153846153846156, 'playboy', {'mini_doc_count': 6, 'doc_count': 6, 'all_doc_count': 13}), (0.46153846153846156, 'stairwell', {'mini_doc_count': 6, 'doc_count': 6, 'all_doc_count': 13}), (0.45454545454545453, 'greed', {'mini_doc_count': 7, 'doc_count': 10, 'all_doc_count': 22}), (0.45, 'invade', {'mini_doc_count': 6, 'doc_count': 9, 'all_doc_count': 20}), (0.45, 'parker', {'mini_doc_count': 6, 'doc_count': 27, 'all_doc_count': 60}), (0.45, 'override', {'mini_doc_count': 6, 'doc_count': 9, 'all_doc_count': 20}), (0.4473684210526316, 'prey', {'mini_doc_count': 6, 'doc_count': 17, 'all_doc_count': 38}), (0.44, 'prep', {'mini_doc_count': 6, 'doc_count': 11, 'all_doc_count': 25}), (0.44, 'surge', {'mini_doc_count': 7, 'doc_count': 11, 'all_doc_count': 25}), (0.4375, 'truce', {'mini_doc_count': 6, 'doc_count': 7, 'all_doc_count': 16}), (0.43478260869565216, 'predator', {'mini_doc_count': 6, 'doc_count': 10, 'all_doc_count': 23}), (0.42857142857142855, 'dart', {'mini_doc_count': 6, 'doc_count': 6, 'all_doc_count': 14}), (0.42857142857142855, 'evolve', {'mini_doc_count': 6, 'doc_count': 6, 'all_doc_count': 14}), (0.42857142857142855, 'meaningless', {'mini_doc_count': 6, 'doc_count': 6, 'all_doc_count': 14}), (0.42857142857142855, 'assignments', {'mini_doc_count': 6, 'doc_count': 6, 'all_doc_count': 14}), (0.42857142857142855, 'formula', {'mini_doc_count': 6, 'doc_count': 6, 'all_doc_count': 14}), (0.42857142857142855, 'upside', {'mini_doc_count': 7, 'doc_count': 12, 'all_doc_count': 28}), (0.4166666666666667, 'quantum', {'mini_doc_count': 6, 'doc_count': 10, 'all_doc_count': 24}), (0.4117647058823529, 'radius', {'mini_doc_count': 7, 'doc_count': 7, 'all_doc_count': 17}), (0.4117647058823529, 'pilots', {'mini_doc_count': 7, 'doc_count': 21, 'all_doc_count': 51}), (0.4117647058823529, 'recovery', {'mini_doc_count': 6, 'doc_count': 7, 'all_doc_count': 17}), (0.4117647058823529, 'slaughtered', {'mini_doc_count': 6, 'doc_count': 7, 'all_doc_count': 17}), (0.4, 'races', {'mini_doc_count': 8, 'doc_count': 8, 'all_doc_count': 20}), (0.4, 'shipped', {'mini_doc_count': 6, 'doc_count': 6, 'all_doc_count': 15}), (0.4, 'organs', {'mini_doc_count': 6, 'doc_count': 6, 'all_doc_count': 15}), (0.4, 'dusty', {'mini_doc_count': 6, 'doc_count': 6, 'all_doc_count': 15}), (0.4, 'targets', {'mini_doc_count': 8, 'doc_count': 8, 'all_doc_count': 20}), (0.4, 'reset', {'mini_doc_count': 6, 'doc_count': 6, 'all_doc_count': 15}), (0.39285714285714285, 'puzzle', {'mini_doc_count': 7, 'doc_count': 11, 'all_doc_count': 28}), (0.391304347826087, 'gravitational', {'mini_doc_count': 6, 'doc_count': 9, 'all_doc_count': 23}), (0.391304347826087, 'carrier', {'mini_doc_count': 6, 'doc_count': 9, 'all_doc_count': 23}), (0.391304347826087, 'farther', {'mini_doc_count': 8, 'doc_count': 9, 'all_doc_count': 23}), (0.38461538461538464, 'evacuate', {'mini_doc_count': 10, 'doc_count': 10, 'all_doc_count': 26}), (0.38461538461538464, 'platform', {'mini_doc_count': 9, 'doc_count': 10, 'all_doc_count': 26}), (0.38095238095238093, 'feeds', {'mini_doc_count': 7, 'doc_count': 8, 'all_doc_count': 21}), (0.38095238095238093, 'satellites', {'mini_doc_count': 6, 'doc_count': 8, 'all_doc_count': 21}), (0.3793103448275862, 'mining', {'mini_doc_count': 8, 'doc_count': 11, 'all_doc_count': 29}), (0.375, 'funding', {'mini_doc_count': 7, 'doc_count': 9, 'all_doc_count': 24}), (0.375, 'billions', {'mini_doc_count': 9, 'doc_count': 9, 'all_doc_count': 24}), (0.375, 'heavily', {'mini_doc_count': 7, 'doc_count': 9, 'all_doc_count': 24}), (0.37037037037037035, 'cellular', {'mini_doc_count': 7, 'doc_count': 10, 'all_doc_count': 27}), (0.37037037037037035, 'trajectory', {'mini_doc_count': 8, 'doc_count': 10, 'all_doc_count': 27}), (0.3684210526315789, 'knots', {'mini_doc_count': 6, 'doc_count': 7, 'all_doc_count': 19}), (0.3684210526315789, 'reckless', {'mini_doc_count': 13, 'doc_count': 14, 'all_doc_count': 38}), (0.3684210526315789, 'confirmation', {'mini_doc_count': 7, 'doc_count': 7, 'all_doc_count': 19})]\n",
      "[(0.7530864197530864, 'janet', {'mini_doc_count': 6, 'doc_count': 61, 'all_doc_count': 81}), (0.75, 'hawk', {'mini_doc_count': 6, 'doc_count': 33, 'all_doc_count': 44}), (0.75, 'z', {'mini_doc_count': 6, 'doc_count': 27, 'all_doc_count': 36}), (0.7352941176470589, 'hoo', {'mini_doc_count': 12, 'doc_count': 25, 'all_doc_count': 34}), (0.7307692307692307, 'attic', {'mini_doc_count': 8, 'doc_count': 19, 'all_doc_count': 26}), (0.7241379310344828, 'bean', {'mini_doc_count': 9, 'doc_count': 21, 'all_doc_count': 29}), (0.7, 'choir', {'mini_doc_count': 8, 'doc_count': 21, 'all_doc_count': 30}), (0.6956521739130435, 'millionaire', {'mini_doc_count': 8, 'doc_count': 16, 'all_doc_count': 23}), (0.6521739130434783, 'dicks', {'mini_doc_count': 6, 'doc_count': 15, 'all_doc_count': 23}), (0.6521739130434783, 'banana', {'mini_doc_count': 10, 'doc_count': 15, 'all_doc_count': 23}), (0.65, 'supportive', {'mini_doc_count': 9, 'doc_count': 13, 'all_doc_count': 20}), (0.6381909547738693, 'harold', {'mini_doc_count': 7, 'doc_count': 127, 'all_doc_count': 199}), (0.6363636363636364, 'reunion', {'mini_doc_count': 8, 'doc_count': 21, 'all_doc_count': 33}), (0.631578947368421, 'the</u', {'mini_doc_count': 8, 'doc_count': 12, 'all_doc_count': 19}), (0.631578947368421, 'teenagers', {'mini_doc_count': 10, 'doc_count': 12, 'all_doc_count': 19}), (0.625, 'denver', {'mini_doc_count': 7, 'doc_count': 15, 'all_doc_count': 24}), (0.6176470588235294, \"you've\", {'mini_doc_count': 10, 'doc_count': 21, 'all_doc_count': 34}), (0.6111111111111112, 'cocktails', {'mini_doc_count': 8, 'doc_count': 11, 'all_doc_count': 18}), (0.6111111111111112, 'dumber', {'mini_doc_count': 8, 'doc_count': 11, 'all_doc_count': 18}), (0.6111111111111112, 'humiliating', {'mini_doc_count': 9, 'doc_count': 11, 'all_doc_count': 18}), (0.6086956521739131, 'snoop', {'mini_doc_count': 6, 'doc_count': 14, 'all_doc_count': 23}), (0.6052631578947368, 'brad', {'mini_doc_count': 9, 'doc_count': 92, 'all_doc_count': 152}), (0.6052631578947368, 'limo', {'mini_doc_count': 13, 'doc_count': 23, 'all_doc_count': 38}), (0.6, 'moonlight', {'mini_doc_count': 7, 'doc_count': 9, 'all_doc_count': 15}), (0.6, 'curve', {'mini_doc_count': 6, 'doc_count': 9, 'all_doc_count': 15}), (0.6, 'bra', {'mini_doc_count': 8, 'doc_count': 12, 'all_doc_count': 20}), (0.5961538461538461, 'stew', {'mini_doc_count': 8, 'doc_count': 31, 'all_doc_count': 52}), (0.5909090909090909, 'curtain', {'mini_doc_count': 9, 'doc_count': 13, 'all_doc_count': 22}), (0.5882352941176471, 'grandparents', {'mini_doc_count': 6, 'doc_count': 10, 'all_doc_count': 17}), (0.5882352941176471, 'cartoon', {'mini_doc_count': 8, 'doc_count': 10, 'all_doc_count': 17}), (0.5882352941176471, 'slash', {'mini_doc_count': 6, 'doc_count': 10, 'all_doc_count': 17}), (0.5789473684210527, 'perfection', {'mini_doc_count': 7, 'doc_count': 11, 'all_doc_count': 19}), (0.5769230769230769, \"he's\", {'mini_doc_count': 9, 'doc_count': 15, 'all_doc_count': 26}), (0.5769230769230769, 'homeless', {'mini_doc_count': 10, 'doc_count': 15, 'all_doc_count': 26}), (0.5714285714285714, \"you'll\", {'mini_doc_count': 7, 'doc_count': 8, 'all_doc_count': 14}), (0.5714285714285714, 's.', {'mini_doc_count': 10, 'doc_count': 12, 'all_doc_count': 21}), (0.5714285714285714, 'fiancee', {'mini_doc_count': 9, 'doc_count': 12, 'all_doc_count': 21}), (0.5714285714285714, 'teenage', {'mini_doc_count': 8, 'doc_count': 12, 'all_doc_count': 21}), (0.5714285714285714, 'kidneys', {'mini_doc_count': 6, 'doc_count': 8, 'all_doc_count': 14}), (0.5714285714285714, 'vanity', {'mini_doc_count': 6, 'doc_count': 8, 'all_doc_count': 14}), (0.5714285714285714, 'distraction', {'mini_doc_count': 7, 'doc_count': 8, 'all_doc_count': 14}), (0.5714285714285714, 'applied', {'mini_doc_count': 8, 'doc_count': 8, 'all_doc_count': 14}), (0.5652173913043478, 'sharing', {'mini_doc_count': 12, 'doc_count': 13, 'all_doc_count': 23}), (0.5625, 'cheeks', {'mini_doc_count': 9, 'doc_count': 9, 'all_doc_count': 16}), (0.5625, 'overrated', {'mini_doc_count': 7, 'doc_count': 9, 'all_doc_count': 16}), (0.5625, 'caller', {'mini_doc_count': 7, 'doc_count': 9, 'all_doc_count': 16}), (0.5625, 'sis', {'mini_doc_count': 7, 'doc_count': 9, 'all_doc_count': 16}), (0.5588235294117647, 'this</u', {'mini_doc_count': 8, 'doc_count': 19, 'all_doc_count': 34}), (0.55, 'cd', {'mini_doc_count': 7, 'doc_count': 11, 'all_doc_count': 20}), (0.55, 'lesbian', {'mini_doc_count': 9, 'doc_count': 11, 'all_doc_count': 20}), (0.5434782608695652, 'violin', {'mini_doc_count': 6, 'doc_count': 25, 'all_doc_count': 46}), (0.5416666666666666, 'jockey', {'mini_doc_count': 9, 'doc_count': 13, 'all_doc_count': 24}), (0.5384615384615384, 'raving', {'mini_doc_count': 6, 'doc_count': 7, 'all_doc_count': 13}), (0.5384615384615384, 'considerate', {'mini_doc_count': 6, 'doc_count': 7, 'all_doc_count': 13}), (0.5384615384615384, 'hitch', {'mini_doc_count': 6, 'doc_count': 7, 'all_doc_count': 13}), (0.5384615384615384, 'crab', {'mini_doc_count': 7, 'doc_count': 7, 'all_doc_count': 13}), (0.5384615384615384, 'glue', {'mini_doc_count': 6, 'doc_count': 7, 'all_doc_count': 13}), (0.5333333333333333, \"you're</u\", {'mini_doc_count': 6, 'doc_count': 8, 'all_doc_count': 15}), (0.5333333333333333, 'blunt', {'mini_doc_count': 7, 'doc_count': 8, 'all_doc_count': 15}), (0.5333333333333333, 'slower', {'mini_doc_count': 6, 'doc_count': 8, 'all_doc_count': 15}), (0.5333333333333333, 'bathing', {'mini_doc_count': 8, 'doc_count': 8, 'all_doc_count': 15}), (0.5333333333333333, 'wearin', {'mini_doc_count': 6, 'doc_count': 8, 'all_doc_count': 15}), (0.5294117647058824, 'trans', {'mini_doc_count': 6, 'doc_count': 9, 'all_doc_count': 17}), (0.5294117647058824, 'goddess', {'mini_doc_count': 7, 'doc_count': 9, 'all_doc_count': 17}), (0.5294117647058824, 'principal', {'mini_doc_count': 10, 'doc_count': 36, 'all_doc_count': 68}), (0.5294117647058824, 'grandson', {'mini_doc_count': 7, 'doc_count': 9, 'all_doc_count': 17}), (0.5294117647058824, 'blend', {'mini_doc_count': 7, 'doc_count': 9, 'all_doc_count': 17}), (0.5294117647058824, 'vegetable', {'mini_doc_count': 6, 'doc_count': 9, 'all_doc_count': 17}), (0.5263157894736842, 'ideal', {'mini_doc_count': 9, 'doc_count': 10, 'all_doc_count': 19}), (0.5263157894736842, 'yelled', {'mini_doc_count': 9, 'doc_count': 10, 'all_doc_count': 19}), (0.5263157894736842, 'harmony', {'mini_doc_count': 10, 'doc_count': 10, 'all_doc_count': 19}), (0.5263157894736842, 'cloak', {'mini_doc_count': 6, 'doc_count': 10, 'all_doc_count': 19}), (0.5238095238095238, 'pepper', {'mini_doc_count': 7, 'doc_count': 11, 'all_doc_count': 21}), (0.5217391304347826, 'here</u', {'mini_doc_count': 8, 'doc_count': 12, 'all_doc_count': 23}), (0.52, 'rehearsal', {'mini_doc_count': 9, 'doc_count': 13, 'all_doc_count': 25}), (0.5185185185185185, 'dork', {'mini_doc_count': 9, 'doc_count': 14, 'all_doc_count': 27}), (0.5185185185185185, 'interior', {'mini_doc_count': 7, 'doc_count': 14, 'all_doc_count': 27}), (0.5161290322580645, 'theme', {'mini_doc_count': 13, 'doc_count': 16, 'all_doc_count': 31}), (0.5128205128205128, 'schmuck', {'mini_doc_count': 9, 'doc_count': 20, 'all_doc_count': 39}), (0.5, 'extinct', {'mini_doc_count': 6, 'doc_count': 7, 'all_doc_count': 14}), (0.5, 'gonna', {'mini_doc_count': 10, 'doc_count': 12, 'all_doc_count': 24}), (0.5, 'workshop', {'mini_doc_count': 8, 'doc_count': 12, 'all_doc_count': 24}), (0.5, 'rests', {'mini_doc_count': 6, 'doc_count': 7, 'all_doc_count': 14}), (0.5, 'sap', {'mini_doc_count': 7, 'doc_count': 10, 'all_doc_count': 20}), (0.5, 'dyke', {'mini_doc_count': 7, 'doc_count': 7, 'all_doc_count': 14}), (0.5, 'carnival', {'mini_doc_count': 6, 'doc_count': 8, 'all_doc_count': 16}), (0.5, 'oops', {'mini_doc_count': 6, 'doc_count': 6, 'all_doc_count': 12}), (0.5, 'barf', {'mini_doc_count': 6, 'doc_count': 8, 'all_doc_count': 16}), (0.5, 'abraham', {'mini_doc_count': 6, 'doc_count': 6, 'all_doc_count': 12}), (0.5, 'napoleon', {'mini_doc_count': 6, 'doc_count': 7, 'all_doc_count': 14}), (0.5, 'scholarship', {'mini_doc_count': 6, 'doc_count': 8, 'all_doc_count': 16}), (0.5, 'in</u', {'mini_doc_count': 6, 'doc_count': 9, 'all_doc_count': 18}), (0.5, 'spitting', {'mini_doc_count': 7, 'doc_count': 8, 'all_doc_count': 16}), (0.5, 'saves', {'mini_doc_count': 8, 'doc_count': 10, 'all_doc_count': 20}), (0.5, 'variety', {'mini_doc_count': 9, 'doc_count': 11, 'all_doc_count': 22}), (0.5, 'portable', {'mini_doc_count': 6, 'doc_count': 7, 'all_doc_count': 14}), (0.5, 'remark', {'mini_doc_count': 7, 'doc_count': 7, 'all_doc_count': 14}), (0.5, 'forgets', {'mini_doc_count': 7, 'doc_count': 7, 'all_doc_count': 14}), (0.5, 'instantly', {'mini_doc_count': 6, 'doc_count': 7, 'all_doc_count': 14}), (0.5, 'bakery', {'mini_doc_count': 7, 'doc_count': 8, 'all_doc_count': 16})]\n",
      "[(0.6935483870967742, 'nun', {'mini_doc_count': 7, 'doc_count': 43, 'all_doc_count': 62}), (0.6470588235294118, 'bonds', {'mini_doc_count': 7, 'doc_count': 22, 'all_doc_count': 34}), (0.625, 'bark', {'mini_doc_count': 6, 'doc_count': 10, 'all_doc_count': 16}), (0.625, 'semen', {'mini_doc_count': 6, 'doc_count': 10, 'all_doc_count': 16}), (0.5714285714285714, 'gallery', {'mini_doc_count': 7, 'doc_count': 8, 'all_doc_count': 14}), (0.5625, 'scumbags', {'mini_doc_count': 9, 'doc_count': 9, 'all_doc_count': 16}), (0.5625, 'smokin', {'mini_doc_count': 7, 'doc_count': 9, 'all_doc_count': 16}), (0.56, 'warriors', {'mini_doc_count': 6, 'doc_count': 14, 'all_doc_count': 25}), (0.5454545454545454, 'punks', {'mini_doc_count': 9, 'doc_count': 12, 'all_doc_count': 22}), (0.5333333333333333, 'syndicate', {'mini_doc_count': 7, 'doc_count': 8, 'all_doc_count': 15}), (0.5333333333333333, 'motorcycle', {'mini_doc_count': 7, 'doc_count': 8, 'all_doc_count': 15}), (0.5294117647058824, 'swat', {'mini_doc_count': 9, 'doc_count': 18, 'all_doc_count': 34}), (0.5238095238095238, 'fugitive', {'mini_doc_count': 9, 'doc_count': 11, 'all_doc_count': 21}), (0.52, 'jag', {'mini_doc_count': 8, 'doc_count': 13, 'all_doc_count': 25}), (0.5057471264367817, 'israel', {'mini_doc_count': 7, 'doc_count': 44, 'all_doc_count': 87}), (0.5, 'botched', {'mini_doc_count': 6, 'doc_count': 6, 'all_doc_count': 12}), (0.5, 'finder', {'mini_doc_count': 7, 'doc_count': 12, 'all_doc_count': 24}), (0.5, 'sentenced', {'mini_doc_count': 6, 'doc_count': 6, 'all_doc_count': 12}), (0.5, 'nada', {'mini_doc_count': 7, 'doc_count': 7, 'all_doc_count': 14}), (0.5, 'shits', {'mini_doc_count': 7, 'doc_count': 7, 'all_doc_count': 14}), (0.5, 'hitman', {'mini_doc_count': 6, 'doc_count': 9, 'all_doc_count': 18}), (0.5, 'runner', {'mini_doc_count': 7, 'doc_count': 7, 'all_doc_count': 14}), (0.5, 'rookie', {'mini_doc_count': 6, 'doc_count': 6, 'all_doc_count': 12}), (0.5, 'dickhead', {'mini_doc_count': 9, 'doc_count': 10, 'all_doc_count': 20}), (0.5, 'juarez', {'mini_doc_count': 6, 'doc_count': 12, 'all_doc_count': 24}), (0.5, 'tours', {'mini_doc_count': 7, 'doc_count': 9, 'all_doc_count': 18}), (0.5, 'p.o.', {'mini_doc_count': 6, 'doc_count': 6, 'all_doc_count': 12}), (0.5, 'chickenshit', {'mini_doc_count': 7, 'doc_count': 9, 'all_doc_count': 18}), (0.5, 'paso', {'mini_doc_count': 7, 'doc_count': 20, 'all_doc_count': 40}), (0.5, 'urban', {'mini_doc_count': 6, 'doc_count': 7, 'all_doc_count': 14}), (0.5, 'assets', {'mini_doc_count': 6, 'doc_count': 9, 'all_doc_count': 18}), (0.5, 'loads', {'mini_doc_count': 7, 'doc_count': 18, 'all_doc_count': 36}), (0.5, 'overdue', {'mini_doc_count': 6, 'doc_count': 6, 'all_doc_count': 12}), (0.4878048780487805, 'batman', {'mini_doc_count': 7, 'doc_count': 40, 'all_doc_count': 82}), (0.4838709677419355, 'bacon', {'mini_doc_count': 6, 'doc_count': 15, 'all_doc_count': 31}), (0.47619047619047616, 'mercedes', {'mini_doc_count': 7, 'doc_count': 10, 'all_doc_count': 21}), (0.47619047619047616, 'alarms', {'mini_doc_count': 6, 'doc_count': 10, 'all_doc_count': 21}), (0.475, 'crawford', {'mini_doc_count': 6, 'doc_count': 38, 'all_doc_count': 80}), (0.47368421052631576, 'buyer', {'mini_doc_count': 7, 'doc_count': 9, 'all_doc_count': 19}), (0.47368421052631576, 'bustin', {'mini_doc_count': 7, 'doc_count': 9, 'all_doc_count': 19}), (0.47058823529411764, 'trans', {'mini_doc_count': 6, 'doc_count': 8, 'all_doc_count': 17}), (0.47058823529411764, 'stash', {'mini_doc_count': 7, 'doc_count': 8, 'all_doc_count': 17}), (0.4666666666666667, 'peek', {'mini_doc_count': 6, 'doc_count': 7, 'all_doc_count': 15}), (0.4666666666666667, 'bodyguards', {'mini_doc_count': 6, 'doc_count': 7, 'all_doc_count': 15}), (0.4666666666666667, '72', {'mini_doc_count': 7, 'doc_count': 7, 'all_doc_count': 15}), (0.4666666666666667, 'cries', {'mini_doc_count': 6, 'doc_count': 7, 'all_doc_count': 15}), (0.4666666666666667, 'draws', {'mini_doc_count': 6, 'doc_count': 7, 'all_doc_count': 15}), (0.4642857142857143, 'nevada', {'mini_doc_count': 7, 'doc_count': 13, 'all_doc_count': 28}), (0.46153846153846156, 'optimistic', {'mini_doc_count': 6, 'doc_count': 6, 'all_doc_count': 13}), (0.46153846153846156, 'doubles', {'mini_doc_count': 6, 'doc_count': 6, 'all_doc_count': 13}), (0.46153846153846156, 'handcuffed', {'mini_doc_count': 6, 'doc_count': 6, 'all_doc_count': 13}), (0.45454545454545453, 'eatin', {'mini_doc_count': 9, 'doc_count': 15, 'all_doc_count': 33}), (0.45161290322580644, 'ram', {'mini_doc_count': 6, 'doc_count': 14, 'all_doc_count': 31}), (0.45, 'pigeon', {'mini_doc_count': 6, 'doc_count': 9, 'all_doc_count': 20}), (0.45, 'standin', {'mini_doc_count': 8, 'doc_count': 9, 'all_doc_count': 20}), (0.4489795918367347, 'briefcase', {'mini_doc_count': 11, 'doc_count': 22, 'all_doc_count': 49}), (0.4482758620689655, 'marijuana', {'mini_doc_count': 6, 'doc_count': 13, 'all_doc_count': 29}), (0.43478260869565216, 'brazil', {'mini_doc_count': 6, 'doc_count': 10, 'all_doc_count': 23}), (0.42857142857142855, 'vanity', {'mini_doc_count': 6, 'doc_count': 6, 'all_doc_count': 14}), (0.42857142857142855, 'hesitation', {'mini_doc_count': 6, 'doc_count': 6, 'all_doc_count': 14}), (0.42105263157894735, 'sounding', {'mini_doc_count': 7, 'doc_count': 8, 'all_doc_count': 19}), (0.4166666666666667, 'del', {'mini_doc_count': 9, 'doc_count': 50, 'all_doc_count': 120}), (0.41379310344827586, 'sicily', {'mini_doc_count': 6, 'doc_count': 12, 'all_doc_count': 29}), (0.4117647058823529, 'elephants', {'mini_doc_count': 7, 'doc_count': 7, 'all_doc_count': 17}), (0.4117647058823529, 'denying', {'mini_doc_count': 6, 'doc_count': 7, 'all_doc_count': 17}), (0.4117647058823529, 'gangster', {'mini_doc_count': 6, 'doc_count': 7, 'all_doc_count': 17}), (0.4117647058823529, 'ashes', {'mini_doc_count': 6, 'doc_count': 7, 'all_doc_count': 17}), (0.4025157232704403, 'diego', {'mini_doc_count': 8, 'doc_count': 64, 'all_doc_count': 159}), (0.40076335877862596, 'sonny', {'mini_doc_count': 13, 'doc_count': 105, 'all_doc_count': 262}), (0.4, 'witty', {'mini_doc_count': 7, 'doc_count': 8, 'all_doc_count': 20}), (0.4, 'cheaper', {'mini_doc_count': 6, 'doc_count': 6, 'all_doc_count': 15}), (0.4, 'ankles', {'mini_doc_count': 6, 'doc_count': 6, 'all_doc_count': 15}), (0.4, 'posted', {'mini_doc_count': 9, 'doc_count': 10, 'all_doc_count': 25}), (0.39622641509433965, 'snuff', {'mini_doc_count': 7, 'doc_count': 21, 'all_doc_count': 53}), (0.3939393939393939, 'legit', {'mini_doc_count': 9, 'doc_count': 13, 'all_doc_count': 33}), (0.391304347826087, 'multiple', {'mini_doc_count': 8, 'doc_count': 9, 'all_doc_count': 23}), (0.3902439024390244, 'atlanta', {'mini_doc_count': 7, 'doc_count': 16, 'all_doc_count': 41}), (0.3870967741935484, 'informant', {'mini_doc_count': 7, 'doc_count': 12, 'all_doc_count': 31}), (0.38461538461538464, 'dea', {'mini_doc_count': 8, 'doc_count': 15, 'all_doc_count': 39}), (0.38421052631578945, 'casino', {'mini_doc_count': 13, 'doc_count': 73, 'all_doc_count': 190}), (0.3829787234042553, 'kilos', {'mini_doc_count': 8, 'doc_count': 18, 'all_doc_count': 47}), (0.38181818181818183, 'bosses', {'mini_doc_count': 8, 'doc_count': 21, 'all_doc_count': 55}), (0.38095238095238093, 'italians', {'mini_doc_count': 6, 'doc_count': 8, 'all_doc_count': 21}), (0.375, 'dealin', {'mini_doc_count': 7, 'doc_count': 9, 'all_doc_count': 24}), (0.375, 'pretended', {'mini_doc_count': 6, 'doc_count': 6, 'all_doc_count': 16}), (0.375, 'mirrors', {'mini_doc_count': 6, 'doc_count': 12, 'all_doc_count': 32}), (0.37209302325581395, 'alabama', {'mini_doc_count': 7, 'doc_count': 16, 'all_doc_count': 43}), (0.36363636363636365, 'allowance', {'mini_doc_count': 6, 'doc_count': 8, 'all_doc_count': 22}), (0.3611111111111111, 'payin', {'mini_doc_count': 11, 'doc_count': 13, 'all_doc_count': 36}), (0.3611111111111111, 'kitty', {'mini_doc_count': 6, 'doc_count': 13, 'all_doc_count': 36}), (0.36, 'o.', {'mini_doc_count': 9, 'doc_count': 9, 'all_doc_count': 25}), (0.36, 'registration', {'mini_doc_count': 8, 'doc_count': 9, 'all_doc_count': 25}), (0.36, \"more'n\", {'mini_doc_count': 6, 'doc_count': 18, 'all_doc_count': 50}), (0.35714285714285715, 'purchase', {'mini_doc_count': 9, 'doc_count': 10, 'all_doc_count': 28}), (0.3548387096774194, 'unlock', {'mini_doc_count': 9, 'doc_count': 11, 'all_doc_count': 31}), (0.35454545454545455, 'parole', {'mini_doc_count': 18, 'doc_count': 39, 'all_doc_count': 110}), (0.35294117647058826, 'supporting', {'mini_doc_count': 6, 'doc_count': 6, 'all_doc_count': 17}), (0.35294117647058826, 'startin', {'mini_doc_count': 7, 'doc_count': 12, 'all_doc_count': 34}), (0.3508771929824561, 'dealers', {'mini_doc_count': 14, 'doc_count': 20, 'all_doc_count': 57}), (0.35, 'beatin', {'mini_doc_count': 6, 'doc_count': 7, 'all_doc_count': 20})]\n",
      "[(0.6666666666666666, 'stewart', {'mini_doc_count': 7, 'doc_count': 22, 'all_doc_count': 33}), (0.6363636363636364, 'valet', {'mini_doc_count': 9, 'doc_count': 14, 'all_doc_count': 22}), (0.6086956521739131, 'hum', {'mini_doc_count': 6, 'doc_count': 14, 'all_doc_count': 23}), (0.5882352941176471, 'sweeter', {'mini_doc_count': 9, 'doc_count': 10, 'all_doc_count': 17}), (0.5714285714285714, 'rubbed', {'mini_doc_count': 7, 'doc_count': 8, 'all_doc_count': 14}), (0.5714285714285714, 'bulls', {'mini_doc_count': 7, 'doc_count': 8, 'all_doc_count': 14}), (0.5666666666666667, 'whisper', {'mini_doc_count': 6, 'doc_count': 17, 'all_doc_count': 30}), (0.5625, 'knot', {'mini_doc_count': 9, 'doc_count': 9, 'all_doc_count': 16}), (0.5625, 'poke', {'mini_doc_count': 8, 'doc_count': 9, 'all_doc_count': 16}), (0.5555555555555556, 'hound', {'mini_doc_count': 8, 'doc_count': 15, 'all_doc_count': 27}), (0.5526315789473685, 'ernie', {'mini_doc_count': 6, 'doc_count': 21, 'all_doc_count': 38}), (0.5384615384615384, 'morons', {'mini_doc_count': 7, 'doc_count': 7, 'all_doc_count': 13}), (0.5294117647058824, 'supposing', {'mini_doc_count': 7, 'doc_count': 9, 'all_doc_count': 17}), (0.5294117647058824, 'paste', {'mini_doc_count': 7, 'doc_count': 9, 'all_doc_count': 17}), (0.5151515151515151, 'spider', {'mini_doc_count': 6, 'doc_count': 17, 'all_doc_count': 33}), (0.5, 'judy', {'mini_doc_count': 7, 'doc_count': 38, 'all_doc_count': 76}), (0.5, 'balcony', {'mini_doc_count': 8, 'doc_count': 9, 'all_doc_count': 18}), (0.5, 'shook', {'mini_doc_count': 7, 'doc_count': 7, 'all_doc_count': 14}), (0.5, 'comb', {'mini_doc_count': 6, 'doc_count': 8, 'all_doc_count': 16}), (0.5, 'boulevard', {'mini_doc_count': 6, 'doc_count': 10, 'all_doc_count': 20}), (0.5, 'spice', {'mini_doc_count': 6, 'doc_count': 8, 'all_doc_count': 16}), (0.5, 'stag', {'mini_doc_count': 6, 'doc_count': 7, 'all_doc_count': 14}), (0.5, 'punishing', {'mini_doc_count': 6, 'doc_count': 7, 'all_doc_count': 14}), (0.4782608695652174, 'wells', {'mini_doc_count': 7, 'doc_count': 22, 'all_doc_count': 46}), (0.47619047619047616, 'pepper', {'mini_doc_count': 7, 'doc_count': 10, 'all_doc_count': 21}), (0.47619047619047616, 'saloon', {'mini_doc_count': 7, 'doc_count': 10, 'all_doc_count': 21}), (0.47058823529411764, 'import', {'mini_doc_count': 6, 'doc_count': 8, 'all_doc_count': 17}), (0.47058823529411764, 'goddess', {'mini_doc_count': 6, 'doc_count': 8, 'all_doc_count': 17}), (0.47058823529411764, 'guardian', {'mini_doc_count': 6, 'doc_count': 8, 'all_doc_count': 17}), (0.4666666666666667, 'bathing', {'mini_doc_count': 7, 'doc_count': 7, 'all_doc_count': 15}), (0.4666666666666667, 'sensible', {'mini_doc_count': 6, 'doc_count': 7, 'all_doc_count': 15}), (0.4666666666666667, 'unpredictable', {'mini_doc_count': 6, 'doc_count': 7, 'all_doc_count': 15}), (0.4666666666666667, 'maids', {'mini_doc_count': 7, 'doc_count': 7, 'all_doc_count': 15}), (0.46153846153846156, 'tends', {'mini_doc_count': 6, 'doc_count': 6, 'all_doc_count': 13}), (0.46153846153846156, 'crab', {'mini_doc_count': 6, 'doc_count': 6, 'all_doc_count': 13}), (0.46153846153846156, 'transaction', {'mini_doc_count': 6, 'doc_count': 6, 'all_doc_count': 13}), (0.46153846153846156, 'strangely', {'mini_doc_count': 6, 'doc_count': 6, 'all_doc_count': 13}), (0.45901639344262296, 'elaine', {'mini_doc_count': 7, 'doc_count': 84, 'all_doc_count': 183}), (0.45, 'adopt', {'mini_doc_count': 7, 'doc_count': 9, 'all_doc_count': 20}), (0.4444444444444444, 'peach', {'mini_doc_count': 6, 'doc_count': 8, 'all_doc_count': 18}), (0.4444444444444444, 'scrambled', {'mini_doc_count': 6, 'doc_count': 8, 'all_doc_count': 18}), (0.4375, 'overboard', {'mini_doc_count': 6, 'doc_count': 7, 'all_doc_count': 16}), (0.4375, 'sleeve', {'mini_doc_count': 7, 'doc_count': 7, 'all_doc_count': 16}), (0.4375, 'worthwhile', {'mini_doc_count': 6, 'doc_count': 7, 'all_doc_count': 16}), (0.4375, 'dine', {'mini_doc_count': 6, 'doc_count': 7, 'all_doc_count': 16}), (0.4375, 'expects', {'mini_doc_count': 7, 'doc_count': 7, 'all_doc_count': 16}), (0.4375, 'betrayal', {'mini_doc_count': 7, 'doc_count': 7, 'all_doc_count': 16}), (0.43333333333333335, 'trousers', {'mini_doc_count': 7, 'doc_count': 13, 'all_doc_count': 30}), (0.43157894736842106, 'sailor', {'mini_doc_count': 6, 'doc_count': 82, 'all_doc_count': 190}), (0.42857142857142855, 's.', {'mini_doc_count': 6, 'doc_count': 9, 'all_doc_count': 21}), (0.42857142857142855, 'fiancee', {'mini_doc_count': 6, 'doc_count': 9, 'all_doc_count': 21}), (0.42857142857142855, 'humiliation', {'mini_doc_count': 6, 'doc_count': 6, 'all_doc_count': 14}), (0.42857142857142855, 'wits', {'mini_doc_count': 6, 'doc_count': 6, 'all_doc_count': 14}), (0.42857142857142855, 'reasonably', {'mini_doc_count': 6, 'doc_count': 6, 'all_doc_count': 14}), (0.4230769230769231, 'organ', {'mini_doc_count': 8, 'doc_count': 11, 'all_doc_count': 26}), (0.42105263157894735, 'literary', {'mini_doc_count': 6, 'doc_count': 8, 'all_doc_count': 19}), (0.42105263157894735, 'visited', {'mini_doc_count': 7, 'doc_count': 8, 'all_doc_count': 19}), (0.42105263157894735, 'no--', {'mini_doc_count': 6, 'doc_count': 8, 'all_doc_count': 19}), (0.42105263157894735, 'pier', {'mini_doc_count': 6, 'doc_count': 8, 'all_doc_count': 19}), (0.42105263157894735, 'discouraged', {'mini_doc_count': 8, 'doc_count': 8, 'all_doc_count': 19}), (0.4117647058823529, 'inspire', {'mini_doc_count': 7, 'doc_count': 7, 'all_doc_count': 17}), (0.4117647058823529, 'suffocating', {'mini_doc_count': 6, 'doc_count': 7, 'all_doc_count': 17}), (0.4090909090909091, 'telegrams', {'mini_doc_count': 8, 'doc_count': 9, 'all_doc_count': 22}), (0.4074074074074074, 'gown', {'mini_doc_count': 9, 'doc_count': 11, 'all_doc_count': 27}), (0.4, 'moonlight', {'mini_doc_count': 6, 'doc_count': 6, 'all_doc_count': 15}), (0.4, 'stayin', {'mini_doc_count': 6, 'doc_count': 12, 'all_doc_count': 30}), (0.4, 'hay', {'mini_doc_count': 6, 'doc_count': 10, 'all_doc_count': 25}), (0.4, 'morality', {'mini_doc_count': 6, 'doc_count': 6, 'all_doc_count': 15}), (0.4, 'despair', {'mini_doc_count': 9, 'doc_count': 10, 'all_doc_count': 25}), (0.4, 'rusty', {'mini_doc_count': 7, 'doc_count': 10, 'all_doc_count': 25}), (0.4, 'invent', {'mini_doc_count': 6, 'doc_count': 8, 'all_doc_count': 20}), (0.4, 'resolve', {'mini_doc_count': 6, 'doc_count': 6, 'all_doc_count': 15}), (0.39622641509433965, 'visa', {'mini_doc_count': 6, 'doc_count': 21, 'all_doc_count': 53}), (0.3953488372093023, 'farewell', {'mini_doc_count': 8, 'doc_count': 17, 'all_doc_count': 43}), (0.39285714285714285, 'maiden', {'mini_doc_count': 6, 'doc_count': 11, 'all_doc_count': 28}), (0.3888888888888889, 'cocktails', {'mini_doc_count': 6, 'doc_count': 7, 'all_doc_count': 18}), (0.3880597014925373, 'madame', {'mini_doc_count': 11, 'doc_count': 78, 'all_doc_count': 201}), (0.3783783783783784, 'sock', {'mini_doc_count': 6, 'doc_count': 14, 'all_doc_count': 37}), (0.3783783783783784, 'smash', {'mini_doc_count': 8, 'doc_count': 14, 'all_doc_count': 37}), (0.375, 'screening', {'mini_doc_count': 6, 'doc_count': 6, 'all_doc_count': 16}), (0.375, 'restaurants', {'mini_doc_count': 6, 'doc_count': 6, 'all_doc_count': 16}), (0.37058823529411766, 'romeo', {'mini_doc_count': 8, 'doc_count': 63, 'all_doc_count': 170}), (0.37037037037037035, 'pasta', {'mini_doc_count': 7, 'doc_count': 10, 'all_doc_count': 27}), (0.37037037037037035, 'dee', {'mini_doc_count': 6, 'doc_count': 10, 'all_doc_count': 27}), (0.36879432624113473, 'thy', {'mini_doc_count': 6, 'doc_count': 52, 'all_doc_count': 141}), (0.3684210526315789, 'hilarious', {'mini_doc_count': 6, 'doc_count': 7, 'all_doc_count': 19}), (0.3684210526315789, 'forgiven', {'mini_doc_count': 7, 'doc_count': 7, 'all_doc_count': 19}), (0.36363636363636365, 'yonder', {'mini_doc_count': 6, 'doc_count': 8, 'all_doc_count': 22}), (0.36363636363636365, 'teaches', {'mini_doc_count': 7, 'doc_count': 8, 'all_doc_count': 22}), (0.36363636363636365, 'champion', {'mini_doc_count': 9, 'doc_count': 28, 'all_doc_count': 77}), (0.36, 'touchy', {'mini_doc_count': 7, 'doc_count': 9, 'all_doc_count': 25}), (0.3583617747440273, 'thou', {'mini_doc_count': 8, 'doc_count': 105, 'all_doc_count': 293}), (0.35714285714285715, 'monsieur', {'mini_doc_count': 11, 'doc_count': 65, 'all_doc_count': 182}), (0.35714285714285715, 'humiliated', {'mini_doc_count': 9, 'doc_count': 10, 'all_doc_count': 28}), (0.35714285714285715, 'candles', {'mini_doc_count': 8, 'doc_count': 10, 'all_doc_count': 28}), (0.35714285714285715, 'lend', {'mini_doc_count': 6, 'doc_count': 10, 'all_doc_count': 28}), (0.35294117647058826, 'dances', {'mini_doc_count': 6, 'doc_count': 6, 'all_doc_count': 17}), (0.35294117647058826, 'elbows', {'mini_doc_count': 6, 'doc_count': 6, 'all_doc_count': 17}), (0.352, 'madam', {'mini_doc_count': 10, 'doc_count': 44, 'all_doc_count': 125}), (0.35, 'barbecue', {'mini_doc_count': 6, 'doc_count': 7, 'all_doc_count': 20})]\n",
      "[(0.6666666666666666, 'thrusters', {'mini_doc_count': 10, 'doc_count': 24, 'all_doc_count': 36}), (0.6470588235294118, 'consciousness', {'mini_doc_count': 7, 'doc_count': 11, 'all_doc_count': 17}), (0.6086956521739131, 'gravitational', {'mini_doc_count': 8, 'doc_count': 14, 'all_doc_count': 23}), (0.603448275862069, 'mars', {'mini_doc_count': 6, 'doc_count': 35, 'all_doc_count': 58}), (0.6, 'reset', {'mini_doc_count': 7, 'doc_count': 9, 'all_doc_count': 15}), (0.5833333333333334, 'quantum', {'mini_doc_count': 8, 'doc_count': 14, 'all_doc_count': 24}), (0.5714285714285714, 'tractor', {'mini_doc_count': 6, 'doc_count': 12, 'all_doc_count': 21}), (0.5714285714285714, 'transmit', {'mini_doc_count': 8, 'doc_count': 16, 'all_doc_count': 28}), (0.5714285714285714, 'evolve', {'mini_doc_count': 8, 'doc_count': 8, 'all_doc_count': 14}), (0.5625, 'reply', {'mini_doc_count': 9, 'doc_count': 9, 'all_doc_count': 16}), (0.56, 'activated', {'mini_doc_count': 9, 'doc_count': 14, 'all_doc_count': 25}), (0.56, 'surge', {'mini_doc_count': 8, 'doc_count': 14, 'all_doc_count': 25}), (0.5517241379310345, 'organism', {'mini_doc_count': 9, 'doc_count': 16, 'all_doc_count': 29}), (0.5510204081632653, 'luc', {'mini_doc_count': 7, 'doc_count': 27, 'all_doc_count': 49}), (0.55, 'override', {'mini_doc_count': 9, 'doc_count': 11, 'all_doc_count': 20}), (0.5454545454545454, 'creates', {'mini_doc_count': 7, 'doc_count': 12, 'all_doc_count': 22}), (0.5454545454545454, 'hull', {'mini_doc_count': 7, 'doc_count': 18, 'all_doc_count': 33}), (0.5384615384615384, 'rays', {'mini_doc_count': 6, 'doc_count': 7, 'all_doc_count': 13}), (0.5333333333333333, 'objects', {'mini_doc_count': 7, 'doc_count': 8, 'all_doc_count': 15}), (0.5263157894736842, 'functioning', {'mini_doc_count': 8, 'doc_count': 10, 'all_doc_count': 19}), (0.5263157894736842, 'explorer', {'mini_doc_count': 7, 'doc_count': 10, 'all_doc_count': 19}), (0.52, 'quarantine', {'mini_doc_count': 9, 'doc_count': 13, 'all_doc_count': 25}), (0.5, 'biological', {'mini_doc_count': 6, 'doc_count': 7, 'all_doc_count': 14}), (0.5, 'ticking', {'mini_doc_count': 7, 'doc_count': 7, 'all_doc_count': 14}), (0.5, 'minimal', {'mini_doc_count': 6, 'doc_count': 8, 'all_doc_count': 16}), (0.5, 'shuttles', {'mini_doc_count': 6, 'doc_count': 6, 'all_doc_count': 12}), (0.5, 'apparent', {'mini_doc_count': 6, 'doc_count': 7, 'all_doc_count': 14}), (0.5, 'scanning', {'mini_doc_count': 6, 'doc_count': 7, 'all_doc_count': 14}), (0.5, 'theoretically', {'mini_doc_count': 6, 'doc_count': 8, 'all_doc_count': 16}), (0.5, 'cerebral', {'mini_doc_count': 6, 'doc_count': 6, 'all_doc_count': 12}), (0.5, 'recommendations', {'mini_doc_count': 6, 'doc_count': 7, 'all_doc_count': 14}), (0.5, 'experiencing', {'mini_doc_count': 7, 'doc_count': 10, 'all_doc_count': 20}), (0.5, 'simulator', {'mini_doc_count': 7, 'doc_count': 9, 'all_doc_count': 18}), (0.4899328859060403, 'superman', {'mini_doc_count': 6, 'doc_count': 73, 'all_doc_count': 149}), (0.47058823529411764, 'insect', {'mini_doc_count': 6, 'doc_count': 8, 'all_doc_count': 17}), (0.4666666666666667, 'detected', {'mini_doc_count': 6, 'doc_count': 7, 'all_doc_count': 15}), (0.4482758620689655, 'origin', {'mini_doc_count': 9, 'doc_count': 13, 'all_doc_count': 29}), (0.4375, 'artificial', {'mini_doc_count': 6, 'doc_count': 7, 'all_doc_count': 16}), (0.4375, 'adapt', {'mini_doc_count': 6, 'doc_count': 7, 'all_doc_count': 16}), (0.42857142857142855, 'stabilize', {'mini_doc_count': 9, 'doc_count': 9, 'all_doc_count': 21}), (0.42857142857142855, 'risking', {'mini_doc_count': 6, 'doc_count': 6, 'all_doc_count': 14}), (0.4230769230769231, 'stored', {'mini_doc_count': 9, 'doc_count': 11, 'all_doc_count': 26}), (0.42105263157894735, 'readings', {'mini_doc_count': 8, 'doc_count': 24, 'all_doc_count': 57}), (0.4186046511627907, 'procedures', {'mini_doc_count': 8, 'doc_count': 18, 'all_doc_count': 43}), (0.4166666666666667, 'malfunction', {'mini_doc_count': 8, 'doc_count': 15, 'all_doc_count': 36}), (0.4117647058823529, 'meter', {'mini_doc_count': 6, 'doc_count': 7, 'all_doc_count': 17}), (0.4090909090909091, 'inject', {'mini_doc_count': 9, 'doc_count': 9, 'all_doc_count': 22}), (0.4, 'spinning', {'mini_doc_count': 7, 'doc_count': 8, 'all_doc_count': 20}), (0.39473684210526316, 'gravity', {'mini_doc_count': 12, 'doc_count': 30, 'all_doc_count': 76}), (0.3939393939393939, 'functions', {'mini_doc_count': 10, 'doc_count': 13, 'all_doc_count': 33}), (0.391304347826087, 'topside', {'mini_doc_count': 8, 'doc_count': 9, 'all_doc_count': 23}), (0.3888888888888889, 'formed', {'mini_doc_count': 7, 'doc_count': 7, 'all_doc_count': 18}), (0.3888888888888889, 'unidentified', {'mini_doc_count': 7, 'doc_count': 7, 'all_doc_count': 18}), (0.3793103448275862, 'attempting', {'mini_doc_count': 8, 'doc_count': 11, 'all_doc_count': 29}), (0.37777777777777777, 'planets', {'mini_doc_count': 12, 'doc_count': 17, 'all_doc_count': 45}), (0.375, 'contain', {'mini_doc_count': 7, 'doc_count': 9, 'all_doc_count': 24}), (0.37349397590361444, 'klingon', {'mini_doc_count': 8, 'doc_count': 31, 'all_doc_count': 83}), (0.37142857142857144, 'sequence', {'mini_doc_count': 9, 'doc_count': 13, 'all_doc_count': 35}), (0.36936936936936937, 'scotty', {'mini_doc_count': 7, 'doc_count': 41, 'all_doc_count': 111}), (0.3684210526315789, 'density', {'mini_doc_count': 7, 'doc_count': 7, 'all_doc_count': 19}), (0.3684210526315789, 'simulation', {'mini_doc_count': 8, 'doc_count': 14, 'all_doc_count': 38}), (0.3673469387755102, 'activate', {'mini_doc_count': 14, 'doc_count': 18, 'all_doc_count': 49}), (0.36666666666666664, 'implant', {'mini_doc_count': 6, 'doc_count': 11, 'all_doc_count': 30}), (0.36666666666666664, 'explosive', {'mini_doc_count': 10, 'doc_count': 11, 'all_doc_count': 30}), (0.36633663366336633, 'kent', {'mini_doc_count': 7, 'doc_count': 37, 'all_doc_count': 101}), (0.36619718309859156, 'programmed', {'mini_doc_count': 14, 'doc_count': 26, 'all_doc_count': 71}), (0.36363636363636365, 'magnetic', {'mini_doc_count': 8, 'doc_count': 12, 'all_doc_count': 33}), (0.3611111111111111, 'plasma', {'mini_doc_count': 9, 'doc_count': 13, 'all_doc_count': 36}), (0.36, 'to-', {'mini_doc_count': 6, 'doc_count': 9, 'all_doc_count': 25}), (0.36, 'beamed', {'mini_doc_count': 7, 'doc_count': 9, 'all_doc_count': 25}), (0.36, 'regulations', {'mini_doc_count': 6, 'doc_count': 9, 'all_doc_count': 25}), (0.358974358974359, 'clark', {'mini_doc_count': 9, 'doc_count': 84, 'all_doc_count': 234}), (0.358695652173913, 'kirk', {'mini_doc_count': 8, 'doc_count': 66, 'all_doc_count': 184}), (0.35802469135802467, 'carbon', {'mini_doc_count': 8, 'doc_count': 29, 'all_doc_count': 81}), (0.3557692307692308, 'federation', {'mini_doc_count': 10, 'doc_count': 74, 'all_doc_count': 208}), (0.35, 'einstein', {'mini_doc_count': 6, 'doc_count': 7, 'all_doc_count': 20}), (0.35, 'mankind', {'mini_doc_count': 11, 'doc_count': 14, 'all_doc_count': 40}), (0.35, 'retrieve', {'mini_doc_count': 7, 'doc_count': 7, 'all_doc_count': 20}), (0.35, 'overload', {'mini_doc_count': 7, 'doc_count': 7, 'all_doc_count': 20}), (0.34782608695652173, 'automated', {'mini_doc_count': 7, 'doc_count': 8, 'all_doc_count': 23}), (0.34615384615384615, 'circuits', {'mini_doc_count': 7, 'doc_count': 9, 'all_doc_count': 26}), (0.34615384615384615, 'assembly', {'mini_doc_count': 7, 'doc_count': 9, 'all_doc_count': 26}), (0.34375, 'android', {'mini_doc_count': 6, 'doc_count': 11, 'all_doc_count': 32}), (0.3409090909090909, 'grid', {'mini_doc_count': 10, 'doc_count': 15, 'all_doc_count': 44}), (0.3404255319148936, 'molecular', {'mini_doc_count': 12, 'doc_count': 16, 'all_doc_count': 47}), (0.33962264150943394, 'neural', {'mini_doc_count': 8, 'doc_count': 18, 'all_doc_count': 53}), (0.3382352941176471, 'shuttle', {'mini_doc_count': 12, 'doc_count': 23, 'all_doc_count': 68}), (0.3368421052631579, 'matrix', {'mini_doc_count': 7, 'doc_count': 32, 'all_doc_count': 95}), (0.3333333333333333, 'transporter', {'mini_doc_count': 6, 'doc_count': 13, 'all_doc_count': 39}), (0.3333333333333333, 'responding', {'mini_doc_count': 6, 'doc_count': 7, 'all_doc_count': 21}), (0.3333333333333333, 'funding', {'mini_doc_count': 6, 'doc_count': 8, 'all_doc_count': 24}), (0.3333333333333333, 'romulan', {'mini_doc_count': 6, 'doc_count': 21, 'all_doc_count': 63}), (0.3333333333333333, 'arrival', {'mini_doc_count': 7, 'doc_count': 8, 'all_doc_count': 24}), (0.3333333333333333, 'melted', {'mini_doc_count': 6, 'doc_count': 6, 'all_doc_count': 18}), (0.3333333333333333, 'sensor', {'mini_doc_count': 6, 'doc_count': 8, 'all_doc_count': 24}), (0.3333333333333333, 'prototype', {'mini_doc_count': 7, 'doc_count': 14, 'all_doc_count': 42}), (0.3333333333333333, 'detect', {'mini_doc_count': 11, 'doc_count': 11, 'all_doc_count': 33}), (0.3333333333333333, 'monitoring', {'mini_doc_count': 7, 'doc_count': 7, 'all_doc_count': 21}), (0.3333333333333333, 'trajectory', {'mini_doc_count': 8, 'doc_count': 9, 'all_doc_count': 27}), (0.3333333333333333, 'photon', {'mini_doc_count': 6, 'doc_count': 12, 'all_doc_count': 36})]\n",
      "[(0.6206896551724138, 'forbidden', {'mini_doc_count': 8, 'doc_count': 18, 'all_doc_count': 29}), (0.6111111111111112, 'highness', {'mini_doc_count': 7, 'doc_count': 22, 'all_doc_count': 36}), (0.5789473684210527, 'sinking', {'mini_doc_count': 7, 'doc_count': 11, 'all_doc_count': 19}), (0.5714285714285714, 'formula', {'mini_doc_count': 6, 'doc_count': 8, 'all_doc_count': 14}), (0.56, 'gates', {'mini_doc_count': 6, 'doc_count': 14, 'all_doc_count': 25}), (0.5, 'stranded', {'mini_doc_count': 6, 'doc_count': 8, 'all_doc_count': 16}), (0.5, 'armor', {'mini_doc_count': 7, 'doc_count': 19, 'all_doc_count': 38}), (0.5, 'theoretically', {'mini_doc_count': 7, 'doc_count': 8, 'all_doc_count': 16}), (0.5, 'unlimited', {'mini_doc_count': 6, 'doc_count': 7, 'all_doc_count': 14}), (0.5, 'fortress', {'mini_doc_count': 8, 'doc_count': 29, 'all_doc_count': 58}), (0.4827586206896552, 'sire', {'mini_doc_count': 6, 'doc_count': 28, 'all_doc_count': 58}), (0.47368421052631576, 'functioning', {'mini_doc_count': 7, 'doc_count': 9, 'all_doc_count': 19}), (0.47368421052631576, 'hunted', {'mini_doc_count': 6, 'doc_count': 9, 'all_doc_count': 19}), (0.4666666666666667, 'possess', {'mini_doc_count': 6, 'doc_count': 7, 'all_doc_count': 15}), (0.4666666666666667, 'objects', {'mini_doc_count': 6, 'doc_count': 7, 'all_doc_count': 15}), (0.46153846153846156, 'rays', {'mini_doc_count': 6, 'doc_count': 6, 'all_doc_count': 13}), (0.42857142857142855, 'transmit', {'mini_doc_count': 7, 'doc_count': 12, 'all_doc_count': 28}), (0.4230769230769231, 'fetch', {'mini_doc_count': 6, 'doc_count': 11, 'all_doc_count': 26}), (0.42105263157894735, 'treason', {'mini_doc_count': 6, 'doc_count': 8, 'all_doc_count': 19}), (0.41025641025641024, 'quest', {'mini_doc_count': 6, 'doc_count': 16, 'all_doc_count': 39}), (0.4088050314465409, 'emperor', {'mini_doc_count': 7, 'doc_count': 65, 'all_doc_count': 159}), (0.4, 'reconsider', {'mini_doc_count': 7, 'doc_count': 8, 'all_doc_count': 20}), (0.3793103448275862, 'slowing', {'mini_doc_count': 7, 'doc_count': 11, 'all_doc_count': 29}), (0.36666666666666664, 'australia', {'mini_doc_count': 6, 'doc_count': 11, 'all_doc_count': 30}), (0.36363636363636365, 'lethal', {'mini_doc_count': 8, 'doc_count': 8, 'all_doc_count': 22}), (0.36363636363636365, 'contained', {'mini_doc_count': 7, 'doc_count': 8, 'all_doc_count': 22}), (0.35, 'seeks', {'mini_doc_count': 6, 'doc_count': 7, 'all_doc_count': 20}), (0.34782608695652173, 'carrier', {'mini_doc_count': 6, 'doc_count': 8, 'all_doc_count': 23}), (0.3448275862068966, 'laser', {'mini_doc_count': 14, 'doc_count': 30, 'all_doc_count': 87}), (0.3448275862068966, 'mining', {'mini_doc_count': 7, 'doc_count': 10, 'all_doc_count': 29}), (0.34285714285714286, 'digital', {'mini_doc_count': 6, 'doc_count': 12, 'all_doc_count': 35}), (0.3333333333333333, 'carbon', {'mini_doc_count': 9, 'doc_count': 27, 'all_doc_count': 81}), (0.3333333333333333, 'withdraw', {'mini_doc_count': 7, 'doc_count': 9, 'all_doc_count': 27}), (0.3277310924369748, 'knight', {'mini_doc_count': 9, 'doc_count': 39, 'all_doc_count': 119}), (0.3275862068965517, 'fort', {'mini_doc_count': 12, 'doc_count': 38, 'all_doc_count': 116}), (0.3263157894736842, 'matrix', {'mini_doc_count': 6, 'doc_count': 31, 'all_doc_count': 95}), (0.32142857142857145, 'elders', {'mini_doc_count': 6, 'doc_count': 9, 'all_doc_count': 28}), (0.32, 'deploy', {'mini_doc_count': 7, 'doc_count': 8, 'all_doc_count': 25}), (0.3181818181818182, 'inject', {'mini_doc_count': 7, 'doc_count': 7, 'all_doc_count': 22}), (0.3170731707317073, 'kilometers', {'mini_doc_count': 7, 'doc_count': 13, 'all_doc_count': 41}), (0.3157894736842105, 'chopper', {'mini_doc_count': 6, 'doc_count': 18, 'all_doc_count': 57}), (0.3157894736842105, 'density', {'mini_doc_count': 6, 'doc_count': 6, 'all_doc_count': 19}), (0.3157894736842105, 'simulation', {'mini_doc_count': 7, 'doc_count': 12, 'all_doc_count': 38}), (0.3157894736842105, 'generations', {'mini_doc_count': 6, 'doc_count': 6, 'all_doc_count': 19}), (0.30952380952380953, 'throne', {'mini_doc_count': 8, 'doc_count': 13, 'all_doc_count': 42}), (0.3076923076923077, 'circuits', {'mini_doc_count': 6, 'doc_count': 8, 'all_doc_count': 26}), (0.30434782608695654, 'topside', {'mini_doc_count': 7, 'doc_count': 7, 'all_doc_count': 23}), (0.30357142857142855, 'expedition', {'mini_doc_count': 10, 'doc_count': 17, 'all_doc_count': 56}), (0.30303030303030304, 'reactor', {'mini_doc_count': 12, 'doc_count': 20, 'all_doc_count': 66}), (0.3, 'retrieve', {'mini_doc_count': 6, 'doc_count': 6, 'all_doc_count': 20}), (0.296875, 'probe', {'mini_doc_count': 7, 'doc_count': 19, 'all_doc_count': 64}), (0.2962962962962963, 'trajectory', {'mini_doc_count': 8, 'doc_count': 8, 'all_doc_count': 27}), (0.2923076923076923, 'betray', {'mini_doc_count': 10, 'doc_count': 19, 'all_doc_count': 65}), (0.2916666666666667, 'heavily', {'mini_doc_count': 6, 'doc_count': 7, 'all_doc_count': 24}), (0.2903225806451613, 'destination', {'mini_doc_count': 9, 'doc_count': 9, 'all_doc_count': 31}), (0.2857142857142857, 'monitors', {'mini_doc_count': 6, 'doc_count': 6, 'all_doc_count': 21}), (0.2857142857142857, 'stabilize', {'mini_doc_count': 6, 'doc_count': 6, 'all_doc_count': 21}), (0.2857142857142857, 'monitoring', {'mini_doc_count': 6, 'doc_count': 6, 'all_doc_count': 21}), (0.2857142857142857, 'humble', {'mini_doc_count': 7, 'doc_count': 8, 'all_doc_count': 28}), (0.2830188679245283, 'judgment', {'mini_doc_count': 8, 'doc_count': 15, 'all_doc_count': 53}), (0.2826086956521739, 'dutch', {'mini_doc_count': 6, 'doc_count': 13, 'all_doc_count': 46}), (0.28125, 'hunter', {'mini_doc_count': 8, 'doc_count': 18, 'all_doc_count': 64}), (0.27884615384615385, 'units', {'mini_doc_count': 11, 'doc_count': 29, 'all_doc_count': 104}), (0.27741935483870966, 'warp', {'mini_doc_count': 9, 'doc_count': 43, 'all_doc_count': 155}), (0.27586206896551724, 'joining', {'mini_doc_count': 6, 'doc_count': 8, 'all_doc_count': 29}), (0.27350427350427353, 'treasure', {'mini_doc_count': 10, 'doc_count': 32, 'all_doc_count': 117}), (0.2727272727272727, 'precise', {'mini_doc_count': 6, 'doc_count': 6, 'all_doc_count': 22}), (0.27102803738317754, 'gods', {'mini_doc_count': 6, 'doc_count': 29, 'all_doc_count': 107}), (0.2702702702702703, 'waters', {'mini_doc_count': 7, 'doc_count': 10, 'all_doc_count': 37}), (0.2702702702702703, 'shaft', {'mini_doc_count': 6, 'doc_count': 10, 'all_doc_count': 37}), (0.2702702702702703, 'myth', {'mini_doc_count': 6, 'doc_count': 10, 'all_doc_count': 37}), (0.2692307692307692, 'transmission', {'mini_doc_count': 17, 'doc_count': 35, 'all_doc_count': 130}), (0.2692307692307692, 'developing', {'mini_doc_count': 6, 'doc_count': 7, 'all_doc_count': 26}), (0.2692307692307692, 'stored', {'mini_doc_count': 6, 'doc_count': 7, 'all_doc_count': 26}), (0.2692307692307692, 'galaxy', {'mini_doc_count': 9, 'doc_count': 14, 'all_doc_count': 52}), (0.26732673267326734, 'admiral', {'mini_doc_count': 10, 'doc_count': 135, 'all_doc_count': 505}), (0.2653061224489796, 'activate', {'mini_doc_count': 11, 'doc_count': 13, 'all_doc_count': 49}), (0.2608695652173913, 'global', {'mini_doc_count': 8, 'doc_count': 12, 'all_doc_count': 46}), (0.26, 'helmet', {'mini_doc_count': 7, 'doc_count': 13, 'all_doc_count': 50}), (0.25925925925925924, 'crate', {'mini_doc_count': 6, 'doc_count': 7, 'all_doc_count': 27}), (0.25806451612903225, 'flatter', {'mini_doc_count': 8, 'doc_count': 8, 'all_doc_count': 31}), (0.25806451612903225, 'troops', {'mini_doc_count': 15, 'doc_count': 24, 'all_doc_count': 93}), (0.2571428571428571, 'pursuit', {'mini_doc_count': 7, 'doc_count': 9, 'all_doc_count': 35}), (0.2564102564102564, 'sabotage', {'mini_doc_count': 6, 'doc_count': 10, 'all_doc_count': 39}), (0.2553191489361702, 'molecular', {'mini_doc_count': 10, 'doc_count': 12, 'all_doc_count': 47}), (0.2549019607843137, 'flame', {'mini_doc_count': 7, 'doc_count': 13, 'all_doc_count': 51}), (0.2542372881355932, 'tomb', {'mini_doc_count': 8, 'doc_count': 15, 'all_doc_count': 59}), (0.25, 'engineered', {'mini_doc_count': 7, 'doc_count': 7, 'all_doc_count': 28}), (0.25, 'lion', {'mini_doc_count': 6, 'doc_count': 24, 'all_doc_count': 96}), (0.25, 'billions', {'mini_doc_count': 6, 'doc_count': 6, 'all_doc_count': 24}), (0.25, 'vessels', {'mini_doc_count': 6, 'doc_count': 7, 'all_doc_count': 28}), (0.25, 'penalty', {'mini_doc_count': 7, 'doc_count': 7, 'all_doc_count': 28}), (0.24680851063829787, 'jones', {'mini_doc_count': 10, 'doc_count': 58, 'all_doc_count': 235}), (0.24561403508771928, 'approaching', {'mini_doc_count': 12, 'doc_count': 14, 'all_doc_count': 57}), (0.24489795918367346, 'why</u', {'mini_doc_count': 6, 'doc_count': 12, 'all_doc_count': 49}), (0.2441860465116279, 'swamp', {'mini_doc_count': 9, 'doc_count': 21, 'all_doc_count': 86}), (0.24324324324324326, 'avoiding', {'mini_doc_count': 7, 'doc_count': 9, 'all_doc_count': 37}), (0.24242424242424243, '35', {'mini_doc_count': 6, 'doc_count': 8, 'all_doc_count': 33}), (0.24242424242424243, 'establish', {'mini_doc_count': 7, 'doc_count': 8, 'all_doc_count': 33}), (0.2422360248447205, 'vulcan', {'mini_doc_count': 8, 'doc_count': 39, 'all_doc_count': 161})]\n",
      "[(0.46153846153846156, 'cables', {'mini_doc_count': 6, 'doc_count': 6, 'all_doc_count': 13}), (0.4375, 'selection', {'mini_doc_count': 6, 'doc_count': 7, 'all_doc_count': 16}), (0.4375, 'untie', {'mini_doc_count': 6, 'doc_count': 7, 'all_doc_count': 16}), (0.4, 'to-', {'mini_doc_count': 7, 'doc_count': 10, 'all_doc_count': 25}), (0.3617021276595745, 'passenger', {'mini_doc_count': 7, 'doc_count': 17, 'all_doc_count': 47}), (0.34782608695652173, 'surgical', {'mini_doc_count': 7, 'doc_count': 8, 'all_doc_count': 23}), (0.3333333333333333, 'method', {'mini_doc_count': 10, 'doc_count': 12, 'all_doc_count': 36}), (0.3333333333333333, '--but', {'mini_doc_count': 6, 'doc_count': 9, 'all_doc_count': 27}), (0.3333333333333333, 'alibi', {'mini_doc_count': 8, 'doc_count': 9, 'all_doc_count': 27}), (0.3333333333333333, 'concerning', {'mini_doc_count': 6, 'doc_count': 6, 'all_doc_count': 18}), (0.32857142857142857, 'drew', {'mini_doc_count': 7, 'doc_count': 46, 'all_doc_count': 140}), (0.32142857142857145, 'insight', {'mini_doc_count': 7, 'doc_count': 9, 'all_doc_count': 28}), (0.3181818181818182, 'repeated', {'mini_doc_count': 6, 'doc_count': 7, 'all_doc_count': 22}), (0.3157894736842105, 'marie', {'mini_doc_count': 7, 'doc_count': 18, 'all_doc_count': 57}), (0.3157894736842105, 'mutilated', {'mini_doc_count': 6, 'doc_count': 6, 'all_doc_count': 19}), (0.3142857142857143, 'coop', {'mini_doc_count': 6, 'doc_count': 11, 'all_doc_count': 35}), (0.3103448275862069, 'stalking', {'mini_doc_count': 6, 'doc_count': 9, 'all_doc_count': 29}), (0.3076923076923077, 'psychopath', {'mini_doc_count': 7, 'doc_count': 8, 'all_doc_count': 26}), (0.3076923076923077, 'images', {'mini_doc_count': 6, 'doc_count': 8, 'all_doc_count': 26}), (0.30434782608695654, 'promote', {'mini_doc_count': 7, 'doc_count': 7, 'all_doc_count': 23}), (0.3, 'addressed', {'mini_doc_count': 6, 'doc_count': 6, 'all_doc_count': 20}), (0.2916666666666667, 'rattle', {'mini_doc_count': 7, 'doc_count': 7, 'all_doc_count': 24}), (0.2916666666666667, 'appeared', {'mini_doc_count': 7, 'doc_count': 7, 'all_doc_count': 24}), (0.2857142857142857, \"won't\", {'mini_doc_count': 6, 'doc_count': 6, 'all_doc_count': 21}), (0.2857142857142857, 'exam', {'mini_doc_count': 7, 'doc_count': 8, 'all_doc_count': 28}), (0.2803738317757009, 'jennifer', {'mini_doc_count': 7, 'doc_count': 30, 'all_doc_count': 107}), (0.28, 'climbed', {'mini_doc_count': 7, 'doc_count': 7, 'all_doc_count': 25}), (0.27906976744186046, 'clues', {'mini_doc_count': 8, 'doc_count': 12, 'all_doc_count': 43}), (0.2727272727272727, 'wooden', {'mini_doc_count': 8, 'doc_count': 12, 'all_doc_count': 44}), (0.2727272727272727, 'addict', {'mini_doc_count': 6, 'doc_count': 6, 'all_doc_count': 22}), (0.2727272727272727, 'males', {'mini_doc_count': 6, 'doc_count': 6, 'all_doc_count': 22}), (0.2702702702702703, 'september', {'mini_doc_count': 6, 'doc_count': 10, 'all_doc_count': 37}), (0.2608695652173913, 'reminded', {'mini_doc_count': 6, 'doc_count': 6, 'all_doc_count': 23}), (0.2608695652173913, 'farther', {'mini_doc_count': 6, 'doc_count': 6, 'all_doc_count': 23}), (0.25806451612903225, 'fascinated', {'mini_doc_count': 7, 'doc_count': 8, 'all_doc_count': 31}), (0.25806451612903225, 'stir', {'mini_doc_count': 7, 'doc_count': 8, 'all_doc_count': 31}), (0.2564102564102564, 'echo', {'mini_doc_count': 6, 'doc_count': 10, 'all_doc_count': 39}), (0.25, 'searched', {'mini_doc_count': 7, 'doc_count': 10, 'all_doc_count': 40}), (0.25, 'fathers', {'mini_doc_count': 7, 'doc_count': 9, 'all_doc_count': 36}), (0.24875621890547264, 'susan', {'mini_doc_count': 6, 'doc_count': 50, 'all_doc_count': 201}), (0.24444444444444444, 'accidents', {'mini_doc_count': 8, 'doc_count': 11, 'all_doc_count': 45}), (0.24390243902439024, 'punished', {'mini_doc_count': 8, 'doc_count': 10, 'all_doc_count': 41}), (0.2413793103448276, 'disappearing', {'mini_doc_count': 7, 'doc_count': 7, 'all_doc_count': 29}), (0.24, 'roughly', {'mini_doc_count': 6, 'doc_count': 6, 'all_doc_count': 25}), (0.2391304347826087, 'writers', {'mini_doc_count': 6, 'doc_count': 11, 'all_doc_count': 46}), (0.23404255319148937, 'porn', {'mini_doc_count': 6, 'doc_count': 11, 'all_doc_count': 47}), (0.23076923076923078, 'persons', {'mini_doc_count': 7, 'doc_count': 12, 'all_doc_count': 52}), (0.22857142857142856, 'homicidal', {'mini_doc_count': 7, 'doc_count': 8, 'all_doc_count': 35}), (0.22727272727272727, 'fatal', {'mini_doc_count': 7, 'doc_count': 10, 'all_doc_count': 44}), (0.2222222222222222, 'innocence', {'mini_doc_count': 7, 'doc_count': 10, 'all_doc_count': 45}), (0.21875, 'sane', {'mini_doc_count': 11, 'doc_count': 14, 'all_doc_count': 64}), (0.21875, 'identification', {'mini_doc_count': 6, 'doc_count': 7, 'all_doc_count': 32}), (0.21875, 'what--', {'mini_doc_count': 6, 'doc_count': 7, 'all_doc_count': 32}), (0.21739130434782608, 'illusion', {'mini_doc_count': 6, 'doc_count': 10, 'all_doc_count': 46}), (0.21621621621621623, 'examination', {'mini_doc_count': 7, 'doc_count': 8, 'all_doc_count': 37}), (0.21428571428571427, 'dried', {'mini_doc_count': 6, 'doc_count': 6, 'all_doc_count': 28}), (0.21428571428571427, 'cough', {'mini_doc_count': 6, 'doc_count': 6, 'all_doc_count': 28}), (0.21212121212121213, 'sexually', {'mini_doc_count': 6, 'doc_count': 7, 'all_doc_count': 33}), (0.21052631578947367, 'breakdown', {'mini_doc_count': 11, 'doc_count': 12, 'all_doc_count': 57}), (0.21052631578947367, 'deliberately', {'mini_doc_count': 8, 'doc_count': 12, 'all_doc_count': 57}), (0.21, 'd.a.', {'mini_doc_count': 6, 'doc_count': 21, 'all_doc_count': 100}), (0.20754716981132076, 'crooked', {'mini_doc_count': 7, 'doc_count': 11, 'all_doc_count': 53}), (0.20689655172413793, 'tick', {'mini_doc_count': 6, 'doc_count': 12, 'all_doc_count': 58}), (0.20454545454545456, 'accurate', {'mini_doc_count': 7, 'doc_count': 9, 'all_doc_count': 44}), (0.20253164556962025, 'houston', {'mini_doc_count': 6, 'doc_count': 16, 'all_doc_count': 79}), (0.2, 'righteous', {'mini_doc_count': 6, 'doc_count': 6, 'all_doc_count': 30}), (0.2, 'frighten', {'mini_doc_count': 6, 'doc_count': 6, 'all_doc_count': 30}), (0.2, 'beds', {'mini_doc_count': 8, 'doc_count': 9, 'all_doc_count': 45}), (0.2, 'ignorance', {'mini_doc_count': 7, 'doc_count': 9, 'all_doc_count': 45}), (0.19767441860465115, 'rio', {'mini_doc_count': 6, 'doc_count': 17, 'all_doc_count': 86}), (0.19736842105263158, 'indians', {'mini_doc_count': 8, 'doc_count': 15, 'all_doc_count': 76}), (0.19642857142857142, 'unable', {'mini_doc_count': 9, 'doc_count': 11, 'all_doc_count': 56}), (0.1956521739130435, 'cracked', {'mini_doc_count': 9, 'doc_count': 9, 'all_doc_count': 46}), (0.1951219512195122, 'indicate', {'mini_doc_count': 8, 'doc_count': 8, 'all_doc_count': 41}), (0.19444444444444445, 't.v.', {'mini_doc_count': 6, 'doc_count': 7, 'all_doc_count': 36}), (0.19444444444444445, 'autopsy', {'mini_doc_count': 8, 'doc_count': 14, 'all_doc_count': 72}), (0.19444444444444445, 'punish', {'mini_doc_count': 6, 'doc_count': 7, 'all_doc_count': 36}), (0.1935483870967742, 'reaching', {'mini_doc_count': 6, 'doc_count': 6, 'all_doc_count': 31}), (0.19047619047619047, 'motive', {'mini_doc_count': 10, 'doc_count': 20, 'all_doc_count': 105}), (0.18888888888888888, 'bunny', {'mini_doc_count': 6, 'doc_count': 17, 'all_doc_count': 90}), (0.1875, 'internet', {'mini_doc_count': 6, 'doc_count': 9, 'all_doc_count': 48}), (0.18666666666666668, 'tub', {'mini_doc_count': 8, 'doc_count': 14, 'all_doc_count': 75}), (0.18604651162790697, 'confusion', {'mini_doc_count': 8, 'doc_count': 8, 'all_doc_count': 43}), (0.18518518518518517, 'crowded', {'mini_doc_count': 9, 'doc_count': 10, 'all_doc_count': 54}), (0.1836734693877551, 'groups', {'mini_doc_count': 6, 'doc_count': 9, 'all_doc_count': 49}), (0.18292682926829268, 'danny', {'mini_doc_count': 6, 'doc_count': 60, 'all_doc_count': 328}), (0.18292682926829268, 'hunch', {'mini_doc_count': 9, 'doc_count': 15, 'all_doc_count': 82}), (0.18269230769230768, 'engineering', {'mini_doc_count': 7, 'doc_count': 19, 'all_doc_count': 104}), (0.18181818181818182, 'claws', {'mini_doc_count': 8, 'doc_count': 10, 'all_doc_count': 55}), (0.18181818181818182, 'accusing', {'mini_doc_count': 6, 'doc_count': 6, 'all_doc_count': 33}), (0.18115942028985507, 'conspiracy', {'mini_doc_count': 14, 'doc_count': 25, 'all_doc_count': 138}), (0.18055555555555555, 'f.b.i.', {'mini_doc_count': 6, 'doc_count': 13, 'all_doc_count': 72}), (0.18032786885245902, 'hobby', {'mini_doc_count': 7, 'doc_count': 11, 'all_doc_count': 61}), (0.18, 'positively', {'mini_doc_count': 9, 'doc_count': 9, 'all_doc_count': 50}), (0.1794871794871795, 'intellect', {'mini_doc_count': 6, 'doc_count': 7, 'all_doc_count': 39}), (0.1791044776119403, 'freeway', {'mini_doc_count': 7, 'doc_count': 12, 'all_doc_count': 67}), (0.17857142857142858, 'coffin', {'mini_doc_count': 7, 'doc_count': 10, 'all_doc_count': 56}), (0.1780821917808219, 'hollow', {'mini_doc_count': 6, 'doc_count': 13, 'all_doc_count': 73}), (0.17796610169491525, 'miller', {'mini_doc_count': 6, 'doc_count': 21, 'all_doc_count': 118}), (0.17777777777777778, 'pervert', {'mini_doc_count': 7, 'doc_count': 8, 'all_doc_count': 45})]\n",
      "[(0.5375, 'krueger', {'mini_doc_count': 8, 'doc_count': 43, 'all_doc_count': 80}), (0.5238095238095238, 'voodoo', {'mini_doc_count': 6, 'doc_count': 11, 'all_doc_count': 21}), (0.4878048780487805, 'loomis', {'mini_doc_count': 8, 'doc_count': 20, 'all_doc_count': 41}), (0.4782608695652174, 'generator', {'mini_doc_count': 6, 'doc_count': 11, 'all_doc_count': 23}), (0.42857142857142855, 'grad', {'mini_doc_count': 6, 'doc_count': 6, 'all_doc_count': 14}), (0.4235294117647059, 'nancy', {'mini_doc_count': 9, 'doc_count': 36, 'all_doc_count': 85}), (0.41935483870967744, 'supernatural', {'mini_doc_count': 10, 'doc_count': 13, 'all_doc_count': 31}), (0.37894736842105264, 'freddy', {'mini_doc_count': 7, 'doc_count': 36, 'all_doc_count': 95}), (0.3469387755102041, 'teresa', {'mini_doc_count': 7, 'doc_count': 34, 'all_doc_count': 98}), (0.32894736842105265, 'burke', {'mini_doc_count': 6, 'doc_count': 25, 'all_doc_count': 76}), (0.3235294117647059, 'haunted', {'mini_doc_count': 6, 'doc_count': 11, 'all_doc_count': 34}), (0.32142857142857145, 'campus', {'mini_doc_count': 6, 'doc_count': 9, 'all_doc_count': 28}), (0.31666666666666665, 'possessed', {'mini_doc_count': 10, 'doc_count': 19, 'all_doc_count': 60}), (0.3157894736842105, 'mutilated', {'mini_doc_count': 6, 'doc_count': 6, 'all_doc_count': 19}), (0.2967741935483871, 'jason', {'mini_doc_count': 10, 'doc_count': 92, 'all_doc_count': 310}), (0.2916666666666667, 'healed', {'mini_doc_count': 6, 'doc_count': 7, 'all_doc_count': 24}), (0.2916666666666667, 'veins', {'mini_doc_count': 6, 'doc_count': 7, 'all_doc_count': 24}), (0.2835820895522388, 'alice', {'mini_doc_count': 7, 'doc_count': 38, 'all_doc_count': 134}), (0.27848101265822783, 'satan', {'mini_doc_count': 6, 'doc_count': 22, 'all_doc_count': 79}), (0.27586206896551724, 'stalking', {'mini_doc_count': 7, 'doc_count': 8, 'all_doc_count': 29}), (0.2696629213483146, 'halloween', {'mini_doc_count': 7, 'doc_count': 24, 'all_doc_count': 89}), (0.2638888888888889, 'rats', {'mini_doc_count': 6, 'doc_count': 19, 'all_doc_count': 72}), (0.25806451612903225, 'sleeps', {'mini_doc_count': 7, 'doc_count': 8, 'all_doc_count': 31}), (0.25, 'frightening', {'mini_doc_count': 8, 'doc_count': 9, 'all_doc_count': 36}), (0.24299065420560748, 'jennifer', {'mini_doc_count': 6, 'doc_count': 26, 'all_doc_count': 107}), (0.24242424242424243, 'burial', {'mini_doc_count': 7, 'doc_count': 8, 'all_doc_count': 33}), (0.2413793103448276, 'fortunately', {'mini_doc_count': 6, 'doc_count': 7, 'all_doc_count': 29}), (0.2413793103448276, 'scales', {'mini_doc_count': 6, 'doc_count': 7, 'all_doc_count': 29}), (0.24, 'climbed', {'mini_doc_count': 6, 'doc_count': 6, 'all_doc_count': 25}), (0.21428571428571427, 'bushes', {'mini_doc_count': 6, 'doc_count': 6, 'all_doc_count': 28}), (0.208955223880597, 'horror', {'mini_doc_count': 14, 'doc_count': 28, 'all_doc_count': 134}), (0.20618556701030927, 'cemetery', {'mini_doc_count': 9, 'doc_count': 20, 'all_doc_count': 97}), (0.20588235294117646, 'shining', {'mini_doc_count': 6, 'doc_count': 7, 'all_doc_count': 34}), (0.20588235294117646, 'rod', {'mini_doc_count': 8, 'doc_count': 28, 'all_doc_count': 136}), (0.20512820512820512, 'seeking', {'mini_doc_count': 6, 'doc_count': 8, 'all_doc_count': 39}), (0.20454545454545456, 'nightmares', {'mini_doc_count': 13, 'doc_count': 27, 'all_doc_count': 132}), (0.2037037037037037, 'psychiatric', {'mini_doc_count': 8, 'doc_count': 11, 'all_doc_count': 54}), (0.2, 'survivors', {'mini_doc_count': 8, 'doc_count': 12, 'all_doc_count': 60}), (0.2, 'witch', {'mini_doc_count': 7, 'doc_count': 30, 'all_doc_count': 150}), (0.2, 'accidents', {'mini_doc_count': 7, 'doc_count': 9, 'all_doc_count': 45}), (0.1951219512195122, 'bizarre', {'mini_doc_count': 8, 'doc_count': 8, 'all_doc_count': 41}), (0.1951219512195122, 'deaths', {'mini_doc_count': 6, 'doc_count': 8, 'all_doc_count': 41}), (0.1935483870967742, 'fascinated', {'mini_doc_count': 6, 'doc_count': 6, 'all_doc_count': 31}), (0.1896551724137931, 'demon', {'mini_doc_count': 6, 'doc_count': 11, 'all_doc_count': 58}), (0.1891891891891892, 'supposedly', {'mini_doc_count': 7, 'doc_count': 7, 'all_doc_count': 37}), (0.1836734693877551, \"they're\", {'mini_doc_count': 7, 'doc_count': 9, 'all_doc_count': 49}), (0.18181818181818182, 'claws', {'mini_doc_count': 7, 'doc_count': 10, 'all_doc_count': 55}), (0.18055555555555555, 'autopsy', {'mini_doc_count': 9, 'doc_count': 13, 'all_doc_count': 72}), (0.18032786885245902, 'torn', {'mini_doc_count': 6, 'doc_count': 11, 'all_doc_count': 61}), (0.18032786885245902, 'edgar', {'mini_doc_count': 6, 'doc_count': 11, 'all_doc_count': 61}), (0.17880794701986755, 'alien', {'mini_doc_count': 8, 'doc_count': 27, 'all_doc_count': 151}), (0.17647058823529413, 'judgement', {'mini_doc_count': 7, 'doc_count': 9, 'all_doc_count': 51}), (0.17105263157894737, 'cotton', {'mini_doc_count': 7, 'doc_count': 26, 'all_doc_count': 152}), (0.17073170731707318, 'appetite', {'mini_doc_count': 6, 'doc_count': 7, 'all_doc_count': 41}), (0.16666666666666666, 'conclusions', {'mini_doc_count': 6, 'doc_count': 6, 'all_doc_count': 36}), (0.16666666666666666, 'purely', {'mini_doc_count': 8, 'doc_count': 8, 'all_doc_count': 48}), (0.16666666666666666, 'flames', {'mini_doc_count': 7, 'doc_count': 8, 'all_doc_count': 48}), (0.16666666666666666, 'causes', {'mini_doc_count': 7, 'doc_count': 8, 'all_doc_count': 48}), (0.16666666666666666, 'electricity', {'mini_doc_count': 8, 'doc_count': 9, 'all_doc_count': 54}), (0.1643835616438356, 'pacific', {'mini_doc_count': 6, 'doc_count': 12, 'all_doc_count': 73}), (0.16417910447761194, 'symptoms', {'mini_doc_count': 6, 'doc_count': 11, 'all_doc_count': 67}), (0.16246498599439776, 'birds', {'mini_doc_count': 8, 'doc_count': 58, 'all_doc_count': 357}), (0.16071428571428573, 'coffin', {'mini_doc_count': 7, 'doc_count': 9, 'all_doc_count': 56}), (0.15625, 'sane', {'mini_doc_count': 9, 'doc_count': 10, 'all_doc_count': 64}), (0.15555555555555556, 'maniac', {'mini_doc_count': 7, 'doc_count': 7, 'all_doc_count': 45}), (0.1554054054054054, 'sarah', {'mini_doc_count': 6, 'doc_count': 23, 'all_doc_count': 148}), (0.1527777777777778, 'authorities', {'mini_doc_count': 11, 'doc_count': 11, 'all_doc_count': 72}), (0.1510791366906475, 'curse', {'mini_doc_count': 8, 'doc_count': 21, 'all_doc_count': 139}), (0.1506849315068493, 'blade', {'mini_doc_count': 7, 'doc_count': 33, 'all_doc_count': 219}), (0.1503267973856209, 'storage', {'mini_doc_count': 6, 'doc_count': 23, 'all_doc_count': 153}), (0.15, 'mankind', {'mini_doc_count': 6, 'doc_count': 6, 'all_doc_count': 40}), (0.14893617021276595, 'oak', {'mini_doc_count': 7, 'doc_count': 7, 'all_doc_count': 47}), (0.14754098360655737, 'roommate', {'mini_doc_count': 6, 'doc_count': 9, 'all_doc_count': 61}), (0.14516129032258066, 'greek', {'mini_doc_count': 7, 'doc_count': 9, 'all_doc_count': 62}), (0.14492753623188406, 'exhausted', {'mini_doc_count': 8, 'doc_count': 10, 'all_doc_count': 69}), (0.14457831325301204, 'facility', {'mini_doc_count': 6, 'doc_count': 12, 'all_doc_count': 83}), (0.14285714285714285, 'heal', {'mini_doc_count': 9, 'doc_count': 9, 'all_doc_count': 63}), (0.14193548387096774, 'dna', {'mini_doc_count': 7, 'doc_count': 22, 'all_doc_count': 155}), (0.1411764705882353, 'deputy', {'mini_doc_count': 9, 'doc_count': 24, 'all_doc_count': 170}), (0.1411764705882353, 'psychotic', {'mini_doc_count': 10, 'doc_count': 12, 'all_doc_count': 85}), (0.140625, 'harmless', {'mini_doc_count': 6, 'doc_count': 9, 'all_doc_count': 64}), (0.14035087719298245, 'blaming', {'mini_doc_count': 7, 'doc_count': 8, 'all_doc_count': 57}), (0.14, 'concrete', {'mini_doc_count': 6, 'doc_count': 7, 'all_doc_count': 50}), (0.13953488372093023, 'utterly', {'mini_doc_count': 6, 'doc_count': 6, 'all_doc_count': 43}), (0.136986301369863, 'stabbed', {'mini_doc_count': 10, 'doc_count': 10, 'all_doc_count': 73}), (0.13636363636363635, 'spook', {'mini_doc_count': 6, 'doc_count': 6, 'all_doc_count': 44}), (0.13636363636363635, 'filling', {'mini_doc_count': 6, 'doc_count': 6, 'all_doc_count': 44}), (0.13432835820895522, 'museum', {'mini_doc_count': 6, 'doc_count': 36, 'all_doc_count': 268}), (0.13432835820895522, 'believing', {'mini_doc_count': 9, 'doc_count': 9, 'all_doc_count': 67}), (0.13402061855670103, 'activity', {'mini_doc_count': 12, 'doc_count': 13, 'all_doc_count': 97}), (0.13392857142857142, 'nest', {'mini_doc_count': 8, 'doc_count': 15, 'all_doc_count': 112}), (0.13333333333333333, 'causing', {'mini_doc_count': 8, 'doc_count': 10, 'all_doc_count': 75}), (0.13333333333333333, 'innocence', {'mini_doc_count': 6, 'doc_count': 6, 'all_doc_count': 45}), (0.13333333333333333, 'investigate', {'mini_doc_count': 6, 'doc_count': 6, 'all_doc_count': 45}), (0.13043478260869565, 'smelled', {'mini_doc_count': 7, 'doc_count': 9, 'all_doc_count': 69}), (0.13020833333333334, 'species', {'mini_doc_count': 10, 'doc_count': 25, 'all_doc_count': 192}), (0.13008130081300814, 'trucks', {'mini_doc_count': 8, 'doc_count': 16, 'all_doc_count': 123}), (0.12994350282485875, 'ghosts', {'mini_doc_count': 11, 'doc_count': 23, 'all_doc_count': 177}), (0.12903225806451613, 'paranoia', {'mini_doc_count': 6, 'doc_count': 8, 'all_doc_count': 62}), (0.12875536480686695, 'attacked', {'mini_doc_count': 14, 'doc_count': 30, 'all_doc_count': 233})]\n",
      "[(0.5333333333333333, 'dolls', {'mini_doc_count': 6, 'doc_count': 8, 'all_doc_count': 15}), (0.5, 'rivers', {'mini_doc_count': 6, 'doc_count': 6, 'all_doc_count': 12}), (0.34782608695652173, 'awesome', {'mini_doc_count': 6, 'doc_count': 8, 'all_doc_count': 23}), (0.32142857142857145, 'flowing', {'mini_doc_count': 6, 'doc_count': 9, 'all_doc_count': 28}), (0.28169014084507044, 'mortal', {'mini_doc_count': 12, 'doc_count': 20, 'all_doc_count': 71}), (0.2727272727272727, 'some-', {'mini_doc_count': 6, 'doc_count': 15, 'all_doc_count': 55}), (0.24, 'winds', {'mini_doc_count': 6, 'doc_count': 6, 'all_doc_count': 25}), (0.23076923076923078, 'lust', {'mini_doc_count': 7, 'doc_count': 9, 'all_doc_count': 39}), (0.2184873949579832, 'knight', {'mini_doc_count': 7, 'doc_count': 26, 'all_doc_count': 119}), (0.2127659574468085, 'beware', {'mini_doc_count': 6, 'doc_count': 10, 'all_doc_count': 47}), (0.21212121212121213, 'venture', {'mini_doc_count': 6, 'doc_count': 7, 'all_doc_count': 33}), (0.211864406779661, 'toy', {'mini_doc_count': 7, 'doc_count': 25, 'all_doc_count': 118}), (0.19718309859154928, 'sleepy', {'mini_doc_count': 10, 'doc_count': 14, 'all_doc_count': 71}), (0.1917808219178082, 'hollow', {'mini_doc_count': 7, 'doc_count': 14, 'all_doc_count': 73}), (0.18450184501845018, 'sword', {'mini_doc_count': 15, 'doc_count': 50, 'all_doc_count': 271}), (0.18181818181818182, 'nightmares', {'mini_doc_count': 10, 'doc_count': 24, 'all_doc_count': 132}), (0.1744186046511628, 'swamp', {'mini_doc_count': 7, 'doc_count': 15, 'all_doc_count': 86}), (0.17391304347826086, 'confusing', {'mini_doc_count': 6, 'doc_count': 8, 'all_doc_count': 46}), (0.1724137931034483, 'demon', {'mini_doc_count': 6, 'doc_count': 10, 'all_doc_count': 58}), (0.16666666666666666, 'flames', {'mini_doc_count': 7, 'doc_count': 8, 'all_doc_count': 48}), (0.16666666666666666, 'permanent', {'mini_doc_count': 10, 'doc_count': 12, 'all_doc_count': 72}), (0.1657559198542805, 'louis', {'mini_doc_count': 7, 'doc_count': 91, 'all_doc_count': 549}), (0.1643835616438356, 'blade', {'mini_doc_count': 7, 'doc_count': 36, 'all_doc_count': 219}), (0.16363636363636364, 'claws', {'mini_doc_count': 8, 'doc_count': 9, 'all_doc_count': 55}), (0.16326530612244897, 'tales', {'mini_doc_count': 6, 'doc_count': 8, 'all_doc_count': 49}), (0.16279069767441862, 'visitor', {'mini_doc_count': 6, 'doc_count': 7, 'all_doc_count': 43}), (0.15456674473067916, 'magic', {'mini_doc_count': 20, 'doc_count': 66, 'all_doc_count': 427}), (0.15254237288135594, 'rot', {'mini_doc_count': 6, 'doc_count': 9, 'all_doc_count': 59}), (0.1511627906976744, 'circle', {'mini_doc_count': 8, 'doc_count': 13, 'all_doc_count': 86}), (0.14912280701754385, 'merry', {'mini_doc_count': 7, 'doc_count': 17, 'all_doc_count': 114}), (0.14788732394366197, 'forest', {'mini_doc_count': 9, 'doc_count': 21, 'all_doc_count': 142}), (0.14754098360655737, 'stone', {'mini_doc_count': 12, 'doc_count': 72, 'all_doc_count': 488}), (0.14601769911504425, 'castle', {'mini_doc_count': 9, 'doc_count': 33, 'all_doc_count': 226}), (0.14583333333333334, 'stare', {'mini_doc_count': 6, 'doc_count': 7, 'all_doc_count': 48}), (0.14285714285714285, 'genuine', {'mini_doc_count': 7, 'doc_count': 8, 'all_doc_count': 56}), (0.14130434782608695, 'rage', {'mini_doc_count': 10, 'doc_count': 13, 'all_doc_count': 92}), (0.14035087719298245, 'resting', {'mini_doc_count': 7, 'doc_count': 8, 'all_doc_count': 57}), (0.14, 'tire', {'mini_doc_count': 6, 'doc_count': 7, 'all_doc_count': 50}), (0.1388888888888889, 'discover', {'mini_doc_count': 7, 'doc_count': 10, 'all_doc_count': 72}), (0.1375, 'fame', {'mini_doc_count': 6, 'doc_count': 11, 'all_doc_count': 80}), (0.13725490196078433, 'physics', {'mini_doc_count': 6, 'doc_count': 14, 'all_doc_count': 102}), (0.13725490196078433, 'dragon', {'mini_doc_count': 6, 'doc_count': 14, 'all_doc_count': 102}), (0.13452914798206278, 'rabbit', {'mini_doc_count': 6, 'doc_count': 30, 'all_doc_count': 223}), (0.13333333333333333, 'deed', {'mini_doc_count': 6, 'doc_count': 8, 'all_doc_count': 60}), (0.13114754098360656, 'defeat', {'mini_doc_count': 7, 'doc_count': 8, 'all_doc_count': 61}), (0.13063063063063063, 'fate', {'mini_doc_count': 14, 'doc_count': 29, 'all_doc_count': 222}), (0.13043478260869565, 'chop', {'mini_doc_count': 8, 'doc_count': 9, 'all_doc_count': 69}), (0.13, 'butter', {'mini_doc_count': 6, 'doc_count': 13, 'all_doc_count': 100}), (0.12994350282485875, 'ghosts', {'mini_doc_count': 7, 'doc_count': 23, 'all_doc_count': 177}), (0.12903225806451613, 'require', {'mini_doc_count': 7, 'doc_count': 8, 'all_doc_count': 62}), (0.12828947368421054, 'princess', {'mini_doc_count': 11, 'doc_count': 39, 'all_doc_count': 304}), (0.12562814070351758, 'destiny', {'mini_doc_count': 13, 'doc_count': 25, 'all_doc_count': 199}), (0.125, 'magnificent', {'mini_doc_count': 7, 'doc_count': 15, 'all_doc_count': 120}), (0.12380952380952381, 'circus', {'mini_doc_count': 9, 'doc_count': 13, 'all_doc_count': 105}), (0.12280701754385964, 'accomplished', {'mini_doc_count': 7, 'doc_count': 7, 'all_doc_count': 57}), (0.1223021582733813, 'curse', {'mini_doc_count': 6, 'doc_count': 17, 'all_doc_count': 139}), (0.12121212121212122, 'waking', {'mini_doc_count': 6, 'doc_count': 8, 'all_doc_count': 66}), (0.12048192771084337, 'lands', {'mini_doc_count': 7, 'doc_count': 10, 'all_doc_count': 83}), (0.12, 'skill', {'mini_doc_count': 7, 'doc_count': 9, 'all_doc_count': 75}), (0.11811023622047244, 'anger', {'mini_doc_count': 8, 'doc_count': 15, 'all_doc_count': 127}), (0.11764705882352941, 'wishes', {'mini_doc_count': 7, 'doc_count': 12, 'all_doc_count': 102}), (0.11627906976744186, 'climbing', {'mini_doc_count': 8, 'doc_count': 10, 'all_doc_count': 86}), (0.11594202898550725, 'clothing', {'mini_doc_count': 6, 'doc_count': 8, 'all_doc_count': 69}), (0.11594202898550725, 'theirs', {'mini_doc_count': 8, 'doc_count': 8, 'all_doc_count': 69}), (0.11475409836065574, 'massive', {'mini_doc_count': 6, 'doc_count': 7, 'all_doc_count': 61}), (0.11458333333333333, 'wings', {'mini_doc_count': 7, 'doc_count': 22, 'all_doc_count': 192}), (0.11428571428571428, 'wisdom', {'mini_doc_count': 7, 'doc_count': 8, 'all_doc_count': 70}), (0.11392405063291139, 'presents', {'mini_doc_count': 7, 'doc_count': 9, 'all_doc_count': 79}), (0.1125, 'deeply', {'mini_doc_count': 8, 'doc_count': 9, 'all_doc_count': 80}), (0.11219512195121951, 'prince', {'mini_doc_count': 13, 'doc_count': 23, 'all_doc_count': 205}), (0.1111111111111111, 'statue', {'mini_doc_count': 6, 'doc_count': 11, 'all_doc_count': 99}), (0.1095890410958904, 'proposal', {'mini_doc_count': 6, 'doc_count': 8, 'all_doc_count': 73}), (0.10909090909090909, 'pet', {'mini_doc_count': 7, 'doc_count': 12, 'all_doc_count': 110}), (0.10687022900763359, 'powers', {'mini_doc_count': 13, 'doc_count': 28, 'all_doc_count': 262}), (0.10679611650485436, 'resist', {'mini_doc_count': 10, 'doc_count': 11, 'all_doc_count': 103}), (0.10674157303370786, 'passion', {'mini_doc_count': 11, 'doc_count': 19, 'all_doc_count': 178}), (0.10638297872340426, 'monsters', {'mini_doc_count': 7, 'doc_count': 10, 'all_doc_count': 94}), (0.10526315789473684, 'catches', {'mini_doc_count': 6, 'doc_count': 6, 'all_doc_count': 57}), (0.10526315789473684, 'blaming', {'mini_doc_count': 6, 'doc_count': 6, 'all_doc_count': 57}), (0.10526315789473684, 'messing', {'mini_doc_count': 6, 'doc_count': 6, 'all_doc_count': 57}), (0.10483870967741936, 'flower', {'mini_doc_count': 6, 'doc_count': 13, 'all_doc_count': 124}), (0.10476190476190476, 'genetic', {'mini_doc_count': 8, 'doc_count': 11, 'all_doc_count': 105}), (0.10465116279069768, 'wounds', {'mini_doc_count': 7, 'doc_count': 9, 'all_doc_count': 86}), (0.10434782608695652, 'lane', {'mini_doc_count': 7, 'doc_count': 12, 'all_doc_count': 115}), (0.1038961038961039, 'session', {'mini_doc_count': 7, 'doc_count': 8, 'all_doc_count': 77}), (0.1038961038961039, 'creatures', {'mini_doc_count': 11, 'doc_count': 16, 'all_doc_count': 154}), (0.10309278350515463, 'tradition', {'mini_doc_count': 7, 'doc_count': 10, 'all_doc_count': 97}), (0.102803738317757, 'heroes', {'mini_doc_count': 8, 'doc_count': 11, 'all_doc_count': 107}), (0.10204081632653061, 'maid', {'mini_doc_count': 9, 'doc_count': 15, 'all_doc_count': 147}), (0.1016949152542373, 'fascinating', {'mini_doc_count': 10, 'doc_count': 12, 'all_doc_count': 118}), (0.1015625, 'acid', {'mini_doc_count': 8, 'doc_count': 13, 'all_doc_count': 128}), (0.10144927536231885, 'mayor', {'mini_doc_count': 8, 'doc_count': 21, 'all_doc_count': 207}), (0.10077519379844961, 'guide', {'mini_doc_count': 9, 'doc_count': 13, 'all_doc_count': 129}), (0.10062893081761007, 'rise', {'mini_doc_count': 11, 'doc_count': 16, 'all_doc_count': 159}), (0.09951456310679611, 'ben', {'mini_doc_count': 7, 'doc_count': 82, 'all_doc_count': 824}), (0.09876543209876543, 'rising', {'mini_doc_count': 8, 'doc_count': 8, 'all_doc_count': 81}), (0.09876543209876543, 'creeps', {'mini_doc_count': 8, 'doc_count': 8, 'all_doc_count': 81}), (0.09836065573770492, 'ouch', {'mini_doc_count': 8, 'doc_count': 12, 'all_doc_count': 122}), (0.09782608695652174, 'ships', {'mini_doc_count': 8, 'doc_count': 18, 'all_doc_count': 184}), (0.09782608695652174, 'greater', {'mini_doc_count': 7, 'doc_count': 9, 'all_doc_count': 92})]\n",
      "[(0.19387755102040816, 'jews', {'mini_doc_count': 7, 'doc_count': 19, 'all_doc_count': 98}), (0.1875, 'misunderstood', {'mini_doc_count': 6, 'doc_count': 6, 'all_doc_count': 32}), (0.17548076923076922, 'majesty', {'mini_doc_count': 6, 'doc_count': 73, 'all_doc_count': 416}), (0.14720812182741116, 'title', {'mini_doc_count': 7, 'doc_count': 29, 'all_doc_count': 197}), (0.1380952380952381, 'tony', {'mini_doc_count': 6, 'doc_count': 29, 'all_doc_count': 210}), (0.13114754098360656, 'behalf', {'mini_doc_count': 7, 'doc_count': 8, 'all_doc_count': 61}), (0.1282051282051282, 'clerk', {'mini_doc_count': 6, 'doc_count': 10, 'all_doc_count': 78}), (0.1038961038961039, 'writes', {'mini_doc_count': 6, 'doc_count': 8, 'all_doc_count': 77}), (0.10204081632653061, 'attend', {'mini_doc_count': 6, 'doc_count': 10, 'all_doc_count': 98}), (0.09935897435897435, 'director', {'mini_doc_count': 8, 'doc_count': 31, 'all_doc_count': 312}), (0.09049773755656108, 'audience', {'mini_doc_count': 9, 'doc_count': 20, 'all_doc_count': 221}), (0.08571428571428572, 'profit', {'mini_doc_count': 8, 'doc_count': 9, 'all_doc_count': 105}), (0.08571428571428572, 'politics', {'mini_doc_count': 6, 'doc_count': 15, 'all_doc_count': 175}), (0.08234519104084322, 'george', {'mini_doc_count': 9, 'doc_count': 125, 'all_doc_count': 1518}), (0.08, 'labor', {'mini_doc_count': 6, 'doc_count': 6, 'all_doc_count': 75}), (0.07894736842105263, 'influence', {'mini_doc_count': 7, 'doc_count': 9, 'all_doc_count': 114}), (0.07865168539325842, 'institution', {'mini_doc_count': 6, 'doc_count': 7, 'all_doc_count': 89}), (0.078125, 'speaks', {'mini_doc_count': 7, 'doc_count': 10, 'all_doc_count': 128}), (0.07772020725388601, 'artist', {'mini_doc_count': 7, 'doc_count': 15, 'all_doc_count': 193}), (0.07368421052631578, 'citizen', {'mini_doc_count': 7, 'doc_count': 14, 'all_doc_count': 190}), (0.07202216066481995, 'tea', {'mini_doc_count': 11, 'doc_count': 26, 'all_doc_count': 361}), (0.07027027027027027, 'lawyers', {'mini_doc_count': 7, 'doc_count': 13, 'all_doc_count': 185}), (0.06926406926406926, 'pray', {'mini_doc_count': 8, 'doc_count': 16, 'all_doc_count': 231}), (0.06912442396313365, 'filled', {'mini_doc_count': 10, 'doc_count': 15, 'all_doc_count': 217}), (0.06896551724137931, 'theater', {'mini_doc_count': 6, 'doc_count': 12, 'all_doc_count': 174}), (0.0660377358490566, 'drawing', {'mini_doc_count': 6, 'doc_count': 7, 'all_doc_count': 106}), (0.0658682634730539, 'queen', {'mini_doc_count': 7, 'doc_count': 33, 'all_doc_count': 501}), (0.06584362139917696, 'terms', {'mini_doc_count': 9, 'doc_count': 16, 'all_doc_count': 243}), (0.06578947368421052, 'confess', {'mini_doc_count': 6, 'doc_count': 10, 'all_doc_count': 152}), (0.06465517241379311, 'royal', {'mini_doc_count': 7, 'doc_count': 15, 'all_doc_count': 232}), (0.06283422459893048, 'court', {'mini_doc_count': 12, 'doc_count': 47, 'all_doc_count': 748}), (0.0625, 'arrange', {'mini_doc_count': 7, 'doc_count': 9, 'all_doc_count': 144}), (0.06171983356449376, 'president', {'mini_doc_count': 8, 'doc_count': 89, 'all_doc_count': 1442}), (0.06164383561643835, 'costs', {'mini_doc_count': 7, 'doc_count': 9, 'all_doc_count': 146}), (0.06128133704735376, 'national', {'mini_doc_count': 9, 'doc_count': 22, 'all_doc_count': 359}), (0.061224489795918366, 'pity', {'mini_doc_count': 10, 'doc_count': 15, 'all_doc_count': 245}), (0.059574468085106386, 'mama', {'mini_doc_count': 11, 'doc_count': 42, 'all_doc_count': 705}), (0.058011049723756904, 'mr', {'mini_doc_count': 6, 'doc_count': 42, 'all_doc_count': 724}), (0.05785123966942149, 'reputation', {'mini_doc_count': 8, 'doc_count': 14, 'all_doc_count': 242}), (0.05673758865248227, 'press', {'mini_doc_count': 8, 'doc_count': 32, 'all_doc_count': 564}), (0.05625, 'provide', {'mini_doc_count': 6, 'doc_count': 9, 'all_doc_count': 160}), (0.05449591280653951, 'california', {'mini_doc_count': 6, 'doc_count': 20, 'all_doc_count': 367}), (0.05434782608695652, 'legal', {'mini_doc_count': 6, 'doc_count': 15, 'all_doc_count': 276}), (0.05384615384615385, 'europe', {'mini_doc_count': 7, 'doc_count': 14, 'all_doc_count': 260}), (0.053728949478749, 'movie', {'mini_doc_count': 6, 'doc_count': 67, 'all_doc_count': 1247}), (0.053691275167785234, 'noble', {'mini_doc_count': 6, 'doc_count': 8, 'all_doc_count': 149}), (0.05319148936170213, 'assure', {'mini_doc_count': 6, 'doc_count': 10, 'all_doc_count': 188}), (0.05303030303030303, 'hire', {'mini_doc_count': 7, 'doc_count': 14, 'all_doc_count': 264}), (0.0515695067264574, 'don', {'mini_doc_count': 6, 'doc_count': 23, 'all_doc_count': 446}), (0.05084745762711865, 'moral', {'mini_doc_count': 6, 'doc_count': 6, 'all_doc_count': 118}), (0.05042016806722689, 'publicity', {'mini_doc_count': 6, 'doc_count': 6, 'all_doc_count': 119}), (0.05, 'loyalty', {'mini_doc_count': 6, 'doc_count': 7, 'all_doc_count': 140}), (0.05, 'stage', {'mini_doc_count': 7, 'doc_count': 10, 'all_doc_count': 200}), (0.049689440993788817, 'sin', {'mini_doc_count': 6, 'doc_count': 8, 'all_doc_count': 161}), (0.04895104895104895, 'newspapers', {'mini_doc_count': 6, 'doc_count': 7, 'all_doc_count': 143}), (0.04854368932038835, 'movies', {'mini_doc_count': 6, 'doc_count': 30, 'all_doc_count': 618}), (0.04830917874396135, 'tits', {'mini_doc_count': 7, 'doc_count': 10, 'all_doc_count': 207}), (0.048013245033112585, 'picture', {'mini_doc_count': 9, 'doc_count': 58, 'all_doc_count': 1208}), (0.047619047619047616, 'surely', {'mini_doc_count': 6, 'doc_count': 15, 'all_doc_count': 315}), (0.047619047619047616, 'support', {'mini_doc_count': 10, 'doc_count': 17, 'all_doc_count': 357}), (0.047524752475247525, 'accept', {'mini_doc_count': 12, 'doc_count': 24, 'all_doc_count': 505}), (0.04736842105263158, 'knees', {'mini_doc_count': 7, 'doc_count': 9, 'all_doc_count': 190}), (0.0472972972972973, 'beg', {'mini_doc_count': 11, 'doc_count': 21, 'all_doc_count': 444}), (0.04645161290322581, 'public', {'mini_doc_count': 10, 'doc_count': 36, 'all_doc_count': 775}), (0.04606060606060606, 'bob', {'mini_doc_count': 7, 'doc_count': 38, 'all_doc_count': 825}), (0.04602510460251046, 'jobs', {'mini_doc_count': 7, 'doc_count': 11, 'all_doc_count': 239}), (0.04593929450369155, 'john', {'mini_doc_count': 9, 'doc_count': 112, 'all_doc_count': 2438}), (0.04590818363273453, 'ridiculous', {'mini_doc_count': 11, 'doc_count': 23, 'all_doc_count': 501}), (0.045771144278606964, 'war', {'mini_doc_count': 15, 'doc_count': 92, 'all_doc_count': 2010}), (0.045662100456621, 'medicine', {'mini_doc_count': 8, 'doc_count': 10, 'all_doc_count': 219}), (0.04516129032258064, 'mental', {'mini_doc_count': 6, 'doc_count': 7, 'all_doc_count': 155}), (0.04477611940298507, 'country', {'mini_doc_count': 18, 'doc_count': 81, 'all_doc_count': 1809}), (0.044444444444444446, 'uses', {'mini_doc_count': 6, 'doc_count': 6, 'all_doc_count': 135}), (0.044386422976501305, 'decision', {'mini_doc_count': 10, 'doc_count': 17, 'all_doc_count': 383}), (0.04435483870967742, 'fought', {'mini_doc_count': 9, 'doc_count': 11, 'all_doc_count': 248}), (0.043835616438356165, 'pig', {'mini_doc_count': 7, 'doc_count': 16, 'all_doc_count': 365}), (0.043478260869565216, 'drinking', {'mini_doc_count': 13, 'doc_count': 17, 'all_doc_count': 391}), (0.04340836012861737, 'york', {'mini_doc_count': 13, 'doc_count': 54, 'all_doc_count': 1244}), (0.04282407407407408, 'sake', {'mini_doc_count': 13, 'doc_count': 37, 'all_doc_count': 864}), (0.04265402843601896, 'crowd', {'mini_doc_count': 6, 'doc_count': 9, 'all_doc_count': 211}), (0.0423728813559322, 'offered', {'mini_doc_count': 8, 'doc_count': 10, 'all_doc_count': 236}), (0.0421455938697318, 'arrested', {'mini_doc_count': 8, 'doc_count': 11, 'all_doc_count': 261}), (0.042105263157894736, 'america', {'mini_doc_count': 10, 'doc_count': 28, 'all_doc_count': 665}), (0.041884816753926704, 'government', {'mini_doc_count': 7, 'doc_count': 32, 'all_doc_count': 764}), (0.04185351270553064, 'star', {'mini_doc_count': 9, 'doc_count': 28, 'all_doc_count': 669}), (0.041666666666666664, 'post', {'mini_doc_count': 7, 'doc_count': 17, 'all_doc_count': 408}), (0.04154302670623145, 'threw', {'mini_doc_count': 10, 'doc_count': 14, 'all_doc_count': 337}), (0.041401273885350316, 'fighting', {'mini_doc_count': 18, 'doc_count': 26, 'all_doc_count': 628}), (0.04119850187265917, 'rights', {'mini_doc_count': 7, 'doc_count': 11, 'all_doc_count': 267}), (0.0411522633744856, 'pleased', {'mini_doc_count': 7, 'doc_count': 10, 'all_doc_count': 243}), (0.04100946372239748, 'sunday', {'mini_doc_count': 7, 'doc_count': 13, 'all_doc_count': 317}), (0.040955631399317405, 'respect', {'mini_doc_count': 16, 'doc_count': 36, 'all_doc_count': 879}), (0.040776699029126215, 'proud', {'mini_doc_count': 11, 'doc_count': 21, 'all_doc_count': 515}), (0.04054054054054054, 'papers', {'mini_doc_count': 11, 'doc_count': 24, 'all_doc_count': 592}), (0.04024144869215292, 'judge', {'mini_doc_count': 13, 'doc_count': 20, 'all_doc_count': 497}), (0.04, 'cast', {'mini_doc_count': 6, 'doc_count': 8, 'all_doc_count': 200}), (0.03977272727272727, 'serve', {'mini_doc_count': 9, 'doc_count': 14, 'all_doc_count': 352}), (0.039634146341463415, 'continue', {'mini_doc_count': 9, 'doc_count': 13, 'all_doc_count': 328}), (0.039473684210526314, 'princess', {'mini_doc_count': 6, 'doc_count': 12, 'all_doc_count': 304}), (0.0391304347826087, 'pleasure', {'mini_doc_count': 11, 'doc_count': 27, 'all_doc_count': 690})]\n",
      "[(0.43529411764705883, 'germans', {'mini_doc_count': 8, 'doc_count': 37, 'all_doc_count': 85}), (0.4090909090909091, 'rebels', {'mini_doc_count': 6, 'doc_count': 9, 'all_doc_count': 22}), (0.21774193548387097, 'duke', {'mini_doc_count': 6, 'doc_count': 27, 'all_doc_count': 124}), (0.2018348623853211, 'berlin', {'mini_doc_count': 6, 'doc_count': 22, 'all_doc_count': 109}), (0.16129032258064516, 'colonel', {'mini_doc_count': 12, 'doc_count': 80, 'all_doc_count': 496}), (0.1509433962264151, 'silk', {'mini_doc_count': 6, 'doc_count': 8, 'all_doc_count': 53}), (0.15028901734104047, 'german', {'mini_doc_count': 8, 'doc_count': 26, 'all_doc_count': 173}), (0.13168724279835392, 'soldiers', {'mini_doc_count': 11, 'doc_count': 32, 'all_doc_count': 243}), (0.128, 'france', {'mini_doc_count': 9, 'doc_count': 32, 'all_doc_count': 250}), (0.12, 'politics', {'mini_doc_count': 6, 'doc_count': 21, 'all_doc_count': 175}), (0.112, 'british', {'mini_doc_count': 6, 'doc_count': 28, 'all_doc_count': 250}), (0.10752688172043011, 'rank', {'mini_doc_count': 6, 'doc_count': 10, 'all_doc_count': 93}), (0.10091743119266056, 'americans', {'mini_doc_count': 7, 'doc_count': 22, 'all_doc_count': 218}), (0.0945273631840796, 'officers', {'mini_doc_count': 8, 'doc_count': 19, 'all_doc_count': 201}), (0.09333333333333334, 'england', {'mini_doc_count': 6, 'doc_count': 28, 'all_doc_count': 300}), (0.09045226130653267, 'letters', {'mini_doc_count': 6, 'doc_count': 36, 'all_doc_count': 398}), (0.0891089108910891, 'civilian', {'mini_doc_count': 6, 'doc_count': 9, 'all_doc_count': 101}), (0.08849557522123894, 'prisoners', {'mini_doc_count': 6, 'doc_count': 10, 'all_doc_count': 113}), (0.08669656203288491, 'french', {'mini_doc_count': 13, 'doc_count': 58, 'all_doc_count': 669}), (0.08547008547008547, 'cow', {'mini_doc_count': 8, 'doc_count': 10, 'all_doc_count': 117}), (0.08037383177570094, 'army', {'mini_doc_count': 18, 'doc_count': 86, 'all_doc_count': 1070}), (0.07874015748031496, 'wounded', {'mini_doc_count': 8, 'doc_count': 10, 'all_doc_count': 127}), (0.07865168539325842, 'english', {'mini_doc_count': 10, 'doc_count': 63, 'all_doc_count': 801}), (0.07692307692307693, 'soldier', {'mini_doc_count': 10, 'doc_count': 20, 'all_doc_count': 260}), (0.07562189054726368, 'war', {'mini_doc_count': 21, 'doc_count': 152, 'all_doc_count': 2010}), (0.07344632768361582, 'river', {'mini_doc_count': 10, 'doc_count': 39, 'all_doc_count': 531}), (0.07150595882990249, 'major', {'mini_doc_count': 7, 'doc_count': 66, 'all_doc_count': 923}), (0.07142857142857142, 'receive', {'mini_doc_count': 6, 'doc_count': 9, 'all_doc_count': 126}), (0.06435643564356436, 'dawn', {'mini_doc_count': 9, 'doc_count': 13, 'all_doc_count': 202}), (0.06382978723404255, 'prisoner', {'mini_doc_count': 6, 'doc_count': 9, 'all_doc_count': 141}), (0.06352545225073622, 'captain', {'mini_doc_count': 10, 'doc_count': 151, 'all_doc_count': 2377}), (0.06132075471698113, 'escape', {'mini_doc_count': 8, 'doc_count': 26, 'all_doc_count': 424}), (0.0610079575596817, 'camp', {'mini_doc_count': 8, 'doc_count': 23, 'all_doc_count': 377}), (0.05921052631578947, 'yards', {'mini_doc_count': 6, 'doc_count': 9, 'all_doc_count': 152}), (0.05855855855855856, 'trees', {'mini_doc_count': 8, 'doc_count': 13, 'all_doc_count': 222}), (0.05761316872427984, 'terms', {'mini_doc_count': 6, 'doc_count': 14, 'all_doc_count': 243}), (0.05442176870748299, 'pride', {'mini_doc_count': 6, 'doc_count': 8, 'all_doc_count': 147}), (0.05399568034557235, 'king', {'mini_doc_count': 11, 'doc_count': 75, 'all_doc_count': 1389}), (0.05235602094240838, 'enemies', {'mini_doc_count': 6, 'doc_count': 10, 'all_doc_count': 191}), (0.05217391304347826, 'lieutenant', {'mini_doc_count': 10, 'doc_count': 36, 'all_doc_count': 690}), (0.05113636363636364, 'surrender', {'mini_doc_count': 6, 'doc_count': 9, 'all_doc_count': 176}), (0.05063291139240506, 'north', {'mini_doc_count': 13, 'doc_count': 28, 'all_doc_count': 553}), (0.048728813559322036, 'lord', {'mini_doc_count': 8, 'doc_count': 46, 'all_doc_count': 944}), (0.048458149779735685, 'duty', {'mini_doc_count': 10, 'doc_count': 22, 'all_doc_count': 454}), (0.04838709677419355, 'fought', {'mini_doc_count': 8, 'doc_count': 12, 'all_doc_count': 248}), (0.04790419161676647, 'joined', {'mini_doc_count': 6, 'doc_count': 8, 'all_doc_count': 167}), (0.04597701149425287, 'held', {'mini_doc_count': 11, 'doc_count': 20, 'all_doc_count': 435}), (0.045346062052505964, 'enemy', {'mini_doc_count': 10, 'doc_count': 19, 'all_doc_count': 419}), (0.04504504504504504, 'beg', {'mini_doc_count': 10, 'doc_count': 20, 'all_doc_count': 444}), (0.04498269896193772, 'battle', {'mini_doc_count': 8, 'doc_count': 13, 'all_doc_count': 289}), (0.043726235741444866, 'general', {'mini_doc_count': 12, 'doc_count': 46, 'all_doc_count': 1052}), (0.04360902255639098, 'america', {'mini_doc_count': 10, 'doc_count': 29, 'all_doc_count': 665}), (0.0427807486631016, 'warning', {'mini_doc_count': 6, 'doc_count': 8, 'all_doc_count': 187}), (0.04225352112676056, 'freedom', {'mini_doc_count': 6, 'doc_count': 12, 'all_doc_count': 284}), (0.04136947218259629, 'mission', {'mini_doc_count': 8, 'doc_count': 29, 'all_doc_count': 701}), (0.04030823947836396, 'fight', {'mini_doc_count': 15, 'doc_count': 68, 'all_doc_count': 1687}), (0.03949447077409163, 'orders', {'mini_doc_count': 14, 'doc_count': 25, 'all_doc_count': 633}), (0.03907380607814761, 'peace', {'mini_doc_count': 9, 'doc_count': 27, 'all_doc_count': 691}), (0.03879310344827586, 'royal', {'mini_doc_count': 6, 'doc_count': 9, 'all_doc_count': 232}), (0.038461538461538464, 'majesty', {'mini_doc_count': 7, 'doc_count': 16, 'all_doc_count': 416}), (0.03821656050955414, 'fighting', {'mini_doc_count': 12, 'doc_count': 24, 'all_doc_count': 628}), (0.03807106598984772, 'pounds', {'mini_doc_count': 6, 'doc_count': 15, 'all_doc_count': 394}), (0.03773584905660377, 'private', {'mini_doc_count': 10, 'doc_count': 34, 'all_doc_count': 901}), (0.03756708407871199, 'wind', {'mini_doc_count': 10, 'doc_count': 21, 'all_doc_count': 559}), (0.0371900826446281, 'riding', {'mini_doc_count': 6, 'doc_count': 9, 'all_doc_count': 242}), (0.0371900826446281, 'revenge', {'mini_doc_count': 7, 'doc_count': 9, 'all_doc_count': 242}), (0.03715170278637771, 'market', {'mini_doc_count': 7, 'doc_count': 12, 'all_doc_count': 323}), (0.03709949409780776, 'gentlemen', {'mini_doc_count': 8, 'doc_count': 22, 'all_doc_count': 593}), (0.037009622501850484, 'shall', {'mini_doc_count': 11, 'doc_count': 50, 'all_doc_count': 1351}), (0.03676470588235294, 'staff', {'mini_doc_count': 6, 'doc_count': 10, 'all_doc_count': 272}), (0.03666666666666667, 'price', {'mini_doc_count': 6, 'doc_count': 22, 'all_doc_count': 600}), (0.036585365853658534, 'pretend', {'mini_doc_count': 7, 'doc_count': 12, 'all_doc_count': 328}), (0.03656307129798903, 'lay', {'mini_doc_count': 11, 'doc_count': 20, 'all_doc_count': 547}), (0.0361794500723589, 'church', {'mini_doc_count': 7, 'doc_count': 25, 'all_doc_count': 691}), (0.03558282208588957, 'officer', {'mini_doc_count': 12, 'doc_count': 29, 'all_doc_count': 815}), (0.03549571603427173, 'land', {'mini_doc_count': 7, 'doc_count': 29, 'all_doc_count': 817}), (0.03533026113671275, 'bomb', {'mini_doc_count': 8, 'doc_count': 23, 'all_doc_count': 651}), (0.0350109409190372, 'played', {'mini_doc_count': 7, 'doc_count': 16, 'all_doc_count': 457}), (0.03488372093023256, 'grateful', {'mini_doc_count': 7, 'doc_count': 9, 'all_doc_count': 258}), (0.03470031545741325, 'fresh', {'mini_doc_count': 6, 'doc_count': 11, 'all_doc_count': 317}), (0.034482758620689655, 'arrested', {'mini_doc_count': 6, 'doc_count': 9, 'all_doc_count': 261}), (0.03441522104085059, 'men', {'mini_doc_count': 19, 'doc_count': 123, 'all_doc_count': 3574}), (0.034383954154727794, 'expected', {'mini_doc_count': 7, 'doc_count': 12, 'all_doc_count': 349}), (0.034375, 'sending', {'mini_doc_count': 7, 'doc_count': 11, 'all_doc_count': 320}), (0.03415559772296015, 'knowing', {'mini_doc_count': 11, 'doc_count': 18, 'all_doc_count': 527}), (0.033942558746736295, 'decision', {'mini_doc_count': 10, 'doc_count': 13, 'all_doc_count': 383}), (0.033707865168539325, 'believes', {'mini_doc_count': 6, 'doc_count': 6, 'all_doc_count': 178}), (0.03367003367003367, 'naturally', {'mini_doc_count': 7, 'doc_count': 10, 'all_doc_count': 297}), (0.033663366336633666, 'accept', {'mini_doc_count': 10, 'doc_count': 17, 'all_doc_count': 505}), (0.033391915641476276, 'cross', {'mini_doc_count': 8, 'doc_count': 19, 'all_doc_count': 569}), (0.03317535545023697, 'courage', {'mini_doc_count': 6, 'doc_count': 7, 'all_doc_count': 211}), (0.03273809523809524, 'stayed', {'mini_doc_count': 9, 'doc_count': 11, 'all_doc_count': 336}), (0.032663316582914576, 'view', {'mini_doc_count': 8, 'doc_count': 13, 'all_doc_count': 398}), (0.03235294117647059, 'allowed', {'mini_doc_count': 8, 'doc_count': 11, 'all_doc_count': 340}), (0.032208588957055216, 'guns', {'mini_doc_count': 10, 'doc_count': 21, 'all_doc_count': 652}), (0.03187250996015936, 'village', {'mini_doc_count': 6, 'doc_count': 8, 'all_doc_count': 251}), (0.03186646433990895, 'field', {'mini_doc_count': 11, 'doc_count': 21, 'all_doc_count': 659}), (0.031806615776081425, 'sent', {'mini_doc_count': 16, 'doc_count': 50, 'all_doc_count': 1572}), (0.031746031746031744, 'draw', {'mini_doc_count': 8, 'doc_count': 10, 'all_doc_count': 315}), (0.03153153153153153, 'leg', {'mini_doc_count': 8, 'doc_count': 14, 'all_doc_count': 444})]\n",
      "[(0.1201923076923077, 'majesty', {'mini_doc_count': 6, 'doc_count': 50, 'all_doc_count': 416}), (0.08940397350993377, 'strike', {'mini_doc_count': 7, 'doc_count': 27, 'all_doc_count': 302}), (0.07584830339321358, 'queen', {'mini_doc_count': 6, 'doc_count': 38, 'all_doc_count': 501}), (0.07327586206896551, 'royal', {'mini_doc_count': 7, 'doc_count': 17, 'all_doc_count': 232}), (0.068, 'france', {'mini_doc_count': 7, 'doc_count': 17, 'all_doc_count': 250}), (0.054878048780487805, 'vote', {'mini_doc_count': 6, 'doc_count': 9, 'all_doc_count': 164}), (0.05183585313174946, 'king', {'mini_doc_count': 6, 'doc_count': 72, 'all_doc_count': 1389}), (0.049237170596393896, 'president', {'mini_doc_count': 8, 'doc_count': 71, 'all_doc_count': 1442}), (0.047619047619047616, 'trade', {'mini_doc_count': 6, 'doc_count': 18, 'all_doc_count': 378}), (0.046875, 'reports', {'mini_doc_count': 6, 'doc_count': 9, 'all_doc_count': 192}), (0.04597701149425287, 'arrested', {'mini_doc_count': 8, 'doc_count': 12, 'all_doc_count': 261}), (0.043726235741444866, 'general', {'mini_doc_count': 14, 'doc_count': 46, 'all_doc_count': 1052}), (0.04178272980501393, 'national', {'mini_doc_count': 6, 'doc_count': 15, 'all_doc_count': 359}), (0.04126984126984127, 'surely', {'mini_doc_count': 7, 'doc_count': 13, 'all_doc_count': 315}), (0.041237113402061855, 'ordered', {'mini_doc_count': 8, 'doc_count': 12, 'all_doc_count': 291}), (0.04057591623036649, 'government', {'mini_doc_count': 7, 'doc_count': 31, 'all_doc_count': 764}), (0.040106951871657755, 'excellent', {'mini_doc_count': 9, 'doc_count': 15, 'all_doc_count': 374}), (0.039603960396039604, 'accept', {'mini_doc_count': 9, 'doc_count': 20, 'all_doc_count': 505}), (0.03894736842105263, 'white', {'mini_doc_count': 9, 'doc_count': 74, 'all_doc_count': 1900}), (0.03814602132895816, 'john', {'mini_doc_count': 7, 'doc_count': 93, 'all_doc_count': 2438}), (0.03773584905660377, 'private', {'mini_doc_count': 11, 'doc_count': 34, 'all_doc_count': 901}), (0.0375, 'trial', {'mini_doc_count': 6, 'doc_count': 15, 'all_doc_count': 400}), (0.036585365853658534, 'chief', {'mini_doc_count': 6, 'doc_count': 36, 'all_doc_count': 984}), (0.036303630363036306, 'weak', {'mini_doc_count': 6, 'doc_count': 11, 'all_doc_count': 303}), (0.036020583190394515, 'brothers', {'mini_doc_count': 9, 'doc_count': 21, 'all_doc_count': 583}), (0.03551401869158879, 'army', {'mini_doc_count': 12, 'doc_count': 38, 'all_doc_count': 1070}), (0.03475513428120063, 'orders', {'mini_doc_count': 9, 'doc_count': 22, 'all_doc_count': 633}), (0.03409090909090909, 'serve', {'mini_doc_count': 7, 'doc_count': 12, 'all_doc_count': 352}), (0.033783783783783786, 'beg', {'mini_doc_count': 7, 'doc_count': 15, 'all_doc_count': 444}), (0.033707865168539325, 'rights', {'mini_doc_count': 7, 'doc_count': 9, 'all_doc_count': 267}), (0.03328509406657019, 'peace', {'mini_doc_count': 10, 'doc_count': 23, 'all_doc_count': 691}), (0.03324468085106383, 'forgive', {'mini_doc_count': 9, 'doc_count': 25, 'all_doc_count': 752}), (0.03286384976525822, 'lower', {'mini_doc_count': 6, 'doc_count': 7, 'all_doc_count': 213}), (0.032803180914512925, 'boss', {'mini_doc_count': 7, 'doc_count': 33, 'all_doc_count': 1006}), (0.032407407407407406, 'directly', {'mini_doc_count': 6, 'doc_count': 7, 'all_doc_count': 216}), (0.03225806451612903, 'filled', {'mini_doc_count': 6, 'doc_count': 7, 'all_doc_count': 217}), (0.032208588957055216, 'guns', {'mini_doc_count': 8, 'doc_count': 21, 'all_doc_count': 652}), (0.031862745098039214, 'post', {'mini_doc_count': 6, 'doc_count': 13, 'all_doc_count': 408}), (0.03138373751783167, 'mission', {'mini_doc_count': 7, 'doc_count': 22, 'all_doc_count': 701}), (0.03111111111111111, 'plain', {'mini_doc_count': 6, 'doc_count': 7, 'all_doc_count': 225}), (0.031007751937984496, 'request', {'mini_doc_count': 6, 'doc_count': 8, 'all_doc_count': 258}), (0.03081232492997199, 'support', {'mini_doc_count': 9, 'doc_count': 11, 'all_doc_count': 357}), (0.03065134099616858, 'letter', {'mini_doc_count': 10, 'doc_count': 24, 'all_doc_count': 783}), (0.03048780487804878, 'continue', {'mini_doc_count': 8, 'doc_count': 10, 'all_doc_count': 328}), (0.030100334448160536, 'lies', {'mini_doc_count': 6, 'doc_count': 9, 'all_doc_count': 299}), (0.0297029702970297, 'prison', {'mini_doc_count': 7, 'doc_count': 24, 'all_doc_count': 808}), (0.029411764705882353, 'allowed', {'mini_doc_count': 9, 'doc_count': 10, 'all_doc_count': 340}), (0.02877697841726619, 'page', {'mini_doc_count': 6, 'doc_count': 12, 'all_doc_count': 417}), (0.028662420382165606, 'fighting', {'mini_doc_count': 10, 'doc_count': 18, 'all_doc_count': 628}), (0.028634361233480177, 'duty', {'mini_doc_count': 7, 'doc_count': 13, 'all_doc_count': 454}), (0.028601694915254237, 'lord', {'mini_doc_count': 9, 'doc_count': 27, 'all_doc_count': 944}), (0.02857142857142857, 'admire', {'mini_doc_count': 6, 'doc_count': 6, 'all_doc_count': 210}), (0.02857142857142857, 'pity', {'mini_doc_count': 6, 'doc_count': 7, 'all_doc_count': 245}), (0.028368794326241134, 'mama', {'mini_doc_count': 7, 'doc_count': 20, 'all_doc_count': 705}), (0.028368794326241134, 'press', {'mini_doc_count': 7, 'doc_count': 16, 'all_doc_count': 564}), (0.02830188679245283, 'considered', {'mini_doc_count': 6, 'doc_count': 6, 'all_doc_count': 212}), (0.02806122448979592, 'opinion', {'mini_doc_count': 6, 'doc_count': 11, 'all_doc_count': 392}), (0.02771362586605081, 'simply', {'mini_doc_count': 9, 'doc_count': 12, 'all_doc_count': 433}), (0.02748091603053435, 'horse', {'mini_doc_count': 6, 'doc_count': 18, 'all_doc_count': 655}), (0.02708803611738149, 'rule', {'mini_doc_count': 8, 'doc_count': 12, 'all_doc_count': 443}), (0.02702702702702703, 'forward', {'mini_doc_count': 9, 'doc_count': 13, 'all_doc_count': 481}), (0.026865671641791045, 'war', {'mini_doc_count': 13, 'doc_count': 54, 'all_doc_count': 2010}), (0.026353276353276354, 'children', {'mini_doc_count': 9, 'doc_count': 37, 'all_doc_count': 1404}), (0.026246719160104987, 'bright', {'mini_doc_count': 7, 'doc_count': 10, 'all_doc_count': 381}), (0.02574146614437605, 'men', {'mini_doc_count': 18, 'doc_count': 92, 'all_doc_count': 3574}), (0.02542841348811498, 'country', {'mini_doc_count': 12, 'doc_count': 46, 'all_doc_count': 1809}), (0.025195968645016796, 'black', {'mini_doc_count': 11, 'doc_count': 45, 'all_doc_count': 1786}), (0.024930747922437674, 'tea', {'mini_doc_count': 7, 'doc_count': 9, 'all_doc_count': 361}), (0.02480270574971815, 'fool', {'mini_doc_count': 11, 'doc_count': 22, 'all_doc_count': 887}), (0.024703557312252964, 'given', {'mini_doc_count': 12, 'doc_count': 25, 'all_doc_count': 1012}), (0.024691358024691357, 'aware', {'mini_doc_count': 6, 'doc_count': 8, 'all_doc_count': 324}), (0.02452316076294278, 'liar', {'mini_doc_count': 7, 'doc_count': 9, 'all_doc_count': 367}), (0.024516129032258065, 'public', {'mini_doc_count': 8, 'doc_count': 19, 'all_doc_count': 775}), (0.024252223120452707, 'secret', {'mini_doc_count': 8, 'doc_count': 30, 'all_doc_count': 1237}), (0.024213075060532687, 'closer', {'mini_doc_count': 10, 'doc_count': 10, 'all_doc_count': 413}), (0.02406015037593985, 'america', {'mini_doc_count': 6, 'doc_count': 16, 'all_doc_count': 665}), (0.023868312757201648, 'words', {'mini_doc_count': 11, 'doc_count': 29, 'all_doc_count': 1215}), (0.023809523809523808, 'brave', {'mini_doc_count': 6, 'doc_count': 6, 'all_doc_count': 252}), (0.023605150214592276, 'build', {'mini_doc_count': 10, 'doc_count': 11, 'all_doc_count': 466}), (0.023554603854389723, 'blind', {'mini_doc_count': 9, 'doc_count': 11, 'all_doc_count': 467}), (0.023404255319148935, 'decide', {'mini_doc_count': 6, 'doc_count': 11, 'all_doc_count': 470}), (0.023255813953488372, 'charge', {'mini_doc_count': 10, 'doc_count': 17, 'all_doc_count': 731}), (0.023192360163710776, 'list', {'mini_doc_count': 6, 'doc_count': 17, 'all_doc_count': 733}), (0.023192360163710776, 'cover', {'mini_doc_count': 7, 'doc_count': 17, 'all_doc_count': 733}), (0.023017902813299233, 'quickly', {'mini_doc_count': 8, 'doc_count': 9, 'all_doc_count': 391}), (0.022988505747126436, 'sees', {'mini_doc_count': 7, 'doc_count': 10, 'all_doc_count': 435}), (0.02287581699346405, 'finger', {'mini_doc_count': 6, 'doc_count': 7, 'all_doc_count': 306}), (0.02280130293159609, 'beginning', {'mini_doc_count': 8, 'doc_count': 14, 'all_doc_count': 614}), (0.022727272727272728, 'court', {'mini_doc_count': 6, 'doc_count': 17, 'all_doc_count': 748}), (0.02264808362369338, 'visit', {'mini_doc_count': 7, 'doc_count': 13, 'all_doc_count': 574}), (0.0225787284610814, 'speak', {'mini_doc_count': 16, 'doc_count': 38, 'all_doc_count': 1683}), (0.02252252252252252, 'de', {'mini_doc_count': 6, 'doc_count': 15, 'all_doc_count': 666}), (0.02247191011235955, 'company', {'mini_doc_count': 7, 'doc_count': 30, 'all_doc_count': 1335}), (0.022429906542056073, 'writing', {'mini_doc_count': 6, 'doc_count': 12, 'all_doc_count': 535}), (0.022297013041649136, 'captain', {'mini_doc_count': 9, 'doc_count': 53, 'all_doc_count': 2377}), (0.02220577350111029, 'shall', {'mini_doc_count': 10, 'doc_count': 30, 'all_doc_count': 1351}), (0.022033898305084745, 'mess', {'mini_doc_count': 7, 'doc_count': 13, 'all_doc_count': 590}), (0.021922428330522766, 'gentlemen', {'mini_doc_count': 7, 'doc_count': 13, 'all_doc_count': 593}), (0.021739130434782608, 'discuss', {'mini_doc_count': 6, 'doc_count': 9, 'all_doc_count': 414}), (0.02159468438538206, 'command', {'mini_doc_count': 6, 'doc_count': 13, 'all_doc_count': 602})]\n",
      "[(0.06837606837606838, 'bend', {'mini_doc_count': 6, 'doc_count': 8, 'all_doc_count': 117}), (0.033707865168539325, 'huh', {'mini_doc_count': 13, 'doc_count': 192, 'all_doc_count': 5696}), (0.03211009174311927, 'cake', {'mini_doc_count': 6, 'doc_count': 7, 'all_doc_count': 218}), (0.03155127081507449, 'system', {'mini_doc_count': 6, 'doc_count': 36, 'all_doc_count': 1141}), (0.029304029304029304, 'pal', {'mini_doc_count': 8, 'doc_count': 16, 'all_doc_count': 546}), (0.026865671641791045, 'destroyed', {'mini_doc_count': 6, 'doc_count': 9, 'all_doc_count': 335}), (0.024796413212553756, '<', {'mini_doc_count': 7, 'doc_count': 271, 'all_doc_count': 10929}), (0.02453559290469761, '>', {'mini_doc_count': 8, 'doc_count': 527, 'all_doc_count': 21479}), (0.024096385542168676, 'wow', {'mini_doc_count': 8, 'doc_count': 16, 'all_doc_count': 664}), (0.02295918367346939, 'relax', {'mini_doc_count': 6, 'doc_count': 18, 'all_doc_count': 784}), (0.02247191011235955, 'hole', {'mini_doc_count': 7, 'doc_count': 14, 'all_doc_count': 623}), (0.021897810218978103, 'laugh', {'mini_doc_count': 6, 'doc_count': 12, 'all_doc_count': 548}), (0.021568627450980392, 'future', {'mini_doc_count': 9, 'doc_count': 22, 'all_doc_count': 1020}), (0.021563617782319876, 'u', {'mini_doc_count': 8, 'doc_count': 211, 'all_doc_count': 9785}), (0.021341463414634148, 'chief', {'mini_doc_count': 6, 'doc_count': 21, 'all_doc_count': 984}), (0.020973782771535582, 'cool', {'mini_doc_count': 6, 'doc_count': 28, 'all_doc_count': 1335}), (0.01932367149758454, 'matters', {'mini_doc_count': 6, 'doc_count': 8, 'all_doc_count': 414}), (0.019021739130434784, 'remind', {'mini_doc_count': 6, 'doc_count': 7, 'all_doc_count': 368}), (0.018957345971563982, 'orders', {'mini_doc_count': 7, 'doc_count': 12, 'all_doc_count': 633}), (0.018272425249169437, 'earth', {'mini_doc_count': 6, 'doc_count': 22, 'all_doc_count': 1204}), (0.01805869074492099, 'rule', {'mini_doc_count': 6, 'doc_count': 8, 'all_doc_count': 443}), (0.018, 'kick', {'mini_doc_count': 7, 'doc_count': 9, 'all_doc_count': 500}), (0.017857142857142856, 'apart', {'mini_doc_count': 6, 'doc_count': 9, 'all_doc_count': 504}), (0.017809139784946238, 'case', {'mini_doc_count': 8, 'doc_count': 53, 'all_doc_count': 2976}), (0.017699115044247787, 'feelings', {'mini_doc_count': 6, 'doc_count': 8, 'all_doc_count': 452}), (0.01730769230769231, 'difficult', {'mini_doc_count': 6, 'doc_count': 9, 'all_doc_count': 520}), (0.01729106628242075, 'opportunity', {'mini_doc_count': 6, 'doc_count': 6, 'all_doc_count': 347}), (0.016903914590747332, 'dark', {'mini_doc_count': 8, 'doc_count': 19, 'all_doc_count': 1124}), (0.0166073546856465, 'dangerous', {'mini_doc_count': 6, 'doc_count': 14, 'all_doc_count': 843}), (0.016333938294010888, 'destroy', {'mini_doc_count': 6, 'doc_count': 9, 'all_doc_count': 551}), (0.01593625498007968, 'prove', {'mini_doc_count': 7, 'doc_count': 12, 'all_doc_count': 753}), (0.015773907328294447, 'uh', {'mini_doc_count': 12, 'doc_count': 96, 'all_doc_count': 6086}), (0.01570048309178744, 'evil', {'mini_doc_count': 6, 'doc_count': 13, 'all_doc_count': 828}), (0.015537848605577689, 'actually', {'mini_doc_count': 13, 'doc_count': 39, 'all_doc_count': 2510}), (0.015521064301552107, 'possibly', {'mini_doc_count': 6, 'doc_count': 7, 'all_doc_count': 451}), (0.015060240963855422, 'joke', {'mini_doc_count': 8, 'doc_count': 10, 'all_doc_count': 664}), (0.015003948407475652, 'head', {'mini_doc_count': 14, 'doc_count': 57, 'all_doc_count': 3799}), (0.014502307185234015, 'kid', {'mini_doc_count': 14, 'doc_count': 44, 'all_doc_count': 3034}), (0.014449127031908489, 'sense', {'mini_doc_count': 6, 'doc_count': 24, 'all_doc_count': 1661}), (0.014396456256921373, 'quiet', {'mini_doc_count': 8, 'doc_count': 13, 'all_doc_count': 903}), (0.014240506329113924, 'dumb', {'mini_doc_count': 7, 'doc_count': 9, 'all_doc_count': 632}), (0.014210919970082274, 'food', {'mini_doc_count': 9, 'doc_count': 19, 'all_doc_count': 1337}), (0.014160766347355268, 'death', {'mini_doc_count': 9, 'doc_count': 34, 'all_doc_count': 2401}), (0.013910355486862442, 'starting', {'mini_doc_count': 6, 'doc_count': 9, 'all_doc_count': 647}), (0.013831258644536652, 'fly', {'mini_doc_count': 6, 'doc_count': 10, 'all_doc_count': 723}), (0.013831258644536652, 'dying', {'mini_doc_count': 6, 'doc_count': 10, 'all_doc_count': 723}), (0.013513513513513514, 'seconds', {'mini_doc_count': 6, 'doc_count': 10, 'all_doc_count': 740}), (0.013431013431013432, 'return', {'mini_doc_count': 8, 'doc_count': 11, 'all_doc_count': 819}), (0.013394725826705735, 'set', {'mini_doc_count': 13, 'doc_count': 32, 'all_doc_count': 2389}), (0.013363028953229399, 'finish', {'mini_doc_count': 6, 'doc_count': 12, 'all_doc_count': 898}), (0.013289036544850499, 'command', {'mini_doc_count': 6, 'doc_count': 8, 'all_doc_count': 602}), (0.013245033112582781, 'cold', {'mini_doc_count': 9, 'doc_count': 18, 'all_doc_count': 1359}), (0.013064133016627079, 'wake', {'mini_doc_count': 6, 'doc_count': 11, 'all_doc_count': 842}), (0.012841091492776886, 'ground', {'mini_doc_count': 8, 'doc_count': 8, 'all_doc_count': 623}), (0.012836185819070905, 'safe', {'mini_doc_count': 7, 'doc_count': 21, 'all_doc_count': 1636}), (0.01282051282051282, 'worried', {'mini_doc_count': 6, 'doc_count': 13, 'all_doc_count': 1014}), (0.012785388127853882, \"c'm\", {'mini_doc_count': 6, 'doc_count': 14, 'all_doc_count': 1095}), (0.012585400934915498, 'shut', {'mini_doc_count': 12, 'doc_count': 35, 'all_doc_count': 2781}), (0.012545739675901725, 'power', {'mini_doc_count': 10, 'doc_count': 24, 'all_doc_count': 1913}), (0.012544802867383513, 'double', {'mini_doc_count': 6, 'doc_count': 7, 'all_doc_count': 558}), (0.01239866475917978, 'eyes', {'mini_doc_count': 9, 'doc_count': 26, 'all_doc_count': 2097}), (0.012396694214876033, 'state', {'mini_doc_count': 6, 'doc_count': 15, 'all_doc_count': 1210}), (0.012265978050355068, 'save', {'mini_doc_count': 10, 'doc_count': 19, 'all_doc_count': 1549}), (0.012145214521452145, 'hey', {'mini_doc_count': 14, 'doc_count': 92, 'all_doc_count': 7575}), (0.01193225558121632, 'wanna', {'mini_doc_count': 8, 'doc_count': 31, 'all_doc_count': 2598}), (0.011873350923482849, 'check', {'mini_doc_count': 9, 'doc_count': 27, 'all_doc_count': 2274}), (0.011688311688311689, 'attack', {'mini_doc_count': 6, 'doc_count': 9, 'all_doc_count': 770}), (0.011661807580174927, 'die', {'mini_doc_count': 13, 'doc_count': 36, 'all_doc_count': 3087}), (0.011554621848739496, 'near', {'mini_doc_count': 7, 'doc_count': 11, 'all_doc_count': 952}), (0.011541072640868975, 'light', {'mini_doc_count': 9, 'doc_count': 17, 'all_doc_count': 1473}), (0.011387163561076604, 'happening', {'mini_doc_count': 6, 'doc_count': 11, 'all_doc_count': 966}), (0.011325028312570781, 'needed', {'mini_doc_count': 8, 'doc_count': 10, 'all_doc_count': 883}), (0.011194029850746268, 'chance', {'mini_doc_count': 10, 'doc_count': 27, 'all_doc_count': 2412}), (0.011194029850746268, 'stopped', {'mini_doc_count': 7, 'doc_count': 9, 'all_doc_count': 804}), (0.011139240506329114, 'funny', {'mini_doc_count': 11, 'doc_count': 22, 'all_doc_count': 1975}), (0.011090573012939002, 'probably', {'mini_doc_count': 12, 'doc_count': 36, 'all_doc_count': 3246}), (0.01107011070110701, 'pain', {'mini_doc_count': 6, 'doc_count': 9, 'all_doc_count': 813}), (0.011029411764705883, 'parents', {'mini_doc_count': 7, 'doc_count': 12, 'all_doc_count': 1088}), (0.011003521126760563, 'close', {'mini_doc_count': 11, 'doc_count': 25, 'all_doc_count': 2272}), (0.01098901098901099, 'message', {'mini_doc_count': 6, 'doc_count': 9, 'all_doc_count': 819}), (0.010936431989063569, 'fun', {'mini_doc_count': 9, 'doc_count': 16, 'all_doc_count': 1463}), (0.010771992818671455, 'hang', {'mini_doc_count': 7, 'doc_count': 12, 'all_doc_count': 1114}), (0.010752688172043012, 'cost', {'mini_doc_count': 7, 'doc_count': 7, 'all_doc_count': 651}), (0.010710808179162609, 'inside', {'mini_doc_count': 9, 'doc_count': 22, 'all_doc_count': 2054}), (0.010710259301014656, 'run', {'mini_doc_count': 12, 'doc_count': 38, 'all_doc_count': 3548}), (0.010623229461756374, 'human', {'mini_doc_count': 7, 'doc_count': 15, 'all_doc_count': 1412}), (0.01044932079414838, 'building', {'mini_doc_count': 6, 'doc_count': 10, 'all_doc_count': 957}), (0.010327022375215147, 'bet', {'mini_doc_count': 8, 'doc_count': 18, 'all_doc_count': 1743}), (0.010243277848911651, 'named', {'mini_doc_count': 7, 'doc_count': 8, 'all_doc_count': 781}), (0.010232558139534883, 'wonder', {'mini_doc_count': 8, 'doc_count': 11, 'all_doc_count': 1075}), (0.01020408163265306, 'paper', {'mini_doc_count': 7, 'doc_count': 9, 'all_doc_count': 882}), (0.01020408163265306, 'party', {'mini_doc_count': 10, 'doc_count': 18, 'all_doc_count': 1764}), (0.010115606936416185, 'entire', {'mini_doc_count': 7, 'doc_count': 7, 'all_doc_count': 692}), (0.010101010101010102, 'special', {'mini_doc_count': 7, 'doc_count': 12, 'all_doc_count': 1188}), (0.010056730273336771, 'found', {'mini_doc_count': 13, 'doc_count': 39, 'all_doc_count': 3878}), (0.009988901220865706, 'private', {'mini_doc_count': 8, 'doc_count': 9, 'all_doc_count': 901}), (0.009904054472299598, 'son', {'mini_doc_count': 11, 'doc_count': 32, 'all_doc_count': 3231}), (0.00980392156862745, 'finally', {'mini_doc_count': 7, 'doc_count': 9, 'all_doc_count': 918}), (0.009795191451469279, 'kidding', {'mini_doc_count': 6, 'doc_count': 11, 'all_doc_count': 1123}), (0.0097442143727162, 'completely', {'mini_doc_count': 7, 'doc_count': 8, 'all_doc_count': 821})]\n",
      "[(0.05058365758754864, 'miracle', {'mini_doc_count': 6, 'doc_count': 13, 'all_doc_count': 257}), (0.04436860068259386, 'clearly', {'mini_doc_count': 6, 'doc_count': 13, 'all_doc_count': 293}), (0.03875968992248062, 'faster', {'mini_doc_count': 6, 'doc_count': 15, 'all_doc_count': 387}), (0.034934497816593885, 'introduce', {'mini_doc_count': 6, 'doc_count': 8, 'all_doc_count': 229}), (0.034055727554179564, 'clever', {'mini_doc_count': 6, 'doc_count': 11, 'all_doc_count': 323}), (0.033707865168539325, 'spread', {'mini_doc_count': 6, 'doc_count': 6, 'all_doc_count': 178}), (0.033214709371293, 'bye', {'mini_doc_count': 7, 'doc_count': 28, 'all_doc_count': 843}), (0.03125, 'wings', {'mini_doc_count': 6, 'doc_count': 6, 'all_doc_count': 192}), (0.030260380014074596, 'dear', {'mini_doc_count': 8, 'doc_count': 43, 'all_doc_count': 1421}), (0.02664576802507837, 'nose', {'mini_doc_count': 8, 'doc_count': 17, 'all_doc_count': 638}), (0.02561421850496602, 'power', {'mini_doc_count': 8, 'doc_count': 49, 'all_doc_count': 1913}), (0.025547445255474453, 'laugh', {'mini_doc_count': 6, 'doc_count': 14, 'all_doc_count': 548}), (0.025280898876404494, 'ah', {'mini_doc_count': 11, 'doc_count': 45, 'all_doc_count': 1780}), (0.023633677991137372, 'smell', {'mini_doc_count': 8, 'doc_count': 16, 'all_doc_count': 677}), (0.02336448598130841, 'army', {'mini_doc_count': 7, 'doc_count': 25, 'all_doc_count': 1070}), (0.022900763358778626, 'color', {'mini_doc_count': 7, 'doc_count': 9, 'all_doc_count': 393}), (0.022026431718061675, 'greatest', {'mini_doc_count': 7, 'doc_count': 10, 'all_doc_count': 454}), (0.021825396825396824, 'favorite', {'mini_doc_count': 6, 'doc_count': 11, 'all_doc_count': 504}), (0.02170767004341534, 'peace', {'mini_doc_count': 6, 'doc_count': 15, 'all_doc_count': 691}), (0.020833333333333332, 'curious', {'mini_doc_count': 6, 'doc_count': 9, 'all_doc_count': 432}), (0.020588235294117647, 'future', {'mini_doc_count': 8, 'doc_count': 21, 'all_doc_count': 1020}), (0.02027027027027027, 'tree', {'mini_doc_count': 7, 'doc_count': 9, 'all_doc_count': 444}), (0.020151133501259445, 'arms', {'mini_doc_count': 6, 'doc_count': 8, 'all_doc_count': 397}), (0.019390581717451522, 'tea', {'mini_doc_count': 6, 'doc_count': 7, 'all_doc_count': 361}), (0.019350380096751902, 'promise', {'mini_doc_count': 11, 'doc_count': 28, 'all_doc_count': 1447}), (0.019342359767891684, 'silly', {'mini_doc_count': 6, 'doc_count': 10, 'all_doc_count': 517}), (0.019219437015547798, 'oh', {'mini_doc_count': 14, 'doc_count': 424, 'all_doc_count': 22061}), (0.01818181818181818, 'attack', {'mini_doc_count': 7, 'doc_count': 14, 'all_doc_count': 770}), (0.018035121025154248, 'heart', {'mini_doc_count': 10, 'doc_count': 38, 'all_doc_count': 2107}), (0.017421602787456445, 'visit', {'mini_doc_count': 6, 'doc_count': 10, 'all_doc_count': 574}), (0.017127799736495388, 'count', {'mini_doc_count': 6, 'doc_count': 13, 'all_doc_count': 759}), (0.016713091922005572, 'national', {'mini_doc_count': 6, 'doc_count': 6, 'all_doc_count': 359}), (0.016602809706257982, 'letter', {'mini_doc_count': 7, 'doc_count': 13, 'all_doc_count': 783}), (0.01633605600933489, 'born', {'mini_doc_count': 8, 'doc_count': 14, 'all_doc_count': 857}), (0.015978695073235686, 'strong', {'mini_doc_count': 7, 'doc_count': 12, 'all_doc_count': 751}), (0.015957446808510637, 'mention', {'mini_doc_count': 6, 'doc_count': 9, 'all_doc_count': 564}), (0.015917602996254682, 'absolutely', {'mini_doc_count': 9, 'doc_count': 17, 'all_doc_count': 1068}), (0.015873015873015872, 'club', {'mini_doc_count': 6, 'doc_count': 11, 'all_doc_count': 693}), (0.015602836879432624, 'box', {'mini_doc_count': 7, 'doc_count': 11, 'all_doc_count': 705}), (0.01536983669548511, 'fall', {'mini_doc_count': 8, 'doc_count': 16, 'all_doc_count': 1041}), (0.015360983102918587, 'child', {'mini_doc_count': 6, 'doc_count': 20, 'all_doc_count': 1302}), (0.015355805243445693, 'hi', {'mini_doc_count': 7, 'doc_count': 41, 'all_doc_count': 2670}), (0.015313935681470138, 'single', {'mini_doc_count': 7, 'doc_count': 10, 'all_doc_count': 653}), (0.015180265654648957, 'certainly', {'mini_doc_count': 10, 'doc_count': 16, 'all_doc_count': 1054}), (0.015069967707212056, 'terrible', {'mini_doc_count': 7, 'doc_count': 14, 'all_doc_count': 929}), (0.014941302027748132, 'eh', {'mini_doc_count': 7, 'doc_count': 14, 'all_doc_count': 937}), (0.014912280701754385, 'wonderful', {'mini_doc_count': 6, 'doc_count': 17, 'all_doc_count': 1140}), (0.014767932489451477, 'suddenly', {'mini_doc_count': 6, 'doc_count': 7, 'all_doc_count': 474}), (0.014722536806342015, 'needed', {'mini_doc_count': 8, 'doc_count': 13, 'all_doc_count': 883}), (0.014659685863874346, 'hurry', {'mini_doc_count': 8, 'doc_count': 14, 'all_doc_count': 955}), (0.014652014652014652, 'return', {'mini_doc_count': 6, 'doc_count': 12, 'all_doc_count': 819}), (0.014551333872271624, 'secret', {'mini_doc_count': 10, 'doc_count': 18, 'all_doc_count': 1237}), (0.014492753623188406, 'built', {'mini_doc_count': 6, 'doc_count': 8, 'all_doc_count': 552}), (0.014435695538057743, 'decided', {'mini_doc_count': 8, 'doc_count': 11, 'all_doc_count': 762}), (0.014319809069212411, 'fear', {'mini_doc_count': 7, 'doc_count': 12, 'all_doc_count': 838}), (0.01411764705882353, 'space', {'mini_doc_count': 7, 'doc_count': 12, 'all_doc_count': 850}), (0.013839285714285714, 'wish', {'mini_doc_count': 13, 'doc_count': 31, 'all_doc_count': 2240}), (0.01383399209486166, 'pardon', {'mini_doc_count': 6, 'doc_count': 7, 'all_doc_count': 506}), (0.013720742534301856, 'catch', {'mini_doc_count': 8, 'doc_count': 17, 'all_doc_count': 1239}), (0.013531799729364006, 'appreciate', {'mini_doc_count': 8, 'doc_count': 10, 'all_doc_count': 739}), (0.013528748590755355, 'fool', {'mini_doc_count': 6, 'doc_count': 12, 'all_doc_count': 887}), (0.013468013468013467, 'special', {'mini_doc_count': 8, 'doc_count': 16, 'all_doc_count': 1188}), (0.01338432122370937, 'simple', {'mini_doc_count': 6, 'doc_count': 14, 'all_doc_count': 1046}), (0.013372620126926565, 'mother', {'mini_doc_count': 10, 'doc_count': 59, 'all_doc_count': 4412}), (0.013361462728551337, 'plan', {'mini_doc_count': 8, 'doc_count': 19, 'all_doc_count': 1422}), (0.013289036544850499, 'earth', {'mini_doc_count': 6, 'doc_count': 16, 'all_doc_count': 1204}), (0.01327433628318584, 'feelings', {'mini_doc_count': 6, 'doc_count': 6, 'all_doc_count': 452}), (0.013245033112582781, 'doubt', {'mini_doc_count': 6, 'doc_count': 10, 'all_doc_count': 755}), (0.013245033112582781, 'broken', {'mini_doc_count': 7, 'doc_count': 8, 'all_doc_count': 604}), (0.01321514907332796, 'great', {'mini_doc_count': 14, 'doc_count': 82, 'all_doc_count': 6205}), (0.013175230566534914, 'nervous', {'mini_doc_count': 6, 'doc_count': 10, 'all_doc_count': 759}), (0.013146362839614373, 'system', {'mini_doc_count': 7, 'doc_count': 15, 'all_doc_count': 1141}), (0.013089005235602094, 'mom', {'mini_doc_count': 8, 'doc_count': 30, 'all_doc_count': 2292}), (0.013078826440438318, 'afraid', {'mini_doc_count': 11, 'doc_count': 37, 'all_doc_count': 2829}), (0.012965964343598054, 'teach', {'mini_doc_count': 7, 'doc_count': 8, 'all_doc_count': 617}), (0.012879484820607176, 'feet', {'mini_doc_count': 9, 'doc_count': 14, 'all_doc_count': 1087}), (0.012815212897891691, 'door', {'mini_doc_count': 12, 'doc_count': 31, 'all_doc_count': 2419}), (0.01272984441301273, 'reach', {'mini_doc_count': 6, 'doc_count': 9, 'all_doc_count': 707}), (0.012715033657442034, 'food', {'mini_doc_count': 7, 'doc_count': 17, 'all_doc_count': 1337}), (0.012534818941504178, 'books', {'mini_doc_count': 6, 'doc_count': 9, 'all_doc_count': 718}), (0.012526096033402923, 'heavy', {'mini_doc_count': 6, 'doc_count': 6, 'all_doc_count': 479}), (0.012519561815336464, 'promised', {'mini_doc_count': 6, 'doc_count': 8, 'all_doc_count': 639}), (0.012437810945273632, 'war', {'mini_doc_count': 7, 'doc_count': 25, 'all_doc_count': 2010}), (0.012389380530973451, 'thirty', {'mini_doc_count': 9, 'doc_count': 21, 'all_doc_count': 1695}), (0.012350163458045769, 'school', {'mini_doc_count': 8, 'doc_count': 34, 'all_doc_count': 2753}), (0.012298232129131437, 'known', {'mini_doc_count': 8, 'doc_count': 16, 'all_doc_count': 1301}), (0.012292562999385371, 'scared', {'mini_doc_count': 8, 'doc_count': 20, 'all_doc_count': 1627}), (0.012237213680577345, 'miss', {'mini_doc_count': 10, 'doc_count': 39, 'all_doc_count': 3187}), (0.012181616832779624, 'quiet', {'mini_doc_count': 7, 'doc_count': 11, 'all_doc_count': 903}), (0.012129380053908356, 'slow', {'mini_doc_count': 6, 'doc_count': 9, 'all_doc_count': 742}), (0.012086513994910942, 'sent', {'mini_doc_count': 7, 'doc_count': 19, 'all_doc_count': 1572}), (0.011991657977059436, 'bit', {'mini_doc_count': 10, 'doc_count': 23, 'all_doc_count': 1918}), (0.011840688912809472, 'honey', {'mini_doc_count': 7, 'doc_count': 22, 'all_doc_count': 1858}), (0.011778563015312132, 'problems', {'mini_doc_count': 6, 'doc_count': 10, 'all_doc_count': 849}), (0.011750881316098707, 'busy', {'mini_doc_count': 6, 'doc_count': 10, 'all_doc_count': 851}), (0.011613691931540342, 'safe', {'mini_doc_count': 7, 'doc_count': 19, 'all_doc_count': 1636}), (0.011611030478955007, 'weeks', {'mini_doc_count': 7, 'doc_count': 16, 'all_doc_count': 1378}), (0.011539544047283985, 'wife', {'mini_doc_count': 8, 'doc_count': 41, 'all_doc_count': 3553}), (0.011532125205930808, 'works', {'mini_doc_count': 7, 'doc_count': 14, 'all_doc_count': 1214}), (0.011437908496732025, 'enjoy', {'mini_doc_count': 6, 'doc_count': 7, 'all_doc_count': 612})]\n",
      "[(0.1875, 'concert', {'mini_doc_count': 6, 'doc_count': 12, 'all_doc_count': 64}), (0.1415929203539823, 'gig', {'mini_doc_count': 6, 'doc_count': 16, 'all_doc_count': 113}), (0.09695817490494296, 'sing', {'mini_doc_count': 10, 'doc_count': 51, 'all_doc_count': 526}), (0.09558823529411764, 'tune', {'mini_doc_count': 6, 'doc_count': 13, 'all_doc_count': 136}), (0.09004237288135593, 'music', {'mini_doc_count': 9, 'doc_count': 85, 'all_doc_count': 944}), (0.05363984674329502, 'singing', {'mini_doc_count': 6, 'doc_count': 14, 'all_doc_count': 261}), (0.05240174672489083, 'introduce', {'mini_doc_count': 6, 'doc_count': 12, 'all_doc_count': 229}), (0.047619047619047616, 'song', {'mini_doc_count': 6, 'doc_count': 24, 'all_doc_count': 504}), (0.04072398190045249, 'audience', {'mini_doc_count': 7, 'doc_count': 9, 'all_doc_count': 221}), (0.04067796610169491, 'birthday', {'mini_doc_count': 7, 'doc_count': 24, 'all_doc_count': 590}), (0.0378698224852071, 'kiss', {'mini_doc_count': 6, 'doc_count': 32, 'all_doc_count': 845}), (0.03783783783783784, 'record', {'mini_doc_count': 8, 'doc_count': 35, 'all_doc_count': 925}), (0.03571428571428571, 'cheese', {'mini_doc_count': 6, 'doc_count': 6, 'all_doc_count': 168}), (0.029115341545352745, 'black', {'mini_doc_count': 8, 'doc_count': 52, 'all_doc_count': 1786}), (0.02696629213483146, 'ah', {'mini_doc_count': 8, 'doc_count': 48, 'all_doc_count': 1780}), (0.026143790849673203, 'devil', {'mini_doc_count': 7, 'doc_count': 12, 'all_doc_count': 459}), (0.026079136690647483, 'playing', {'mini_doc_count': 8, 'doc_count': 29, 'all_doc_count': 1112}), (0.025495750708215296, 'practice', {'mini_doc_count': 6, 'doc_count': 9, 'all_doc_count': 353}), (0.025236593059936908, 'sunday', {'mini_doc_count': 6, 'doc_count': 8, 'all_doc_count': 317}), (0.025, 'dogs', {'mini_doc_count': 8, 'doc_count': 10, 'all_doc_count': 400}), (0.024922118380062305, 'dress', {'mini_doc_count': 7, 'doc_count': 16, 'all_doc_count': 642}), (0.024691358024691357, 'pleased', {'mini_doc_count': 6, 'doc_count': 6, 'all_doc_count': 243}), (0.02207792207792208, 'boys', {'mini_doc_count': 7, 'doc_count': 34, 'all_doc_count': 1540}), (0.021828103683492497, 'dance', {'mini_doc_count': 6, 'doc_count': 16, 'all_doc_count': 733}), (0.021108179419525065, 'ring', {'mini_doc_count': 6, 'doc_count': 16, 'all_doc_count': 758}), (0.02066115702479339, 'taste', {'mini_doc_count': 6, 'doc_count': 10, 'all_doc_count': 484}), (0.020481927710843374, 'evening', {'mini_doc_count': 7, 'doc_count': 17, 'all_doc_count': 830}), (0.02040816326530612, 'share', {'mini_doc_count': 7, 'doc_count': 13, 'all_doc_count': 637}), (0.02032176121930567, 'sex', {'mini_doc_count': 6, 'doc_count': 24, 'all_doc_count': 1181}), (0.020277481323372464, 'paid', {'mini_doc_count': 9, 'doc_count': 19, 'all_doc_count': 937}), (0.020257826887661142, 'group', {'mini_doc_count': 7, 'doc_count': 11, 'all_doc_count': 543}), (0.0196078431372549, 'support', {'mini_doc_count': 6, 'doc_count': 7, 'all_doc_count': 357}), (0.019572953736654804, 'i.', {'mini_doc_count': 7, 'doc_count': 11, 'all_doc_count': 562}), (0.01895424836601307, 'beat', {'mini_doc_count': 9, 'doc_count': 29, 'all_doc_count': 1530}), (0.018779342723004695, 'soul', {'mini_doc_count': 6, 'doc_count': 12, 'all_doc_count': 639}), (0.018433179723502304, 'cost', {'mini_doc_count': 8, 'doc_count': 12, 'all_doc_count': 651}), (0.01842948717948718, 'tired', {'mini_doc_count': 7, 'doc_count': 23, 'all_doc_count': 1248}), (0.018229166666666668, 'asshole', {'mini_doc_count': 6, 'doc_count': 14, 'all_doc_count': 768}), (0.018140589569160998, 'party', {'mini_doc_count': 9, 'doc_count': 32, 'all_doc_count': 1764}), (0.017809439002671415, 'kidding', {'mini_doc_count': 8, 'doc_count': 20, 'all_doc_count': 1123}), (0.017587939698492462, 'view', {'mini_doc_count': 6, 'doc_count': 7, 'all_doc_count': 398}), (0.017435897435897435, 'middle', {'mini_doc_count': 8, 'doc_count': 17, 'all_doc_count': 975}), (0.01741654571843251, 'weeks', {'mini_doc_count': 11, 'doc_count': 24, 'all_doc_count': 1378}), (0.017391304347826087, 'pleasure', {'mini_doc_count': 7, 'doc_count': 12, 'all_doc_count': 690}), (0.017341040462427744, 'entire', {'mini_doc_count': 8, 'doc_count': 12, 'all_doc_count': 692}), (0.017218543046357615, 'picked', {'mini_doc_count': 8, 'doc_count': 13, 'all_doc_count': 755}), (0.01721170395869191, 'acting', {'mini_doc_count': 6, 'doc_count': 10, 'all_doc_count': 581}), (0.017123287671232876, 'awful', {'mini_doc_count': 8, 'doc_count': 10, 'all_doc_count': 584}), (0.01694915254237288, 'play', {'mini_doc_count': 10, 'doc_count': 51, 'all_doc_count': 3009}), (0.01687116564417178, 'girls', {'mini_doc_count': 10, 'doc_count': 22, 'all_doc_count': 1304}), (0.01673380849085838, 'stuff', {'mini_doc_count': 10, 'doc_count': 54, 'all_doc_count': 3227}), (0.016442451420029897, 'star', {'mini_doc_count': 6, 'doc_count': 11, 'all_doc_count': 669}), (0.015927189988623434, 'respect', {'mini_doc_count': 8, 'doc_count': 14, 'all_doc_count': 879}), (0.015860105734038225, 'brother', {'mini_doc_count': 6, 'doc_count': 39, 'all_doc_count': 2459}), (0.01585014409221902, 'piece', {'mini_doc_count': 7, 'doc_count': 22, 'all_doc_count': 1388}), (0.01566871852266368, 'goddamn', {'mini_doc_count': 8, 'doc_count': 28, 'all_doc_count': 1787}), (0.015659955257270694, 'hanging', {'mini_doc_count': 6, 'doc_count': 7, 'all_doc_count': 447}), (0.015544041450777202, 'shall', {'mini_doc_count': 7, 'doc_count': 21, 'all_doc_count': 1351}), (0.015532206486980357, 'young', {'mini_doc_count': 10, 'doc_count': 34, 'all_doc_count': 2189}), (0.01551246537396122, 'sick', {'mini_doc_count': 7, 'doc_count': 28, 'all_doc_count': 1805}), (0.015414258188824663, 'sleeping', {'mini_doc_count': 6, 'doc_count': 8, 'all_doc_count': 519}), (0.015228426395939087, 'especially', {'mini_doc_count': 6, 'doc_count': 9, 'all_doc_count': 591}), (0.015170670037926675, 'voice', {'mini_doc_count': 8, 'doc_count': 12, 'all_doc_count': 791}), (0.015124016938898971, 'fucking', {'mini_doc_count': 6, 'doc_count': 75, 'all_doc_count': 4959}), (0.014884979702300407, 'appreciate', {'mini_doc_count': 6, 'doc_count': 11, 'all_doc_count': 739}), (0.01483679525222552, 'putting', {'mini_doc_count': 7, 'doc_count': 10, 'all_doc_count': 674}), (0.014689265536723164, 'sell', {'mini_doc_count': 6, 'doc_count': 13, 'all_doc_count': 885}), (0.01437699680511182, 'grow', {'mini_doc_count': 6, 'doc_count': 9, 'all_doc_count': 626}), (0.014332965821389196, 'mad', {'mini_doc_count': 6, 'doc_count': 13, 'all_doc_count': 907}), (0.014251781472684086, 'wake', {'mini_doc_count': 8, 'doc_count': 12, 'all_doc_count': 842}), (0.014184397163120567, 'tv', {'mini_doc_count': 6, 'doc_count': 12, 'all_doc_count': 846}), (0.014044943820224719, 'sounds', {'mini_doc_count': 11, 'doc_count': 20, 'all_doc_count': 1424}), (0.013975155279503106, 'attention', {'mini_doc_count': 6, 'doc_count': 9, 'all_doc_count': 644}), (0.013927576601671309, 'bunch', {'mini_doc_count': 8, 'doc_count': 10, 'all_doc_count': 718}), (0.01390644753476612, 'bucks', {'mini_doc_count': 6, 'doc_count': 11, 'all_doc_count': 791}), (0.013897015798712697, 'old', {'mini_doc_count': 11, 'doc_count': 95, 'all_doc_count': 6836}), (0.013805004314063849, 'act', {'mini_doc_count': 9, 'doc_count': 16, 'all_doc_count': 1159}), (0.013788098693759071, 'till', {'mini_doc_count': 9, 'doc_count': 19, 'all_doc_count': 1378}), (0.01369754552652415, 'little', {'mini_doc_count': 13, 'doc_count': 173, 'all_doc_count': 12630}), (0.013689315987489235, 'oh', {'mini_doc_count': 13, 'doc_count': 302, 'all_doc_count': 22061}), (0.013671875, 'dirty', {'mini_doc_count': 7, 'doc_count': 7, 'all_doc_count': 512}), (0.013458401305057096, 'pay', {'mini_doc_count': 11, 'doc_count': 33, 'all_doc_count': 2452}), (0.013451029844472467, 'second', {'mini_doc_count': 11, 'doc_count': 32, 'all_doc_count': 2379}), (0.013404825737265416, 'hot', {'mini_doc_count': 8, 'doc_count': 20, 'all_doc_count': 1492}), (0.013179571663920923, 'excuse', {'mini_doc_count': 8, 'doc_count': 24, 'all_doc_count': 1821}), (0.013164556962025316, 'funny', {'mini_doc_count': 9, 'doc_count': 26, 'all_doc_count': 1975}), (0.012917115177610334, 'honey', {'mini_doc_count': 6, 'doc_count': 24, 'all_doc_count': 1858}), (0.012903225806451613, 'public', {'mini_doc_count': 6, 'doc_count': 10, 'all_doc_count': 775}), (0.01288056206088993, 'calls', {'mini_doc_count': 7, 'doc_count': 11, 'all_doc_count': 854}), (0.01282051282051282, 'worried', {'mini_doc_count': 7, 'doc_count': 13, 'all_doc_count': 1014}), (0.01276595744680851, 'box', {'mini_doc_count': 6, 'doc_count': 9, 'all_doc_count': 705}), (0.01276595744680851, 'present', {'mini_doc_count': 7, 'doc_count': 9, 'all_doc_count': 705}), (0.012752391073326248, 'fault', {'mini_doc_count': 6, 'doc_count': 12, 'all_doc_count': 941}), (0.01272264631043257, 'sent', {'mini_doc_count': 7, 'doc_count': 20, 'all_doc_count': 1572}), (0.012658227848101266, 'seen', {'mini_doc_count': 11, 'doc_count': 52, 'all_doc_count': 4108}), (0.01264718709114697, 'different', {'mini_doc_count': 10, 'doc_count': 29, 'all_doc_count': 2293}), (0.012466001813236628, 'mother', {'mini_doc_count': 9, 'doc_count': 55, 'all_doc_count': 4412}), (0.0124282982791587, 'simple', {'mini_doc_count': 8, 'doc_count': 13, 'all_doc_count': 1046}), (0.012359550561797753, 'hi', {'mini_doc_count': 9, 'doc_count': 33, 'all_doc_count': 2670}), (0.012326656394453005, 'daughter', {'mini_doc_count': 6, 'doc_count': 16, 'all_doc_count': 1298})]\n",
      "[(0.13333333333333333, 'cattle', {'mini_doc_count': 8, 'doc_count': 14, 'all_doc_count': 105}), (0.11808118081180811, 'horses', {'mini_doc_count': 8, 'doc_count': 32, 'all_doc_count': 271}), (0.1076923076923077, 'indian', {'mini_doc_count': 7, 'doc_count': 42, 'all_doc_count': 390}), (0.08928571428571429, 'sheriff', {'mini_doc_count': 7, 'doc_count': 55, 'all_doc_count': 616}), (0.08264462809917356, 'riding', {'mini_doc_count': 7, 'doc_count': 20, 'all_doc_count': 242}), (0.07741935483870968, 'shotgun', {'mini_doc_count': 7, 'doc_count': 12, 'all_doc_count': 155}), (0.07480916030534351, 'horse', {'mini_doc_count': 10, 'doc_count': 49, 'all_doc_count': 655}), (0.05830903790087463, 'fella', {'mini_doc_count': 6, 'doc_count': 20, 'all_doc_count': 343}), (0.05411764705882353, 'lookin', {'mini_doc_count': 6, 'doc_count': 23, 'all_doc_count': 425}), (0.048458149779735685, 'comin', {'mini_doc_count': 6, 'doc_count': 22, 'all_doc_count': 454}), (0.04844290657439446, 'texas', {'mini_doc_count': 6, 'doc_count': 14, 'all_doc_count': 289}), (0.04838709677419355, 'territory', {'mini_doc_count': 6, 'doc_count': 6, 'all_doc_count': 124}), (0.04331450094161959, 'river', {'mini_doc_count': 9, 'doc_count': 23, 'all_doc_count': 531}), (0.04156479217603912, \"nothin'\", {'mini_doc_count': 6, 'doc_count': 34, 'all_doc_count': 818}), (0.04094488188976378, \"ma'am\", {'mini_doc_count': 8, 'doc_count': 26, 'all_doc_count': 635}), (0.03549060542797495, 'gettin', {'mini_doc_count': 6, 'doc_count': 17, 'all_doc_count': 479}), (0.03389830508474576, 'folks', {'mini_doc_count': 9, 'doc_count': 18, 'all_doc_count': 531}), (0.033690658499234305, \"somethin'\", {'mini_doc_count': 6, 'doc_count': 22, 'all_doc_count': 653}), (0.03366792137181096, 'ai', {'mini_doc_count': 9, 'doc_count': 161, 'all_doc_count': 4782}), (0.032467532467532464, 'boys', {'mini_doc_count': 10, 'doc_count': 50, 'all_doc_count': 1540}), (0.029900332225913623, 'bullet', {'mini_doc_count': 6, 'doc_count': 9, 'all_doc_count': 301}), (0.028876170655567118, \"'em\", {'mini_doc_count': 11, 'doc_count': 111, 'all_doc_count': 3844}), (0.026984126984126985, 'south', {'mini_doc_count': 7, 'doc_count': 17, 'all_doc_count': 630}), (0.026204564666103127, 'ride', {'mini_doc_count': 8, 'doc_count': 31, 'all_doc_count': 1183}), (0.025703794369645042, 'land', {'mini_doc_count': 6, 'doc_count': 21, 'all_doc_count': 817}), (0.023679417122040074, 'fellow', {'mini_doc_count': 7, 'doc_count': 13, 'all_doc_count': 549}), (0.023516237402015677, 'fair', {'mini_doc_count': 9, 'doc_count': 21, 'all_doc_count': 893}), (0.022727272727272728, 'quit', {'mini_doc_count': 7, 'doc_count': 20, 'all_doc_count': 880}), (0.02232518955349621, 'town', {'mini_doc_count': 10, 'doc_count': 53, 'all_doc_count': 2374}), (0.02097902097902098, 'age', {'mini_doc_count': 8, 'doc_count': 15, 'all_doc_count': 715}), (0.020905923344947737, 'talkin', {'mini_doc_count': 6, 'doc_count': 12, 'all_doc_count': 574}), (0.020022246941045607, 'tough', {'mini_doc_count': 6, 'doc_count': 18, 'all_doc_count': 899}), (0.019938650306748466, 'guns', {'mini_doc_count': 6, 'doc_count': 13, 'all_doc_count': 652}), (0.019726858877086494, 'ways', {'mini_doc_count': 7, 'doc_count': 13, 'all_doc_count': 659}), (0.019498607242339833, 'bunch', {'mini_doc_count': 8, 'doc_count': 14, 'all_doc_count': 718}), (0.01944627554383652, 'kid', {'mini_doc_count': 8, 'doc_count': 59, 'all_doc_count': 3034}), (0.019342359767891684, 'wild', {'mini_doc_count': 6, 'doc_count': 10, 'all_doc_count': 517}), (0.018867924528301886, 'brothers', {'mini_doc_count': 6, 'doc_count': 11, 'all_doc_count': 583}), (0.018838304552590265, 'share', {'mini_doc_count': 7, 'doc_count': 12, 'all_doc_count': 637}), (0.018267530936947555, 'shoot', {'mini_doc_count': 8, 'doc_count': 31, 'all_doc_count': 1697}), (0.018134715025906734, 'table', {'mini_doc_count': 6, 'doc_count': 14, 'all_doc_count': 772}), (0.017857142857142856, 'near', {'mini_doc_count': 8, 'doc_count': 17, 'all_doc_count': 952}), (0.017842660178426603, 'easy', {'mini_doc_count': 10, 'doc_count': 44, 'all_doc_count': 2466}), (0.01782178217821782, 'bank', {'mini_doc_count': 6, 'doc_count': 18, 'all_doc_count': 1010}), (0.017627308337996642, 'men', {'mini_doc_count': 12, 'doc_count': 63, 'all_doc_count': 3574}), (0.01702127659574468, 'decide', {'mini_doc_count': 6, 'doc_count': 8, 'all_doc_count': 470}), (0.01669195751138088, 'field', {'mini_doc_count': 7, 'doc_count': 11, 'all_doc_count': 659}), (0.01639344262295082, 'waste', {'mini_doc_count': 6, 'doc_count': 8, 'all_doc_count': 488}), (0.016347237880496055, 'run', {'mini_doc_count': 11, 'doc_count': 58, 'all_doc_count': 3548}), (0.01596169193934557, 'clear', {'mini_doc_count': 9, 'doc_count': 20, 'all_doc_count': 1253}), (0.015767131594906003, 'figure', {'mini_doc_count': 8, 'doc_count': 26, 'all_doc_count': 1649}), (0.015738498789346248, 'shot', {'mini_doc_count': 9, 'doc_count': 39, 'all_doc_count': 2478}), (0.015410958904109588, 'admit', {'mini_doc_count': 6, 'doc_count': 9, 'all_doc_count': 584}), (0.015384615384615385, 'lived', {'mini_doc_count': 7, 'doc_count': 12, 'all_doc_count': 780}), (0.01537551744529864, 'women', {'mini_doc_count': 8, 'doc_count': 26, 'all_doc_count': 1691}), (0.015169194865810968, 'born', {'mini_doc_count': 6, 'doc_count': 13, 'all_doc_count': 857}), (0.015086206896551725, 'raise', {'mini_doc_count': 6, 'doc_count': 7, 'all_doc_count': 464}), (0.015021459227467811, 'build', {'mini_doc_count': 6, 'doc_count': 7, 'all_doc_count': 466}), (0.014994446501295817, 'guess', {'mini_doc_count': 10, 'doc_count': 81, 'all_doc_count': 5402}), (0.0149812734082397, 'english', {'mini_doc_count': 6, 'doc_count': 12, 'all_doc_count': 801}), (0.014943960149439602, 'uncle', {'mini_doc_count': 6, 'doc_count': 12, 'all_doc_count': 803}), (0.014761012183692596, 'killed', {'mini_doc_count': 10, 'doc_count': 63, 'all_doc_count': 4268}), (0.014657980456026058, 'names', {'mini_doc_count': 6, 'doc_count': 9, 'all_doc_count': 614}), (0.01437699680511182, 'grow', {'mini_doc_count': 6, 'doc_count': 9, 'all_doc_count': 626}), (0.014373716632443531, 'moving', {'mini_doc_count': 7, 'doc_count': 14, 'all_doc_count': 974}), (0.014300306435137897, 'figured', {'mini_doc_count': 6, 'doc_count': 14, 'all_doc_count': 979}), (0.014107883817427386, 'red', {'mini_doc_count': 7, 'doc_count': 17, 'all_doc_count': 1205}), (0.013865308432371251, 'says', {'mini_doc_count': 11, 'doc_count': 49, 'all_doc_count': 3534}), (0.01383399209486166, 'damn', {'mini_doc_count': 8, 'doc_count': 42, 'all_doc_count': 3036}), (0.013826758845058967, 'brother', {'mini_doc_count': 10, 'doc_count': 34, 'all_doc_count': 2459}), (0.013679890560875513, 'charge', {'mini_doc_count': 6, 'doc_count': 10, 'all_doc_count': 731}), (0.013676588897827836, 'pretty', {'mini_doc_count': 9, 'doc_count': 51, 'all_doc_count': 3729}), (0.013657056145675266, 'hardly', {'mini_doc_count': 6, 'doc_count': 9, 'all_doc_count': 659}), (0.013633669235328987, 'fight', {'mini_doc_count': 9, 'doc_count': 23, 'all_doc_count': 1687}), (0.013626834381551363, 'road', {'mini_doc_count': 6, 'doc_count': 13, 'all_doc_count': 954}), (0.013616557734204794, 'bed', {'mini_doc_count': 10, 'doc_count': 25, 'all_doc_count': 1836}), (0.013489208633093525, 'law', {'mini_doc_count': 6, 'doc_count': 15, 'all_doc_count': 1112}), (0.013428571428571429, 'woman', {'mini_doc_count': 10, 'doc_count': 47, 'all_doc_count': 3500}), (0.013245033112582781, 'bought', {'mini_doc_count': 6, 'doc_count': 10, 'all_doc_count': 755}), (0.013218567476175837, 'took', {'mini_doc_count': 12, 'doc_count': 43, 'all_doc_count': 3253}), (0.013091641490433032, 'ones', {'mini_doc_count': 7, 'doc_count': 13, 'all_doc_count': 993}), (0.01293103448275862, 'feeling', {'mini_doc_count': 7, 'doc_count': 21, 'all_doc_count': 1624}), (0.012861736334405145, 'eye', {'mini_doc_count': 6, 'doc_count': 12, 'all_doc_count': 933}), (0.012804097311139564, 'named', {'mini_doc_count': 6, 'doc_count': 10, 'all_doc_count': 781}), (0.012773722627737226, 'ahead', {'mini_doc_count': 10, 'doc_count': 21, 'all_doc_count': 1644}), (0.012550988390335738, 'miss', {'mini_doc_count': 9, 'doc_count': 40, 'all_doc_count': 3187}), (0.012522361359570662, 'wind', {'mini_doc_count': 6, 'doc_count': 7, 'all_doc_count': 559}), (0.012503907471084715, 'hard', {'mini_doc_count': 11, 'doc_count': 40, 'all_doc_count': 3199}), (0.01248385708136031, 'hit', {'mini_doc_count': 10, 'doc_count': 29, 'all_doc_count': 2323}), (0.012469189502682325, 'place', {'mini_doc_count': 12, 'doc_count': 86, 'all_doc_count': 6897}), (0.012411347517730497, 'press', {'mini_doc_count': 6, 'doc_count': 7, 'all_doc_count': 564}), (0.012314225053078557, 'anybody', {'mini_doc_count': 8, 'doc_count': 29, 'all_doc_count': 2355}), (0.012277867528271405, 'somebody', {'mini_doc_count': 8, 'doc_count': 38, 'all_doc_count': 3095}), (0.012178619756427604, 'couple', {'mini_doc_count': 9, 'doc_count': 27, 'all_doc_count': 2217}), (0.012178619756427604, 'appreciate', {'mini_doc_count': 6, 'doc_count': 9, 'all_doc_count': 739}), (0.012141603276770042, 'old', {'mini_doc_count': 12, 'doc_count': 83, 'all_doc_count': 6836}), (0.012105263157894737, 'white', {'mini_doc_count': 6, 'doc_count': 23, 'all_doc_count': 1900}), (0.011879507848960543, 'cut', {'mini_doc_count': 8, 'doc_count': 28, 'all_doc_count': 2357}), (0.011811023622047244, 'decided', {'mini_doc_count': 6, 'doc_count': 9, 'all_doc_count': 762}), (0.011608623548922056, 'country', {'mini_doc_count': 9, 'doc_count': 21, 'all_doc_count': 1809})]\n",
      "[(0.022519352568613652, 'dear', {'mini_doc_count': 8, 'doc_count': 32, 'all_doc_count': 1421}), (0.013100040795974797, 'oh', {'mini_doc_count': 7, 'doc_count': 289, 'all_doc_count': 22061}), (0.006661732050333087, 'lucky', {'mini_doc_count': 6, 'doc_count': 9, 'all_doc_count': 1351}), (0.00665266106442577, 'hope', {'mini_doc_count': 7, 'doc_count': 19, 'all_doc_count': 2856}), (0.0064969504110315565, 'help', {'mini_doc_count': 7, 'doc_count': 49, 'all_doc_count': 7542}), (0.006219765031098825, 'promise', {'mini_doc_count': 6, 'doc_count': 9, 'all_doc_count': 1447}), (0.005569620253164557, 'funny', {'mini_doc_count': 6, 'doc_count': 11, 'all_doc_count': 1975}), (0.005415162454873646, 'found', {'mini_doc_count': 8, 'doc_count': 21, 'all_doc_count': 3878}), (0.005377477857444116, 'come', {'mini_doc_count': 7, 'doc_count': 102, 'all_doc_count': 18968}), (0.005250760624202572, 'yes', {'mini_doc_count': 8, 'doc_count': 107, 'all_doc_count': 20378}), (0.0052136133236784935, 'away', {'mini_doc_count': 7, 'doc_count': 36, 'all_doc_count': 6905}), (0.0051129100979974435, 'beautiful', {'mini_doc_count': 6, 'doc_count': 12, 'all_doc_count': 2347}), (0.005095199785465273, 'pretty', {'mini_doc_count': 6, 'doc_count': 19, 'all_doc_count': 3729}), (0.0050415183867141165, 'start', {'mini_doc_count': 6, 'doc_count': 17, 'all_doc_count': 3372}), (0.005003950487226758, 'matter', {'mini_doc_count': 7, 'doc_count': 19, 'all_doc_count': 3797}), (0.0046439628482972135, 'true', {'mini_doc_count': 6, 'doc_count': 12, 'all_doc_count': 2584}), (0.004476275738585497, 'use', {'mini_doc_count': 6, 'doc_count': 15, 'all_doc_count': 3351}), (0.004464285714285714, 'wish', {'mini_doc_count': 6, 'doc_count': 10, 'all_doc_count': 2240}), (0.004452926208651399, 'sent', {'mini_doc_count': 6, 'doc_count': 7, 'all_doc_count': 1572}), (0.004285157771717959, 'hear', {'mini_doc_count': 7, 'doc_count': 22, 'all_doc_count': 5134}), (0.004280540006585446, 'bad', {'mini_doc_count': 6, 'doc_count': 26, 'all_doc_count': 6074}), (0.004275534441805225, 'little', {'mini_doc_count': 7, 'doc_count': 54, 'all_doc_count': 12630}), (0.004250044271294493, 'wait', {'mini_doc_count': 8, 'doc_count': 24, 'all_doc_count': 5647}), (0.0041508128675198895, 'worry', {'mini_doc_count': 6, 'doc_count': 12, 'all_doc_count': 2891}), (0.004148053605615826, 'new', {'mini_doc_count': 6, 'doc_count': 26, 'all_doc_count': 6268}), (0.004118521908248484, 'find', {'mini_doc_count': 8, 'doc_count': 36, 'all_doc_count': 8741}), (0.00408997955010225, 'break', {'mini_doc_count': 6, 'doc_count': 8, 'all_doc_count': 1956}), (0.0040597361171523854, 'place', {'mini_doc_count': 7, 'doc_count': 28, 'all_doc_count': 6897}), (0.004039923954372623, 'boy', {'mini_doc_count': 6, 'doc_count': 17, 'all_doc_count': 4208}), (0.0038917716827279467, 'leave', {'mini_doc_count': 8, 'doc_count': 21, 'all_doc_count': 5396}), (0.0038817216577234845, 'let', {'mini_doc_count': 8, 'doc_count': 68, 'all_doc_count': 17518}), (0.003854915016646224, 'course', {'mini_doc_count': 7, 'doc_count': 22, 'all_doc_count': 5707}), (0.0038230475150191155, 'wo', {'mini_doc_count': 7, 'doc_count': 28, 'all_doc_count': 7324}), (0.003775084442678323, 'mind', {'mini_doc_count': 6, 'doc_count': 19, 'all_doc_count': 5033}), (0.003671562082777036, 'remember', {'mini_doc_count': 6, 'doc_count': 22, 'all_doc_count': 5992}), (0.0036256669859077847, 'way', {'mini_doc_count': 8, 'doc_count': 53, 'all_doc_count': 14618}), (0.0035797009896820385, 'came', {'mini_doc_count': 7, 'doc_count': 17, 'all_doc_count': 4749}), (0.003574407244132015, 'going', {'mini_doc_count': 7, 'doc_count': 90, 'all_doc_count': 25179}), (0.003533971728226174, 'thought', {'mini_doc_count': 7, 'doc_count': 31, 'all_doc_count': 8772}), (0.003495784495167592, 'world', {'mini_doc_count': 7, 'doc_count': 17, 'all_doc_count': 4863}), (0.0034926871862038856, 'try', {'mini_doc_count': 6, 'doc_count': 16, 'all_doc_count': 4581}), (0.003491707195410899, 'night', {'mini_doc_count': 7, 'doc_count': 28, 'all_doc_count': 8019}), (0.0034079844206426485, 'inside', {'mini_doc_count': 6, 'doc_count': 7, 'all_doc_count': 2054}), (0.0033438425527849433, 'good', {'mini_doc_count': 8, 'doc_count': 70, 'all_doc_count': 20934}), (0.003283511518558407, 'got', {'mini_doc_count': 8, 'doc_count': 125, 'all_doc_count': 38069}), (0.003278688524590164, 'getting', {'mini_doc_count': 7, 'doc_count': 16, 'all_doc_count': 4880}), (0.0032648357979642786, 'listen', {'mini_doc_count': 6, 'doc_count': 17, 'all_doc_count': 5207}), (0.003211678832116788, 'man', {'mini_doc_count': 7, 'doc_count': 55, 'all_doc_count': 17125}), (0.003174824686878554, 'right', {'mini_doc_count': 8, 'doc_count': 91, 'all_doc_count': 28663}), (0.00315955766192733, 'trying', {'mini_doc_count': 7, 'doc_count': 14, 'all_doc_count': 4431}), (0.0031451612903225807, 'sure', {'mini_doc_count': 8, 'doc_count': 39, 'all_doc_count': 12400}), (0.0031003382187147687, 'run', {'mini_doc_count': 7, 'doc_count': 11, 'all_doc_count': 3548}), (0.0030991735537190084, 'exactly', {'mini_doc_count': 6, 'doc_count': 9, 'all_doc_count': 2904}), (0.003071971913399649, 'old', {'mini_doc_count': 8, 'doc_count': 21, 'all_doc_count': 6836}), (0.0030620467365028202, 'great', {'mini_doc_count': 6, 'doc_count': 19, 'all_doc_count': 6205}), (0.0030592983141313544, 'think', {'mini_doc_count': 8, 'doc_count': 94, 'all_doc_count': 30726}), (0.0030558482613277133, 'time', {'mini_doc_count': 8, 'doc_count': 58, 'all_doc_count': 18980}), (0.003013308780446974, 'thing', {'mini_doc_count': 8, 'doc_count': 36, 'all_doc_count': 11947}), (0.002975509269855802, 'love', {'mini_doc_count': 6, 'doc_count': 26, 'all_doc_count': 8738}), (0.00280040733197556, 'people', {'mini_doc_count': 7, 'doc_count': 33, 'all_doc_count': 11784}), (0.002772277227722772, 'hey', {'mini_doc_count': 6, 'doc_count': 21, 'all_doc_count': 7575}), (0.002736067229080486, 'want', {'mini_doc_count': 8, 'doc_count': 84, 'all_doc_count': 30701}), (0.0027228259560010603, 'like', {'mini_doc_count': 8, 'doc_count': 113, 'all_doc_count': 41501}), (0.002708628917838256, 'better', {'mini_doc_count': 7, 'doc_count': 21, 'all_doc_count': 7753}), (0.002674750356633381, 'wrong', {'mini_doc_count': 6, 'doc_count': 15, 'all_doc_count': 5608}), (0.002662793512466715, 'went', {'mini_doc_count': 6, 'doc_count': 11, 'all_doc_count': 4131}), (0.0026324728260869565, 'need', {'mini_doc_count': 7, 'doc_count': 31, 'all_doc_count': 11776}), (0.002632258064516129, 'tell', {'mini_doc_count': 8, 'doc_count': 51, 'all_doc_count': 19375}), (0.0026138909634055266, 'stop', {'mini_doc_count': 6, 'doc_count': 14, 'all_doc_count': 5356}), (0.0025714285714285713, 'woman', {'mini_doc_count': 6, 'doc_count': 9, 'all_doc_count': 3500}), (0.002541544477028348, 'wanted', {'mini_doc_count': 7, 'doc_count': 13, 'all_doc_count': 5115}), (0.0025181541344577183, 'look', {'mini_doc_count': 8, 'doc_count': 43, 'all_doc_count': 17076}), (0.0024984384759525295, 'stay', {'mini_doc_count': 6, 'doc_count': 12, 'all_doc_count': 4803}), (0.002486325211337643, 'best', {'mini_doc_count': 6, 'doc_count': 10, 'all_doc_count': 4022}), (0.002425418384671356, 'heard', {'mini_doc_count': 6, 'doc_count': 10, 'all_doc_count': 4123}), (0.0024224806201550387, 'friend', {'mini_doc_count': 6, 'doc_count': 10, 'all_doc_count': 4128}), (0.0024186046511627908, 'happened', {'mini_doc_count': 6, 'doc_count': 13, 'all_doc_count': 5375}), (0.0024169819251786467, 'sorry', {'mini_doc_count': 7, 'doc_count': 23, 'all_doc_count': 9516}), (0.0023767562935536547, 'know', {'mini_doc_count': 8, 'doc_count': 147, 'all_doc_count': 61849}), (0.0023690444853908922, 'head', {'mini_doc_count': 6, 'doc_count': 9, 'all_doc_count': 3799}), (0.002327173169062286, 'day', {'mini_doc_count': 7, 'doc_count': 17, 'all_doc_count': 7305}), (0.0022660623833644362, 'long', {'mini_doc_count': 6, 'doc_count': 17, 'all_doc_count': 7502}), (0.002186588921282799, 'understand', {'mini_doc_count': 7, 'doc_count': 12, 'all_doc_count': 5488}), (0.0021536252692031586, 'life', {'mini_doc_count': 6, 'doc_count': 18, 'all_doc_count': 8358}), (0.002151859821703043, 'took', {'mini_doc_count': 6, 'doc_count': 7, 'all_doc_count': 3253}), (0.0021189894050529746, 'feel', {'mini_doc_count': 6, 'doc_count': 13, 'all_doc_count': 6135}), (0.0019406310644720765, 'mean', {'mini_doc_count': 7, 'doc_count': 27, 'all_doc_count': 13913}), (0.001829673985362608, 'kill', {'mini_doc_count': 6, 'doc_count': 11, 'all_doc_count': 6012}), (0.0018122977346278317, 'told', {'mini_doc_count': 6, 'doc_count': 14, 'all_doc_count': 7725}), (0.0017679202828672453, 'big', {'mini_doc_count': 6, 'doc_count': 11, 'all_doc_count': 6222}), (0.001651168853741201, 'said', {'mini_doc_count': 7, 'doc_count': 19, 'all_doc_count': 11507}), (0.001571640618178643, 'maybe', {'mini_doc_count': 8, 'doc_count': 18, 'all_doc_count': 11453}), (0.0015370924682469055, 'gon', {'mini_doc_count': 6, 'doc_count': 19, 'all_doc_count': 12361}), (0.001533989988696916, 'na', {'mini_doc_count': 6, 'doc_count': 19, 'all_doc_count': 12386})]\n",
      "[(0.05581395348837209, 'ball', {'mini_doc_count': 8, 'doc_count': 36, 'all_doc_count': 645}), (0.046617396247868106, 'game', {'mini_doc_count': 7, 'doc_count': 82, 'all_doc_count': 1759}), (0.03113941967445152, \"'cause\", {'mini_doc_count': 6, 'doc_count': 44, 'all_doc_count': 1413}), (0.03082394783639597, 'fight', {'mini_doc_count': 6, 'doc_count': 52, 'all_doc_count': 1687}), (0.027149321266968326, 'win', {'mini_doc_count': 7, 'doc_count': 24, 'all_doc_count': 884}), (0.026420079260237782, 'lose', {'mini_doc_count': 8, 'doc_count': 40, 'all_doc_count': 1514}), (0.026254569624459954, 'play', {'mini_doc_count': 7, 'doc_count': 79, 'all_doc_count': 3009}), (0.024344569288389514, 'cute', {'mini_doc_count': 6, 'doc_count': 13, 'all_doc_count': 534}), (0.018159806295399514, 'shot', {'mini_doc_count': 8, 'doc_count': 45, 'all_doc_count': 2478}), (0.017994858611825194, 'brains', {'mini_doc_count': 6, 'doc_count': 7, 'all_doc_count': 389}), (0.017828200972447326, 'teach', {'mini_doc_count': 6, 'doc_count': 11, 'all_doc_count': 617}), (0.016102049351735676, 'ai', {'mini_doc_count': 6, 'doc_count': 77, 'all_doc_count': 4782}), (0.01478953356086462, 'respect', {'mini_doc_count': 6, 'doc_count': 13, 'all_doc_count': 879}), (0.014573991031390135, 'personal', {'mini_doc_count': 6, 'doc_count': 13, 'all_doc_count': 892}), (0.014563106796116505, 'smart', {'mini_doc_count': 6, 'doc_count': 15, 'all_doc_count': 1030}), (0.014502307185234015, 'kid', {'mini_doc_count': 8, 'doc_count': 44, 'all_doc_count': 3034}), (0.014061207609594707, 'luck', {'mini_doc_count': 6, 'doc_count': 17, 'all_doc_count': 1209}), (0.013888888888888888, 'stick', {'mini_doc_count': 6, 'doc_count': 13, 'all_doc_count': 936}), (0.013165112452002194, 'ta', {'mini_doc_count': 7, 'doc_count': 72, 'all_doc_count': 5469}), (0.01313248358439552, 'everybody', {'mini_doc_count': 7, 'doc_count': 34, 'all_doc_count': 2589}), (0.012845849802371542, 'damn', {'mini_doc_count': 6, 'doc_count': 39, 'all_doc_count': 3036}), (0.01267962806424345, 'ride', {'mini_doc_count': 6, 'doc_count': 15, 'all_doc_count': 1183}), (0.012473118279569893, 'drink', {'mini_doc_count': 6, 'doc_count': 29, 'all_doc_count': 2325}), (0.012053379250968575, 'hit', {'mini_doc_count': 7, 'doc_count': 28, 'all_doc_count': 2323}), (0.011954572624028692, 'months', {'mini_doc_count': 8, 'doc_count': 20, 'all_doc_count': 1673}), (0.011758691206543968, 'break', {'mini_doc_count': 6, 'doc_count': 23, 'all_doc_count': 1956}), (0.011747430249632892, 'straight', {'mini_doc_count': 6, 'doc_count': 16, 'all_doc_count': 1362}), (0.011648223645894, 'hands', {'mini_doc_count': 6, 'doc_count': 20, 'all_doc_count': 1717}), (0.01122586439155815, 'later', {'mini_doc_count': 8, 'doc_count': 25, 'all_doc_count': 2227}), (0.011216566005176877, 'act', {'mini_doc_count': 6, 'doc_count': 13, 'all_doc_count': 1159}), (0.010615711252653927, 'ass', {'mini_doc_count': 6, 'doc_count': 30, 'all_doc_count': 2826}), (0.0104425658876181, 'best', {'mini_doc_count': 8, 'doc_count': 42, 'all_doc_count': 4022}), (0.010355149259768628, 'gon', {'mini_doc_count': 8, 'doc_count': 128, 'all_doc_count': 12361}), (0.010334248344905539, 'na', {'mini_doc_count': 8, 'doc_count': 128, 'all_doc_count': 12386}), (0.009878169245966415, 'bad', {'mini_doc_count': 8, 'doc_count': 60, 'all_doc_count': 6074}), (0.009830781627719581, 'great', {'mini_doc_count': 8, 'doc_count': 61, 'all_doc_count': 6205}), (0.009768976897689768, 'hey', {'mini_doc_count': 8, 'doc_count': 74, 'all_doc_count': 7575}), (0.00966183574879227, 'face', {'mini_doc_count': 7, 'doc_count': 26, 'all_doc_count': 2691}), (0.009501738122827346, 'guys', {'mini_doc_count': 8, 'doc_count': 41, 'all_doc_count': 4315}), (0.009498741130693522, 'love', {'mini_doc_count': 7, 'doc_count': 83, 'all_doc_count': 8738}), (0.009467455621301775, 'thousand', {'mini_doc_count': 6, 'doc_count': 24, 'all_doc_count': 2535}), (0.009155645981688708, 'forget', {'mini_doc_count': 7, 'doc_count': 27, 'all_doc_count': 2949}), (0.008957133717210493, 'hour', {'mini_doc_count': 6, 'doc_count': 14, 'all_doc_count': 1563}), (0.008946726311508743, 'brother', {'mini_doc_count': 6, 'doc_count': 22, 'all_doc_count': 2459}), (0.008854258898530193, 'wait', {'mini_doc_count': 8, 'doc_count': 50, 'all_doc_count': 5647}), (0.008735282947208508, 'word', {'mini_doc_count': 7, 'doc_count': 23, 'all_doc_count': 2633}), (0.008716323296354992, 'hair', {'mini_doc_count': 6, 'doc_count': 11, 'all_doc_count': 1262}), (0.008678881388621022, 'big', {'mini_doc_count': 8, 'doc_count': 54, 'all_doc_count': 6222}), (0.008472661545413466, 'talk', {'mini_doc_count': 8, 'doc_count': 75, 'all_doc_count': 8852}), (0.008388675288360714, 'year', {'mini_doc_count': 8, 'doc_count': 24, 'all_doc_count': 2861}), (0.008317490494296578, 'boy', {'mini_doc_count': 6, 'doc_count': 35, 'all_doc_count': 4208}), (0.008285385500575374, 'thanks', {'mini_doc_count': 8, 'doc_count': 36, 'all_doc_count': 4345}), (0.008259587020648967, 'thirty', {'mini_doc_count': 6, 'doc_count': 14, 'all_doc_count': 1695}), (0.008165829145728644, 'seven', {'mini_doc_count': 6, 'doc_count': 13, 'all_doc_count': 1592}), (0.008110300081103, 'easy', {'mini_doc_count': 6, 'doc_count': 20, 'all_doc_count': 2466}), (0.007965482907401261, 'knows', {'mini_doc_count': 6, 'doc_count': 24, 'all_doc_count': 3013}), (0.007921714818266543, 'anymore', {'mini_doc_count': 7, 'doc_count': 17, 'all_doc_count': 2146}), (0.007896814951302974, 'head', {'mini_doc_count': 8, 'doc_count': 30, 'all_doc_count': 3799}), (0.007877664504170528, 'making', {'mini_doc_count': 6, 'doc_count': 17, 'all_doc_count': 2158}), (0.007823960880195598, 'feel', {'mini_doc_count': 8, 'doc_count': 48, 'all_doc_count': 6135}), (0.007814942169427946, 'hard', {'mini_doc_count': 8, 'doc_count': 25, 'all_doc_count': 3199}), (0.007794589637780834, 'truth', {'mini_doc_count': 6, 'doc_count': 17, 'all_doc_count': 2181}), (0.007770472205618649, 'living', {'mini_doc_count': 8, 'doc_count': 13, 'all_doc_count': 1673}), (0.007756563245823389, 'street', {'mini_doc_count': 8, 'doc_count': 13, 'all_doc_count': 1676}), (0.007732755954222085, 'ago', {'mini_doc_count': 7, 'doc_count': 25, 'all_doc_count': 3233}), (0.00764963503649635, 'man', {'mini_doc_count': 7, 'doc_count': 131, 'all_doc_count': 17125}), (0.007549584133077415, 'money', {'mini_doc_count': 7, 'doc_count': 59, 'all_doc_count': 7815}), (0.0075247524752475245, 'ready', {'mini_doc_count': 7, 'doc_count': 19, 'all_doc_count': 2525}), (0.007508116883116883, 'left', {'mini_doc_count': 8, 'doc_count': 37, 'all_doc_count': 4928}), (0.007413039346131914, 'real', {'mini_doc_count': 8, 'doc_count': 39, 'all_doc_count': 5261}), (0.007389162561576354, 'feeling', {'mini_doc_count': 6, 'doc_count': 12, 'all_doc_count': 1624}), (0.007232822047636862, 'night', {'mini_doc_count': 8, 'doc_count': 58, 'all_doc_count': 8019}), (0.0071877807726864335, 'hate', {'mini_doc_count': 7, 'doc_count': 16, 'all_doc_count': 2226}), (0.00717006497871387, 'care', {'mini_doc_count': 6, 'doc_count': 32, 'all_doc_count': 4463}), (0.007135861200503708, 'years', {'mini_doc_count': 8, 'doc_count': 51, 'all_doc_count': 7147}), (0.007124895222129086, 'sit', {'mini_doc_count': 7, 'doc_count': 17, 'all_doc_count': 2386}), (0.0070859167404783, 'trust', {'mini_doc_count': 7, 'doc_count': 16, 'all_doc_count': 2258}), (0.007047768206734534, 'tonight', {'mini_doc_count': 8, 'doc_count': 27, 'all_doc_count': 3831}), (0.007036747458952306, 'lost', {'mini_doc_count': 7, 'doc_count': 18, 'all_doc_count': 2558}), (0.007036059806508356, 'check', {'mini_doc_count': 6, 'doc_count': 16, 'all_doc_count': 2274}), (0.0070028011204481795, 'eat', {'mini_doc_count': 7, 'doc_count': 15, 'all_doc_count': 2142}), (0.006844106463878327, 'looked', {'mini_doc_count': 6, 'doc_count': 9, 'all_doc_count': 1315}), (0.0068149210903873745, 'thinking', {'mini_doc_count': 6, 'doc_count': 19, 'all_doc_count': 2788}), (0.006798316607316284, 'crazy', {'mini_doc_count': 7, 'doc_count': 21, 'all_doc_count': 3089}), (0.006739679865206402, 'gets', {'mini_doc_count': 7, 'doc_count': 16, 'all_doc_count': 2374}), (0.006738208135762416, 'guy', {'mini_doc_count': 8, 'doc_count': 54, 'all_doc_count': 8014}), (0.006701030927835051, 'means', {'mini_doc_count': 6, 'doc_count': 13, 'all_doc_count': 1940}), (0.006644518272425249, 'heart', {'mini_doc_count': 6, 'doc_count': 14, 'all_doc_count': 2107}), (0.006639915926244387, 'good', {'mini_doc_count': 8, 'doc_count': 139, 'all_doc_count': 20934}), (0.006581834137779728, 'saw', {'mini_doc_count': 7, 'doc_count': 30, 'all_doc_count': 4558}), (0.006572120373573158, 'worry', {'mini_doc_count': 7, 'doc_count': 19, 'all_doc_count': 2891}), (0.006567023037116814, 'got', {'mini_doc_count': 8, 'doc_count': 250, 'all_doc_count': 38069}), (0.006550218340611353, 'yeah', {'mini_doc_count': 8, 'doc_count': 129, 'all_doc_count': 19694}), (0.006547208821502412, 'friends', {'mini_doc_count': 6, 'doc_count': 19, 'all_doc_count': 2902}), (0.006538321830730113, 'school', {'mini_doc_count': 7, 'doc_count': 18, 'all_doc_count': 2753}), (0.006473888649115235, 'hours', {'mini_doc_count': 7, 'doc_count': 15, 'all_doc_count': 2317}), (0.006432748538011696, 'drive', {'mini_doc_count': 6, 'doc_count': 11, 'all_doc_count': 1710}), (0.006430868167202572, 'said', {'mini_doc_count': 7, 'doc_count': 74, 'all_doc_count': 11507}), (0.006395614435815441, 'young', {'mini_doc_count': 6, 'doc_count': 14, 'all_doc_count': 2189}), (0.006369426751592357, 'anybody', {'mini_doc_count': 6, 'doc_count': 15, 'all_doc_count': 2355})]\n",
      "[]\n",
      "[]\n",
      "[]\n",
      "[]\n",
      "[]\n",
      "[]\n",
      "-------- genre - words ----------\n",
      "drama:-\tarnold, kin, mortgage, hoover, jordan, cynthia, congress, morphine, lo, submit, dreadful, fortunate, nixon, wallace, complaint, disturbance, stewardess, rises, sal, stamp\n",
      "thriller:-\tchess, dan, mason, sharks, shark, dodge, sandy, sid, amuse, beaches, leo, eric, magnum, shades, blades, jeffrey, knots, cellular, passengers, footprints\n",
      "action:-\tdinosaur, breaker, vomit, accessed, treason, risking, jonathan, calculate, surviving, iii, recruiting, increased, fighters, disk, interpol, batman, superman, a--, extinct, stranded\n",
      "comedy:-\tjanet, hawk, z, hoo, attic, bean, choir, millionaire, dicks, banana, supportive, harold, reunion, the</u, teenagers, denver, you've, cocktails, dumber, humiliating\n",
      "crime:-\tnun, bonds, bark, semen, gallery, scumbags, smokin, warriors, punks, syndicate, motorcycle, swat, fugitive, jag, israel, botched, finder, sentenced, nada, shits\n",
      "romance:-\tstewart, valet, hum, sweeter, rubbed, bulls, whisper, knot, poke, hound, ernie, morons, supposing, paste, spider, judy, balcony, shook, comb, boulevard\n",
      "sci-fi:-\tthrusters, consciousness, gravitational, mars, reset, quantum, tractor, transmit, evolve, reply, activated, surge, organism, luc, override, creates, hull, rays, objects, functioning\n",
      "adventure:-\tforbidden, highness, sinking, formula, gates, stranded, armor, theoretically, unlimited, fortress, sire, functioning, hunted, possess, objects, rays, transmit, fetch, treason, quest\n",
      "mystery:-\tcables, selection, untie, to-, passenger, surgical, method, --but, alibi, concerning, drew, insight, repeated, marie, mutilated, coop, stalking, psychopath, images, promote\n",
      "horror:-\tkrueger, voodoo, loomis, generator, grad, nancy, supernatural, freddy, teresa, burke, haunted, campus, possessed, mutilated, jason, healed, veins, alice, satan, stalking\n",
      "fantasy:-\tdolls, rivers, awesome, flowing, mortal, some-, winds, lust, knight, beware, venture, toy, sleepy, hollow, sword, nightmares, swamp, confusing, demon, flames\n",
      "biography:-\tjews, misunderstood, majesty, title, tony, behalf, clerk, writes, attend, director, audience, profit, politics, george, labor, influence, institution, speaks, artist, citizen\n",
      "war:-\tgermans, rebels, duke, berlin, colonel, silk, german, soldiers, france, politics, british, rank, americans, officers, england, letters, civilian, prisoners, french, cow\n",
      "history:-\tmajesty, strike, queen, royal, france, vote, king, president, trade, reports, arrested, general, national, surely, ordered, government, excellent, accept, white, john\n",
      "animation:-\tbend, huh, cake, system, pal, destroyed, <, >, wow, relax, hole, laugh, future, u, chief, cool, matters, remind, orders, earth\n",
      "family:-\tmiracle, clearly, faster, introduce, clever, spread, bye, wings, dear, nose, power, laugh, ah, smell, army, color, greatest, favorite, peace, curious\n",
      "music:-\tconcert, gig, sing, tune, music, singing, introduce, song, audience, birthday, kiss, record, cheese, black, ah, devil, playing, practice, sunday, dogs\n",
      "western:-\tcattle, horses, indian, sheriff, riding, shotgun, horse, fella, lookin, comin, texas, territory, river, nothin', ma'am, gettin, folks, somethin', ai, boys\n",
      "musical:-\tdear, oh, lucky, hope, help, promise, funny, found, come, yes, away, beautiful, pretty, start, matter, true, use, wish, sent, hear\n",
      "sport:-\tball, game, 'cause, fight, win, lose, play, cute, shot, brains, teach, ai, respect, personal, smart, kid, luck, stick, ta, everybody\n",
      "short:-\t\n",
      "film-noir:-\t\n",
      "documentary:-\t\n",
      "adult:-\t\n",
      "other:-\t\n",
      "other:-\t\n"
     ]
    }
   ],
   "source": [
    "print(\"-------- Scores ---------\")\n",
    "for x in topk:\n",
    "    print(x)\n",
    "\n",
    "print('-------- genre - words ----------')\n",
    "for i, scores in enumerate(topk):\n",
    "    print(f'{all_genres[i]}:-\\t{\", \".join(s[1] for s in scores[:20])}')\n"
   ],
   "metadata": {
    "collapsed": false,
    "pycharm": {
     "name": "#%%\n"
    }
   }
  },
  {
   "cell_type": "markdown",
   "source": [
    "With some hyperparameter tuning (min_mini_df, min_tf, min_df) especially `min_mini_df`,\n",
    "we got some words that resemble the genre.\n",
    "\n",
    "This is sensitive to the hyperparams.\n",
    "I sometimes get really good keywords for few genres that surprise me.\n",
    "But sometimes they are boring and not genre specific.\n",
    "One can further fine-tune the hyperparams, but I'm leaving it here.\n",
    "\n",
    "---\n",
    "\n",
    "## Concluding Q1\n",
    "\n",
    "I think the network of dialogs and movies was really interesting.\n",
    "Then the keywords for each movie and genre was interesting,\n",
    "but due to high variety with changing hyperparams,\n",
    "I think it is not robust."
   ],
   "metadata": {
    "collapsed": false,
    "pycharm": {
     "name": "#%% md\n"
    }
   }
  },
  {
   "cell_type": "markdown",
   "metadata": {
    "pycharm": {
     "name": "#%% md\n"
    }
   },
   "source": [
    "----------------------------------------------------------------------------------\n",
    "\n",
    "# Classification\n",
    "\n",
    "There's no \"description\" or \"plot summary\" of movies.\n",
    "This task would've been much easier if we had access to those.\n",
    "\n",
    "Brainstorming ideas\n",
    "\n",
    "## 1. Movie embeddings from connected dialogs\n",
    "Using the dialog cluster obtained above,\n",
    "we can sample few dialogs from the dialogs cluster in each training pass\n",
    "and train a simple multi-layer neural network to predict multi-label genres.\n",
    "\n",
    "During inference, I will still apply the same technique i.e.\n",
    "find embeddings of all conversations,\n",
    "find similarities and pick the largest cluster,\n",
    "then forward pass through the network.\n",
    "\n",
    "---\n",
    "\n",
    "## Bag-of-words method\n",
    "\n",
    "We obtained these \"genre-defining\" words for each genre.\n",
    "We can build a model that takes in average word vectors of these words and predicts genres.\n",
    "the next task would be to somehow learn that these words (or similar words) will help predict the movie's genre.\n",
    "\n",
    "\n",
    "For Q2, I will choose method 1 (movie embeddings from connected dialogs)\n",
    "\n",
    "### Implementation:\n",
    "\n",
    "Split 95:5 of the movies randomly.\n",
    "\n",
    "Testset should contain at least 1 movie in each genre.\n",
    "But there's an exception to this rule where there's only 1 movie for\n",
    "a genre in the dataset.\n",
    "For simplicity, I will ignore the class imbalance in testset.\n",
    "However, I will use a balanced loss function.\n",
    "\n",
    "#### Generating training data\n",
    "\n",
    "Can we use these \"significant-dialogs\" to predict genre?\n",
    "That might be possible.\n",
    "\n",
    "A training pipeline could look like following:\n",
    "\n",
    "- A random sample of dialogs from this cluster could contain enough information\n",
    "about the genre.\n",
    "\n",
    "- So during training, every sample in a training batch could be a\n",
    "\"average embeddings of randomly sampled subset of significant dialogs of a movie with replacement\".\n",
    "\n",
    "- The reason for random subset's embedding as input as opposed to all the\n",
    "dialogs is to increase the variation in the training data.\n"
   ]
  },
  {
   "cell_type": "code",
   "execution_count": 338,
   "outputs": [],
   "source": [
    "class DialogClusterDataset(Dataset):\n",
    "    def __init__(\n",
    "        self,\n",
    "        movies: Dict[str, Movie],\n",
    "        clusters_embeddings: Dict[str, Dict[str, Union[torch.Tensor, List[str]]]],\n",
    "        all_genres: List[str],\n",
    "        dialog_sample_size: int,\n",
    "        movie_ids: Optional[List[int]] = None,\n",
    "    ):\n",
    "        \"\"\"\n",
    "        This dataset yields a movie embedding by randomly selecting some dialogs\n",
    "        from clusters_embeddings.\n",
    "\n",
    "\n",
    "        dialog_sample_size is the number of dialog embeddings to sample randomly\n",
    "        from the dialog embeddings.\n",
    "\n",
    "        `clusters_embeddings` is a dict of the shape:\n",
    "\n",
    "        ```yaml\n",
    "        <movie_1_id>:\n",
    "            cluster_dialogs:\n",
    "                - <dialog1:str>\n",
    "                - <dialog2:str>\n",
    "                - ...\n",
    "            cluster_embeddings: <dialogs_embedding:torch.Tensor(n_dialogs,embedding_dim)>\n",
    "        <movie_2_id>:\n",
    "            ...\n",
    "        ```\n",
    "        \"\"\"\n",
    "        self.movies = movies\n",
    "        self.clusters_embeddings = clusters_embeddings\n",
    "        self.all_genres = sorted(all_genres)\n",
    "        self.dialog_sample_size = dialog_sample_size\n",
    "\n",
    "        self.movie_ids = movie_ids\n",
    "        if self.movie_ids is None:\n",
    "            self.movie_ids = sorted(list(self.clusters_embeddings.keys()))\n",
    "\n",
    "    def __len__(self):\n",
    "        return len(self.movie_ids)\n",
    "\n",
    "    def __getitem__(self, index: int):\n",
    "        movie_id = self.movie_ids[index]\n",
    "\n",
    "        movie_embedding = self._get_movie_embedding(movie_id)\n",
    "        genre_vector = self._get_genre_vector(self.movies[movie_id].genres)\n",
    "\n",
    "        return movie_embedding, genre_vector\n",
    "\n",
    "    def _get_genre_vector(self, genres: List[str]):\n",
    "        genres = [genre in genres for genre in self.all_genres]\n",
    "        genres = torch.tensor(genres) * 1.0\n",
    "        return genres\n",
    "\n",
    "    def _get_movie_embedding(self, movie_id: str):\n",
    "        embeddings = self.clusters_embeddings[movie_id]['cluster_embeddings']\n",
    "\n",
    "        num_dialogs = len(embeddings)\n",
    "        sample_size = min(num_dialogs, self.dialog_sample_size)\n",
    "\n",
    "        random_indices = torch.randint(low=0, high=num_dialogs, size=(sample_size,))\n",
    "\n",
    "        subsampled_embeddings = embeddings[random_indices]\n",
    "\n",
    "        final_embedding = torch.mean(subsampled_embeddings, dim=0)\n",
    "        return final_embedding"
   ],
   "metadata": {
    "collapsed": false,
    "pycharm": {
     "name": "#%%\n"
    }
   }
  },
  {
   "cell_type": "code",
   "execution_count": 339,
   "metadata": {
    "pycharm": {
     "name": "#%%\n"
    }
   },
   "outputs": [],
   "source": [
    "movie_ids = list(clusters_embeddings.keys())\n",
    "movie_ids_train, movie_ids_test = train_test_split(movie_ids, test_size=0.05)"
   ]
  },
  {
   "cell_type": "code",
   "execution_count": 340,
   "outputs": [],
   "source": [
    "epochs = 100\n",
    "batch_size = 10\n",
    "dialog_sample_size = 10"
   ],
   "metadata": {
    "collapsed": false,
    "pycharm": {
     "name": "#%%\n"
    }
   }
  },
  {
   "cell_type": "code",
   "execution_count": 341,
   "outputs": [],
   "source": [
    "dataloader_train = DataLoader(\n",
    "    dataset=DialogClusterDataset(\n",
    "        movies=movies,\n",
    "        clusters_embeddings=clusters_embeddings,\n",
    "        all_genres=all_genres,\n",
    "        dialog_sample_size=dialog_sample_size,\n",
    "        movie_ids=movie_ids_train,\n",
    "    ),\n",
    "    batch_size=batch_size,\n",
    "    shuffle=True,\n",
    ")\n",
    "\n",
    "dataloader_test = DataLoader(\n",
    "    dataset=DialogClusterDataset(\n",
    "        movies=movies,\n",
    "        clusters_embeddings=clusters_embeddings,\n",
    "        all_genres=all_genres,\n",
    "        dialog_sample_size=dialog_sample_size,\n",
    "        movie_ids=movie_ids_test,\n",
    "    ),\n",
    "    batch_size=batch_size,\n",
    "    shuffle=False,\n",
    ")"
   ],
   "metadata": {
    "collapsed": false,
    "pycharm": {
     "name": "#%%\n"
    }
   }
  },
  {
   "cell_type": "code",
   "execution_count": 342,
   "outputs": [],
   "source": [
    "model = nn.Sequential(\n",
    "    nn.Linear(768, 100),\n",
    "    nn.ReLU(),\n",
    "    nn.Dropout(0.2),\n",
    "    nn.Linear(100, 25)\n",
    ").to(device)\n",
    "\n",
    "optimizer = Adam(model.parameters())\n",
    "criterion = nn.BCEWithLogitsLoss(reduction='none')"
   ],
   "metadata": {
    "collapsed": false,
    "pycharm": {
     "name": "#%%\n"
    }
   }
  },
  {
   "cell_type": "code",
   "execution_count": 352,
   "outputs": [
    {
     "name": "stderr",
     "output_type": "stream",
     "text": [
      "100%|██████████| 59/59 [00:02<00:00, 26.81it/s]\n",
      "100%|██████████| 59/59 [00:01<00:00, 31.87it/s]\n",
      "100%|██████████| 59/59 [00:01<00:00, 44.79it/s]\n",
      "100%|██████████| 59/59 [00:00<00:00, 61.02it/s]\n",
      "100%|██████████| 59/59 [00:01<00:00, 51.60it/s]\n",
      "100%|██████████| 59/59 [00:01<00:00, 31.46it/s]\n",
      "100%|██████████| 59/59 [00:01<00:00, 51.52it/s]\n",
      "100%|██████████| 59/59 [00:01<00:00, 54.11it/s]\n",
      "100%|██████████| 59/59 [00:01<00:00, 45.11it/s]\n",
      "100%|██████████| 59/59 [00:01<00:00, 48.91it/s]\n"
     ]
    }
   ],
   "source": [
    "for epoch in range(epochs):\n",
    "    losses = 0\n",
    "    n_batches = 0\n",
    "    batch = tqdm(dataloader_train)\n",
    "    for movie_embeddings, genres in batch:\n",
    "        movie_embeddings = movie_embeddings.to(device)\n",
    "        genres = genres.to(device)\n",
    "\n",
    "        genres_pred = model(movie_embeddings)\n",
    "\n",
    "        loss = criterion(genres_pred, genres)\n",
    "        loss = loss.mean(dim=1).mean(dim=0)\n",
    "\n",
    "        optimizer.zero_grad()\n",
    "        loss.backward()\n",
    "        optimizer.step()\n",
    "\n",
    "        losses += loss.item()\n",
    "        n_batches += 1\n",
    "    loss = losses / n_batches\n",
    "    batch.set_postfix(loss=loss)\n"
   ],
   "metadata": {
    "collapsed": false,
    "pycharm": {
     "name": "#%%\n"
    }
   }
  },
  {
   "cell_type": "code",
   "execution_count": null,
   "outputs": [],
   "source": [
    "# TODO: Word cloud for these words.\n"
   ],
   "metadata": {
    "collapsed": false,
    "pycharm": {
     "name": "#%%\n"
    }
   }
  },
  {
   "cell_type": "code",
   "execution_count": null,
   "outputs": [],
   "source": [
    "# -------------------------------------------------------------------------------------------\n",
    "# UNUSED CODE FROM HERE\n",
    "# -----------------------------------------------------------------------------------\n",
    "\n",
    "\n",
    "# Some of the genres have very low movie count.\n",
    "# This will make the frequency based method very difficult.\n",
    "# We might employ other techniques for these low-frequent genres.\n",
    "# For now, to make the problem easier, let's only use the high frequent genres only.\n",
    "\n",
    "# # Eliminating all genres with frequency < 75 (75 is just based on intuition.)\n",
    "# low_frequency_genres = [genre for genre in all_genres if genre_movies_count[genre] <= 75]\n",
    "#\n",
    "# for genre in low_frequency_genres:\n",
    "#     # Remove from all_genres\n",
    "#     all_genres.remove(genre)\n",
    "#\n",
    "#     # Remove from movie.genres\n",
    "#     for movie in movies_list:\n",
    "#         if genre in movie.genres:\n",
    "#             movie.genres.remove(genre)\n",
    "#\n",
    "# # Remove movies with empty genres\n",
    "# movies_to_remove = []\n",
    "# for movie_id, movie in movies.items():\n",
    "#     if len(movie.genres) == 0:\n",
    "#         movies_to_remove.append(movie_id)\n",
    "# for movie_id in movies_to_remove:\n",
    "#     del movies[movie_id]"
   ],
   "metadata": {
    "collapsed": false,
    "pycharm": {
     "name": "#%%\n"
    }
   }
  },
  {
   "cell_type": "code",
   "execution_count": null,
   "outputs": [],
   "source": [
    "# [NOT USED] Creates text files with all dialogs of each genre. NOT USED, but works.\n",
    "\n",
    "@contextmanager\n",
    "def get_genre_dialogs_files(output_path: str, genres: List[str], mode: str):\n",
    "    \"\"\"\n",
    "    A wrapper that encapsulates handling multiple genre-dialogs files.\n",
    "    \"\"\"\n",
    "    makedirs(output_path, exist_ok=True)\n",
    "    files: Dict[str, TextIO] = {genre: open(join(output_path, f'{genre}.txt'), mode) for genre in genres}\n",
    "\n",
    "    try:\n",
    "        yield files\n",
    "    finally:\n",
    "        for genre in genres:\n",
    "            files[genre].close()\n",
    "\n",
    "\n",
    "def create_genre_dialogs_files():\n",
    "    # Creating dialogs text files for each genre.\n",
    "    genre_dialogs_path = '/Users/akhil/code/lexical_lab/companies/ginger/data/output/genre_dialogs'\n",
    "    with get_genre_dialogs_files(genre_dialogs_path, all_genres, 'w') as genre_dialogs_files:\n",
    "        for movie in movies_list:\n",
    "            for conversation in movie.conversations:\n",
    "                for dialog in conversation.dialogs:\n",
    "                    for genre in movie.genres:\n",
    "                        genre_dialogs_files[genre].write(dialog.dialog + '\\n')"
   ],
   "metadata": {
    "collapsed": false,
    "pycharm": {
     "name": "#%%\n"
    }
   }
  }
 ],
 "metadata": {
  "kernelspec": {
   "display_name": "Python 3",
   "language": "python",
   "name": "python3"
  },
  "language_info": {
   "codemirror_mode": {
    "name": "ipython",
    "version": 3
   },
   "file_extension": ".py",
   "mimetype": "text/x-python",
   "name": "python",
   "nbconvert_exporter": "python",
   "pygments_lexer": "ipython3",
   "version": "3.8.10"
  }
 },
 "nbformat": 4,
 "nbformat_minor": 1
}