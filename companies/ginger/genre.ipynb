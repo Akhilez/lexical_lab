{
 "cells": [
  {
   "cell_type": "markdown",
   "metadata": {
    "collapsed": true,
    "pycharm": {
     "name": "#%% md\n"
    }
   },
   "source": [
    "# Part 1: Parsing/Reading the data\n",
    "\n",
    "Before I do anything, I must first make sense of the given data and it's structure.\n",
    "i.e. parse all the data from txt files.\n",
    "\n",
    "\n",
    "Destruction of the data (relevant fields):\n",
    "- movies\n",
    "    - genres\n",
    "    - conversations\n",
    "        - dialogs\n",
    "            - sentences\n",
    "                - words\n",
    "\n",
    "The assignment says **not** to use any data other than \"movie_lines.txt\",\n",
    "I'm parsing the entire data set to understand the schema and play around with it later.\n",
    "For the purpose of Q1, I will only use data that was parsed from \"movie_lines.txt\".\n",
    "\n",
    "I'm using the term \"dialog\" instead of \"line\" because line is ambiguous, dialog is not."
   ]
  },
  {
   "cell_type": "code",
   "execution_count": 110,
   "outputs": [],
   "source": [
    "import re\n",
    "from collections import Counter, OrderedDict\n",
    "from contextlib import contextmanager\n",
    "from copy import deepcopy\n",
    "from os import listdir, makedirs\n",
    "from os.path import join\n",
    "from typing import List, Tuple, Dict, Optional, TextIO\n",
    "from transformers import DistilBertTokenizer, DistilBertModel\n",
    "import torch\n",
    "from torch.nn import functional as F\n",
    "import numpy as np\n",
    "from matplotlib import pyplot as plt\n",
    "from sklearn.feature_extraction.text import TfidfVectorizer, CountVectorizer\n",
    "import pandas as pd\n",
    "import spacy\n",
    "from pydantic import BaseModel\n",
    "from tqdm import tqdm\n",
    "import heapq"
   ],
   "metadata": {
    "collapsed": false,
    "pycharm": {
     "name": "#%%\n"
    }
   }
  },
  {
   "cell_type": "markdown",
   "source": [
    "I see that the data is fragmented into several files like a relational database.\n",
    "\n",
    "Something I like to do when we have such relational data models is to create classes for those models.\n",
    "Pydantic provides an easy, readable and writable framework for this."
   ],
   "metadata": {
    "collapsed": false,
    "pycharm": {
     "name": "#%% md\n"
    }
   }
  },
  {
   "cell_type": "code",
   "execution_count": 57,
   "outputs": [],
   "source": [
    "class Character(BaseModel):\n",
    "    name: str\n",
    "    id: str\n",
    "    gender: Optional[str]  # m|f|None\n",
    "    credit_position: Optional[int]\n",
    "\n",
    "    def __eq__(self, other):\n",
    "        return self.id == other.id\n",
    "\n",
    "\n",
    "class Dialog(BaseModel):\n",
    "    id: str\n",
    "    speaker: Character\n",
    "    listener: Optional[Character]\n",
    "    dialog: str\n",
    "\n",
    "\n",
    "class Conversation(BaseModel):\n",
    "    characters: Tuple[Character, Character]\n",
    "    dialogs: List[Dialog]\n",
    "\n",
    "\n",
    "class Movie(BaseModel):\n",
    "    id: str\n",
    "    title: str\n",
    "    release_year: int\n",
    "    imdb_rating: float\n",
    "    num_votes: int\n",
    "    genres: List[str] = []\n",
    "    characters: Dict[str, Character] = {}\n",
    "    conversations: List[Conversation] = []"
   ],
   "metadata": {
    "collapsed": false,
    "pycharm": {
     "name": "#%%\n"
    }
   }
  },
  {
   "cell_type": "code",
   "execution_count": 58,
   "outputs": [],
   "source": [
    "def update_movie_characters(movies: Dict[str, Movie], characters_path: str):\n",
    "    with open(characters_path, \"r\", encoding=\"ISO-8859-1\") as characters_file:\n",
    "        for character in characters_file:\n",
    "            # sample: u0 +++$+++ BIANCA +++$+++ m0 +++$+++ 10 things i hate about you +++$+++ f +++$+++ 4\n",
    "            character = character.strip().split(\" +++$+++ \")\n",
    "            character_id, name, movie_id, movie_title, gender, position = character\n",
    "\n",
    "            gender = None if gender == \"?\" else gender\n",
    "            position = None if position == \"?\" else position\n",
    "\n",
    "            assert movie_id in movies\n",
    "            movie = movies[movie_id]\n",
    "\n",
    "            character = Character(\n",
    "                name=name,\n",
    "                id=character_id,\n",
    "                gender=gender,  # m|f|None\n",
    "                credit_position=position,\n",
    "            )\n",
    "\n",
    "            movie.characters[character_id] = character"
   ],
   "metadata": {
    "collapsed": false,
    "pycharm": {
     "name": "#%%\n"
    }
   }
  },
  {
   "cell_type": "code",
   "execution_count": 59,
   "outputs": [],
   "source": [
    "def get_all_dialogs(movies: Dict[str, Movie], lines_path: str) -> Dict[str, Dialog]:\n",
    "    all_dialogs = {}\n",
    "    with open(lines_path, \"r\", encoding=\"ISO-8859-1\") as dialogs_file:\n",
    "        for dialog in dialogs_file:\n",
    "            # Sample: L1045 +++$+++ u0 +++$+++ m0 +++$+++ BIANCA +++$+++ They do not!\n",
    "            # Note: Sometimes, there's no dialog, so splitting with ' +++$+++ ' will be wrong (with space at the end.)\n",
    "            #       So, we will split without spaces on either side and then strip\n",
    "            dialog = dialog.strip().split(\"+++$+++\")\n",
    "            dialog = [d.strip() for d in dialog]\n",
    "            dialog_id, character_id, movie_id, character_name, dialog = dialog\n",
    "\n",
    "            assert movie_id in movies\n",
    "            movie = movies[movie_id]\n",
    "\n",
    "            assert character_id in movie.characters\n",
    "            speaker = movie.characters[character_id]\n",
    "\n",
    "            dialog = Dialog(id=dialog_id, speaker=speaker, dialog=dialog)\n",
    "            all_dialogs[dialog_id] = dialog\n",
    "    return all_dialogs\n"
   ],
   "metadata": {
    "collapsed": false,
    "pycharm": {
     "name": "#%%\n"
    }
   }
  },
  {
   "cell_type": "code",
   "execution_count": 60,
   "outputs": [],
   "source": [
    "\n",
    "def update_movie_dialogs(\n",
    "    movies: Dict[str, Movie], conversations_path: str, lines_path: str\n",
    "):\n",
    "    all_dialogs: Dict[str, Dialog] = get_all_dialogs(movies, lines_path)\n",
    "\n",
    "    with open(conversations_path, \"r\", encoding=\"ISO-8859-1\") as conversations_file:\n",
    "        for conversation in conversations_file:\n",
    "            # Sample: u0 +++$+++ u2 +++$+++ m0 +++$+++ ['L198', 'L199']\n",
    "            conversation = conversation.strip().split(\" +++$+++ \")\n",
    "            character1, character2, movie_id, dialogs = conversation\n",
    "\n",
    "            dialogs = dialogs.strip(\"][\").replace(\"'\", \"\").split(\", \")\n",
    "\n",
    "            assert movie_id in movies\n",
    "            movie = movies[movie_id]\n",
    "\n",
    "            assert character1 in movie.characters\n",
    "            assert character2 in movie.characters\n",
    "\n",
    "            character1 = movie.characters[character1]\n",
    "            character2 = movie.characters[character2]\n",
    "\n",
    "            for dialog in dialogs:\n",
    "                assert dialog in all_dialogs\n",
    "                dialog = all_dialogs[dialog]\n",
    "                listener = character1 if character2 == dialog.speaker else character2\n",
    "                dialog.listener = listener\n",
    "\n",
    "            conversation = Conversation(\n",
    "                characters=(character1, character2),\n",
    "                dialogs=[all_dialogs[dialog] for dialog in dialogs],\n",
    "            )\n",
    "\n",
    "            movie.conversations.append(conversation)\n"
   ],
   "metadata": {
    "collapsed": false,
    "pycharm": {
     "name": "#%%\n"
    }
   }
  },
  {
   "cell_type": "code",
   "execution_count": 61,
   "outputs": [],
   "source": [
    "\n",
    "def _preprocess_year(year: str) -> int:\n",
    "    if \"/I\" in year:\n",
    "        year = year.replace(\"/I\", \"\")\n",
    "    year = int(year)\n",
    "    return year\n",
    "\n",
    "\n",
    "def get_movies_dict(movie_titles_metadata_path: str) -> Dict[str, Movie]:\n",
    "    movies_dict = {}\n",
    "    with open(movie_titles_metadata_path, \"r\", encoding=\"ISO-8859-1\") as movies_file:\n",
    "        for movie in movies_file:\n",
    "            movie = movie.strip().split(\" +++$+++ \")\n",
    "            movie_id, title, year, rating, votes, genres = movie\n",
    "            # Replace list representation with list of strings\n",
    "            genres = genres.strip(\"][\").replace(\"'\", \"\").split(\", \")\n",
    "            year = _preprocess_year(year)\n",
    "            rating = float(rating)\n",
    "\n",
    "            movie = Movie(\n",
    "                id=movie_id,\n",
    "                title=title,\n",
    "                release_year=year,\n",
    "                imdb_rating=rating,\n",
    "                num_votes=votes,\n",
    "                genres=genres,\n",
    "            )\n",
    "\n",
    "            movies_dict[movie_id] = movie\n",
    "\n",
    "    return movies_dict"
   ],
   "metadata": {
    "collapsed": false,
    "pycharm": {
     "name": "#%%\n"
    }
   }
  },
  {
   "cell_type": "code",
   "execution_count": 62,
   "outputs": [],
   "source": [
    "def get_data(path: str):\n",
    "    \"\"\"\n",
    "    Parses all the files from Cornell movie dialogs dataset into pydantic objects.\n",
    "    http://www.cs.cornell.edu/~cristian/Cornell_Movie-Dialogs_Corpus.html\n",
    "\n",
    "    # 1. For each movie:\n",
    "    #    a. get all characters\n",
    "    #    b. get all conversations\n",
    "    \"\"\"\n",
    "\n",
    "    files = listdir(path)\n",
    "\n",
    "    assert \"movie_titles_metadata.txt\" in files\n",
    "    assert \"movie_characters_metadata.txt\" in files\n",
    "    assert \"movie_conversations.txt\" in files\n",
    "    assert \"movie_lines.txt\" in files\n",
    "\n",
    "    movies_dict = get_movies_dict(join(path, \"movie_titles_metadata.txt\"))\n",
    "    update_movie_characters(movies_dict, join(path, \"movie_characters_metadata.txt\"))\n",
    "    update_movie_dialogs(\n",
    "        movies_dict,\n",
    "        join(path, \"movie_conversations.txt\"),\n",
    "        join(path, \"movie_lines.txt\"),\n",
    "    )\n",
    "\n",
    "    return movies_dict\n",
    "\n",
    "\n",
    "data_path = \"/Users/akhil/code/lexical_lab/companies/ginger/data/cornell\"\n",
    "movies = get_data(data_path)"
   ],
   "metadata": {
    "collapsed": false,
    "pycharm": {
     "name": "#%%\n"
    }
   }
  },
  {
   "cell_type": "markdown",
   "source": [
    "Alright, we got all the data stored in `movies` dictionary.\n",
    "\n",
    "It looks like this (in yaml format):\n",
    "\n",
    "```yaml\n",
    "m28:\n",
    "  id: m28\n",
    "  title: barry lyndon\n",
    "  release_year: 1975\n",
    "  imdb_rating: 8.1\n",
    "  num_votes: 40622\n",
    "  genres: [drama, romance, war]\n",
    "  characters:\n",
    "    u454:\n",
    "      credit_position: null\n",
    "      gender: null\n",
    "      id: u454\n",
    "      name: ARMED GENTLEMAN\n",
    "  conversations:\n",
    "  - characters: [u473, u475]\n",
    "    dialogs:\n",
    "    - dialog: Charming Schuvaloff.\n",
    "      id: L64877\n",
    "      listener: u475\n",
    "      speaker: u473\n",
    "```"
   ],
   "metadata": {
    "collapsed": false,
    "pycharm": {
     "name": "#%% md\n"
    }
   }
  },
  {
   "cell_type": "markdown",
   "source": [
    "---\n",
    "\n",
    "# Part 2: Analysis of movie lines\n",
    "\n",
    "Definitions to be clear:\n",
    "\n",
    "**Dialog**: A dialog is a line that an actor says in one go before the other actor speaks their line.\n",
    "\n",
    "**Conversation**: A conversation is a sequence of dialogs in order.\n",
    "\n",
    "\n",
    "I like plotting these curves (I call these \"transposed S\" curves) to get an\n",
    "understanding of how the data is distributed.\n",
    "\n",
    "Almost all movies have > 50 conversations with average of ~135 conversations.\n",
    "\n",
    "The number of dialogs range from 6-1530 with mean of ~500 dialogs for each movie."
   ],
   "metadata": {
    "collapsed": false,
    "pycharm": {
     "name": "#%% md\n"
    }
   }
  },
  {
   "cell_type": "code",
   "execution_count": 63,
   "outputs": [
    {
     "name": "stdout",
     "output_type": "stream",
     "text": [
      "Average # of conversations: 134.67909238249595\n",
      "Max # of conversations: 338\n",
      "Min # of conversations: 1\n"
     ]
    },
    {
     "data": {
      "text/plain": "Text(0.5, 0, '# of conversations')"
     },
     "execution_count": 63,
     "metadata": {},
     "output_type": "execute_result"
    },
    {
     "data": {
      "text/plain": "<Figure size 432x288 with 1 Axes>",
      "image/png": "[encoded data removed]"
     },
     "metadata": {
      "needs_background": "light"
     },
     "output_type": "display_data"
    }
   ],
   "source": [
    "# plot number of conversations for each movie\n",
    "\n",
    "num_conversations = [len(movie.conversations) for _, movie in movies.items()]\n",
    "num_conversations = sorted(num_conversations, reverse=True)\n",
    "num_conversations = np.array(num_conversations)\n",
    "\n",
    "print(f'Average # of conversations: {num_conversations.mean()}')\n",
    "print(f'Max # of conversations: {num_conversations.max()}')\n",
    "print(f'Min # of conversations: {num_conversations.min()}')\n",
    "\n",
    "plt.plot(num_conversations)\n",
    "plt.title(\"Number of conversations for each movie\")\n",
    "plt.xlabel(\"movie index sorted descendingly by y\")\n",
    "plt.xlabel(\"# of conversations\")"
   ],
   "metadata": {
    "collapsed": false,
    "pycharm": {
     "name": "#%%\n"
    }
   }
  },
  {
   "cell_type": "code",
   "execution_count": 64,
   "outputs": [
    {
     "name": "stdout",
     "output_type": "stream",
     "text": [
      "Average # of dialogs: 493.86223662884925\n",
      "Max # of dialogs: 1530\n",
      "Min # of dialogs: 6\n"
     ]
    },
    {
     "data": {
      "text/plain": "Text(0.5, 0, '# of dialogs')"
     },
     "execution_count": 64,
     "metadata": {},
     "output_type": "execute_result"
    },
    {
     "data": {
      "text/plain": "<Figure size 432x288 with 1 Axes>",
      "image/png": "[encoded data removed]"
     },
     "metadata": {
      "needs_background": "light"
     },
     "output_type": "display_data"
    }
   ],
   "source": [
    "# plot number of dialogs for each movie\n",
    "\n",
    "num_dialogs = []\n",
    "for _, movie in movies.items():\n",
    "    num_dialogs_ = sum([len(convo.dialogs) for convo in movie.conversations])\n",
    "    num_dialogs.append(num_dialogs_)\n",
    "\n",
    "num_dialogs = sorted(num_dialogs, reverse=True)\n",
    "num_dialogs = np.array(num_dialogs)\n",
    "\n",
    "print(f'Average # of dialogs: {num_dialogs.mean()}')\n",
    "print(f'Max # of dialogs: {num_dialogs.max()}')\n",
    "print(f'Min # of dialogs: {num_dialogs.min()}')\n",
    "\n",
    "plt.plot(num_dialogs)\n",
    "plt.title(\"Number of dialogs for each movie\")\n",
    "plt.xlabel(\"movie index sorted descendingly by y\")\n",
    "plt.xlabel(\"# of dialogs\")"
   ],
   "metadata": {
    "collapsed": false,
    "pycharm": {
     "name": "#%%\n"
    }
   }
  },
  {
   "cell_type": "markdown",
   "source": [
    "The conversations are like \"to-and-fro\" style with two characters with\n",
    "at least 1 dialog for each.\n",
    "So information from one dialog will flow to the next one within a conversation.\n",
    "\n",
    "\n",
    "Let's pick a random movie that will stay constant throughout this notebook."
   ],
   "metadata": {
    "collapsed": false,
    "pycharm": {
     "name": "#%% md\n"
    }
   }
  },
  {
   "cell_type": "code",
   "execution_count": 74,
   "outputs": [
    {
     "name": "stdout",
     "output_type": "stream",
     "text": [
      "an american werewolf in london ['horror', 'romance']\n",
      "# of conversations 126\n",
      "Random conversation index: 45\n",
      "length of random conversation:  3\n"
     ]
    },
    {
     "data": {
      "text/plain": "[\"Leave me alone, dammit! You people are crazy! I've got to get away from here! I've got to do something!\",\n \"David, don't lose control.\",\n 'Control!?! What control!?! Get away from me!']"
     },
     "execution_count": 74,
     "metadata": {},
     "output_type": "execute_result"
    }
   ],
   "source": [
    "random_movie_id = 17\n",
    "random_movie = movies[f'm{random_movie_id}']\n",
    "\n",
    "print(random_movie.title, random_movie.genres)\n",
    "print('# of conversations', len(random_movie.conversations))\n",
    "\n",
    "random_conversation_index = np.random.randint(low=0, high=len(random_movie.conversations), size=1)[0]\n",
    "print(f'Random conversation index: {random_conversation_index}')\n",
    "random_conversation = random_movie.conversations[random_conversation_index]\n",
    "print('length of random conversation: ', len(random_conversation.dialogs))\n",
    "[d.dialog for d in random_conversation.dialogs]"
   ],
   "metadata": {
    "collapsed": false,
    "pycharm": {
     "name": "#%%\n"
    }
   }
  },
  {
   "cell_type": "code",
   "execution_count": 30,
   "outputs": [
    {
     "name": "stdout",
     "output_type": "stream",
     "text": [
      "Average length of conversations: 4.587301587301587\n",
      "Max length of conversations: 19\n",
      "Min length of conversations: 2\n"
     ]
    },
    {
     "data": {
      "text/plain": "Text(0.5, 0, 'length of conversations')"
     },
     "execution_count": 30,
     "metadata": {},
     "output_type": "execute_result"
    },
    {
     "data": {
      "text/plain": "<Figure size 432x288 with 1 Axes>",
      "image/png": "[encoded data removed]"
     },
     "metadata": {
      "needs_background": "light"
     },
     "output_type": "display_data"
    }
   ],
   "source": [
    "# Plot number of dialogs for each conversation in a random movie.\n",
    "\n",
    "num_dialogs = [len(convo.dialogs) for convo in random_movie.conversations]\n",
    "num_dialogs = sorted(num_dialogs, reverse=True)\n",
    "num_dialogs = np.array(num_dialogs)\n",
    "\n",
    "print(f'Average length of conversations: {num_dialogs.mean()}')\n",
    "print(f'Max length of conversations: {num_dialogs.max()}')\n",
    "print(f'Min length of conversations: {num_dialogs.min()}')\n",
    "\n",
    "plt.plot(num_dialogs)\n",
    "plt.title(\"length of conversations for each movie\")\n",
    "plt.xlabel(\"movie index sorted descendingly by y\")\n",
    "plt.xlabel(\"length of conversations\")\n"
   ],
   "metadata": {
    "collapsed": false,
    "pycharm": {
     "name": "#%%\n"
    }
   }
  },
  {
   "cell_type": "markdown",
   "source": [
    "Breakdown of what we can do with this data:\n",
    "\n",
    "- within a movie\n",
    "    - among words\n",
    "        - tf-idf approach\n",
    "            - tf-idf where document = conversation\n",
    "            - Each term should at least be in 2 conversations?\n",
    "            - Get static embeddings for each high-rank tf-idf terms\n",
    "            - Do a cartesian product of pairs of these embeddings and find the most similar pairs.\n",
    "            - Create a network of these pairs based on similar/not. (if similar, there will be a link)\n",
    "        - embedding appraoch:\n",
    "            - Do an n-gram and find the segment of a conversation that has the highest\n",
    "              cosine similarity with the embedding of the entire conversation.\n",
    "            -\n",
    "    - among lines\n",
    "        - a conversation is a continuous stream of dialogs. So get an embedding for it.\n",
    "        - Do a 2-gram sentences (not 2-gram of words) and feed it to BERT as 2 sequences to get the embedding.\n",
    "        - Then average all 2-grams to get conversation embedding.\n",
    "          Or input 2-gram embeddings as word embeddings to get conversation embedding.\n",
    "        - What's the most \"significant\" dialog in the conversation that captures the whole conversation?\n",
    "        - Does the \"significant\" word from tf-idf correlate with most significant dialogs?\n",
    "        - Capture similar and dissimilar conversations.\n",
    "- across movies\n",
    "    - among words\n",
    "        - tf-idf where document = movie\n",
    "        - Show high-rank tf-idf words for each movie\n",
    "    - among lines\n",
    "- across corpus\n",
    "- across genres\n"
   ],
   "metadata": {
    "collapsed": false,
    "pycharm": {
     "name": "#%% md\n"
    }
   }
  },
  {
   "cell_type": "markdown",
   "source": [
    "## Within a conversation in a movie.\n",
    "\n",
    "Let's use a pretrained DistilBERT model for word/sentence/sentence-pair embeddings.\n",
    "\n",
    "I'm using huggingface's `transformers` library. https://huggingface.co/transformers"
   ],
   "metadata": {
    "collapsed": false,
    "pycharm": {
     "name": "#%% md\n"
    }
   }
  },
  {
   "cell_type": "code",
   "execution_count": 19,
   "outputs": [
    {
     "name": "stderr",
     "output_type": "stream",
     "text": [
      "Some weights of the model checkpoint at distilbert-base-uncased were not used when initializing DistilBertModel: ['vocab_projector.bias', 'vocab_transform.weight', 'vocab_layer_norm.bias', 'vocab_layer_norm.weight', 'vocab_transform.bias', 'vocab_projector.weight']\n",
      "- This IS expected if you are initializing DistilBertModel from the checkpoint of a model trained on another task or with another architecture (e.g. initializing a BertForSequenceClassification model from a BertForPreTraining model).\n",
      "- This IS NOT expected if you are initializing DistilBertModel from the checkpoint of a model that you expect to be exactly identical (initializing a BertForSequenceClassification model from a BertForSequenceClassification model).\n"
     ]
    }
   ],
   "source": [
    "tokenizer = DistilBertTokenizer.from_pretrained('distilbert-base-uncased')\n",
    "model = DistilBertModel.from_pretrained('distilbert-base-uncased')"
   ],
   "metadata": {
    "collapsed": false,
    "pycharm": {
     "name": "#%%\n"
    }
   }
  },
  {
   "cell_type": "code",
   "execution_count": 123,
   "outputs": [],
   "source": [
    "def conversation_to_batch(conversation: Conversation):\n",
    "    \"\"\"\n",
    "    does a 2-gram of dialogs in a conversation.\n",
    "\n",
    "    examples of sentence_1_batch and sentence_2_batch:\n",
    "        sentence_1_batch = ['Hello, my dog is cute', 'Hitler was a very bad person']\n",
    "        sentence_2_batch = [\"oh yeah! That's really cute\", None]\n",
    "    \"\"\"\n",
    "    dialogs = [d.dialog for d in conversation.dialogs]\n",
    "    pairs = []\n",
    "    for i in range(len(dialogs) - 1):\n",
    "        pairs.append((dialogs[i], dialogs[i+1]))\n",
    "\n",
    "    sentence_1_batch = [pair[0] for pair in pairs]\n",
    "    sentence_2_batch = [pair[1] for pair in pairs]\n",
    "\n",
    "    # This will make sure that all dialogs are seen exactly twice by the model.\n",
    "    sentence_1_batch = sentence_1_batch + [pairs[0][0], pairs[-1][1]]\n",
    "    sentence_2_batch = sentence_2_batch + [None, None]\n",
    "\n",
    "    inputs = tokenizer(sentence_1_batch, sentence_2_batch, padding=True, return_tensors='pt')\n",
    "    return inputs\n",
    "\n",
    "\n",
    "def average_pool_without_padding(\n",
    "    embeddings_batch: torch.Tensor,\n",
    "    attention_mask_batch: torch.Tensor\n",
    ") -> torch.Tensor:\n",
    "    \"\"\"\n",
    "    Given an embeddings output of shape (batch, sequence_length, embedding_dim)\n",
    "    and attention_mask_batch of shape (batch, sequence_length),\n",
    "    this function will return averaged embeddings without taking padding into account.\n",
    "    The shape will be (batch, embedding_dim)\n",
    "    \"\"\"\n",
    "    batch_size, sequence_length, embeddings_dim = embeddings_batch.shape\n",
    "    sequence_lengths_no_padding = torch.count_nonzero(attention_mask_batch, dim=1)\n",
    "    output_tensor = []\n",
    "    for i in range(batch_size):\n",
    "        embeddings_no_padding = embeddings_batch[i][:sequence_lengths_no_padding[i]]\n",
    "        mean_embedding = torch.mean(embeddings_no_padding, dim=0)\n",
    "        output_tensor.append(mean_embedding)\n",
    "    output_tensor = torch.stack(output_tensor)\n",
    "    return output_tensor\n"
   ],
   "metadata": {
    "collapsed": false,
    "pycharm": {
     "name": "#%%\n"
    }
   }
  },
  {
   "cell_type": "code",
   "execution_count": 124,
   "outputs": [
    {
     "data": {
      "text/plain": "torch.Size([768])"
     },
     "execution_count": 124,
     "metadata": {},
     "output_type": "execute_result"
    }
   ],
   "source": [
    "def get_conversation_embedding(conversation: Conversation):\n",
    "    inputs = conversation_to_batch(conversation)\n",
    "\n",
    "    # Shows the indices and tokens of first 2 dialogs. Uncomment to debug\n",
    "    # itos = list(tokenizer.vocab.items())\n",
    "    # for index in inputs.data['input_ids'][0]:\n",
    "    #     print(itos[index])\n",
    "\n",
    "    outputs = model(**inputs)\n",
    "    conversation_embeddings = average_pool_without_padding(outputs.last_hidden_state, inputs['attention_mask'])\n",
    "\n",
    "    # Average all 2-gram sentence embeddings to get conversation embedding.\n",
    "    conversation_embedding = torch.mean(conversation_embeddings, dim=0)\n",
    "    return conversation_embedding\n",
    "\n",
    "\n",
    "def get_dialogs_embeddings(conversation: Conversation):\n",
    "    dialogs = [d.dialog for d in conversation.dialogs]\n",
    "    dialogs_inputs = tokenizer(dialogs, padding=True, return_tensors='pt')\n",
    "    dialogs_embeddings = model(**dialogs_inputs)\n",
    "    dialogs_embeddings = average_pool_without_padding(\n",
    "        dialogs_embeddings.last_hidden_state,\n",
    "        dialogs_inputs['attention_mask']\n",
    "    )\n",
    "    return dialogs_embeddings\n",
    "\n",
    "\n",
    "def get_cos_sim_dialogs_and_conversation(conversation_embedding, dialogs_embeddings):\n",
    "    cos_sims = []\n",
    "    for i in range(len(dialogs_embeddings)):\n",
    "        cos_sim = F.cosine_similarity(dialogs_embeddings[i], conversation_embedding, dim=0)\n",
    "        # Account for negative cos sim\n",
    "        cos_sim = int(((float(cos_sim) * 100) + 100) / 2)\n",
    "\n",
    "        cos_sims.append(cos_sim)\n",
    "    return cos_sims"
   ],
   "metadata": {
    "collapsed": false,
    "pycharm": {
     "name": "#%%\n"
    }
   }
  },
  {
   "cell_type": "code",
   "execution_count": null,
   "outputs": [],
   "source": [
    "conversation_embedding = get_conversation_embedding(random_conversation)\n",
    "dialogs_embeddings = get_dialogs_embeddings(random_conversation)"
   ],
   "metadata": {
    "collapsed": false,
    "pycharm": {
     "name": "#%%\n"
    }
   }
  },
  {
   "cell_type": "markdown",
   "source": [
    "We got an embedding for the entire conversation. `conversation_embedding`\n",
    "We also found the embeddings of all dialogs in the conversation.\n",
    "Of these dialogs, which one represents best the conversation embedding?\n",
    "\n",
    "Here I'm using cos similarity. One can use eucledian distance as well.\n",
    "The problem with distance is that it is not bounded b/w 0-1 or something. It is a real number."
   ],
   "metadata": {
    "collapsed": false,
    "pycharm": {
     "name": "#%% md\n"
    }
   }
  },
  {
   "cell_type": "code",
   "execution_count": 131,
   "outputs": [],
   "source": [
    "cos_sims = get_cos_sim_dialogs_and_conversation(conversation_embedding, dialogs_embeddings)"
   ],
   "metadata": {
    "collapsed": false,
    "pycharm": {
     "name": "#%%\n"
    }
   }
  },
  {
   "cell_type": "code",
   "execution_count": 132,
   "outputs": [
    {
     "name": "stdout",
     "output_type": "stream",
     "text": [
      "97 Leave me alone, dammit! You people are crazy! I've got to get away from here! I've got to do something!\n",
      "91 David, don't lose control.\n",
      "95 Control!?! What control!?! Get away from me!\n"
     ]
    }
   ],
   "source": [
    "for i in range(len(cos_sims)):\n",
    "    print(cos_sims[i], random_conversation.dialogs[i].dialog)"
   ],
   "metadata": {
    "collapsed": false,
    "pycharm": {
     "name": "#%%\n"
    }
   }
  },
  {
   "cell_type": "markdown",
   "source": [
    "So we got the most significant dialog in the conversation.\n",
    "Now what?\n",
    "\n",
    "We can find the cos-similarity b/w these significant dialogs and see how many are similar."
   ],
   "metadata": {
    "collapsed": false,
    "pycharm": {
     "name": "#%% md\n"
    }
   }
  },
  {
   "cell_type": "code",
   "execution_count": 134,
   "outputs": [
    {
     "name": "stderr",
     "output_type": "stream",
     "text": [
      "100%|██████████| 126/126 [00:55<00:00,  2.29it/s]\n"
     ]
    }
   ],
   "source": [
    "significant_dialogs = []\n",
    "for conversation in tqdm(random_movie.conversations):\n",
    "    conversation_embedding = get_conversation_embedding(conversation)\n",
    "    dialogs_embeddings = get_dialogs_embeddings(conversation)\n",
    "    cos_sims = get_cos_sim_dialogs_and_conversation(conversation_embedding, dialogs_embeddings)\n",
    "    argmax = np.argmax(cos_sims)\n",
    "    significant_dialogs.append((\n",
    "        dialogs_embeddings[argmax],\n",
    "        conversation.dialogs[argmax].dialog,\n",
    "    ))"
   ],
   "metadata": {
    "collapsed": false,
    "pycharm": {
     "name": "#%%\n"
    }
   }
  },
  {
   "cell_type": "code",
   "execution_count": 136,
   "outputs": [
    {
     "data": {
      "text/plain": "[\"You know, did he seem depressed? Do you think he'll eat the food?\",\n 'Dr. Hirsch, Mr. Kessler cried out a minute ago.',\n 'Can I be of service, Miss Price?',\n \"The police report said an escaped lunatic attacked them. He must have been a very powerful man. Although I really don't see that it is any of your concern, Miss Price.\",\n 'Yes, I believe he did.',\n \"It's all right, Susan. Yes, Doctor, I have.\",\n \"Oh dear girl, your extracurricular activities are of no consequence to me. I don't give a damn who you sleep with. I'm concerned about David.\",\n \"Dr. Hirsch, what's wrong? Is this more serious than I know?\",\n \"You've absolutely no idea where David might be?\",\n \"Oh, I don't mean running about on all fours and howling at the moon. But in such a deranged state he could harm himself, or perhaps others.\",\n \"Is he all right? Why didn't you call me? Where was he?\",\n \"Right. Now listen carefully. I want you to bring David here. I want him in my care. I'll notify the police that we've found him. It is imperative that you bring him straight to the hospital. Do you understand?\",\n 'What shall we do?',\n \"I doubt it. But it's something to do.\",\n 'It was a wolf.',\n \"You haven't eaten your lunch.\",\n 'Aw come on, Miss Price!',\n 'Call me David.',\n \"Let's try a little harder, shall we?\",\n \"I've just started it. My friend gave it to me.\",\n \"It's okay. I want to talk to you.\",\n 'Now what do you want to talk about?',\n 'Now, David, I said I would keep you company, but I meant right here and now.',\n \"I'm a werewolf.\",\n \"You're to be discharged tomorrow. Will you be all right?\",\n 'Yeah. He says that I will become a monster in two days. What do you think?',\n 'The kitchen.',\n 'Bathroom.',\n \"It's nice to see you.\",\n 'Alex?',\n \"I wasn't hallucinating.\",\n \"That's good, Alex.  Reassure me.\",\n \"Let me go now, you'll make me late.\",\n 'Listen, if you get too anxious, call me at the hospital, okay?',\n \"I'm off. There's food in the fridge.\",\n 'David! Where on earth have you been!?!',\n \"Alex, I've lost my mind. I woke up at the zoo! But you know what? I feel terrific!\",\n 'The next corner we can get a cab.',\n 'But...',\n 'David, what are you doing?',\n \"Jack is dead. Look, six people have been killed. I'm going to the police.\",\n \"Rational!?! I'm a fucking werewolf, for Christ's sake!\",\n \"He's playing a stupid joke, sir.\",\n \"Sir, he's very upset. His friend was killed and...\",\n \"David, let's go now.\",\n \"Leave me alone, dammit! You people are crazy! I've got to get away from here! I've got to do something!\",\n 'Hello, Benjamin.',\n 'Feeling better?',\n 'No what?',\n \"I think he's a Jew.\",\n 'Yes, Mrs. Hobbs.',\n 'Officer, I killed those people last night.',\n 'Hey, you asshole! I want you to arrest me!',\n \"That's what I want you to do, you moron!\",\n \"This isn't Mr. Goodman's idea. He is your good friend, whereas I am a victim of your carnivorous lunar activities.\",\n \"That's easy for you to say - you're already dead.\",\n 'Here, Gladys, Tom. Did you hear the one about the crashing plane?',\n 'You be quiet, woman, and let me speak.',\n \"All right, laugh then. I shan't tell it.\",\n 'Oh, all right. There was this airplane over the Atlantic on its way to New York. It was full of men from the United Nations.',\n 'No one brought them here! No one wanted them here!',\n 'Mr. Kessler? Wake up, please.',\n \"An American film about the Mafia called 'See You Next Wednesday', and I want to see it badly, so you give me no problems and go to sleep.\",\n \"London? Where's Jack? I had a strange dream.\",\n 'Get your fucking hands off me! What the hell is going on here?',\n \"You've been unconscious since you were brought in two weeks ago.\",\n \"How could there have been witnesses? It was so dark. We were running and I fell and Jack went to help me up and this thing came from nowhere... I don't understand what they're talking about.\",\n 'Sure, as a kid. But never so real. Never so bizarre.',\n 'Did you get a good look at the man who attacked you?',\n \"Dr. Hirsch?  I'd rather not be by myself.\",\n 'Good.',\n \"Oh, I don't know. I mean look around. Isn't this a fun place?\",\n 'Well, I like it here.',\n \"You're talking about the woman I love.\",\n 'Of course, The Slaughtered Lamb. Why else would they have a severed fox head on a spear as their symbol?',\n 'Nice to see you.',\n \"Listen, at least it's warm in here.\",\n 'Maybe the owners are from Texas.',\n 'Ask them what the candles are for.',\n 'Go on, ask them.',\n \"What do you mean? I'm starving.\",\n 'Come on, Jack, shall we go?!!',\n \"I don't know. Let's see if there's an inn or something up the road.\",\n \"I don't know. Now that we're out here and it's three degrees, I'm not so sure I wouldn't rather face a blood-thirsty mob.\",\n 'What do you think was wrong?',\n \"I'm well aware of how pleasant the weather is in Rome at the present time thank you.\",\n 'Did you hear that?',\n 'No, but he was on the moors.',\n 'I vote we go back to The Slaughtered Lamb.',\n 'Shit! David, what is that?',\n \"It's moving.\",\n \"What's the plan?\",\n \"Do you think it's a dog?\",\n \"A sheep dog or something. Turn slowly and let's walk away.\",\n 'Walking away, yes, sir. Here we are walking away.',\n 'See anything?',\n 'Not far enough. Come on.',\n \"Well. I'm glad we... WHOAA!!\",\n 'You really scared me, you shithead.',\n \"I'm aware that I don't look so great, but I thought you'd be glad to see me.\",\n \"Hurting your feelings? Has it occurred to you that it may be unsettling to have you rise from your grave to visit me? Listen to me, I'm talking to a hamburger!\",\n \"I'm a grisly sight, it's true; but I love you and that's why I'm here. You've got to know.\",\n \"The supernatural! The powers of darkness! It's all true. Take your own life! Suicide, David. Join me.\",\n \"Don't be an asshole, David. Come here.\",\n \"Okay, you've seen me. Now go away.\",\n 'Hi, Jack.',\n \"Well, even if I'm not the wolfman, I am crazy enough to do something like that. I mean, here I sit in Leicester Square talking to a corpse. I'm glad to see you, Jack.\",\n \"Gerald is the man you murdered in the subway. We thought it best you didn't see him as he's a fresh kill and still pretty messy.\",\n 'Because this must be stopped.',\n \"If you did it wrong, it would be painful. You'd choke to death.\",\n 'Come in, come in. Please sit. Some tea?',\n 'Well, then, what can I do for Scotland Yard?',\n \"Why don't we ask him?\",\n \"The forensic lads seem to feel that some sort of animal was involved, that's true, but I hardly think...\",\n \"Stay here. If we need you, we'll know where to reach you.\",\n 'Send them in.',\n \"Tell him I'm out. No, tell him I've passed away. An old war wound or something. Tell him I'm dead. And no more calls!\",\n 'Hello, there. What can I get you?',\n \"Oh, that's been there for two hundred years. We were going to paint it out, but it's traditional, so we left it.\",\n 'Do you have any hot soup?',\n 'Then you have some hot tea?',\n 'Remember the Alamo?',\n \"I'd like some tea, please.\",\n 'Has Mr. Kessler said anything regarding the attack on the moors?',\n \"That is precisely my point. David, as far as we are concerned, the matter is closed. We won't trouble you any further. Good day.\",\n \"I cannot accept a connection between David Kessler and last night's murders. We will find him, however. I can assure you of that.\"]"
     },
     "execution_count": 136,
     "metadata": {},
     "output_type": "execute_result"
    }
   ],
   "source": [
    "[d[1] for d in significant_dialogs]"
   ],
   "metadata": {
    "collapsed": false,
    "pycharm": {
     "name": "#%%\n"
    }
   }
  },
  {
   "cell_type": "markdown",
   "source": [
    "These dialogs are interesting, but some of them are boring and not \"significant\".\n",
    "I want to cluster them into groups.\n",
    "There's one way to do this.\n",
    "\n",
    "Find similarity b/w each significant dialog to the others.\n",
    "Now consider creating a network of these dialogs where similar dialogs have a link."
   ],
   "metadata": {
    "collapsed": false,
    "pycharm": {
     "name": "#%% md\n"
    }
   }
  },
  {
   "cell_type": "code",
   "execution_count": null,
   "outputs": [],
   "source": [
    "similarity_threshold = 0.5\n",
    "similar_pairs = []\n",
    "for i, (tensor1, dialog1) in enumerate(significant_dialogs):\n",
    "    for j in range(i + 1, len(significant_dialogs)):\n",
    "        tensor2, dialog2 = significant_dialogs[j]\n",
    "\n",
    "        similarity = F.cosine_similarity(tensor1, tensor2)\n",
    "        if similarity > similarity_threshold:\n",
    "            similar_pairs.append((i, j))\n",
    "\n",
    "\n"
   ],
   "metadata": {
    "collapsed": false,
    "pycharm": {
     "name": "#%%\n"
    }
   }
  },
  {
   "cell_type": "markdown",
   "source": [
    "We can repeat this at a higher level.\n",
    "Get the embeddings of significant dialogs from all conversations\n",
    "and average them to get context vector for the movie.\n"
   ],
   "metadata": {
    "collapsed": false,
    "pycharm": {
     "name": "#%% md\n"
    }
   }
  },
  {
   "cell_type": "markdown",
   "source": [
    "---\n",
    "\n",
    "# Classification\n",
    "\n",
    "There's no \"description\" or \"plot summary\" of movies.\n",
    "So one must look at all the dialogs and decipher the movie genre.\n",
    "\n",
    "How can we do this?\n",
    "Let's do this in a naive way first, then let's try to get creative.\n",
    "\n",
    "## Naive way:\n",
    "\n",
    "- Average all word embeddings in a dialog to get dialog embeddings.\n",
    "- Average all dialog embeddings to get movie plot embedding.\n",
    "\n",
    "Thought process:\n",
    "  - We get a sentence embedding by averaging the word embeddings\n",
    "  - In the same way, can we get \"scene\" embedding by averaging all the sentence embeddings in a scene?\n",
    "  - Then averaging all scene embeddings should give us movie embedding.\n",
    "  - We don't have scenes, do we? If not, we can skip scenes, will averaging all dialog embeddings give us movie embedding?\n",
    "\n",
    "Problems:\n",
    "\n",
    "- The conversations might mostly include \"everyday lines\" that do not relate to the plot.\n",
    "- For example, \"You must learn how to lie\", \"they have to!\" do not say anything about the plot.\n",
    "\n",
    "## Another method:\n",
    "\n",
    "- Find all genre-defining keywords.\n",
    "- Then get the dialogs with these keywords.\n",
    "- Assumption: dialogs with keywords will contain plot-related information.\n",
    "-\n",
    "\n",
    "---\n",
    "\n",
    "## Rule-based method for baseline.\n",
    "\n",
    "For each genre, what are the most used words? (after removing the stopwords)\n",
    "How many of these words occur for multiple movies?\n",
    "\n",
    "Intuitive rationale:\n",
    "\n",
    "- [Within one genre] a genre-defining word will likely have high frequency in a movie and among all movies of the same genre.\n",
    "- [Among genres] a genre-defining word will likely have high frequency in movies within the genre and low frequency among movies of other genres.\n",
    "\n",
    "This can be obtained by finding the tf-idf value for each word in the corpus.\n",
    "\n",
    "If frequency of a word is low among movies of the same genre, then it is likely not genre-defining.\n",
    "\n",
    "Assuming that we obtained these \"genre-defining\" words for each genre,\n",
    "the next task would be to somehow learn that these words (or similar words) will help predict the movie's genre.\n",
    "\n",
    "### Implementation:\n",
    "\n",
    "1. Parse all the data.\n",
    "2. store all the genres.\n",
    "3. Split 95:5 of the movies randomly (less data problem!)\n",
    "4. Find tf-idf of each word in the training set. document = genre.\n",
    "5. Can these be custom named entities?\n",
    "\n",
    "Part 1:\n",
    "\n",
    "Well, we need lines for each genre. We don't care about the \"sequential\" nature of dialogs. Just need all of them.\n",
    "\n",
    "Specifically, we need a structure like this:\n",
    "\n",
    "- genres\n",
    "    - movies\n",
    "        - words\n",
    "\n",
    "Here words are obtained by:\n",
    "\n",
    "- spaCy tokenize each dialog.\n",
    "- spaCy lemmatize\n",
    "- spaCy remove stopwords\n",
    "\n",
    "Note that a movie can have multiple genres. So the dialogs for two genres might repeat.\n",
    "\n",
    "Part 2:\n",
    "\n",
    "\n",
    "---\n",
    "\n",
    "Extracting all information about a movie."
   ],
   "metadata": {
    "collapsed": false,
    "pycharm": {
     "name": "#%% md\n"
    }
   }
  },
  {
   "cell_type": "code",
   "execution_count": 3,
   "outputs": [],
   "source": [],
   "metadata": {
    "collapsed": false,
    "pycharm": {
     "name": "#%%\n"
    }
   }
  },
  {
   "cell_type": "code",
   "execution_count": 8,
   "outputs": [
    {
     "data": {
      "text/plain": "['m0', 'm1', 'm2', 'm3', 'm4']"
     },
     "execution_count": 8,
     "metadata": {},
     "output_type": "execute_result"
    }
   ],
   "source": [
    "list(movies.keys())[:5]"
   ],
   "metadata": {
    "collapsed": false,
    "pycharm": {
     "name": "#%%\n"
    }
   }
  },
  {
   "cell_type": "code",
   "execution_count": 9,
   "outputs": [],
   "source": [
    "m0 = movies['m0']"
   ],
   "metadata": {
    "collapsed": false,
    "pycharm": {
     "name": "#%%\n"
    }
   }
  },
  {
   "cell_type": "code",
   "execution_count": 10,
   "outputs": [
    {
     "data": {
      "text/plain": "['u0', 'u1', 'u2', 'u3', 'u4']"
     },
     "execution_count": 10,
     "metadata": {},
     "output_type": "execute_result"
    }
   ],
   "source": [
    "list(m0.characters.keys())[:5]"
   ],
   "metadata": {
    "collapsed": false,
    "pycharm": {
     "name": "#%%\n"
    }
   }
  },
  {
   "cell_type": "code",
   "execution_count": 11,
   "outputs": [
    {
     "data": {
      "text/plain": "'Can we make this quick?  Roxanne Korrine and Andrew Barrett are having an incredibly horrendous public break- up on the quad.  Again.'"
     },
     "execution_count": 11,
     "metadata": {},
     "output_type": "execute_result"
    }
   ],
   "source": [
    "conversations = m0.conversations[:5]\n",
    "conversations[0].dialogs[0].dialog"
   ],
   "metadata": {
    "collapsed": false,
    "pycharm": {
     "name": "#%%\n"
    }
   }
  },
  {
   "cell_type": "code",
   "execution_count": 251,
   "outputs": [
    {
     "data": {
      "text/plain": "[('drama', 320),\n ('thriller', 269),\n ('action', 168),\n ('comedy', 162),\n ('crime', 147),\n ('romance', 132),\n ('sci-fi', 120),\n ('adventure', 116),\n ('mystery', 102),\n ('horror', 99),\n ('fantasy', 78),\n ('short', 5),\n ('animation', 2),\n ('family', 1)]"
     },
     "execution_count": 251,
     "metadata": {},
     "output_type": "execute_result"
    }
   ],
   "source": [
    "all_genres = [genre for _, movie in movies.items() for genre in movie.genres]\n",
    "genre_movies_count = Counter(all_genres)\n",
    "all_genres = list(set(all_genres))\n",
    "\n",
    "# Sorting by value to see which genres have the most movies.\n",
    "sorted(genre_movies_count.items(), key=lambda item: item[1], reverse=True)"
   ],
   "metadata": {
    "collapsed": false,
    "pycharm": {
     "name": "#%%\n"
    }
   }
  },
  {
   "cell_type": "code",
   "execution_count": 252,
   "outputs": [
    {
     "ename": "ValueError",
     "evalue": "list.remove(x): x not in list",
     "output_type": "error",
     "traceback": [
      "\u001B[0;31m---------------------------------------------------------------------------\u001B[0m",
      "\u001B[0;31mValueError\u001B[0m                                Traceback (most recent call last)",
      "\u001B[0;32m<ipython-input-252-b83541fa1d1a>\u001B[0m in \u001B[0;36m<module>\u001B[0;34m\u001B[0m\n\u001B[1;32m      1\u001B[0m \u001B[0;31m# Well, there's one movie without any genre. So let's put that as 'other'\u001B[0m\u001B[0;34m\u001B[0m\u001B[0;34m\u001B[0m\u001B[0;34m\u001B[0m\u001B[0m\n\u001B[1;32m      2\u001B[0m \u001B[0mall_genres\u001B[0m\u001B[0;34m.\u001B[0m\u001B[0mappend\u001B[0m\u001B[0;34m(\u001B[0m\u001B[0;34m'other'\u001B[0m\u001B[0;34m)\u001B[0m\u001B[0;34m\u001B[0m\u001B[0;34m\u001B[0m\u001B[0m\n\u001B[0;32m----> 3\u001B[0;31m \u001B[0mall_genres\u001B[0m\u001B[0;34m.\u001B[0m\u001B[0mremove\u001B[0m\u001B[0;34m(\u001B[0m\u001B[0;34m''\u001B[0m\u001B[0;34m)\u001B[0m\u001B[0;34m\u001B[0m\u001B[0;34m\u001B[0m\u001B[0m\n\u001B[0m\u001B[1;32m      4\u001B[0m \u001B[0;34m\u001B[0m\u001B[0m\n\u001B[1;32m      5\u001B[0m \u001B[0mgenre_movies_count\u001B[0m\u001B[0;34m[\u001B[0m\u001B[0;34m'other'\u001B[0m\u001B[0;34m]\u001B[0m \u001B[0;34m=\u001B[0m \u001B[0mgenre_movies_count\u001B[0m\u001B[0;34m[\u001B[0m\u001B[0;34m''\u001B[0m\u001B[0;34m]\u001B[0m\u001B[0;34m\u001B[0m\u001B[0;34m\u001B[0m\u001B[0m\n",
      "\u001B[0;31mValueError\u001B[0m: list.remove(x): x not in list"
     ]
    }
   ],
   "source": [
    "# Well, there's one movie without any genre. So let's put that as 'other'\n",
    "all_genres.append('other')\n",
    "all_genres.remove('')\n",
    "\n",
    "genre_movies_count['other'] = genre_movies_count['']\n",
    "del genre_movies_count['']\n",
    "\n",
    "# Let's also replace '' with 'other' in all movies\n",
    "for _, movie in movies.items():\n",
    "    if '' in movie.genres:\n",
    "        movie.genres.append('other')\n",
    "        movie.genres.remove('')"
   ],
   "metadata": {
    "collapsed": false,
    "pycharm": {
     "name": "#%%\n"
    }
   }
  },
  {
   "cell_type": "code",
   "execution_count": 253,
   "outputs": [],
   "source": [
    "# Some of the genres have very low movie count.\n",
    "# This will make the frequency based method very difficult.\n",
    "# We might employ other techniques for these low-frequent genres.\n",
    "# For now, to make the problem easier, let's only use the high frequent genres only.\n",
    "\n",
    "# Eliminating all genres with frequency < 75 (75 is just based on intuition.)\n",
    "low_frequency_genres = [genre for genre in all_genres if genre_movies_count[genre] <= 75]\n",
    "\n",
    "for genre in low_frequency_genres:\n",
    "    # Remove from all_genres\n",
    "    all_genres.remove(genre)\n",
    "\n",
    "    # Remove from movie.genres\n",
    "    for _, movie in movies.items():\n",
    "        if genre in movie.genres:\n",
    "            movie.genres.remove(genre)\n",
    "\n",
    "# Remove movies with empty genres\n",
    "movies_to_remove = []\n",
    "for movie_id, movie in movies.items():\n",
    "    if len(movie.genres) == 0:\n",
    "        movies_to_remove.append(movie_id)\n",
    "for movie_id in movies_to_remove:\n",
    "    del movies[movie_id]"
   ],
   "metadata": {
    "collapsed": false,
    "pycharm": {
     "name": "#%%\n"
    }
   }
  },
  {
   "cell_type": "code",
   "execution_count": 254,
   "outputs": [],
   "source": [
    "# [NOT USED] Creates text files with all dialogs of each genre. NOT USED, but works.\n",
    "\n",
    "@contextmanager\n",
    "def get_genre_dialogs_files(output_path: str, genres: List[str], mode: str):\n",
    "    \"\"\"\n",
    "    A wrapper that encapsulates handling multiple genre-dialogs files.\n",
    "    \"\"\"\n",
    "    makedirs(output_path, exist_ok=True)\n",
    "    files: Dict[str, TextIO] = {genre: open(join(output_path, f'{genre}.txt'), mode) for genre in genres}\n",
    "\n",
    "    try:\n",
    "        yield files\n",
    "    finally:\n",
    "        for genre in genres:\n",
    "            files[genre].close()\n",
    "\n",
    "\n",
    "def create_genre_dialogs_files():\n",
    "    # Creating dialogs text files for each genre.\n",
    "    genre_dialogs_path = '/Users/akhil/code/lexical_lab/companies/ginger/data/output/genre_dialogs'\n",
    "    with get_genre_dialogs_files(genre_dialogs_path, all_genres, 'w') as genre_dialogs_files:\n",
    "        for _, movie in movies.items():\n",
    "            for conversation in movie.conversations:\n",
    "                for dialog in conversation.dialogs:\n",
    "                    for genre in movie.genres:\n",
    "                        genre_dialogs_files[genre].write(dialog.dialog + '\\n')\n"
   ],
   "metadata": {
    "collapsed": false,
    "pycharm": {
     "name": "#%%\n"
    }
   }
  },
  {
   "cell_type": "code",
   "execution_count": 255,
   "outputs": [
    {
     "data": {
      "text/plain": "['example', 'sentence', 'akhil', 'friends', 'cars']"
     },
     "execution_count": 255,
     "metadata": {},
     "output_type": "execute_result"
    }
   ],
   "source": [
    "\"\"\"\n",
    "Creating a structure like this:\n",
    "- genres\n",
    "    - movies\n",
    "        - words\n",
    "\"\"\"\n",
    "\n",
    "spacy_nlp = spacy.load('en_core_web_sm', disable=['tok2vec', 'parser', 'ner'])\n",
    "\n",
    "def extract_words(text):\n",
    "    # Without this, there will a ' ' (space) word\n",
    "    text = re.sub(r'\\s+', ' ', text)\n",
    "    doc = spacy_nlp(text)\n",
    "    # Words without stopwords\n",
    "    words = [token.lemma_ for token in doc if not token.is_stop and not token.is_punct]\n",
    "    return words\n",
    "\n",
    "extract_words('This is an example of  a sentence. Akhil\\'s friends have many cars')"
   ],
   "metadata": {
    "collapsed": false,
    "pycharm": {
     "name": "#%%\n"
    }
   }
  },
  {
   "cell_type": "code",
   "execution_count": 256,
   "outputs": [
    {
     "name": "stderr",
     "output_type": "stream",
     "text": [
      "100%|██████████| 611/611 [01:11<00:00,  8.58it/s]\n"
     ]
    }
   ],
   "source": [
    "# Find word counts for each genre.\n",
    "genre_words_count = {genre: {} for genre in all_genres}\n",
    "\n",
    "for _, movie in tqdm(movies.items()):\n",
    "    dialogs = '. '.join([d.dialog for conversation in movie.conversations for d in conversation.dialogs])\n",
    "    words = extract_words(dialogs)\n",
    "    word_frequencies = Counter(words)\n",
    "\n",
    "    for genre in movie.genres:\n",
    "        for word, count in word_frequencies.items():\n",
    "            genre_word_count = genre_words_count[genre].get(word, {'movie_count': 0, 'count': 0})\n",
    "            genre_word_count['movie_count'] += 1\n",
    "            genre_word_count['count'] += count\n",
    "            genre_words_count[genre][word] = genre_word_count"
   ],
   "metadata": {
    "collapsed": false,
    "pycharm": {
     "name": "#%%\n"
    }
   }
  },
  {
   "cell_type": "code",
   "execution_count": 263,
   "outputs": [],
   "source": [
    "# Remove words that are too infrequent.\n",
    "\n",
    "# Anything count < infrequent_threshold is removed.\n",
    "infrequent_threshold = 3\n",
    "\n",
    "# At least this % of movies should contain the genre-defining words\n",
    "infrequent_movie_threshold = 0.25\n",
    "\n",
    "for genre, words_count in genre_words_count.items():\n",
    "    words_to_remove = []\n",
    "    for word, word_count in words_count.items():\n",
    "        word_frequency = word_count['count']  # / word_count['movie_count']\n",
    "        movie_frequency = word_count['movie_count'] / genre_movies_count[genre]\n",
    "        if word_frequency < infrequent_threshold or movie_frequency < infrequent_movie_threshold:\n",
    "            words_to_remove.append(word)\n",
    "            # print(f'{word=}, {word_count=}')\n",
    "    for word in words_to_remove:\n",
    "        del words_count[word]"
   ],
   "metadata": {
    "collapsed": false,
    "pycharm": {
     "name": "#%%\n"
    }
   }
  },
  {
   "cell_type": "code",
   "execution_count": 264,
   "outputs": [
    {
     "data": {
      "text/plain": "1015"
     },
     "execution_count": 264,
     "metadata": {},
     "output_type": "execute_result"
    }
   ],
   "source": [
    "# Building word frequency table.\n",
    "\n",
    "# all words in this frequency table\n",
    "all_words = list(set([word for word_counts in genre_words_count.values() for word in word_counts]))\n",
    "len(all_words)"
   ],
   "metadata": {
    "collapsed": false,
    "pycharm": {
     "name": "#%%\n"
    }
   }
  },
  {
   "cell_type": "code",
   "execution_count": 265,
   "outputs": [
    {
     "data": {
      "text/plain": "array([[516, 259,   0, ...,   0, 222, 154],\n       [273, 137,   0, ...,   0, 130,  72],\n       [121,  51,   0, ...,   0,  73,  39],\n       ...,\n       [461, 132,   0, ...,   0, 131, 108],\n       [210, 104,   0, ...,   0,  89,  75],\n       [336, 154, 133, ...,   0, 131, 108]])"
     },
     "execution_count": 265,
     "metadata": {},
     "output_type": "execute_result"
    }
   ],
   "source": [
    "frequency_matrix = np.zeros((len(all_genres), len(all_words)), dtype=int)\n",
    "\n",
    "for i, genre in enumerate(all_genres):\n",
    "    for j, word in enumerate(all_words):\n",
    "        if word in genre_words_count[genre]:\n",
    "            frequency = genre_words_count[genre][word]\n",
    "            frequency = frequency['count']  # / frequency['movie_count']\n",
    "            frequency_matrix[i][j] = frequency\n",
    "\n",
    "frequency_matrix"
   ],
   "metadata": {
    "collapsed": false,
    "pycharm": {
     "name": "#%%\n"
    }
   }
  },
  {
   "cell_type": "code",
   "execution_count": 266,
   "outputs": [
    {
     "data": {
      "text/plain": "array([3540, 1486,  133, ...,   52, 1390,  846])"
     },
     "execution_count": 266,
     "metadata": {},
     "output_type": "execute_result"
    }
   ],
   "source": [
    "inter_genre_word_counts = frequency_matrix.sum(0)\n",
    "inter_genre_word_counts"
   ],
   "metadata": {
    "collapsed": false,
    "pycharm": {
     "name": "#%%\n"
    }
   }
  },
  {
   "cell_type": "code",
   "execution_count": 267,
   "outputs": [
    {
     "data": {
      "text/plain": "array([[0.14576271, 0.17429341, 0.        , ..., 0.        , 0.15971223,\n        0.1820331 ],\n       [0.07711864, 0.09219381, 0.        , ..., 0.        , 0.09352518,\n        0.08510638],\n       [0.03418079, 0.03432032, 0.        , ..., 0.        , 0.05251799,\n        0.04609929],\n       ...,\n       [0.13022599, 0.08882907, 0.        , ..., 0.        , 0.0942446 ,\n        0.12765957],\n       [0.05932203, 0.06998654, 0.        , ..., 0.        , 0.06402878,\n        0.08865248],\n       [0.09491525, 0.10363392, 1.        , ..., 0.        , 0.0942446 ,\n        0.12765957]])"
     },
     "execution_count": 267,
     "metadata": {},
     "output_type": "execute_result"
    }
   ],
   "source": [
    "tfidf = frequency_matrix / inter_genre_word_counts\n",
    "tfidf"
   ],
   "metadata": {
    "collapsed": false,
    "pycharm": {
     "name": "#%%\n"
    }
   }
  },
  {
   "cell_type": "code",
   "execution_count": 276,
   "outputs": [
    {
     "name": "stdout",
     "output_type": "stream",
     "text": [
      "thriller: [(1.0, 'tight', 90, 90), (0.6875, 'killer', 198, 288), (0.673469387755102, 'loose', 99, 147), (0.46835443037974683, 'department', 148, 316), (0.4671814671814672, 'address', 121, 259), (0.4528301886792453, 'split', 96, 212), (0.4331941544885177, 'fuckin', 415, 958), (0.41904761904761906, 'checked', 88, 210), (0.4101123595505618, 'key', 146, 356), (0.3992673992673993, 'cops', 218, 546)]\n",
      "action: [(1.0, 'south', 72, 72), (0.6, 'weapon', 63, 105), (0.5945945945945946, 'guard', 66, 111), (0.5333333333333333, 'sooner', 56, 105), (0.4875, 'computer', 117, 240), (0.4444444444444444, 'guns', 84, 189), (0.4308510638297872, 'weapons', 81, 188), (0.4217687074829932, 'learned', 62, 147), (0.4025974025974026, 'cross', 62, 154), (0.3972602739726027, 'orders', 87, 219)]\n",
      "fantasy: [(1.0, 'trick', 27, 27), (1.0, 'tree', 35, 35), (1.0, 'purpose', 33, 33), (1.0, 'opened', 28, 28), (1.0, 'magic', 67, 67), (1.0, 'hoping', 23, 23), (1.0, 'feed', 22, 22), (0.5266666666666666, 'evil', 79, 150), (0.453125, 'matters', 29, 64), (0.4393939393939394, 'greatest', 29, 66)]\n",
      "drama: [(1.0, 'writing', 152, 152), (1.0, 'runs', 110, 110), (1.0, 'accept', 121, 121), (0.75, 'lawyer', 192, 256), (0.7469879518072289, 'agree', 124, 166), (0.7300613496932515, 'sleeping', 119, 163), (0.6918604651162791, 'decide', 119, 172), (0.6826923076923077, 'won', 142, 208), (0.6519337016574586, 'plans', 118, 181), (0.6345177664974619, 'laugh', 125, 197)]\n",
      "romance: [(1.0, 'wind', 52, 52), (1.0, 'willing', 45, 45), (1.0, 'wild', 52, 52), (1.0, 'train', 81, 81), (1.0, 'sold', 51, 51), (1.0, 'sing', 66, 66), (1.0, 'round', 67, 67), (1.0, 'ring', 108, 108), (1.0, 'recognize', 41, 41), (1.0, 'raise', 51, 51)]\n",
      "adventure: [(1.0, 'sea', 80, 80), (1.0, 'river', 44, 44), (1.0, 'quickly', 38, 38), (1.0, 'operation', 49, 49), (1.0, 'north', 46, 46), (1.0, 'lord', 101, 101), (1.0, 'jump', 49, 49), (1.0, 'enemy', 53, 53), (1.0, 'continue', 33, 33), (1.0, 'code', 55, 55)]\n",
      "sci-fi: [(1.0, 'systems', 78, 78), (1.0, 'study', 40, 40), (1.0, 'science', 104, 104), (1.0, 'noticed', 40, 40), (1.0, 'nature', 47, 47), (1.0, 'level', 67, 67), (1.0, 'form', 67, 67), (1.0, 'exist', 38, 38), (1.0, 'emergency', 62, 62), (1.0, 'data', 147, 147)]\n",
      "horror: [(1.0, 'monster', 50, 50), (1.0, 'bodies', 44, 44), (0.5647058823529412, 'locked', 48, 85), (0.47333333333333333, 'evil', 71, 150), (0.28699551569506726, 'dreams', 64, 223), (0.24161073825503357, 'danger', 36, 149), (0.16728624535315986, 'asleep', 45, 269), (0.1404494382022472, 'lock', 50, 356), (0.12796208530805686, 'radio', 54, 422), (0.12368421052631579, 'box', 47, 380)]\n",
      "comedy: [(1.0, 'whoa', 73, 73), (1.0, 'um', 166, 166), (1.0, 'u', 1957, 1957), (1.0, 'song', 85, 85), (1.0, 'screw', 68, 68), (1.0, 'perfectly', 56, 56), (1.0, 'pants', 85, 85), (1.0, 'pal', 86, 86), (1.0, 'older', 54, 54), (1.0, 'natural', 64, 64)]\n",
      "mystery: [(1.0, 'rules', 37, 37), (1.0, 'proof', 55, 55), (1.0, 'murdered', 64, 64), (1.0, 'investigation', 45, 45), (1.0, 'held', 34, 34), (1.0, 'forward', 40, 40), (1.0, 'following', 40, 40), (1.0, 'curious', 37, 37), (1.0, 'concerned', 39, 39), (0.4659090909090909, 'tie', 41, 88)]\n",
      "crime: [(1.0, 'watched', 58, 58), (1.0, 'tape', 104, 104), (1.0, 'steal', 75, 75), (1.0, 'square', 56, 56), (1.0, 'shooting', 59, 59), (1.0, 'sees', 52, 52), (1.0, 'scene', 68, 68), (1.0, 'pop', 92, 92), (1.0, 'places', 57, 57), (1.0, 'personally', 51, 51)]\n"
     ]
    }
   ],
   "source": [
    "# Okay, now that we have tf-idf matrix,\n",
    "# Let's find the highest ranking top k words for each genre.\n",
    "\n",
    "for i in range(len(all_genres)):\n",
    "    tfidf_ranks = tfidf[i]\n",
    "    counts = frequency_matrix[i]\n",
    "\n",
    "    zipped = zip(tfidf_ranks, all_words, counts, inter_genre_word_counts)\n",
    "    pairs = heapq.nlargest(10, zipped)\n",
    "    keywords = [pair[1] for pair in pairs]\n",
    "    print(f'{all_genres[i]}: {pairs}')"
   ],
   "metadata": {
    "collapsed": false,
    "pycharm": {
     "name": "#%%\n"
    }
   }
  },
  {
   "cell_type": "code",
   "execution_count": null,
   "outputs": [],
   "source": [
    "# TODO: Word cloud for these words.\n",
    "# TODO: Movie 2d map based on semantic genre.\n",
    "# TODO: graph for # of movies and # of dialogs for each genre.\n"
   ],
   "metadata": {
    "collapsed": false,
    "pycharm": {
     "name": "#%%\n"
    }
   }
  },
  {
   "cell_type": "code",
   "execution_count": 243,
   "outputs": [
    {
     "data": {
      "text/plain": "'this is a test'"
     },
     "execution_count": 243,
     "metadata": {},
     "output_type": "execute_result"
    }
   ],
   "source": [],
   "metadata": {
    "collapsed": false,
    "pycharm": {
     "name": "#%%\n"
    }
   }
  }
 ],
 "metadata": {
  "kernelspec": {
   "display_name": "Python 3",
   "language": "python",
   "name": "python3"
  },
  "language_info": {
   "codemirror_mode": {
    "name": "ipython",
    "version": 2
   },
   "file_extension": ".py",
   "mimetype": "text/x-python",
   "name": "python",
   "nbconvert_exporter": "python",
   "pygments_lexer": "ipython2",
   "version": "2.7.6"
  }
 },
 "nbformat": 4,
 "nbformat_minor": 0
}