{
 "cells": [
  {
   "cell_type": "markdown",
   "metadata": {
    "collapsed": true,
    "pycharm": {
     "name": "#%% md\n"
    }
   },
   "source": [
    "# Part 1: Parsing/Reading the data\n",
    "\n",
    "Before I do anything, I must first make sense of the given data and it's structure.\n",
    "i.e. parse all the data from txt files.\n",
    "\n",
    "\n",
    "Destruction of the data (relevant fields):\n",
    "- movies\n",
    "    - genres\n",
    "    - conversations\n",
    "        - dialogs\n",
    "            - sentences\n",
    "                - words\n",
    "\n",
    "The assignment says **not** to use any data other than \"movie_lines.txt\",\n",
    "I'm parsing the entire data set to understand the schema and play around with it later.\n",
    "For the purpose of Q1, I will only use data that was parsed from \"movie_lines.txt\".\n",
    "\n",
    "I'm using the term \"dialog\" instead of \"line\" because line is ambiguous, dialog is not."
   ]
  },
  {
   "cell_type": "code",
   "execution_count": 19,
   "outputs": [],
   "source": [
    "import re\n",
    "from collections import Counter, OrderedDict\n",
    "from contextlib import contextmanager\n",
    "from copy import deepcopy\n",
    "from os import listdir, makedirs\n",
    "from os.path import join\n",
    "from typing import List, Tuple, Dict, Optional, TextIO\n",
    "\n",
    "import numpy as np\n",
    "from matplotlib import pyplot as plt\n",
    "from sklearn.feature_extraction.text import TfidfVectorizer, CountVectorizer\n",
    "import pandas as pd\n",
    "import spacy\n",
    "from pydantic import BaseModel\n",
    "from tqdm import tqdm\n",
    "import heapq"
   ],
   "metadata": {
    "collapsed": false,
    "pycharm": {
     "name": "#%%\n"
    }
   }
  },
  {
   "cell_type": "markdown",
   "source": [
    "I see that the data is fragmented into several files like a relational database.\n",
    "\n",
    "Something I like to do when we have such relational data models is to create classes for those models.\n",
    "Pydantic provides an easy, readable and writable framework for this."
   ],
   "metadata": {
    "collapsed": false,
    "pycharm": {
     "name": "#%% md\n"
    }
   }
  },
  {
   "cell_type": "code",
   "execution_count": 20,
   "outputs": [],
   "source": [
    "class Character(BaseModel):\n",
    "    name: str\n",
    "    id: str\n",
    "    gender: Optional[str]  # m|f|None\n",
    "    credit_position: Optional[int]\n",
    "\n",
    "    def __eq__(self, other):\n",
    "        return self.id == other.id\n",
    "\n",
    "\n",
    "class Dialog(BaseModel):\n",
    "    id: str\n",
    "    speaker: Character\n",
    "    listener: Optional[Character]\n",
    "    dialog: str\n",
    "\n",
    "\n",
    "class Conversation(BaseModel):\n",
    "    characters: Tuple[Character, Character]\n",
    "    dialogs: List[Dialog]\n",
    "\n",
    "\n",
    "class Movie(BaseModel):\n",
    "    id: str\n",
    "    title: str\n",
    "    release_year: int\n",
    "    imdb_rating: float\n",
    "    num_votes: int\n",
    "    genres: List[str] = []\n",
    "    characters: Dict[str, Character] = {}\n",
    "    conversations: List[Conversation] = []"
   ],
   "metadata": {
    "collapsed": false,
    "pycharm": {
     "name": "#%%\n"
    }
   }
  },
  {
   "cell_type": "code",
   "execution_count": 21,
   "outputs": [],
   "source": [
    "def update_movie_characters(movies: Dict[str, Movie], characters_path: str):\n",
    "    with open(characters_path, \"r\", encoding=\"ISO-8859-1\") as characters_file:\n",
    "        for character in characters_file:\n",
    "            # sample: u0 +++$+++ BIANCA +++$+++ m0 +++$+++ 10 things i hate about you +++$+++ f +++$+++ 4\n",
    "            character = character.strip().split(\" +++$+++ \")\n",
    "            character_id, name, movie_id, movie_title, gender, position = character\n",
    "\n",
    "            gender = None if gender == \"?\" else gender\n",
    "            position = None if position == \"?\" else position\n",
    "\n",
    "            assert movie_id in movies\n",
    "            movie = movies[movie_id]\n",
    "\n",
    "            character = Character(\n",
    "                name=name,\n",
    "                id=character_id,\n",
    "                gender=gender,  # m|f|None\n",
    "                credit_position=position,\n",
    "            )\n",
    "\n",
    "            movie.characters[character_id] = character"
   ],
   "metadata": {
    "collapsed": false,
    "pycharm": {
     "name": "#%%\n"
    }
   }
  },
  {
   "cell_type": "code",
   "execution_count": 22,
   "outputs": [],
   "source": [
    "def get_all_dialogs(movies: Dict[str, Movie], lines_path: str) -> Dict[str, Dialog]:\n",
    "    all_dialogs = {}\n",
    "    with open(lines_path, \"r\", encoding=\"ISO-8859-1\") as dialogs_file:\n",
    "        for dialog in dialogs_file:\n",
    "            # Sample: L1045 +++$+++ u0 +++$+++ m0 +++$+++ BIANCA +++$+++ They do not!\n",
    "            # Note: Sometimes, there's no dialog, so splitting with ' +++$+++ ' will be wrong (with space at the end.)\n",
    "            #       So, we will split without spaces on either side and then strip\n",
    "            dialog = dialog.strip().split(\"+++$+++\")\n",
    "            dialog = [d.strip() for d in dialog]\n",
    "            dialog_id, character_id, movie_id, character_name, dialog = dialog\n",
    "\n",
    "            assert movie_id in movies\n",
    "            movie = movies[movie_id]\n",
    "\n",
    "            assert character_id in movie.characters\n",
    "            speaker = movie.characters[character_id]\n",
    "\n",
    "            dialog = Dialog(id=dialog_id, speaker=speaker, dialog=dialog)\n",
    "            all_dialogs[dialog_id] = dialog\n",
    "    return all_dialogs\n"
   ],
   "metadata": {
    "collapsed": false,
    "pycharm": {
     "name": "#%%\n"
    }
   }
  },
  {
   "cell_type": "code",
   "execution_count": 23,
   "outputs": [],
   "source": [
    "\n",
    "def update_movie_dialogs(\n",
    "    movies: Dict[str, Movie], conversations_path: str, lines_path: str\n",
    "):\n",
    "    all_dialogs: Dict[str, Dialog] = get_all_dialogs(movies, lines_path)\n",
    "\n",
    "    with open(conversations_path, \"r\", encoding=\"ISO-8859-1\") as conversations_file:\n",
    "        for conversation in conversations_file:\n",
    "            # Sample: u0 +++$+++ u2 +++$+++ m0 +++$+++ ['L198', 'L199']\n",
    "            conversation = conversation.strip().split(\" +++$+++ \")\n",
    "            character1, character2, movie_id, dialogs = conversation\n",
    "\n",
    "            dialogs = dialogs.strip(\"][\").replace(\"'\", \"\").split(\", \")\n",
    "\n",
    "            assert movie_id in movies\n",
    "            movie = movies[movie_id]\n",
    "\n",
    "            assert character1 in movie.characters\n",
    "            assert character2 in movie.characters\n",
    "\n",
    "            character1 = movie.characters[character1]\n",
    "            character2 = movie.characters[character2]\n",
    "\n",
    "            for dialog in dialogs:\n",
    "                assert dialog in all_dialogs\n",
    "                dialog = all_dialogs[dialog]\n",
    "                listener = character1 if character2 == dialog.speaker else character2\n",
    "                dialog.listener = listener\n",
    "\n",
    "            conversation = Conversation(\n",
    "                characters=(character1, character2),\n",
    "                dialogs=[all_dialogs[dialog] for dialog in dialogs],\n",
    "            )\n",
    "\n",
    "            movie.conversations.append(conversation)\n"
   ],
   "metadata": {
    "collapsed": false,
    "pycharm": {
     "name": "#%%\n"
    }
   }
  },
  {
   "cell_type": "code",
   "execution_count": 24,
   "outputs": [],
   "source": [
    "\n",
    "def _preprocess_year(year: str) -> int:\n",
    "    if \"/I\" in year:\n",
    "        year = year.replace(\"/I\", \"\")\n",
    "    year = int(year)\n",
    "    return year\n",
    "\n",
    "\n",
    "def get_movies_dict(movie_titles_metadata_path: str) -> Dict[str, Movie]:\n",
    "    movies_dict = {}\n",
    "    with open(movie_titles_metadata_path, \"r\", encoding=\"ISO-8859-1\") as movies_file:\n",
    "        for movie in movies_file:\n",
    "            movie = movie.strip().split(\" +++$+++ \")\n",
    "            movie_id, title, year, rating, votes, genres = movie\n",
    "            # Replace list representation with list of strings\n",
    "            genres = genres.strip(\"][\").replace(\"'\", \"\").split(\", \")\n",
    "            year = _preprocess_year(year)\n",
    "            rating = float(rating)\n",
    "\n",
    "            movie = Movie(\n",
    "                id=movie_id,\n",
    "                title=title,\n",
    "                release_year=year,\n",
    "                imdb_rating=rating,\n",
    "                num_votes=votes,\n",
    "                genres=genres,\n",
    "            )\n",
    "\n",
    "            movies_dict[movie_id] = movie\n",
    "\n",
    "    return movies_dict"
   ],
   "metadata": {
    "collapsed": false,
    "pycharm": {
     "name": "#%%\n"
    }
   }
  },
  {
   "cell_type": "code",
   "execution_count": 25,
   "outputs": [],
   "source": [
    "def get_data(path: str):\n",
    "    files = listdir(path)\n",
    "\n",
    "    # 1. For each movie:\n",
    "    #    a. get all characters\n",
    "    #    b. get all conversations\n",
    "\n",
    "    assert \"movie_titles_metadata.txt\" in files\n",
    "    assert \"movie_characters_metadata.txt\" in files\n",
    "    assert \"movie_conversations.txt\" in files\n",
    "    assert \"movie_lines.txt\" in files\n",
    "\n",
    "    movies_dict = get_movies_dict(join(path, \"movie_titles_metadata.txt\"))\n",
    "    update_movie_characters(movies_dict, join(path, \"movie_characters_metadata.txt\"))\n",
    "    update_movie_dialogs(\n",
    "        movies_dict,\n",
    "        join(path, \"movie_conversations.txt\"),\n",
    "        join(path, \"movie_lines.txt\"),\n",
    "    )\n",
    "\n",
    "    return movies_dict\n",
    "\n",
    "\n",
    "data_path = \"/Users/akhil/code/lexical_lab/companies/ginger/data/cornell\"\n",
    "movies = get_data(data_path)"
   ],
   "metadata": {
    "collapsed": false,
    "pycharm": {
     "name": "#%%\n"
    }
   }
  },
  {
   "cell_type": "markdown",
   "source": [
    "Alright, we got all the data stored in `movies` dictionary.\n",
    "\n",
    "It looks like this (in yaml format):\n",
    "\n",
    "```yaml\n",
    "m28:\n",
    "  id: m28\n",
    "  title: barry lyndon\n",
    "  release_year: 1975\n",
    "  imdb_rating: 8.1\n",
    "  num_votes: 40622\n",
    "  genres: [drama, romance, war]\n",
    "  characters:\n",
    "    u454:\n",
    "      credit_position: null\n",
    "      gender: null\n",
    "      id: u454\n",
    "      name: ARMED GENTLEMAN\n",
    "  conversations:\n",
    "  - characters: [u473, u475]\n",
    "    dialogs:\n",
    "    - dialog: Charming Schuvaloff.\n",
    "      id: L64877\n",
    "      listener: u475\n",
    "      speaker: u473\n",
    "```"
   ],
   "metadata": {
    "collapsed": false,
    "pycharm": {
     "name": "#%% md\n"
    }
   }
  },
  {
   "cell_type": "markdown",
   "source": [
    "---\n",
    "\n",
    "# Part 2: Analysis of movie lines\n",
    "\n",
    "Definitions to be clear:\n",
    "\n",
    "**Dialog**: A dialog is a line that an actor says in one go before the other actor speaks their line.\n",
    "\n",
    "**Conversation**: A conversation is a sequence of dialogs in order.\n",
    "\n",
    "\n",
    "I like plotting these curves (I call these \"transposed S\" curves) to get an\n",
    "understanding of how the data is distributed.\n",
    "\n",
    "Almost all movies have > 50 conversations with average of ~135 conversations.\n",
    "\n",
    "The number of dialogs range from 6-1530 with mean of ~500 dialogs for each movie."
   ],
   "metadata": {
    "collapsed": false,
    "pycharm": {
     "name": "#%% md\n"
    }
   }
  },
  {
   "cell_type": "code",
   "execution_count": 9,
   "outputs": [
    {
     "name": "stdout",
     "output_type": "stream",
     "text": [
      "Average # of conversations: 134.67909238249595\n",
      "Max # of conversations: 338\n",
      "Min # of conversations: 1\n"
     ]
    },
    {
     "data": {
      "text/plain": "Text(0.5, 0, '# of conversations')"
     },
     "execution_count": 9,
     "metadata": {},
     "output_type": "execute_result"
    },
    {
     "data": {
      "text/plain": "<Figure size 432x288 with 1 Axes>",
      "image/png": "[encoded data removed]"
     },
     "metadata": {
      "needs_background": "light"
     },
     "output_type": "display_data"
    }
   ],
   "source": [
    "# plot number of conversations for each movie\n",
    "\n",
    "num_conversations = [len(movie.conversations) for _, movie in movies.items()]\n",
    "num_conversations = sorted(num_conversations, reverse=True)\n",
    "num_conversations = np.array(num_conversations)\n",
    "\n",
    "print(f'Average # of conversations: {num_conversations.mean()}')\n",
    "print(f'Max # of conversations: {num_conversations.max()}')\n",
    "print(f'Min # of conversations: {num_conversations.min()}')\n",
    "\n",
    "plt.plot(num_conversations)\n",
    "plt.title(\"Number of conversations for each movie\")\n",
    "plt.xlabel(\"movie index sorted descendingly by y\")\n",
    "plt.xlabel(\"# of conversations\")"
   ],
   "metadata": {
    "collapsed": false,
    "pycharm": {
     "name": "#%%\n"
    }
   }
  },
  {
   "cell_type": "code",
   "execution_count": 10,
   "outputs": [
    {
     "name": "stdout",
     "output_type": "stream",
     "text": [
      "Average # of dialogs: 493.86223662884925\n",
      "Max # of dialogs: 1530\n",
      "Min # of dialogs: 6\n"
     ]
    },
    {
     "data": {
      "text/plain": "Text(0.5, 0, '# of dialogs')"
     },
     "execution_count": 10,
     "metadata": {},
     "output_type": "execute_result"
    },
    {
     "data": {
      "text/plain": "<Figure size 432x288 with 1 Axes>",
      "image/png": "[encoded data removed]"
     },
     "metadata": {
      "needs_background": "light"
     },
     "output_type": "display_data"
    }
   ],
   "source": [
    "# plot number of dialogs for each movie\n",
    "\n",
    "num_dialogs = []\n",
    "for _, movie in movies.items():\n",
    "    num_dialogs_ = sum([len(convo.dialogs) for convo in movie.conversations])\n",
    "    num_dialogs.append(num_dialogs_)\n",
    "\n",
    "num_dialogs = sorted(num_dialogs, reverse=True)\n",
    "num_dialogs = np.array(num_dialogs)\n",
    "\n",
    "print(f'Average # of dialogs: {num_dialogs.mean()}')\n",
    "print(f'Max # of dialogs: {num_dialogs.max()}')\n",
    "print(f'Min # of dialogs: {num_dialogs.min()}')\n",
    "\n",
    "plt.plot(num_dialogs)\n",
    "plt.title(\"Number of dialogs for each movie\")\n",
    "plt.xlabel(\"movie index sorted descendingly by y\")\n",
    "plt.xlabel(\"# of dialogs\")"
   ],
   "metadata": {
    "collapsed": false,
    "pycharm": {
     "name": "#%%\n"
    }
   }
  },
  {
   "cell_type": "markdown",
   "source": [
    "The conversations are like \"to-and-fro\" style with two characters with\n",
    "at least 1 dialog for each.\n",
    "So information from one dialog will flow to the next one within a conversation."
   ],
   "metadata": {
    "collapsed": false,
    "pycharm": {
     "name": "#%% md\n"
    }
   }
  },
  {
   "cell_type": "code",
   "execution_count": null,
   "outputs": [],
   "source": [
    "# Plot number of dialogs for each conversation in a random movie.\n",
    "\n",
    "random_movie = movies['m17']\n",
    "num_dialogs = [len(convo.dialogs) for convo in random_movie.conversations]\n",
    "num_dialogs = sorted(num_dialogs, reverse=True)\n",
    "num_dialogs = np.array(num_dialogs)\n",
    "\n",
    "print(f'Average length of conversations: {num_dialogs.mean()}')\n",
    "print(f'Max length of conversations: {num_dialogs.max()}')\n",
    "print(f'Min length of conversations: {num_dialogs.min()}')\n",
    "\n",
    "plt.plot(num_dialogs)\n",
    "plt.title(\"length of conversations for each movie\")\n",
    "plt.xlabel(\"movie index sorted descendingly by y\")\n",
    "plt.xlabel(\"length of conversations\")\n"
   ],
   "metadata": {
    "collapsed": false,
    "pycharm": {
     "name": "#%%\n"
    }
   }
  },
  {
   "cell_type": "markdown",
   "source": [
    "- within a movie\n",
    "    - among words\n",
    "    - among lines\n",
    "- across movies\n",
    "    - among words\n",
    "    - among lines\n",
    "- across corpus\n",
    "-\n"
   ],
   "metadata": {
    "collapsed": false,
    "pycharm": {
     "name": "#%% md\n"
    }
   }
  },
  {
   "cell_type": "markdown",
   "source": [
    "---\n",
    "\n",
    "# Classification\n",
    "\n",
    "There's no \"description\" or \"plot summary\" of movies.\n",
    "So one must look at all the dialogs and decipher the movie genre.\n",
    "\n",
    "How can we do this?\n",
    "Let's do this in a naive way first, then let's try to get creative.\n",
    "\n",
    "## Naive way:\n",
    "\n",
    "- Average all word embeddings in a dialog to get dialog embeddings.\n",
    "- Average all dialog embeddings to get movie plot embedding.\n",
    "\n",
    "Thought process:\n",
    "  - We get a sentence embedding by averaging the word embeddings\n",
    "  - In the same way, can we get \"scene\" embedding by averaging all the sentence embeddings in a scene?\n",
    "  - Then averaging all scene embeddings should give us movie embedding.\n",
    "  - We don't have scenes, do we? If not, we can skip scenes, will averaging all dialog embeddings give us movie embedding?\n",
    "\n",
    "Problems:\n",
    "\n",
    "- The conversations might mostly include \"everyday lines\" that do not relate to the plot.\n",
    "- For example, \"You must learn how to lie\", \"they have to!\" do not say anything about the plot.\n",
    "\n",
    "## Another method:\n",
    "\n",
    "- Find all genre-defining keywords.\n",
    "- Then get the dialogs with these keywords.\n",
    "- Assumption: dialogs with keywords will contain plot-related information.\n",
    "-\n",
    "\n",
    "---\n",
    "\n",
    "## Rule-based method for baseline.\n",
    "\n",
    "For each genre, what are the most used words? (after removing the stopwords)\n",
    "How many of these words occur for multiple movies?\n",
    "\n",
    "Intuitive rationale:\n",
    "\n",
    "- [Within one genre] a genre-defining word will likely have high frequency in a movie and among all movies of the same genre.\n",
    "- [Among genres] a genre-defining word will likely have high frequency in movies within the genre and low frequency among movies of other genres.\n",
    "\n",
    "This can be obtained by finding the tf-idf value for each word in the corpus.\n",
    "\n",
    "If frequency of a word is low among movies of the same genre, then it is likely not genre-defining.\n",
    "\n",
    "Assuming that we obtained these \"genre-defining\" words for each genre,\n",
    "the next task would be to somehow learn that these words (or similar words) will help predict the movie's genre.\n",
    "\n",
    "### Implementation:\n",
    "\n",
    "1. Parse all the data.\n",
    "2. store all the genres.\n",
    "3. Split 95:5 of the movies randomly (less data problem!)\n",
    "4. Find tf-idf of each word in the training set. document = genre.\n",
    "5. Can these be custom named entities?\n",
    "\n",
    "Part 1:\n",
    "\n",
    "Well, we need lines for each genre. We don't care about the \"sequential\" nature of dialogs. Just need all of them.\n",
    "\n",
    "Specifically, we need a structure like this:\n",
    "\n",
    "- genres\n",
    "    - movies\n",
    "        - words\n",
    "\n",
    "Here words are obtained by:\n",
    "\n",
    "- spaCy tokenize each dialog.\n",
    "- spaCy lemmatize\n",
    "- spaCy remove stopwords\n",
    "\n",
    "Note that a movie can have multiple genres. So the dialogs for two genres might repeat.\n",
    "\n",
    "Part 2:\n",
    "\n",
    "\n",
    "---\n",
    "\n",
    "Extracting all information about a movie."
   ],
   "metadata": {
    "collapsed": false,
    "pycharm": {
     "name": "#%% md\n"
    }
   }
  },
  {
   "cell_type": "code",
   "execution_count": 3,
   "outputs": [],
   "source": [],
   "metadata": {
    "collapsed": false,
    "pycharm": {
     "name": "#%%\n"
    }
   }
  },
  {
   "cell_type": "code",
   "execution_count": 8,
   "outputs": [
    {
     "data": {
      "text/plain": "['m0', 'm1', 'm2', 'm3', 'm4']"
     },
     "execution_count": 8,
     "metadata": {},
     "output_type": "execute_result"
    }
   ],
   "source": [
    "list(movies.keys())[:5]"
   ],
   "metadata": {
    "collapsed": false,
    "pycharm": {
     "name": "#%%\n"
    }
   }
  },
  {
   "cell_type": "code",
   "execution_count": 9,
   "outputs": [],
   "source": [
    "m0 = movies['m0']"
   ],
   "metadata": {
    "collapsed": false,
    "pycharm": {
     "name": "#%%\n"
    }
   }
  },
  {
   "cell_type": "code",
   "execution_count": 10,
   "outputs": [
    {
     "data": {
      "text/plain": "['u0', 'u1', 'u2', 'u3', 'u4']"
     },
     "execution_count": 10,
     "metadata": {},
     "output_type": "execute_result"
    }
   ],
   "source": [
    "list(m0.characters.keys())[:5]"
   ],
   "metadata": {
    "collapsed": false,
    "pycharm": {
     "name": "#%%\n"
    }
   }
  },
  {
   "cell_type": "code",
   "execution_count": 11,
   "outputs": [
    {
     "data": {
      "text/plain": "'Can we make this quick?  Roxanne Korrine and Andrew Barrett are having an incredibly horrendous public break- up on the quad.  Again.'"
     },
     "execution_count": 11,
     "metadata": {},
     "output_type": "execute_result"
    }
   ],
   "source": [
    "conversations = m0.conversations[:5]\n",
    "conversations[0].dialogs[0].dialog"
   ],
   "metadata": {
    "collapsed": false,
    "pycharm": {
     "name": "#%%\n"
    }
   }
  },
  {
   "cell_type": "code",
   "execution_count": 251,
   "outputs": [
    {
     "data": {
      "text/plain": "[('drama', 320),\n ('thriller', 269),\n ('action', 168),\n ('comedy', 162),\n ('crime', 147),\n ('romance', 132),\n ('sci-fi', 120),\n ('adventure', 116),\n ('mystery', 102),\n ('horror', 99),\n ('fantasy', 78),\n ('short', 5),\n ('animation', 2),\n ('family', 1)]"
     },
     "execution_count": 251,
     "metadata": {},
     "output_type": "execute_result"
    }
   ],
   "source": [
    "all_genres = [genre for _, movie in movies.items() for genre in movie.genres]\n",
    "genre_movies_count = Counter(all_genres)\n",
    "all_genres = list(set(all_genres))\n",
    "\n",
    "# Sorting by value to see which genres have the most movies.\n",
    "sorted(genre_movies_count.items(), key=lambda item: item[1], reverse=True)"
   ],
   "metadata": {
    "collapsed": false,
    "pycharm": {
     "name": "#%%\n"
    }
   }
  },
  {
   "cell_type": "code",
   "execution_count": 252,
   "outputs": [
    {
     "ename": "ValueError",
     "evalue": "list.remove(x): x not in list",
     "output_type": "error",
     "traceback": [
      "\u001B[0;31m---------------------------------------------------------------------------\u001B[0m",
      "\u001B[0;31mValueError\u001B[0m                                Traceback (most recent call last)",
      "\u001B[0;32m<ipython-input-252-b83541fa1d1a>\u001B[0m in \u001B[0;36m<module>\u001B[0;34m\u001B[0m\n\u001B[1;32m      1\u001B[0m \u001B[0;31m# Well, there's one movie without any genre. So let's put that as 'other'\u001B[0m\u001B[0;34m\u001B[0m\u001B[0;34m\u001B[0m\u001B[0;34m\u001B[0m\u001B[0m\n\u001B[1;32m      2\u001B[0m \u001B[0mall_genres\u001B[0m\u001B[0;34m.\u001B[0m\u001B[0mappend\u001B[0m\u001B[0;34m(\u001B[0m\u001B[0;34m'other'\u001B[0m\u001B[0;34m)\u001B[0m\u001B[0;34m\u001B[0m\u001B[0;34m\u001B[0m\u001B[0m\n\u001B[0;32m----> 3\u001B[0;31m \u001B[0mall_genres\u001B[0m\u001B[0;34m.\u001B[0m\u001B[0mremove\u001B[0m\u001B[0;34m(\u001B[0m\u001B[0;34m''\u001B[0m\u001B[0;34m)\u001B[0m\u001B[0;34m\u001B[0m\u001B[0;34m\u001B[0m\u001B[0m\n\u001B[0m\u001B[1;32m      4\u001B[0m \u001B[0;34m\u001B[0m\u001B[0m\n\u001B[1;32m      5\u001B[0m \u001B[0mgenre_movies_count\u001B[0m\u001B[0;34m[\u001B[0m\u001B[0;34m'other'\u001B[0m\u001B[0;34m]\u001B[0m \u001B[0;34m=\u001B[0m \u001B[0mgenre_movies_count\u001B[0m\u001B[0;34m[\u001B[0m\u001B[0;34m''\u001B[0m\u001B[0;34m]\u001B[0m\u001B[0;34m\u001B[0m\u001B[0;34m\u001B[0m\u001B[0m\n",
      "\u001B[0;31mValueError\u001B[0m: list.remove(x): x not in list"
     ]
    }
   ],
   "source": [
    "# Well, there's one movie without any genre. So let's put that as 'other'\n",
    "all_genres.append('other')\n",
    "all_genres.remove('')\n",
    "\n",
    "genre_movies_count['other'] = genre_movies_count['']\n",
    "del genre_movies_count['']\n",
    "\n",
    "# Let's also replace '' with 'other' in all movies\n",
    "for _, movie in movies.items():\n",
    "    if '' in movie.genres:\n",
    "        movie.genres.append('other')\n",
    "        movie.genres.remove('')"
   ],
   "metadata": {
    "collapsed": false,
    "pycharm": {
     "name": "#%%\n"
    }
   }
  },
  {
   "cell_type": "code",
   "execution_count": 253,
   "outputs": [],
   "source": [
    "# Some of the genres have very low movie count.\n",
    "# This will make the frequency based method very difficult.\n",
    "# We might employ other techniques for these low-frequent genres.\n",
    "# For now, to make the problem easier, let's only use the high frequent genres only.\n",
    "\n",
    "# Eliminating all genres with frequency < 75 (75 is just based on intuition.)\n",
    "low_frequency_genres = [genre for genre in all_genres if genre_movies_count[genre] <= 75]\n",
    "\n",
    "for genre in low_frequency_genres:\n",
    "    # Remove from all_genres\n",
    "    all_genres.remove(genre)\n",
    "\n",
    "    # Remove from movie.genres\n",
    "    for _, movie in movies.items():\n",
    "        if genre in movie.genres:\n",
    "            movie.genres.remove(genre)\n",
    "\n",
    "# Remove movies with empty genres\n",
    "movies_to_remove = []\n",
    "for movie_id, movie in movies.items():\n",
    "    if len(movie.genres) == 0:\n",
    "        movies_to_remove.append(movie_id)\n",
    "for movie_id in movies_to_remove:\n",
    "    del movies[movie_id]"
   ],
   "metadata": {
    "collapsed": false,
    "pycharm": {
     "name": "#%%\n"
    }
   }
  },
  {
   "cell_type": "code",
   "execution_count": 254,
   "outputs": [],
   "source": [
    "# [NOT USED] Creates text files with all dialogs of each genre. NOT USED, but works.\n",
    "\n",
    "@contextmanager\n",
    "def get_genre_dialogs_files(output_path: str, genres: List[str], mode: str):\n",
    "    \"\"\"\n",
    "    A wrapper that encapsulates handling multiple genre-dialogs files.\n",
    "    \"\"\"\n",
    "    makedirs(output_path, exist_ok=True)\n",
    "    files: Dict[str, TextIO] = {genre: open(join(output_path, f'{genre}.txt'), mode) for genre in genres}\n",
    "\n",
    "    try:\n",
    "        yield files\n",
    "    finally:\n",
    "        for genre in genres:\n",
    "            files[genre].close()\n",
    "\n",
    "\n",
    "def create_genre_dialogs_files():\n",
    "    # Creating dialogs text files for each genre.\n",
    "    genre_dialogs_path = '/Users/akhil/code/lexical_lab/companies/ginger/data/output/genre_dialogs'\n",
    "    with get_genre_dialogs_files(genre_dialogs_path, all_genres, 'w') as genre_dialogs_files:\n",
    "        for _, movie in movies.items():\n",
    "            for conversation in movie.conversations:\n",
    "                for dialog in conversation.dialogs:\n",
    "                    for genre in movie.genres:\n",
    "                        genre_dialogs_files[genre].write(dialog.dialog + '\\n')\n"
   ],
   "metadata": {
    "collapsed": false,
    "pycharm": {
     "name": "#%%\n"
    }
   }
  },
  {
   "cell_type": "code",
   "execution_count": 255,
   "outputs": [
    {
     "data": {
      "text/plain": "['example', 'sentence', 'akhil', 'friends', 'cars']"
     },
     "execution_count": 255,
     "metadata": {},
     "output_type": "execute_result"
    }
   ],
   "source": [
    "\"\"\"\n",
    "Creating a structure like this:\n",
    "- genres\n",
    "    - movies\n",
    "        - words\n",
    "\"\"\"\n",
    "\n",
    "spacy_nlp = spacy.load('en_core_web_sm', disable=['tok2vec', 'parser', 'ner'])\n",
    "\n",
    "def extract_words(text):\n",
    "    # Without this, there will a ' ' (space) word\n",
    "    text = re.sub(r'\\s+', ' ', text)\n",
    "    doc = spacy_nlp(text)\n",
    "    # Words without stopwords\n",
    "    words = [token.lemma_ for token in doc if not token.is_stop and not token.is_punct]\n",
    "    return words\n",
    "\n",
    "extract_words('This is an example of  a sentence. Akhil\\'s friends have many cars')"
   ],
   "metadata": {
    "collapsed": false,
    "pycharm": {
     "name": "#%%\n"
    }
   }
  },
  {
   "cell_type": "code",
   "execution_count": 256,
   "outputs": [
    {
     "name": "stderr",
     "output_type": "stream",
     "text": [
      "100%|██████████| 611/611 [01:11<00:00,  8.58it/s]\n"
     ]
    }
   ],
   "source": [
    "# Find word counts for each genre.\n",
    "genre_words_count = {genre: {} for genre in all_genres}\n",
    "\n",
    "for _, movie in tqdm(movies.items()):\n",
    "    dialogs = '. '.join([d.dialog for conversation in movie.conversations for d in conversation.dialogs])\n",
    "    words = extract_words(dialogs)\n",
    "    word_frequencies = Counter(words)\n",
    "\n",
    "    for genre in movie.genres:\n",
    "        for word, count in word_frequencies.items():\n",
    "            genre_word_count = genre_words_count[genre].get(word, {'movie_count': 0, 'count': 0})\n",
    "            genre_word_count['movie_count'] += 1\n",
    "            genre_word_count['count'] += count\n",
    "            genre_words_count[genre][word] = genre_word_count"
   ],
   "metadata": {
    "collapsed": false,
    "pycharm": {
     "name": "#%%\n"
    }
   }
  },
  {
   "cell_type": "code",
   "execution_count": 263,
   "outputs": [],
   "source": [
    "# Remove words that are too infrequent.\n",
    "\n",
    "# Anything count < infrequent_threshold is removed.\n",
    "infrequent_threshold = 3\n",
    "\n",
    "# At least this % of movies should contain the genre-defining words\n",
    "infrequent_movie_threshold = 0.25\n",
    "\n",
    "for genre, words_count in genre_words_count.items():\n",
    "    words_to_remove = []\n",
    "    for word, word_count in words_count.items():\n",
    "        word_frequency = word_count['count']  # / word_count['movie_count']\n",
    "        movie_frequency = word_count['movie_count'] / genre_movies_count[genre]\n",
    "        if word_frequency < infrequent_threshold or movie_frequency < infrequent_movie_threshold:\n",
    "            words_to_remove.append(word)\n",
    "            # print(f'{word=}, {word_count=}')\n",
    "    for word in words_to_remove:\n",
    "        del words_count[word]"
   ],
   "metadata": {
    "collapsed": false,
    "pycharm": {
     "name": "#%%\n"
    }
   }
  },
  {
   "cell_type": "code",
   "execution_count": 264,
   "outputs": [
    {
     "data": {
      "text/plain": "1015"
     },
     "execution_count": 264,
     "metadata": {},
     "output_type": "execute_result"
    }
   ],
   "source": [
    "# Building word frequency table.\n",
    "\n",
    "# all words in this frequency table\n",
    "all_words = list(set([word for word_counts in genre_words_count.values() for word in word_counts]))\n",
    "len(all_words)"
   ],
   "metadata": {
    "collapsed": false,
    "pycharm": {
     "name": "#%%\n"
    }
   }
  },
  {
   "cell_type": "code",
   "execution_count": 265,
   "outputs": [
    {
     "data": {
      "text/plain": "array([[516, 259,   0, ...,   0, 222, 154],\n       [273, 137,   0, ...,   0, 130,  72],\n       [121,  51,   0, ...,   0,  73,  39],\n       ...,\n       [461, 132,   0, ...,   0, 131, 108],\n       [210, 104,   0, ...,   0,  89,  75],\n       [336, 154, 133, ...,   0, 131, 108]])"
     },
     "execution_count": 265,
     "metadata": {},
     "output_type": "execute_result"
    }
   ],
   "source": [
    "frequency_matrix = np.zeros((len(all_genres), len(all_words)), dtype=int)\n",
    "\n",
    "for i, genre in enumerate(all_genres):\n",
    "    for j, word in enumerate(all_words):\n",
    "        if word in genre_words_count[genre]:\n",
    "            frequency = genre_words_count[genre][word]\n",
    "            frequency = frequency['count']  # / frequency['movie_count']\n",
    "            frequency_matrix[i][j] = frequency\n",
    "\n",
    "frequency_matrix"
   ],
   "metadata": {
    "collapsed": false,
    "pycharm": {
     "name": "#%%\n"
    }
   }
  },
  {
   "cell_type": "code",
   "execution_count": 266,
   "outputs": [
    {
     "data": {
      "text/plain": "array([3540, 1486,  133, ...,   52, 1390,  846])"
     },
     "execution_count": 266,
     "metadata": {},
     "output_type": "execute_result"
    }
   ],
   "source": [
    "inter_genre_word_counts = frequency_matrix.sum(0)\n",
    "inter_genre_word_counts"
   ],
   "metadata": {
    "collapsed": false,
    "pycharm": {
     "name": "#%%\n"
    }
   }
  },
  {
   "cell_type": "code",
   "execution_count": 267,
   "outputs": [
    {
     "data": {
      "text/plain": "array([[0.14576271, 0.17429341, 0.        , ..., 0.        , 0.15971223,\n        0.1820331 ],\n       [0.07711864, 0.09219381, 0.        , ..., 0.        , 0.09352518,\n        0.08510638],\n       [0.03418079, 0.03432032, 0.        , ..., 0.        , 0.05251799,\n        0.04609929],\n       ...,\n       [0.13022599, 0.08882907, 0.        , ..., 0.        , 0.0942446 ,\n        0.12765957],\n       [0.05932203, 0.06998654, 0.        , ..., 0.        , 0.06402878,\n        0.08865248],\n       [0.09491525, 0.10363392, 1.        , ..., 0.        , 0.0942446 ,\n        0.12765957]])"
     },
     "execution_count": 267,
     "metadata": {},
     "output_type": "execute_result"
    }
   ],
   "source": [
    "tfidf = frequency_matrix / inter_genre_word_counts\n",
    "tfidf"
   ],
   "metadata": {
    "collapsed": false,
    "pycharm": {
     "name": "#%%\n"
    }
   }
  },
  {
   "cell_type": "code",
   "execution_count": 276,
   "outputs": [
    {
     "name": "stdout",
     "output_type": "stream",
     "text": [
      "thriller: [(1.0, 'tight', 90, 90), (0.6875, 'killer', 198, 288), (0.673469387755102, 'loose', 99, 147), (0.46835443037974683, 'department', 148, 316), (0.4671814671814672, 'address', 121, 259), (0.4528301886792453, 'split', 96, 212), (0.4331941544885177, 'fuckin', 415, 958), (0.41904761904761906, 'checked', 88, 210), (0.4101123595505618, 'key', 146, 356), (0.3992673992673993, 'cops', 218, 546)]\n",
      "action: [(1.0, 'south', 72, 72), (0.6, 'weapon', 63, 105), (0.5945945945945946, 'guard', 66, 111), (0.5333333333333333, 'sooner', 56, 105), (0.4875, 'computer', 117, 240), (0.4444444444444444, 'guns', 84, 189), (0.4308510638297872, 'weapons', 81, 188), (0.4217687074829932, 'learned', 62, 147), (0.4025974025974026, 'cross', 62, 154), (0.3972602739726027, 'orders', 87, 219)]\n",
      "fantasy: [(1.0, 'trick', 27, 27), (1.0, 'tree', 35, 35), (1.0, 'purpose', 33, 33), (1.0, 'opened', 28, 28), (1.0, 'magic', 67, 67), (1.0, 'hoping', 23, 23), (1.0, 'feed', 22, 22), (0.5266666666666666, 'evil', 79, 150), (0.453125, 'matters', 29, 64), (0.4393939393939394, 'greatest', 29, 66)]\n",
      "drama: [(1.0, 'writing', 152, 152), (1.0, 'runs', 110, 110), (1.0, 'accept', 121, 121), (0.75, 'lawyer', 192, 256), (0.7469879518072289, 'agree', 124, 166), (0.7300613496932515, 'sleeping', 119, 163), (0.6918604651162791, 'decide', 119, 172), (0.6826923076923077, 'won', 142, 208), (0.6519337016574586, 'plans', 118, 181), (0.6345177664974619, 'laugh', 125, 197)]\n",
      "romance: [(1.0, 'wind', 52, 52), (1.0, 'willing', 45, 45), (1.0, 'wild', 52, 52), (1.0, 'train', 81, 81), (1.0, 'sold', 51, 51), (1.0, 'sing', 66, 66), (1.0, 'round', 67, 67), (1.0, 'ring', 108, 108), (1.0, 'recognize', 41, 41), (1.0, 'raise', 51, 51)]\n",
      "adventure: [(1.0, 'sea', 80, 80), (1.0, 'river', 44, 44), (1.0, 'quickly', 38, 38), (1.0, 'operation', 49, 49), (1.0, 'north', 46, 46), (1.0, 'lord', 101, 101), (1.0, 'jump', 49, 49), (1.0, 'enemy', 53, 53), (1.0, 'continue', 33, 33), (1.0, 'code', 55, 55)]\n",
      "sci-fi: [(1.0, 'systems', 78, 78), (1.0, 'study', 40, 40), (1.0, 'science', 104, 104), (1.0, 'noticed', 40, 40), (1.0, 'nature', 47, 47), (1.0, 'level', 67, 67), (1.0, 'form', 67, 67), (1.0, 'exist', 38, 38), (1.0, 'emergency', 62, 62), (1.0, 'data', 147, 147)]\n",
      "horror: [(1.0, 'monster', 50, 50), (1.0, 'bodies', 44, 44), (0.5647058823529412, 'locked', 48, 85), (0.47333333333333333, 'evil', 71, 150), (0.28699551569506726, 'dreams', 64, 223), (0.24161073825503357, 'danger', 36, 149), (0.16728624535315986, 'asleep', 45, 269), (0.1404494382022472, 'lock', 50, 356), (0.12796208530805686, 'radio', 54, 422), (0.12368421052631579, 'box', 47, 380)]\n",
      "comedy: [(1.0, 'whoa', 73, 73), (1.0, 'um', 166, 166), (1.0, 'u', 1957, 1957), (1.0, 'song', 85, 85), (1.0, 'screw', 68, 68), (1.0, 'perfectly', 56, 56), (1.0, 'pants', 85, 85), (1.0, 'pal', 86, 86), (1.0, 'older', 54, 54), (1.0, 'natural', 64, 64)]\n",
      "mystery: [(1.0, 'rules', 37, 37), (1.0, 'proof', 55, 55), (1.0, 'murdered', 64, 64), (1.0, 'investigation', 45, 45), (1.0, 'held', 34, 34), (1.0, 'forward', 40, 40), (1.0, 'following', 40, 40), (1.0, 'curious', 37, 37), (1.0, 'concerned', 39, 39), (0.4659090909090909, 'tie', 41, 88)]\n",
      "crime: [(1.0, 'watched', 58, 58), (1.0, 'tape', 104, 104), (1.0, 'steal', 75, 75), (1.0, 'square', 56, 56), (1.0, 'shooting', 59, 59), (1.0, 'sees', 52, 52), (1.0, 'scene', 68, 68), (1.0, 'pop', 92, 92), (1.0, 'places', 57, 57), (1.0, 'personally', 51, 51)]\n"
     ]
    }
   ],
   "source": [
    "# Okay, now that we have tf-idf matrix,\n",
    "# Let's find the highest ranking top k words for each genre.\n",
    "\n",
    "for i in range(len(all_genres)):\n",
    "    tfidf_ranks = tfidf[i]\n",
    "    counts = frequency_matrix[i]\n",
    "\n",
    "    zipped = zip(tfidf_ranks, all_words, counts, inter_genre_word_counts)\n",
    "    pairs = heapq.nlargest(10, zipped)\n",
    "    keywords = [pair[1] for pair in pairs]\n",
    "    print(f'{all_genres[i]}: {pairs}')"
   ],
   "metadata": {
    "collapsed": false,
    "pycharm": {
     "name": "#%%\n"
    }
   }
  },
  {
   "cell_type": "code",
   "execution_count": null,
   "outputs": [],
   "source": [
    "# TODO: Word cloud for these words.\n",
    "# TODO: Movie map based on semantic genre.\n",
    "# TODO: graph for # of movies and # of dialogs for each genre.\n"
   ],
   "metadata": {
    "collapsed": false,
    "pycharm": {
     "name": "#%%\n"
    }
   }
  },
  {
   "cell_type": "code",
   "execution_count": 243,
   "outputs": [
    {
     "data": {
      "text/plain": "'this is a test'"
     },
     "execution_count": 243,
     "metadata": {},
     "output_type": "execute_result"
    }
   ],
   "source": [],
   "metadata": {
    "collapsed": false,
    "pycharm": {
     "name": "#%%\n"
    }
   }
  }
 ],
 "metadata": {
  "kernelspec": {
   "display_name": "Python 3",
   "language": "python",
   "name": "python3"
  },
  "language_info": {
   "codemirror_mode": {
    "name": "ipython",
    "version": 2
   },
   "file_extension": ".py",
   "mimetype": "text/x-python",
   "name": "python",
   "nbconvert_exporter": "python",
   "pygments_lexer": "ipython2",
   "version": "2.7.6"
  }
 },
 "nbformat": 4,
 "nbformat_minor": 0
}